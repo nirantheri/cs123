{
 "cells": [
  {
   "cell_type": "markdown",
   "metadata": {},
   "source": [
    "# Disclaimer\n",
    "#### TODO: need to write up a better more fleshed out disclaimer\n",
    "\n",
    "We are not financial advisors!! "
   ]
  },
  {
   "cell_type": "code",
   "execution_count": null,
   "metadata": {},
   "outputs": [],
   "source": [
    "# Libraries used\n",
    "import pandas as pd\n",
    "import yfinance as yf\n",
    "import altair as alt\n",
    "import matplotlib.pyplot as plt\n",
    "import requests\n",
    "import ipywidgets as widgets\n",
    "from ipywidgets import interact\n",
    "from IPython.display import display"
   ]
  },
  {
   "cell_type": "markdown",
   "metadata": {},
   "source": [
    "# Part I: Learning About Key Terms\n",
    "\n",
    "Learning about important concepts in long-term saving. This will set the foundation for users to be able to understand what the key terms are and what they mean. \n",
    "\n",
    "Tasks for user:\n",
    "Reading information on key concepts\n",
    "    "
   ]
  },
  {
   "cell_type": "markdown",
   "metadata": {},
   "source": [
    "**401k Accounts**\n",
    "\n",
    "A 401k is a retirement savings plan offered by employers that allows employees to save and invest a portion of their paycheck before taxes are taken out. The money grows and tax is collected when the money is withdrawn. This is typically at retirement age. \n",
    "\n",
    "401k functions by having contributions automatically deducted from your paycheck. Employers often match a percentage of the employee’s contribution, which can act as an incentive for employees to choose the 401k as a retirement investment. Investment options generally range from mutual funds, stocks, bonds and other assets. \n",
    "\n",
    "Key benefits include tax deferral, employer matching, and high contribution limits. Tax deferral means that contributions reduce taxable income in the year they are made. This can reduce an individual’s tax burden for the year, meaning that less of one’s income will be taxed. Employer matching offers a really compelling reason for using 401k accounts. Employers can match the employee which gives the employees the same amount of money that they originally contributed, creating a larger pool of capital to be invested. Higher contribution limits are in place for those individuals who are older to incentivize continued investment into retirement. \n",
    "\n",
    "Rates of return of 401k accounts depend significantly on how much money is invested and in what investments. The stock market historically has a higher rate of return than other investment products, however it also comes with higher risks. \n",
    "\n",
    "**IRA Accounts**\n",
    "\n",
    "An Individual Retirement Account (IRA) is a personal retirement savings account that offers tax advantages. IRAs are opened through a financial institution like a bank or a brokerage. There are two main types: Traditional IRA and Roth IRA.Traditional IRAs have contributions that are tax-deductible and as a result, taxes are paid upon withdrawal during retirement. Roth IRAs have contributions that are made with after-tax money which means that qualified withdrawals in retirement are tax-free. Some key benefits of the IRA accounts is the flexibility in contributions in which individuals can choose how much to contribute up to the annual limit. \n",
    "\n",
    "**High-Yield Savings Accounts**\n",
    "\n",
    "A High-Yield Savings Account (HYSA) is a type of savings account that offers a higher interest rate than regular savings accounts. These are typically offered by online banks. Deposits are insured by the FDIC (up to $250,000 per depositor, per institution). The interest rate on an HYSA is much higher than traditional savings accounts, sometimes 5-6% per year, compared to 0.01% or less in traditional accounts. \n",
    "Key benefits include higher interest rates: Typically 10 to 20 times the interest rate of a regular savings account. Funds are easily accessible, making it an attractive place for emergency savings or short-term savings goals. Another benefit is that funds are insured by the FDIC, making them very low risk. The interest rates themselves however can vary depending on the bank and the current economic climate.\n",
    "\n",
    "**Saving Account**\n",
    "\n",
    "A Savings Account is a basic type of bank account that allows you to deposit money, earn interest, and withdraw funds. The interest rate is usually lower than a High-Yield Savings Account, but they are widely available. You deposit funds into the account, and the bank pays interest on your balance. There are often limits on the number of withdrawals you can make each month.\n",
    "\n",
    "Funds are insured by the FDIC, up to $250,000. You can access your funds at any time, but some accounts may limit withdrawals. Most savings accounts have low fees or no fees if you maintain a minimum balance. Interest rates are generally low, often less than 0.1% annually, depending on the bank and economic conditions.\n",
    "\n",
    "**Certificate of Deposit (CDs)**\n",
    "\n",
    "A Certificate of Deposit (CD) is a type of time deposit offered by banks. You agree to leave your money in the account for a fixed period (such as 6 months, 1 year, or more), and in return, the bank offers a higher interest rate compared to regular savings accounts. Interest rates are fixed, and the money is generally inaccessible until the CD matures. Early withdrawals usually incur a penalty.\n",
    "\n",
    "Certificates of Deposit (CDs) offer several benefits to investors. They generally provide higher interest rates than regular savings accounts, with the rate being fixed for the term of the CD. One of the main advantages of CDs is their low risk, as they are FDIC-insured up to $250,000 per depositor, ensuring the safety of your investment. Additionally, CDs offer predictability, as you know exactly how much you will earn if you keep the money in the CD until it matures. The rates of return on CDs typically range from 1% to 5%, depending on the term length and prevailing interest rates.\n",
    "\n",
    "**Stock Market**\n",
    "\n",
    "The Stock Market is a marketplace where buyers and sellers trade stocks (also known as shares or equities) in publicly traded companies. Stocks represent ownership in a company, and owning them means you own a part of that company. The stock market allows investors to buy and sell shares, potentially benefiting from both capital gains (the increase in the stock’s price) and dividends (a portion of the company’s earnings distributed to shareholders).\n",
    "\n",
    "This is where new stocks are issued through an Initial Public Offering (IPO). Companies raise capital by selling shares to the public for the first time. After an IPO, shares are bought and sold between investors on stock exchanges like the New York Stock Exchange (NYSE) or NASDAQ. Prices fluctuate based on supply and demand, as well as the company’s performance and external economic factors.\n",
    "\n",
    "The stock market offers several key benefits for investors. One of the most notable advantages is the potential for high returns, as historically, the stock market has delivered an average annual return of 7-10% after inflation, which outperforms many other types of investments. Additionally, when you buy stock, you’re purchasing a piece of the company, which may pay dividends or appreciate in value over time. Another benefit is liquidity, as stocks are generally easy to buy and sell quickly. Finally, the stock market provides a wide range of investment options, such as individual stocks, exchange-traded funds (ETFs), and index funds, all of which allow investors to diversify their portfolios effectively."
   ]
  },
  {
   "cell_type": "markdown",
   "metadata": {},
   "source": [
    "# Part II: Learning about typical key numbers\n",
    "\n",
    "This is where we will learn about typical numbers for specific types of accounts like interest and yield rates. The goal is to use the Alpaca API to get the estimated numbers for different types of accounts with different rates of return. If this does not work, we will manually create the dataset using average rates of return for different accounts depending on our research. \n",
    "\n",
    "Tasks for user:\n",
    "Reviewing the data provided.\n",
    "Deciding on which account types to explore\n"
   ]
  },
  {
   "cell_type": "markdown",
   "metadata": {},
   "source": [
    "## Account Types + Return Rates:\n",
    "\n",
    "401k \n",
    "\n",
    "HYSA\n",
    "\n",
    "IRA\n",
    "\n",
    "Mutual Funds\n",
    "\n",
    "#### TODO: make the table (from API) compatible with the graphing code"
   ]
  },
  {
   "cell_type": "code",
   "execution_count": null,
   "metadata": {},
   "outputs": [],
   "source": [
    "dat = yf.Ticker(\"^SPX\")\n",
    "snp = dat.history(start=\"1980-01-01\", end = \"2025-3-1\", interval = '1mo')\n",
    "dat2 = yf.Ticker(\"ONEQ\")\n",
    "nas = dat2.history(start=\"1980-01-01\", end = \"2025-3-1\", interval = '1mo')\n",
    "dat3 = yf.Ticker(\"^DJI\")\n",
    "dow = dat3.history(start=\"1980-01-01\", end = \"2025-3-1\", interval = '1mo')\n",
    "\n",
    "print(type(dow))"
   ]
  },
  {
   "cell_type": "markdown",
   "metadata": {},
   "source": [
    "# Part III: Putting it all together\n",
    "\n",
    "This is where the user can select specific account types to analyze and input numbers in to help them figure out how much money they plan to contribute (lump-sum amounts, monthly deposits, etc). This will create a visualization of the different types of accounts and the projected growth over time for different accounts. We will use matplotlib and altair to create interactive visualizations for the user’s improved understanding.\n",
    "\n",
    "\n",
    "Tasks for user:\n",
    "Inputting numbers for the data\n",
    "Selecting account types\n",
    "Interpreting the chart output"
   ]
  },
  {
   "cell_type": "markdown",
   "metadata": {},
   "source": [
    "## Key Equations\n",
    "\n",
    "### Compound Interest Calculation\n",
    "Equation $A = P(1 + \\frac{r}{n})^{nt}$\n",
    "\n",
    "    \n",
    "- A\t=\tfinal amount\n",
    "- P\t=\tinitial principal balance\n",
    "- r\t=\tinterest rate\n",
    "- n\t=\tnumber of times interest applied per time period\n",
    "- t\t=\tnumber of time periods elapsed\n",
    "\n",
    "\n",
    "### Future Value Calculation\n",
    "\n",
    "$FV = PV*(1+r)^n$\n",
    "\n",
    "- FV = future value\n",
    "- PV = present value\n",
    "- r = rate\n",
    "- n = number of periods elapsed"
   ]
  },
  {
   "cell_type": "code",
   "execution_count": null,
   "metadata": {},
   "outputs": [],
   "source": [
    "# equation formula (not necessarily going to be used)\n",
    "\n",
    "def calculate_compound_interest(principal, interest, frequency_of_interest, time_periods):\n",
    "    return principal*((1+(interest/frequency_of_interest))^(frequency_of_interest*time_periods))"
   ]
  },
  {
   "cell_type": "code",
   "execution_count": 62,
   "metadata": {},
   "outputs": [
    {
     "data": {
      "application/vnd.jupyter.widget-view+json": {
       "model_id": "d4d5b43ad14e4167a6731919f0ffec19",
       "version_major": 2,
       "version_minor": 0
      },
      "text/plain": [
       "IntSlider(value=0, description='Years to Retirement:')"
      ]
     },
     "metadata": {},
     "output_type": "display_data"
    },
    {
     "data": {
      "application/vnd.jupyter.widget-view+json": {
       "model_id": "395eabebc83a440086312ad9116636a4",
       "version_major": 2,
       "version_minor": 0
      },
      "text/plain": [
       "Dropdown(description='Account Type:', options=('IRA', '401k', 'HYSA'), value='IRA')"
      ]
     },
     "metadata": {},
     "output_type": "display_data"
    },
    {
     "data": {
      "application/vnd.jupyter.widget-view+json": {
       "model_id": "0cb4003ad94f4ae2ba581bb3367c89de",
       "version_major": 2,
       "version_minor": 0
      },
      "text/plain": [
       "IntSlider(value=0, continuous_update=False, description='Deposit Amount Each Year:', max=10000)"
      ]
     },
     "metadata": {},
     "output_type": "display_data"
    }
   ],
   "source": [
    "# create sliders and inputs for values for user\n",
    "# create function to grab the data from the API\n",
    "# create function to plot the data\n",
    "\n",
    "years = widgets.IntSlider(\n",
    "    value=0,\n",
    "    min=0,\n",
    "    max=100,\n",
    "    step=1,\n",
    "    description='Years to Retirement:',\n",
    "    disabled=False,\n",
    "    continuous_update=True,\n",
    "    orientation='horizontal',\n",
    "    readout=True,\n",
    "    readout_format='d'\n",
    ")\n",
    "\n",
    "slider = widgets.IntSlider(\n",
    "    value=0,\n",
    "    min=0,\n",
    "    max=100,\n",
    "    step=1,\n",
    "    description='Years to Retirement:',\n",
    "    disabled=False,\n",
    "    continuous_update=True,\n",
    "    orientation='horizontal',\n",
    "    readout=True,\n",
    "    readout_format='d'\n",
    ")\n",
    "\n",
    "\n",
    "accounts =widgets.Dropdown(\n",
    "    options=['IRA', '401k', 'HYSA'],\n",
    "    value='IRA',\n",
    "    description='Account Type:',\n",
    "    disabled=False,\n",
    ")\n",
    "\n",
    "deposit_per_year = widgets.IntSlider(\n",
    "    value=0,\n",
    "    min=0,\n",
    "    max=10000,\n",
    "    step=1,\n",
    "    description='Deposit Amount Each Year:',\n",
    "    disabled=False,\n",
    "    continuous_update=False,\n",
    "    orientation='horizontal',\n",
    "    readout=True,\n",
    "    readout_format='d'\n",
    ")\n",
    "\n",
    "\n",
    "# https://stackoverflow.com/questions/70411694/how-do-i-update-ipywidget-values-while-running-code\n",
    "# # display(slider)\n",
    "# display(widget1)\n",
    "# def update_value(change):\n",
    "#     print(\"Slider value changed to: %s\" % change.new)\n",
    "\n",
    "\n",
    "# slider.observe(update_value, names='value')\n",
    "# # interact(plt.plot(slider.value, slider.value, 'bo'))\n",
    "display(years)\n",
    "display(accounts)\n",
    "display(deposit_per_year)\n"
   ]
  },
  {
   "cell_type": "code",
   "execution_count": 65,
   "metadata": {},
   "outputs": [
    {
     "data": {
      "text/html": [
       "\n",
       "<style>\n",
       "  #altair-viz-229630dc1b2c406e9743050829461d96.vega-embed {\n",
       "    width: 100%;\n",
       "    display: flex;\n",
       "  }\n",
       "\n",
       "  #altair-viz-229630dc1b2c406e9743050829461d96.vega-embed details,\n",
       "  #altair-viz-229630dc1b2c406e9743050829461d96.vega-embed details summary {\n",
       "    position: relative;\n",
       "  }\n",
       "</style>\n",
       "<div id=\"altair-viz-229630dc1b2c406e9743050829461d96\"></div>\n",
       "<script type=\"text/javascript\">\n",
       "  var VEGA_DEBUG = (typeof VEGA_DEBUG == \"undefined\") ? {} : VEGA_DEBUG;\n",
       "  (function(spec, embedOpt){\n",
       "    let outputDiv = document.currentScript.previousElementSibling;\n",
       "    if (outputDiv.id !== \"altair-viz-229630dc1b2c406e9743050829461d96\") {\n",
       "      outputDiv = document.getElementById(\"altair-viz-229630dc1b2c406e9743050829461d96\");\n",
       "    }\n",
       "\n",
       "    const paths = {\n",
       "      \"vega\": \"https://cdn.jsdelivr.net/npm/vega@5?noext\",\n",
       "      \"vega-lib\": \"https://cdn.jsdelivr.net/npm/vega-lib?noext\",\n",
       "      \"vega-lite\": \"https://cdn.jsdelivr.net/npm/vega-lite@5.20.1?noext\",\n",
       "      \"vega-embed\": \"https://cdn.jsdelivr.net/npm/vega-embed@6?noext\",\n",
       "    };\n",
       "\n",
       "    function maybeLoadScript(lib, version) {\n",
       "      var key = `${lib.replace(\"-\", \"\")}_version`;\n",
       "      return (VEGA_DEBUG[key] == version) ?\n",
       "        Promise.resolve(paths[lib]) :\n",
       "        new Promise(function(resolve, reject) {\n",
       "          var s = document.createElement('script');\n",
       "          document.getElementsByTagName(\"head\")[0].appendChild(s);\n",
       "          s.async = true;\n",
       "          s.onload = () => {\n",
       "            VEGA_DEBUG[key] = version;\n",
       "            return resolve(paths[lib]);\n",
       "          };\n",
       "          s.onerror = () => reject(`Error loading script: ${paths[lib]}`);\n",
       "          s.src = paths[lib];\n",
       "        });\n",
       "    }\n",
       "\n",
       "    function showError(err) {\n",
       "      outputDiv.innerHTML = `<div class=\"error\" style=\"color:red;\">${err}</div>`;\n",
       "      throw err;\n",
       "    }\n",
       "\n",
       "    function displayChart(vegaEmbed) {\n",
       "      vegaEmbed(outputDiv, spec, embedOpt)\n",
       "        .catch(err => showError(`Javascript Error: ${err.message}<br>This usually means there's a typo in your chart specification. See the javascript console for the full traceback.`));\n",
       "    }\n",
       "\n",
       "    if(typeof define === \"function\" && define.amd) {\n",
       "      requirejs.config({paths});\n",
       "      let deps = [\"vega-embed\"];\n",
       "      require(deps, displayChart, err => showError(`Error loading script: ${err.message}`));\n",
       "    } else {\n",
       "      maybeLoadScript(\"vega\", \"5\")\n",
       "        .then(() => maybeLoadScript(\"vega-lite\", \"5.20.1\"))\n",
       "        .then(() => maybeLoadScript(\"vega-embed\", \"6\"))\n",
       "        .catch(showError)\n",
       "        .then(() => displayChart(vegaEmbed));\n",
       "    }\n",
       "  })({\"config\": {\"view\": {\"continuousWidth\": 300, \"continuousHeight\": 300}}, \"data\": {\"name\": \"data-b978fc6cdc7d3d4769ef7e239bae5134\"}, \"mark\": {\"type\": \"line\", \"point\": true}, \"encoding\": {\"color\": {\"field\": \"Type\", \"type\": \"ordinal\"}, \"tooltip\": [{\"field\": \"Years since Investment\", \"type\": \"quantitative\"}, {\"field\": \"Value\", \"type\": \"quantitative\"}], \"x\": {\"field\": \"Years since Investment\", \"title\": \"Years since Investment\", \"type\": \"quantitative\"}, \"y\": {\"field\": \"Value\", \"title\": \"Account Value\", \"type\": \"quantitative\"}}, \"params\": [{\"name\": \"param_13\", \"select\": {\"type\": \"interval\", \"encodings\": [\"x\", \"y\"]}, \"bind\": \"scales\"}], \"title\": \"Projected Values\", \"$schema\": \"https://vega.github.io/schema/vega-lite/v5.20.1.json\", \"datasets\": {\"data-b978fc6cdc7d3d4769ef7e239bae5134\": [{\"Years since Investment\": \"0\", \"Type\": \"Account Value\", \"Value\": 1000.0}, {\"Years since Investment\": \"1\", \"Type\": \"Account Value\", \"Value\": 5903.485}, {\"Years since Investment\": \"2\", \"Type\": \"Account Value\", \"Value\": 11223.766225}, {\"Years since Investment\": \"3\", \"Type\": \"Account Value\", \"Value\": 16996.271354124998}, {\"Years since Investment\": \"4\", \"Type\": \"Account Value\", \"Value\": 23259.439419225622}, {\"Years since Investment\": \"5\", \"Type\": \"Account Value\", \"Value\": 30054.9767698598}, {\"Years since Investment\": \"6\", \"Type\": \"Account Value\", \"Value\": 37428.13479529788}, {\"Years since Investment\": \"7\", \"Type\": \"Account Value\", \"Value\": 45428.0112528982}, {\"Years since Investment\": \"8\", \"Type\": \"Account Value\", \"Value\": 54107.877209394544}, {\"Years since Investment\": \"9\", \"Type\": \"Account Value\", \"Value\": 63525.53177219308}, {\"Years since Investment\": \"10\", \"Type\": \"Account Value\", \"Value\": 73743.68697282948}, {\"Years since Investment\": \"11\", \"Type\": \"Account Value\", \"Value\": 84830.38536552}, {\"Years since Investment\": \"12\", \"Type\": \"Account Value\", \"Value\": 96859.45312158919}, {\"Years since Investment\": \"13\", \"Type\": \"Account Value\", \"Value\": 109910.99163692427}, {\"Years since Investment\": \"14\", \"Type\": \"Account Value\", \"Value\": 124071.91092606283}, {\"Years since Investment\": \"15\", \"Type\": \"Account Value\", \"Value\": 139436.50835477817}, {\"Years since Investment\": \"16\", \"Type\": \"Account Value\", \"Value\": 156107.0965649343}, {\"Years since Investment\": \"17\", \"Type\": \"Account Value\", \"Value\": 174194.6847729537}, {\"Years since Investment\": \"18\", \"Type\": \"Account Value\", \"Value\": 193819.71797865478}, {\"Years since Investment\": \"19\", \"Type\": \"Account Value\", \"Value\": 215112.87900684043}, {\"Years since Investment\": \"20\", \"Type\": \"Account Value\", \"Value\": 238215.95872242187}, {\"Years since Investment\": \"21\", \"Type\": \"Account Value\", \"Value\": 263282.8002138277}, {\"Years since Investment\": \"22\", \"Type\": \"Account Value\", \"Value\": 290480.323232003}, {\"Years since Investment\": \"23\", \"Type\": \"Account Value\", \"Value\": 319989.63570672326}, {\"Years since Investment\": \"24\", \"Type\": \"Account Value\", \"Value\": 352007.2397417947}, {\"Years since Investment\": \"25\", \"Type\": \"Account Value\", \"Value\": 386746.3401198473}, {\"Years since Investment\": \"26\", \"Type\": \"Account Value\", \"Value\": 424438.26403003425}, {\"Years since Investment\": \"27\", \"Type\": \"Account Value\", \"Value\": 465334.0014725871}, {\"Years since Investment\": \"28\", \"Type\": \"Account Value\", \"Value\": 509705.876597757}, {\"Years since Investment\": \"29\", \"Type\": \"Account Value\", \"Value\": 557849.3611085663}, {\"Years since Investment\": \"30\", \"Type\": \"Account Value\", \"Value\": 610085.0418027944}, {\"Years since Investment\": \"31\", \"Type\": \"Account Value\", \"Value\": 666760.7553560319}, {\"Years since Investment\": \"32\", \"Type\": \"Account Value\", \"Value\": 728253.9045612946}, {\"Years since Investment\": \"33\", \"Type\": \"Account Value\", \"Value\": 794973.9714490046}, {\"Years since Investment\": \"34\", \"Type\": \"Account Value\", \"Value\": 867365.24402217}, {\"Years since Investment\": \"35\", \"Type\": \"Account Value\", \"Value\": 945909.7747640543}, {\"Years since Investment\": \"36\", \"Type\": \"Account Value\", \"Value\": 1031130.590618999}, {\"Years since Investment\": \"37\", \"Type\": \"Account Value\", \"Value\": 1123595.1758216138}, {\"Years since Investment\": \"38\", \"Type\": \"Account Value\", \"Value\": 1223919.2507664508}, {\"Years since Investment\": \"39\", \"Type\": \"Account Value\", \"Value\": 1332770.872081599}, {\"Years since Investment\": \"40\", \"Type\": \"Account Value\", \"Value\": 1450874.8812085348}, {\"Years since Investment\": \"41\", \"Type\": \"Account Value\", \"Value\": 1579017.7311112601}, {\"Years since Investment\": \"42\", \"Type\": \"Account Value\", \"Value\": 1718052.7232557172}, {\"Years since Investment\": \"43\", \"Type\": \"Account Value\", \"Value\": 1868905.689732453}, {\"Years since Investment\": \"44\", \"Type\": \"Account Value\", \"Value\": 2032581.1583597115}, {\"Years since Investment\": \"45\", \"Type\": \"Account Value\", \"Value\": 2210169.041820287}, {\"Years since Investment\": \"46\", \"Type\": \"Account Value\", \"Value\": 2402851.895375011}, {\"Years since Investment\": \"47\", \"Type\": \"Account Value\", \"Value\": 2611912.791481887}, {\"Years since Investment\": \"48\", \"Type\": \"Account Value\", \"Value\": 2838743.8637578473}, {\"Years since Investment\": \"49\", \"Type\": \"Account Value\", \"Value\": 3084855.5771772643}, {\"Years since Investment\": \"50\", \"Type\": \"Account Value\", \"Value\": 3351886.7862373316}, {\"Years since Investment\": \"51\", \"Type\": \"Account Value\", \"Value\": 3641615.6480675046}, {\"Years since Investment\": \"52\", \"Type\": \"Account Value\", \"Value\": 3955971.4631532426}, {\"Years since Investment\": \"53\", \"Type\": \"Account Value\", \"Value\": 4297047.522521268}, {\"Years since Investment\": \"54\", \"Type\": \"Account Value\", \"Value\": 4667115.046935575}, {\"Years since Investment\": \"55\", \"Type\": \"Account Value\", \"Value\": 5068638.310925099}, {\"Years since Investment\": \"56\", \"Type\": \"Account Value\", \"Value\": 5504291.052353732}, {\"Years since Investment\": \"57\", \"Type\": \"Account Value\", \"Value\": 5976974.276803799}, {\"Years since Investment\": \"58\", \"Type\": \"Account Value\", \"Value\": 6489835.575332122}, {\"Years since Investment\": \"0\", \"Type\": \"Value with no return\", \"Value\": 1000.0}, {\"Years since Investment\": \"1\", \"Type\": \"Value with no return\", \"Value\": 5441.0}, {\"Years since Investment\": \"2\", \"Type\": \"Value with no return\", \"Value\": 9882.0}, {\"Years since Investment\": \"3\", \"Type\": \"Value with no return\", \"Value\": 14323.0}, {\"Years since Investment\": \"4\", \"Type\": \"Value with no return\", \"Value\": 18764.0}, {\"Years since Investment\": \"5\", \"Type\": \"Value with no return\", \"Value\": 23205.0}, {\"Years since Investment\": \"6\", \"Type\": \"Value with no return\", \"Value\": 27646.0}, {\"Years since Investment\": \"7\", \"Type\": \"Value with no return\", \"Value\": 32087.0}, {\"Years since Investment\": \"8\", \"Type\": \"Value with no return\", \"Value\": 36528.0}, {\"Years since Investment\": \"9\", \"Type\": \"Value with no return\", \"Value\": 40969.0}, {\"Years since Investment\": \"10\", \"Type\": \"Value with no return\", \"Value\": 45410.0}, {\"Years since Investment\": \"11\", \"Type\": \"Value with no return\", \"Value\": 49851.0}, {\"Years since Investment\": \"12\", \"Type\": \"Value with no return\", \"Value\": 54292.0}, {\"Years since Investment\": \"13\", \"Type\": \"Value with no return\", \"Value\": 58733.0}, {\"Years since Investment\": \"14\", \"Type\": \"Value with no return\", \"Value\": 63174.0}, {\"Years since Investment\": \"15\", \"Type\": \"Value with no return\", \"Value\": 67615.0}, {\"Years since Investment\": \"16\", \"Type\": \"Value with no return\", \"Value\": 72056.0}, {\"Years since Investment\": \"17\", \"Type\": \"Value with no return\", \"Value\": 76497.0}, {\"Years since Investment\": \"18\", \"Type\": \"Value with no return\", \"Value\": 80938.0}, {\"Years since Investment\": \"19\", \"Type\": \"Value with no return\", \"Value\": 85379.0}, {\"Years since Investment\": \"20\", \"Type\": \"Value with no return\", \"Value\": 89820.0}, {\"Years since Investment\": \"21\", \"Type\": \"Value with no return\", \"Value\": 94261.0}, {\"Years since Investment\": \"22\", \"Type\": \"Value with no return\", \"Value\": 98702.0}, {\"Years since Investment\": \"23\", \"Type\": \"Value with no return\", \"Value\": 103143.0}, {\"Years since Investment\": \"24\", \"Type\": \"Value with no return\", \"Value\": 107584.0}, {\"Years since Investment\": \"25\", \"Type\": \"Value with no return\", \"Value\": 112025.0}, {\"Years since Investment\": \"26\", \"Type\": \"Value with no return\", \"Value\": 116466.0}, {\"Years since Investment\": \"27\", \"Type\": \"Value with no return\", \"Value\": 120907.0}, {\"Years since Investment\": \"28\", \"Type\": \"Value with no return\", \"Value\": 125348.0}, {\"Years since Investment\": \"29\", \"Type\": \"Value with no return\", \"Value\": 129789.0}, {\"Years since Investment\": \"30\", \"Type\": \"Value with no return\", \"Value\": 134230.0}, {\"Years since Investment\": \"31\", \"Type\": \"Value with no return\", \"Value\": 138671.0}, {\"Years since Investment\": \"32\", \"Type\": \"Value with no return\", \"Value\": 143112.0}, {\"Years since Investment\": \"33\", \"Type\": \"Value with no return\", \"Value\": 147553.0}, {\"Years since Investment\": \"34\", \"Type\": \"Value with no return\", \"Value\": 151994.0}, {\"Years since Investment\": \"35\", \"Type\": \"Value with no return\", \"Value\": 156435.0}, {\"Years since Investment\": \"36\", \"Type\": \"Value with no return\", \"Value\": 160876.0}, {\"Years since Investment\": \"37\", \"Type\": \"Value with no return\", \"Value\": 165317.0}, {\"Years since Investment\": \"38\", \"Type\": \"Value with no return\", \"Value\": 169758.0}, {\"Years since Investment\": \"39\", \"Type\": \"Value with no return\", \"Value\": 174199.0}, {\"Years since Investment\": \"40\", \"Type\": \"Value with no return\", \"Value\": 178640.0}, {\"Years since Investment\": \"41\", \"Type\": \"Value with no return\", \"Value\": 183081.0}, {\"Years since Investment\": \"42\", \"Type\": \"Value with no return\", \"Value\": 187522.0}, {\"Years since Investment\": \"43\", \"Type\": \"Value with no return\", \"Value\": 191963.0}, {\"Years since Investment\": \"44\", \"Type\": \"Value with no return\", \"Value\": 196404.0}, {\"Years since Investment\": \"45\", \"Type\": \"Value with no return\", \"Value\": 200845.0}, {\"Years since Investment\": \"46\", \"Type\": \"Value with no return\", \"Value\": 205286.0}, {\"Years since Investment\": \"47\", \"Type\": \"Value with no return\", \"Value\": 209727.0}, {\"Years since Investment\": \"48\", \"Type\": \"Value with no return\", \"Value\": 214168.0}, {\"Years since Investment\": \"49\", \"Type\": \"Value with no return\", \"Value\": 218609.0}, {\"Years since Investment\": \"50\", \"Type\": \"Value with no return\", \"Value\": 223050.0}, {\"Years since Investment\": \"51\", \"Type\": \"Value with no return\", \"Value\": 227491.0}, {\"Years since Investment\": \"52\", \"Type\": \"Value with no return\", \"Value\": 231932.0}, {\"Years since Investment\": \"53\", \"Type\": \"Value with no return\", \"Value\": 236373.0}, {\"Years since Investment\": \"54\", \"Type\": \"Value with no return\", \"Value\": 240814.0}, {\"Years since Investment\": \"55\", \"Type\": \"Value with no return\", \"Value\": 245255.0}, {\"Years since Investment\": \"56\", \"Type\": \"Value with no return\", \"Value\": 249696.0}, {\"Years since Investment\": \"57\", \"Type\": \"Value with no return\", \"Value\": 254137.0}, {\"Years since Investment\": \"58\", \"Type\": \"Value with no return\", \"Value\": 258578.0}]}}, {\"mode\": \"vega-lite\"});\n",
       "</script>"
      ],
      "text/plain": [
       "alt.Chart(...)"
      ]
     },
     "execution_count": 65,
     "metadata": {},
     "output_type": "execute_result"
    }
   ],
   "source": [
    "# test sheet\n",
    "\n",
    "sheet = pd.read_csv(r\"test.csv\")\n",
    "sheet[\"Interest/Return Rate\"] = sheet[\"Interest/Return Rate\"].str.rstrip('%').astype(float)/100\n",
    "# set vars in a different way\n",
    "\n",
    "preferred_account = accounts.value\n",
    "\n",
    "initial_investment = 1000\n",
    "annual_deposit = deposit_per_year.value\n",
    "number_periods = years.value\n",
    "rate_per_period = 1\n",
    "\n",
    "\n",
    "interest_rate = sheet[\"Interest/Return Rate\"].where(sheet[\"Account\"]==preferred_account).dropna().astype(float).values\n",
    "\n",
    "# # create frame for graphing\n",
    "\n",
    "data = {\"Years since Investment\":str(0), \"Account Value\":[initial_investment], \"Value with no return\":[initial_investment]}\n",
    "data = pd.DataFrame(data)\n",
    "\n",
    "present_value = initial_investment\n",
    "no_action = initial_investment\n",
    "\n",
    "for period in range(number_periods):\n",
    "    no_action += annual_deposit\n",
    "\n",
    "    present_value +=annual_deposit\n",
    "    present_value = present_value * (1 + interest_rate)\n",
    "\n",
    "    temp_dict = {\"Years since Investment\":str(period+1), \"Account Value\":present_value, \"Value with no return\":no_action}\n",
    "    temp = pd.DataFrame(temp_dict)\n",
    "\n",
    "   \n",
    "    data= pd.concat([data, temp], ignore_index=True)\n",
    "\n",
    "# graph\n",
    "\n",
    "# change to wide data\n",
    "data_alt = pd.melt(data, \"Years since Investment\", var_name=\"Type\", value_name=\"Value\")\n",
    "\n",
    "alt.Chart(data_alt, title=\"Projected Values\").mark_line(point=True).encode(\n",
    "    alt.X(\"Years since Investment:Q\", title=\"Years since Investment\"),\n",
    "    alt.Y(\"Value:Q\", title=\"Account Value\"),\n",
    "    alt.Color(\"Type:O\"),\n",
    "    alt.Tooltip([\"Years since Investment:Q\", \"Value:Q\"]),\n",
    ").interactive()\n",
    "\n",
    "#todo https://altair-viz.github.io/gallery/multiline_tooltip_standard.html#gallery-multiline-tooltip-standard\n"
   ]
  },
  {
   "cell_type": "markdown",
   "metadata": {},
   "source": [
    "# Part IV:\n",
    "\n",
    "Summary of the information and inputs for the user to peruse and review what they’ve learned. They should be able to understand the content that they’ve learned throughout the tutorial and be able to understand the implications of different choices of accounts for their financial future. We will include guiding questions.\n",
    "\n",
    "\n",
    "Tasks for user:\n",
    "Reading the summary and understanding the information \n",
    "Making a plan for their retirement\n"
   ]
  },
  {
   "cell_type": "markdown",
   "metadata": {},
   "source": [
    "#TODO create the fleshed out summary\n",
    "\n",
    "Key Considerations for Future Plans:\n",
    "- How long till you retire?\n",
    "- What tax benefits do you prefer?\n",
    "- How much can you afford to put in per year? Can you afford to max out your contributions?\n"
   ]
  }
 ],
 "metadata": {
  "kernelspec": {
   "display_name": "cs181",
   "language": "python",
   "name": "python3"
  },
  "language_info": {
   "codemirror_mode": {
    "name": "ipython",
    "version": 3
   },
   "file_extension": ".py",
   "mimetype": "text/x-python",
   "name": "python",
   "nbconvert_exporter": "python",
   "pygments_lexer": "ipython3",
   "version": "3.12.7"
  }
 },
 "nbformat": 4,
 "nbformat_minor": 2
}
