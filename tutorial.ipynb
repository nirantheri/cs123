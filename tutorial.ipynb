{
 "cells": [
  {
   "cell_type": "markdown",
   "metadata": {},
   "source": [
    "# Part I:\n",
    "    Learning about important concepts in long-term saving. This will set the foundation for users to be able to understand what the key terms are and what they mean. This will be formatted in the Markdown language.\n",
    "    Tasks for user:\n",
    "    Reading information on key concepts\n",
    "    Compounded interest\n",
    "    Retirement Accounts (401k, IRA)\n",
    "    High-Yield Savings Accounts\n",
    "    Rates of Return"
   ]
  },
  {
   "cell_type": "markdown",
   "metadata": {},
   "source": [
    "## Compounded Interest\n",
    "\n",
    "## 401k Accounts\n",
    "\n",
    "## IRA Accounts\n",
    "\n",
    "## High-Yield Savings Accounts\n",
    "\n",
    "## Rates of Return\n",
    "\n",
    "## Key Equations"
   ]
  },
  {
   "cell_type": "markdown",
   "metadata": {},
   "source": [
    "# Part II: \n",
    "    This is where we will learn about typical numbers for specific types of accounts like interest and yield rates. The goal is to use the Alpaca API to get the estimated numbers for different types of accounts with different rates of return. If this does not work, we will manually create the dataset using average rates of return for different accounts depending on our research. We plan to use pandas to parse the data. We will use matplotlib and altair to create a cleaner table.\n",
    "    Tasks for user:\n",
    "    Reviewing the data provided.\n",
    "    Deciding on which account types to explore\n"
   ]
  },
  {
   "cell_type": "code",
   "execution_count": null,
   "metadata": {},
   "outputs": [],
   "source": [
    "# Libraries\n",
    "import pandas as pd\n",
    "import matplotlib.pyplot as plt\n",
    "import altair as alt\n",
    "import requests\n"
   ]
  },
  {
   "cell_type": "markdown",
   "metadata": {},
   "source": [
    "Account Types + Return Rates:\n",
    "\n",
    "401k \n",
    "HYSA\n",
    "IRA\n",
    "<!-- Mutual Funds -->"
   ]
  },
  {
   "cell_type": "markdown",
   "metadata": {},
   "source": [
    "Part III:\n",
    "    This is where the user can select specific account types to analyze and input numbers in to help them figure out how much money they plan to contribute (lump-sum amounts, monthly deposits, etc). This will create a visualization of the different types of accounts and the projected growth over time for different accounts. We will use matplotlib and altair to create interactive visualizations for the user’s improved understanding.\n",
    "    Tasks for user:\n",
    "    Inputting numbers for the data\n",
    "    initial amount of savings\n",
    "    monthly contributions\n",
    "    rate of return\n",
    "    Optional: interest rate\n",
    "    Selecting account types"
   ]
  },
  {
   "cell_type": "code",
   "execution_count": null,
   "metadata": {},
   "outputs": [],
   "source": [
    "# create sliders and inputs for values for user\n",
    "# create function to grab the data from the API\n",
    "# create function to plot the data"
   ]
  },
  {
   "cell_type": "markdown",
   "metadata": {},
   "source": [
    "Part IV:\n",
    "    Summary of the information and inputs for the user to peruse and review what they’ve learned. They should be able to understand the content that they’ve learned throughout the tutorial and be able to understand the implications of different choices of accounts for their financial future. This section will be formatted in Markdown.\n",
    "    Tasks for user:\n",
    "    Reading and understanding information\n",
    "    Making a plan for their retirement\n"
   ]
  },
  {
   "cell_type": "markdown",
   "metadata": {},
   "source": [
    "#TODO\n",
    "\n",
    "Create a summary"
   ]
  }
 ],
 "metadata": {
  "kernelspec": {
   "display_name": "cs181",
   "language": "python",
   "name": "python3"
  },
  "language_info": {
   "name": "python",
   "version": "3.12.7"
  }
 },
 "nbformat": 4,
 "nbformat_minor": 2
}
