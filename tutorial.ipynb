{
 "cells": [
  {
   "cell_type": "markdown",
   "metadata": {},
   "source": [
    "# Disclaimer\n",
    "\n",
    "<! We are not financial advisors!! >"
   ]
  },
  {
   "cell_type": "markdown",
   "metadata": {},
   "source": [
    "# Part I:\n",
    "    Learning about important concepts in long-term saving. This will set the foundation for users to be able to understand what the key terms are and what they mean. This will be formatted in the Markdown language.\n",
    "    Tasks for user:\n",
    "    Reading information on key concepts\n",
    "    Compounded interest\n",
    "    Retirement Accounts (401k, IRA)\n",
    "    High-Yield Savings Accounts\n",
    "    Rates of Return"
   ]
  },
  {
   "cell_type": "markdown",
   "metadata": {},
   "source": [
    "## Compounded Interest\n",
    "\n",
    "## 401k Accounts\n",
    "\n",
    "## IRA Accounts\n",
    "\n",
    "## High-Yield Savings Accounts\n",
    "\n",
    "## Rates of Return\n",
    "\n",
    "## Key Equations"
   ]
  },
  {
   "cell_type": "markdown",
   "metadata": {},
   "source": [
    "# Part II: \n",
    "    This is where we will learn about typical numbers for specific types of accounts like interest and yield rates. The goal is to use the Alpaca API to get the estimated numbers for different types of accounts with different rates of return. If this does not work, we will manually create the dataset using average rates of return for different accounts depending on our research. We plan to use pandas to parse the data. We will use matplotlib and altair to create a cleaner table.\n",
    "    Tasks for user:\n",
    "    Reviewing the data provided.\n",
    "    Deciding on which account types to explore\n"
   ]
  },
  {
   "cell_type": "code",
   "execution_count": 2,
   "metadata": {},
   "outputs": [],
   "source": [
    "# Libraries\n",
    "import pandas as pd\n",
    "import yfinance as yf\n",
    "import altair as alt\n",
    "import matplotlib.pyplot as plt\n",
    "import requests\n",
    "import ipywidgets as widgets\n",
    "from ipywidgets import interact\n",
    "from IPython.display import display"
   ]
  },
  {
   "cell_type": "markdown",
   "metadata": {},
   "source": [
    "Account Types + Return Rates:\n",
    "\n",
    "401k \n",
    "HYSA\n",
    "IRA\n",
    "<!-- Mutual Funds -->"
   ]
  },
  {
   "cell_type": "code",
   "execution_count": 3,
   "metadata": {},
   "outputs": [
    {
     "name": "stdout",
     "output_type": "stream",
     "text": [
      "                                   Open          High           Low  \\\n",
      "Date                                                                  \n",
      "1992-01-01 00:00:00-05:00   3152.100098   3299.189941   3139.310059   \n",
      "1992-02-01 00:00:00-05:00   3223.399902   3293.379883   3207.959961   \n",
      "1992-03-01 00:00:00-05:00   3267.699951   3299.639893   3188.280029   \n",
      "1992-04-01 00:00:00-05:00   3235.500000   3366.500000   3161.229980   \n",
      "1992-05-01 00:00:00-04:00   3359.100098   3440.669922   3324.020020   \n",
      "...                                 ...           ...           ...   \n",
      "2024-10-01 00:00:00-04:00  42262.968750  43325.089844  41704.628906   \n",
      "2024-11-01 00:00:00-04:00  41869.820312  45071.289062  41647.300781   \n",
      "2024-12-01 00:00:00-05:00  44925.859375  45073.628906  42146.328125   \n",
      "2025-01-01 00:00:00-05:00  42660.089844  45054.359375  41844.890625   \n",
      "2025-02-01 00:00:00-05:00  44268.148438  44966.628906  43100.871094   \n",
      "\n",
      "                                  Close       Volume  Dividends  Stock Splits  \n",
      "Date                                                                           \n",
      "1992-01-01 00:00:00-05:00   3223.399902    561160000        0.0           0.0  \n",
      "1992-02-01 00:00:00-05:00   3267.699951    411150000        0.0           0.0  \n",
      "1992-03-01 00:00:00-05:00   3235.500000    402410000        0.0           0.0  \n",
      "1992-04-01 00:00:00-05:00   3359.100098    458300000        0.0           0.0  \n",
      "1992-05-01 00:00:00-04:00   3396.899902    388240000        0.0           0.0  \n",
      "...                                 ...          ...        ...           ...  \n",
      "2024-10-01 00:00:00-04:00  41763.460938   7172340000        0.0           0.0  \n",
      "2024-11-01 00:00:00-04:00  44910.648438  10146270000        0.0           0.0  \n",
      "2024-12-01 00:00:00-05:00  42544.218750  10249910000        0.0           0.0  \n",
      "2025-01-01 00:00:00-05:00  44544.660156  12074770000        0.0           0.0  \n",
      "2025-02-01 00:00:00-05:00  43840.910156  10732680000        0.0           0.0  \n",
      "\n",
      "[398 rows x 7 columns]\n"
     ]
    }
   ],
   "source": [
    "dat = yf.Ticker(\"^SPX\")\n",
    "snp = dat.history(start=\"1980-01-01\", end = \"2025-3-1\", interval = '1mo')\n",
    "dat2 = yf.Ticker(\"ONEQ\")\n",
    "nas = dat2.history(start=\"1980-01-01\", end = \"2025-3-1\", interval = '1mo')\n",
    "dat3 = yf.Ticker(\"^DJI\")\n",
    "dow = dat3.history(start=\"1980-01-01\", end = \"2025-3-1\", interval = '1mo')\n",
    "\n",
    "print(dow)"
   ]
  },
  {
   "cell_type": "markdown",
   "metadata": {},
   "source": [
    "Part III:\n",
    "    This is where the user can select specific account types to analyze and input numbers in to help them figure out how much money they plan to contribute (lump-sum amounts, monthly deposits, etc). This will create a visualization of the different types of accounts and the projected growth over time for different accounts. We will use matplotlib and altair to create interactive visualizations for the user’s improved understanding.\n",
    "    Tasks for user:\n",
    "    Inputting numbers for the data\n",
    "    initial amount of savings\n",
    "    monthly contributions\n",
    "    rate of return\n",
    "    Optional: interest rate\n",
    "    Selecting account types\n",
    "\n",
    "Equation $A = P(1 + \\frac{r}{n})^{nt}$\n",
    "\n",
    "    \n",
    "- A\t=\tfinal amount\n",
    "- P\t=\tinitial principal balance\n",
    "- r\t=\tinterest rate\n",
    "- n\t=\tnumber of times interest applied per time period\n",
    "- t\t=\tnumber of time periods elapsed\n",
    "\n",
    "\n",
    "Can also look at it with deposits\n",
    "\n",
    "$FV = PV(1+r)^n$\n"
   ]
  },
  {
   "cell_type": "code",
   "execution_count": 4,
   "metadata": {},
   "outputs": [],
   "source": [
    "# equation formula\n",
    "\n",
    "def calculate_compound_interest(principal, interest, frequency_of_interest, time_periods):\n",
    "    return principal*((1+(interest/frequency_of_interest))^(frequency_of_interest*time_periods))"
   ]
  },
  {
   "cell_type": "code",
   "execution_count": 62,
   "metadata": {},
   "outputs": [
    {
     "data": {
      "application/vnd.jupyter.widget-view+json": {
       "model_id": "d4d5b43ad14e4167a6731919f0ffec19",
       "version_major": 2,
       "version_minor": 0
      },
      "text/plain": [
       "IntSlider(value=0, description='Years to Retirement:')"
      ]
     },
     "metadata": {},
     "output_type": "display_data"
    },
    {
     "data": {
      "application/vnd.jupyter.widget-view+json": {
       "model_id": "395eabebc83a440086312ad9116636a4",
       "version_major": 2,
       "version_minor": 0
      },
      "text/plain": [
       "Dropdown(description='Account Type:', options=('IRA', '401k', 'HYSA'), value='IRA')"
      ]
     },
     "metadata": {},
     "output_type": "display_data"
    },
    {
     "data": {
      "application/vnd.jupyter.widget-view+json": {
       "model_id": "0cb4003ad94f4ae2ba581bb3367c89de",
       "version_major": 2,
       "version_minor": 0
      },
      "text/plain": [
       "IntSlider(value=0, continuous_update=False, description='Deposit Amount Each Year:', max=10000)"
      ]
     },
     "metadata": {},
     "output_type": "display_data"
    }
   ],
   "source": [
    "# create sliders and inputs for values for user\n",
    "# create function to grab the data from the API\n",
    "# create function to plot the data\n",
    "\n",
    "years = widgets.IntSlider(\n",
    "    value=0,\n",
    "    min=0,\n",
    "    max=100,\n",
    "    step=1,\n",
    "    description='Years to Retirement:',\n",
    "    disabled=False,\n",
    "    continuous_update=True,\n",
    "    orientation='horizontal',\n",
    "    readout=True,\n",
    "    readout_format='d'\n",
    ")\n",
    "\n",
    "slider = widgets.IntSlider(\n",
    "    value=0,\n",
    "    min=0,\n",
    "    max=100,\n",
    "    step=1,\n",
    "    description='Years to Retirement:',\n",
    "    disabled=False,\n",
    "    continuous_update=True,\n",
    "    orientation='horizontal',\n",
    "    readout=True,\n",
    "    readout_format='d'\n",
    ")\n",
    "\n",
    "\n",
    "accounts =widgets.Dropdown(\n",
    "    options=['IRA', '401k', 'HYSA'],\n",
    "    value='IRA',\n",
    "    description='Account Type:',\n",
    "    disabled=False,\n",
    ")\n",
    "\n",
    "deposit_per_year = widgets.IntSlider(\n",
    "    value=0,\n",
    "    min=0,\n",
    "    max=10000,\n",
    "    step=1,\n",
    "    description='Deposit Amount Each Year:',\n",
    "    disabled=False,\n",
    "    continuous_update=False,\n",
    "    orientation='horizontal',\n",
    "    readout=True,\n",
    "    readout_format='d'\n",
    ")\n",
    "\n",
    "\n",
    "# https://stackoverflow.com/questions/70411694/how-do-i-update-ipywidget-values-while-running-code\n",
    "# # display(slider)\n",
    "# display(widget1)\n",
    "# def update_value(change):\n",
    "#     print(\"Slider value changed to: %s\" % change.new)\n",
    "\n",
    "\n",
    "# slider.observe(update_value, names='value')\n",
    "# # interact(plt.plot(slider.value, slider.value, 'bo'))\n",
    "display(years)\n",
    "display(accounts)\n",
    "display(deposit_per_year)\n"
   ]
  },
  {
   "cell_type": "code",
   "execution_count": 65,
   "metadata": {},
   "outputs": [
    {
     "data": {
      "text/html": [
       "\n",
       "<style>\n",
       "  #altair-viz-229630dc1b2c406e9743050829461d96.vega-embed {\n",
       "    width: 100%;\n",
       "    display: flex;\n",
       "  }\n",
       "\n",
       "  #altair-viz-229630dc1b2c406e9743050829461d96.vega-embed details,\n",
       "  #altair-viz-229630dc1b2c406e9743050829461d96.vega-embed details summary {\n",
       "    position: relative;\n",
       "  }\n",
       "</style>\n",
       "<div id=\"altair-viz-229630dc1b2c406e9743050829461d96\"></div>\n",
       "<script type=\"text/javascript\">\n",
       "  var VEGA_DEBUG = (typeof VEGA_DEBUG == \"undefined\") ? {} : VEGA_DEBUG;\n",
       "  (function(spec, embedOpt){\n",
       "    let outputDiv = document.currentScript.previousElementSibling;\n",
       "    if (outputDiv.id !== \"altair-viz-229630dc1b2c406e9743050829461d96\") {\n",
       "      outputDiv = document.getElementById(\"altair-viz-229630dc1b2c406e9743050829461d96\");\n",
       "    }\n",
       "\n",
       "    const paths = {\n",
       "      \"vega\": \"https://cdn.jsdelivr.net/npm/vega@5?noext\",\n",
       "      \"vega-lib\": \"https://cdn.jsdelivr.net/npm/vega-lib?noext\",\n",
       "      \"vega-lite\": \"https://cdn.jsdelivr.net/npm/vega-lite@5.20.1?noext\",\n",
       "      \"vega-embed\": \"https://cdn.jsdelivr.net/npm/vega-embed@6?noext\",\n",
       "    };\n",
       "\n",
       "    function maybeLoadScript(lib, version) {\n",
       "      var key = `${lib.replace(\"-\", \"\")}_version`;\n",
       "      return (VEGA_DEBUG[key] == version) ?\n",
       "        Promise.resolve(paths[lib]) :\n",
       "        new Promise(function(resolve, reject) {\n",
       "          var s = document.createElement('script');\n",
       "          document.getElementsByTagName(\"head\")[0].appendChild(s);\n",
       "          s.async = true;\n",
       "          s.onload = () => {\n",
       "            VEGA_DEBUG[key] = version;\n",
       "            return resolve(paths[lib]);\n",
       "          };\n",
       "          s.onerror = () => reject(`Error loading script: ${paths[lib]}`);\n",
       "          s.src = paths[lib];\n",
       "        });\n",
       "    }\n",
       "\n",
       "    function showError(err) {\n",
       "      outputDiv.innerHTML = `<div class=\"error\" style=\"color:red;\">${err}</div>`;\n",
       "      throw err;\n",
       "    }\n",
       "\n",
       "    function displayChart(vegaEmbed) {\n",
       "      vegaEmbed(outputDiv, spec, embedOpt)\n",
       "        .catch(err => showError(`Javascript Error: ${err.message}<br>This usually means there's a typo in your chart specification. See the javascript console for the full traceback.`));\n",
       "    }\n",
       "\n",
       "    if(typeof define === \"function\" && define.amd) {\n",
       "      requirejs.config({paths});\n",
       "      let deps = [\"vega-embed\"];\n",
       "      require(deps, displayChart, err => showError(`Error loading script: ${err.message}`));\n",
       "    } else {\n",
       "      maybeLoadScript(\"vega\", \"5\")\n",
       "        .then(() => maybeLoadScript(\"vega-lite\", \"5.20.1\"))\n",
       "        .then(() => maybeLoadScript(\"vega-embed\", \"6\"))\n",
       "        .catch(showError)\n",
       "        .then(() => displayChart(vegaEmbed));\n",
       "    }\n",
       "  })({\"config\": {\"view\": {\"continuousWidth\": 300, \"continuousHeight\": 300}}, \"data\": {\"name\": \"data-b978fc6cdc7d3d4769ef7e239bae5134\"}, \"mark\": {\"type\": \"line\", \"point\": true}, \"encoding\": {\"color\": {\"field\": \"Type\", \"type\": \"ordinal\"}, \"tooltip\": [{\"field\": \"Years since Investment\", \"type\": \"quantitative\"}, {\"field\": \"Value\", \"type\": \"quantitative\"}], \"x\": {\"field\": \"Years since Investment\", \"title\": \"Years since Investment\", \"type\": \"quantitative\"}, \"y\": {\"field\": \"Value\", \"title\": \"Account Value\", \"type\": \"quantitative\"}}, \"params\": [{\"name\": \"param_13\", \"select\": {\"type\": \"interval\", \"encodings\": [\"x\", \"y\"]}, \"bind\": \"scales\"}], \"title\": \"Projected Values\", \"$schema\": \"https://vega.github.io/schema/vega-lite/v5.20.1.json\", \"datasets\": {\"data-b978fc6cdc7d3d4769ef7e239bae5134\": [{\"Years since Investment\": \"0\", \"Type\": \"Account Value\", \"Value\": 1000.0}, {\"Years since Investment\": \"1\", \"Type\": \"Account Value\", \"Value\": 5903.485}, {\"Years since Investment\": \"2\", \"Type\": \"Account Value\", \"Value\": 11223.766225}, {\"Years since Investment\": \"3\", \"Type\": \"Account Value\", \"Value\": 16996.271354124998}, {\"Years since Investment\": \"4\", \"Type\": \"Account Value\", \"Value\": 23259.439419225622}, {\"Years since Investment\": \"5\", \"Type\": \"Account Value\", \"Value\": 30054.9767698598}, {\"Years since Investment\": \"6\", \"Type\": \"Account Value\", \"Value\": 37428.13479529788}, {\"Years since Investment\": \"7\", \"Type\": \"Account Value\", \"Value\": 45428.0112528982}, {\"Years since Investment\": \"8\", \"Type\": \"Account Value\", \"Value\": 54107.877209394544}, {\"Years since Investment\": \"9\", \"Type\": \"Account Value\", \"Value\": 63525.53177219308}, {\"Years since Investment\": \"10\", \"Type\": \"Account Value\", \"Value\": 73743.68697282948}, {\"Years since Investment\": \"11\", \"Type\": \"Account Value\", \"Value\": 84830.38536552}, {\"Years since Investment\": \"12\", \"Type\": \"Account Value\", \"Value\": 96859.45312158919}, {\"Years since Investment\": \"13\", \"Type\": \"Account Value\", \"Value\": 109910.99163692427}, {\"Years since Investment\": \"14\", \"Type\": \"Account Value\", \"Value\": 124071.91092606283}, {\"Years since Investment\": \"15\", \"Type\": \"Account Value\", \"Value\": 139436.50835477817}, {\"Years since Investment\": \"16\", \"Type\": \"Account Value\", \"Value\": 156107.0965649343}, {\"Years since Investment\": \"17\", \"Type\": \"Account Value\", \"Value\": 174194.6847729537}, {\"Years since Investment\": \"18\", \"Type\": \"Account Value\", \"Value\": 193819.71797865478}, {\"Years since Investment\": \"19\", \"Type\": \"Account Value\", \"Value\": 215112.87900684043}, {\"Years since Investment\": \"20\", \"Type\": \"Account Value\", \"Value\": 238215.95872242187}, {\"Years since Investment\": \"21\", \"Type\": \"Account Value\", \"Value\": 263282.8002138277}, {\"Years since Investment\": \"22\", \"Type\": \"Account Value\", \"Value\": 290480.323232003}, {\"Years since Investment\": \"23\", \"Type\": \"Account Value\", \"Value\": 319989.63570672326}, {\"Years since Investment\": \"24\", \"Type\": \"Account Value\", \"Value\": 352007.2397417947}, {\"Years since Investment\": \"25\", \"Type\": \"Account Value\", \"Value\": 386746.3401198473}, {\"Years since Investment\": \"26\", \"Type\": \"Account Value\", \"Value\": 424438.26403003425}, {\"Years since Investment\": \"27\", \"Type\": \"Account Value\", \"Value\": 465334.0014725871}, {\"Years since Investment\": \"28\", \"Type\": \"Account Value\", \"Value\": 509705.876597757}, {\"Years since Investment\": \"29\", \"Type\": \"Account Value\", \"Value\": 557849.3611085663}, {\"Years since Investment\": \"30\", \"Type\": \"Account Value\", \"Value\": 610085.0418027944}, {\"Years since Investment\": \"31\", \"Type\": \"Account Value\", \"Value\": 666760.7553560319}, {\"Years since Investment\": \"32\", \"Type\": \"Account Value\", \"Value\": 728253.9045612946}, {\"Years since Investment\": \"33\", \"Type\": \"Account Value\", \"Value\": 794973.9714490046}, {\"Years since Investment\": \"34\", \"Type\": \"Account Value\", \"Value\": 867365.24402217}, {\"Years since Investment\": \"35\", \"Type\": \"Account Value\", \"Value\": 945909.7747640543}, {\"Years since Investment\": \"36\", \"Type\": \"Account Value\", \"Value\": 1031130.590618999}, {\"Years since Investment\": \"37\", \"Type\": \"Account Value\", \"Value\": 1123595.1758216138}, {\"Years since Investment\": \"38\", \"Type\": \"Account Value\", \"Value\": 1223919.2507664508}, {\"Years since Investment\": \"39\", \"Type\": \"Account Value\", \"Value\": 1332770.872081599}, {\"Years since Investment\": \"40\", \"Type\": \"Account Value\", \"Value\": 1450874.8812085348}, {\"Years since Investment\": \"41\", \"Type\": \"Account Value\", \"Value\": 1579017.7311112601}, {\"Years since Investment\": \"42\", \"Type\": \"Account Value\", \"Value\": 1718052.7232557172}, {\"Years since Investment\": \"43\", \"Type\": \"Account Value\", \"Value\": 1868905.689732453}, {\"Years since Investment\": \"44\", \"Type\": \"Account Value\", \"Value\": 2032581.1583597115}, {\"Years since Investment\": \"45\", \"Type\": \"Account Value\", \"Value\": 2210169.041820287}, {\"Years since Investment\": \"46\", \"Type\": \"Account Value\", \"Value\": 2402851.895375011}, {\"Years since Investment\": \"47\", \"Type\": \"Account Value\", \"Value\": 2611912.791481887}, {\"Years since Investment\": \"48\", \"Type\": \"Account Value\", \"Value\": 2838743.8637578473}, {\"Years since Investment\": \"49\", \"Type\": \"Account Value\", \"Value\": 3084855.5771772643}, {\"Years since Investment\": \"50\", \"Type\": \"Account Value\", \"Value\": 3351886.7862373316}, {\"Years since Investment\": \"51\", \"Type\": \"Account Value\", \"Value\": 3641615.6480675046}, {\"Years since Investment\": \"52\", \"Type\": \"Account Value\", \"Value\": 3955971.4631532426}, {\"Years since Investment\": \"53\", \"Type\": \"Account Value\", \"Value\": 4297047.522521268}, {\"Years since Investment\": \"54\", \"Type\": \"Account Value\", \"Value\": 4667115.046935575}, {\"Years since Investment\": \"55\", \"Type\": \"Account Value\", \"Value\": 5068638.310925099}, {\"Years since Investment\": \"56\", \"Type\": \"Account Value\", \"Value\": 5504291.052353732}, {\"Years since Investment\": \"57\", \"Type\": \"Account Value\", \"Value\": 5976974.276803799}, {\"Years since Investment\": \"58\", \"Type\": \"Account Value\", \"Value\": 6489835.575332122}, {\"Years since Investment\": \"0\", \"Type\": \"Value with no return\", \"Value\": 1000.0}, {\"Years since Investment\": \"1\", \"Type\": \"Value with no return\", \"Value\": 5441.0}, {\"Years since Investment\": \"2\", \"Type\": \"Value with no return\", \"Value\": 9882.0}, {\"Years since Investment\": \"3\", \"Type\": \"Value with no return\", \"Value\": 14323.0}, {\"Years since Investment\": \"4\", \"Type\": \"Value with no return\", \"Value\": 18764.0}, {\"Years since Investment\": \"5\", \"Type\": \"Value with no return\", \"Value\": 23205.0}, {\"Years since Investment\": \"6\", \"Type\": \"Value with no return\", \"Value\": 27646.0}, {\"Years since Investment\": \"7\", \"Type\": \"Value with no return\", \"Value\": 32087.0}, {\"Years since Investment\": \"8\", \"Type\": \"Value with no return\", \"Value\": 36528.0}, {\"Years since Investment\": \"9\", \"Type\": \"Value with no return\", \"Value\": 40969.0}, {\"Years since Investment\": \"10\", \"Type\": \"Value with no return\", \"Value\": 45410.0}, {\"Years since Investment\": \"11\", \"Type\": \"Value with no return\", \"Value\": 49851.0}, {\"Years since Investment\": \"12\", \"Type\": \"Value with no return\", \"Value\": 54292.0}, {\"Years since Investment\": \"13\", \"Type\": \"Value with no return\", \"Value\": 58733.0}, {\"Years since Investment\": \"14\", \"Type\": \"Value with no return\", \"Value\": 63174.0}, {\"Years since Investment\": \"15\", \"Type\": \"Value with no return\", \"Value\": 67615.0}, {\"Years since Investment\": \"16\", \"Type\": \"Value with no return\", \"Value\": 72056.0}, {\"Years since Investment\": \"17\", \"Type\": \"Value with no return\", \"Value\": 76497.0}, {\"Years since Investment\": \"18\", \"Type\": \"Value with no return\", \"Value\": 80938.0}, {\"Years since Investment\": \"19\", \"Type\": \"Value with no return\", \"Value\": 85379.0}, {\"Years since Investment\": \"20\", \"Type\": \"Value with no return\", \"Value\": 89820.0}, {\"Years since Investment\": \"21\", \"Type\": \"Value with no return\", \"Value\": 94261.0}, {\"Years since Investment\": \"22\", \"Type\": \"Value with no return\", \"Value\": 98702.0}, {\"Years since Investment\": \"23\", \"Type\": \"Value with no return\", \"Value\": 103143.0}, {\"Years since Investment\": \"24\", \"Type\": \"Value with no return\", \"Value\": 107584.0}, {\"Years since Investment\": \"25\", \"Type\": \"Value with no return\", \"Value\": 112025.0}, {\"Years since Investment\": \"26\", \"Type\": \"Value with no return\", \"Value\": 116466.0}, {\"Years since Investment\": \"27\", \"Type\": \"Value with no return\", \"Value\": 120907.0}, {\"Years since Investment\": \"28\", \"Type\": \"Value with no return\", \"Value\": 125348.0}, {\"Years since Investment\": \"29\", \"Type\": \"Value with no return\", \"Value\": 129789.0}, {\"Years since Investment\": \"30\", \"Type\": \"Value with no return\", \"Value\": 134230.0}, {\"Years since Investment\": \"31\", \"Type\": \"Value with no return\", \"Value\": 138671.0}, {\"Years since Investment\": \"32\", \"Type\": \"Value with no return\", \"Value\": 143112.0}, {\"Years since Investment\": \"33\", \"Type\": \"Value with no return\", \"Value\": 147553.0}, {\"Years since Investment\": \"34\", \"Type\": \"Value with no return\", \"Value\": 151994.0}, {\"Years since Investment\": \"35\", \"Type\": \"Value with no return\", \"Value\": 156435.0}, {\"Years since Investment\": \"36\", \"Type\": \"Value with no return\", \"Value\": 160876.0}, {\"Years since Investment\": \"37\", \"Type\": \"Value with no return\", \"Value\": 165317.0}, {\"Years since Investment\": \"38\", \"Type\": \"Value with no return\", \"Value\": 169758.0}, {\"Years since Investment\": \"39\", \"Type\": \"Value with no return\", \"Value\": 174199.0}, {\"Years since Investment\": \"40\", \"Type\": \"Value with no return\", \"Value\": 178640.0}, {\"Years since Investment\": \"41\", \"Type\": \"Value with no return\", \"Value\": 183081.0}, {\"Years since Investment\": \"42\", \"Type\": \"Value with no return\", \"Value\": 187522.0}, {\"Years since Investment\": \"43\", \"Type\": \"Value with no return\", \"Value\": 191963.0}, {\"Years since Investment\": \"44\", \"Type\": \"Value with no return\", \"Value\": 196404.0}, {\"Years since Investment\": \"45\", \"Type\": \"Value with no return\", \"Value\": 200845.0}, {\"Years since Investment\": \"46\", \"Type\": \"Value with no return\", \"Value\": 205286.0}, {\"Years since Investment\": \"47\", \"Type\": \"Value with no return\", \"Value\": 209727.0}, {\"Years since Investment\": \"48\", \"Type\": \"Value with no return\", \"Value\": 214168.0}, {\"Years since Investment\": \"49\", \"Type\": \"Value with no return\", \"Value\": 218609.0}, {\"Years since Investment\": \"50\", \"Type\": \"Value with no return\", \"Value\": 223050.0}, {\"Years since Investment\": \"51\", \"Type\": \"Value with no return\", \"Value\": 227491.0}, {\"Years since Investment\": \"52\", \"Type\": \"Value with no return\", \"Value\": 231932.0}, {\"Years since Investment\": \"53\", \"Type\": \"Value with no return\", \"Value\": 236373.0}, {\"Years since Investment\": \"54\", \"Type\": \"Value with no return\", \"Value\": 240814.0}, {\"Years since Investment\": \"55\", \"Type\": \"Value with no return\", \"Value\": 245255.0}, {\"Years since Investment\": \"56\", \"Type\": \"Value with no return\", \"Value\": 249696.0}, {\"Years since Investment\": \"57\", \"Type\": \"Value with no return\", \"Value\": 254137.0}, {\"Years since Investment\": \"58\", \"Type\": \"Value with no return\", \"Value\": 258578.0}]}}, {\"mode\": \"vega-lite\"});\n",
       "</script>"
      ],
      "text/plain": [
       "alt.Chart(...)"
      ]
     },
     "execution_count": 65,
     "metadata": {},
     "output_type": "execute_result"
    }
   ],
   "source": [
    "# test sheet\n",
    "\n",
    "sheet = pd.read_csv(r\"test.csv\")\n",
    "sheet[\"Interest/Return Rate\"] = sheet[\"Interest/Return Rate\"].str.rstrip('%').astype(float)/100\n",
    "# set vars in a different way\n",
    "\n",
    "preferred_account = accounts.value\n",
    "\n",
    "initial_investment = 1000\n",
    "annual_deposit = deposit_per_year.value\n",
    "number_periods = years.value\n",
    "rate_per_period = 1\n",
    "\n",
    "\n",
    "interest_rate = sheet[\"Interest/Return Rate\"].where(sheet[\"Account\"]==preferred_account).dropna().astype(float).values\n",
    "\n",
    "# # create frame for graphing\n",
    "\n",
    "data = {\"Years since Investment\":str(0), \"Account Value\":[initial_investment], \"Value with no return\":[initial_investment]}\n",
    "data = pd.DataFrame(data)\n",
    "\n",
    "present_value = initial_investment\n",
    "no_action = initial_investment\n",
    "\n",
    "for period in range(number_periods):\n",
    "    no_action += annual_deposit\n",
    "\n",
    "    present_value +=annual_deposit\n",
    "    present_value = present_value * (1 + interest_rate)\n",
    "\n",
    "    temp_dict = {\"Years since Investment\":str(period+1), \"Account Value\":present_value, \"Value with no return\":no_action}\n",
    "    temp = pd.DataFrame(temp_dict)\n",
    "\n",
    "   \n",
    "    data= pd.concat([data, temp], ignore_index=True)\n",
    "\n",
    "# graph\n",
    "\n",
    "# change to wide data\n",
    "data_alt = pd.melt(data, \"Years since Investment\", var_name=\"Type\", value_name=\"Value\")\n",
    "\n",
    "alt.Chart(data_alt, title=\"Projected Values\").mark_line(point=True).encode(\n",
    "    alt.X(\"Years since Investment:Q\", title=\"Years since Investment\"),\n",
    "    alt.Y(\"Value:Q\", title=\"Account Value\"),\n",
    "    alt.Color(\"Type:O\"),\n",
    "    alt.Tooltip([\"Years since Investment:Q\", \"Value:Q\"]),\n",
    ").interactive()\n",
    "\n",
    "#todo https://altair-viz.github.io/gallery/multiline_tooltip_standard.html#gallery-multiline-tooltip-standard\n"
   ]
  },
  {
   "cell_type": "markdown",
   "metadata": {},
   "source": [
    "Part IV:\n",
    "    Summary of the information and inputs for the user to peruse and review what they’ve learned. They should be able to understand the content that they’ve learned throughout the tutorial and be able to understand the implications of different choices of accounts for their financial future. This section will be formatted in Markdown.\n",
    "    Tasks for user:\n",
    "    Reading and understanding information\n",
    "    Making a plan for their retirement\n"
   ]
  },
  {
   "cell_type": "markdown",
   "metadata": {},
   "source": [
    "#TODO\n",
    "\n",
    "Create a summary"
   ]
  }
 ],
 "metadata": {
  "kernelspec": {
   "display_name": "cs181",
   "language": "python",
   "name": "python3"
  },
  "language_info": {
   "codemirror_mode": {
    "name": "ipython",
    "version": 3
   },
   "file_extension": ".py",
   "mimetype": "text/x-python",
   "name": "python",
   "nbconvert_exporter": "python",
   "pygments_lexer": "ipython3",
   "version": "3.12.7"
  }
 },
 "nbformat": 4,
 "nbformat_minor": 2
}
