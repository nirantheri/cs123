{
 "cells": [
  {
   "cell_type": "markdown",
   "metadata": {},
   "source": [
    "# Disclaimer\n",
    "\n",
    "<! We are not financial advisors!! >"
   ]
  },
  {
   "cell_type": "markdown",
   "metadata": {},
   "source": [
    "# Part I:\n",
    "    Learning about important concepts in long-term saving. This will set the foundation for users to be able to understand what the key terms are and what they mean. This will be formatted in the Markdown language.\n",
    "    Tasks for user:\n",
    "    Reading information on key concepts\n",
    "    Compounded interest\n",
    "    Retirement Accounts (401k, IRA)\n",
    "    High-Yield Savings Accounts\n",
    "    Rates of Return"
   ]
  },
  {
   "cell_type": "markdown",
   "metadata": {},
   "source": [
    "## Compounded Interest\n",
    "\n",
    "## 401k Accounts\n",
    "\n",
    "## IRA Accounts\n",
    "\n",
    "## High-Yield Savings Accounts\n",
    "\n",
    "## Rates of Return\n",
    "\n",
    "## Key Equations"
   ]
  },
  {
   "cell_type": "markdown",
   "metadata": {},
   "source": [
    "# Part II: \n",
    "    This is where we will learn about typical numbers for specific types of accounts like interest and yield rates. The goal is to use the Alpaca API to get the estimated numbers for different types of accounts with different rates of return. If this does not work, we will manually create the dataset using average rates of return for different accounts depending on our research. We plan to use pandas to parse the data. We will use matplotlib and altair to create a cleaner table.\n",
    "    Tasks for user:\n",
    "    Reviewing the data provided.\n",
    "    Deciding on which account types to explore\n"
   ]
  },
  {
   "cell_type": "code",
   "execution_count": null,
   "metadata": {},
   "outputs": [],
   "source": [
    "# Libraries\n",
    "import pandas as pd\n",
    "import yfinance as yf\n",
    "import altair as alt\n",
    "import matplotlib.pyplot as plt\n",
    "import requests\n",
    "import ipywidgets as widgets\n",
    "from IPython.display import display"
   ]
  },
  {
   "cell_type": "markdown",
   "metadata": {},
   "source": [
    "Account Types + Return Rates:\n",
    "\n",
    "401k \n",
    "HYSA\n",
    "IRA\n",
    "<!-- Mutual Funds -->"
   ]
  },
  {
   "cell_type": "code",
   "execution_count": null,
   "metadata": {},
   "outputs": [],
   "source": [
    "def purchaseStocks(monthlyInvest):\n",
    "    dat = yf.Ticker(\"^SPX\")\n",
    "    snp = dat.history(start=\"1980-01-01\", end = \"2025-3-1\", interval = '1mo')\n",
    "    dat2 = yf.Ticker(\"^IXIC\")\n",
    "    nas = dat2.history(start=\"1980-01-01\", end = \"2025-3-1\", interval = '1mo')\n",
    "    dat3 = yf.Ticker(\"^DJI\")\n",
    "    dow = dat3.history(start=\"1980-01-01\", end = \"2025-3-1\", interval = '1mo')\n",
    "    snp.reset_index(inplace=True)\n",
    "    nas.reset_index(inplace=True)\n",
    "    dow.reset_index(inplace=True)\n",
    "    monthlyOwnership = []\n",
    "    for i in range(482):\n",
    "        snpBuy = .5 * monthlyInvest / float(snp.loc[i][1])\n",
    "        nasBuy = 0\n",
    "        dowBuy = 0\n",
    "        if i > 83 :\n",
    "            nasBuy = .25 * monthlyInvest / float(nas.loc[i][1])\n",
    "            dowBuy = .25 * monthlyInvest / float(dow.loc[i-84][1])\n",
    "        else :\n",
    "            nasBuy = .5 * monthlyInvest / float(nas.loc[i][1])\n",
    "        if i == 0:\n",
    "            monthlyOwnership += [[snpBuy, nasBuy, dowBuy]]\n",
    "            continue\n",
    "        monthlyOwnership += [[snpBuy + monthlyOwnership[i-1][0], nasBuy + monthlyOwnership[i-1][1], dowBuy + monthlyOwnership[i-1][2]]]\n",
    "    return monthlyOwnership\n",
    "\n",
    "\n",
    "def portfolioValue(monthlyOwned) :\n",
    "    dat = yf.Ticker(\"^SPX\")\n",
    "    snp = dat.history(start=\"1980-01-01\", end = \"2025-3-1\", interval = '1mo')\n",
    "    dat2 = yf.Ticker(\"^IXIC\")\n",
    "    nas = dat2.history(start=\"1980-01-01\", end = \"2025-3-1\", interval = '1mo')\n",
    "    dat3 = yf.Ticker(\"^DJI\")\n",
    "    dow = dat3.history(start=\"1980-01-01\", end = \"2025-3-1\", interval = '1mo')\n",
    "    snp.reset_index(inplace=True)\n",
    "    nas.reset_index(inplace=True)\n",
    "    dow.reset_index(inplace=True)\n",
    "    monthlyValues = []\n",
    "    for i in range(482):\n",
    "        snpVal = snp.loc[i][4] * monthlyOwned[i][0]\n",
    "        nasVal = nas.loc[i][4] * monthlyOwned[i][1]\n",
    "        dowVal = 0\n",
    "        if i > 83 :\n",
    "            dowVal = dow.loc[i-84][4] * monthlyOwned[i][2]\n",
    "        month = (i % 12) + 1\n",
    "        year = (i // 12) + 1985\n",
    "        monthProfileVal = snpVal + nasVal + dowVal\n",
    "        monthlyValues += [[year, month, monthProfileVal]]\n",
    "    return monthlyValues\n",
    "\n",
    "print(portfolioValue(purchaseStocks(1000)))"
   ]
  },
  {
   "cell_type": "markdown",
   "metadata": {},
   "source": [
    "Part III:\n",
    "    This is where the user can select specific account types to analyze and input numbers in to help them figure out how much money they plan to contribute (lump-sum amounts, monthly deposits, etc). This will create a visualization of the different types of accounts and the projected growth over time for different accounts. We will use matplotlib and altair to create interactive visualizations for the user’s improved understanding.\n",
    "    Tasks for user:\n",
    "    Inputting numbers for the data\n",
    "    initial amount of savings\n",
    "    monthly contributions\n",
    "    rate of return\n",
    "    Optional: interest rate\n",
    "    Selecting account types\n",
    "\n",
    "Equation $A = P(1 + \\frac{r}{n})^{nt}$\n",
    "\n",
    "    \n",
    "- A\t=\tfinal amount\n",
    "- P\t=\tinitial principal balance\n",
    "- r\t=\tinterest rate\n",
    "- n\t=\tnumber of times interest applied per time period\n",
    "- t\t=\tnumber of time periods elapsed\n"
   ]
  },
  {
   "cell_type": "code",
   "execution_count": 2,
   "metadata": {},
   "outputs": [],
   "source": [
    "# equation formula\n",
    "\n",
    "def calculate_compound_interest(principal, interest, frequency_of_interest, time_periods):\n",
    "    return principal*((1+(interest/frequency_of_interest))^(frequency_of_interest*time_periods))\n",
    "\n"
   ]
  },
  {
   "cell_type": "code",
   "execution_count": 12,
   "metadata": {},
   "outputs": [
    {
     "ename": "AttributeError",
     "evalue": "'function' object has no attribute 'display'",
     "output_type": "error",
     "traceback": [
      "\u001b[1;31m---------------------------------------------------------------------------\u001b[0m",
      "\u001b[1;31mAttributeError\u001b[0m                            Traceback (most recent call last)",
      "Cell \u001b[1;32mIn[12], line 26\u001b[0m\n\u001b[0;32m      5\u001b[0m slider \u001b[38;5;241m=\u001b[39m widgets\u001b[38;5;241m.\u001b[39mIntSlider(\n\u001b[0;32m      6\u001b[0m     value\u001b[38;5;241m=\u001b[39m\u001b[38;5;241m0\u001b[39m,\n\u001b[0;32m      7\u001b[0m     \u001b[38;5;28mmin\u001b[39m\u001b[38;5;241m=\u001b[39m\u001b[38;5;241m0\u001b[39m,\n\u001b[1;32m   (...)\u001b[0m\n\u001b[0;32m     15\u001b[0m     readout_format\u001b[38;5;241m=\u001b[39m\u001b[38;5;124m'\u001b[39m\u001b[38;5;124md\u001b[39m\u001b[38;5;124m'\u001b[39m\n\u001b[0;32m     16\u001b[0m )\n\u001b[0;32m     19\u001b[0m widget1 \u001b[38;5;241m=\u001b[39mwidgets\u001b[38;5;241m.\u001b[39mDropdown(\n\u001b[0;32m     20\u001b[0m     options\u001b[38;5;241m=\u001b[39m[\u001b[38;5;124m'\u001b[39m\u001b[38;5;124mAccount Type 1\u001b[39m\u001b[38;5;124m'\u001b[39m, \u001b[38;5;124m'\u001b[39m\u001b[38;5;124mAccount Type 2\u001b[39m\u001b[38;5;124m'\u001b[39m, \u001b[38;5;124m'\u001b[39m\u001b[38;5;124mAccount Type 3\u001b[39m\u001b[38;5;124m'\u001b[39m],\n\u001b[0;32m     21\u001b[0m     value\u001b[38;5;241m=\u001b[39m\u001b[38;5;124m'\u001b[39m\u001b[38;5;124mAccount Type 1\u001b[39m\u001b[38;5;124m'\u001b[39m,\n\u001b[0;32m     22\u001b[0m     description\u001b[38;5;241m=\u001b[39m\u001b[38;5;124m'\u001b[39m\u001b[38;5;124mAccount Type:\u001b[39m\u001b[38;5;124m'\u001b[39m,\n\u001b[0;32m     23\u001b[0m     disabled\u001b[38;5;241m=\u001b[39m\u001b[38;5;28;01mFalse\u001b[39;00m,\n\u001b[0;32m     24\u001b[0m )\n\u001b[1;32m---> 26\u001b[0m \u001b[43mdisplay\u001b[49m\u001b[38;5;241;43m.\u001b[39;49m\u001b[43mdisplay\u001b[49m(slider)\n\u001b[0;32m     27\u001b[0m display(widget1)\n",
      "\u001b[1;31mAttributeError\u001b[0m: 'function' object has no attribute 'display'"
     ]
    }
   ],
   "source": [
    "# create sliders and inputs for values for user\n",
    "# create function to grab the data from the API\n",
    "# create function to plot the data\n",
    "\n",
    "slider = widgets.IntSlider(\n",
    "    value=0,\n",
    "    min=0,\n",
    "    max=10,\n",
    "    step=1,\n",
    "    description='Test:',\n",
    "    disabled=False,\n",
    "    continuous_update=False,\n",
    "    orientation='horizontal',\n",
    "    readout=True,\n",
    "    readout_format='d'\n",
    ")\n",
    "\n",
    "\n",
    "widget1 =widgets.Dropdown(\n",
    "    options=['Account Type 1', 'Account Type 2', 'Account Type 3'],\n",
    "    value='Account Type 1',\n",
    "    description='Account Type:',\n",
    "    disabled=False,\n",
    ")\n",
    "\n",
    "display.display(slider)\n",
    "display(widget1)"
   ]
  },
  {
   "cell_type": "code",
   "execution_count": null,
   "metadata": {},
   "outputs": [],
   "source": []
  },
  {
   "cell_type": "markdown",
   "metadata": {},
   "source": [
    "Part IV:\n",
    "    Summary of the information and inputs for the user to peruse and review what they’ve learned. They should be able to understand the content that they’ve learned throughout the tutorial and be able to understand the implications of different choices of accounts for their financial future. This section will be formatted in Markdown.\n",
    "    Tasks for user:\n",
    "    Reading and understanding information\n",
    "    Making a plan for their retirement\n"
   ]
  },
  {
   "cell_type": "markdown",
   "metadata": {},
   "source": [
    "#TODO\n",
    "\n",
    "Create a summary"
   ]
  }
 ],
 "metadata": {
  "kernelspec": {
   "display_name": "Python 3",
   "language": "python",
   "name": "python3"
  },
  "language_info": {
   "codemirror_mode": {
    "name": "ipython",
    "version": 3
   },
   "file_extension": ".py",
   "mimetype": "text/x-python",
   "name": "python",
   "nbconvert_exporter": "python",
   "pygments_lexer": "ipython3",
   "version": "3.10.6"
  }
 },
 "nbformat": 4,
 "nbformat_minor": 2
}
