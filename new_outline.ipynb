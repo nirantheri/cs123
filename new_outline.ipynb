{
  "cells": [
    {
      "cell_type": "markdown",
      "id": "a21a0bd5",
      "metadata": {
        "id": "a21a0bd5"
      },
      "source": [
        "### Introduction: Applying Computational Thinking to Personal Finance and Portfolio Analysis\n",
        "In an era where financial independence is closely tied to the ability to make strategic investment decisions, understanding the mechanics of saving and investing has become a critical life skill. Yet, while many individuals understand the importance of saving, few have the tools or knowledge required to evaluate how different financial strategies—and especially investment decisions—impact long-term outcomes. This tutorial addresses that gap by introducing students to essential concepts in personal finance and portfolio analysis through a computational and data-driven approach.\n",
        "\n",
        "This tutorial begins by building a foundation in core savings principles. Learners will explore the functionality of common financial instruments such as high-yield savings accounts, 401(k)s, and Roth IRAs. Through interactive inputs and simulations, students will see how interest rates, compound growth, and tax advantages affect returns over time. These early exercises aim to demonstrate the value of starting early, contributing consistently, and choosing the right savings vehicles for one’s personal financial goals.\n",
        "\n",
        "Building on this foundation, the tutorial then transitions into a more advanced, investment-focused module: constructing and evaluating a personalized stock portfolio. Students will be guided through the process of:\n",
        "- Selecting their own breakdown of stocks to form a diversified portfolio based on individual risk preferences or interests.\n",
        "\n",
        "- Evaluating the strength of their chosen portfolio using historical data and key financial metrics.\n",
        "\n",
        "- Simulating potential future outcomes through Monte Carlo simulations, which model thousands of possible future scenarios to account for uncertainty and market volatility.\n",
        "\n",
        "- Optimizing the stock allocation using algorithmic methods that balance return potential with risk, aiming for the most efficient use of investment capital.\n",
        "\n",
        "- Rechecking the portfolio’s strength after optimization, to reflect the improvements made and demonstrate the impact of computational adjustments on financial performance.\n",
        "\n",
        "\n",
        "Throughout this tutorial, students will employ principles from computer science—such as data modeling, simulations, algorithmic thinking, and data visualization—to analyze financial data and make informed decisions. By the end of the tutorial, students will have developed not only a deeper understanding of financial literacy but also a practical appreciation for how computational tools can empower individuals to manage their personal wealth more effectively.\n",
        "\n",
        "This interdisciplinary exploration is designed to equip learners with a strong foundation in both personal finance and applied computation—skills that are increasingly essential in today’s data-rich, financially complex world."
      ]
    },
    {
      "cell_type": "markdown",
      "id": "1fcde335",
      "metadata": {
        "id": "1fcde335"
      },
      "source": [
        "### Disclaimer\n",
        "\n",
        "**No Guarantee of Accuracy:** While Isabel, Luna, and Nirantheri strive to provide accurate and up-to-date information, they do not guarantee the accuracy, completeness, or reliability of any content. Users should independently verify any information before making financial or investment decisions based on it.\n",
        "\n",
        "\n",
        "**Investment Risks:** Investing involves inherent risks, including but not limited to market fluctuations, economic uncertainty, geopolitical events, and individual asset performance. Past performance is not indicative of future results, and no content provided implies a guarantee of investment success.\n",
        "\n",
        "**Limitation of Liability:** Mentions of specific financial products, services, companies, or securities within the content do not constitute endorsements or recommendations. Users are responsible for conducting their own research and due diligence.\n",
        "\n",
        "**No Liability:** Isabel, Luna, Nirantheri, and their affiliates, partners, or contributors shall not be held liable for any loss, damage, or expense resulting from the use of or reliance on the provided information. All investment decisions made based on this content are the sole responsibility of the user.\n",
        "\n",
        "**Disclaimer Updates:** This disclaimer is subject to change without notice. Users are responsible for reviewing it periodically to stay informed of any updates.\n",
        "\n"
      ]
    },
    {
      "cell_type": "markdown",
      "id": "5b4b991e",
      "metadata": {
        "id": "5b4b991e"
      },
      "source": [
        "### Required Packages\n",
        "If the \"Module not found\" error shows up, use the requirements.txt file to download the missing packages.\n",
        "\n",
        "```\n",
        "pip install -r /path/to/requirements.txt\n",
        "```"
      ]
    },
    {
      "cell_type": "code",
      "execution_count": 1,
      "id": "4102a911",
      "metadata": {
        "id": "4102a911"
      },
      "outputs": [],
      "source": [
        "from IPython.display import display\n",
        "\n",
        "import matplotlib.pyplot as plt\n",
        "%matplotlib inline\n",
        "\n",
        "#alphabetical\n",
        "import altair as alt\n",
        "from curl_cffi import requests\n",
        "import ipywidgets as widgets\n",
        "import numpy as np\n",
        "import pandas as pd\n",
        "import quantstats.stats as stats\n",
        "from scipy.optimize import minimize\n",
        "from scipy.stats import norm\n",
        "import yfinance as yf\n",
        "\n"
      ]
    },
    {
      "cell_type": "markdown",
      "id": "07c04a66",
      "metadata": {
        "id": "07c04a66"
      },
      "source": [
        "### Selecting Stocks\n",
        "\n",
        "First, you can select the stocks in your simulated portfolio. Ctrl+ Click the stocks that you want in your portfolio. Remember that a more diverse portfolio is better, so select at least 5 stocks to best model your findings.\n",
        "\n",
        "\n",
        "If you'd like to create a custom allocation of stocks, skip to the section [Custom Allocations](#custom-allocation)\n",
        "\n",
        "We used ipywidget documentation for [Checkboxes](https://ipywidgets.readthedocs.io/en/7.x/examples/Widget%20List.html#Checkbox) and [SelectMultiple](https://ipywidgets.readthedocs.io/en/7.x/examples/Widget%20List.html#SelectMultiple)\n"
      ]
    },
    {
      "cell_type": "code",
      "execution_count": 2,
      "id": "7af31160",
      "metadata": {
        "colab": {
          "referenced_widgets": [
            "67f4e82e58f34261aaa37a1b6c79140a"
          ]
        },
        "id": "7af31160",
        "outputId": "9f7d71e1-0502-41d7-cb80-26c0ed5f76ee"
      },
      "outputs": [
        {
          "data": {
            "application/vnd.jupyter.widget-view+json": {
              "model_id": "15faae2bc0ce4b6ea9ebdaa2023f1321",
              "version_major": 2,
              "version_minor": 0
            },
            "text/plain": [
              "SelectMultiple(description='Stocks', options=('Apple', 'Costco', 'Microsoft', 'Google', 'Starbucks', 'Tyson Fo…"
            ]
          },
          "metadata": {},
          "output_type": "display_data"
        }
      ],
      "source": [
        "codes = {\"Apple\": 'AAPL',\n",
        "        \"Costco\": 'COST',\n",
        "        \"Microsoft\": 'MSFT',\n",
        "        \"Google\": 'GOOG',\n",
        "        \"Starbucks\":'SBUX',\n",
        "        \"Tyson Foods\": 'TSN',\n",
        "        \"Intel Corp\":'INTC',\n",
        "        \"Walmart\": 'WMT',\n",
        "        \"Amazon\":'AMZN',\n",
        "        \"BJ's Wholesale Club\":'BJ',\n",
        "        \"Toyota\":'TM',\n",
        "        \"S&P 500\": '^GSPC',\n",
        "        \"Dow Jones Industrial\": '^DJI',\n",
        "        \"Nasdaq\": '^IXIC',\n",
        "        \"Vanguard S&P 500 ETF\": 'VOO',\n",
        "        \"Fidelity 500 Index Fund\": 'FXAIX',\n",
        "        \"Gold\":'GLD'}\n",
        "\n",
        "codes.keys()\n",
        "\n",
        "\n",
        "choices = widgets.SelectMultiple(\n",
        "    options=codes.keys(),\n",
        "    value=[],\n",
        "    rows=20,\n",
        "    description='Stocks',\n",
        "    disabled=False\n",
        ")\n",
        "\n",
        "display(choices)"
      ]
    },
    {
      "cell_type": "markdown",
      "id": "52f0405d",
      "metadata": {
        "id": "52f0405d"
      },
      "source": [
        "### Picking The Breakdown of Stocks\n",
        "\n",
        "<!-- clarifying what the breakdown of stocks is, why are we doing this -->\n",
        "\n",
        "Without rerunning the previous code chunk, run the next one and input your allocation amounts as a decimal ex (0.3 or .5). Make sure they add up to 1! This step will allow you to invest in each stock proportionally.\n",
        "<!--\n",
        "[setup using the above code chunk](https://ipywidgets.readthedocs.io/en/7.x/examples/Widget%20List.html#Tabs) -->\n",
        "\n",
        "This was setup using documentation for [Tabs](https://ipywidgets.readthedocs.io/en/7.x/examples/Widget%20List.html#Tabs)"
      ]
    },
    {
      "cell_type": "code",
      "execution_count": 3,
      "id": "35f83dbc",
      "metadata": {
        "colab": {
          "referenced_widgets": [
            "fe5c1da1e4594c5bbd2505856a37b8cf"
          ]
        },
        "id": "35f83dbc",
        "outputId": "8143cce5-d5df-4b2c-efdf-68cd73f4e5ea"
      },
      "outputs": [
        {
          "data": {
            "application/vnd.jupyter.widget-view+json": {
              "model_id": "1c6fd6a2d6c147f995602b0df41d20a5",
              "version_major": 2,
              "version_minor": 0
            },
            "text/plain": [
              "Tab()"
            ]
          },
          "execution_count": 3,
          "metadata": {},
          "output_type": "execute_result"
        }
      ],
      "source": [
        "# get codes for further down\n",
        "portfolio = []\n",
        "\n",
        "for i in range(len(choices.value)):\n",
        "    portfolio.append(codes[choices.value[i]])\n",
        "\n",
        "# pick distribution\n",
        "\n",
        "tab_contents = [\"Value\"] * len(choices.value)\n",
        "children = [widgets.Text(description=name) for name in tab_contents]\n",
        "tab = widgets.Tab()\n",
        "tab.children = children\n",
        "tab.titles = choices.value\n",
        "\n",
        "tab"
      ]
    },
    {
      "cell_type": "markdown",
      "id": "29b9a5e2",
      "metadata": {
        "id": "29b9a5e2"
      },
      "source": [
        "The following code is to match the allocation amounts to the stock codes given the inputs from above. You don't need to do anything here!"
      ]
    },
    {
      "cell_type": "code",
      "execution_count": 4,
      "id": "985e3e8b",
      "metadata": {
        "id": "985e3e8b"
      },
      "outputs": [],
      "source": [
        "# matching allocation amounts to stock codes given inputs from above\n",
        "\n",
        "allocations = {}\n",
        "\n",
        "for i in range(len(tab.children)):\n",
        "    allocations[portfolio[i]]=tab.children[i].value\n"
      ]
    },
    {
      "cell_type": "markdown",
      "id": "ce27bfeb",
      "metadata": {
        "id": "ce27bfeb"
      },
      "source": [
        "### Custom Allocation \n",
        "\n",
        "Feel free to create your own allocation dictionary. Make sure each entry is of the format \"STOCK TICKER\": allocation amount. Fill it in as you desire and click run to make sure that your custom allocations are used, even if you didn't run the above lines. Otherwise our default set of stocks will be used! Do not run this cell unless you're planning on using a custom amount-- otherwise the default values we used will be input instead.\n",
        "\n",
        "NOTE: for index funds, you have to prefix them with \"^\""
      ]
    },
    {
      "cell_type": "code",
      "execution_count": 5,
      "id": "d9363a96",
      "metadata": {
        "id": "d9363a96"
      },
      "outputs": [],
      "source": [
        "# Here's an example of what your dictionary can look like\n",
        "\n",
        "# {'AAPL':'0.4', 'MSFT':'0.3',  '^IXIC':'0.3'}\n",
        "\n",
        "allocations = {}"
      ]
    },
    {
      "cell_type": "markdown",
      "id": "a1f4eed5",
      "metadata": {
        "id": "a1f4eed5"
      },
      "source": [
        "### Pulling Stock Data History Using the YahooFinance API\n",
        "\n",
        "Using the list of stocks in our dictionary, the below code will grab the data for each stock.\n",
        "\n",
        "NOTE: the session line is a temporary fix for a new rate-limiting error that yahoofinance api are running into recently, from [Github](https://github.com/ranaroussi/yfinance/issues/2422#issuecomment-2840774505) "
      ]
    },
    {
      "cell_type": "code",
      "execution_count": 6,
      "id": "ace55141",
      "metadata": {
        "id": "ace55141",
        "outputId": "0e97dab8-be7e-4257-d4ca-6eabbcc87d5b"
      },
      "outputs": [],
      "source": [
        "if len(portfolio)==0 or len(allocations)==0: # for default values\n",
        "    allocations={'AAPL':'0.1', 'MSFT':'0.1',  '^IXIC':'0.1', 'COST': '0.1', 'WMT': '0.1', 'AMZN':'0.1', '^GSPC':'0.1', 'SBUX':'0.1', 'TSN':'0.1','INTC':'0.1'}\n",
        "    portfolio = list(allocations.keys())\n",
        "\n",
        "# This is so that the rate limiting error will not occur \n",
        "session = requests.Session(impersonate=\"chrome\",timeout=5)\n",
        "\n",
        "testList=list(allocations.keys())\n",
        "testString = ' '.join(testList)\n",
        "\n",
        "tickersPull = yf.Tickers(testString, session=session)\n",
        "\n",
        "#in the dictionary dataframes, each ticker is indexed by its ticker as seen in the testList (auto_adjust accounts for splits and dividends)\n",
        "dataframes = {}\n",
        "for x in testList:\n",
        "    ticker = yf.Ticker(x, session=session)\n",
        "    dataframes[x] = ticker.history(period='1mo', start='2015-01-01', auto_adjust=True)"
      ]
    },
    {
      "cell_type": "markdown",
      "id": "441b5a5a",
      "metadata": {
        "id": "441b5a5a"
      },
      "source": [
        "#### How do we calculate returns?\n",
        "\n",
        "<!-- have we defined returns at this point? -->\n",
        "\n",
        "To calculate the returns, we want to find the adjusted value of each stock amount from the date of the initial investment. We can write a function to do this with a set of inputs-- an initial portfolio value, the set of dataframes for each stock, and the breakdown of allocations  <!-- and perhaps even an initial date of investment.  -->\n",
        "\n",
        "We used [this resource](https://blog.mlq.ai/python-for-finance-portfolio-optimization/) to help with this section."
      ]
    },
    {
      "cell_type": "code",
      "execution_count": 7,
      "id": "b105647a",
      "metadata": {
        "id": "b105647a"
      },
      "outputs": [],
      "source": [
        "def calculate_returns(initial_portfolio_val, dataframe, allocations):\n",
        "    all_pos_vals = []\n",
        "\n",
        "    for stock_name in dataframe:\n",
        "        # grab the dataframe for a single stock\n",
        "        stock_df = dataframe[stock_name]\n",
        "        # create normed return column\n",
        "        stock_df['Normed Return'] = stock_df['Close'] /stock_df.iloc[0]['Close']\n",
        "\n",
        "        # use normed return to adjust the percentage of portfolio held\n",
        "        allocation = float(allocations[stock_name])  # Convert allocation to float\n",
        "        stock_df['Allocation'] = stock_df['Normed Return']*allocation\n",
        "\n",
        "        # find value of stock at each date\n",
        "        stock_df['Position Value'] = stock_df['Allocation']*initial_portfolio_val\n",
        "\n",
        "        # add to list of all position values\n",
        "        all_pos_vals.append(stock_df['Position Value'])\n",
        "\n",
        "    # concatenate the list of position values\n",
        "    portfolio_val = pd.concat(all_pos_vals, axis=1)\n",
        "\n",
        "    # set the column names\n",
        "    portfolio_val.columns = portfolio\n",
        "\n",
        "    # add a total portfolio column\n",
        "    portfolio_val['Total'] = portfolio_val.sum(axis=1)\n",
        "\n",
        "    # changing date to column not index\n",
        "    portfolio_val = portfolio_val.reset_index()\n",
        "\n",
        "    return portfolio_val\n",
        "\n"
      ]
    },
    {
      "cell_type": "markdown",
      "id": "11ba91b5",
      "metadata": {
        "id": "11ba91b5"
      },
      "source": [
        "Then we can write a function which prints the initial and final allocation amounts and creates a graphical representation of each of the stocks' growths over time as well as the portfolio's overall growth. To get an overall number rather than using every single data point, we can use a resampling function to grab the last day of each month in the data. \n",
        "\n",
        "Then we can create a graphing function which can graph both the total value of the portfolio over time as well as the breakdown of each stock's value while showing the value as you hover over it."
      ]
    },
    {
      "cell_type": "code",
      "execution_count": 8,
      "id": "c4a4a2ec",
      "metadata": {
        "id": "c4a4a2ec"
      },
      "outputs": [],
      "source": [
        "def graph_returns(returns, show_total, show_individual):\n",
        "\n",
        "    # resampling values\n",
        "    portfolio_val = returns.resample('ME', on='Date').first().reset_index()\n",
        "\n",
        "    initial_amts = returns.iloc[0][1:]\n",
        "    ending_amts = returns.iloc[-1][1:]\n",
        "    initial_amts = initial_amts.reset_index()\n",
        "    ending_amts = ending_amts.reset_index()\n",
        "\n",
        "    amts = pd.merge(initial_amts, ending_amts)\n",
        "    amts.columns = [\"Date\", \"Initial Amounts\", \"Ending Amounts\"]\n",
        "\n",
        "    amts[\"Change in Value\"] = amts[\"Ending Amounts\"]-amts[\"Initial Amounts\"]\n",
        "    amts[[\"Initial Amounts\", \"Ending Amounts\", \"Change in Value\"]] = amts[[\"Initial Amounts\", \"Ending Amounts\", \"Change in Value\"]].apply(pd.to_numeric).round(2)\n",
        "    print(amts)\n",
        "\n",
        "    if show_total:\n",
        "        # only need the total column\n",
        "        data = portfolio_val.drop(portfolio, axis=1)\n",
        "        pivoted_data_total = data.melt(id_vars=\"Date\", var_name=\"Stock\", value_name=\"Value\")\n",
        "\n",
        "        grapher(pivoted_data_total).display()\n",
        "\n",
        "\n",
        "\n",
        "    if show_individual:\n",
        "        pivoted_data_individual = portfolio_val.melt(id_vars=\"Date\", value_vars = portfolio, var_name=\"Stock\", value_name=\"Value\")\n",
        "\n",
        "        grapher(pivoted_data_individual).display()\n",
        "\n",
        "\n",
        "\n",
        "def grapher(pivoted_data):\n",
        "        # for stock vs total\n",
        "        portfolio = pivoted_data['Stock'].unique()\n",
        "\n",
        "        # set hovering conditions\n",
        "\n",
        "        nearest = alt.selection_point(nearest=True, on=\"mouseover\",fields=[\"Date\"], empty=False)\n",
        "\n",
        "        when_near = alt.when(nearest)\n",
        "\n",
        "        # create basis of the graph\n",
        "        basic_graph = alt.Chart(pivoted_data).mark_line().encode(\n",
        "            alt.X(\"Date:T\", title=\"Date\"),\n",
        "            alt.Y(\"Value:Q\", title=\"Portfolio Value\"),\n",
        "            alt.Color(\"Stock:N\", title=\"Stock\"),\n",
        "        ).interactive()\n",
        "\n",
        "        # Draw points on the line, and if I am \"near\" then make them visible\n",
        "        points = basic_graph.mark_point().encode(\n",
        "            opacity=when_near.then(alt.value(1)).otherwise(alt.value(0))\n",
        "        )\n",
        "\n",
        "        # add rule so that a line shows up where the mouse is, and shows every data point at the mouseover.\n",
        "        rules = alt.Chart(pivoted_data).transform_pivot(\n",
        "            \"Stock\",\n",
        "            value=\"Value\",\n",
        "            groupby=[\"Date\"]\n",
        "        ).mark_rule(color=\"gray\").encode(\n",
        "            x=\"Date:T\",\n",
        "            opacity=when_near.then(alt.value(0.3)).otherwise(alt.value(0)),\n",
        "            tooltip=[\n",
        "            alt.Tooltip(\"Date:T\", title=\"Date\"),\n",
        "            *[alt.Tooltip(stock, type=\"quantitative\", format=\".2f\") for stock in portfolio],\n",
        "            ],\n",
        "        ).add_params(nearest)\n",
        "\n",
        "\n",
        "        # Put the data together\n",
        "        chart = alt.layer(\n",
        "            basic_graph, points, rules\n",
        "        ).properties(\n",
        "            width=600, height=300, # because the auto-size is quite small\n",
        "            title=\"Portfolio Value Over Time\"  \n",
        "        )\n",
        "        return chart\n"
      ]
    },
    {
      "cell_type": "markdown",
      "id": "ff8c807f",
      "metadata": {
        "id": "ff8c807f"
      },
      "source": [
        "Now that we've created a projection of how our data has been growing over time, let's see what to expect!"
      ]
    },
    {
      "cell_type": "markdown",
      "id": "sGyryTm_nQ-6",
      "metadata": {
        "id": "sGyryTm_nQ-6"
      },
      "source": [
        "### Visualizing Your Portfolio"
      ]
    },
    {
      "cell_type": "markdown",
      "id": "Rqr5PpS0nYDU",
      "metadata": {
        "id": "Rqr5PpS0nYDU"
      },
      "source": [
        "The initial and ending values of the portfolio are printed for each stock and for the total amount.\n",
        "\n",
        "The plots can show how your portfolio value evolved over time using your initial stock allocations. Feel free to alter the initial investment amount if you want to get an idea of your own personal finances.\n",
        "\n",
        "- The **\"Total\" line** represents the entire portfolio’s value.\n",
        "- The **colored lines** show how much each individual stock contributed to the total.\n",
        "- **Hover over** the chart to see daily values and compare how stocks performed relative to each other.\n",
        "\n",
        "Questions to Ask Yourself:\n",
        "- Consistency: Do values rise steadily or fluctuate a lot?\n",
        "- Dominance: Are certain stocks pulling most of the weight?\n",
        "- Volatility: Are there sharp dips or spikes in certain assets?\n",
        "- Results: Which stocks end with a higher value and which end with a lower value?"
      ]
    },
    {
      "cell_type": "code",
      "execution_count": 9,
      "id": "8813431d",
      "metadata": {
        "id": "8813431d"
      },
      "outputs": [
        {
          "name": "stdout",
          "output_type": "stream",
          "text": [
            "     Date  Initial Amounts  Ending Amounts  Change in Value\n",
            "0    AAPL         100000.0       874196.72        774196.72\n",
            "1    MSFT         100000.0      1130311.82       1030311.82\n",
            "2   ^IXIC         100000.0       405068.29        305068.29\n",
            "3    COST         100000.0       866307.83        766307.83\n",
            "4     WMT         100000.0       415206.83        315206.83\n",
            "5    AMZN         100000.0      1362958.67       1262958.67\n",
            "6   ^GSPC         100000.0       286297.75        186297.75\n",
            "7    SBUX         100000.0       259510.73        159510.73\n",
            "8     TSN         100000.0       170943.32         70943.32\n",
            "9    INTC         100000.0        77142.40        -22857.60\n",
            "10  Total        1000000.0      5847944.36       4847944.36\n"
          ]
        },
        {
          "data": {
            "text/html": [
              "\n",
              "<style>\n",
              "  #altair-viz-863295cd6447442fb893ecdc87f6d4a0.vega-embed {\n",
              "    width: 100%;\n",
              "    display: flex;\n",
              "  }\n",
              "\n",
              "  #altair-viz-863295cd6447442fb893ecdc87f6d4a0.vega-embed details,\n",
              "  #altair-viz-863295cd6447442fb893ecdc87f6d4a0.vega-embed details summary {\n",
              "    position: relative;\n",
              "  }\n",
              "</style>\n",
              "<div id=\"altair-viz-863295cd6447442fb893ecdc87f6d4a0\"></div>\n",
              "<script type=\"text/javascript\">\n",
              "  var VEGA_DEBUG = (typeof VEGA_DEBUG == \"undefined\") ? {} : VEGA_DEBUG;\n",
              "  (function(spec, embedOpt){\n",
              "    let outputDiv = document.currentScript.previousElementSibling;\n",
              "    if (outputDiv.id !== \"altair-viz-863295cd6447442fb893ecdc87f6d4a0\") {\n",
              "      outputDiv = document.getElementById(\"altair-viz-863295cd6447442fb893ecdc87f6d4a0\");\n",
              "    }\n",
              "\n",
              "    const paths = {\n",
              "      \"vega\": \"https://cdn.jsdelivr.net/npm/vega@5?noext\",\n",
              "      \"vega-lib\": \"https://cdn.jsdelivr.net/npm/vega-lib?noext\",\n",
              "      \"vega-lite\": \"https://cdn.jsdelivr.net/npm/vega-lite@5.20.1?noext\",\n",
              "      \"vega-embed\": \"https://cdn.jsdelivr.net/npm/vega-embed@6?noext\",\n",
              "    };\n",
              "\n",
              "    function maybeLoadScript(lib, version) {\n",
              "      var key = `${lib.replace(\"-\", \"\")}_version`;\n",
              "      return (VEGA_DEBUG[key] == version) ?\n",
              "        Promise.resolve(paths[lib]) :\n",
              "        new Promise(function(resolve, reject) {\n",
              "          var s = document.createElement('script');\n",
              "          document.getElementsByTagName(\"head\")[0].appendChild(s);\n",
              "          s.async = true;\n",
              "          s.onload = () => {\n",
              "            VEGA_DEBUG[key] = version;\n",
              "            return resolve(paths[lib]);\n",
              "          };\n",
              "          s.onerror = () => reject(`Error loading script: ${paths[lib]}`);\n",
              "          s.src = paths[lib];\n",
              "        });\n",
              "    }\n",
              "\n",
              "    function showError(err) {\n",
              "      outputDiv.innerHTML = `<div class=\"error\" style=\"color:red;\">${err}</div>`;\n",
              "      throw err;\n",
              "    }\n",
              "\n",
              "    function displayChart(vegaEmbed) {\n",
              "      vegaEmbed(outputDiv, spec, embedOpt)\n",
              "        .catch(err => showError(`Javascript Error: ${err.message}<br>This usually means there's a typo in your chart specification. See the javascript console for the full traceback.`));\n",
              "    }\n",
              "\n",
              "    if(typeof define === \"function\" && define.amd) {\n",
              "      requirejs.config({paths});\n",
              "      let deps = [\"vega-embed\"];\n",
              "      require(deps, displayChart, err => showError(`Error loading script: ${err.message}`));\n",
              "    } else {\n",
              "      maybeLoadScript(\"vega\", \"5\")\n",
              "        .then(() => maybeLoadScript(\"vega-lite\", \"5.20.1\"))\n",
              "        .then(() => maybeLoadScript(\"vega-embed\", \"6\"))\n",
              "        .catch(showError)\n",
              "        .then(() => displayChart(vegaEmbed));\n",
              "    }\n",
              "  })({\"config\": {\"view\": {\"continuousWidth\": 300, \"continuousHeight\": 300}}, \"layer\": [{\"mark\": {\"type\": \"line\"}, \"encoding\": {\"color\": {\"field\": \"Stock\", \"title\": \"Stock\", \"type\": \"nominal\"}, \"x\": {\"field\": \"Date\", \"title\": \"Date\", \"type\": \"temporal\"}, \"y\": {\"field\": \"Value\", \"title\": \"Portfolio Value\", \"type\": \"quantitative\"}}, \"name\": \"view_1\"}, {\"mark\": {\"type\": \"point\"}, \"encoding\": {\"color\": {\"field\": \"Stock\", \"title\": \"Stock\", \"type\": \"nominal\"}, \"opacity\": {\"condition\": [{\"param\": \"param_1\", \"value\": 1, \"empty\": false}], \"value\": 0}, \"x\": {\"field\": \"Date\", \"title\": \"Date\", \"type\": \"temporal\"}, \"y\": {\"field\": \"Value\", \"title\": \"Portfolio Value\", \"type\": \"quantitative\"}}}, {\"mark\": {\"type\": \"rule\", \"color\": \"gray\"}, \"encoding\": {\"opacity\": {\"condition\": [{\"param\": \"param_1\", \"value\": 0.3, \"empty\": false}], \"value\": 0}, \"tooltip\": [{\"field\": \"Date\", \"title\": \"Date\", \"type\": \"temporal\"}, {\"field\": \"Total\", \"format\": \".2f\", \"type\": \"quantitative\"}], \"x\": {\"field\": \"Date\", \"type\": \"temporal\"}}, \"name\": \"view_2\", \"transform\": [{\"pivot\": \"Stock\", \"value\": \"Value\", \"groupby\": [\"Date\"]}]}], \"data\": {\"name\": \"data-1d370d124ce98fe10962d7f57c570203\"}, \"height\": 300, \"params\": [{\"name\": \"param_2\", \"select\": {\"type\": \"interval\", \"encodings\": [\"x\", \"y\"]}, \"bind\": \"scales\", \"views\": [\"view_1\"]}, {\"name\": \"param_1\", \"select\": {\"type\": \"point\", \"fields\": [\"Date\"], \"nearest\": true, \"on\": \"mouseover\"}, \"views\": [\"view_2\"]}], \"title\": \"Portfolio Value Over Time\", \"width\": 600, \"$schema\": \"https://vega.github.io/schema/vega-lite/v5.20.1.json\", \"datasets\": {\"data-1d370d124ce98fe10962d7f57c570203\": [{\"Date\": \"2015-01-31T00:00:00-05:00\", \"Stock\": \"Total\", \"Value\": 1000000.0}, {\"Date\": \"2015-02-28T00:00:00-05:00\", \"Stock\": \"Total\", \"Value\": 1014564.0334627933}, {\"Date\": \"2015-03-31T00:00:00-04:00\", \"Stock\": \"Total\", \"Value\": 1069095.552190165}, {\"Date\": \"2015-04-30T00:00:00-04:00\", \"Stock\": \"Total\", \"Value\": 1025854.5612336728}, {\"Date\": \"2015-05-31T00:00:00-04:00\", \"Stock\": \"Total\", \"Value\": 1085396.7405250552}, {\"Date\": \"2015-06-30T00:00:00-04:00\", \"Stock\": \"Total\", \"Value\": 1094967.967500477}, {\"Date\": \"2015-07-31T00:00:00-04:00\", \"Stock\": \"Total\", \"Value\": 1072159.8509352875}, {\"Date\": \"2015-08-31T00:00:00-04:00\", \"Stock\": \"Total\", \"Value\": 1111474.1478474683}, {\"Date\": \"2015-09-30T00:00:00-04:00\", \"Stock\": \"Total\", \"Value\": 1035749.7849993594}, {\"Date\": \"2015-10-31T00:00:00-04:00\", \"Stock\": \"Total\", \"Value\": 1078552.496326937}, {\"Date\": \"2015-11-30T00:00:00-05:00\", \"Stock\": \"Total\", \"Value\": 1191339.2925407798}, {\"Date\": \"2015-12-31T00:00:00-05:00\", \"Stock\": \"Total\", \"Value\": 1230854.050563282}, {\"Date\": \"2016-01-31T00:00:00-05:00\", \"Stock\": \"Total\", \"Value\": 1192653.6746785315}, {\"Date\": \"2016-02-29T00:00:00-05:00\", \"Stock\": \"Total\", \"Value\": 1157821.1462014664}, {\"Date\": \"2016-03-31T00:00:00-04:00\", \"Stock\": \"Total\", \"Value\": 1187000.122951049}, {\"Date\": \"2016-04-30T00:00:00-04:00\", \"Stock\": \"Total\", \"Value\": 1242306.3330741741}, {\"Date\": \"2016-05-31T00:00:00-04:00\", \"Stock\": \"Total\", \"Value\": 1217229.1210413533}, {\"Date\": \"2016-06-30T00:00:00-04:00\", \"Stock\": \"Total\", \"Value\": 1240952.463208499}, {\"Date\": \"2016-07-31T00:00:00-04:00\", \"Stock\": \"Total\", \"Value\": 1253456.4887703802}, {\"Date\": \"2016-08-31T00:00:00-04:00\", \"Stock\": \"Total\", \"Value\": 1337133.9540847992}, {\"Date\": \"2016-09-30T00:00:00-04:00\", \"Stock\": \"Total\", \"Value\": 1339345.1643218258}, {\"Date\": \"2016-10-31T00:00:00-04:00\", \"Stock\": \"Total\", \"Value\": 1359670.8276584384}, {\"Date\": \"2016-11-30T00:00:00-05:00\", \"Stock\": \"Total\", \"Value\": 1312633.788511956}, {\"Date\": \"2016-12-31T00:00:00-05:00\", \"Stock\": \"Total\", \"Value\": 1285905.3228014742}, {\"Date\": \"2017-01-31T00:00:00-05:00\", \"Stock\": \"Total\", \"Value\": 1330936.4312967183}, {\"Date\": \"2017-02-28T00:00:00-05:00\", \"Stock\": \"Total\", \"Value\": 1375347.6386987213}, {\"Date\": \"2017-03-31T00:00:00-04:00\", \"Stock\": \"Total\", \"Value\": 1433959.08995304}, {\"Date\": \"2017-04-30T00:00:00-04:00\", \"Stock\": \"Total\", \"Value\": 1441820.6560005879}, {\"Date\": \"2017-05-31T00:00:00-04:00\", \"Stock\": \"Total\", \"Value\": 1499582.5188028538}, {\"Date\": \"2017-06-30T00:00:00-04:00\", \"Stock\": \"Total\", \"Value\": 1540739.533256071}, {\"Date\": \"2017-07-31T00:00:00-04:00\", \"Stock\": \"Total\", \"Value\": 1476474.7281202767}, {\"Date\": \"2017-08-31T00:00:00-04:00\", \"Stock\": \"Total\", \"Value\": 1521824.3501739828}, {\"Date\": \"2017-09-30T00:00:00-04:00\", \"Stock\": \"Total\", \"Value\": 1535776.9197525608}, {\"Date\": \"2017-10-31T00:00:00-04:00\", \"Stock\": \"Total\", \"Value\": 1557284.2324266294}, {\"Date\": \"2017-11-30T00:00:00-05:00\", \"Stock\": \"Total\", \"Value\": 1684790.196417079}, {\"Date\": \"2017-12-31T00:00:00-05:00\", \"Stock\": \"Total\", \"Value\": 1772836.4742912652}, {\"Date\": \"2018-01-31T00:00:00-05:00\", \"Stock\": \"Total\", \"Value\": 1799973.398507601}, {\"Date\": \"2018-02-28T00:00:00-05:00\", \"Stock\": \"Total\", \"Value\": 1892523.3139731772}, {\"Date\": \"2018-03-31T00:00:00-04:00\", \"Stock\": \"Total\", \"Value\": 1893735.0567199057}, {\"Date\": \"2018-04-30T00:00:00-04:00\", \"Stock\": \"Total\", \"Value\": 1807285.4510318565}, {\"Date\": \"2018-05-31T00:00:00-04:00\", \"Stock\": \"Total\", \"Value\": 1935734.4266380677}, {\"Date\": \"2018-06-30T00:00:00-04:00\", \"Stock\": \"Total\", \"Value\": 2006308.4058495255}, {\"Date\": \"2018-07-31T00:00:00-04:00\", \"Stock\": \"Total\", \"Value\": 1988956.119998642}, {\"Date\": \"2018-08-31T00:00:00-04:00\", \"Stock\": \"Total\", \"Value\": 2044492.6574530497}, {\"Date\": \"2018-09-30T00:00:00-04:00\", \"Stock\": \"Total\", \"Value\": 2217599.2287242925}, {\"Date\": \"2018-10-31T00:00:00-04:00\", \"Stock\": \"Total\", \"Value\": 2203690.971258958}, {\"Date\": \"2018-11-30T00:00:00-05:00\", \"Stock\": \"Total\", \"Value\": 2071160.8345677885}, {\"Date\": \"2018-12-31T00:00:00-05:00\", \"Stock\": \"Total\", \"Value\": 2114594.147363018}, {\"Date\": \"2019-01-31T00:00:00-05:00\", \"Stock\": \"Total\", \"Value\": 1892785.776668091}, {\"Date\": \"2019-02-28T00:00:00-05:00\", \"Stock\": \"Total\", \"Value\": 1998314.5225814178}, {\"Date\": \"2019-03-31T00:00:00-04:00\", \"Stock\": \"Total\", \"Value\": 2095885.1829986377}, {\"Date\": \"2019-04-30T00:00:00-04:00\", \"Stock\": \"Total\", \"Value\": 2233599.8473143913}, {\"Date\": \"2019-05-31T00:00:00-04:00\", \"Stock\": \"Total\", \"Value\": 2326318.110515617}, {\"Date\": \"2019-06-30T00:00:00-04:00\", \"Stock\": \"Total\", \"Value\": 2164555.1837277855}, {\"Date\": \"2019-07-31T00:00:00-04:00\", \"Stock\": \"Total\", \"Value\": 2404549.2420877567}, {\"Date\": \"2019-08-31T00:00:00-04:00\", \"Stock\": \"Total\", \"Value\": 2434157.9950194503}, {\"Date\": \"2019-09-30T00:00:00-04:00\", \"Stock\": \"Total\", \"Value\": 2455374.0984955663}, {\"Date\": \"2019-10-31T00:00:00-04:00\", \"Stock\": \"Total\", \"Value\": 2416862.113128571}, {\"Date\": \"2019-11-30T00:00:00-05:00\", \"Stock\": \"Total\", \"Value\": 2518221.0842510685}, {\"Date\": \"2019-12-31T00:00:00-05:00\", \"Stock\": \"Total\", \"Value\": 2574778.354753387}, {\"Date\": \"2020-01-31T00:00:00-05:00\", \"Stock\": \"Total\", \"Value\": 2712440.425057736}, {\"Date\": \"2020-02-29T00:00:00-05:00\", \"Stock\": \"Total\", \"Value\": 2777860.8654698967}, {\"Date\": \"2020-03-31T00:00:00-04:00\", \"Stock\": \"Total\", \"Value\": 2682934.0485380925}, {\"Date\": \"2020-04-30T00:00:00-04:00\", \"Stock\": \"Total\", \"Value\": 2362930.4566488913}, {\"Date\": \"2020-05-31T00:00:00-04:00\", \"Stock\": \"Total\", \"Value\": 2715951.088619582}, {\"Date\": \"2020-06-30T00:00:00-04:00\", \"Stock\": \"Total\", \"Value\": 2905288.4160997956}, {\"Date\": \"2020-07-31T00:00:00-04:00\", \"Stock\": \"Total\", \"Value\": 3106826.750100184}, {\"Date\": \"2020-08-31T00:00:00-04:00\", \"Stock\": \"Total\", \"Value\": 3321031.2825370915}, {\"Date\": \"2020-09-30T00:00:00-04:00\", \"Stock\": \"Total\", \"Value\": 3692305.4342931197}, {\"Date\": \"2020-10-31T00:00:00-04:00\", \"Stock\": \"Total\", \"Value\": 3473721.8521117796}, {\"Date\": \"2020-11-30T00:00:00-05:00\", \"Stock\": \"Total\", \"Value\": 3306011.3965675645}, {\"Date\": \"2020-12-31T00:00:00-05:00\", \"Stock\": \"Total\", \"Value\": 3637513.174568724}, {\"Date\": \"2021-01-31T00:00:00-05:00\", \"Stock\": \"Total\", \"Value\": 3655669.222804621}, {\"Date\": \"2021-02-28T00:00:00-05:00\", \"Stock\": \"Total\", \"Value\": 3774641.1334194387}, {\"Date\": \"2021-03-31T00:00:00-04:00\", \"Stock\": \"Total\", \"Value\": 3723980.000576108}, {\"Date\": \"2021-04-30T00:00:00-04:00\", \"Stock\": \"Total\", \"Value\": 3781708.1109392922}, {\"Date\": \"2021-05-31T00:00:00-04:00\", \"Stock\": \"Total\", \"Value\": 3966739.1640971117}, {\"Date\": \"2021-06-30T00:00:00-04:00\", \"Stock\": \"Total\", \"Value\": 3867253.4453549325}, {\"Date\": \"2021-07-31T00:00:00-04:00\", \"Stock\": \"Total\", \"Value\": 4060106.089724001}, {\"Date\": \"2021-08-31T00:00:00-04:00\", \"Stock\": \"Total\", \"Value\": 4137960.3574560382}, {\"Date\": \"2021-09-30T00:00:00-04:00\", \"Stock\": \"Total\", \"Value\": 4322681.899557071}, {\"Date\": \"2021-10-31T00:00:00-04:00\", \"Stock\": \"Total\", \"Value\": 4131353.9231377877}, {\"Date\": \"2021-11-30T00:00:00-05:00\", \"Stock\": \"Total\", \"Value\": 4338431.074435725}, {\"Date\": \"2021-12-31T00:00:00-05:00\", \"Stock\": \"Total\", \"Value\": 4439643.943912581}, {\"Date\": \"2022-01-31T00:00:00-05:00\", \"Stock\": \"Total\", \"Value\": 4641574.275857412}, {\"Date\": \"2022-02-28T00:00:00-05:00\", \"Stock\": \"Total\", \"Value\": 4271886.476975591}, {\"Date\": \"2022-03-31T00:00:00-04:00\", \"Stock\": \"Total\", \"Value\": 4152013.380726354}, {\"Date\": \"2022-04-30T00:00:00-04:00\", \"Stock\": \"Total\", \"Value\": 4405177.831740084}, {\"Date\": \"2022-05-31T00:00:00-04:00\", \"Stock\": \"Total\", \"Value\": 3882378.4152283575}, {\"Date\": \"2022-06-30T00:00:00-04:00\", \"Stock\": \"Total\", \"Value\": 3679839.464683875}, {\"Date\": \"2022-07-31T00:00:00-04:00\", \"Stock\": \"Total\", \"Value\": 3492683.2113255784}, {\"Date\": \"2022-08-31T00:00:00-04:00\", \"Stock\": \"Total\", \"Value\": 3928979.8916506157}, {\"Date\": \"2022-09-30T00:00:00-04:00\", \"Stock\": \"Total\", \"Value\": 3743096.523825392}, {\"Date\": \"2022-10-31T00:00:00-04:00\", \"Stock\": \"Total\", \"Value\": 3435279.7153514824}, {\"Date\": \"2022-11-30T00:00:00-05:00\", \"Stock\": \"Total\", \"Value\": 3368775.7588466983}, {\"Date\": \"2022-12-31T00:00:00-05:00\", \"Stock\": \"Total\", \"Value\": 3509527.283940484}, {\"Date\": \"2023-01-31T00:00:00-05:00\", \"Stock\": \"Total\", \"Value\": 3201192.708237579}, {\"Date\": \"2023-02-28T00:00:00-05:00\", \"Stock\": \"Total\", \"Value\": 3580536.2881454984}, {\"Date\": \"2023-03-31T00:00:00-04:00\", \"Stock\": \"Total\", \"Value\": 3376139.960479555}, {\"Date\": \"2023-04-30T00:00:00-04:00\", \"Stock\": \"Total\", \"Value\": 3718315.52478895}, {\"Date\": \"2023-05-31T00:00:00-04:00\", \"Stock\": \"Total\", \"Value\": 3805921.712994444}, {\"Date\": \"2023-06-30T00:00:00-04:00\", \"Stock\": \"Total\", \"Value\": 4008487.1805951586}, {\"Date\": \"2023-07-31T00:00:00-04:00\", \"Stock\": \"Total\", \"Value\": 4203101.077702698}, {\"Date\": \"2023-08-31T00:00:00-04:00\", \"Stock\": \"Total\", \"Value\": 4274714.570340669}, {\"Date\": \"2023-09-30T00:00:00-04:00\", \"Stock\": \"Total\", \"Value\": 4251272.394841497}, {\"Date\": \"2023-10-31T00:00:00-04:00\", \"Stock\": \"Total\", \"Value\": 4074653.555595397}, {\"Date\": \"2023-11-30T00:00:00-05:00\", \"Stock\": \"Total\", \"Value\": 4169883.6017428064}, {\"Date\": \"2023-12-31T00:00:00-05:00\", \"Stock\": \"Total\", \"Value\": 4495833.254649629}, {\"Date\": \"2024-01-31T00:00:00-05:00\", \"Stock\": \"Total\", \"Value\": 4586428.326096982}, {\"Date\": \"2024-02-29T00:00:00-05:00\", \"Stock\": \"Total\", \"Value\": 4800870.856649167}, {\"Date\": \"2024-03-31T00:00:00-04:00\", \"Stock\": \"Total\", \"Value\": 5001033.594957293}, {\"Date\": \"2024-04-30T00:00:00-04:00\", \"Stock\": \"Total\", \"Value\": 5003130.528234226}, {\"Date\": \"2024-05-31T00:00:00-04:00\", \"Stock\": \"Total\", \"Value\": 4790523.886122059}, {\"Date\": \"2024-06-30T00:00:00-04:00\", \"Stock\": \"Total\", \"Value\": 5102458.196265028}, {\"Date\": \"2024-07-31T00:00:00-04:00\", \"Stock\": \"Total\", \"Value\": 5478353.204862385}, {\"Date\": \"2024-08-31T00:00:00-04:00\", \"Stock\": \"Total\", \"Value\": 5269546.977578058}, {\"Date\": \"2024-09-30T00:00:00-04:00\", \"Stock\": \"Total\", \"Value\": 5346902.366286055}, {\"Date\": \"2024-10-31T00:00:00-04:00\", \"Stock\": \"Total\", \"Value\": 5494366.681322776}, {\"Date\": \"2024-11-30T00:00:00-05:00\", \"Stock\": \"Total\", \"Value\": 5552745.248214426}, {\"Date\": \"2024-12-31T00:00:00-05:00\", \"Stock\": \"Total\", \"Value\": 5960514.7526562195}, {\"Date\": \"2025-01-31T00:00:00-05:00\", \"Stock\": \"Total\", \"Value\": 5869873.4198994}, {\"Date\": \"2025-02-28T00:00:00-05:00\", \"Stock\": \"Total\", \"Value\": 6073507.259014289}, {\"Date\": \"2025-03-31T00:00:00-04:00\", \"Stock\": \"Total\", \"Value\": 5900995.919524667}, {\"Date\": \"2025-04-30T00:00:00-04:00\", \"Stock\": \"Total\", \"Value\": 5544404.613841909}, {\"Date\": \"2025-05-31T00:00:00-04:00\", \"Stock\": \"Total\", \"Value\": 5614743.657842757}]}}, {\"mode\": \"vega-lite\"});\n",
              "</script>"
            ],
            "text/plain": [
              "alt.LayerChart(...)"
            ]
          },
          "metadata": {},
          "output_type": "display_data"
        },
        {
          "data": {
            "text/html": [
              "\n",
              "<style>\n",
              "  #altair-viz-ae5b867499a345f299356151806d3cb6.vega-embed {\n",
              "    width: 100%;\n",
              "    display: flex;\n",
              "  }\n",
              "\n",
              "  #altair-viz-ae5b867499a345f299356151806d3cb6.vega-embed details,\n",
              "  #altair-viz-ae5b867499a345f299356151806d3cb6.vega-embed details summary {\n",
              "    position: relative;\n",
              "  }\n",
              "</style>\n",
              "<div id=\"altair-viz-ae5b867499a345f299356151806d3cb6\"></div>\n",
              "<script type=\"text/javascript\">\n",
              "  var VEGA_DEBUG = (typeof VEGA_DEBUG == \"undefined\") ? {} : VEGA_DEBUG;\n",
              "  (function(spec, embedOpt){\n",
              "    let outputDiv = document.currentScript.previousElementSibling;\n",
              "    if (outputDiv.id !== \"altair-viz-ae5b867499a345f299356151806d3cb6\") {\n",
              "      outputDiv = document.getElementById(\"altair-viz-ae5b867499a345f299356151806d3cb6\");\n",
              "    }\n",
              "\n",
              "    const paths = {\n",
              "      \"vega\": \"https://cdn.jsdelivr.net/npm/vega@5?noext\",\n",
              "      \"vega-lib\": \"https://cdn.jsdelivr.net/npm/vega-lib?noext\",\n",
              "      \"vega-lite\": \"https://cdn.jsdelivr.net/npm/vega-lite@5.20.1?noext\",\n",
              "      \"vega-embed\": \"https://cdn.jsdelivr.net/npm/vega-embed@6?noext\",\n",
              "    };\n",
              "\n",
              "    function maybeLoadScript(lib, version) {\n",
              "      var key = `${lib.replace(\"-\", \"\")}_version`;\n",
              "      return (VEGA_DEBUG[key] == version) ?\n",
              "        Promise.resolve(paths[lib]) :\n",
              "        new Promise(function(resolve, reject) {\n",
              "          var s = document.createElement('script');\n",
              "          document.getElementsByTagName(\"head\")[0].appendChild(s);\n",
              "          s.async = true;\n",
              "          s.onload = () => {\n",
              "            VEGA_DEBUG[key] = version;\n",
              "            return resolve(paths[lib]);\n",
              "          };\n",
              "          s.onerror = () => reject(`Error loading script: ${paths[lib]}`);\n",
              "          s.src = paths[lib];\n",
              "        });\n",
              "    }\n",
              "\n",
              "    function showError(err) {\n",
              "      outputDiv.innerHTML = `<div class=\"error\" style=\"color:red;\">${err}</div>`;\n",
              "      throw err;\n",
              "    }\n",
              "\n",
              "    function displayChart(vegaEmbed) {\n",
              "      vegaEmbed(outputDiv, spec, embedOpt)\n",
              "        .catch(err => showError(`Javascript Error: ${err.message}<br>This usually means there's a typo in your chart specification. See the javascript console for the full traceback.`));\n",
              "    }\n",
              "\n",
              "    if(typeof define === \"function\" && define.amd) {\n",
              "      requirejs.config({paths});\n",
              "      let deps = [\"vega-embed\"];\n",
              "      require(deps, displayChart, err => showError(`Error loading script: ${err.message}`));\n",
              "    } else {\n",
              "      maybeLoadScript(\"vega\", \"5\")\n",
              "        .then(() => maybeLoadScript(\"vega-lite\", \"5.20.1\"))\n",
              "        .then(() => maybeLoadScript(\"vega-embed\", \"6\"))\n",
              "        .catch(showError)\n",
              "        .then(() => displayChart(vegaEmbed));\n",
              "    }\n",
              "  })({\"config\": {\"view\": {\"continuousWidth\": 300, \"continuousHeight\": 300}}, \"layer\": [{\"mark\": {\"type\": \"line\"}, \"encoding\": {\"color\": {\"field\": \"Stock\", \"title\": \"Stock\", \"type\": \"nominal\"}, \"x\": {\"field\": \"Date\", \"title\": \"Date\", \"type\": \"temporal\"}, \"y\": {\"field\": \"Value\", \"title\": \"Portfolio Value\", \"type\": \"quantitative\"}}, \"name\": \"view_3\"}, {\"mark\": {\"type\": \"point\"}, \"encoding\": {\"color\": {\"field\": \"Stock\", \"title\": \"Stock\", \"type\": \"nominal\"}, \"opacity\": {\"condition\": [{\"param\": \"param_3\", \"value\": 1, \"empty\": false}], \"value\": 0}, \"x\": {\"field\": \"Date\", \"title\": \"Date\", \"type\": \"temporal\"}, \"y\": {\"field\": \"Value\", \"title\": \"Portfolio Value\", \"type\": \"quantitative\"}}}, {\"mark\": {\"type\": \"rule\", \"color\": \"gray\"}, \"encoding\": {\"opacity\": {\"condition\": [{\"param\": \"param_3\", \"value\": 0.3, \"empty\": false}], \"value\": 0}, \"tooltip\": [{\"field\": \"Date\", \"title\": \"Date\", \"type\": \"temporal\"}, {\"field\": \"AAPL\", \"format\": \".2f\", \"type\": \"quantitative\"}, {\"field\": \"MSFT\", \"format\": \".2f\", \"type\": \"quantitative\"}, {\"field\": \"^IXIC\", \"format\": \".2f\", \"type\": \"quantitative\"}, {\"field\": \"COST\", \"format\": \".2f\", \"type\": \"quantitative\"}, {\"field\": \"WMT\", \"format\": \".2f\", \"type\": \"quantitative\"}, {\"field\": \"AMZN\", \"format\": \".2f\", \"type\": \"quantitative\"}, {\"field\": \"^GSPC\", \"format\": \".2f\", \"type\": \"quantitative\"}, {\"field\": \"SBUX\", \"format\": \".2f\", \"type\": \"quantitative\"}, {\"field\": \"TSN\", \"format\": \".2f\", \"type\": \"quantitative\"}, {\"field\": \"INTC\", \"format\": \".2f\", \"type\": \"quantitative\"}], \"x\": {\"field\": \"Date\", \"type\": \"temporal\"}}, \"name\": \"view_4\", \"transform\": [{\"pivot\": \"Stock\", \"value\": \"Value\", \"groupby\": [\"Date\"]}]}], \"data\": {\"name\": \"data-52630035ed622850db09a99cfa94dee6\"}, \"height\": 300, \"params\": [{\"name\": \"param_4\", \"select\": {\"type\": \"interval\", \"encodings\": [\"x\", \"y\"]}, \"bind\": \"scales\", \"views\": [\"view_3\"]}, {\"name\": \"param_3\", \"select\": {\"type\": \"point\", \"fields\": [\"Date\"], \"nearest\": true, \"on\": \"mouseover\"}, \"views\": [\"view_4\"]}], \"title\": \"Portfolio Value Over Time\", \"width\": 600, \"$schema\": \"https://vega.github.io/schema/vega-lite/v5.20.1.json\", \"datasets\": {\"data-52630035ed622850db09a99cfa94dee6\": [{\"Date\": \"2015-01-31T00:00:00-05:00\", \"Stock\": \"AAPL\", \"Value\": 100000.0}, {\"Date\": \"2015-02-28T00:00:00-05:00\", \"Stock\": \"AAPL\", \"Value\": 108506.35213970428}, {\"Date\": \"2015-03-31T00:00:00-04:00\", \"Stock\": \"AAPL\", \"Value\": 118539.69303010717}, {\"Date\": \"2015-04-30T00:00:00-04:00\", \"Stock\": \"AAPL\", \"Value\": 114095.24876017073}, {\"Date\": \"2015-05-31T00:00:00-04:00\", \"Stock\": \"AAPL\", \"Value\": 118411.14170149346}, {\"Date\": \"2015-06-30T00:00:00-04:00\", \"Stock\": \"AAPL\", \"Value\": 120371.93817945405}, {\"Date\": \"2015-07-31T00:00:00-04:00\", \"Stock\": \"AAPL\", \"Value\": 116738.78864755914}, {\"Date\": \"2015-08-31T00:00:00-04:00\", \"Stock\": \"AAPL\", \"Value\": 109214.41317182303}, {\"Date\": \"2015-09-30T00:00:00-04:00\", \"Stock\": \"AAPL\", \"Value\": 99779.02835455949}, {\"Date\": \"2015-10-31T00:00:00-04:00\", \"Stock\": \"AAPL\", \"Value\": 101501.8910081055}, {\"Date\": \"2015-11-30T00:00:00-05:00\", \"Stock\": \"AAPL\", \"Value\": 112246.79530647084}, {\"Date\": \"2015-12-31T00:00:00-05:00\", \"Stock\": \"AAPL\", \"Value\": 109155.07695685633}, {\"Date\": \"2016-01-31T00:00:00-05:00\", \"Stock\": \"AAPL\", \"Value\": 98001.44696810082}, {\"Date\": \"2016-02-29T00:00:00-05:00\", \"Stock\": \"AAPL\", \"Value\": 89703.68251261386}, {\"Date\": \"2016-03-31T00:00:00-04:00\", \"Stock\": \"AAPL\", \"Value\": 94025.09601496378}, {\"Date\": \"2016-04-30T00:00:00-04:00\", \"Stock\": \"AAPL\", \"Value\": 102872.99262231596}, {\"Date\": \"2016-05-31T00:00:00-04:00\", \"Stock\": \"AAPL\", \"Value\": 87580.93648975402}, {\"Date\": \"2016-06-30T00:00:00-04:00\", \"Stock\": \"AAPL\", \"Value\": 92649.73815028853}, {\"Date\": \"2016-07-31T00:00:00-04:00\", \"Stock\": \"AAPL\", \"Value\": 90231.40260022352}, {\"Date\": \"2016-08-31T00:00:00-04:00\", \"Stock\": \"AAPL\", \"Value\": 99791.83637025704}, {\"Date\": \"2016-09-30T00:00:00-04:00\", \"Stock\": \"AAPL\", \"Value\": 100975.75719834433}, {\"Date\": \"2016-10-31T00:00:00-04:00\", \"Stock\": \"AAPL\", \"Value\": 106453.57510511251}, {\"Date\": \"2016-11-30T00:00:00-05:00\", \"Stock\": \"AAPL\", \"Value\": 105479.10577591253}, {\"Date\": \"2016-12-31T00:00:00-05:00\", \"Stock\": \"AAPL\", \"Value\": 104118.79399221609}, {\"Date\": \"2017-01-31T00:00:00-05:00\", \"Stock\": \"AAPL\", \"Value\": 110452.09468382539}, {\"Date\": \"2017-02-28T00:00:00-05:00\", \"Stock\": \"AAPL\", \"Value\": 122433.97373673585}, {\"Date\": \"2017-03-31T00:00:00-04:00\", \"Stock\": \"AAPL\", \"Value\": 133508.69818181932}, {\"Date\": \"2017-04-30T00:00:00-04:00\", \"Stock\": \"AAPL\", \"Value\": 137243.0161172897}, {\"Date\": \"2017-05-31T00:00:00-04:00\", \"Stock\": \"AAPL\", \"Value\": 139993.60620087007}, {\"Date\": \"2017-06-30T00:00:00-04:00\", \"Stock\": \"AAPL\", \"Value\": 146900.9038878178}, {\"Date\": \"2017-07-31T00:00:00-04:00\", \"Stock\": \"AAPL\", \"Value\": 137617.67609824025}, {\"Date\": \"2017-08-31T00:00:00-04:00\", \"Stock\": \"AAPL\", \"Value\": 143899.2421439786}, {\"Date\": \"2017-09-30T00:00:00-04:00\", \"Stock\": \"AAPL\", \"Value\": 157943.15675417084}, {\"Date\": \"2017-10-31T00:00:00-04:00\", \"Stock\": \"AAPL\", \"Value\": 148084.3613971276}, {\"Date\": \"2017-11-30T00:00:00-05:00\", \"Stock\": \"AAPL\", \"Value\": 160677.4285933493}, {\"Date\": \"2017-12-31T00:00:00-05:00\", \"Stock\": \"AAPL\", \"Value\": 165274.60314979815}, {\"Date\": \"2018-01-31T00:00:00-05:00\", \"Stock\": \"AAPL\", \"Value\": 166443.67421842247}, {\"Date\": \"2018-02-28T00:00:00-05:00\", \"Stock\": \"AAPL\", \"Value\": 162115.00467284472}, {\"Date\": \"2018-03-31T00:00:00-04:00\", \"Stock\": \"AAPL\", \"Value\": 169780.60599426128}, {\"Date\": \"2018-04-30T00:00:00-04:00\", \"Stock\": \"AAPL\", \"Value\": 161708.7290749731}, {\"Date\": \"2018-05-31T00:00:00-04:00\", \"Stock\": \"AAPL\", \"Value\": 164056.5930536893}, {\"Date\": \"2018-06-30T00:00:00-04:00\", \"Stock\": \"AAPL\", \"Value\": 185277.8024052213}, {\"Date\": \"2018-07-31T00:00:00-04:00\", \"Stock\": \"AAPL\", \"Value\": 182297.59467664003}, {\"Date\": \"2018-08-31T00:00:00-04:00\", \"Stock\": \"AAPL\", \"Value\": 196244.08669778024}, {\"Date\": \"2018-09-30T00:00:00-04:00\", \"Stock\": \"AAPL\", \"Value\": 223183.46646157088}, {\"Date\": \"2018-10-31T00:00:00-04:00\", \"Stock\": \"AAPL\", \"Value\": 222108.37842903996}, {\"Date\": \"2018-11-30T00:00:00-05:00\", \"Stock\": \"AAPL\", \"Value\": 217182.67159501734}, {\"Date\": \"2018-12-31T00:00:00-05:00\", \"Stock\": \"AAPL\", \"Value\": 181260.687252522}, {\"Date\": \"2019-01-31T00:00:00-05:00\", \"Stock\": \"AAPL\", \"Value\": 154878.7663595701}, {\"Date\": \"2019-02-28T00:00:00-05:00\", \"Stock\": \"AAPL\", \"Value\": 163313.11562010154}, {\"Date\": \"2019-03-31T00:00:00-04:00\", \"Stock\": \"AAPL\", \"Value\": 172336.3508997376}, {\"Date\": \"2019-04-30T00:00:00-04:00\", \"Stock\": \"AAPL\", \"Value\": 188361.46371982314}, {\"Date\": \"2019-05-31T00:00:00-04:00\", \"Stock\": \"AAPL\", \"Value\": 207351.25131015165}, {\"Date\": \"2019-06-30T00:00:00-04:00\", \"Stock\": \"AAPL\", \"Value\": 171348.77514613586}, {\"Date\": \"2019-07-31T00:00:00-04:00\", \"Stock\": \"AAPL\", \"Value\": 199280.75649433542}, {\"Date\": \"2019-08-31T00:00:00-04:00\", \"Stock\": \"AAPL\", \"Value\": 206083.2656089544}, {\"Date\": \"2019-09-30T00:00:00-04:00\", \"Stock\": \"AAPL\", \"Value\": 204156.77042625248}, {\"Date\": \"2019-10-31T00:00:00-04:00\", \"Stock\": \"AAPL\", \"Value\": 222905.05114057698}, {\"Date\": \"2019-11-30T00:00:00-05:00\", \"Stock\": \"AAPL\", \"Value\": 253900.79465452637}, {\"Date\": \"2019-12-31T00:00:00-05:00\", \"Stock\": \"AAPL\", \"Value\": 262965.3516868298}, {\"Date\": \"2020-01-31T00:00:00-05:00\", \"Stock\": \"AAPL\", \"Value\": 298991.7005471795}, {\"Date\": \"2020-02-29T00:00:00-05:00\", \"Stock\": \"AAPL\", \"Value\": 307264.0924099511}, {\"Date\": \"2020-03-31T00:00:00-04:00\", \"Stock\": \"AAPL\", \"Value\": 298164.5744420955}, {\"Date\": \"2020-04-30T00:00:00-04:00\", \"Stock\": \"AAPL\", \"Value\": 240389.6338156115}, {\"Date\": \"2020-05-31T00:00:00-04:00\", \"Stock\": \"AAPL\", \"Value\": 288445.59141581814}, {\"Date\": \"2020-06-30T00:00:00-04:00\", \"Stock\": \"AAPL\", \"Value\": 322024.20361588115}, {\"Date\": \"2020-07-31T00:00:00-04:00\", \"Stock\": \"AAPL\", \"Value\": 364306.9579564909}, {\"Date\": \"2020-08-31T00:00:00-04:00\", \"Stock\": \"AAPL\", \"Value\": 435985.7652765821}, {\"Date\": \"2020-09-30T00:00:00-04:00\", \"Stock\": \"AAPL\", \"Value\": 537978.8134531754}, {\"Date\": \"2020-10-31T00:00:00-04:00\", \"Stock\": \"AAPL\", \"Value\": 468255.58831158245}, {\"Date\": \"2020-11-30T00:00:00-05:00\", \"Stock\": \"AAPL\", \"Value\": 436100.32280754216}, {\"Date\": \"2020-12-31T00:00:00-05:00\", \"Stock\": \"AAPL\", \"Value\": 492880.1175227712}, {\"Date\": \"2021-01-31T00:00:00-05:00\", \"Stock\": \"AAPL\", \"Value\": 519748.99430377054}, {\"Date\": \"2021-02-28T00:00:00-05:00\", \"Stock\": \"AAPL\", \"Value\": 538746.2578174247}, {\"Date\": \"2021-03-31T00:00:00-04:00\", \"Stock\": \"AAPL\", \"Value\": 514009.62116779416}, {\"Date\": \"2021-04-30T00:00:00-04:00\", \"Stock\": \"AAPL\", \"Value\": 494742.81606566504}, {\"Date\": \"2021-05-31T00:00:00-04:00\", \"Stock\": \"AAPL\", \"Value\": 533115.3798039973}, {\"Date\": \"2021-06-30T00:00:00-04:00\", \"Stock\": \"AAPL\", \"Value\": 500740.45408224285}, {\"Date\": \"2021-07-31T00:00:00-04:00\", \"Stock\": \"AAPL\", \"Value\": 553079.0477589782}, {\"Date\": \"2021-08-31T00:00:00-04:00\", \"Stock\": \"AAPL\", \"Value\": 586319.2016656232}, {\"Date\": \"2021-09-30T00:00:00-04:00\", \"Stock\": \"AAPL\", \"Value\": 615403.4332549645}, {\"Date\": \"2021-10-31T00:00:00-04:00\", \"Stock\": \"AAPL\", \"Value\": 575616.7577847175}, {\"Date\": \"2021-11-30T00:00:00-05:00\", \"Stock\": \"AAPL\", \"Value\": 601078.6218198172}, {\"Date\": \"2021-12-31T00:00:00-05:00\", \"Stock\": \"AAPL\", \"Value\": 665845.0585049897}, {\"Date\": \"2022-01-31T00:00:00-05:00\", \"Stock\": \"AAPL\", \"Value\": 735512.873861934}, {\"Date\": \"2022-02-28T00:00:00-05:00\", \"Stock\": \"AAPL\", \"Value\": 705609.0549137195}, {\"Date\": \"2022-03-31T00:00:00-04:00\", \"Stock\": \"AAPL\", \"Value\": 660340.8942507873}, {\"Date\": \"2022-04-30T00:00:00-04:00\", \"Stock\": \"AAPL\", \"Value\": 705294.1237907675}, {\"Date\": \"2022-05-31T00:00:00-04:00\", \"Stock\": \"AAPL\", \"Value\": 639138.6102933884}, {\"Date\": \"2022-06-30T00:00:00-04:00\", \"Stock\": \"AAPL\", \"Value\": 602595.3547345251}, {\"Date\": \"2022-07-31T00:00:00-04:00\", \"Stock\": \"AAPL\", \"Value\": 562965.2338939203}, {\"Date\": \"2022-08-31T00:00:00-04:00\", \"Stock\": \"AAPL\", \"Value\": 654462.8710074192}, {\"Date\": \"2022-09-30T00:00:00-04:00\", \"Stock\": \"AAPL\", \"Value\": 640966.8190723683}, {\"Date\": \"2022-10-31T00:00:00-04:00\", \"Stock\": \"AAPL\", \"Value\": 578030.6014984986}, {\"Date\": \"2022-11-30T00:00:00-05:00\", \"Stock\": \"AAPL\", \"Value\": 611304.4284715514}, {\"Date\": \"2022-12-31T00:00:00-05:00\", \"Stock\": \"AAPL\", \"Value\": 602807.444794586}, {\"Date\": \"2023-01-31T00:00:00-05:00\", \"Stock\": \"AAPL\", \"Value\": 508348.3054665412}, {\"Date\": \"2023-02-28T00:00:00-05:00\", \"Stock\": \"AAPL\", \"Value\": 591101.7822616914}, {\"Date\": \"2023-03-31T00:00:00-04:00\", \"Stock\": \"AAPL\", \"Value\": 591515.8478973141}, {\"Date\": \"2023-04-30T00:00:00-04:00\", \"Stock\": \"AAPL\", \"Value\": 676430.965934055}, {\"Date\": \"2023-05-31T00:00:00-04:00\", \"Stock\": \"AAPL\", \"Value\": 690352.7685613552}, {\"Date\": \"2023-06-30T00:00:00-04:00\", \"Stock\": \"AAPL\", \"Value\": 734109.3477861569}, {\"Date\": \"2023-07-31T00:00:00-04:00\", \"Stock\": \"AAPL\", \"Value\": 784533.7595656677}, {\"Date\": \"2023-08-31T00:00:00-04:00\", \"Stock\": \"AAPL\", \"Value\": 797374.2546948132}, {\"Date\": \"2023-09-30T00:00:00-04:00\", \"Stock\": \"AAPL\", \"Value\": 773347.5794695754}, {\"Date\": \"2023-10-31T00:00:00-04:00\", \"Stock\": \"AAPL\", \"Value\": 709221.8105665423}, {\"Date\": \"2023-11-30T00:00:00-05:00\", \"Stock\": \"AAPL\", \"Value\": 710119.7380631219}, {\"Date\": \"2023-12-31T00:00:00-05:00\", \"Stock\": \"AAPL\", \"Value\": 781641.7080505879}, {\"Date\": \"2024-01-31T00:00:00-05:00\", \"Stock\": \"AAPL\", \"Value\": 758753.2578573957}, {\"Date\": \"2024-02-29T00:00:00-05:00\", \"Stock\": \"AAPL\", \"Value\": 763739.7615384634}, {\"Date\": \"2024-03-31T00:00:00-04:00\", \"Stock\": \"AAPL\", \"Value\": 735248.5779843638}, {\"Date\": \"2024-04-30T00:00:00-04:00\", \"Stock\": \"AAPL\", \"Value\": 695838.4000644564}, {\"Date\": \"2024-05-31T00:00:00-04:00\", \"Stock\": \"AAPL\", \"Value\": 692850.8577640408}, {\"Date\": \"2024-06-30T00:00:00-04:00\", \"Stock\": \"AAPL\", \"Value\": 795134.0534354184}, {\"Date\": \"2024-07-31T00:00:00-04:00\", \"Stock\": \"AAPL\", \"Value\": 888240.521813166}, {\"Date\": \"2024-08-31T00:00:00-04:00\", \"Stock\": \"AAPL\", \"Value\": 894838.3068510005}, {\"Date\": \"2024-09-30T00:00:00-04:00\", \"Stock\": \"AAPL\", \"Value\": 913967.1214860315}, {\"Date\": \"2024-10-31T00:00:00-04:00\", \"Stock\": \"AAPL\", \"Value\": 928080.5967357386}, {\"Date\": \"2024-11-30T00:00:00-05:00\", \"Stock\": \"AAPL\", \"Value\": 914541.5111244017}, {\"Date\": \"2024-12-31T00:00:00-05:00\", \"Stock\": \"AAPL\", \"Value\": 984056.6668705792}, {\"Date\": \"2025-01-31T00:00:00-05:00\", \"Stock\": \"AAPL\", \"Value\": 1001553.6570654191}, {\"Date\": \"2025-02-28T00:00:00-05:00\", \"Stock\": \"AAPL\", \"Value\": 936494.6542043863}, {\"Date\": \"2025-03-31T00:00:00-04:00\", \"Stock\": \"AAPL\", \"Value\": 978724.2603842106}, {\"Date\": \"2025-04-30T00:00:00-04:00\", \"Stock\": \"AAPL\", \"Value\": 917705.6485548028}, {\"Date\": \"2025-05-31T00:00:00-04:00\", \"Stock\": \"AAPL\", \"Value\": 877122.5045473954}, {\"Date\": \"2015-01-31T00:00:00-05:00\", \"Stock\": \"MSFT\", \"Value\": 100000.0}, {\"Date\": \"2015-02-28T00:00:00-05:00\", \"Stock\": \"MSFT\", \"Value\": 88280.59106675243}, {\"Date\": \"2015-03-31T00:00:00-04:00\", \"Stock\": \"MSFT\", \"Value\": 94508.6984186459}, {\"Date\": \"2015-04-30T00:00:00-04:00\", \"Stock\": \"MSFT\", \"Value\": 87702.71464076733}, {\"Date\": \"2015-05-31T00:00:00-04:00\", \"Stock\": \"MSFT\", \"Value\": 104803.8548195907}, {\"Date\": \"2015-06-30T00:00:00-04:00\", \"Stock\": \"MSFT\", \"Value\": 102385.05395886858}, {\"Date\": \"2015-07-31T00:00:00-04:00\", \"Stock\": \"MSFT\", \"Value\": 96358.58077570848}, {\"Date\": \"2015-08-31T00:00:00-04:00\", \"Stock\": \"MSFT\", \"Value\": 101474.55397924049}, {\"Date\": \"2015-09-30T00:00:00-04:00\", \"Stock\": \"MSFT\", \"Value\": 91255.087738137}, {\"Date\": \"2015-10-31T00:00:00-04:00\", \"Stock\": \"MSFT\", \"Value\": 97343.1716261761}, {\"Date\": \"2015-11-30T00:00:00-05:00\", \"Stock\": \"MSFT\", \"Value\": 116174.56163298071}, {\"Date\": \"2015-12-31T00:00:00-05:00\", \"Stock\": \"MSFT\", \"Value\": 121307.32737103163}, {\"Date\": \"2016-01-31T00:00:00-05:00\", \"Stock\": \"MSFT\", \"Value\": 120384.66137149694}, {\"Date\": \"2016-02-29T00:00:00-05:00\", \"Stock\": \"MSFT\", \"Value\": 120186.93974907156}, {\"Date\": \"2016-03-31T00:00:00-04:00\", \"Stock\": \"MSFT\", \"Value\": 116337.089377789}, {\"Date\": \"2016-04-30T00:00:00-04:00\", \"Stock\": \"MSFT\", \"Value\": 122952.71016656594}, {\"Date\": \"2016-05-31T00:00:00-04:00\", \"Stock\": \"MSFT\", \"Value\": 111978.33191872414}, {\"Date\": \"2016-06-30T00:00:00-04:00\", \"Stock\": \"MSFT\", \"Value\": 117752.3935073436}, {\"Date\": \"2016-07-31T00:00:00-04:00\", \"Stock\": \"MSFT\", \"Value\": 113986.9817875253}, {\"Date\": \"2016-08-31T00:00:00-04:00\", \"Stock\": \"MSFT\", \"Value\": 126063.00360944298}, {\"Date\": \"2016-09-30T00:00:00-04:00\", \"Stock\": \"MSFT\", \"Value\": 129113.07620574017}, {\"Date\": \"2016-10-31T00:00:00-04:00\", \"Stock\": \"MSFT\", \"Value\": 128731.95040528648}, {\"Date\": \"2016-11-30T00:00:00-05:00\", \"Stock\": \"MSFT\", \"Value\": 134067.7306507926}, {\"Date\": \"2016-12-31T00:00:00-05:00\", \"Stock\": \"MSFT\", \"Value\": 133619.18720325097}, {\"Date\": \"2017-01-31T00:00:00-05:00\", \"Stock\": \"MSFT\", \"Value\": 141248.11940748626}, {\"Date\": \"2017-02-28T00:00:00-05:00\", \"Stock\": \"MSFT\", \"Value\": 143505.192167901}, {\"Date\": \"2017-03-31T00:00:00-04:00\", \"Stock\": \"MSFT\", \"Value\": 147463.4610060975}, {\"Date\": \"2017-04-30T00:00:00-04:00\", \"Stock\": \"MSFT\", \"Value\": 148848.63567320738}, {\"Date\": \"2017-05-31T00:00:00-04:00\", \"Stock\": \"MSFT\", \"Value\": 157613.72943914076}, {\"Date\": \"2017-06-30T00:00:00-04:00\", \"Stock\": \"MSFT\", \"Value\": 160093.01769460968}, {\"Date\": \"2017-07-31T00:00:00-04:00\", \"Stock\": \"MSFT\", \"Value\": 155685.32008817416}, {\"Date\": \"2017-08-31T00:00:00-04:00\", \"Stock\": \"MSFT\", \"Value\": 165756.76642041426}, {\"Date\": \"2017-09-30T00:00:00-04:00\", \"Stock\": \"MSFT\", \"Value\": 169762.37611697963}, {\"Date\": \"2017-10-31T00:00:00-04:00\", \"Stock\": \"MSFT\", \"Value\": 171300.68270601225}, {\"Date\": \"2017-11-30T00:00:00-05:00\", \"Stock\": \"MSFT\", \"Value\": 190976.9637650614}, {\"Date\": \"2017-12-31T00:00:00-05:00\", \"Stock\": \"MSFT\", \"Value\": 194428.13423518}, {\"Date\": \"2018-01-31T00:00:00-05:00\", \"Stock\": \"MSFT\", \"Value\": 198327.81007453072}, {\"Date\": \"2018-02-28T00:00:00-05:00\", \"Stock\": \"MSFT\", \"Value\": 217502.90442306222}, {\"Date\": \"2018-03-31T00:00:00-04:00\", \"Stock\": \"MSFT\", \"Value\": 215255.7891405992}, {\"Date\": \"2018-04-30T00:00:00-04:00\", \"Stock\": \"MSFT\", \"Value\": 205217.48997683698}, {\"Date\": \"2018-05-31T00:00:00-04:00\", \"Stock\": \"MSFT\", \"Value\": 220240.18274542328}, {\"Date\": \"2018-06-30T00:00:00-04:00\", \"Stock\": \"MSFT\", \"Value\": 234676.0506852763}, {\"Date\": \"2018-07-31T00:00:00-04:00\", \"Stock\": \"MSFT\", \"Value\": 232859.90571048987}, {\"Date\": \"2018-08-31T00:00:00-04:00\", \"Stock\": \"MSFT\", \"Value\": 247458.78689359815}, {\"Date\": \"2018-09-30T00:00:00-04:00\", \"Stock\": \"MSFT\", \"Value\": 261102.7402293914}, {\"Date\": \"2018-10-31T00:00:00-04:00\", \"Stock\": \"MSFT\", \"Value\": 270218.3067565772}, {\"Date\": \"2018-11-30T00:00:00-05:00\", \"Stock\": \"MSFT\", \"Value\": 247569.6138135922}, {\"Date\": \"2018-12-31T00:00:00-05:00\", \"Stock\": \"MSFT\", \"Value\": 263122.75647359825}, {\"Date\": \"2019-01-31T00:00:00-05:00\", \"Stock\": \"MSFT\", \"Value\": 237371.51902373307}, {\"Date\": \"2019-02-28T00:00:00-05:00\", \"Stock\": \"MSFT\", \"Value\": 241268.2628332471}, {\"Date\": \"2019-03-31T00:00:00-04:00\", \"Stock\": \"MSFT\", \"Value\": 265283.7766981308}, {\"Date\": \"2019-04-30T00:00:00-04:00\", \"Stock\": \"MSFT\", \"Value\": 280583.58436458913}, {\"Date\": \"2019-05-31T00:00:00-04:00\", \"Stock\": \"MSFT\", \"Value\": 301470.62239377777}, {\"Date\": \"2019-06-30T00:00:00-04:00\", \"Stock\": \"MSFT\", \"Value\": 283562.46956115135}, {\"Date\": \"2019-07-31T00:00:00-04:00\", \"Stock\": \"MSFT\", \"Value\": 321042.7211978523}, {\"Date\": \"2019-08-31T00:00:00-04:00\", \"Stock\": \"MSFT\", \"Value\": 326674.198556299}, {\"Date\": \"2019-09-30T00:00:00-04:00\", \"Stock\": \"MSFT\", \"Value\": 322966.4754754744}, {\"Date\": \"2019-10-31T00:00:00-04:00\", \"Stock\": \"MSFT\", \"Value\": 325411.71220261324}, {\"Date\": \"2019-11-30T00:00:00-05:00\", \"Stock\": \"MSFT\", \"Value\": 341199.28397546697}, {\"Date\": \"2019-12-31T00:00:00-05:00\", \"Stock\": \"MSFT\", \"Value\": 356247.9842294873}, {\"Date\": \"2020-01-31T00:00:00-05:00\", \"Stock\": \"MSFT\", \"Value\": 382618.27979713405}, {\"Date\": \"2020-02-29T00:00:00-05:00\", \"Stock\": \"MSFT\", \"Value\": 415396.35522036493}, {\"Date\": \"2020-03-31T00:00:00-04:00\", \"Stock\": \"MSFT\", \"Value\": 412732.96785771806}, {\"Date\": \"2020-04-30T00:00:00-04:00\", \"Stock\": \"MSFT\", \"Value\": 363335.91885055293}, {\"Date\": \"2020-05-31T00:00:00-04:00\", \"Stock\": \"MSFT\", \"Value\": 416984.8680605613}, {\"Date\": \"2020-06-30T00:00:00-04:00\", \"Stock\": \"MSFT\", \"Value\": 437931.3653701384}, {\"Date\": \"2020-07-31T00:00:00-04:00\", \"Stock\": \"MSFT\", \"Value\": 490316.34317238774}, {\"Date\": \"2020-08-31T00:00:00-04:00\", \"Stock\": \"MSFT\", \"Value\": 518676.53504137404}, {\"Date\": \"2020-09-30T00:00:00-04:00\", \"Stock\": \"MSFT\", \"Value\": 545694.0857150364}, {\"Date\": \"2020-10-31T00:00:00-04:00\", \"Stock\": \"MSFT\", \"Value\": 510133.9328382392}, {\"Date\": \"2020-11-30T00:00:00-05:00\", \"Stock\": \"MSFT\", \"Value\": 485811.0318193778}, {\"Date\": \"2020-12-31T00:00:00-05:00\", \"Stock\": \"MSFT\", \"Value\": 520497.0971000702}, {\"Date\": \"2021-01-31T00:00:00-05:00\", \"Stock\": \"MSFT\", \"Value\": 524060.046447922}, {\"Date\": \"2021-02-28T00:00:00-05:00\", \"Stock\": \"MSFT\", \"Value\": 576925.7629084517}, {\"Date\": \"2021-03-31T00:00:00-04:00\", \"Stock\": \"MSFT\", \"Value\": 571715.6601236708}, {\"Date\": \"2021-04-30T00:00:00-04:00\", \"Stock\": \"MSFT\", \"Value\": 584769.4758177984}, {\"Date\": \"2021-05-31T00:00:00-04:00\", \"Stock\": \"MSFT\", \"Value\": 607716.3409638458}, {\"Date\": \"2021-06-30T00:00:00-04:00\", \"Stock\": \"MSFT\", \"Value\": 598333.1981553345}, {\"Date\": \"2021-07-31T00:00:00-04:00\", \"Stock\": \"MSFT\", \"Value\": 656860.5880737973}, {\"Date\": \"2021-08-31T00:00:00-04:00\", \"Stock\": \"MSFT\", \"Value\": 688832.8122316669}, {\"Date\": \"2021-09-30T00:00:00-04:00\", \"Stock\": \"MSFT\", \"Value\": 731368.7210295461}, {\"Date\": \"2021-10-31T00:00:00-04:00\", \"Stock\": \"MSFT\", \"Value\": 700522.5486421847}, {\"Date\": \"2021-11-30T00:00:00-05:00\", \"Stock\": \"MSFT\", \"Value\": 798101.1870151442}, {\"Date\": \"2021-12-31T00:00:00-05:00\", \"Stock\": \"MSFT\", \"Value\": 801284.9144780207}, {\"Date\": \"2022-01-31T00:00:00-05:00\", \"Stock\": \"MSFT\", \"Value\": 812621.5888022353}, {\"Date\": \"2022-02-28T00:00:00-05:00\", \"Stock\": \"MSFT\", \"Value\": 749529.7138376959}, {\"Date\": \"2022-03-31T00:00:00-04:00\", \"Stock\": \"MSFT\", \"Value\": 717485.5216747451}, {\"Date\": \"2022-04-30T00:00:00-04:00\", \"Stock\": \"MSFT\", \"Value\": 752685.0348816356}, {\"Date\": \"2022-05-31T00:00:00-04:00\", \"Stock\": \"MSFT\", \"Value\": 691992.398046278}, {\"Date\": \"2022-06-30T00:00:00-04:00\", \"Stock\": \"MSFT\", \"Value\": 664223.4861682445}, {\"Date\": \"2022-07-31T00:00:00-04:00\", \"Stock\": \"MSFT\", \"Value\": 632916.4900785061}, {\"Date\": \"2022-08-31T00:00:00-04:00\", \"Stock\": \"MSFT\", \"Value\": 677853.1601379502}, {\"Date\": \"2022-09-30T00:00:00-04:00\", \"Stock\": \"MSFT\", \"Value\": 636263.573489424}, {\"Date\": \"2022-10-31T00:00:00-04:00\", \"Stock\": \"MSFT\", \"Value\": 588226.1486036495}, {\"Date\": \"2022-11-30T00:00:00-05:00\", \"Stock\": \"MSFT\", \"Value\": 557512.4506552707}, {\"Date\": \"2022-12-31T00:00:00-05:00\", \"Stock\": \"MSFT\", \"Value\": 624065.49164619}, {\"Date\": \"2023-01-31T00:00:00-05:00\", \"Stock\": \"MSFT\", \"Value\": 587041.4562364084}, {\"Date\": \"2023-02-28T00:00:00-05:00\", \"Stock\": \"MSFT\", \"Value\": 619311.8716364953}, {\"Date\": \"2023-03-31T00:00:00-04:00\", \"Stock\": \"MSFT\", \"Value\": 604945.4204549826}, {\"Date\": \"2023-04-30T00:00:00-04:00\", \"Stock\": \"MSFT\", \"Value\": 705560.9182508196}, {\"Date\": \"2023-05-31T00:00:00-04:00\", \"Stock\": \"MSFT\", \"Value\": 750587.2246509838}, {\"Date\": \"2023-06-30T00:00:00-04:00\", \"Stock\": \"MSFT\", \"Value\": 818745.8756430952}, {\"Date\": \"2023-07-31T00:00:00-04:00\", \"Stock\": \"MSFT\", \"Value\": 832064.3736670213}, {\"Date\": \"2023-08-31T00:00:00-04:00\", \"Stock\": \"MSFT\", \"Value\": 828002.331915678}, {\"Date\": \"2023-09-30T00:00:00-04:00\", \"Stock\": \"MSFT\", \"Value\": 810808.7566403812}, {\"Date\": \"2023-10-31T00:00:00-04:00\", \"Stock\": \"MSFT\", \"Value\": 793885.0042666746}, {\"Date\": \"2023-11-30T00:00:00-05:00\", \"Stock\": \"MSFT\", \"Value\": 853759.3382294424}, {\"Date\": \"2023-12-31T00:00:00-05:00\", \"Stock\": \"MSFT\", \"Value\": 925796.6458340236}, {\"Date\": \"2024-01-31T00:00:00-05:00\", \"Stock\": \"MSFT\", \"Value\": 916798.2843436842}, {\"Date\": \"2024-02-29T00:00:00-05:00\", \"Stock\": \"MSFT\", \"Value\": 998152.5927330592}, {\"Date\": \"2024-03-31T00:00:00-04:00\", \"Stock\": \"MSFT\", \"Value\": 1029024.0491179732}, {\"Date\": \"2024-04-30T00:00:00-04:00\", \"Stock\": \"MSFT\", \"Value\": 1051486.7485578791}, {\"Date\": \"2024-05-31T00:00:00-04:00\", \"Stock\": \"MSFT\", \"Value\": 978105.3527822108}, {\"Date\": \"2024-06-30T00:00:00-04:00\", \"Stock\": \"MSFT\", \"Value\": 1025967.6555222878}, {\"Date\": \"2024-07-31T00:00:00-04:00\", \"Stock\": \"MSFT\", \"Value\": 1133174.165999344}, {\"Date\": \"2024-08-31T00:00:00-04:00\", \"Stock\": \"MSFT\", \"Value\": 1034874.5529130478}, {\"Date\": \"2024-09-30T00:00:00-04:00\", \"Stock\": \"MSFT\", \"Value\": 1017675.8751442694}, {\"Date\": \"2024-10-31T00:00:00-04:00\", \"Stock\": \"MSFT\", \"Value\": 1045638.0725216636}, {\"Date\": \"2024-11-30T00:00:00-05:00\", \"Stock\": \"MSFT\", \"Value\": 1019987.3808482096}, {\"Date\": \"2024-12-31T00:00:00-05:00\", \"Stock\": \"MSFT\", \"Value\": 1073358.4726333094}, {\"Date\": \"2025-01-31T00:00:00-05:00\", \"Stock\": \"MSFT\", \"Value\": 1042476.1258518593}, {\"Date\": \"2025-02-28T00:00:00-05:00\", \"Stock\": \"MSFT\", \"Value\": 1023398.8927589144}, {\"Date\": \"2025-03-31T00:00:00-04:00\", \"Stock\": \"MSFT\", \"Value\": 969476.8078343838}, {\"Date\": \"2025-04-30T00:00:00-04:00\", \"Stock\": \"MSFT\", \"Value\": 953755.1876936997}, {\"Date\": \"2025-05-31T00:00:00-04:00\", \"Stock\": \"MSFT\", \"Value\": 1061585.7255079362}, {\"Date\": \"2015-01-31T00:00:00-05:00\", \"Stock\": \"^IXIC\", \"Value\": 100000.0}, {\"Date\": \"2015-02-28T00:00:00-05:00\", \"Stock\": \"^IXIC\", \"Value\": 98939.66297426366}, {\"Date\": \"2015-03-31T00:00:00-04:00\", \"Stock\": \"^IXIC\", \"Value\": 105950.94864349563}, {\"Date\": \"2015-04-30T00:00:00-04:00\", \"Stock\": \"^IXIC\", \"Value\": 103245.73909197113}, {\"Date\": \"2015-05-31T00:00:00-04:00\", \"Stock\": \"^IXIC\", \"Value\": 105893.61693555927}, {\"Date\": \"2015-06-30T00:00:00-04:00\", \"Stock\": \"^IXIC\", \"Value\": 107534.04754523704}, {\"Date\": \"2015-07-31T00:00:00-04:00\", \"Stock\": \"^IXIC\", \"Value\": 106057.15175868371}, {\"Date\": \"2015-08-31T00:00:00-04:00\", \"Stock\": \"^IXIC\", \"Value\": 108220.55084511587}, {\"Date\": \"2015-09-30T00:00:00-04:00\", \"Stock\": \"^IXIC\", \"Value\": 98080.94761978893}, {\"Date\": \"2015-10-31T00:00:00-04:00\", \"Stock\": \"^IXIC\", \"Value\": 97890.12083767926}, {\"Date\": \"2015-11-30T00:00:00-05:00\", \"Stock\": \"^IXIC\", \"Value\": 108469.55639823411}, {\"Date\": \"2015-12-31T00:00:00-05:00\", \"Stock\": \"^IXIC\", \"Value\": 109086.4662357044}, {\"Date\": \"2016-01-31T00:00:00-05:00\", \"Stock\": \"^IXIC\", \"Value\": 103729.36045601744}, {\"Date\": \"2016-02-29T00:00:00-05:00\", \"Stock\": \"^IXIC\", \"Value\": 97748.16546282131}, {\"Date\": \"2016-03-31T00:00:00-04:00\", \"Stock\": \"^IXIC\", \"Value\": 99212.78916486504}, {\"Date\": \"2016-04-30T00:00:00-04:00\", \"Stock\": \"^IXIC\", \"Value\": 103971.59983459543}, {\"Date\": \"2016-05-31T00:00:00-04:00\", \"Stock\": \"^IXIC\", \"Value\": 101920.52957556873}, {\"Date\": \"2016-06-30T00:00:00-04:00\", \"Stock\": \"^IXIC\", \"Value\": 104769.38862809562}, {\"Date\": \"2016-07-31T00:00:00-04:00\", \"Stock\": \"^IXIC\", \"Value\": 102872.12229690034}, {\"Date\": \"2016-08-31T00:00:00-04:00\", \"Stock\": \"^IXIC\", \"Value\": 109676.5076457256}, {\"Date\": \"2016-09-30T00:00:00-04:00\", \"Stock\": \"^IXIC\", \"Value\": 110586.41866588187}, {\"Date\": \"2016-10-31T00:00:00-04:00\", \"Stock\": \"^IXIC\", \"Value\": 112144.76679785471}, {\"Date\": \"2016-11-30T00:00:00-05:00\", \"Stock\": \"^IXIC\", \"Value\": 109028.71099623191}, {\"Date\": \"2016-12-31T00:00:00-05:00\", \"Stock\": \"^IXIC\", \"Value\": 111092.0430097308}, {\"Date\": \"2017-01-31T00:00:00-05:00\", \"Stock\": \"^IXIC\", \"Value\": 114857.16605545559}, {\"Date\": \"2017-02-28T00:00:00-05:00\", \"Stock\": \"^IXIC\", \"Value\": 119375.43147275242}, {\"Date\": \"2017-03-31T00:00:00-04:00\", \"Stock\": \"^IXIC\", \"Value\": 124905.16250853389}, {\"Date\": \"2017-04-30T00:00:00-04:00\", \"Stock\": \"^IXIC\", \"Value\": 124707.3629511347}, {\"Date\": \"2017-05-31T00:00:00-04:00\", \"Stock\": \"^IXIC\", \"Value\": 128873.38442087795}, {\"Date\": \"2017-06-30T00:00:00-04:00\", \"Stock\": \"^IXIC\", \"Value\": 132157.41696173558}, {\"Date\": \"2017-07-31T00:00:00-04:00\", \"Stock\": \"^IXIC\", \"Value\": 129263.92181731803}, {\"Date\": \"2017-08-31T00:00:00-04:00\", \"Stock\": \"^IXIC\", \"Value\": 134613.8275608912}, {\"Date\": \"2017-09-30T00:00:00-04:00\", \"Stock\": \"^IXIC\", \"Value\": 136145.30726541494}, {\"Date\": \"2017-10-31T00:00:00-04:00\", \"Stock\": \"^IXIC\", \"Value\": 137867.19022051222}, {\"Date\": \"2017-11-30T00:00:00-05:00\", \"Stock\": \"^IXIC\", \"Value\": 142094.34485197935}, {\"Date\": \"2017-12-31T00:00:00-05:00\", \"Stock\": \"^IXIC\", \"Value\": 144867.04053826936}, {\"Date\": \"2018-01-31T00:00:00-05:00\", \"Stock\": \"^IXIC\", \"Value\": 148237.39087219298}, {\"Date\": \"2018-02-28T00:00:00-05:00\", \"Stock\": \"^IXIC\", \"Value\": 156254.6362499402}, {\"Date\": \"2018-03-31T00:00:00-04:00\", \"Stock\": \"^IXIC\", \"Value\": 151911.33067720526}, {\"Date\": \"2018-04-30T00:00:00-04:00\", \"Stock\": \"^IXIC\", \"Value\": 145343.6891270261}, {\"Date\": \"2018-05-31T00:00:00-04:00\", \"Stock\": \"^IXIC\", \"Value\": 150856.49956143825}, {\"Date\": \"2018-06-30T00:00:00-04:00\", \"Stock\": \"^IXIC\", \"Value\": 159818.77808672626}, {\"Date\": \"2018-07-31T00:00:00-04:00\", \"Stock\": \"^IXIC\", \"Value\": 160101.41824183383}, {\"Date\": \"2018-08-31T00:00:00-04:00\", \"Stock\": \"^IXIC\", \"Value\": 163054.7862834044}, {\"Date\": \"2018-09-30T00:00:00-04:00\", \"Stock\": \"^IXIC\", \"Value\": 171177.8112448036}, {\"Date\": \"2018-10-31T00:00:00-04:00\", \"Stock\": \"^IXIC\", \"Value\": 170036.44540518383}, {\"Date\": \"2018-11-30T00:00:00-05:00\", \"Stock\": \"^IXIC\", \"Value\": 157274.35556836022}, {\"Date\": \"2018-12-31T00:00:00-05:00\", \"Stock\": \"^IXIC\", \"Value\": 157431.9609499792}, {\"Date\": \"2019-01-31T00:00:00-05:00\", \"Stock\": \"^IXIC\", \"Value\": 141024.0703302007}, {\"Date\": \"2019-02-28T00:00:00-05:00\", \"Stock\": \"^IXIC\", \"Value\": 153673.8313396189}, {\"Date\": \"2019-03-31T00:00:00-04:00\", \"Stock\": \"^IXIC\", \"Value\": 160686.59420420852}, {\"Date\": \"2019-04-30T00:00:00-04:00\", \"Stock\": \"^IXIC\", \"Value\": 165627.77135536395}, {\"Date\": \"2019-05-31T00:00:00-04:00\", \"Stock\": \"^IXIC\", \"Value\": 170297.5164420624}, {\"Date\": \"2019-06-30T00:00:00-04:00\", \"Stock\": \"^IXIC\", \"Value\": 155136.76091551819}, {\"Date\": \"2019-07-31T00:00:00-04:00\", \"Stock\": \"^IXIC\", \"Value\": 171175.91051790986}, {\"Date\": \"2019-08-31T00:00:00-04:00\", \"Stock\": \"^IXIC\", \"Value\": 171598.18178944552}, {\"Date\": \"2019-09-30T00:00:00-04:00\", \"Stock\": \"^IXIC\", \"Value\": 166585.07658741428}, {\"Date\": \"2019-10-31T00:00:00-04:00\", \"Stock\": \"^IXIC\", \"Value\": 167315.379246149}, {\"Date\": \"2019-11-30T00:00:00-05:00\", \"Stock\": \"^IXIC\", \"Value\": 177421.9883318095}, {\"Date\": \"2019-12-31T00:00:00-05:00\", \"Stock\": \"^IXIC\", \"Value\": 181263.6879452698}, {\"Date\": \"2020-01-31T00:00:00-05:00\", \"Stock\": \"^IXIC\", \"Value\": 192353.62362735753}, {\"Date\": \"2020-02-29T00:00:00-05:00\", \"Stock\": \"^IXIC\", \"Value\": 196187.2864716693}, {\"Date\": \"2020-03-31T00:00:00-04:00\", \"Stock\": \"^IXIC\", \"Value\": 189391.36142352875}, {\"Date\": \"2020-04-30T00:00:00-04:00\", \"Stock\": \"^IXIC\", \"Value\": 155719.81922021232}, {\"Date\": \"2020-05-31T00:00:00-04:00\", \"Stock\": \"^IXIC\", \"Value\": 182045.6098012222}, {\"Date\": \"2020-06-30T00:00:00-04:00\", \"Stock\": \"^IXIC\", \"Value\": 202082.37027254878}, {\"Date\": \"2020-07-31T00:00:00-04:00\", \"Stock\": \"^IXIC\", \"Value\": 214830.50422875583}, {\"Date\": \"2020-08-31T00:00:00-04:00\", \"Stock\": \"^IXIC\", \"Value\": 230658.72479612898}, {\"Date\": \"2020-09-30T00:00:00-04:00\", \"Stock\": \"^IXIC\", \"Value\": 252594.662655582}, {\"Date\": \"2020-10-31T00:00:00-04:00\", \"Stock\": \"^IXIC\", \"Value\": 239622.6974475614}, {\"Date\": \"2020-11-30T00:00:00-05:00\", \"Stock\": \"^IXIC\", \"Value\": 231818.29216176385}, {\"Date\": \"2020-12-31T00:00:00-05:00\", \"Stock\": \"^IXIC\", \"Value\": 261383.68579249}, {\"Date\": \"2021-01-31T00:00:00-05:00\", \"Stock\": \"^IXIC\", \"Value\": 268647.35493709164}, {\"Date\": \"2021-02-28T00:00:00-05:00\", \"Stock\": \"^IXIC\", \"Value\": 283560.9953073739}, {\"Date\": \"2021-03-31T00:00:00-04:00\", \"Stock\": \"^IXIC\", \"Value\": 287484.1575962912}, {\"Date\": \"2021-04-30T00:00:00-04:00\", \"Stock\": \"^IXIC\", \"Value\": 285184.09211418364}, {\"Date\": \"2021-05-31T00:00:00-04:00\", \"Stock\": \"^IXIC\", \"Value\": 293964.0041580467}, {\"Date\": \"2021-06-30T00:00:00-04:00\", \"Stock\": \"^IXIC\", \"Value\": 290607.83696556394}, {\"Date\": \"2021-07-31T00:00:00-04:00\", \"Stock\": \"^IXIC\", \"Value\": 307234.2595279359}, {\"Date\": \"2021-08-31T00:00:00-04:00\", \"Stock\": \"^IXIC\", \"Value\": 310591.50104431517}, {\"Date\": \"2021-09-30T00:00:00-04:00\", \"Stock\": \"^IXIC\", \"Value\": 323883.9659947563}, {\"Date\": \"2021-10-31T00:00:00-04:00\", \"Stock\": \"^IXIC\", \"Value\": 308171.89636865095}, {\"Date\": \"2021-11-30T00:00:00-05:00\", \"Stock\": \"^IXIC\", \"Value\": 329945.98320108646}, {\"Date\": \"2021-12-31T00:00:00-05:00\", \"Stock\": \"^IXIC\", \"Value\": 322713.4074692576}, {\"Date\": \"2022-01-31T00:00:00-05:00\", \"Stock\": \"^IXIC\", \"Value\": 334957.3942769733}, {\"Date\": \"2022-02-28T00:00:00-05:00\", \"Stock\": \"^IXIC\", \"Value\": 303502.7814142379}, {\"Date\": \"2022-03-31T00:00:00-04:00\", \"Stock\": \"^IXIC\", \"Value\": 286291.5960909899}, {\"Date\": \"2022-04-30T00:00:00-04:00\", \"Stock\": \"^IXIC\", \"Value\": 301715.10645051964}, {\"Date\": \"2022-05-31T00:00:00-04:00\", \"Stock\": \"^IXIC\", \"Value\": 265210.9853337227}, {\"Date\": \"2022-06-30T00:00:00-04:00\", \"Stock\": \"^IXIC\", \"Value\": 253753.79615964333}, {\"Date\": \"2022-07-31T00:00:00-04:00\", \"Stock\": \"^IXIC\", \"Value\": 235419.85972428924}, {\"Date\": \"2022-08-31T00:00:00-04:00\", \"Stock\": \"^IXIC\", \"Value\": 261677.1208367496}, {\"Date\": \"2022-09-30T00:00:00-04:00\", \"Stock\": \"^IXIC\", \"Value\": 249325.22645766387}, {\"Date\": \"2022-10-31T00:00:00-04:00\", \"Stock\": \"^IXIC\", \"Value\": 228810.32987218542}, {\"Date\": \"2022-11-30T00:00:00-05:00\", \"Stock\": \"^IXIC\", \"Value\": 230405.90745918578}, {\"Date\": \"2022-12-31T00:00:00-05:00\", \"Stock\": \"^IXIC\", \"Value\": 242921.76019293207}, {\"Date\": \"2023-01-31T00:00:00-05:00\", \"Stock\": \"^IXIC\", \"Value\": 219746.09387710787}, {\"Date\": \"2023-02-28T00:00:00-05:00\", \"Stock\": \"^IXIC\", \"Value\": 249985.08859091782}, {\"Date\": \"2023-03-31T00:00:00-04:00\", \"Stock\": \"^IXIC\", \"Value\": 240743.3412320243}, {\"Date\": \"2023-04-30T00:00:00-04:00\", \"Stock\": \"^IXIC\", \"Value\": 257878.99332132092}, {\"Date\": \"2023-05-31T00:00:00-04:00\", \"Stock\": \"^IXIC\", \"Value\": 258368.74039758457}, {\"Date\": \"2023-06-30T00:00:00-04:00\", \"Stock\": \"^IXIC\", \"Value\": 277163.2518833983}, {\"Date\": \"2023-07-31T00:00:00-04:00\", \"Stock\": \"^IXIC\", \"Value\": 292306.4256861753}, {\"Date\": \"2023-08-31T00:00:00-04:00\", \"Stock\": \"^IXIC\", \"Value\": 302189.2138500597}, {\"Date\": \"2023-09-30T00:00:00-04:00\", \"Stock\": \"^IXIC\", \"Value\": 296855.79484628234}, {\"Date\": \"2023-10-31T00:00:00-04:00\", \"Stock\": \"^IXIC\", \"Value\": 281538.06407040457}, {\"Date\": \"2023-11-30T00:00:00-05:00\", \"Stock\": \"^IXIC\", \"Value\": 276327.36591172346}, {\"Date\": \"2023-12-31T00:00:00-05:00\", \"Stock\": \"^IXIC\", \"Value\": 302636.02929061465}, {\"Date\": \"2024-01-31T00:00:00-05:00\", \"Stock\": \"^IXIC\", \"Value\": 312387.0061764327}, {\"Date\": \"2024-02-29T00:00:00-05:00\", \"Stock\": \"^IXIC\", \"Value\": 324989.5692446687}, {\"Date\": \"2024-03-31T00:00:00-04:00\", \"Stock\": \"^IXIC\", \"Value\": 344311.28452259785}, {\"Date\": \"2024-04-30T00:00:00-04:00\", \"Stock\": \"^IXIC\", \"Value\": 346889.9717752387}, {\"Date\": \"2024-05-31T00:00:00-04:00\", \"Stock\": \"^IXIC\", \"Value\": 330148.245334671}, {\"Date\": \"2024-06-30T00:00:00-04:00\", \"Stock\": \"^IXIC\", \"Value\": 356025.93955048017}, {\"Date\": \"2024-07-31T00:00:00-04:00\", \"Stock\": \"^IXIC\", \"Value\": 378252.99852580036}, {\"Date\": \"2024-08-31T00:00:00-04:00\", \"Stock\": \"^IXIC\", \"Value\": 363758.0139139407}, {\"Date\": \"2024-09-30T00:00:00-04:00\", \"Stock\": \"^IXIC\", \"Value\": 362534.15239511733}, {\"Date\": \"2024-10-31T00:00:00-04:00\", \"Stock\": \"^IXIC\", \"Value\": 378910.0715489385}, {\"Date\": \"2024-11-30T00:00:00-05:00\", \"Stock\": \"^IXIC\", \"Value\": 385882.22703624924}, {\"Date\": \"2024-12-31T00:00:00-05:00\", \"Stock\": \"^IXIC\", \"Value\": 410508.33391267626}, {\"Date\": \"2025-01-31T00:00:00-05:00\", \"Stock\": \"^IXIC\", \"Value\": 407902.76790254895}, {\"Date\": \"2025-02-28T00:00:00-05:00\", \"Stock\": \"^IXIC\", \"Value\": 410254.7108328107}, {\"Date\": \"2025-03-31T00:00:00-04:00\", \"Stock\": \"^IXIC\", \"Value\": 388215.0800572739}, {\"Date\": \"2025-04-30T00:00:00-04:00\", \"Stock\": \"^IXIC\", \"Value\": 369168.4330169898}, {\"Date\": \"2025-05-31T00:00:00-04:00\", \"Stock\": \"^IXIC\", \"Value\": 374686.94563208317}, {\"Date\": \"2015-01-31T00:00:00-05:00\", \"Stock\": \"COST\", \"Value\": 100000.0}, {\"Date\": \"2015-02-28T00:00:00-05:00\", \"Stock\": \"COST\", \"Value\": 103100.08220927442}, {\"Date\": \"2015-03-31T00:00:00-04:00\", \"Stock\": \"COST\", \"Value\": 108190.2581109918}, {\"Date\": \"2015-04-30T00:00:00-04:00\", \"Stock\": \"COST\", \"Value\": 109872.29199497106}, {\"Date\": \"2015-05-31T00:00:00-04:00\", \"Stock\": \"COST\", \"Value\": 106616.28346221763}, {\"Date\": \"2015-06-30T00:00:00-04:00\", \"Stock\": \"COST\", \"Value\": 104416.3771433287}, {\"Date\": \"2015-07-31T00:00:00-04:00\", \"Stock\": \"COST\", \"Value\": 100089.8016172157}, {\"Date\": \"2015-08-31T00:00:00-04:00\", \"Stock\": \"COST\", \"Value\": 106711.60435935126}, {\"Date\": \"2015-09-30T00:00:00-04:00\", \"Stock\": \"COST\", \"Value\": 101695.9520681202}, {\"Date\": \"2015-10-31T00:00:00-04:00\", \"Stock\": \"COST\", \"Value\": 106299.09151186075}, {\"Date\": \"2015-11-30T00:00:00-05:00\", \"Stock\": \"COST\", \"Value\": 117027.51847642277}, {\"Date\": \"2015-12-31T00:00:00-05:00\", \"Stock\": \"COST\", \"Value\": 118907.67317890593}, {\"Date\": \"2016-01-31T00:00:00-05:00\", \"Stock\": \"COST\", \"Value\": 117617.54816388288}, {\"Date\": \"2016-02-29T00:00:00-05:00\", \"Stock\": \"COST\", \"Value\": 111505.90552952525}, {\"Date\": \"2016-03-31T00:00:00-04:00\", \"Stock\": \"COST\", \"Value\": 111268.56316145955}, {\"Date\": \"2016-04-30T00:00:00-04:00\", \"Stock\": \"COST\", \"Value\": 116982.79097853701}, {\"Date\": \"2016-05-31T00:00:00-04:00\", \"Stock\": \"COST\", \"Value\": 111901.60057117882}, {\"Date\": \"2016-06-30T00:00:00-04:00\", \"Stock\": \"COST\", \"Value\": 113080.48676582663}, {\"Date\": \"2016-07-31T00:00:00-04:00\", \"Stock\": \"COST\", \"Value\": 115742.17950364744}, {\"Date\": \"2016-08-31T00:00:00-04:00\", \"Stock\": \"COST\", \"Value\": 124231.36528120966}, {\"Date\": \"2016-09-30T00:00:00-04:00\", \"Stock\": \"COST\", \"Value\": 116127.63588110538}, {\"Date\": \"2016-10-31T00:00:00-04:00\", \"Stock\": \"COST\", \"Value\": 112261.92689393791}, {\"Date\": \"2016-11-30T00:00:00-05:00\", \"Stock\": \"COST\", \"Value\": 109028.09546781129}, {\"Date\": \"2016-12-31T00:00:00-05:00\", \"Stock\": \"COST\", \"Value\": 113151.78413056377}, {\"Date\": \"2017-01-31T00:00:00-05:00\", \"Stock\": \"COST\", \"Value\": 119109.88679676925}, {\"Date\": \"2017-02-28T00:00:00-05:00\", \"Stock\": \"COST\", \"Value\": 120698.22623808346}, {\"Date\": \"2017-03-31T00:00:00-04:00\", \"Stock\": \"COST\", \"Value\": 132986.5963487297}, {\"Date\": \"2017-04-30T00:00:00-04:00\", \"Stock\": \"COST\", \"Value\": 124642.20501365255}, {\"Date\": \"2017-05-31T00:00:00-04:00\", \"Stock\": \"COST\", \"Value\": 132986.5963487297}, {\"Date\": \"2017-06-30T00:00:00-04:00\", \"Stock\": \"COST\", \"Value\": 140924.24075072337}, {\"Date\": \"2017-07-31T00:00:00-04:00\", \"Stock\": \"COST\", \"Value\": 123908.44741122775}, {\"Date\": \"2017-08-31T00:00:00-04:00\", \"Stock\": \"COST\", \"Value\": 124610.62246745543}, {\"Date\": \"2017-09-30T00:00:00-04:00\", \"Stock\": \"COST\", \"Value\": 123850.66828281138}, {\"Date\": \"2017-10-31T00:00:00-04:00\", \"Stock\": \"COST\", \"Value\": 129838.14045060924}, {\"Date\": \"2017-11-30T00:00:00-05:00\", \"Stock\": \"COST\", \"Value\": 127333.56054813383}, {\"Date\": \"2017-12-31T00:00:00-05:00\", \"Stock\": \"COST\", \"Value\": 145326.83969164826}, {\"Date\": \"2018-01-31T00:00:00-05:00\", \"Stock\": \"COST\", \"Value\": 147830.95298833345}, {\"Date\": \"2018-02-28T00:00:00-05:00\", \"Stock\": \"COST\", \"Value\": 151873.66554910137}, {\"Date\": \"2018-03-31T00:00:00-04:00\", \"Stock\": \"COST\", \"Value\": 148785.33513994206}, {\"Date\": \"2018-04-30T00:00:00-04:00\", \"Stock\": \"COST\", \"Value\": 143842.38003081863}, {\"Date\": \"2018-05-31T00:00:00-04:00\", \"Stock\": \"COST\", \"Value\": 154704.3229093378}, {\"Date\": \"2018-06-30T00:00:00-04:00\", \"Stock\": \"COST\", \"Value\": 155613.33764654837}, {\"Date\": \"2018-07-31T00:00:00-04:00\", \"Stock\": \"COST\", \"Value\": 164186.15251330214}, {\"Date\": \"2018-08-31T00:00:00-04:00\", \"Stock\": \"COST\", \"Value\": 171401.21118864694}, {\"Date\": \"2018-09-30T00:00:00-04:00\", \"Stock\": \"COST\", \"Value\": 185714.95705526954}, {\"Date\": \"2018-10-31T00:00:00-04:00\", \"Stock\": \"COST\", \"Value\": 185691.22681794115}, {\"Date\": \"2018-11-30T00:00:00-05:00\", \"Stock\": \"COST\", \"Value\": 181694.86820952763}, {\"Date\": \"2018-12-31T00:00:00-05:00\", \"Stock\": \"COST\", \"Value\": 184093.99520342582}, {\"Date\": \"2019-01-31T00:00:00-05:00\", \"Stock\": \"COST\", \"Value\": 162422.79590589413}, {\"Date\": \"2019-02-28T00:00:00-05:00\", \"Stock\": \"COST\", \"Value\": 166793.55900033578}, {\"Date\": \"2019-03-31T00:00:00-04:00\", \"Stock\": \"COST\", \"Value\": 174537.6553205692}, {\"Date\": \"2019-04-30T00:00:00-04:00\", \"Stock\": \"COST\", \"Value\": 194223.23367544648}, {\"Date\": \"2019-05-31T00:00:00-04:00\", \"Stock\": \"COST\", \"Value\": 192155.2768082191}, {\"Date\": \"2019-06-30T00:00:00-04:00\", \"Stock\": \"COST\", \"Value\": 192259.48987855384}, {\"Date\": \"2019-07-31T00:00:00-04:00\", \"Stock\": \"COST\", \"Value\": 210187.8841540474}, {\"Date\": \"2019-08-31T00:00:00-04:00\", \"Stock\": \"COST\", \"Value\": 218976.61751730126}, {\"Date\": \"2019-09-30T00:00:00-04:00\", \"Stock\": \"COST\", \"Value\": 233432.504839202}, {\"Date\": \"2019-10-31T00:00:00-04:00\", \"Stock\": \"COST\", \"Value\": 226942.28492989283}, {\"Date\": \"2019-11-30T00:00:00-05:00\", \"Stock\": \"COST\", \"Value\": 237175.85645659434}, {\"Date\": \"2019-12-31T00:00:00-05:00\", \"Stock\": \"COST\", \"Value\": 238217.18726430158}, {\"Date\": \"2020-01-31T00:00:00-05:00\", \"Stock\": \"COST\", \"Value\": 233491.13718963467}, {\"Date\": \"2020-02-29T00:00:00-05:00\", \"Stock\": \"COST\", \"Value\": 241910.01214041607}, {\"Date\": \"2020-03-31T00:00:00-04:00\", \"Stock\": \"COST\", \"Value\": 248151.33118965745}, {\"Date\": \"2020-04-30T00:00:00-04:00\", \"Stock\": \"COST\", \"Value\": 230202.6595596828}, {\"Date\": \"2020-05-31T00:00:00-04:00\", \"Stock\": \"COST\", \"Value\": 242909.56173251267}, {\"Date\": \"2020-06-30T00:00:00-04:00\", \"Stock\": \"COST\", \"Value\": 248034.46643661222}, {\"Date\": \"2020-07-31T00:00:00-04:00\", \"Stock\": \"COST\", \"Value\": 245186.3046934477}, {\"Date\": \"2020-08-31T00:00:00-04:00\", \"Stock\": \"COST\", \"Value\": 265523.997969065}, {\"Date\": \"2020-09-30T00:00:00-04:00\", \"Stock\": \"COST\", \"Value\": 283310.5040895664}, {\"Date\": \"2020-10-31T00:00:00-04:00\", \"Stock\": \"COST\", \"Value\": 289019.0393160039}, {\"Date\": \"2020-11-30T00:00:00-05:00\", \"Stock\": \"COST\", \"Value\": 294364.8485327614}, {\"Date\": \"2020-12-31T00:00:00-05:00\", \"Stock\": \"COST\", \"Value\": 321282.98994591174}, {\"Date\": \"2021-01-31T00:00:00-05:00\", \"Stock\": \"COST\", \"Value\": 315140.2180395531}, {\"Date\": \"2021-02-28T00:00:00-05:00\", \"Stock\": \"COST\", \"Value\": 290577.2626864615}, {\"Date\": \"2021-03-31T00:00:00-04:00\", \"Stock\": \"COST\", \"Value\": 275576.7664178747}, {\"Date\": \"2021-04-30T00:00:00-04:00\", \"Stock\": \"COST\", \"Value\": 294822.3621758148}, {\"Date\": \"2021-05-31T00:00:00-04:00\", \"Stock\": \"COST\", \"Value\": 315747.92542066344}, {\"Date\": \"2021-06-30T00:00:00-04:00\", \"Stock\": \"COST\", \"Value\": 314840.6837854555}, {\"Date\": \"2021-07-31T00:00:00-04:00\", \"Stock\": \"COST\", \"Value\": 328408.80693098914}, {\"Date\": \"2021-08-31T00:00:00-04:00\", \"Stock\": \"COST\", \"Value\": 357704.531482126}, {\"Date\": \"2021-09-30T00:00:00-04:00\", \"Stock\": \"COST\", \"Value\": 380722.00846862845}, {\"Date\": \"2021-10-31T00:00:00-04:00\", \"Stock\": \"COST\", \"Value\": 373891.75292263535}, {\"Date\": \"2021-11-30T00:00:00-05:00\", \"Stock\": \"COST\", \"Value\": 410866.3156413527}, {\"Date\": \"2021-12-31T00:00:00-05:00\", \"Stock\": \"COST\", \"Value\": 442583.19097968354}, {\"Date\": \"2022-01-31T00:00:00-05:00\", \"Stock\": \"COST\", \"Value\": 473381.2795223983}, {\"Date\": \"2022-02-28T00:00:00-05:00\", \"Stock\": \"COST\", \"Value\": 424682.4064353738}, {\"Date\": \"2022-03-31T00:00:00-04:00\", \"Stock\": \"COST\", \"Value\": 437473.21766086924}, {\"Date\": \"2022-04-30T00:00:00-04:00\", \"Stock\": \"COST\", \"Value\": 481510.7788937136}, {\"Date\": \"2022-05-31T00:00:00-04:00\", \"Stock\": \"COST\", \"Value\": 443229.4000042795}, {\"Date\": \"2022-06-30T00:00:00-04:00\", \"Stock\": \"COST\", \"Value\": 382931.05359520763}, {\"Date\": \"2022-07-31T00:00:00-04:00\", \"Stock\": \"COST\", \"Value\": 407038.7083498506}, {\"Date\": \"2022-08-31T00:00:00-04:00\", \"Stock\": \"COST\", \"Value\": 458985.7709897449}, {\"Date\": \"2022-09-30T00:00:00-04:00\", \"Stock\": \"COST\", \"Value\": 444179.11609798647}, {\"Date\": \"2022-10-31T00:00:00-04:00\", \"Stock\": \"COST\", \"Value\": 401001.01606743707}, {\"Date\": \"2022-11-30T00:00:00-05:00\", \"Stock\": \"COST\", \"Value\": 420418.1094506537}, {\"Date\": \"2022-12-31T00:00:00-05:00\", \"Stock\": \"COST\", \"Value\": 423697.6815758104}, {\"Date\": \"2023-01-31T00:00:00-05:00\", \"Stock\": \"COST\", \"Value\": 381164.6973791487}, {\"Date\": \"2023-02-28T00:00:00-05:00\", \"Stock\": \"COST\", \"Value\": 435512.32682509354}, {\"Date\": \"2023-03-31T00:00:00-04:00\", \"Stock\": \"COST\", \"Value\": 403215.9804217543}, {\"Date\": \"2023-04-30T00:00:00-04:00\", \"Stock\": \"COST\", \"Value\": 418681.8826370453}, {\"Date\": \"2023-05-31T00:00:00-04:00\", \"Stock\": \"COST\", \"Value\": 415784.12736418325}, {\"Date\": \"2023-06-30T00:00:00-04:00\", \"Stock\": \"COST\", \"Value\": 432698.1073202649}, {\"Date\": \"2023-07-31T00:00:00-04:00\", \"Stock\": \"COST\", \"Value\": 456705.0018874205}, {\"Date\": \"2023-08-31T00:00:00-04:00\", \"Stock\": \"COST\", \"Value\": 468885.7060448847}, {\"Date\": \"2023-09-30T00:00:00-04:00\", \"Stock\": \"COST\", \"Value\": 460282.7217808983}, {\"Date\": \"2023-10-31T00:00:00-04:00\", \"Stock\": \"COST\", \"Value\": 483167.8960284982}, {\"Date\": \"2023-11-30T00:00:00-05:00\", \"Stock\": \"COST\", \"Value\": 470896.5370318019}, {\"Date\": \"2023-12-31T00:00:00-05:00\", \"Stock\": \"COST\", \"Value\": 505185.61011740007}, {\"Date\": \"2024-01-31T00:00:00-05:00\", \"Stock\": \"COST\", \"Value\": 563813.3744817426}, {\"Date\": \"2024-02-29T00:00:00-05:00\", \"Stock\": \"COST\", \"Value\": 611356.5583476877}, {\"Date\": \"2024-03-31T00:00:00-04:00\", \"Stock\": \"COST\", \"Value\": 650373.3879519854}, {\"Date\": \"2024-04-30T00:00:00-04:00\", \"Stock\": \"COST\", \"Value\": 625901.0607749376}, {\"Date\": \"2024-05-31T00:00:00-04:00\", \"Stock\": \"COST\", \"Value\": 627757.4585769044}, {\"Date\": \"2024-06-30T00:00:00-04:00\", \"Stock\": \"COST\", \"Value\": 708741.3995387402}, {\"Date\": \"2024-07-31T00:00:00-04:00\", \"Stock\": \"COST\", \"Value\": 735060.8990547034}, {\"Date\": \"2024-08-31T00:00:00-04:00\", \"Stock\": \"COST\", \"Value\": 711056.0842162127}, {\"Date\": \"2024-09-30T00:00:00-04:00\", \"Stock\": \"COST\", \"Value\": 764744.9729391972}, {\"Date\": \"2024-10-31T00:00:00-04:00\", \"Stock\": \"COST\", \"Value\": 763709.1080850319}, {\"Date\": \"2024-11-30T00:00:00-05:00\", \"Stock\": \"COST\", \"Value\": 764662.9036465043}, {\"Date\": \"2024-12-31T00:00:00-05:00\", \"Stock\": \"COST\", \"Value\": 849809.4481939923}, {\"Date\": \"2025-01-31T00:00:00-05:00\", \"Stock\": \"COST\", \"Value\": 792989.8745876956}, {\"Date\": \"2025-02-28T00:00:00-05:00\", \"Stock\": \"COST\", \"Value\": 876680.8757017502}, {\"Date\": \"2025-03-31T00:00:00-04:00\", \"Stock\": \"COST\", \"Value\": 913441.9996004521}, {\"Date\": \"2025-04-30T00:00:00-04:00\", \"Stock\": \"COST\", \"Value\": 832773.6441318957}, {\"Date\": \"2025-05-31T00:00:00-04:00\", \"Stock\": \"COST\", \"Value\": 871724.7756409381}, {\"Date\": \"2015-01-31T00:00:00-05:00\", \"Stock\": \"WMT\", \"Value\": 100000.0}, {\"Date\": \"2015-02-28T00:00:00-05:00\", \"Stock\": \"WMT\", \"Value\": 99778.79869847334}, {\"Date\": \"2015-03-31T00:00:00-04:00\", \"Stock\": \"WMT\", \"Value\": 97741.58100289265}, {\"Date\": \"2015-04-30T00:00:00-04:00\", \"Stock\": \"WMT\", \"Value\": 94522.43386534185}, {\"Date\": \"2015-05-31T00:00:00-04:00\", \"Stock\": \"WMT\", \"Value\": 92051.31942168038}, {\"Date\": \"2015-06-30T00:00:00-04:00\", \"Stock\": \"WMT\", \"Value\": 88071.38080778143}, {\"Date\": \"2015-07-31T00:00:00-04:00\", \"Stock\": \"WMT\", \"Value\": 84712.59043196004}, {\"Date\": \"2015-08-31T00:00:00-04:00\", \"Stock\": \"WMT\", \"Value\": 85066.14774408369}, {\"Date\": \"2015-09-30T00:00:00-04:00\", \"Stock\": \"WMT\", \"Value\": 75727.19334920657}, {\"Date\": \"2015-10-31T00:00:00-04:00\", \"Stock\": \"WMT\", \"Value\": 76261.19746734897}, {\"Date\": \"2015-11-30T00:00:00-05:00\", \"Stock\": \"WMT\", \"Value\": 68358.59981195518}, {\"Date\": \"2015-12-31T00:00:00-05:00\", \"Stock\": \"WMT\", \"Value\": 69996.07094929922}, {\"Date\": \"2016-01-31T00:00:00-05:00\", \"Stock\": \"WMT\", \"Value\": 73537.76174315067}, {\"Date\": \"2016-02-29T00:00:00-05:00\", \"Stock\": \"WMT\", \"Value\": 80764.70416963554}, {\"Date\": \"2016-03-31T00:00:00-04:00\", \"Stock\": \"WMT\", \"Value\": 79520.31394456407}, {\"Date\": \"2016-04-30T00:00:00-04:00\", \"Stock\": \"WMT\", \"Value\": 83242.99951778346}, {\"Date\": \"2016-05-31T00:00:00-04:00\", \"Stock\": \"WMT\", \"Value\": 81471.09906769286}, {\"Date\": \"2016-06-30T00:00:00-04:00\", \"Stock\": \"WMT\", \"Value\": 85600.9124819496}, {\"Date\": \"2016-07-31T00:00:00-04:00\", \"Stock\": \"WMT\", \"Value\": 88405.72633785648}, {\"Date\": \"2016-08-31T00:00:00-04:00\", \"Stock\": \"WMT\", \"Value\": 89583.47646070067}, {\"Date\": \"2016-09-30T00:00:00-04:00\", \"Stock\": \"WMT\", \"Value\": 89047.56670389614}, {\"Date\": \"2016-10-31T00:00:00-04:00\", \"Stock\": \"WMT\", \"Value\": 88032.88363532392}, {\"Date\": \"2016-11-30T00:00:00-05:00\", \"Stock\": \"WMT\", \"Value\": 84719.88583834034}, {\"Date\": \"2016-12-31T00:00:00-05:00\", \"Stock\": \"WMT\", \"Value\": 86394.77046950356}, {\"Date\": \"2017-01-31T00:00:00-05:00\", \"Stock\": \"WMT\", \"Value\": 84538.22858372935}, {\"Date\": \"2017-02-28T00:00:00-05:00\", \"Stock\": \"WMT\", \"Value\": 81546.29409713295}, {\"Date\": \"2017-03-31T00:00:00-04:00\", \"Stock\": \"WMT\", \"Value\": 86742.19375159894}, {\"Date\": \"2017-04-30T00:00:00-04:00\", \"Stock\": \"WMT\", \"Value\": 89091.64175432605}, {\"Date\": \"2017-05-31T00:00:00-04:00\", \"Stock\": \"WMT\", \"Value\": 93308.68107558499}, {\"Date\": \"2017-06-30T00:00:00-04:00\", \"Stock\": \"WMT\", \"Value\": 99651.7670259409}, {\"Date\": \"2017-07-31T00:00:00-04:00\", \"Stock\": \"WMT\", \"Value\": 94095.43176701287}, {\"Date\": \"2017-08-31T00:00:00-04:00\", \"Stock\": \"WMT\", \"Value\": 100513.2874540602}, {\"Date\": \"2017-09-30T00:00:00-04:00\", \"Stock\": \"WMT\", \"Value\": 98469.25689579478}, {\"Date\": \"2017-10-31T00:00:00-04:00\", \"Stock\": \"WMT\", \"Value\": 98569.7650224849}, {\"Date\": \"2017-11-30T00:00:00-05:00\", \"Stock\": \"WMT\", \"Value\": 110493.67327964176}, {\"Date\": \"2017-12-31T00:00:00-05:00\", \"Stock\": \"WMT\", \"Value\": 122316.99980174816}, {\"Date\": \"2018-01-31T00:00:00-05:00\", \"Stock\": \"WMT\", \"Value\": 124527.85961936954}, {\"Date\": \"2018-02-28T00:00:00-05:00\", \"Stock\": \"WMT\", \"Value\": 133281.06321878562}, {\"Date\": \"2018-03-31T00:00:00-04:00\", \"Stock\": \"WMT\", \"Value\": 112515.89940583332}, {\"Date\": \"2018-04-30T00:00:00-04:00\", \"Stock\": \"WMT\", \"Value\": 108701.40784985726}, {\"Date\": \"2018-05-31T00:00:00-04:00\", \"Stock\": \"WMT\", \"Value\": 111064.75147527513}, {\"Date\": \"2018-06-30T00:00:00-04:00\", \"Stock\": \"WMT\", \"Value\": 106112.95350110806}, {\"Date\": \"2018-07-31T00:00:00-04:00\", \"Stock\": \"WMT\", \"Value\": 107404.38764714311}, {\"Date\": \"2018-08-31T00:00:00-04:00\", \"Stock\": \"WMT\", \"Value\": 112825.74970932878}, {\"Date\": \"2018-09-30T00:00:00-04:00\", \"Stock\": \"WMT\", \"Value\": 122637.74414257384}, {\"Date\": \"2018-10-31T00:00:00-04:00\", \"Stock\": \"WMT\", \"Value\": 121403.1111146007}, {\"Date\": \"2018-11-30T00:00:00-05:00\", \"Stock\": \"WMT\", \"Value\": 129350.93292871636}, {\"Date\": \"2018-12-31T00:00:00-05:00\", \"Stock\": \"WMT\", \"Value\": 126997.42828746389}, {\"Date\": \"2019-01-31T00:00:00-05:00\", \"Stock\": \"WMT\", \"Value\": 120694.94961589522}, {\"Date\": \"2019-02-28T00:00:00-05:00\", \"Stock\": \"WMT\", \"Value\": 121367.32927276904}, {\"Date\": \"2019-03-31T00:00:00-04:00\", \"Stock\": \"WMT\", \"Value\": 126630.13892678358}, {\"Date\": \"2019-04-30T00:00:00-04:00\", \"Stock\": \"WMT\", \"Value\": 127168.485938186}, {\"Date\": \"2019-05-31T00:00:00-04:00\", \"Stock\": \"WMT\", \"Value\": 131770.54605626035}, {\"Date\": \"2019-06-30T00:00:00-04:00\", \"Stock\": \"WMT\", \"Value\": 133254.72778319757}, {\"Date\": \"2019-07-31T00:00:00-04:00\", \"Stock\": \"WMT\", \"Value\": 144572.82287734756}, {\"Date\": \"2019-08-31T00:00:00-04:00\", \"Stock\": \"WMT\", \"Value\": 142952.13035680755}, {\"Date\": \"2019-09-30T00:00:00-04:00\", \"Stock\": \"WMT\", \"Value\": 150564.13447364137}, {\"Date\": \"2019-10-31T00:00:00-04:00\", \"Stock\": \"WMT\", \"Value\": 154779.99606113488}, {\"Date\": \"2019-11-30T00:00:00-05:00\", \"Stock\": \"WMT\", \"Value\": 154477.9564225421}, {\"Date\": \"2019-12-31T00:00:00-05:00\", \"Stock\": \"WMT\", \"Value\": 156658.17062614218}, {\"Date\": \"2020-01-31T00:00:00-05:00\", \"Stock\": \"WMT\", \"Value\": 156912.26668603386}, {\"Date\": \"2020-02-29T00:00:00-05:00\", \"Stock\": \"WMT\", \"Value\": 150751.36142751802}, {\"Date\": \"2020-03-31T00:00:00-04:00\", \"Stock\": \"WMT\", \"Value\": 152875.4042734724}, {\"Date\": \"2020-04-30T00:00:00-04:00\", \"Stock\": \"WMT\", \"Value\": 151246.1404683062}, {\"Date\": \"2020-05-31T00:00:00-04:00\", \"Stock\": \"WMT\", \"Value\": 162880.49797200787}, {\"Date\": \"2020-06-30T00:00:00-04:00\", \"Stock\": \"WMT\", \"Value\": 164981.08428713412}, {\"Date\": \"2020-07-31T00:00:00-04:00\", \"Stock\": \"WMT\", \"Value\": 159298.06086135522}, {\"Date\": \"2020-08-31T00:00:00-04:00\", \"Stock\": \"WMT\", \"Value\": 172088.18412427974}, {\"Date\": \"2020-09-30T00:00:00-04:00\", \"Stock\": \"WMT\", \"Value\": 197238.37789419896}, {\"Date\": \"2020-10-31T00:00:00-04:00\", \"Stock\": \"WMT\", \"Value\": 191211.21084771314}, {\"Date\": \"2020-11-30T00:00:00-05:00\", \"Stock\": \"WMT\", \"Value\": 187629.67339479798}, {\"Date\": \"2020-12-31T00:00:00-05:00\", \"Stock\": \"WMT\", \"Value\": 203987.13587579882}, {\"Date\": \"2021-01-31T00:00:00-05:00\", \"Stock\": \"WMT\", \"Value\": 196537.59358894086}, {\"Date\": \"2021-02-28T00:00:00-05:00\", \"Stock\": \"WMT\", \"Value\": 186799.91088481178}, {\"Date\": \"2021-03-31T00:00:00-04:00\", \"Stock\": \"WMT\", \"Value\": 176203.77476757753}, {\"Date\": \"2021-04-30T00:00:00-04:00\", \"Stock\": \"WMT\", \"Value\": 182663.72625803231}, {\"Date\": \"2021-05-31T00:00:00-04:00\", \"Stock\": \"WMT\", \"Value\": 191418.44291818875}, {\"Date\": \"2021-06-30T00:00:00-04:00\", \"Stock\": \"WMT\", \"Value\": 191548.15720652018}, {\"Date\": \"2021-07-31T00:00:00-04:00\", \"Stock\": \"WMT\", \"Value\": 188384.07730121}, {\"Date\": \"2021-08-31T00:00:00-04:00\", \"Stock\": \"WMT\", \"Value\": 192305.35823062513}, {\"Date\": \"2021-09-30T00:00:00-04:00\", \"Stock\": \"WMT\", \"Value\": 200558.73652721645}, {\"Date\": \"2021-10-31T00:00:00-04:00\", \"Stock\": \"WMT\", \"Value\": 185996.59831230753}, {\"Date\": \"2021-11-30T00:00:00-05:00\", \"Stock\": \"WMT\", \"Value\": 203286.5969317418}, {\"Date\": \"2021-12-31T00:00:00-05:00\", \"Stock\": \"WMT\", \"Value\": 186118.70640340392}, {\"Date\": \"2022-01-31T00:00:00-05:00\", \"Stock\": \"WMT\", \"Value\": 197101.28641242013}, {\"Date\": \"2022-02-28T00:00:00-05:00\", \"Stock\": \"WMT\", \"Value\": 192005.16697974756}, {\"Date\": \"2022-03-31T00:00:00-04:00\", \"Stock\": \"WMT\", \"Value\": 185301.11380899383}, {\"Date\": \"2022-04-30T00:00:00-04:00\", \"Stock\": \"WMT\", \"Value\": 206563.34670061158}, {\"Date\": \"2022-05-31T00:00:00-04:00\", \"Stock\": \"WMT\", \"Value\": 207890.1619318498}, {\"Date\": \"2022-06-30T00:00:00-04:00\", \"Stock\": \"WMT\", \"Value\": 172224.0978722931}, {\"Date\": \"2022-07-31T00:00:00-04:00\", \"Stock\": \"WMT\", \"Value\": 168352.67433894784}, {\"Date\": \"2022-08-31T00:00:00-04:00\", \"Stock\": \"WMT\", \"Value\": 181957.62579341634}, {\"Date\": \"2022-09-30T00:00:00-04:00\", \"Stock\": \"WMT\", \"Value\": 185425.0375729786}, {\"Date\": \"2022-10-31T00:00:00-04:00\", \"Stock\": \"WMT\", \"Value\": 182736.2877439136}, {\"Date\": \"2022-11-30T00:00:00-05:00\", \"Stock\": \"WMT\", \"Value\": 195366.40278887356}, {\"Date\": \"2022-12-31T00:00:00-05:00\", \"Stock\": \"WMT\", \"Value\": 211471.09416046887}, {\"Date\": \"2023-01-31T00:00:00-05:00\", \"Stock\": \"WMT\", \"Value\": 198746.384193766}, {\"Date\": \"2023-02-28T00:00:00-05:00\", \"Stock\": \"WMT\", \"Value\": 200227.30261672818}, {\"Date\": \"2023-03-31T00:00:00-04:00\", \"Stock\": \"WMT\", \"Value\": 193971.47528820127}, {\"Date\": \"2023-04-30T00:00:00-04:00\", \"Stock\": \"WMT\", \"Value\": 206634.51780635308}, {\"Date\": \"2023-05-31T00:00:00-04:00\", \"Stock\": \"WMT\", \"Value\": 210664.64096459016}, {\"Date\": \"2023-06-30T00:00:00-04:00\", \"Stock\": \"WMT\", \"Value\": 205633.90211331236}, {\"Date\": \"2023-07-31T00:00:00-04:00\", \"Stock\": \"WMT\", \"Value\": 220685.7485708528}, {\"Date\": \"2023-08-31T00:00:00-04:00\", \"Stock\": \"WMT\", \"Value\": 221955.18199585308}, {\"Date\": \"2023-09-30T00:00:00-04:00\", \"Stock\": \"WMT\", \"Value\": 226188.0552932917}, {\"Date\": \"2023-10-31T00:00:00-04:00\", \"Stock\": \"WMT\", \"Value\": 224130.17818457575}, {\"Date\": \"2023-11-30T00:00:00-05:00\", \"Stock\": \"WMT\", \"Value\": 230807.879562328}, {\"Date\": \"2023-12-31T00:00:00-05:00\", \"Stock\": \"WMT\", \"Value\": 216066.51316869922}, {\"Date\": \"2024-01-31T00:00:00-05:00\", \"Stock\": \"WMT\", \"Value\": 223824.4417705526}, {\"Date\": \"2024-02-29T00:00:00-05:00\", \"Stock\": \"WMT\", \"Value\": 236498.7545465431}, {\"Date\": \"2024-03-31T00:00:00-04:00\", \"Stock\": \"WMT\", \"Value\": 247697.71042013034}, {\"Date\": \"2024-04-30T00:00:00-04:00\", \"Stock\": \"WMT\", \"Value\": 253786.26683913925}, {\"Date\": \"2024-05-31T00:00:00-04:00\", \"Stock\": \"WMT\", \"Value\": 248921.99738412246}, {\"Date\": \"2024-06-30T00:00:00-04:00\", \"Stock\": \"WMT\", \"Value\": 279367.1513041112}, {\"Date\": \"2024-07-31T00:00:00-04:00\", \"Stock\": \"WMT\", \"Value\": 286412.91084097384}, {\"Date\": \"2024-08-31T00:00:00-04:00\", \"Stock\": \"WMT\", \"Value\": 296217.5117233582}, {\"Date\": \"2024-09-30T00:00:00-04:00\", \"Stock\": \"WMT\", \"Value\": 328474.88711749006}, {\"Date\": \"2024-10-31T00:00:00-04:00\", \"Stock\": \"WMT\", \"Value\": 345926.54605364316}, {\"Date\": \"2024-11-30T00:00:00-05:00\", \"Stock\": \"WMT\", \"Value\": 349842.57625335414}, {\"Date\": \"2024-12-31T00:00:00-05:00\", \"Stock\": \"WMT\", \"Value\": 394323.09424683603}, {\"Date\": \"2025-01-31T00:00:00-05:00\", \"Stock\": \"WMT\", \"Value\": 383934.6318502394}, {\"Date\": \"2025-02-28T00:00:00-05:00\", \"Stock\": \"WMT\", \"Value\": 424631.74555192864}, {\"Date\": \"2025-03-31T00:00:00-04:00\", \"Stock\": \"WMT\", \"Value\": 416313.1175332497}, {\"Date\": \"2025-04-30T00:00:00-04:00\", \"Stock\": \"WMT\", \"Value\": 379984.12022306275}, {\"Date\": \"2025-05-31T00:00:00-04:00\", \"Stock\": \"WMT\", \"Value\": 416686.4264220645}, {\"Date\": \"2015-01-31T00:00:00-05:00\", \"Stock\": \"AMZN\", \"Value\": 100000.0}, {\"Date\": \"2015-02-28T00:00:00-05:00\", \"Stock\": \"AMZN\", \"Value\": 118134.96513487543}, {\"Date\": \"2015-03-31T00:00:00-04:00\", \"Stock\": \"AMZN\", \"Value\": 125003.2503194834}, {\"Date\": \"2015-04-30T00:00:00-04:00\", \"Stock\": \"AMZN\", \"Value\": 120011.67456645252}, {\"Date\": \"2015-05-31T00:00:00-04:00\", \"Stock\": \"AMZN\", \"Value\": 137064.04684218866}, {\"Date\": \"2015-06-30T00:00:00-04:00\", \"Stock\": \"AMZN\", \"Value\": 139673.27906015908}, {\"Date\": \"2015-07-31T00:00:00-04:00\", \"Stock\": \"AMZN\", \"Value\": 141770.38580905876}, {\"Date\": \"2015-08-31T00:00:00-04:00\", \"Stock\": \"AMZN\", \"Value\": 173418.25358402205}, {\"Date\": \"2015-09-30T00:00:00-04:00\", \"Stock\": \"AMZN\", \"Value\": 160942.56606649148}, {\"Date\": \"2015-10-31T00:00:00-04:00\", \"Stock\": \"AMZN\", \"Value\": 168779.98122202492}, {\"Date\": \"2015-11-30T00:00:00-05:00\", \"Stock\": \"AMZN\", \"Value\": 203665.89052602503}, {\"Date\": \"2015-12-31T00:00:00-05:00\", \"Stock\": \"AMZN\", \"Value\": 220102.42385736355}, {\"Date\": \"2016-01-31T00:00:00-05:00\", \"Stock\": \"AMZN\", \"Value\": 206466.36455645147}, {\"Date\": \"2016-02-29T00:00:00-05:00\", \"Stock\": \"AMZN\", \"Value\": 186312.0715969186}, {\"Date\": \"2016-03-31T00:00:00-04:00\", \"Stock\": \"AMZN\", \"Value\": 187683.13456050644}, {\"Date\": \"2016-04-30T00:00:00-04:00\", \"Stock\": \"AMZN\", \"Value\": 193990.66467441505}, {\"Date\": \"2016-05-31T00:00:00-04:00\", \"Stock\": \"AMZN\", \"Value\": 221655.01013178524}, {\"Date\": \"2016-06-30T00:00:00-04:00\", \"Stock\": \"AMZN\", \"Value\": 233190.7231832569}, {\"Date\": \"2016-07-31T00:00:00-04:00\", \"Stock\": \"AMZN\", \"Value\": 235213.28432620215}, {\"Date\": \"2016-08-31T00:00:00-04:00\", \"Stock\": \"AMZN\", \"Value\": 248846.11649107936}, {\"Date\": \"2016-09-30T00:00:00-04:00\", \"Stock\": \"AMZN\", \"Value\": 249779.58722704506}, {\"Date\": \"2016-10-31T00:00:00-04:00\", \"Stock\": \"AMZN\", \"Value\": 271210.9605409669}, {\"Date\": \"2016-11-30T00:00:00-05:00\", \"Stock\": \"AMZN\", \"Value\": 254573.4545310443}, {\"Date\": \"2016-12-31T00:00:00-05:00\", \"Stock\": \"AMZN\", \"Value\": 241037.85684041248}, {\"Date\": \"2017-01-31T00:00:00-05:00\", \"Stock\": \"AMZN\", \"Value\": 244285.61687107154}, {\"Date\": \"2017-02-28T00:00:00-05:00\", \"Stock\": \"AMZN\", \"Value\": 269788.0284752098}, {\"Date\": \"2017-03-31T00:00:00-04:00\", \"Stock\": \"AMZN\", \"Value\": 276507.197718897}, {\"Date\": \"2017-04-30T00:00:00-04:00\", \"Stock\": \"AMZN\", \"Value\": 288963.4482331832}, {\"Date\": \"2017-05-31T00:00:00-04:00\", \"Stock\": \"AMZN\", \"Value\": 307347.98473700666}, {\"Date\": \"2017-06-30T00:00:00-04:00\", \"Stock\": \"AMZN\", \"Value\": 322815.3880974197}, {\"Date\": \"2017-07-31T00:00:00-04:00\", \"Stock\": \"AMZN\", \"Value\": 309107.99796208215}, {\"Date\": \"2017-08-31T00:00:00-04:00\", \"Stock\": \"AMZN\", \"Value\": 322893.1855684208}, {\"Date\": \"2017-09-30T00:00:00-04:00\", \"Stock\": \"AMZN\", \"Value\": 317078.30682682083}, {\"Date\": \"2017-10-31T00:00:00-04:00\", \"Stock\": \"AMZN\", \"Value\": 310900.4309215767}, {\"Date\": \"2017-11-30T00:00:00-05:00\", \"Stock\": \"AMZN\", \"Value\": 357733.6924068271}, {\"Date\": \"2017-12-31T00:00:00-05:00\", \"Stock\": \"AMZN\", \"Value\": 376750.3024512695}, {\"Date\": \"2018-01-31T00:00:00-05:00\", \"Stock\": \"AMZN\", \"Value\": 385391.55886311585}, {\"Date\": \"2018-02-28T00:00:00-05:00\", \"Stock\": \"AMZN\", \"Value\": 450538.06311128184}, {\"Date\": \"2018-03-31T00:00:00-04:00\", \"Stock\": \"AMZN\", \"Value\": 484069.1193189037}, {\"Date\": \"2018-04-30T00:00:00-04:00\", \"Stock\": \"AMZN\", \"Value\": 444700.53259490855}, {\"Date\": \"2018-05-31T00:00:00-04:00\", \"Stock\": \"AMZN\", \"Value\": 512854.92545964895}, {\"Date\": \"2018-06-30T00:00:00-04:00\", \"Stock\": \"AMZN\", \"Value\": 532069.2686821347}, {\"Date\": \"2018-07-31T00:00:00-04:00\", \"Stock\": \"AMZN\", \"Value\": 555484.2796744895}, {\"Date\": \"2018-08-31T00:00:00-04:00\", \"Stock\": \"AMZN\", \"Value\": 582513.2873616883}, {\"Date\": \"2018-09-30T00:00:00-04:00\", \"Stock\": \"AMZN\", \"Value\": 661062.5203202927}, {\"Date\": \"2018-10-31T00:00:00-04:00\", \"Stock\": \"AMZN\", \"Value\": 649669.4194796485}, {\"Date\": \"2018-11-30T00:00:00-05:00\", \"Stock\": \"AMZN\", \"Value\": 539845.0591403589}, {\"Date\": \"2018-12-31T00:00:00-05:00\", \"Stock\": \"AMZN\", \"Value\": 574471.66002703}, {\"Date\": \"2019-01-31T00:00:00-05:00\", \"Stock\": \"AMZN\", \"Value\": 498875.2689048195}, {\"Date\": \"2019-02-28T00:00:00-05:00\", \"Stock\": \"AMZN\", \"Value\": 527106.8484339704}, {\"Date\": \"2019-03-31T00:00:00-04:00\", \"Stock\": \"AMZN\", \"Value\": 541854.6870101531}, {\"Date\": \"2019-04-30T00:00:00-04:00\", \"Stock\": \"AMZN\", \"Value\": 588029.9836794705}, {\"Date\": \"2019-05-31T00:00:00-04:00\", \"Stock\": \"AMZN\", \"Value\": 619577.3280216241}, {\"Date\": \"2019-06-30T00:00:00-04:00\", \"Stock\": \"AMZN\", \"Value\": 548648.389495289}, {\"Date\": \"2019-07-31T00:00:00-04:00\", \"Stock\": \"AMZN\", \"Value\": 623035.7792324894}, {\"Date\": \"2019-08-31T00:00:00-04:00\", \"Stock\": \"AMZN\", \"Value\": 601361.3444619656}, {\"Date\": \"2019-09-30T00:00:00-04:00\", \"Stock\": \"AMZN\", \"Value\": 580137.4228277093}, {\"Date\": \"2019-10-31T00:00:00-04:00\", \"Stock\": \"AMZN\", \"Value\": 562572.9498119142}, {\"Date\": \"2019-11-30T00:00:00-05:00\", \"Stock\": \"AMZN\", \"Value\": 580656.0396623673}, {\"Date\": \"2019-12-31T00:00:00-05:00\", \"Stock\": \"AMZN\", \"Value\": 577466.6400994651}, {\"Date\": \"2020-01-31T00:00:00-05:00\", \"Stock\": \"AMZN\", \"Value\": 615198.3640769561}, {\"Date\": \"2020-02-29T00:00:00-05:00\", \"Stock\": \"AMZN\", \"Value\": 649617.5380129733}, {\"Date\": \"2020-03-31T00:00:00-04:00\", \"Stock\": \"AMZN\", \"Value\": 633330.1206225555}, {\"Date\": \"2020-04-30T00:00:00-04:00\", \"Stock\": \"AMZN\", \"Value\": 618339.1958607591}, {\"Date\": \"2020-05-31T00:00:00-04:00\", \"Stock\": \"AMZN\", \"Value\": 740969.8211468043}, {\"Date\": \"2020-06-30T00:00:00-04:00\", \"Stock\": \"AMZN\", \"Value\": 800933.5201939894}, {\"Date\": \"2020-07-31T00:00:00-04:00\", \"Stock\": \"AMZN\", \"Value\": 933067.5541579268}, {\"Date\": \"2020-08-31T00:00:00-04:00\", \"Stock\": \"AMZN\", \"Value\": 1008650.9872779745}, {\"Date\": \"2020-09-30T00:00:00-04:00\", \"Stock\": \"AMZN\", \"Value\": 1134163.08647247}, {\"Date\": \"2020-10-31T00:00:00-04:00\", \"Stock\": \"AMZN\", \"Value\": 1044100.9158822263}, {\"Date\": \"2020-11-30T00:00:00-05:00\", \"Stock\": \"AMZN\", \"Value\": 973836.396443894}, {\"Date\": \"2020-12-31T00:00:00-05:00\", \"Stock\": \"AMZN\", \"Value\": 1043718.4075283026}, {\"Date\": \"2021-01-31T00:00:00-05:00\", \"Stock\": \"AMZN\", \"Value\": 1032876.3185277239}, {\"Date\": \"2021-02-28T00:00:00-05:00\", \"Stock\": \"AMZN\", \"Value\": 1083521.3346148734}, {\"Date\": \"2021-03-31T00:00:00-04:00\", \"Stock\": \"AMZN\", \"Value\": 1019752.434153906}, {\"Date\": \"2021-04-30T00:00:00-04:00\", \"Stock\": \"AMZN\", \"Value\": 1024568.9532326785}, {\"Date\": \"2021-05-31T00:00:00-04:00\", \"Stock\": \"AMZN\", \"Value\": 1097656.5366536812}, {\"Date\": \"2021-06-30T00:00:00-04:00\", \"Stock\": \"AMZN\", \"Value\": 1043254.8869318487}, {\"Date\": \"2021-07-31T00:00:00-04:00\", \"Stock\": \"AMZN\", \"Value\": 1112722.0441149496}, {\"Date\": \"2021-08-31T00:00:00-04:00\", \"Stock\": \"AMZN\", \"Value\": 1079826.3256774994}, {\"Date\": \"2021-09-30T00:00:00-04:00\", \"Stock\": \"AMZN\", \"Value\": 1127641.6504068263}, {\"Date\": \"2021-10-31T00:00:00-04:00\", \"Stock\": \"AMZN\", \"Value\": 1064196.798915979}, {\"Date\": \"2021-11-30T00:00:00-05:00\", \"Stock\": \"AMZN\", \"Value\": 1075492.7147404014}, {\"Date\": \"2021-12-31T00:00:00-05:00\", \"Stock\": \"AMZN\", \"Value\": 1116206.4607881643}, {\"Date\": \"2022-01-31T00:00:00-05:00\", \"Stock\": \"AMZN\", \"Value\": 1104657.7155474944}, {\"Date\": \"2022-02-28T00:00:00-05:00\", \"Stock\": \"AMZN\", \"Value\": 980121.2253250058}, {\"Date\": \"2022-03-31T00:00:00-04:00\", \"Stock\": \"AMZN\", \"Value\": 979787.383666228}, {\"Date\": \"2022-04-30T00:00:00-04:00\", \"Stock\": \"AMZN\", \"Value\": 1060287.8345688465}, {\"Date\": \"2022-05-31T00:00:00-04:00\", \"Stock\": \"AMZN\", \"Value\": 807078.9763648144}, {\"Date\": \"2022-06-30T00:00:00-04:00\", \"Stock\": \"AMZN\", \"Value\": 788824.0693406436}, {\"Date\": \"2022-07-31T00:00:00-04:00\", \"Stock\": \"AMZN\", \"Value\": 710229.483374469}, {\"Date\": \"2022-08-31T00:00:00-04:00\", \"Stock\": \"AMZN\", \"Value\": 877674.073232372}, {\"Date\": \"2022-09-30T00:00:00-04:00\", \"Stock\": \"AMZN\", \"Value\": 828601.0804228884}, {\"Date\": \"2022-10-31T00:00:00-04:00\", \"Stock\": \"AMZN\", \"Value\": 751199.2736100086}, {\"Date\": \"2022-11-30T00:00:00-05:00\", \"Stock\": \"AMZN\", \"Value\": 627447.1876405884}, {\"Date\": \"2022-12-31T00:00:00-05:00\", \"Stock\": \"AMZN\", \"Value\": 619084.6766493154}, {\"Date\": \"2023-01-31T00:00:00-05:00\", \"Stock\": \"AMZN\", \"Value\": 556333.4739383727}, {\"Date\": \"2023-02-28T00:00:00-05:00\", \"Stock\": \"AMZN\", \"Value\": 681641.4104117672}, {\"Date\": \"2023-03-31T00:00:00-04:00\", \"Stock\": \"AMZN\", \"Value\": 597497.7331224032}, {\"Date\": \"2023-04-30T00:00:00-04:00\", \"Stock\": \"AMZN\", \"Value\": 663879.2042179287}, {\"Date\": \"2023-05-31T00:00:00-04:00\", \"Stock\": \"AMZN\", \"Value\": 661545.477919991}, {\"Date\": \"2023-06-30T00:00:00-04:00\", \"Stock\": \"AMZN\", \"Value\": 795864.1222409456}, {\"Date\": \"2023-07-31T00:00:00-04:00\", \"Stock\": \"AMZN\", \"Value\": 844159.2392564656}, {\"Date\": \"2023-08-31T00:00:00-04:00\", \"Stock\": \"AMZN\", \"Value\": 853688.6133967072}, {\"Date\": \"2023-09-30T00:00:00-04:00\", \"Stock\": \"AMZN\", \"Value\": 895371.4399573723}, {\"Date\": \"2023-10-31T00:00:00-04:00\", \"Stock\": \"AMZN\", \"Value\": 839232.5277012844}, {\"Date\": \"2023-11-30T00:00:00-05:00\", \"Stock\": \"AMZN\", \"Value\": 888111.0021042535}, {\"Date\": \"2023-12-31T00:00:00-05:00\", \"Stock\": \"AMZN\", \"Value\": 953131.0916442956}, {\"Date\": \"2024-01-31T00:00:00-05:00\", \"Stock\": \"AMZN\", \"Value\": 971930.4820494268}, {\"Date\": \"2024-02-29T00:00:00-05:00\", \"Stock\": \"AMZN\", \"Value\": 1032542.4768689462}, {\"Date\": \"2024-03-31T00:00:00-04:00\", \"Stock\": \"AMZN\", \"Value\": 1155322.2180959117}, {\"Date\": \"2024-04-30T00:00:00-04:00\", \"Stock\": \"AMZN\", \"Value\": 1173149.2637585886}, {\"Date\": \"2024-05-31T00:00:00-04:00\", \"Stock\": \"AMZN\", \"Value\": 1160378.608588769}, {\"Date\": \"2024-06-30T00:00:00-04:00\", \"Stock\": \"AMZN\", \"Value\": 1156100.0938898756}, {\"Date\": \"2024-07-31T00:00:00-04:00\", \"Stock\": \"AMZN\", \"Value\": 1278361.2182821834}, {\"Date\": \"2024-08-31T00:00:00-04:00\", \"Stock\": \"AMZN\", \"Value\": 1193245.2457083883}, {\"Date\": \"2024-09-30T00:00:00-04:00\", \"Stock\": \"AMZN\", \"Value\": 1142551.5629260924}, {\"Date\": \"2024-10-31T00:00:00-04:00\", \"Stock\": \"AMZN\", \"Value\": 1200116.7456645253}, {\"Date\": \"2024-11-30T00:00:00-05:00\", \"Stock\": \"AMZN\", \"Value\": 1283093.4608888733}, {\"Date\": \"2024-12-31T00:00:00-05:00\", \"Stock\": \"AMZN\", \"Value\": 1365940.6950076392}, {\"Date\": \"2025-01-31T00:00:00-05:00\", \"Stock\": \"AMZN\", \"Value\": 1427589.8245804275}, {\"Date\": \"2025-02-28T00:00:00-05:00\", \"Stock\": \"AMZN\", \"Value\": 1539089.8722146864}, {\"Date\": \"2025-03-31T00:00:00-04:00\", \"Stock\": \"AMZN\", \"Value\": 1329054.901064479}, {\"Date\": \"2025-04-30T00:00:00-04:00\", \"Stock\": \"AMZN\", \"Value\": 1245753.9390379167}, {\"Date\": \"2025-05-31T00:00:00-04:00\", \"Stock\": \"AMZN\", \"Value\": 1232983.2838680972}, {\"Date\": \"2015-01-31T00:00:00-05:00\", \"Stock\": \"^GSPC\", \"Value\": 100000.0}, {\"Date\": \"2015-02-28T00:00:00-05:00\", \"Stock\": \"^GSPC\", \"Value\": 98185.30869342061}, {\"Date\": \"2015-03-31T00:00:00-04:00\", \"Stock\": \"^GSPC\", \"Value\": 102875.8110392797}, {\"Date\": \"2015-04-30T00:00:00-04:00\", \"Stock\": \"^GSPC\", \"Value\": 100072.392880659}, {\"Date\": \"2015-05-31T00:00:00-04:00\", \"Stock\": \"^GSPC\", \"Value\": 102433.68424249088}, {\"Date\": \"2015-06-30T00:00:00-04:00\", \"Stock\": \"^GSPC\", \"Value\": 102600.8177323295}, {\"Date\": \"2015-07-31T00:00:00-04:00\", \"Stock\": \"^GSPC\", \"Value\": 100933.8242716497}, {\"Date\": \"2015-08-31T00:00:00-04:00\", \"Stock\": \"^GSPC\", \"Value\": 101935.6762625488}, {\"Date\": \"2015-09-30T00:00:00-04:00\", \"Stock\": \"^GSPC\", \"Value\": 92986.5912442691}, {\"Date\": \"2015-10-31T00:00:00-04:00\", \"Stock\": \"^GSPC\", \"Value\": 93470.9936803613}, {\"Date\": \"2015-11-30T00:00:00-05:00\", \"Stock\": \"^GSPC\", \"Value\": 102227.67946477428}, {\"Date\": \"2015-12-31T00:00:00-05:00\", \"Stock\": \"^GSPC\", \"Value\": 102158.67907368903}, {\"Date\": \"2016-01-31T00:00:00-05:00\", \"Stock\": \"^GSPC\", \"Value\": 97787.39101775519}, {\"Date\": \"2016-02-29T00:00:00-05:00\", \"Stock\": \"^GSPC\", \"Value\": 94226.99693382997}, {\"Date\": \"2016-03-31T00:00:00-04:00\", \"Stock\": \"^GSPC\", \"Value\": 96120.39755707538}, {\"Date\": \"2016-04-30T00:00:00-04:00\", \"Stock\": \"^GSPC\", \"Value\": 100708.3897809199}, {\"Date\": \"2016-05-31T00:00:00-04:00\", \"Stock\": \"^GSPC\", \"Value\": 101128.65518510596}, {\"Date\": \"2016-06-30T00:00:00-04:00\", \"Stock\": \"^GSPC\", \"Value\": 101998.35428670119}, {\"Date\": \"2016-07-31T00:00:00-04:00\", \"Stock\": \"^GSPC\", \"Value\": 102174.22996121056}, {\"Date\": \"2016-08-31T00:00:00-04:00\", \"Stock\": \"^GSPC\", \"Value\": 105472.74994611755}, {\"Date\": \"2016-09-30T00:00:00-04:00\", \"Stock\": \"^GSPC\", \"Value\": 105473.72261795336}, {\"Date\": \"2016-10-31T00:00:00-04:00\", \"Stock\": \"^GSPC\", \"Value\": 105004.37287161313}, {\"Date\": \"2016-11-30T00:00:00-05:00\", \"Stock\": \"^GSPC\", \"Value\": 102600.33139641158}, {\"Date\": \"2016-12-31T00:00:00-05:00\", \"Stock\": \"^GSPC\", \"Value\": 106456.13303398766}, {\"Date\": \"2017-01-31T00:00:00-05:00\", \"Stock\": \"^GSPC\", \"Value\": 109699.25817165927}, {\"Date\": \"2017-02-28T00:00:00-05:00\", \"Stock\": \"^GSPC\", \"Value\": 110754.54780427043}, {\"Date\": \"2017-03-31T00:00:00-04:00\", \"Stock\": \"^GSPC\", \"Value\": 116410.45660181437}, {\"Date\": \"2017-04-30T00:00:00-04:00\", \"Stock\": \"^GSPC\", \"Value\": 114606.94509042111}, {\"Date\": \"2017-05-31T00:00:00-04:00\", \"Stock\": \"^GSPC\", \"Value\": 116039.75001384872}, {\"Date\": \"2017-06-30T00:00:00-04:00\", \"Stock\": \"^GSPC\", \"Value\": 118067.24887006968}, {\"Date\": \"2017-07-31T00:00:00-04:00\", \"Stock\": \"^GSPC\", \"Value\": 118016.23104609552}, {\"Date\": \"2017-08-31T00:00:00-04:00\", \"Stock\": \"^GSPC\", \"Value\": 120316.30339152877}, {\"Date\": \"2017-09-30T00:00:00-04:00\", \"Stock\": \"^GSPC\", \"Value\": 120326.01824803535}, {\"Date\": \"2017-10-31T00:00:00-04:00\", \"Stock\": \"^GSPC\", \"Value\": 122880.1951796519}, {\"Date\": \"2017-11-30T00:00:00-05:00\", \"Stock\": \"^GSPC\", \"Value\": 125321.16259905981}, {\"Date\": \"2017-12-31T00:00:00-05:00\", \"Stock\": \"^GSPC\", \"Value\": 128375.28099243842}, {\"Date\": \"2018-01-31T00:00:00-05:00\", \"Stock\": \"^GSPC\", \"Value\": 130979.0167402754}, {\"Date\": \"2018-02-28T00:00:00-05:00\", \"Stock\": \"^GSPC\", \"Value\": 137109.12678148702}, {\"Date\": \"2018-03-31T00:00:00-04:00\", \"Stock\": \"^GSPC\", \"Value\": 130097.65743850193}, {\"Date\": \"2018-04-30T00:00:00-04:00\", \"Stock\": \"^GSPC\", \"Value\": 125443.58877000547}, {\"Date\": \"2018-05-31T00:00:00-04:00\", \"Stock\": \"^GSPC\", \"Value\": 128986.49848458914}, {\"Date\": \"2018-06-30T00:00:00-04:00\", \"Stock\": \"^GSPC\", \"Value\": 132864.64785068587}, {\"Date\": \"2018-07-31T00:00:00-04:00\", \"Stock\": \"^GSPC\", \"Value\": 132480.32385701867}, {\"Date\": \"2018-08-31T00:00:00-04:00\", \"Stock\": \"^GSPC\", \"Value\": 136690.32038505469}, {\"Date\": \"2018-09-30T00:00:00-04:00\", \"Stock\": \"^GSPC\", \"Value\": 140740.45473831746}, {\"Date\": \"2018-10-31T00:00:00-04:00\", \"Stock\": \"^GSPC\", \"Value\": 142094.5562760049}, {\"Date\": \"2018-11-30T00:00:00-05:00\", \"Stock\": \"^GSPC\", \"Value\": 133144.01818089728}, {\"Date\": \"2018-12-31T00:00:00-05:00\", \"Stock\": \"^GSPC\", \"Value\": 135573.32540012695}, {\"Date\": \"2019-01-31T00:00:00-05:00\", \"Stock\": \"^GSPC\", \"Value\": 121952.68141308342}, {\"Date\": \"2019-02-28T00:00:00-05:00\", \"Stock\": \"^GSPC\", \"Value\": 131499.85878465604}, {\"Date\": \"2019-03-31T00:00:00-04:00\", \"Stock\": \"^GSPC\", \"Value\": 136220.48430279654}, {\"Date\": \"2019-04-30T00:00:00-04:00\", \"Stock\": \"^GSPC\", \"Value\": 139305.70447121823}, {\"Date\": \"2019-05-31T00:00:00-04:00\", \"Stock\": \"^GSPC\", \"Value\": 142052.76697261943}, {\"Date\": \"2019-06-30T00:00:00-04:00\", \"Stock\": \"^GSPC\", \"Value\": 133342.2415839273}, {\"Date\": \"2019-07-31T00:00:00-04:00\", \"Stock\": \"^GSPC\", \"Value\": 144025.36917937457}, {\"Date\": \"2019-08-31T00:00:00-04:00\", \"Stock\": \"^GSPC\", \"Value\": 143502.09545540434}, {\"Date\": \"2019-09-30T00:00:00-04:00\", \"Stock\": \"^GSPC\", \"Value\": 141204.45478956067}, {\"Date\": \"2019-10-31T00:00:00-04:00\", \"Stock\": \"^GSPC\", \"Value\": 142855.411026801}, {\"Date\": \"2019-11-30T00:00:00-05:00\", \"Stock\": \"^GSPC\", \"Value\": 149009.32780428705}, {\"Date\": \"2019-12-31T00:00:00-05:00\", \"Stock\": \"^GSPC\", \"Value\": 151290.94310854297}, {\"Date\": \"2020-01-31T00:00:00-05:00\", \"Stock\": \"^GSPC\", \"Value\": 158286.37522808858}, {\"Date\": \"2020-02-29T00:00:00-05:00\", \"Stock\": \"^GSPC\", \"Value\": 157852.49241820097}, {\"Date\": \"2020-03-31T00:00:00-04:00\", \"Stock\": \"^GSPC\", \"Value\": 150142.36001265424}, {\"Date\": \"2020-04-30T00:00:00-04:00\", \"Stock\": \"^GSPC\", \"Value\": 120032.06970213822}, {\"Date\": \"2020-05-31T00:00:00-04:00\", \"Stock\": \"^GSPC\", \"Value\": 137533.28287301637}, {\"Date\": \"2020-06-30T00:00:00-04:00\", \"Stock\": \"^GSPC\", \"Value\": 148466.13803138575}, {\"Date\": \"2020-07-31T00:00:00-04:00\", \"Stock\": \"^GSPC\", \"Value\": 151387.62906139425}, {\"Date\": \"2020-08-31T00:00:00-04:00\", \"Stock\": \"^GSPC\", \"Value\": 160072.4023701403}, {\"Date\": \"2020-09-30T00:00:00-04:00\", \"Stock\": \"^GSPC\", \"Value\": 171346.321349186}, {\"Date\": \"2020-10-31T00:00:00-04:00\", \"Stock\": \"^GSPC\", \"Value\": 164260.03930780402}, {\"Date\": \"2020-11-30T00:00:00-05:00\", \"Stock\": \"^GSPC\", \"Value\": 160831.7981131827}, {\"Date\": \"2020-12-31T00:00:00-05:00\", \"Stock\": \"^GSPC\", \"Value\": 177944.32212898415}, {\"Date\": \"2021-01-31T00:00:00-05:00\", \"Stock\": \"^GSPC\", \"Value\": 179800.31047210525}, {\"Date\": \"2021-02-28T00:00:00-05:00\", \"Stock\": \"^GSPC\", \"Value\": 183357.31206645674}, {\"Date\": \"2021-03-31T00:00:00-04:00\", \"Stock\": \"^GSPC\", \"Value\": 189574.39320401306}, {\"Date\": \"2021-04-30T00:00:00-04:00\", \"Stock\": \"^GSPC\", \"Value\": 195309.98992098466}, {\"Date\": \"2021-05-31T00:00:00-04:00\", \"Stock\": \"^GSPC\", \"Value\": 203705.1917070948}, {\"Date\": \"2021-06-30T00:00:00-04:00\", \"Stock\": \"^GSPC\", \"Value\": 204160.92404773354}, {\"Date\": \"2021-07-31T00:00:00-04:00\", \"Stock\": \"^GSPC\", \"Value\": 209889.22572593644}, {\"Date\": \"2021-08-31T00:00:00-04:00\", \"Stock\": \"^GSPC\", \"Value\": 213155.19678989827}, {\"Date\": \"2021-09-30T00:00:00-04:00\", \"Stock\": \"^GSPC\", \"Value\": 219808.08235731054}, {\"Date\": \"2021-10-31T00:00:00-04:00\", \"Stock\": \"^GSPC\", \"Value\": 211691.77642734553}, {\"Date\": \"2021-11-30T00:00:00-05:00\", \"Stock\": \"^GSPC\", \"Value\": 224160.43296707497}, {\"Date\": \"2021-12-31T00:00:00-05:00\", \"Stock\": \"^GSPC\", \"Value\": 219271.21495134212}, {\"Date\": \"2022-01-31T00:00:00-05:00\", \"Stock\": \"^GSPC\", \"Value\": 233046.3595562102}, {\"Date\": \"2022-02-28T00:00:00-05:00\", \"Stock\": \"^GSPC\", \"Value\": 220898.85078822597}, {\"Date\": \"2022-03-31T00:00:00-04:00\", \"Stock\": \"^GSPC\", \"Value\": 209224.558730222}, {\"Date\": \"2022-04-30T00:00:00-04:00\", \"Stock\": \"^GSPC\", \"Value\": 220865.80366951125}, {\"Date\": \"2022-05-31T00:00:00-04:00\", \"Stock\": \"^GSPC\", \"Value\": 201893.88695916333}, {\"Date\": \"2022-06-30T00:00:00-04:00\", \"Stock\": \"^GSPC\", \"Value\": 199262.95198547828}, {\"Date\": \"2022-07-31T00:00:00-04:00\", \"Stock\": \"^GSPC\", \"Value\": 185858.03949450958}, {\"Date\": \"2022-08-31T00:00:00-04:00\", \"Stock\": \"^GSPC\", \"Value\": 200108.34615302953}, {\"Date\": \"2022-09-30T00:00:00-04:00\", \"Stock\": \"^GSPC\", \"Value\": 192733.95159676537}, {\"Date\": \"2022-10-31T00:00:00-04:00\", \"Stock\": \"^GSPC\", \"Value\": 178720.7277673018}, {\"Date\": \"2022-11-30T00:00:00-05:00\", \"Stock\": \"^GSPC\", \"Value\": 187353.03610617167}, {\"Date\": \"2022-12-31T00:00:00-05:00\", \"Stock\": \"^GSPC\", \"Value\": 198064.8219352208}, {\"Date\": \"2023-01-31T00:00:00-05:00\", \"Stock\": \"^GSPC\", \"Value\": 185800.21296768464}, {\"Date\": \"2023-02-28T00:00:00-05:00\", \"Stock\": \"^GSPC\", \"Value\": 200136.52991256514}, {\"Date\": \"2023-03-31T00:00:00-04:00\", \"Stock\": \"^GSPC\", \"Value\": 191982.79984062415}, {\"Date\": \"2023-04-30T00:00:00-04:00\", \"Stock\": \"^GSPC\", \"Value\": 200394.02698832212}, {\"Date\": \"2023-05-31T00:00:00-04:00\", \"Stock\": \"^GSPC\", \"Value\": 202500.7392899045}, {\"Date\": \"2023-06-30T00:00:00-04:00\", \"Stock\": \"^GSPC\", \"Value\": 205083.08811920494}, {\"Date\": \"2023-07-31T00:00:00-04:00\", \"Stock\": \"^GSPC\", \"Value\": 216479.93146696588}, {\"Date\": \"2023-08-31T00:00:00-04:00\", \"Stock\": \"^GSPC\", \"Value\": 222365.6636403525}, {\"Date\": \"2023-09-30T00:00:00-04:00\", \"Stock\": \"^GSPC\", \"Value\": 219403.8541765639}, {\"Date\": \"2023-10-31T00:00:00-04:00\", \"Stock\": \"^GSPC\", \"Value\": 208356.34236008383}, {\"Date\": \"2023-11-30T00:00:00-05:00\", \"Stock\": \"^GSPC\", \"Value\": 205901.2711990565}, {\"Date\": \"2023-12-31T00:00:00-05:00\", \"Stock\": \"^GSPC\", \"Value\": 223235.35088009606}, {\"Date\": \"2024-01-31T00:00:00-05:00\", \"Stock\": \"^GSPC\", \"Value\": 230435.82696737407}, {\"Date\": \"2024-02-29T00:00:00-05:00\", \"Stock\": \"^GSPC\", \"Value\": 238372.85287140438}, {\"Date\": \"2024-03-31T00:00:00-04:00\", \"Stock\": \"^GSPC\", \"Value\": 249590.91439100011}, {\"Date\": \"2024-04-30T00:00:00-04:00\", \"Stock\": \"^GSPC\", \"Value\": 254774.56728854796}, {\"Date\": \"2024-05-31T00:00:00-04:00\", \"Stock\": \"^GSPC\", \"Value\": 243824.2277608371}, {\"Date\": \"2024-06-30T00:00:00-04:00\", \"Stock\": \"^GSPC\", \"Value\": 256700.0304968206}, {\"Date\": \"2024-07-31T00:00:00-04:00\", \"Stock\": \"^GSPC\", \"Value\": 266013.5056670589}, {\"Date\": \"2024-08-31T00:00:00-04:00\", \"Stock\": \"^GSPC\", \"Value\": 264633.18943721085}, {\"Date\": \"2024-09-30T00:00:00-04:00\", \"Stock\": \"^GSPC\", \"Value\": 268629.39981284365}, {\"Date\": \"2024-10-31T00:00:00-04:00\", \"Stock\": \"^GSPC\", \"Value\": 277366.15175554814}, {\"Date\": \"2024-11-30T00:00:00-05:00\", \"Stock\": \"^GSPC\", \"Value\": 278340.2944609779}, {\"Date\": \"2024-12-31T00:00:00-05:00\", \"Stock\": \"^GSPC\", \"Value\": 293807.6982705539}, {\"Date\": \"2025-01-31T00:00:00-05:00\", \"Stock\": \"^GSPC\", \"Value\": 285130.20813872485}, {\"Date\": \"2025-02-28T00:00:00-05:00\", \"Stock\": \"^GSPC\", \"Value\": 291253.03500301944}, {\"Date\": \"2025-03-31T00:00:00-04:00\", \"Stock\": \"^GSPC\", \"Value\": 284215.3509678737}, {\"Date\": \"2025-04-30T00:00:00-04:00\", \"Stock\": \"^GSPC\", \"Value\": 273689.14380798885}, {\"Date\": \"2025-05-31T00:00:00-04:00\", \"Stock\": \"^GSPC\", \"Value\": 272283.56183411274}, {\"Date\": \"2015-01-31T00:00:00-05:00\", \"Stock\": \"SBUX\", \"Value\": 100000.0}, {\"Date\": \"2015-02-28T00:00:00-05:00\", \"Stock\": \"SBUX\", \"Value\": 108042.709397724}, {\"Date\": \"2015-03-31T00:00:00-04:00\", \"Stock\": \"SBUX\", \"Value\": 116127.14024033931}, {\"Date\": \"2015-04-30T00:00:00-04:00\", \"Stock\": \"SBUX\", \"Value\": 114635.96752339583}, {\"Date\": \"2015-05-31T00:00:00-04:00\", \"Stock\": \"SBUX\", \"Value\": 123952.78830124738}, {\"Date\": \"2015-06-30T00:00:00-04:00\", \"Stock\": \"SBUX\", \"Value\": 129119.24622722367}, {\"Date\": \"2015-07-31T00:00:00-04:00\", \"Stock\": \"SBUX\", \"Value\": 133248.51383797484}, {\"Date\": \"2015-08-31T00:00:00-04:00\", \"Stock\": \"SBUX\", \"Value\": 143880.6755236173}, {\"Date\": \"2015-09-30T00:00:00-04:00\", \"Stock\": \"SBUX\", \"Value\": 132648.88961697725}, {\"Date\": \"2015-10-31T00:00:00-04:00\", \"Stock\": \"SBUX\", \"Value\": 142517.0008881966}, {\"Date\": \"2015-11-30T00:00:00-05:00\", \"Stock\": \"SBUX\", \"Value\": 154319.06758119038}, {\"Date\": \"2015-12-31T00:00:00-05:00\", \"Stock\": \"SBUX\", \"Value\": 152654.62560065382}, {\"Date\": \"2016-01-31T00:00:00-05:00\", \"Stock\": \"SBUX\", \"Value\": 144918.65519439426}, {\"Date\": \"2016-02-29T00:00:00-05:00\", \"Stock\": \"SBUX\", \"Value\": 152729.23686020446}, {\"Date\": \"2016-03-31T00:00:00-04:00\", \"Stock\": \"SBUX\", \"Value\": 149834.33829353686}, {\"Date\": \"2016-04-30T00:00:00-04:00\", \"Stock\": \"SBUX\", \"Value\": 152280.00203173255}, {\"Date\": \"2016-05-31T00:00:00-04:00\", \"Stock\": \"SBUX\", \"Value\": 143146.22022241983}, {\"Date\": \"2016-06-30T00:00:00-04:00\", \"Stock\": \"SBUX\", \"Value\": 137286.14756510124}, {\"Date\": \"2016-07-31T00:00:00-04:00\", \"Stock\": \"SBUX\", \"Value\": 142720.46014166303}, {\"Date\": \"2016-08-31T00:00:00-04:00\", \"Stock\": \"SBUX\", \"Value\": 144323.2523096086}, {\"Date\": \"2016-09-30T00:00:00-04:00\", \"Stock\": \"SBUX\", \"Value\": 141508.63921051635}, {\"Date\": \"2016-10-31T00:00:00-04:00\", \"Stock\": \"SBUX\", \"Value\": 135301.47890910605}, {\"Date\": \"2016-11-30T00:00:00-05:00\", \"Stock\": \"SBUX\", \"Value\": 131934.03092534892}, {\"Date\": \"2016-12-31T00:00:00-05:00\", \"Stock\": \"SBUX\", \"Value\": 147718.44213703487}, {\"Date\": \"2017-01-31T00:00:00-05:00\", \"Stock\": \"SBUX\", \"Value\": 139740.45989456042}, {\"Date\": \"2017-02-28T00:00:00-05:00\", \"Stock\": \"SBUX\", \"Value\": 136079.70340365538}, {\"Date\": \"2017-03-31T00:00:00-04:00\", \"Stock\": \"SBUX\", \"Value\": 144909.67484500032}, {\"Date\": \"2017-04-30T00:00:00-04:00\", \"Stock\": \"SBUX\", \"Value\": 148206.52698657912}, {\"Date\": \"2017-05-31T00:00:00-04:00\", \"Stock\": \"SBUX\", \"Value\": 152619.2876397903}, {\"Date\": \"2017-06-30T00:00:00-04:00\", \"Stock\": \"SBUX\", \"Value\": 162338.9199877181}, {\"Date\": \"2017-07-31T00:00:00-04:00\", \"Stock\": \"SBUX\", \"Value\": 148333.2013927435}, {\"Date\": \"2017-08-31T00:00:00-04:00\", \"Stock\": \"SBUX\", \"Value\": 139369.57718455864}, {\"Date\": \"2017-09-30T00:00:00-04:00\", \"Stock\": \"SBUX\", \"Value\": 140510.28747642803}, {\"Date\": \"2017-10-31T00:00:00-04:00\", \"Stock\": \"SBUX\", \"Value\": 137645.32722105205}, {\"Date\": \"2017-11-30T00:00:00-05:00\", \"Stock\": \"SBUX\", \"Value\": 141021.91571330058}, {\"Date\": \"2017-12-31T00:00:00-05:00\", \"Stock\": \"SBUX\", \"Value\": 147400.62928797383}, {\"Date\": \"2018-01-31T00:00:00-05:00\", \"Stock\": \"SBUX\", \"Value\": 148197.821195638}, {\"Date\": \"2018-02-28T00:00:00-05:00\", \"Stock\": \"SBUX\", \"Value\": 144006.2402560349}, {\"Date\": \"2018-03-31T00:00:00-04:00\", \"Stock\": \"SBUX\", \"Value\": 145226.80129792934}, {\"Date\": \"2018-04-30T00:00:00-04:00\", \"Stock\": \"SBUX\", \"Value\": 145407.81539787867}, {\"Date\": \"2018-05-31T00:00:00-04:00\", \"Stock\": \"SBUX\", \"Value\": 150294.38386108808}, {\"Date\": \"2018-06-30T00:00:00-04:00\", \"Stock\": \"SBUX\", \"Value\": 147909.5119403183}, {\"Date\": \"2018-07-31T00:00:00-04:00\", \"Stock\": \"SBUX\", \"Value\": 127507.33643065776}, {\"Date\": \"2018-08-31T00:00:00-04:00\", \"Stock\": \"SBUX\", \"Value\": 134966.4375171313}, {\"Date\": \"2018-09-30T00:00:00-04:00\", \"Stock\": \"SBUX\", \"Value\": 140093.41622558088}, {\"Date\": \"2018-10-31T00:00:00-04:00\", \"Stock\": \"SBUX\", \"Value\": 145458.48287235733}, {\"Date\": \"2018-11-30T00:00:00-05:00\", \"Stock\": \"SBUX\", \"Value\": 153440.65213123715}, {\"Date\": \"2018-12-31T00:00:00-05:00\", \"Stock\": \"SBUX\", \"Value\": 177602.82557255737}, {\"Date\": \"2019-01-31T00:00:00-05:00\", \"Stock\": \"SBUX\", \"Value\": 169235.77112258258}, {\"Date\": \"2019-02-28T00:00:00-05:00\", \"Stock\": \"SBUX\", \"Value\": 179207.8599678675}, {\"Date\": \"2019-03-31T00:00:00-04:00\", \"Stock\": \"SBUX\", \"Value\": 187390.09081936022}, {\"Date\": \"2019-04-30T00:00:00-04:00\", \"Stock\": \"SBUX\", \"Value\": 195615.71334633217}, {\"Date\": \"2019-05-31T00:00:00-04:00\", \"Stock\": \"SBUX\", \"Value\": 205031.48956654998}, {\"Date\": \"2019-06-30T00:00:00-04:00\", \"Stock\": \"SBUX\", \"Value\": 202528.3401522976}, {\"Date\": \"2019-07-31T00:00:00-04:00\", \"Stock\": \"SBUX\", \"Value\": 224662.4189423368}, {\"Date\": \"2019-08-31T00:00:00-04:00\", \"Stock\": \"SBUX\", \"Value\": 253439.39373832842}, {\"Date\": \"2019-09-30T00:00:00-04:00\", \"Stock\": \"SBUX\", \"Value\": 258107.4823127157}, {\"Date\": \"2019-10-31T00:00:00-04:00\", \"Stock\": \"SBUX\", \"Value\": 230741.73796415824}, {\"Date\": \"2019-11-30T00:00:00-05:00\", \"Stock\": \"SBUX\", \"Value\": 221939.87444441955}, {\"Date\": \"2019-12-31T00:00:00-05:00\", \"Stock\": \"SBUX\", \"Value\": 226694.88364899167}, {\"Date\": \"2020-01-31T00:00:00-05:00\", \"Stock\": \"SBUX\", \"Value\": 239507.90888503188}, {\"Date\": \"2020-02-29T00:00:00-05:00\", \"Stock\": \"SBUX\", \"Value\": 230554.8780571512}, {\"Date\": \"2020-03-31T00:00:00-04:00\", \"Stock\": \"SBUX\", \"Value\": 221853.6402103667}, {\"Date\": \"2020-04-30T00:00:00-04:00\", \"Stock\": \"SBUX\", \"Value\": 168638.9039260486}, {\"Date\": \"2020-05-31T00:00:00-04:00\", \"Stock\": \"SBUX\", \"Value\": 198720.30593133203}, {\"Date\": \"2020-06-30T00:00:00-04:00\", \"Stock\": \"SBUX\", \"Value\": 212111.78006769696}, {\"Date\": \"2020-07-31T00:00:00-04:00\", \"Stock\": \"SBUX\", \"Value\": 200493.35865982532}, {\"Date\": \"2020-08-31T00:00:00-04:00\", \"Stock\": \"SBUX\", \"Value\": 204474.47910541535}, {\"Date\": \"2020-09-30T00:00:00-04:00\", \"Stock\": \"SBUX\", \"Value\": 234314.42983132502}, {\"Date\": \"2020-10-31T00:00:00-04:00\", \"Stock\": \"SBUX\", \"Value\": 236193.34772324693}, {\"Date\": \"2020-11-30T00:00:00-05:00\", \"Stock\": \"SBUX\", \"Value\": 234096.65921850599}, {\"Date\": \"2020-12-31T00:00:00-05:00\", \"Stock\": \"SBUX\", \"Value\": 270356.08400939545}, {\"Date\": \"2021-01-31T00:00:00-05:00\", \"Stock\": \"SBUX\", \"Value\": 282065.49866450194}, {\"Date\": \"2021-02-28T00:00:00-05:00\", \"Stock\": \"SBUX\", \"Value\": 269699.4774695046}, {\"Date\": \"2021-03-31T00:00:00-04:00\", \"Stock\": \"SBUX\", \"Value\": 293624.40952772746}, {\"Date\": \"2021-04-30T00:00:00-04:00\", \"Stock\": \"SBUX\", \"Value\": 300520.6085862665}, {\"Date\": \"2021-05-31T00:00:00-04:00\", \"Stock\": \"SBUX\", \"Value\": 317939.6950662304}, {\"Date\": \"2021-06-30T00:00:00-04:00\", \"Stock\": \"SBUX\", \"Value\": 312639.6186932208}, {\"Date\": \"2021-07-31T00:00:00-04:00\", \"Stock\": \"SBUX\", \"Value\": 312832.79344464245}, {\"Date\": \"2021-08-31T00:00:00-04:00\", \"Stock\": \"SBUX\", \"Value\": 332031.38477674057}, {\"Date\": \"2021-09-30T00:00:00-04:00\", \"Stock\": \"SBUX\", \"Value\": 325234.25555992307}, {\"Date\": \"2021-10-31T00:00:00-04:00\", \"Stock\": \"SBUX\", \"Value\": 312690.11456866644}, {\"Date\": \"2021-11-30T00:00:00-05:00\", \"Stock\": \"SBUX\", \"Value\": 304050.42357505305}, {\"Date\": \"2021-12-31T00:00:00-05:00\", \"Stock\": \"SBUX\", \"Value\": 302191.04509302275}, {\"Date\": \"2022-01-31T00:00:00-05:00\", \"Stock\": \"SBUX\", \"Value\": 324495.1899647055}, {\"Date\": \"2022-02-28T00:00:00-05:00\", \"Stock\": \"SBUX\", \"Value\": 274658.4149649}, {\"Date\": \"2022-03-31T00:00:00-04:00\", \"Stock\": \"SBUX\", \"Value\": 251956.6408139377}, {\"Date\": \"2022-04-30T00:00:00-04:00\", \"Stock\": \"SBUX\", \"Value\": 255730.1035497205}, {\"Date\": \"2022-05-31T00:00:00-04:00\", \"Stock\": \"SBUX\", \"Value\": 210671.99554117073}, {\"Date\": \"2022-06-30T00:00:00-04:00\", \"Stock\": \"SBUX\", \"Value\": 214717.31690497577}, {\"Date\": \"2022-07-31T00:00:00-04:00\", \"Stock\": \"SBUX\", \"Value\": 223105.60387530105}, {\"Date\": \"2022-08-31T00:00:00-04:00\", \"Stock\": \"SBUX\", \"Value\": 239009.58529318497}, {\"Date\": \"2022-09-30T00:00:00-04:00\", \"Stock\": \"SBUX\", \"Value\": 241758.51028244285}, {\"Date\": \"2022-10-31T00:00:00-04:00\", \"Stock\": \"SBUX\", \"Value\": 242381.3003728962}, {\"Date\": \"2022-11-30T00:00:00-05:00\", \"Stock\": \"SBUX\", \"Value\": 246571.01660300727}, {\"Date\": \"2022-12-31T00:00:00-05:00\", \"Stock\": \"SBUX\", \"Value\": 294311.4691760089}, {\"Date\": \"2023-01-31T00:00:00-05:00\", \"Stock\": \"SBUX\", \"Value\": 287079.66816865397}, {\"Date\": \"2023-02-28T00:00:00-05:00\", \"Stock\": \"SBUX\", \"Value\": 313159.7010424527}, {\"Date\": \"2023-03-31T00:00:00-04:00\", \"Stock\": \"SBUX\", \"Value\": 290235.03118755226}, {\"Date\": \"2023-04-30T00:00:00-04:00\", \"Stock\": \"SBUX\", \"Value\": 300021.1867606084}, {\"Date\": \"2023-05-31T00:00:00-04:00\", \"Stock\": \"SBUX\", \"Value\": 327805.6327496983}, {\"Date\": \"2023-06-30T00:00:00-04:00\", \"Stock\": \"SBUX\", \"Value\": 280436.33744515124}, {\"Date\": \"2023-07-31T00:00:00-04:00\", \"Stock\": \"SBUX\", \"Value\": 285123.69087097724}, {\"Date\": \"2023-08-31T00:00:00-04:00\", \"Stock\": \"SBUX\", \"Value\": 291191.3411585543}, {\"Date\": \"2023-09-30T00:00:00-04:00\", \"Stock\": \"SBUX\", \"Value\": 283319.3842386059}, {\"Date\": \"2023-10-31T00:00:00-04:00\", \"Stock\": \"SBUX\", \"Value\": 263458.1460806552}, {\"Date\": \"2023-11-30T00:00:00-05:00\", \"Stock\": \"SBUX\", \"Value\": 264094.16073658544}, {\"Date\": \"2023-12-31T00:00:00-05:00\", \"Stock\": \"SBUX\", \"Value\": 288364.53308818315}, {\"Date\": \"2024-01-31T00:00:00-05:00\", \"Stock\": \"SBUX\", \"Value\": 272289.4102347155}, {\"Date\": \"2024-02-29T00:00:00-05:00\", \"Stock\": \"SBUX\", \"Value\": 271417.34394898335}, {\"Date\": \"2024-03-31T00:00:00-04:00\", \"Stock\": \"SBUX\", \"Value\": 272436.20748748357}, {\"Date\": \"2024-04-30T00:00:00-04:00\", \"Stock\": \"SBUX\", \"Value\": 267669.4380291828}, {\"Date\": \"2024-05-31T00:00:00-04:00\", \"Stock\": \"SBUX\", \"Value\": 217691.60862424708}, {\"Date\": \"2024-06-30T00:00:00-04:00\", \"Stock\": \"SBUX\", \"Value\": 241855.06333834707}, {\"Date\": \"2024-07-31T00:00:00-04:00\", \"Stock\": \"SBUX\", \"Value\": 227269.48873097711}, {\"Date\": \"2024-08-31T00:00:00-04:00\", \"Stock\": \"SBUX\", \"Value\": 221317.4046721612}, {\"Date\": \"2024-09-30T00:00:00-04:00\", \"Stock\": \"SBUX\", \"Value\": 276221.47623673716}, {\"Date\": \"2024-10-31T00:00:00-04:00\", \"Stock\": \"SBUX\", \"Value\": 288820.11708087625}, {\"Date\": \"2024-11-30T00:00:00-05:00\", \"Stock\": \"SBUX\", \"Value\": 293088.8375057829}, {\"Date\": \"2024-12-31T00:00:00-05:00\", \"Stock\": \"SBUX\", \"Value\": 302776.0833962149}, {\"Date\": \"2025-01-31T00:00:00-05:00\", \"Stock\": \"SBUX\", \"Value\": 274917.46086512454}, {\"Date\": \"2025-02-28T00:00:00-05:00\", \"Stock\": \"SBUX\", \"Value\": 322611.19274140673}, {\"Date\": \"2025-03-31T00:00:00-04:00\", \"Stock\": \"SBUX\", \"Value\": 346104.26723323326}, {\"Date\": \"2025-04-30T00:00:00-04:00\", \"Stock\": \"SBUX\", \"Value\": 294582.98460596515}, {\"Date\": \"2025-05-31T00:00:00-04:00\", \"Stock\": \"SBUX\", \"Value\": 245940.65327523067}, {\"Date\": \"2015-01-31T00:00:00-05:00\", \"Stock\": \"TSN\", \"Value\": 100000.0}, {\"Date\": \"2015-02-28T00:00:00-05:00\", \"Stock\": \"TSN\", \"Value\": 99048.799830383}, {\"Date\": \"2015-03-31T00:00:00-04:00\", \"Stock\": \"TSN\", \"Value\": 105811.90745917633}, {\"Date\": \"2015-04-30T00:00:00-04:00\", \"Stock\": \"TSN\", \"Value\": 96352.3487218659}, {\"Date\": \"2015-05-31T00:00:00-04:00\", \"Stock\": \"TSN\", \"Value\": 101596.5488871755}, {\"Date\": \"2015-06-30T00:00:00-04:00\", \"Stock\": \"TSN\", \"Value\": 106185.86416376274}, {\"Date\": \"2015-07-31T00:00:00-04:00\", \"Stock\": \"TSN\", \"Value\": 108047.03282692317}, {\"Date\": \"2015-08-31T00:00:00-04:00\", \"Stock\": \"TSN\", \"Value\": 100501.83951186293}, {\"Date\": \"2015-09-30T00:00:00-04:00\", \"Stock\": \"TSN\", \"Value\": 104370.03120015048}, {\"Date\": \"2015-10-31T00:00:00-04:00\", \"Stock\": \"TSN\", \"Value\": 110092.76289560754}, {\"Date\": \"2015-11-30T00:00:00-05:00\", \"Stock\": \"TSN\", \"Value\": 112891.04882567497}, {\"Date\": \"2015-12-31T00:00:00-05:00\", \"Stock\": \"TSN\", \"Value\": 128074.81096365345}, {\"Date\": \"2016-01-31T00:00:00-05:00\", \"Stock\": \"TSN\", \"Value\": 133915.90126030613}, {\"Date\": \"2016-02-29T00:00:00-05:00\", \"Stock\": \"TSN\", \"Value\": 137329.56337497663}, {\"Date\": \"2016-03-31T00:00:00-04:00\", \"Stock\": \"TSN\", \"Value\": 166202.086423316}, {\"Date\": \"2016-04-30T00:00:00-04:00\", \"Stock\": \"TSN\", \"Value\": 172563.31084376332}, {\"Date\": \"2016-05-31T00:00:00-04:00\", \"Stock\": \"TSN\", \"Value\": 168964.52496466713}, {\"Date\": \"2016-06-30T00:00:00-04:00\", \"Stock\": \"TSN\", \"Value\": 163359.66130200206}, {\"Date\": \"2016-07-31T00:00:00-04:00\", \"Stock\": \"TSN\", \"Value\": 167703.36931951702}, {\"Date\": \"2016-08-31T00:00:00-04:00\", \"Stock\": \"TSN\", \"Value\": 188685.36282678437}, {\"Date\": \"2016-09-30T00:00:00-04:00\", \"Stock\": \"TSN\", \"Value\": 192112.66513609327}, {\"Date\": \"2016-10-31T00:00:00-04:00\", \"Stock\": \"TSN\", \"Value\": 191145.46765048368}, {\"Date\": \"2016-11-30T00:00:00-05:00\", \"Stock\": \"TSN\", \"Value\": 180939.12022180393}, {\"Date\": \"2016-12-31T00:00:00-05:00\", \"Stock\": \"TSN\", \"Value\": 143518.01199667083}, {\"Date\": \"2017-01-31T00:00:00-05:00\", \"Stock\": \"TSN\", \"Value\": 159896.04496573916}, {\"Date\": \"2017-02-28T00:00:00-05:00\", \"Stock\": \"TSN\", \"Value\": 164290.77209723496}, {\"Date\": \"2017-03-31T00:00:00-04:00\", \"Stock\": \"TSN\", \"Value\": 164626.1892694264}, {\"Date\": \"2017-04-30T00:00:00-04:00\", \"Stock\": \"TSN\", \"Value\": 158933.54975775495}, {\"Date\": \"2017-05-31T00:00:00-04:00\", \"Stock\": \"TSN\", \"Value\": 163780.03056360807}, {\"Date\": \"2017-06-30T00:00:00-04:00\", \"Stock\": \"TSN\", \"Value\": 150539.1945010393}, {\"Date\": \"2017-07-31T00:00:00-04:00\", \"Stock\": \"TSN\", \"Value\": 161093.42671841328}, {\"Date\": \"2017-08-31T00:00:00-04:00\", \"Stock\": \"TSN\", \"Value\": 161917.15089357633}, {\"Date\": \"2017-09-30T00:00:00-04:00\", \"Stock\": \"TSN\", \"Value\": 166716.3337262667}, {\"Date\": \"2017-10-31T00:00:00-04:00\", \"Stock\": \"TSN\", \"Value\": 183406.10496823752}, {\"Date\": \"2017-11-30T00:00:00-05:00\", \"Stock\": \"TSN\", \"Value\": 189399.88168925914}, {\"Date\": \"2017-12-31T00:00:00-05:00\", \"Stock\": \"TSN\", \"Value\": 213639.88354624005}, {\"Date\": \"2018-01-31T00:00:00-05:00\", \"Stock\": \"TSN\", \"Value\": 209050.31700290943}, {\"Date\": \"2018-02-28T00:00:00-05:00\", \"Stock\": \"TSN\", \"Value\": 196448.16510665917}, {\"Date\": \"2018-03-31T00:00:00-04:00\", \"Stock\": \"TSN\", \"Value\": 191149.54774379218}, {\"Date\": \"2018-04-30T00:00:00-04:00\", \"Stock\": \"TSN\", \"Value\": 178704.74865428713}, {\"Date\": \"2018-05-31T00:00:00-04:00\", \"Stock\": \"TSN\", \"Value\": 181100.03862328798}, {\"Date\": \"2018-06-30T00:00:00-04:00\", \"Stock\": \"TSN\", \"Value\": 178030.16923892024}, {\"Date\": \"2018-07-31T00:00:00-04:00\", \"Stock\": \"TSN\", \"Value\": 173663.77542400666}, {\"Date\": \"2018-08-31T00:00:00-04:00\", \"Stock\": \"TSN\", \"Value\": 150602.71712677198}, {\"Date\": \"2018-09-30T00:00:00-04:00\", \"Stock\": \"TSN\", \"Value\": 164852.20968760128}, {\"Date\": \"2018-10-31T00:00:00-04:00\", \"Stock\": \"TSN\", \"Value\": 154606.41338021733}, {\"Date\": \"2018-11-30T00:00:00-05:00\", \"Stock\": \"TSN\", \"Value\": 163827.62766384627}, {\"Date\": \"2018-12-31T00:00:00-05:00\", \"Stock\": \"TSN\", \"Value\": 159385.69827985181}, {\"Date\": \"2019-01-31T00:00:00-05:00\", \"Stock\": \"TSN\", \"Value\": 141085.57044490485}, {\"Date\": \"2019-02-28T00:00:00-05:00\", \"Stock\": \"TSN\", \"Value\": 163749.16064942643}, {\"Date\": \"2019-03-31T00:00:00-04:00\", \"Stock\": \"TSN\", \"Value\": 165469.70369189818}, {\"Date\": \"2019-04-30T00:00:00-04:00\", \"Stock\": \"TSN\", \"Value\": 185451.61966542757}, {\"Date\": \"2019-05-31T00:00:00-04:00\", \"Stock\": \"TSN\", \"Value\": 199021.3040696119}, {\"Date\": \"2019-06-30T00:00:00-04:00\", \"Stock\": \"TSN\", \"Value\": 208721.3250802977}, {\"Date\": \"2019-07-31T00:00:00-04:00\", \"Stock\": \"TSN\", \"Value\": 216475.46464006876}, {\"Date\": \"2019-08-31T00:00:00-04:00\", \"Stock\": \"TSN\", \"Value\": 214951.37629563903}, {\"Date\": \"2019-09-30T00:00:00-04:00\", \"Stock\": \"TSN\", \"Value\": 250481.139918245}, {\"Date\": \"2019-10-31T00:00:00-04:00\", \"Stock\": \"TSN\", \"Value\": 223711.97077839565}, {\"Date\": \"2019-11-30T00:00:00-05:00\", \"Stock\": \"TSN\", \"Value\": 224732.25733734787}, {\"Date\": \"2019-12-31T00:00:00-05:00\", \"Stock\": \"TSN\", \"Value\": 241651.38725565508}, {\"Date\": \"2020-01-31T00:00:00-05:00\", \"Stock\": \"TSN\", \"Value\": 242703.40521476607}, {\"Date\": \"2020-02-29T00:00:00-05:00\", \"Stock\": \"TSN\", \"Value\": 224629.50120440524}, {\"Date\": \"2020-03-31T00:00:00-04:00\", \"Stock\": \"TSN\", \"Value\": 191419.94665487387}, {\"Date\": \"2020-04-30T00:00:00-04:00\", \"Stock\": \"TSN\", \"Value\": 150172.64418283987}, {\"Date\": \"2020-05-31T00:00:00-04:00\", \"Stock\": \"TSN\", \"Value\": 162845.3063133043}, {\"Date\": \"2020-06-30T00:00:00-04:00\", \"Stock\": \"TSN\", \"Value\": 171047.27500020343}, {\"Date\": \"2020-07-31T00:00:00-04:00\", \"Stock\": \"TSN\", \"Value\": 160010.20382279617}, {\"Date\": \"2020-08-31T00:00:00-04:00\", \"Stock\": \"TSN\", \"Value\": 170555.52205332313}, {\"Date\": \"2020-09-30T00:00:00-04:00\", \"Stock\": \"TSN\", \"Value\": 172261.30018335296}, {\"Date\": \"2020-10-31T00:00:00-04:00\", \"Stock\": \"TSN\", \"Value\": 162856.218469015}, {\"Date\": \"2020-11-30T00:00:00-05:00\", \"Stock\": \"TSN\", \"Value\": 158483.69853159715}, {\"Date\": \"2020-12-31T00:00:00-05:00\", \"Stock\": \"TSN\", \"Value\": 184856.96700460848}, {\"Date\": \"2021-01-31T00:00:00-05:00\", \"Stock\": \"TSN\", \"Value\": 175830.05370407863}, {\"Date\": \"2021-02-28T00:00:00-05:00\", \"Stock\": \"TSN\", \"Value\": 177740.66209026173}, {\"Date\": \"2021-03-31T00:00:00-04:00\", \"Stock\": \"TSN\", \"Value\": 191030.14818037412}, {\"Date\": \"2021-04-30T00:00:00-04:00\", \"Stock\": \"TSN\", \"Value\": 208672.72291308615}, {\"Date\": \"2021-05-31T00:00:00-04:00\", \"Stock\": \"TSN\", \"Value\": 218790.01422887677}, {\"Date\": \"2021-06-30T00:00:00-04:00\", \"Stock\": \"TSN\", \"Value\": 224505.92582701455}, {\"Date\": \"2021-07-31T00:00:00-04:00\", \"Stock\": \"TSN\", \"Value\": 206960.28023181634}, {\"Date\": \"2021-08-31T00:00:00-04:00\", \"Stock\": \"TSN\", \"Value\": 201102.39095860894}, {\"Date\": \"2021-09-30T00:00:00-04:00\", \"Stock\": \"TSN\", \"Value\": 220858.10703771823}, {\"Date\": \"2021-10-31T00:00:00-04:00\", \"Stock\": \"TSN\", \"Value\": 220745.39595570625}, {\"Date\": \"2021-11-30T00:00:00-05:00\", \"Stock\": \"TSN\", \"Value\": 227848.92216139173}, {\"Date\": \"2021-12-31T00:00:00-05:00\", \"Stock\": \"TSN\", \"Value\": 221850.80211523522}, {\"Date\": \"2022-01-31T00:00:00-05:00\", \"Stock\": \"TSN\", \"Value\": 248894.71349130117}, {\"Date\": \"2022-02-28T00:00:00-05:00\", \"Stock\": \"TSN\", \"Value\": 258136.08893981227}, {\"Date\": \"2022-03-31T00:00:00-04:00\", \"Stock\": \"TSN\", \"Value\": 267305.4345885663}, {\"Date\": \"2022-04-30T00:00:00-04:00\", \"Stock\": \"TSN\", \"Value\": 259357.17352194132}, {\"Date\": \"2022-05-31T00:00:00-04:00\", \"Stock\": \"TSN\", \"Value\": 264656.0062563026}, {\"Date\": \"2022-06-30T00:00:00-04:00\", \"Stock\": \"TSN\", \"Value\": 252370.76154881777}, {\"Date\": \"2022-07-31T00:00:00-04:00\", \"Stock\": \"TSN\", \"Value\": 244095.8058555202}, {\"Date\": \"2022-08-31T00:00:00-04:00\", \"Stock\": \"TSN\", \"Value\": 252456.59905437558}, {\"Date\": \"2022-09-30T00:00:00-04:00\", \"Stock\": \"TSN\", \"Value\": 215523.57049563684}, {\"Date\": \"2022-10-31T00:00:00-04:00\", \"Stock\": \"TSN\", \"Value\": 192191.02446476597}, {\"Date\": \"2022-11-30T00:00:00-05:00\", \"Stock\": \"TSN\", \"Value\": 195878.1485517703}, {\"Date\": \"2022-12-31T00:00:00-05:00\", \"Stock\": \"TSN\", \"Value\": 189991.5430793242}, {\"Date\": \"2023-01-31T00:00:00-05:00\", \"Stock\": \"TSN\", \"Value\": 184536.67369734947}, {\"Date\": \"2023-02-28T00:00:00-05:00\", \"Stock\": \"TSN\", \"Value\": 188976.0066583294}, {\"Date\": \"2023-03-31T00:00:00-04:00\", \"Stock\": \"TSN\", \"Value\": 173409.002911344}, {\"Date\": \"2023-04-30T00:00:00-04:00\", \"Stock\": \"TSN\", \"Value\": 173759.93879620737}, {\"Date\": \"2023-05-31T00:00:00-04:00\", \"Stock\": \"TSN\", \"Value\": 182300.24413555386}, {\"Date\": \"2023-06-30T00:00:00-04:00\", \"Stock\": \"TSN\", \"Value\": 149391.04906497663}, {\"Date\": \"2023-07-31T00:00:00-04:00\", \"Stock\": \"TSN\", \"Value\": 152933.2401014065}, {\"Date\": \"2023-08-31T00:00:00-04:00\", \"Stock\": \"TSN\", \"Value\": 163294.09264707362}, {\"Date\": \"2023-09-30T00:00:00-04:00\", \"Stock\": \"TSN\", \"Value\": 156618.34208938107}, {\"Date\": \"2023-10-31T00:00:00-04:00\", \"Stock\": \"TSN\", \"Value\": 146641.7003244452}, {\"Date\": \"2023-11-30T00:00:00-05:00\", \"Stock\": \"TSN\", \"Value\": 138392.34990880213}, {\"Date\": \"2023-12-31T00:00:00-05:00\", \"Stock\": \"TSN\", \"Value\": 145053.85005262244}, {\"Date\": \"2024-01-31T00:00:00-05:00\", \"Stock\": \"TSN\", \"Value\": 167112.8565774215}, {\"Date\": \"2024-02-29T00:00:00-05:00\", \"Stock\": \"TSN\", \"Value\": 170423.21216533065}, {\"Date\": \"2024-03-31T00:00:00-04:00\", \"Stock\": \"TSN\", \"Value\": 161570.00794002909}, {\"Date\": \"2024-04-30T00:00:00-04:00\", \"Stock\": \"TSN\", \"Value\": 175692.19201756667}, {\"Date\": \"2024-05-31T00:00:00-04:00\", \"Stock\": \"TSN\", \"Value\": 183102.55081211805}, {\"Date\": \"2024-06-30T00:00:00-04:00\", \"Stock\": \"TSN\", \"Value\": 174671.1755885505}, {\"Date\": \"2024-07-31T00:00:00-04:00\", \"Stock\": \"TSN\", \"Value\": 175712.71213493933}, {\"Date\": \"2024-08-31T00:00:00-04:00\", \"Stock\": \"TSN\", \"Value\": 186128.02973849597}, {\"Date\": \"2024-09-30T00:00:00-04:00\", \"Stock\": \"TSN\", \"Value\": 200050.76784723753}, {\"Date\": \"2024-10-31T00:00:00-04:00\", \"Stock\": \"TSN\", \"Value\": 184462.78930972482}, {\"Date\": \"2024-11-30T00:00:00-05:00\", \"Stock\": \"TSN\", \"Value\": 180141.38420695192}, {\"Date\": \"2024-12-31T00:00:00-05:00\", \"Stock\": \"TSN\", \"Value\": 200152.77017995005}, {\"Date\": \"2025-01-31T00:00:00-05:00\", \"Stock\": \"TSN\", \"Value\": 180896.56042151552}, {\"Date\": \"2025-02-28T00:00:00-05:00\", \"Stock\": \"TSN\", \"Value\": 179621.10650216116}, {\"Date\": \"2025-03-31T00:00:00-04:00\", \"Stock\": \"TSN\", \"Value\": 193934.4208157985}, {\"Date\": \"2025-04-30T00:00:00-04:00\", \"Stock\": \"TSN\", \"Value\": 197949.23263136586}, {\"Date\": \"2025-05-31T00:00:00-04:00\", \"Stock\": \"TSN\", \"Value\": 190107.795825909}, {\"Date\": \"2015-01-31T00:00:00-05:00\", \"Stock\": \"INTC\", \"Value\": 100000.0}, {\"Date\": \"2015-02-28T00:00:00-05:00\", \"Stock\": \"INTC\", \"Value\": 92546.76331792219}, {\"Date\": \"2015-03-31T00:00:00-04:00\", \"Stock\": \"INTC\", \"Value\": 94346.26392575301}, {\"Date\": \"2015-04-30T00:00:00-04:00\", \"Stock\": \"INTC\", \"Value\": 85343.74918807749}, {\"Date\": \"2015-05-31T00:00:00-04:00\", \"Stock\": \"INTC\", \"Value\": 92573.45591141122}, {\"Date\": \"2015-06-30T00:00:00-04:00\", \"Stock\": \"INTC\", \"Value\": 94609.96268233217}, {\"Date\": \"2015-07-31T00:00:00-04:00\", \"Stock\": \"INTC\", \"Value\": 84203.180958554}, {\"Date\": \"2015-08-31T00:00:00-04:00\", \"Stock\": \"INTC\", \"Value\": 81050.43286580271}, {\"Date\": \"2015-09-30T00:00:00-04:00\", \"Stock\": \"INTC\", \"Value\": 78263.49774165891}, {\"Date\": \"2015-10-31T00:00:00-04:00\", \"Stock\": \"INTC\", \"Value\": 84396.28518957621}, {\"Date\": \"2015-11-30T00:00:00-05:00\", \"Stock\": \"INTC\", \"Value\": 95958.57451705141}, {\"Date\": \"2015-12-31T00:00:00-05:00\", \"Stock\": \"INTC\", \"Value\": 99410.8963761249}, {\"Date\": \"2016-01-31T00:00:00-05:00\", \"Stock\": \"INTC\", \"Value\": 96294.58394697582}, {\"Date\": \"2016-02-29T00:00:00-05:00\", \"Stock\": \"INTC\", \"Value\": 87313.88001186946}, {\"Date\": \"2016-03-31T00:00:00-04:00\", \"Stock\": \"INTC\", \"Value\": 86796.31445297277}, {\"Date\": \"2016-04-30T00:00:00-04:00\", \"Stock\": \"INTC\", \"Value\": 92740.87262354555}, {\"Date\": \"2016-05-31T00:00:00-04:00\", \"Stock\": \"INTC\", \"Value\": 87482.21291445653}, {\"Date\": \"2016-06-30T00:00:00-04:00\", \"Stock\": \"INTC\", \"Value\": 91264.65733793343}, {\"Date\": \"2016-07-31T00:00:00-04:00\", \"Stock\": \"INTC\", \"Value\": 94406.73249563441}, {\"Date\": \"2016-08-31T00:00:00-04:00\", \"Stock\": \"INTC\", \"Value\": 100460.28314387337}, {\"Date\": \"2016-09-30T00:00:00-04:00\", \"Stock\": \"INTC\", \"Value\": 104620.09547524987}, {\"Date\": \"2016-10-31T00:00:00-04:00\", \"Stock\": \"INTC\", \"Value\": 109383.44484875338}, {\"Date\": \"2016-11-30T00:00:00-05:00\", \"Stock\": \"INTC\", \"Value\": 100263.32270825899}, {\"Date\": \"2016-12-31T00:00:00-05:00\", \"Stock\": \"INTC\", \"Value\": 98798.2999881032}, {\"Date\": \"2017-01-31T00:00:00-05:00\", \"Stock\": \"INTC\", \"Value\": 107109.55586642218}, {\"Date\": \"2017-02-28T00:00:00-05:00\", \"Stock\": \"INTC\", \"Value\": 106875.46920574494}, {\"Date\": \"2017-03-31T00:00:00-04:00\", \"Stock\": \"INTC\", \"Value\": 105899.45972112256}, {\"Date\": \"2017-04-30T00:00:00-04:00\", \"Stock\": \"INTC\", \"Value\": 106577.32442303932}, {\"Date\": \"2017-05-31T00:00:00-04:00\", \"Stock\": \"INTC\", \"Value\": 107019.46836339669}, {\"Date\": \"2017-06-30T00:00:00-04:00\", \"Stock\": \"INTC\", \"Value\": 107251.43547899667}, {\"Date\": \"2017-07-31T00:00:00-04:00\", \"Stock\": \"INTC\", \"Value\": 99353.07381896897}, {\"Date\": \"2017-08-31T00:00:00-04:00\", \"Stock\": \"INTC\", \"Value\": 107934.38708909885}, {\"Date\": \"2017-09-30T00:00:00-04:00\", \"Stock\": \"INTC\", \"Value\": 104975.20815983832}, {\"Date\": \"2017-10-31T00:00:00-04:00\", \"Stock\": \"INTC\", \"Value\": 116792.03433936517}, {\"Date\": \"2017-11-30T00:00:00-05:00\", \"Stock\": \"INTC\", \"Value\": 139737.5729704672}, {\"Date\": \"2017-12-31T00:00:00-05:00\", \"Stock\": \"INTC\", \"Value\": 134456.7605966998}, {\"Date\": \"2018-01-31T00:00:00-05:00\", \"Stock\": \"INTC\", \"Value\": 140986.99693281317}, {\"Date\": \"2018-02-28T00:00:00-05:00\", \"Stock\": \"INTC\", \"Value\": 143394.4446039801}, {\"Date\": \"2018-03-31T00:00:00-04:00\", \"Stock\": \"INTC\", \"Value\": 144942.9705629375}, {\"Date\": \"2018-04-30T00:00:00-04:00\", \"Stock\": \"INTC\", \"Value\": 148215.06955526475}, {\"Date\": \"2018-05-31T00:00:00-04:00\", \"Stock\": \"INTC\", \"Value\": 161576.23046428978}, {\"Date\": \"2018-06-30T00:00:00-04:00\", \"Stock\": \"INTC\", \"Value\": 173935.88581258574}, {\"Date\": \"2018-07-31T00:00:00-04:00\", \"Stock\": \"INTC\", \"Value\": 152970.94582306038}, {\"Date\": \"2018-08-31T00:00:00-04:00\", \"Stock\": \"INTC\", \"Value\": 148735.27428964473}, {\"Date\": \"2018-09-30T00:00:00-04:00\", \"Stock\": \"INTC\", \"Value\": 147033.90861889077}, {\"Date\": \"2018-10-31T00:00:00-04:00\", \"Stock\": \"INTC\", \"Value\": 142404.63072738686}, {\"Date\": \"2018-11-30T00:00:00-05:00\", \"Stock\": \"INTC\", \"Value\": 147831.03533623507}, {\"Date\": \"2018-12-31T00:00:00-05:00\", \"Stock\": \"INTC\", \"Value\": 154653.8099164626}, {\"Date\": \"2019-01-31T00:00:00-05:00\", \"Stock\": \"INTC\", \"Value\": 145244.3835474074}, {\"Date\": \"2019-02-28T00:00:00-05:00\", \"Stock\": \"INTC\", \"Value\": 150334.696679425}, {\"Date\": \"2019-03-31T00:00:00-04:00\", \"Stock\": \"INTC\", \"Value\": 165475.70112499985}, {\"Date\": \"2019-04-30T00:00:00-04:00\", \"Stock\": \"INTC\", \"Value\": 169232.28709853426}, {\"Date\": \"2019-05-31T00:00:00-04:00\", \"Stock\": \"INTC\", \"Value\": 157590.00887474036}, {\"Date\": \"2019-06-30T00:00:00-04:00\", \"Stock\": \"INTC\", \"Value\": 135752.66413141726}, {\"Date\": \"2019-07-31T00:00:00-04:00\", \"Stock\": \"INTC\", \"Value\": 150090.11485199424}, {\"Date\": \"2019-08-31T00:00:00-04:00\", \"Stock\": \"INTC\", \"Value\": 154619.39123930485}, {\"Date\": \"2019-09-30T00:00:00-04:00\", \"Stock\": \"INTC\", \"Value\": 147738.63684535117}, {\"Date\": \"2019-10-31T00:00:00-04:00\", \"Stock\": \"INTC\", \"Value\": 159625.6199669351}, {\"Date\": \"2019-11-30T00:00:00-05:00\", \"Stock\": \"INTC\", \"Value\": 177707.70516170765}, {\"Date\": \"2019-12-31T00:00:00-05:00\", \"Stock\": \"INTC\", \"Value\": 182322.118888702}, {\"Date\": \"2020-01-31T00:00:00-05:00\", \"Stock\": \"INTC\", \"Value\": 192377.3638055543}, {\"Date\": \"2020-02-29T00:00:00-05:00\", \"Stock\": \"INTC\", \"Value\": 203697.34810724627}, {\"Date\": \"2020-03-31T00:00:00-04:00\", \"Stock\": \"INTC\", \"Value\": 184872.34185116965}, {\"Date\": \"2020-04-30T00:00:00-04:00\", \"Stock\": \"INTC\", \"Value\": 164853.47106273993}, {\"Date\": \"2020-05-31T00:00:00-04:00\", \"Stock\": \"INTC\", \"Value\": 182616.24337300303}, {\"Date\": \"2020-06-30T00:00:00-04:00\", \"Stock\": \"INTC\", \"Value\": 197676.21282420494}, {\"Date\": \"2020-07-31T00:00:00-04:00\", \"Stock\": \"INTC\", \"Value\": 187929.83348580383}, {\"Date\": \"2020-08-31T00:00:00-04:00\", \"Stock\": \"INTC\", \"Value\": 154344.68452280835}, {\"Date\": \"2020-09-30T00:00:00-04:00\", \"Stock\": \"INTC\", \"Value\": 163403.85264922623}, {\"Date\": \"2020-10-31T00:00:00-04:00\", \"Stock\": \"INTC\", \"Value\": 168068.86196838733}, {\"Date\": \"2020-11-30T00:00:00-05:00\", \"Stock\": \"INTC\", \"Value\": 143038.67554414194}, {\"Date\": \"2020-12-31T00:00:00-05:00\", \"Stock\": \"INTC\", \"Value\": 160606.36766039146}, {\"Date\": \"2021-01-31T00:00:00-05:00\", \"Stock\": \"INTC\", \"Value\": 160962.8341189325}, {\"Date\": \"2021-02-28T00:00:00-05:00\", \"Stock\": \"INTC\", \"Value\": 183712.15757381832}, {\"Date\": \"2021-03-31T00:00:00-04:00\", \"Stock\": \"INTC\", \"Value\": 205008.6354368793}, {\"Date\": \"2021-04-30T00:00:00-04:00\", \"Stock\": \"INTC\", \"Value\": 210453.36385478245}, {\"Date\": \"2021-05-31T00:00:00-04:00\", \"Stock\": \"INTC\", \"Value\": 186685.633176487}, {\"Date\": \"2021-06-30T00:00:00-04:00\", \"Stock\": \"INTC\", \"Value\": 186621.75965999762}, {\"Date\": \"2021-07-31T00:00:00-04:00\", \"Stock\": \"INTC\", \"Value\": 183734.96661374645}, {\"Date\": \"2021-08-31T00:00:00-04:00\", \"Stock\": \"INTC\", \"Value\": 176091.65459893423}, {\"Date\": \"2021-09-30T00:00:00-04:00\", \"Stock\": \"INTC\", \"Value\": 177202.9389201807}, {\"Date\": \"2021-10-31T00:00:00-04:00\", \"Stock\": \"INTC\", \"Value\": 177830.28323959475}, {\"Date\": \"2021-11-30T00:00:00-05:00\", \"Stock\": \"INTC\", \"Value\": 163599.87638266128}, {\"Date\": \"2021-12-31T00:00:00-05:00\", \"Stock\": \"INTC\", \"Value\": 161579.14312946046}, {\"Date\": \"2022-01-31T00:00:00-05:00\", \"Stock\": \"INTC\", \"Value\": 176905.87442174024}, {\"Date\": \"2022-02-28T00:00:00-05:00\", \"Stock\": \"INTC\", \"Value\": 162742.7733768729}, {\"Date\": \"2022-03-31T00:00:00-04:00\", \"Stock\": \"INTC\", \"Value\": 156847.01944101442}, {\"Date\": \"2022-04-30T00:00:00-04:00\", \"Stock\": \"INTC\", \"Value\": 161168.5257128167}, {\"Date\": \"2022-05-31T00:00:00-04:00\", \"Stock\": \"INTC\", \"Value\": 150615.9944973875}, {\"Date\": \"2022-06-30T00:00:00-04:00\", \"Stock\": \"INTC\", \"Value\": 148936.5763740464}, {\"Date\": \"2022-07-31T00:00:00-04:00\", \"Stock\": \"INTC\", \"Value\": 122701.31234026494}, {\"Date\": \"2022-08-31T00:00:00-04:00\", \"Stock\": \"INTC\", \"Value\": 124794.73915237341}, {\"Date\": \"2022-09-30T00:00:00-04:00\", \"Stock\": \"INTC\", \"Value\": 108319.6383372374}, {\"Date\": \"2022-10-31T00:00:00-04:00\", \"Stock\": \"INTC\", \"Value\": 91983.00535082574}, {\"Date\": \"2022-11-30T00:00:00-05:00\", \"Stock\": \"INTC\", \"Value\": 96519.07111962576}, {\"Date\": \"2022-12-31T00:00:00-05:00\", \"Stock\": \"INTC\", \"Value\": 103111.30073062771}, {\"Date\": \"2023-01-31T00:00:00-05:00\", \"Stock\": \"INTC\", \"Value\": 92395.74231254676}, {\"Date\": \"2023-02-28T00:00:00-05:00\", \"Stock\": \"INTC\", \"Value\": 100484.26818945725}, {\"Date\": \"2023-03-31T00:00:00-04:00\", \"Stock\": \"INTC\", \"Value\": 88623.32812335479}, {\"Date\": \"2023-04-30T00:00:00-04:00\", \"Stock\": \"INTC\", \"Value\": 115073.89007628994}, {\"Date\": \"2023-05-31T00:00:00-04:00\", \"Stock\": \"INTC\", \"Value\": 106012.11696059971}, {\"Date\": \"2023-06-30T00:00:00-04:00\", \"Stock\": \"INTC\", \"Value\": 109362.09897865278}, {\"Date\": \"2023-07-31T00:00:00-04:00\", \"Stock\": \"INTC\", \"Value\": 118109.66662974557}, {\"Date\": \"2023-08-31T00:00:00-04:00\", \"Stock\": \"INTC\", \"Value\": 125768.17099669216}, {\"Date\": \"2023-09-30T00:00:00-04:00\", \"Stock\": \"INTC\", \"Value\": 129076.46634914514}, {\"Date\": \"2023-10-31T00:00:00-04:00\", \"Stock\": \"INTC\", \"Value\": 125021.88601223318}, {\"Date\": \"2023-11-30T00:00:00-05:00\", \"Stock\": \"INTC\", \"Value\": 131473.95899569118}, {\"Date\": \"2023-12-31T00:00:00-05:00\", \"Stock\": \"INTC\", \"Value\": 154721.92252310645}, {\"Date\": \"2024-01-31T00:00:00-05:00\", \"Stock\": \"INTC\", \"Value\": 169083.38563823604}, {\"Date\": \"2024-02-29T00:00:00-05:00\", \"Stock\": \"INTC\", \"Value\": 153377.73438408072}, {\"Date\": \"2024-03-31T00:00:00-04:00\", \"Stock\": \"INTC\", \"Value\": 155459.23704581909}, {\"Date\": \"2024-04-30T00:00:00-04:00\", \"Stock\": \"INTC\", \"Value\": 157942.61912868923}, {\"Date\": \"2024-05-31T00:00:00-04:00\", \"Stock\": \"INTC\", \"Value\": 107742.97849413844}, {\"Date\": \"2024-06-30T00:00:00-04:00\", \"Stock\": \"INTC\", \"Value\": 107895.63360039603}, {\"Date\": \"2024-07-31T00:00:00-04:00\", \"Stock\": \"INTC\", \"Value\": 109854.78381323938}, {\"Date\": \"2024-08-31T00:00:00-04:00\", \"Stock\": \"INTC\", \"Value\": 103478.63840424237}, {\"Date\": \"2024-09-30T00:00:00-04:00\", \"Stock\": \"INTC\", \"Value\": 72052.15038103951}, {\"Date\": \"2024-10-31T00:00:00-04:00\", \"Stock\": \"INTC\", \"Value\": 81336.4825670836}, {\"Date\": \"2024-11-30T00:00:00-05:00\", \"Stock\": \"INTC\", \"Value\": 83164.6722431214}, {\"Date\": \"2024-12-31T00:00:00-05:00\", \"Stock\": \"INTC\", \"Value\": 85781.48994446792}, {\"Date\": \"2025-01-31T00:00:00-05:00\", \"Stock\": \"INTC\", \"Value\": 72482.30863584712}, {\"Date\": \"2025-02-28T00:00:00-05:00\", \"Stock\": \"INTC\", \"Value\": 69471.17350322513}, {\"Date\": \"2025-03-31T00:00:00-04:00\", \"Stock\": \"INTC\", \"Value\": 81515.71403371308}, {\"Date\": \"2025-04-30T00:00:00-04:00\", \"Stock\": \"INTC\", \"Value\": 79042.28013822169}, {\"Date\": \"2025-05-31T00:00:00-04:00\", \"Stock\": \"INTC\", \"Value\": 71621.98528898972}]}}, {\"mode\": \"vega-lite\"});\n",
              "</script>"
            ],
            "text/plain": [
              "alt.LayerChart(...)"
            ]
          },
          "metadata": {},
          "output_type": "display_data"
        }
      ],
      "source": [
        "initial_investment_amount = 1e6\n",
        "\n",
        "returns = calculate_returns(initial_investment_amount, dataframes, allocations)\n",
        "\n",
        "graph_returns(returns, True, True)"
      ]
    },
    {
      "cell_type": "markdown",
      "id": "cdea0ef3",
      "metadata": {
        "id": "cdea0ef3"
      },
      "source": [
        "### 🧾 Portfolio Strength Breakdown\n",
        "**How do you know if your portfolio is actually working?**\n",
        "\n",
        "Think of your portfolio like a car — you wouldn’t drive it for miles without checking the engine, right? These metrics are your dashboard. They tell you whether you're cruising efficiently, burning too much fuel (aka risk), or heading toward a cliff. By regularly checking them, you’re not just investing — you’re investing intelligently. It's how you turn guessing into strategy.\n",
        "\n",
        "These [metrics from quantstats ](https://cubed.run/blog/quantstats-elevating-portfolio-analysis-for-quants) help you assess whether your portfolio is efficient, risky, or well-balanced — and give you data to improve it over time. We can write a function to return these values for us."
      ]
    },
    {
      "cell_type": "code",
      "execution_count": 11,
      "id": "a486629e",
      "metadata": {
        "id": "a486629e"
      },
      "outputs": [],
      "source": [
        "def portfolio_stats(returns):\n",
        "    # Ensure datetime is clean\n",
        "    returns.set_index('Date', inplace=True)\n",
        "\n",
        "    # Daily returns from portfolio value\n",
        "    daily_returns = returns['Total'].pct_change().dropna()\n",
        "\n",
        "    # Grab specific stats\n",
        "    cagr = stats.cagr(daily_returns)\n",
        "    sharpe = stats.sharpe(daily_returns)\n",
        "    drawdown = stats.max_drawdown(daily_returns)\n",
        "    volatility = stats.volatility(daily_returns)\n",
        "    avg_return = stats.avg_return(daily_returns)\n",
        "\n",
        "    return {\"cagr\":cagr, \"sharpe\":sharpe, \"drawdown\":drawdown, \"volatility\":volatility, \"avg_return\":avg_return}\n"
      ]
    },
    {
      "cell_type": "markdown",
      "id": "eb8c5b3f",
      "metadata": {
        "id": "eb8c5b3f"
      },
      "source": [
        "Now that we've written a function for this, we can analyze the returns of our portfolio from above."
      ]
    },
    {
      "cell_type": "code",
      "execution_count": 12,
      "id": "3dade3c9",
      "metadata": {
        "id": "3dade3c9"
      },
      "outputs": [],
      "source": [
        "portfolio_info = portfolio_stats(returns)"
      ]
    },
    {
      "cell_type": "markdown",
      "id": "749dfed2",
      "metadata": {
        "id": "749dfed2"
      },
      "source": [
        "#### Now let's analyze these metrics!"
      ]
    },
    {
      "cell_type": "markdown",
      "id": "aee6875c",
      "metadata": {
        "id": "aee6875c"
      },
      "source": [
        "**📈 CAGR (Compound Annual Growth Rate)**\n",
        "This shows the average annual growth of your portfolio over time. The higher, the better — it reflects long-term performance. A higher CAGR generally reflects strong long-term performance. For context, a CAGR of 10–15% is typically considered solid, especially when compared to market benchmarks like the S&P 500. [(Investopedia: CAGR)](https://www.investopedia.com/terms/c/cagr.asp#toc-what-is-a-good-cagr)"
      ]
    },
    {
      "cell_type": "code",
      "execution_count": 13,
      "id": "7191e056",
      "metadata": {
        "id": "7191e056"
      },
      "outputs": [
        {
          "name": "stdout",
          "output_type": "stream",
          "text": [
            "📈 CAGR (Annual Return): 12.49%\n"
          ]
        }
      ],
      "source": [
        "print(f\"📈 CAGR (Annual Return): {portfolio_info['cagr']:.2%}\")"
      ]
    },
    {
      "cell_type": "markdown",
      "id": "228c466c",
      "metadata": {
        "id": "228c466c"
      },
      "source": [
        "**📊 Sharpe Ratio:**  \n",
        "Measures your return per unit of risk. A Sharpe ratio above 1.0 is generally considered good. It means you're getting rewarded well for the volatility you’re taking on. A value above 1.0 suggests you're earning a good return for the amount of risk taken, while a ratio above 2.0 is considered excellent. Anything below 1.0 may indicate that returns aren’t efficiently compensating for risk. Sharpe ratios above 1 are generally considered “good,\" offering excess returns relative to volatility. However, investors often compare the Sharpe ratio of a portfolio or fund with those of its peers or market sector. [(Investopedia: Sharpe Ratio)](https://www.investopedia.com/terms/s/sharperatio.asp#toc-what-the-sharpe-ratio-can-tell-you)"
      ]
    },
    {
      "cell_type": "code",
      "execution_count": 14,
      "id": "a34f9a10",
      "metadata": {
        "id": "a34f9a10"
      },
      "outputs": [
        {
          "name": "stdout",
          "output_type": "stream",
          "text": [
            "📊 Sharpe Ratio: 0.93\n"
          ]
        }
      ],
      "source": [
        "print(f\"📊 Sharpe Ratio: {portfolio_info['sharpe']:.2f}\")"
      ]
    },
    {
      "cell_type": "markdown",
      "id": "6924e2ca",
      "metadata": {
        "id": "6924e2ca"
      },
      "source": [
        "**📉 Max Drawdown:**  \n",
        "The worst loss your portfolio experienced from peak to bottom. Lower drawdowns are better, as they reflect greater stability and less severe losses. A drawdown under 20% is generally seen as moderate, while anything over 30% may signal high risk or poor diversification. [(Investopedia: Max Drawdown)](https://www.investopedia.com/terms/d/drawdown.asp#toc-example-of-a-drawdown)"
      ]
    },
    {
      "cell_type": "code",
      "execution_count": 15,
      "id": "d581e4a0",
      "metadata": {
        "id": "d581e4a0"
      },
      "outputs": [
        {
          "name": "stdout",
          "output_type": "stream",
          "text": [
            "📉 Max Drawdown: -32.34%\n"
          ]
        }
      ],
      "source": [
        "print(f\"📉 Max Drawdown: {portfolio_info['drawdown']:.2%}\")"
      ]
    },
    {
      "cell_type": "markdown",
      "id": "23049816",
      "metadata": {
        "id": "23049816"
      },
      "source": [
        "**📈 Volatility:**  \n",
        "Reflects how much your portfolio's value fluctuates. High volatility can mean high risk — or high opportunity. Higher volatility can mean bigger gains — but also bigger losses. For comparison, broad market indices tend to have volatility in the 15–20% range; values much higher than that could mean the portfolio is more aggressive or unstable. [(Investopedia: Volatility)](https://www.investopedia.com/terms/v/volatility.asp)"
      ]
    },
    {
      "cell_type": "code",
      "execution_count": 16,
      "id": "bd0d1f84",
      "metadata": {
        "id": "bd0d1f84"
      },
      "outputs": [
        {
          "name": "stdout",
          "output_type": "stream",
          "text": [
            "📈 Volatility: 20.77%\n"
          ]
        }
      ],
      "source": [
        "print(f\"📈 Volatility: {portfolio_info['volatility']:.2%}\")"
      ]
    },
    {
      "cell_type": "markdown",
      "id": "1b5b7384",
      "metadata": {
        "id": "1b5b7384"
      },
      "source": [
        "**📅 Average Daily Return:**  \n",
        "The average return your portfolio gained (or lost) per trading day. Helps you see how it behaves short term. This captures how much the portfolio gains or loses on an average trading day. While daily gains may appear small in percentage terms, even modest positive averages can lead to significant annual growth through compounding. [(Investopedia: Average Return)](https://www.investopedia.com/terms/a/averagereturn.asp)"
      ]
    },
    {
      "cell_type": "code",
      "execution_count": 17,
      "id": "48e75996",
      "metadata": {
        "id": "48e75996"
      },
      "outputs": [
        {
          "name": "stdout",
          "output_type": "stream",
          "text": [
            "📅 Average Daily Return: 0.0764%\n"
          ]
        }
      ],
      "source": [
        "print(f\"📅 Average Daily Return: {portfolio_info['avg_return']:.4%}\")"
      ]
    },
    {
      "cell_type": "markdown",
      "id": "b9d2b93f",
      "metadata": {
        "id": "b9d2b93f"
      },
      "source": [
        "### Monte Carlo Simulation\n",
        "\n",
        "Now we'll run a Monte Carlo simulation to try to estimate the predicted value of the stocks in future."
      ]
    },
    {
      "cell_type": "markdown",
      "id": "079acd29",
      "metadata": {
        "id": "079acd29"
      },
      "source": [
        "Monte Carlo simulations work by determining metrics of how \"random\" the motion of a given thing is, which for us will be stocks. It works by simulating lots, usually thousands, of random trials on randomly generated numbers modified to the distribution of a given stock. These simulations work by finding a daily return, done by determining the change in a stock from day to day and taking a natural logarithm. Then, we calculate the \"drift,\" or upward/downward tendency of a stock, using the equation $Drift = Average(Daily Return) - 0.5 * Variance(Daily Return)$, and a random input by using the equation $Random = StdDev(Daily Return) * random(0, 1)$, which multiplies standard deviation by a random value from 0 to 1. Finally, we sum together these two values we've calculated, and for any given day $S_i$ the price of a stock on that day of simulation is $S_i = S_{i-1} * e ^ {Drift + Random}$. [(Investopedia: Monte Carlo Simulation)](https://www.investopedia.com/terms/m/montecarlosimulation.asp) \n",
        "\n",
        "We will need to build up every piece of the simulation before we can put it all together and create a Monte Carlo simulation. Let's start by getting the data we'll need in a format that helps for this task."
      ]
    },
    {
      "cell_type": "code",
      "execution_count": 18,
      "id": "aed0e8cb",
      "metadata": {
        "id": "aed0e8cb"
      },
      "outputs": [],
      "source": [
        "def import_stock_data(tickers, start = \"2015-01-01\"):\n",
        "    data = pd.DataFrame()\n",
        "    if len(tickers) == 1:\n",
        "        stock = yf.Ticker(tickers[0], session = session)\n",
        "        data[tickers[0]] = stock.history(interval = '1d', start = start)['Close']\n",
        "    else:\n",
        "        for x in tickers:\n",
        "            stock = yf.Ticker(x, session=session)\n",
        "            data[x] = stock.history(interval = '1d', start = start)['Close']\n",
        "    return data"
      ]
    },
    {
      "cell_type": "markdown",
      "id": "1e3b5eae",
      "metadata": {
        "id": "1e3b5eae"
      },
      "source": [
        "Next, for the data, we aren't incredibly concerned with the actual values of a stock over time when generating our $r$ factor. Our biggest concern is how the stock changes over time. For this, we will generate two models for change over time: one that is calculated as the logarithm of the percentage change for a given stock, and one that is simply the percentage change. The simple percentage change is an easier to understand model, but the logarithmic analysis of percentage change allows us to smooth the curve of values we get, which in turn helps us minimize divergence in our models."
      ]
    },
    {
      "cell_type": "code",
      "execution_count": 19,
      "id": "8398971e",
      "metadata": {
        "id": "8398971e"
      },
      "outputs": [],
      "source": [
        "def log_returns(data):\n",
        "    return np.log(1 + data.pct_change().dropna())\n",
        "\n",
        "def simple_returns(data):\n",
        "    return (data/(data.shift(1))-1)"
      ]
    },
    {
      "cell_type": "markdown",
      "id": "22a1cbd7",
      "metadata": {
        "id": "22a1cbd7"
      },
      "source": [
        "Now that we have normalized returns for our dataset, we can use this normalized set of returns to calculate drift and volatility of a given stock. We can start with drift. Drift in a Monte Carlo simulation is the direction previous models have tended to go in, and it is given by $D = \\mu - \\frac{1}{2} \\sigma^2$, where $\\mu$ is the average value of your dataset, in this case our average daily return, and $\\sigma$ is the variance of our return. This value gives the intensity and direction the overall trend of a dataset should take."
      ]
    },
    {
      "cell_type": "code",
      "execution_count": 20,
      "id": "ff20305e",
      "metadata": {
        "id": "ff20305e"
      },
      "outputs": [],
      "source": [
        "def drift_calc(data, return_type = \"log\"):\n",
        "    if return_type == \"log\":\n",
        "        lr = log_returns(data)\n",
        "    elif return_type == \"simple\":\n",
        "        lr = simple_returns(data)\n",
        "    u = lr.mean()\n",
        "    var = lr.var()\n",
        "    drift = u-(.5*var)\n",
        "    try:\n",
        "        return drift.values\n",
        "    except:\n",
        "        return drift"
      ]
    },
    {
      "cell_type": "markdown",
      "id": "4ec15870",
      "metadata": {
        "id": "4ec15870"
      },
      "source": [
        "Now, we are going to combine two steps, as they go very closely together. First, we are going to determine the volatility of our stock, which is given by $V = \\sigma [Rand(0:1)]$, where $\\sigma$ is the standard deviation of our dataset, and it is multipled with a random real number from 0 to 1. We will add this value to our drift, and that will be our $r$ value for a given day. To do this in python, we will create a matrix with a cell for every day and every iteration that initially has just a random number. We will multiply each cell by our standard deviation and then add our drift. After this, we will run an exponential calculation that determines $e^r$ if a cell's value is $r$. This matrix, which we will then return, is the $e^r$ multiplier for any given day in any iteration of a Monte Carlo simulation."
      ]
    },
    {
      "cell_type": "code",
      "execution_count": 21,
      "id": "df944d17",
      "metadata": {
        "id": "df944d17"
      },
      "outputs": [],
      "source": [
        "def daily_returns(data, days, iterations):\n",
        "    ft = drift_calc(data)\n",
        "    try:\n",
        "        stv = log_returns(data).std().values\n",
        "    except:\n",
        "        stv = log_returns(data).std()\n",
        "\n",
        "    dr = np.exp(ft + stv * norm.ppf(np.random.rand(days, iterations)))\n",
        "    return dr"
      ]
    },
    {
      "cell_type": "markdown",
      "id": "1b03058e",
      "metadata": {
        "id": "1b03058e"
      },
      "source": [
        "Now, we will finally bring back the actual values from the dataset. For every initial day in the Monte Carlo simulation, we will use the closing value of the stock last day we pulled as our first day of Monte Carlo. From here, we will be able to iterate through the matrix, and in every iteration, we will be able to multiply the previous day with the given value from our daily returns matrix that we already generated. This will give us multiple Monte Carlo iterations that we can analyze to see how we can expect a stock to behave. Some important things for our simulation include expected value, calculated as the average of all iterations of our simulation on their last day, and return percentage, which is the percentage our investment would grow by had we invested in our stock on the first day of our Monte Carlo simulation."
      ]
    },
    {
      "cell_type": "code",
      "execution_count": 22,
      "id": "a871fd16",
      "metadata": {
        "id": "a871fd16"
      },
      "outputs": [],
      "source": [
        "def simulate_mc(data, days, iterations):\n",
        "    # generate list of e^r multipliers, initialize the price list, run sim\n",
        "    returns = daily_returns(data, days, iterations)\n",
        "    price_list = np.zeros_like(returns)\n",
        "    price_list[0] = data.iloc[-1]\n",
        "    for t in range(1, days):\n",
        "        price_list[t] = price_list[t-1] * returns[t]\n",
        "\n",
        "    total_days = days - 1\n",
        "\n",
        "    # expected value is average of final value of stock over all simulations\n",
        "    expected_value = round(pd.DataFrame(price_list).iloc[-1].mean(), 2)\n",
        "    #return value is the total change in the stock from day 0 to n divided by the expected value\n",
        "    return_pct = round(100*(expected_value-price_list[0,1])/expected_value, 2)\n",
        "\n",
        "    avg_value = []\n",
        "    for i in range(0, days):\n",
        "        avg_value += [price_list[i].mean()]\n",
        "\n",
        "    return [total_days, expected_value, return_pct, avg_value]\n",
        "\n",
        "def monte_carlo(ticker, days, iterations):\n",
        "    df = import_stock_data([ticker])\n",
        "    return simulate_mc(df, days, iterations)"
      ]
    },
    {
      "cell_type": "markdown",
      "id": "99d90b68",
      "metadata": {
        "id": "99d90b68"
      },
      "source": [
        "Now that we have built our functions that run a Monte Carlo simulation, we will use them on our list of tickers. For every ticker in our portfolio, we will run the Monte Carlo simulation and add it to a DataFrame, allowing us to compile a DataFrame of potential stock futures to go along with the set of stock histories we have already pulled from yfinance. Alongside the dataframe creation, we also will generate a few key pieces of information that tell us about our simulation: total days in the simulation, the expected stock value at the end of simulation, and the return percentage from day 0 to day $n$."
      ]
    },
    {
      "cell_type": "code",
      "execution_count": 23,
      "id": "38c6ae5d",
      "metadata": {
        "id": "38c6ae5d"
      },
      "outputs": [],
      "source": [
        "days = 50\n",
        "iters = 100\n",
        "\n",
        "mc_projections = pd.DataFrame()\n",
        "mc_data = []\n",
        "for x in portfolio:\n",
        "    mc = monte_carlo(x, days, iters)\n",
        "    mc_projections[x] = mc[3]\n",
        "    mc_data += [mc[0:2]]\n",
        "\n",
        "mc_projections['Total'] = mc_projections.sum(axis=1)"
      ]
    },
    {
      "cell_type": "markdown",
      "id": "91b9350d",
      "metadata": {},
      "source": [
        "We can then use that data to plot what expected values might look like, and print the average expected value to get an idea of what future values may look like."
      ]
    },
    {
      "cell_type": "code",
      "execution_count": 24,
      "id": "71f4b6fb",
      "metadata": {},
      "outputs": [
        {
          "name": "stdout",
          "output_type": "stream",
          "text": [
            "Average Expected Value is 27606.77\n"
          ]
        },
        {
          "data": {
            "text/html": [
              "\n",
              "<style>\n",
              "  #altair-viz-6f7aab8a8a8841e5b27980fdb63dfb0a.vega-embed {\n",
              "    width: 100%;\n",
              "    display: flex;\n",
              "  }\n",
              "\n",
              "  #altair-viz-6f7aab8a8a8841e5b27980fdb63dfb0a.vega-embed details,\n",
              "  #altair-viz-6f7aab8a8a8841e5b27980fdb63dfb0a.vega-embed details summary {\n",
              "    position: relative;\n",
              "  }\n",
              "</style>\n",
              "<div id=\"altair-viz-6f7aab8a8a8841e5b27980fdb63dfb0a\"></div>\n",
              "<script type=\"text/javascript\">\n",
              "  var VEGA_DEBUG = (typeof VEGA_DEBUG == \"undefined\") ? {} : VEGA_DEBUG;\n",
              "  (function(spec, embedOpt){\n",
              "    let outputDiv = document.currentScript.previousElementSibling;\n",
              "    if (outputDiv.id !== \"altair-viz-6f7aab8a8a8841e5b27980fdb63dfb0a\") {\n",
              "      outputDiv = document.getElementById(\"altair-viz-6f7aab8a8a8841e5b27980fdb63dfb0a\");\n",
              "    }\n",
              "\n",
              "    const paths = {\n",
              "      \"vega\": \"https://cdn.jsdelivr.net/npm/vega@5?noext\",\n",
              "      \"vega-lib\": \"https://cdn.jsdelivr.net/npm/vega-lib?noext\",\n",
              "      \"vega-lite\": \"https://cdn.jsdelivr.net/npm/vega-lite@5.20.1?noext\",\n",
              "      \"vega-embed\": \"https://cdn.jsdelivr.net/npm/vega-embed@6?noext\",\n",
              "    };\n",
              "\n",
              "    function maybeLoadScript(lib, version) {\n",
              "      var key = `${lib.replace(\"-\", \"\")}_version`;\n",
              "      return (VEGA_DEBUG[key] == version) ?\n",
              "        Promise.resolve(paths[lib]) :\n",
              "        new Promise(function(resolve, reject) {\n",
              "          var s = document.createElement('script');\n",
              "          document.getElementsByTagName(\"head\")[0].appendChild(s);\n",
              "          s.async = true;\n",
              "          s.onload = () => {\n",
              "            VEGA_DEBUG[key] = version;\n",
              "            return resolve(paths[lib]);\n",
              "          };\n",
              "          s.onerror = () => reject(`Error loading script: ${paths[lib]}`);\n",
              "          s.src = paths[lib];\n",
              "        });\n",
              "    }\n",
              "\n",
              "    function showError(err) {\n",
              "      outputDiv.innerHTML = `<div class=\"error\" style=\"color:red;\">${err}</div>`;\n",
              "      throw err;\n",
              "    }\n",
              "\n",
              "    function displayChart(vegaEmbed) {\n",
              "      vegaEmbed(outputDiv, spec, embedOpt)\n",
              "        .catch(err => showError(`Javascript Error: ${err.message}<br>This usually means there's a typo in your chart specification. See the javascript console for the full traceback.`));\n",
              "    }\n",
              "\n",
              "    if(typeof define === \"function\" && define.amd) {\n",
              "      requirejs.config({paths});\n",
              "      let deps = [\"vega-embed\"];\n",
              "      require(deps, displayChart, err => showError(`Error loading script: ${err.message}`));\n",
              "    } else {\n",
              "      maybeLoadScript(\"vega\", \"5\")\n",
              "        .then(() => maybeLoadScript(\"vega-lite\", \"5.20.1\"))\n",
              "        .then(() => maybeLoadScript(\"vega-embed\", \"6\"))\n",
              "        .catch(showError)\n",
              "        .then(() => displayChart(vegaEmbed));\n",
              "    }\n",
              "  })({\"config\": {\"view\": {\"continuousWidth\": 300, \"continuousHeight\": 300}}, \"data\": {\"name\": \"data-7596e3ce50371dc2b9bff95683ee2e2b\"}, \"mark\": {\"type\": \"bar\"}, \"encoding\": {\"tooltip\": [{\"aggregate\": \"count\", \"title\": \"Frequency\", \"type\": \"quantitative\"}], \"x\": {\"bin\": {\"maxbins\": 12.5}, \"field\": \"Total\", \"title\": \"Total Value\", \"type\": \"quantitative\"}, \"y\": {\"aggregate\": \"count\", \"type\": \"quantitative\"}}, \"height\": 400, \"title\": \"Frequency of Total Values in Monte Carlo Projections\", \"width\": 600, \"$schema\": \"https://vega.github.io/schema/vega-lite/v5.20.1.json\", \"datasets\": {\"data-7596e3ce50371dc2b9bff95683ee2e2b\": [{\"index\": 0, \"Total\": 27165.833660125732}, {\"index\": 1, \"Total\": 27172.275274501488}, {\"index\": 2, \"Total\": 27216.584565854133}, {\"index\": 3, \"Total\": 27266.938971926582}, {\"index\": 4, \"Total\": 27255.28143709777}, {\"index\": 5, \"Total\": 27260.24278340202}, {\"index\": 6, \"Total\": 27310.85477073306}, {\"index\": 7, \"Total\": 27339.890210261718}, {\"index\": 8, \"Total\": 27367.282163530872}, {\"index\": 9, \"Total\": 27356.4703966897}, {\"index\": 10, \"Total\": 27336.795772711244}, {\"index\": 11, \"Total\": 27331.787071838437}, {\"index\": 12, \"Total\": 27344.83607058975}, {\"index\": 13, \"Total\": 27385.16355920123}, {\"index\": 14, \"Total\": 27419.939923407954}, {\"index\": 15, \"Total\": 27479.27820516221}, {\"index\": 16, \"Total\": 27492.74155702251}, {\"index\": 17, \"Total\": 27459.066248300238}, {\"index\": 18, \"Total\": 27487.266406210212}, {\"index\": 19, \"Total\": 27516.463797496326}, {\"index\": 20, \"Total\": 27545.61534127008}, {\"index\": 21, \"Total\": 27555.233145533457}, {\"index\": 22, \"Total\": 27584.228137043247}, {\"index\": 23, \"Total\": 27649.411530325528}, {\"index\": 24, \"Total\": 27688.577077104204}, {\"index\": 25, \"Total\": 27715.05345556282}, {\"index\": 26, \"Total\": 27685.162787409612}, {\"index\": 27, \"Total\": 27699.13148547392}, {\"index\": 28, \"Total\": 27725.7532760371}, {\"index\": 29, \"Total\": 27732.216614839894}, {\"index\": 30, \"Total\": 27722.530749542904}, {\"index\": 31, \"Total\": 27690.921910396268}, {\"index\": 32, \"Total\": 27659.640650014368}, {\"index\": 33, \"Total\": 27671.00524657586}, {\"index\": 34, \"Total\": 27700.179816320633}, {\"index\": 35, \"Total\": 27751.85256265481}, {\"index\": 36, \"Total\": 27770.283020597675}, {\"index\": 37, \"Total\": 27781.989411418668}, {\"index\": 38, \"Total\": 27799.76599403218}, {\"index\": 39, \"Total\": 27849.427665780746}, {\"index\": 40, \"Total\": 27853.474469389246}, {\"index\": 41, \"Total\": 27891.377161189}, {\"index\": 42, \"Total\": 27901.687770633634}, {\"index\": 43, \"Total\": 27922.833765784035}, {\"index\": 44, \"Total\": 27964.99868152751}, {\"index\": 45, \"Total\": 27978.008855244138}, {\"index\": 46, \"Total\": 27967.366520422103}, {\"index\": 47, \"Total\": 27948.735694629337}, {\"index\": 48, \"Total\": 27959.873843191046}, {\"index\": 49, \"Total\": 28007.273317519557}]}}, {\"mode\": \"vega-lite\"});\n",
              "</script>"
            ],
            "text/plain": [
              "alt.Chart(...)"
            ]
          },
          "metadata": {},
          "output_type": "display_data"
        }
      ],
      "source": [
        "total_occurrences = mc_projections['Total'].astype(float).reset_index()\n",
        "\n",
        "avg = mc_projections['Total'].mean()\n",
        "\n",
        "bar_plot = alt.Chart(total_occurrences).mark_bar().encode(\n",
        "    x=alt.X('Total:Q', title='Total Value').bin(maxbins=iters/8),\n",
        "    y='count()'\n",
        "    , tooltip=[alt.Tooltip('count()', title='Frequency')]\n",
        ").properties(\n",
        "    title='Frequency of Total Values in Monte Carlo Projections',\n",
        "    width=600, # because the auto-size is quite small\n",
        "    height=400\n",
        ")\n",
        "\n",
        "print(f\"Average Expected Value is {avg:.2f}\")\n",
        "\n",
        "bar_plot.display()"
      ]
    },
    {
      "cell_type": "markdown",
      "id": "de1c13c9",
      "metadata": {
        "id": "de1c13c9"
      },
      "source": [
        "### Optimizing a Stock Portfolio\n",
        "\n",
        "It's great that we can create a stock portfolio that we can work with, and we can even analyze how strong it is using quantstats! It would be even better if we could take the portfolio we made and see if we can change our investment amounts to maximize our returns. There are a couple steps to get it set up, but thankfully, scipy has a function that can maximize our returns given an initial investment percentage for each stock, and a history of each stock's percentage change in price. We utilized [this medium article](https://medium.com/@ethan.duong1120/python-powered-portfolio-optimization-achieving-target-returns-through-weight-optimization-fc5163e5c9c6) as our framework.\n",
        "\n",
        "First, we are going to create a sample version of our portfolio that pulls stock history for every ticker that we have selected, adding their opening price at every interval to the function and storing all of this in a dataframe. Then, we use the pct_change function to determine the change between each frame for each stock, allowing us to determine the most efficient investment of stocks."
      ]
    },
    {
      "cell_type": "code",
      "execution_count": 31,
      "id": "J4Nphx9rlmpv",
      "metadata": {
        "id": "J4Nphx9rlmpv"
      },
      "outputs": [],
      "source": [
        "## SOLUTION: Isabel's attempted code to fix the broken data insertion line below\n",
        "## the line below breaking in your portfolio optimization prep section:\n",
        "\n",
        "testList = portfolio\n",
        "\n",
        "ticker = yf.Ticker(testList[0], session=session)\n",
        "df = ticker.history(interval = '1d', start = '2015-01-01', end = '2025-04-01')\n",
        "df.drop(columns=['High', 'Low', 'Close', 'Volume', 'Dividends', 'Stock Splits'], inplace=True)\n",
        "df.rename({'Open' : testList[0]}, inplace=True)\n",
        "\n",
        "for x in testList[1:]:\n",
        "    ticker = yf.Ticker(x, session=session)\n",
        "    data = ticker.history(interval='1d', start='2015-01-01', end='2025-04-01')\n",
        "    if not data.empty:\n",
        "        df = df.join(data[['Open']].rename(columns={'Open': x}), how='outer')\n",
        "\n",
        "#calculate percent returns for each day of each stock\n",
        "returns_df = df.pct_change(1).dropna()\n",
        "\n"
      ]
    },
    {
      "cell_type": "markdown",
      "id": "b62cd359",
      "metadata": {
        "id": "b62cd359"
      },
      "source": [
        "Now, we need to determine the value of each portfolio's return. This is simply the return of each stock multipled by its weight in the portfolio. Because it is this way for each stock, we can compute the return as a dot product of returns and weights, then multiply by 250 trading days in a year to annualize our result!"
      ]
    },
    {
      "cell_type": "code",
      "execution_count": 32,
      "id": "bbc11ee0",
      "metadata": {
        "id": "bbc11ee0"
      },
      "outputs": [],
      "source": [
        "#operationalize determining portfolio returns\n",
        "def getPfReturn(weights):\n",
        "    \"\"\"\n",
        "    return is annualized expected return of portfolio\n",
        "    \"\"\"\n",
        "    expRetPortfolio = np.dot(np.transpose(weights), returns_df.mean()) * 250\n",
        "    return expRetPortfolio"
      ]
    },
    {
      "cell_type": "markdown",
      "id": "a62679e4",
      "metadata": {
        "id": "a62679e4"
      },
      "source": [
        "Now, we need to start bounding the function that will maximize our returns given an investment. We will use scipy's minimize function to do this. Despite its name, the minimize function works by minimizing the constraints that you give it, so minimizing the difference between our portfolio return and our target return will enable us to hit our target return, \"maximizing\" the output of our portfolio. If we want to truly maximize, we can continue pushing up this target return incrementally until we reach it!.\n",
        "\n",
        "First, we will start with initial weights of each stock in our portfolio. We can either use the weights we selected previously, or we can simply start with each stock having an equal weight in our portfolio. You can choose this by slightly modifying the code below.\n",
        "\n",
        "Now, we need to set our target return value, which we selected to arbitrarily be .2, or a 20% return. This can be modified however you wish, but do note that the minimize function will fail if maximizing to the given return percentage is impossible.\n",
        "\n",
        "Another important goal is to bound the weight of each stock in our portfolio between 0 and 1, or 0% and 100%. It doesn't make much sense to be able to buy more than a full portfolio of stocks! We do this by creating a tuple that has the same length as our number of stocks, and each element in the tuple is another tuple storing the values (0,1), bounding our stock weights in that range\n",
        "\n",
        "Finally, we want to create two constraints for the function. This is done using the syntax below. Our first constraint says that the sum of all weights should not exceed 1, or that our portfolio weights can't exceed 100%. We've done this already for individual stocks, but it's also important that we cant just spend 100% of our money in each stock. Finally, we also need to make sure that we \"minimize\" the difference between the returns for any set of portfolio weights the function generates and the target return we have set."
      ]
    },
    {
      "cell_type": "code",
      "execution_count": 33,
      "id": "sHEcDDWBjKDW",
      "metadata": {
        "id": "sHEcDDWBjKDW"
      },
      "outputs": [
        {
          "name": "stdout",
          "output_type": "stream",
          "text": [
            "Error with custom weights. Falling back to equal weights.\n"
          ]
        }
      ],
      "source": [
        "custom_weights = True  # you change to False to use equal weights\n",
        "\n",
        "numStocks = len(returns_df.columns)\n",
        "\n",
        "if custom_weights and allocations:\n",
        "    try:\n",
        "        weight_list = [float(allocations[stock]) for stock in returns_df.columns]\n",
        "        total_weight = sum(weight_list)\n",
        "        initialWeight = [w / total_weight for w in weight_list]\n",
        "    except Exception as e:\n",
        "        print(\"Error with custom weights. Falling back to equal weights.\")\n",
        "        initialWeight = [1 / numStocks] * numStocks\n",
        "else:\n",
        "    initialWeight = [1 / numStocks] * numStocks\n",
        "\n",
        "    ## What I am trying to do is 1. Lets user control whether to use the user’s weights or equal weights.\n",
        "    ## 2. Normalizes the weights so they sum to 1, just in case they don't sum perfectly.\n",
        "    ## 3. Catch errors(like if the user forgets to fill in all weights).\n",
        "\n",
        "# Feel free to pick a different number!\n",
        "targetReturn = .2\n",
        "\n",
        "# bounds the percentage of each stock we can hold (between 0 and 100%)\n",
        "bounds = tuple((0,1) for i in range(numStocks))\n",
        "\n",
        "# ensures the sum of all stock weights is 100% (or 1) in first constraint\n",
        "# sets goal of minimize function to hit targetReturn\n",
        "constraints = ({'type' : 'eq', 'fun' : lambda w : np.sum(w) - 1},\n",
        "               {'type' : 'eq', 'fun' : lambda x : x.dot(returns_df.mean()) * 250 - targetReturn})"
      ]
    },
    {
      "cell_type": "markdown",
      "id": "4e8ba7f6",
      "metadata": {
        "id": "4e8ba7f6"
      },
      "source": [
        "Now that we have set all of our constraints, we need to use the maximize function! We set a variable called \"results\" equal to the minimize function with our function and all of the constraints. Through the magic of scipy, it will iterate on our weights, modifying them in an attempt to maximize the return of our portfolio. We can print results to see whether it was successful, as well as the weights of each stock in our portfolio. We can also see our returns by using our returns function on the 'x' field of our minimize output."
      ]
    },
    {
      "cell_type": "code",
      "execution_count": 34,
      "id": "6a75a5ba",
      "metadata": {
        "id": "6a75a5ba"
      },
      "outputs": [
        {
          "name": "stdout",
          "output_type": "stream",
          "text": [
            "              0\n",
            "AAPL   0.139523\n",
            "MSFT   0.137852\n",
            "^IXIC  0.088155\n",
            "COST   0.125094\n",
            "WMT    0.088664\n",
            "AMZN   0.161632\n",
            "^GSPC  0.069746\n",
            "SBUX   0.084374\n",
            "TSN    0.068602\n",
            "INTC   0.036358\n"
          ]
        }
      ],
      "source": [
        "# can we reach our goal with these stocks??\n",
        "results = minimize(fun=getPfReturn, x0=initialWeight, bounds=bounds, constraints=constraints)\n",
        "\n",
        "#output\n",
        "# print(results)\n",
        "\n",
        "optimizedResults = pd.DataFrame(results['x'])\n",
        "\n",
        "# print our optimized results\n",
        "getPfReturn(weights=results[\"x\"])\n",
        "optimizedResults.index = portfolio\n",
        "\n",
        "print(optimizedResults)"
      ]
    },
    {
      "cell_type": "markdown",
      "id": "3555add1",
      "metadata": {
        "id": "3555add1"
      },
      "source": [
        "Now, we've successfully used scipy to maximize the results from our function! We can even extract the weights and use them to model a portfolio. Let's use some similar code to graph the returns of a portfolio based on an inital investment above, but using our new optimized weights!"
      ]
    },
    {
      "cell_type": "markdown",
      "id": "42ynhfBBocx7",
      "metadata": {
        "id": "42ynhfBBocx7"
      },
      "source": [
        "### Optimized Portfolio Visualization\n",
        "\n",
        "This chart shows how your portfolio performs after optimization — where the weights were adjusted to target a better return/risk profile. Each line represents an individual stock’s contribution to portfolio value over time.\n",
        "\n",
        "Compare this plot with the initial version to see if:\n",
        "  - Fewer stocks dominate the performance\n",
        "  - Fluctuations are smaller (less risk)\n",
        "  - The total trend is smoother or steeper\n",
        "\n",
        "Logic Check:\n",
        "A good optimization often leads to fewer volatile movements and better risk-adjusted growth."
      ]
    },
    {
      "cell_type": "code",
      "execution_count": 35,
      "id": "9f881de1",
      "metadata": {
        "id": "9f881de1"
      },
      "outputs": [
        {
          "name": "stdout",
          "output_type": "stream",
          "text": [
            "     Date  Initial Amounts  Ending Amounts  Change in Value\n",
            "0    AAPL        139523.50      1219709.85       1080186.35\n",
            "1    MSFT        137852.07      1558158.28       1420306.21\n",
            "2   ^IXIC         88155.02       357088.02        268933.00\n",
            "3    COST        125093.60      1083695.69        958602.09\n",
            "4     WMT         88663.59       368137.27        279473.68\n",
            "5    AMZN        161631.87      2202975.62       2041343.75\n",
            "6   ^GSPC         69745.90       199680.95        129935.04\n",
            "7    SBUX         84374.04       218959.69        134585.65\n",
            "8     TSN         68602.19       117270.86         48668.67\n",
            "9    INTC         36358.21        28047.60         -8310.61\n",
            "10  Total       1000000.00      7353723.83       6353723.83\n"
          ]
        },
        {
          "data": {
            "text/html": [
              "\n",
              "<style>\n",
              "  #altair-viz-3f237d9e477f4b6b9e421f81ee04ed09.vega-embed {\n",
              "    width: 100%;\n",
              "    display: flex;\n",
              "  }\n",
              "\n",
              "  #altair-viz-3f237d9e477f4b6b9e421f81ee04ed09.vega-embed details,\n",
              "  #altair-viz-3f237d9e477f4b6b9e421f81ee04ed09.vega-embed details summary {\n",
              "    position: relative;\n",
              "  }\n",
              "</style>\n",
              "<div id=\"altair-viz-3f237d9e477f4b6b9e421f81ee04ed09\"></div>\n",
              "<script type=\"text/javascript\">\n",
              "  var VEGA_DEBUG = (typeof VEGA_DEBUG == \"undefined\") ? {} : VEGA_DEBUG;\n",
              "  (function(spec, embedOpt){\n",
              "    let outputDiv = document.currentScript.previousElementSibling;\n",
              "    if (outputDiv.id !== \"altair-viz-3f237d9e477f4b6b9e421f81ee04ed09\") {\n",
              "      outputDiv = document.getElementById(\"altair-viz-3f237d9e477f4b6b9e421f81ee04ed09\");\n",
              "    }\n",
              "\n",
              "    const paths = {\n",
              "      \"vega\": \"https://cdn.jsdelivr.net/npm/vega@5?noext\",\n",
              "      \"vega-lib\": \"https://cdn.jsdelivr.net/npm/vega-lib?noext\",\n",
              "      \"vega-lite\": \"https://cdn.jsdelivr.net/npm/vega-lite@5.20.1?noext\",\n",
              "      \"vega-embed\": \"https://cdn.jsdelivr.net/npm/vega-embed@6?noext\",\n",
              "    };\n",
              "\n",
              "    function maybeLoadScript(lib, version) {\n",
              "      var key = `${lib.replace(\"-\", \"\")}_version`;\n",
              "      return (VEGA_DEBUG[key] == version) ?\n",
              "        Promise.resolve(paths[lib]) :\n",
              "        new Promise(function(resolve, reject) {\n",
              "          var s = document.createElement('script');\n",
              "          document.getElementsByTagName(\"head\")[0].appendChild(s);\n",
              "          s.async = true;\n",
              "          s.onload = () => {\n",
              "            VEGA_DEBUG[key] = version;\n",
              "            return resolve(paths[lib]);\n",
              "          };\n",
              "          s.onerror = () => reject(`Error loading script: ${paths[lib]}`);\n",
              "          s.src = paths[lib];\n",
              "        });\n",
              "    }\n",
              "\n",
              "    function showError(err) {\n",
              "      outputDiv.innerHTML = `<div class=\"error\" style=\"color:red;\">${err}</div>`;\n",
              "      throw err;\n",
              "    }\n",
              "\n",
              "    function displayChart(vegaEmbed) {\n",
              "      vegaEmbed(outputDiv, spec, embedOpt)\n",
              "        .catch(err => showError(`Javascript Error: ${err.message}<br>This usually means there's a typo in your chart specification. See the javascript console for the full traceback.`));\n",
              "    }\n",
              "\n",
              "    if(typeof define === \"function\" && define.amd) {\n",
              "      requirejs.config({paths});\n",
              "      let deps = [\"vega-embed\"];\n",
              "      require(deps, displayChart, err => showError(`Error loading script: ${err.message}`));\n",
              "    } else {\n",
              "      maybeLoadScript(\"vega\", \"5\")\n",
              "        .then(() => maybeLoadScript(\"vega-lite\", \"5.20.1\"))\n",
              "        .then(() => maybeLoadScript(\"vega-embed\", \"6\"))\n",
              "        .catch(showError)\n",
              "        .then(() => displayChart(vegaEmbed));\n",
              "    }\n",
              "  })({\"config\": {\"view\": {\"continuousWidth\": 300, \"continuousHeight\": 300}}, \"layer\": [{\"mark\": {\"type\": \"line\"}, \"encoding\": {\"color\": {\"field\": \"Stock\", \"title\": \"Stock\", \"type\": \"nominal\"}, \"x\": {\"field\": \"Date\", \"title\": \"Date\", \"type\": \"temporal\"}, \"y\": {\"field\": \"Value\", \"title\": \"Portfolio Value\", \"type\": \"quantitative\"}}, \"name\": \"view_5\"}, {\"mark\": {\"type\": \"point\"}, \"encoding\": {\"color\": {\"field\": \"Stock\", \"title\": \"Stock\", \"type\": \"nominal\"}, \"opacity\": {\"condition\": [{\"param\": \"param_5\", \"value\": 1, \"empty\": false}], \"value\": 0}, \"x\": {\"field\": \"Date\", \"title\": \"Date\", \"type\": \"temporal\"}, \"y\": {\"field\": \"Value\", \"title\": \"Portfolio Value\", \"type\": \"quantitative\"}}}, {\"mark\": {\"type\": \"rule\", \"color\": \"gray\"}, \"encoding\": {\"opacity\": {\"condition\": [{\"param\": \"param_5\", \"value\": 0.3, \"empty\": false}], \"value\": 0}, \"tooltip\": [{\"field\": \"Date\", \"title\": \"Date\", \"type\": \"temporal\"}, {\"field\": \"Total\", \"format\": \".2f\", \"type\": \"quantitative\"}], \"x\": {\"field\": \"Date\", \"type\": \"temporal\"}}, \"name\": \"view_6\", \"transform\": [{\"pivot\": \"Stock\", \"value\": \"Value\", \"groupby\": [\"Date\"]}]}], \"data\": {\"name\": \"data-31e4df415bf8884b6035b4b29180668c\"}, \"height\": 300, \"params\": [{\"name\": \"param_6\", \"select\": {\"type\": \"interval\", \"encodings\": [\"x\", \"y\"]}, \"bind\": \"scales\", \"views\": [\"view_5\"]}, {\"name\": \"param_5\", \"select\": {\"type\": \"point\", \"fields\": [\"Date\"], \"nearest\": true, \"on\": \"mouseover\"}, \"views\": [\"view_6\"]}], \"title\": \"Portfolio Value Over Time\", \"width\": 600, \"$schema\": \"https://vega.github.io/schema/vega-lite/v5.20.1.json\", \"datasets\": {\"data-31e4df415bf8884b6035b4b29180668c\": [{\"Date\": \"2015-01-31T00:00:00-05:00\", \"Stock\": \"Total\", \"Value\": 1000000.0}, {\"Date\": \"2015-02-28T00:00:00-05:00\", \"Stock\": \"Total\", \"Value\": 1029929.8134323467}, {\"Date\": \"2015-03-31T00:00:00-04:00\", \"Stock\": \"Total\", \"Value\": 1089744.1097234804}, {\"Date\": \"2015-04-30T00:00:00-04:00\", \"Stock\": \"Total\", \"Value\": 1049981.976216772}, {\"Date\": \"2015-05-31T00:00:00-04:00\", \"Stock\": \"Total\", \"Value\": 1118944.3166550167}, {\"Date\": \"2015-06-30T00:00:00-04:00\", \"Stock\": \"Total\", \"Value\": 1126093.0222066748}, {\"Date\": \"2015-07-31T00:00:00-04:00\", \"Stock\": \"Total\", \"Value\": 1106228.1016581384}, {\"Date\": \"2015-08-31T00:00:00-04:00\", \"Stock\": \"Total\", \"Value\": 1167786.5039632323}, {\"Date\": \"2015-09-30T00:00:00-04:00\", \"Stock\": \"Total\", \"Value\": 1082798.4628644607}, {\"Date\": \"2015-10-31T00:00:00-04:00\", \"Stock\": \"Total\", \"Value\": 1127145.7152047604}, {\"Date\": \"2015-11-30T00:00:00-05:00\", \"Stock\": \"Total\", \"Value\": 1262412.5818876745}, {\"Date\": \"2015-12-31T00:00:00-05:00\", \"Stock\": \"Total\", \"Value\": 1306307.9535922892}, {\"Date\": \"2016-01-31T00:00:00-05:00\", \"Stock\": \"Total\", \"Value\": 1257535.790317622}, {\"Date\": \"2016-02-29T00:00:00-05:00\", \"Stock\": \"Total\", \"Value\": 1209783.3015867611}, {\"Date\": \"2016-03-31T00:00:00-04:00\", \"Stock\": \"Total\", \"Value\": 1231109.6151640778}, {\"Date\": \"2016-04-30T00:00:00-04:00\", \"Stock\": \"Total\", \"Value\": 1289201.9062571346}, {\"Date\": \"2016-05-31T00:00:00-04:00\", \"Stock\": \"Total\", \"Value\": 1275922.266143872}, {\"Date\": \"2016-06-30T00:00:00-04:00\", \"Stock\": \"Total\", \"Value\": 1310439.6214019263}, {\"Date\": \"2016-07-31T00:00:00-04:00\", \"Stock\": \"Total\", \"Value\": 1318117.8972918058}, {\"Date\": \"2016-08-31T00:00:00-04:00\", \"Stock\": \"Total\", \"Value\": 1408049.0613536523}, {\"Date\": \"2016-09-30T00:00:00-04:00\", \"Stock\": \"Total\", \"Value\": 1407093.5251851925}, {\"Date\": \"2016-10-31T00:00:00-04:00\", \"Stock\": \"Total\", \"Value\": 1439993.0270585918}, {\"Date\": \"2016-11-30T00:00:00-05:00\", \"Stock\": \"Total\", \"Value\": 1394532.0225450324}, {\"Date\": \"2016-12-31T00:00:00-05:00\", \"Stock\": \"Total\", \"Value\": 1368403.1696099455}, {\"Date\": \"2017-01-31T00:00:00-05:00\", \"Stock\": \"Total\", \"Value\": 1411920.0565748983}, {\"Date\": \"2017-02-28T00:00:00-05:00\", \"Stock\": \"Total\", \"Value\": 1476863.3350428806}, {\"Date\": \"2017-03-31T00:00:00-04:00\", \"Stock\": \"Total\", \"Value\": 1544755.83673712}, {\"Date\": \"2017-04-30T00:00:00-04:00\", \"Stock\": \"Total\", \"Value\": 1561344.281564316}, {\"Date\": \"2017-05-31T00:00:00-04:00\", \"Stock\": \"Total\", \"Value\": 1633038.0651925846}, {\"Date\": \"2017-06-30T00:00:00-04:00\", \"Stock\": \"Total\", \"Value\": 1690157.6846847404}, {\"Date\": \"2017-07-31T00:00:00-04:00\", \"Stock\": \"Total\", \"Value\": 1612726.86755169}, {\"Date\": \"2017-08-31T00:00:00-04:00\", \"Stock\": \"Total\", \"Value\": 1666667.3089752065}, {\"Date\": \"2017-09-30T00:00:00-04:00\", \"Stock\": \"Total\", \"Value\": 1684157.7791402806}, {\"Date\": \"2017-10-31T00:00:00-04:00\", \"Stock\": \"Total\", \"Value\": 1686744.6852517584}, {\"Date\": \"2017-11-30T00:00:00-05:00\", \"Stock\": \"Total\", \"Value\": 1835308.0447922011}, {\"Date\": \"2017-12-31T00:00:00-05:00\", \"Stock\": \"Total\", \"Value\": 1934873.5577534337}, {\"Date\": \"2018-01-31T00:00:00-05:00\", \"Stock\": \"Total\", \"Value\": 1965625.6972553364}, {\"Date\": \"2018-02-28T00:00:00-05:00\", \"Stock\": \"Total\", \"Value\": 2104171.49564355}, {\"Date\": \"2018-03-31T00:00:00-04:00\", \"Stock\": \"Total\", \"Value\": 2132930.37823852}, {\"Date\": \"2018-04-30T00:00:00-04:00\", \"Stock\": \"Total\", \"Value\": 2018401.913277357}, {\"Date\": \"2018-05-31T00:00:00-04:00\", \"Stock\": \"Total\", \"Value\": 2186184.0202093488}, {\"Date\": \"2018-06-30T00:00:00-04:00\", \"Stock\": \"Total\", \"Value\": 2274477.005276506}, {\"Date\": \"2018-07-31T00:00:00-04:00\", \"Stock\": \"Total\", \"Value\": 2289679.5689479765}, {\"Date\": \"2018-08-31T00:00:00-04:00\", \"Stock\": \"Total\", \"Value\": 2381255.8870334504}, {\"Date\": \"2018-09-30T00:00:00-04:00\", \"Stock\": \"Total\", \"Value\": 2614685.3412581175}, {\"Date\": \"2018-10-31T00:00:00-04:00\", \"Stock\": \"Total\", \"Value\": 2601965.1206451803}, {\"Date\": \"2018-11-30T00:00:00-05:00\", \"Stock\": \"Total\", \"Value\": 2385948.095967063}, {\"Date\": \"2018-12-31T00:00:00-05:00\", \"Stock\": \"Total\", \"Value\": 2435804.1523042587}, {\"Date\": \"2019-01-31T00:00:00-05:00\", \"Stock\": \"Total\", \"Value\": 2161612.178545023}, {\"Date\": \"2019-02-28T00:00:00-05:00\", \"Stock\": \"Total\", \"Value\": 2274069.2360865786}, {\"Date\": \"2019-03-31T00:00:00-04:00\", \"Stock\": \"Total\", \"Value\": 2381018.978976336}, {\"Date\": \"2019-04-30T00:00:00-04:00\", \"Stock\": \"Total\", \"Value\": 2552727.453035813}, {\"Date\": \"2019-05-31T00:00:00-04:00\", \"Stock\": \"Total\", \"Value\": 2679553.1429238147}, {\"Date\": \"2019-06-30T00:00:00-04:00\", \"Stock\": \"Total\", \"Value\": 2468599.5391267366}, {\"Date\": \"2019-07-31T00:00:00-04:00\", \"Stock\": \"Total\", \"Value\": 2762732.681539888}, {\"Date\": \"2019-08-31T00:00:00-04:00\", \"Stock\": \"Total\", \"Value\": 2779400.067744069}, {\"Date\": \"2019-09-30T00:00:00-04:00\", \"Stock\": \"Total\", \"Value\": 2781918.14342343}, {\"Date\": \"2019-10-31T00:00:00-04:00\", \"Stock\": \"Total\", \"Value\": 2743339.8535166434}, {\"Date\": \"2019-11-30T00:00:00-05:00\", \"Stock\": \"Total\", \"Value\": 2863160.836825501}, {\"Date\": \"2019-12-31T00:00:00-05:00\", \"Stock\": \"Total\", \"Value\": 2916908.167106081}, {\"Date\": \"2020-01-31T00:00:00-05:00\", \"Stock\": \"Total\", \"Value\": 3088669.029042871}, {\"Date\": \"2020-02-29T00:00:00-05:00\", \"Stock\": \"Total\", \"Value\": 3193337.132545226}, {\"Date\": \"2020-03-31T00:00:00-04:00\", \"Stock\": \"Total\", \"Value\": 3111997.7639756394}, {\"Date\": \"2020-04-30T00:00:00-04:00\", \"Stock\": \"Total\", \"Value\": 2784007.643873342}, {\"Date\": \"2020-05-31T00:00:00-04:00\", \"Stock\": \"Total\", \"Value\": 3225381.0519066313}, {\"Date\": \"2020-06-30T00:00:00-04:00\", \"Stock\": \"Total\", \"Value\": 3453989.9420812326}, {\"Date\": \"2020-07-31T00:00:00-04:00\", \"Stock\": \"Total\", \"Value\": 3782524.69702388}, {\"Date\": \"2020-08-31T00:00:00-04:00\", \"Stock\": \"Total\", \"Value\": 4098969.8791365493}, {\"Date\": \"2020-09-30T00:00:00-04:00\", \"Stock\": \"Total\", \"Value\": 4582776.655416821}, {\"Date\": \"2020-10-31T00:00:00-04:00\", \"Stock\": \"Total\", \"Value\": 4273155.413121761}, {\"Date\": \"2020-11-30T00:00:00-05:00\", \"Stock\": \"Total\", \"Value\": 4061563.259857008}, {\"Date\": \"2020-12-31T00:00:00-05:00\", \"Stock\": \"Total\", \"Value\": 4442799.608890499}, {\"Date\": \"2021-01-31T00:00:00-05:00\", \"Stock\": \"Total\", \"Value\": 4464900.503822006}, {\"Date\": \"2021-02-28T00:00:00-05:00\", \"Stock\": \"Total\", \"Value\": 4621556.899070041}, {\"Date\": \"2021-03-31T00:00:00-04:00\", \"Stock\": \"Total\", \"Value\": 4493471.753411028}, {\"Date\": \"2021-04-30T00:00:00-04:00\", \"Stock\": \"Total\", \"Value\": 4544046.7735516755}, {\"Date\": \"2021-05-31T00:00:00-04:00\", \"Stock\": \"Total\", \"Value\": 4807881.4543809015}, {\"Date\": \"2021-06-30T00:00:00-04:00\", \"Stock\": \"Total\", \"Value\": 4657611.02486415}, {\"Date\": \"2021-07-31T00:00:00-04:00\", \"Stock\": \"Total\", \"Value\": 4943494.404305883}, {\"Date\": \"2021-08-31T00:00:00-04:00\", \"Stock\": \"Total\", \"Value\": 5035538.938509374}, {\"Date\": \"2021-09-30T00:00:00-04:00\", \"Stock\": \"Total\", \"Value\": 5272730.81980362}, {\"Date\": \"2021-10-31T00:00:00-04:00\", \"Stock\": \"Total\", \"Value\": 5020749.343235788}, {\"Date\": \"2021-11-30T00:00:00-05:00\", \"Stock\": \"Total\", \"Value\": 5290930.2730939975}, {\"Date\": \"2021-12-31T00:00:00-05:00\", \"Stock\": \"Total\", \"Value\": 5459739.726733483}, {\"Date\": \"2022-01-31T00:00:00-05:00\", \"Stock\": \"Total\", \"Value\": 5665513.513690199}, {\"Date\": \"2022-02-28T00:00:00-05:00\", \"Stock\": \"Total\", \"Value\": 5193028.786941944}, {\"Date\": \"2022-03-31T00:00:00-04:00\", \"Stock\": \"Total\", \"Value\": 5056889.832922241}, {\"Date\": \"2022-04-30T00:00:00-04:00\", \"Stock\": \"Total\", \"Value\": 5393206.081080869}, {\"Date\": \"2022-05-31T00:00:00-04:00\", \"Stock\": \"Total\", \"Value\": 4677628.870012073}, {\"Date\": \"2022-06-30T00:00:00-04:00\", \"Stock\": \"Total\", \"Value\": 4434244.077452177}, {\"Date\": \"2022-07-31T00:00:00-04:00\", \"Stock\": \"Total\", \"Value\": 4201834.494951751}, {\"Date\": \"2022-08-31T00:00:00-04:00\", \"Stock\": \"Total\", \"Value\": 4792131.997555837}, {\"Date\": \"2022-09-30T00:00:00-04:00\", \"Stock\": \"Total\", \"Value\": 4576164.590370039}, {\"Date\": \"2022-10-31T00:00:00-04:00\", \"Stock\": \"Total\", \"Value\": 4191350.785929067}, {\"Date\": \"2022-11-30T00:00:00-05:00\", \"Stock\": \"Total\", \"Value\": 4046042.142004122}, {\"Date\": \"2022-12-31T00:00:00-05:00\", \"Stock\": \"Total\", \"Value\": 4187940.0595680615}, {\"Date\": \"2023-01-31T00:00:00-05:00\", \"Stock\": \"Total\", \"Value\": 3796470.3086810093}, {\"Date\": \"2023-02-28T00:00:00-05:00\", \"Stock\": \"Total\", \"Value\": 4292899.585552256}, {\"Date\": \"2023-03-31T00:00:00-04:00\", \"Stock\": \"Total\", \"Value\": 4043554.3892557826}, {\"Date\": \"2023-04-30T00:00:00-04:00\", \"Stock\": \"Total\", \"Value\": 4477686.559362393}, {\"Date\": \"2023-05-31T00:00:00-04:00\", \"Stock\": \"Total\", \"Value\": 4583264.822806537}, {\"Date\": \"2023-06-30T00:00:00-04:00\", \"Stock\": \"Total\", \"Value\": 4929116.822548755}, {\"Date\": \"2023-07-31T00:00:00-04:00\", \"Stock\": \"Total\", \"Value\": 5170131.138349312}, {\"Date\": \"2023-08-31T00:00:00-04:00\", \"Stock\": \"Total\", \"Value\": 5242041.370111426}, {\"Date\": \"2023-09-30T00:00:00-04:00\", \"Stock\": \"Total\", \"Value\": 5228394.599453308}, {\"Date\": \"2023-10-31T00:00:00-04:00\", \"Stock\": \"Total\", \"Value\": 5005374.633894636}, {\"Date\": \"2023-11-30T00:00:00-05:00\", \"Stock\": \"Total\", \"Value\": 5149656.113248212}, {\"Date\": \"2023-12-31T00:00:00-05:00\", \"Stock\": \"Total\", \"Value\": 5552449.98258959}, {\"Date\": \"2024-01-31T00:00:00-05:00\", \"Stock\": \"Total\", \"Value\": 5639123.950218806}, {\"Date\": \"2024-02-29T00:00:00-05:00\", \"Stock\": \"Total\", \"Value\": 5939379.607264721}, {\"Date\": \"2024-03-31T00:00:00-04:00\", \"Stock\": \"Total\", \"Value\": 6219772.963748833}, {\"Date\": \"2024-04-30T00:00:00-04:00\", \"Stock\": \"Total\", \"Value\": 6211808.757756997}, {\"Date\": \"2024-05-31T00:00:00-04:00\", \"Stock\": \"Total\", \"Value\": 6006118.184847045}, {\"Date\": \"2024-06-30T00:00:00-04:00\", \"Stock\": \"Total\", \"Value\": 6382642.41699075}, {\"Date\": \"2024-07-31T00:00:00-04:00\", \"Stock\": \"Total\", \"Value\": 6912328.619919247}, {\"Date\": \"2024-08-31T00:00:00-04:00\", \"Stock\": \"Total\", \"Value\": 6613180.207280102}, {\"Date\": \"2024-09-30T00:00:00-04:00\", \"Stock\": \"Total\", \"Value\": 6676143.705397953}, {\"Date\": \"2024-10-31T00:00:00-04:00\", \"Stock\": \"Total\", \"Value\": 6865444.563254565}, {\"Date\": \"2024-11-30T00:00:00-05:00\", \"Stock\": \"Total\", \"Value\": 6958103.935173419}, {\"Date\": \"2024-12-31T00:00:00-05:00\", \"Stock\": \"Total\", \"Value\": 7463875.736427651}, {\"Date\": \"2025-01-31T00:00:00-05:00\", \"Stock\": \"Total\", \"Value\": 7415172.296651752}, {\"Date\": \"2025-02-28T00:00:00-05:00\", \"Stock\": \"Total\", \"Value\": 7663711.685202422}, {\"Date\": \"2025-03-31T00:00:00-04:00\", \"Stock\": \"Total\", \"Value\": 7357108.909481295}, {\"Date\": \"2025-04-30T00:00:00-04:00\", \"Stock\": \"Total\", \"Value\": 6916790.767936738}, {\"Date\": \"2025-05-31T00:00:00-04:00\", \"Stock\": \"Total\", \"Value\": 7024205.60816941}]}}, {\"mode\": \"vega-lite\"});\n",
              "</script>"
            ],
            "text/plain": [
              "alt.LayerChart(...)"
            ]
          },
          "metadata": {},
          "output_type": "display_data"
        },
        {
          "data": {
            "text/html": [
              "\n",
              "<style>\n",
              "  #altair-viz-c8db543c2f534d9393d7d646ecbe43ac.vega-embed {\n",
              "    width: 100%;\n",
              "    display: flex;\n",
              "  }\n",
              "\n",
              "  #altair-viz-c8db543c2f534d9393d7d646ecbe43ac.vega-embed details,\n",
              "  #altair-viz-c8db543c2f534d9393d7d646ecbe43ac.vega-embed details summary {\n",
              "    position: relative;\n",
              "  }\n",
              "</style>\n",
              "<div id=\"altair-viz-c8db543c2f534d9393d7d646ecbe43ac\"></div>\n",
              "<script type=\"text/javascript\">\n",
              "  var VEGA_DEBUG = (typeof VEGA_DEBUG == \"undefined\") ? {} : VEGA_DEBUG;\n",
              "  (function(spec, embedOpt){\n",
              "    let outputDiv = document.currentScript.previousElementSibling;\n",
              "    if (outputDiv.id !== \"altair-viz-c8db543c2f534d9393d7d646ecbe43ac\") {\n",
              "      outputDiv = document.getElementById(\"altair-viz-c8db543c2f534d9393d7d646ecbe43ac\");\n",
              "    }\n",
              "\n",
              "    const paths = {\n",
              "      \"vega\": \"https://cdn.jsdelivr.net/npm/vega@5?noext\",\n",
              "      \"vega-lib\": \"https://cdn.jsdelivr.net/npm/vega-lib?noext\",\n",
              "      \"vega-lite\": \"https://cdn.jsdelivr.net/npm/vega-lite@5.20.1?noext\",\n",
              "      \"vega-embed\": \"https://cdn.jsdelivr.net/npm/vega-embed@6?noext\",\n",
              "    };\n",
              "\n",
              "    function maybeLoadScript(lib, version) {\n",
              "      var key = `${lib.replace(\"-\", \"\")}_version`;\n",
              "      return (VEGA_DEBUG[key] == version) ?\n",
              "        Promise.resolve(paths[lib]) :\n",
              "        new Promise(function(resolve, reject) {\n",
              "          var s = document.createElement('script');\n",
              "          document.getElementsByTagName(\"head\")[0].appendChild(s);\n",
              "          s.async = true;\n",
              "          s.onload = () => {\n",
              "            VEGA_DEBUG[key] = version;\n",
              "            return resolve(paths[lib]);\n",
              "          };\n",
              "          s.onerror = () => reject(`Error loading script: ${paths[lib]}`);\n",
              "          s.src = paths[lib];\n",
              "        });\n",
              "    }\n",
              "\n",
              "    function showError(err) {\n",
              "      outputDiv.innerHTML = `<div class=\"error\" style=\"color:red;\">${err}</div>`;\n",
              "      throw err;\n",
              "    }\n",
              "\n",
              "    function displayChart(vegaEmbed) {\n",
              "      vegaEmbed(outputDiv, spec, embedOpt)\n",
              "        .catch(err => showError(`Javascript Error: ${err.message}<br>This usually means there's a typo in your chart specification. See the javascript console for the full traceback.`));\n",
              "    }\n",
              "\n",
              "    if(typeof define === \"function\" && define.amd) {\n",
              "      requirejs.config({paths});\n",
              "      let deps = [\"vega-embed\"];\n",
              "      require(deps, displayChart, err => showError(`Error loading script: ${err.message}`));\n",
              "    } else {\n",
              "      maybeLoadScript(\"vega\", \"5\")\n",
              "        .then(() => maybeLoadScript(\"vega-lite\", \"5.20.1\"))\n",
              "        .then(() => maybeLoadScript(\"vega-embed\", \"6\"))\n",
              "        .catch(showError)\n",
              "        .then(() => displayChart(vegaEmbed));\n",
              "    }\n",
              "  })({\"config\": {\"view\": {\"continuousWidth\": 300, \"continuousHeight\": 300}}, \"layer\": [{\"mark\": {\"type\": \"line\"}, \"encoding\": {\"color\": {\"field\": \"Stock\", \"title\": \"Stock\", \"type\": \"nominal\"}, \"x\": {\"field\": \"Date\", \"title\": \"Date\", \"type\": \"temporal\"}, \"y\": {\"field\": \"Value\", \"title\": \"Portfolio Value\", \"type\": \"quantitative\"}}, \"name\": \"view_7\"}, {\"mark\": {\"type\": \"point\"}, \"encoding\": {\"color\": {\"field\": \"Stock\", \"title\": \"Stock\", \"type\": \"nominal\"}, \"opacity\": {\"condition\": [{\"param\": \"param_7\", \"value\": 1, \"empty\": false}], \"value\": 0}, \"x\": {\"field\": \"Date\", \"title\": \"Date\", \"type\": \"temporal\"}, \"y\": {\"field\": \"Value\", \"title\": \"Portfolio Value\", \"type\": \"quantitative\"}}}, {\"mark\": {\"type\": \"rule\", \"color\": \"gray\"}, \"encoding\": {\"opacity\": {\"condition\": [{\"param\": \"param_7\", \"value\": 0.3, \"empty\": false}], \"value\": 0}, \"tooltip\": [{\"field\": \"Date\", \"title\": \"Date\", \"type\": \"temporal\"}, {\"field\": \"AAPL\", \"format\": \".2f\", \"type\": \"quantitative\"}, {\"field\": \"MSFT\", \"format\": \".2f\", \"type\": \"quantitative\"}, {\"field\": \"^IXIC\", \"format\": \".2f\", \"type\": \"quantitative\"}, {\"field\": \"COST\", \"format\": \".2f\", \"type\": \"quantitative\"}, {\"field\": \"WMT\", \"format\": \".2f\", \"type\": \"quantitative\"}, {\"field\": \"AMZN\", \"format\": \".2f\", \"type\": \"quantitative\"}, {\"field\": \"^GSPC\", \"format\": \".2f\", \"type\": \"quantitative\"}, {\"field\": \"SBUX\", \"format\": \".2f\", \"type\": \"quantitative\"}, {\"field\": \"TSN\", \"format\": \".2f\", \"type\": \"quantitative\"}, {\"field\": \"INTC\", \"format\": \".2f\", \"type\": \"quantitative\"}], \"x\": {\"field\": \"Date\", \"type\": \"temporal\"}}, \"name\": \"view_8\", \"transform\": [{\"pivot\": \"Stock\", \"value\": \"Value\", \"groupby\": [\"Date\"]}]}], \"data\": {\"name\": \"data-598d1d12541cae9b3f9d81725265f7ca\"}, \"height\": 300, \"params\": [{\"name\": \"param_8\", \"select\": {\"type\": \"interval\", \"encodings\": [\"x\", \"y\"]}, \"bind\": \"scales\", \"views\": [\"view_7\"]}, {\"name\": \"param_7\", \"select\": {\"type\": \"point\", \"fields\": [\"Date\"], \"nearest\": true, \"on\": \"mouseover\"}, \"views\": [\"view_8\"]}], \"title\": \"Portfolio Value Over Time\", \"width\": 600, \"$schema\": \"https://vega.github.io/schema/vega-lite/v5.20.1.json\", \"datasets\": {\"data-598d1d12541cae9b3f9d81725265f7ca\": [{\"Date\": \"2015-01-31T00:00:00-05:00\", \"Stock\": \"AAPL\", \"Value\": 139523.49897875809}, {\"Date\": \"2015-02-28T00:00:00-05:00\", \"Stock\": \"AAPL\", \"Value\": 151391.85911952797}, {\"Date\": \"2015-03-31T00:00:00-04:00\", \"Stock\": \"AAPL\", \"Value\": 165390.72739428456}, {\"Date\": \"2015-04-30T00:00:00-04:00\", \"Stock\": \"AAPL\", \"Value\": 159189.6832387083}, {\"Date\": \"2015-05-31T00:00:00-04:00\", \"Stock\": \"AAPL\", \"Value\": 165211.368082619}, {\"Date\": \"2015-06-30T00:00:00-04:00\", \"Stock\": \"AAPL\", \"Value\": 167947.13993652188}, {\"Date\": \"2015-07-31T00:00:00-04:00\", \"Stock\": \"AAPL\", \"Value\": 162878.04258649173}, {\"Date\": \"2015-08-31T00:00:00-04:00\", \"Stock\": \"AAPL\", \"Value\": 152379.77064644513}, {\"Date\": \"2015-09-30T00:00:00-04:00\", \"Stock\": \"AAPL\", \"Value\": 139215.19160728858}, {\"Date\": \"2015-10-31T00:00:00-04:00\", \"Stock\": \"AAPL\", \"Value\": 141618.98986411424}, {\"Date\": \"2015-11-30T00:00:00-05:00\", \"Stock\": \"AAPL\", \"Value\": 156610.6563031125}, {\"Date\": \"2015-12-31T00:00:00-05:00\", \"Stock\": \"AAPL\", \"Value\": 152296.98268316203}, {\"Date\": \"2016-01-31T00:00:00-05:00\", \"Stock\": \"AAPL\", \"Value\": 136735.0478597063}, {\"Date\": \"2016-02-29T00:00:00-05:00\", \"Stock\": \"AAPL\", \"Value\": 125157.7165543952}, {\"Date\": \"2016-03-31T00:00:00-04:00\", \"Stock\": \"AAPL\", \"Value\": 131187.10387821432}, {\"Date\": \"2016-04-30T00:00:00-04:00\", \"Stock\": \"AAPL\", \"Value\": 143531.99881081487}, {\"Date\": \"2016-05-31T00:00:00-04:00\", \"Stock\": \"AAPL\", \"Value\": 122195.98702886874}, {\"Date\": \"2016-06-30T00:00:00-04:00\", \"Stock\": \"AAPL\", \"Value\": 129268.15646193984}, {\"Date\": \"2016-07-31T00:00:00-04:00\", \"Stock\": \"AAPL\", \"Value\": 125894.01008544196}, {\"Date\": \"2016-08-31T00:00:00-04:00\", \"Stock\": \"AAPL\", \"Value\": 139233.0617989395}, {\"Date\": \"2016-09-30T00:00:00-04:00\", \"Stock\": \"AAPL\", \"Value\": 140884.9095634252}, {\"Date\": \"2016-10-31T00:00:00-04:00\", \"Stock\": \"AAPL\", \"Value\": 148527.75277463315}, {\"Date\": \"2016-11-30T00:00:00-05:00\", \"Stock\": \"AAPL\", \"Value\": 147168.13907005847}, {\"Date\": \"2016-12-31T00:00:00-05:00\", \"Stock\": \"AAPL\", \"Value\": 145270.18447242485}, {\"Date\": \"2017-01-31T00:00:00-05:00\", \"Stock\": \"AAPL\", \"Value\": 154106.62719820402}, {\"Date\": \"2017-02-28T00:00:00-05:00\", \"Stock\": \"AAPL\", \"Value\": 170824.16409622759}, {\"Date\": \"2017-03-31T00:00:00-04:00\", \"Stock\": \"AAPL\", \"Value\": 186276.0071442639}, {\"Date\": \"2017-04-30T00:00:00-04:00\", \"Stock\": \"AAPL\", \"Value\": 191486.25819082352}, {\"Date\": \"2017-05-31T00:00:00-04:00\", \"Stock\": \"AAPL\", \"Value\": 195323.97771799756}, {\"Date\": \"2017-06-30T00:00:00-04:00\", \"Stock\": \"AAPL\", \"Value\": 204961.28113570588}, {\"Date\": \"2017-07-31T00:00:00-04:00\", \"Stock\": \"AAPL\", \"Value\": 192008.99690551884}, {\"Date\": \"2017-08-31T00:00:00-04:00\", \"Stock\": \"AAPL\", \"Value\": 200773.25764319458}, {\"Date\": \"2017-09-30T00:00:00-04:00\", \"Stock\": \"AAPL\", \"Value\": 220367.81870092385}, {\"Date\": \"2017-10-31T00:00:00-04:00\", \"Stock\": \"AAPL\", \"Value\": 206612.48246162172}, {\"Date\": \"2017-11-30T00:00:00-05:00\", \"Stock\": \"AAPL\", \"Value\": 224182.77044253645}, {\"Date\": \"2017-12-31T00:00:00-05:00\", \"Stock\": \"AAPL\", \"Value\": 230596.90923785508}, {\"Date\": \"2018-01-31T00:00:00-05:00\", \"Stock\": \"AAPL\", \"Value\": 232228.0380983481}, {\"Date\": \"2018-02-28T00:00:00-05:00\", \"Stock\": \"AAPL\", \"Value\": 226188.52688913015}, {\"Date\": \"2018-03-31T00:00:00-04:00\", \"Stock\": \"AAPL\", \"Value\": 236883.84207053244}, {\"Date\": \"2018-04-30T00:00:00-04:00\", \"Stock\": \"AAPL\", \"Value\": 225621.67695948275}, {\"Date\": \"2018-05-31T00:00:00-04:00\", \"Stock\": \"AAPL\", \"Value\": 228897.4989338495}, {\"Date\": \"2018-06-30T00:00:00-04:00\", \"Stock\": \"AAPL\", \"Value\": 258506.07274671434}, {\"Date\": \"2018-07-31T00:00:00-04:00\", \"Stock\": \"AAPL\", \"Value\": 254347.9826469624}, {\"Date\": \"2018-08-31T00:00:00-04:00\", \"Stock\": \"AAPL\", \"Value\": 273806.6162996505}, {\"Date\": \"2018-09-30T00:00:00-04:00\", \"Stock\": \"AAPL\", \"Value\": 311393.38154926675}, {\"Date\": \"2018-10-31T00:00:00-04:00\", \"Stock\": \"AAPL\", \"Value\": 309893.3811091777}, {\"Date\": \"2018-11-30T00:00:00-05:00\", \"Stock\": \"AAPL\", \"Value\": 303020.86258491356}, {\"Date\": \"2018-12-31T00:00:00-05:00\", \"Stock\": \"AAPL\", \"Value\": 252901.25312766244}, {\"Date\": \"2019-01-31T00:00:00-05:00\", \"Stock\": \"AAPL\", \"Value\": 216092.2740000079}, {\"Date\": \"2019-02-28T00:00:00-05:00\", \"Stock\": \"AAPL\", \"Value\": 227860.1732043904}, {\"Date\": \"2019-03-31T00:00:00-04:00\", \"Stock\": \"AAPL\", \"Value\": 240449.70678762434}, {\"Date\": \"2019-04-30T00:00:00-04:00\", \"Stock\": \"AAPL\", \"Value\": 262808.5049095012}, {\"Date\": \"2019-05-31T00:00:00-04:00\", \"Stock\": \"AAPL\", \"Value\": 289303.7210041616}, {\"Date\": \"2019-06-30T00:00:00-04:00\", \"Stock\": \"AAPL\", \"Value\": 239071.80654113335}, {\"Date\": \"2019-07-31T00:00:00-04:00\", \"Stock\": \"AAPL\", \"Value\": 278043.48425223544}, {\"Date\": \"2019-08-31T00:00:00-04:00\", \"Stock\": \"AAPL\", \"Value\": 287534.5829873008}, {\"Date\": \"2019-09-30T00:00:00-04:00\", \"Stock\": \"AAPL\", \"Value\": 284846.6695007379}, {\"Date\": \"2019-10-31T00:00:00-04:00\", \"Stock\": \"AAPL\", \"Value\": 311004.92675172316}, {\"Date\": \"2019-11-30T00:00:00-05:00\", \"Stock\": \"AAPL\", \"Value\": 354251.2726368668}, {\"Date\": \"2019-12-31T00:00:00-05:00\", \"Stock\": \"AAPL\", \"Value\": 366898.45977526164}, {\"Date\": \"2020-01-31T00:00:00-05:00\", \"Stock\": \"AAPL\", \"Value\": 417163.68225951545}, {\"Date\": \"2020-02-29T00:00:00-05:00\", \"Stock\": \"AAPL\", \"Value\": 428705.61283568834}, {\"Date\": \"2020-03-31T00:00:00-04:00\", \"Stock\": \"AAPL\", \"Value\": 416009.64697673556}, {\"Date\": \"2020-04-30T00:00:00-04:00\", \"Stock\": \"AAPL\", \"Value\": 335400.02828176506}, {\"Date\": \"2020-05-31T00:00:00-04:00\", \"Stock\": \"AAPL\", \"Value\": 402449.3817933218}, {\"Date\": \"2020-06-30T00:00:00-04:00\", \"Stock\": \"AAPL\", \"Value\": 449299.4364433577}, {\"Date\": \"2020-07-31T00:00:00-04:00\", \"Stock\": \"AAPL\", \"Value\": 508293.8147639693}, {\"Date\": \"2020-08-31T00:00:00-04:00\", \"Stock\": \"AAPL\", \"Value\": 608302.5947632027}, {\"Date\": \"2020-09-30T00:00:00-04:00\", \"Stock\": \"AAPL\", \"Value\": 750606.864294276}, {\"Date\": \"2020-10-31T00:00:00-04:00\", \"Stock\": \"AAPL\", \"Value\": 653326.5809758884}, {\"Date\": \"2020-11-30T00:00:00-05:00\", \"Stock\": \"AAPL\", \"Value\": 608462.4294387419}, {\"Date\": \"2020-12-31T00:00:00-05:00\", \"Stock\": \"AAPL\", \"Value\": 687683.5857383853}, {\"Date\": \"2021-01-31T00:00:00-05:00\", \"Stock\": \"AAPL\", \"Value\": 725171.9827595267}, {\"Date\": \"2021-02-28T00:00:00-05:00\", \"Stock\": \"AAPL\", \"Value\": 751677.629523992}, {\"Date\": \"2021-03-31T00:00:00-04:00\", \"Stock\": \"AAPL\", \"Value\": 717164.2085407657}, {\"Date\": \"2021-04-30T00:00:00-04:00\", \"Stock\": \"AAPL\", \"Value\": 690282.4879208573}, {\"Date\": \"2021-05-31T00:00:00-04:00\", \"Stock\": \"AAPL\", \"Value\": 743821.2314964326}, {\"Date\": \"2021-06-30T00:00:00-04:00\", \"Stock\": \"AAPL\", \"Value\": 698650.6023376669}, {\"Date\": \"2021-07-31T00:00:00-04:00\", \"Stock\": \"AAPL\", \"Value\": 771675.2395517229}, {\"Date\": \"2021-08-31T00:00:00-04:00\", \"Stock\": \"AAPL\", \"Value\": 818053.0653481983}, {\"Date\": \"2021-09-30T00:00:00-04:00\", \"Stock\": \"AAPL\", \"Value\": 858632.4029127326}, {\"Date\": \"2021-10-31T00:00:00-04:00\", \"Stock\": \"AAPL\", \"Value\": 803120.6411693207}, {\"Date\": \"2021-11-30T00:00:00-05:00\", \"Stock\": \"AAPL\", \"Value\": 838645.9247763058}, {\"Date\": \"2021-12-31T00:00:00-05:00\", \"Stock\": \"AAPL\", \"Value\": 929010.3234033206}, {\"Date\": \"2022-01-31T00:00:00-05:00\", \"Stock\": \"AAPL\", \"Value\": 1026213.2970513897}, {\"Date\": \"2022-02-28T00:00:00-05:00\", \"Stock\": \"AAPL\", \"Value\": 984490.4425265681}, {\"Date\": \"2022-03-31T00:00:00-04:00\", \"Stock\": \"AAPL\", \"Value\": 921330.7208463193}, {\"Date\": \"2022-04-30T00:00:00-04:00\", \"Stock\": \"AAPL\", \"Value\": 984051.0396044523}, {\"Date\": \"2022-05-31T00:00:00-04:00\", \"Stock\": \"AAPL\", \"Value\": 891748.5524055444}, {\"Date\": \"2022-06-30T00:00:00-04:00\", \"Stock\": \"AAPL\", \"Value\": 840762.1236090688}, {\"Date\": \"2022-07-31T00:00:00-04:00\", \"Stock\": \"AAPL\", \"Value\": 785468.792362747}, {\"Date\": \"2022-08-31T00:00:00-04:00\", \"Stock\": \"AAPL\", \"Value\": 913129.4971463875}, {\"Date\": \"2022-09-30T00:00:00-04:00\", \"Stock\": \"AAPL\", \"Value\": 894299.333262614}, {\"Date\": \"2022-10-31T00:00:00-04:00\", \"Stock\": \"AAPL\", \"Value\": 806488.520378667}, {\"Date\": \"2022-11-30T00:00:00-05:00\", \"Stock\": \"AAPL\", \"Value\": 852913.328015608}, {\"Date\": \"2022-12-31T00:00:00-05:00\", \"Stock\": \"AAPL\", \"Value\": 841058.039081852}, {\"Date\": \"2023-01-31T00:00:00-05:00\", \"Stock\": \"AAPL\", \"Value\": 709265.3427861438}, {\"Date\": \"2023-02-28T00:00:00-05:00\", \"Stock\": \"AAPL\", \"Value\": 824725.889137312}, {\"Date\": \"2023-03-31T00:00:00-04:00\", \"Stock\": \"AAPL\", \"Value\": 825303.6080002013}, {\"Date\": \"2023-04-30T00:00:00-04:00\", \"Stock\": \"AAPL\", \"Value\": 943780.1518470048}, {\"Date\": \"2023-05-31T00:00:00-04:00\", \"Stock\": \"AAPL\", \"Value\": 963204.3379935306}, {\"Date\": \"2023-06-30T00:00:00-04:00\", \"Stock\": \"AAPL\", \"Value\": 1024255.0483613864}, {\"Date\": \"2023-07-31T00:00:00-04:00\", \"Stock\": \"AAPL\", \"Value\": 1094608.9520156167}, {\"Date\": \"2023-08-31T00:00:00-04:00\", \"Stock\": \"AAPL\", \"Value\": 1112524.4601059975}, {\"Date\": \"2023-09-30T00:00:00-04:00\", \"Stock\": \"AAPL\", \"Value\": 1079001.6021434835}, {\"Date\": \"2023-10-31T00:00:00-04:00\", \"Stock\": \"AAPL\", \"Value\": 989531.0856229394}, {\"Date\": \"2023-11-30T00:00:00-05:00\", \"Stock\": \"AAPL\", \"Value\": 990783.9054844595}, {\"Date\": \"2023-12-31T00:00:00-05:00\", \"Stock\": \"AAPL\", \"Value\": 1090573.8605495093}, {\"Date\": \"2024-01-31T00:00:00-05:00\", \"Stock\": \"AAPL\", \"Value\": 1058639.093977957}, {\"Date\": \"2024-02-29T00:00:00-05:00\", \"Stock\": \"AAPL\", \"Value\": 1065596.4383904873}, {\"Date\": \"2024-03-31T00:00:00-04:00\", \"Stock\": \"AAPL\", \"Value\": 1025844.5421953473}, {\"Date\": \"2024-04-30T00:00:00-04:00\", \"Stock\": \"AAPL\", \"Value\": 970858.0830077383}, {\"Date\": \"2024-05-31T00:00:00-04:00\", \"Stock\": \"AAPL\", \"Value\": 966689.7594567282}, {\"Date\": \"2024-06-30T00:00:00-04:00\", \"Stock\": \"AAPL\", \"Value\": 1109398.8529247239}, {\"Date\": \"2024-07-31T00:00:00-04:00\", \"Stock\": \"AAPL\", \"Value\": 1239304.2553809083}, {\"Date\": \"2024-08-31T00:00:00-04:00\", \"Stock\": \"AAPL\", \"Value\": 1248509.715920792}, {\"Date\": \"2024-09-30T00:00:00-04:00\", \"Stock\": \"AAPL\", \"Value\": 1275198.9074127479}, {\"Date\": \"2024-10-31T00:00:00-04:00\", \"Stock\": \"AAPL\", \"Value\": 1294890.5219086404}, {\"Date\": \"2024-11-30T00:00:00-05:00\", \"Stock\": \"AAPL\", \"Value\": 1276000.3159339735}, {\"Date\": \"2024-12-31T00:00:00-05:00\", \"Stock\": \"AAPL\", \"Value\": 1372990.2935515738}, {\"Date\": \"2025-01-31T00:00:00-05:00\", \"Stock\": \"AAPL\", \"Value\": 1397402.7064873842}, {\"Date\": \"2025-02-28T00:00:00-05:00\", \"Stock\": \"AAPL\", \"Value\": 1306630.109294981}, {\"Date\": \"2025-03-31T00:00:00-04:00\", \"Stock\": \"AAPL\", \"Value\": 1365550.3334420219}, {\"Date\": \"2025-04-30T00:00:00-04:00\", \"Stock\": \"AAPL\", \"Value\": 1280415.0311893655}, {\"Date\": \"2025-05-31T00:00:00-04:00\", \"Stock\": \"AAPL\", \"Value\": 1223792.0086746425}, {\"Date\": \"2015-01-31T00:00:00-05:00\", \"Stock\": \"MSFT\", \"Value\": 137852.0736896416}, {\"Date\": \"2015-02-28T00:00:00-05:00\", \"Stock\": \"MSFT\", \"Value\": 121696.62545099072}, {\"Date\": \"2015-03-31T00:00:00-04:00\", \"Stock\": \"MSFT\", \"Value\": 130282.2005871929}, {\"Date\": \"2015-04-30T00:00:00-04:00\", \"Stock\": \"MSFT\", \"Value\": 120900.01081440668}, {\"Date\": \"2015-05-31T00:00:00-04:00\", \"Stock\": \"MSFT\", \"Value\": 144474.28717548717}, {\"Date\": \"2015-06-30T00:00:00-04:00\", \"Stock\": \"MSFT\", \"Value\": 141139.92003055883}, {\"Date\": \"2015-07-31T00:00:00-04:00\", \"Stock\": \"MSFT\", \"Value\": 132832.30177722248}, {\"Date\": \"2015-08-31T00:00:00-04:00\", \"Stock\": \"MSFT\", \"Value\": 139884.77692769773}, {\"Date\": \"2015-09-30T00:00:00-04:00\", \"Stock\": \"MSFT\", \"Value\": 125797.0307943237}, {\"Date\": \"2015-10-31T00:00:00-04:00\", \"Stock\": \"MSFT\", \"Value\": 134189.58068195058}, {\"Date\": \"2015-11-30T00:00:00-05:00\", \"Stock\": \"MSFT\", \"Value\": 160149.04231091466}, {\"Date\": \"2015-12-31T00:00:00-05:00\", \"Stock\": \"MSFT\", \"Value\": 167224.6663184493}, {\"Date\": \"2016-01-31T00:00:00-05:00\", \"Stock\": \"MSFT\", \"Value\": 165952.7521048615}, {\"Date\": \"2016-02-29T00:00:00-05:00\", \"Stock\": \"MSFT\", \"Value\": 165680.18874821527}, {\"Date\": \"2016-03-31T00:00:00-04:00\", \"Stock\": \"MSFT\", \"Value\": 160373.0901774539}, {\"Date\": \"2016-04-30T00:00:00-04:00\", \"Stock\": \"MSFT\", \"Value\": 169492.86062222597}, {\"Date\": \"2016-05-31T00:00:00-04:00\", \"Stock\": \"MSFT\", \"Value\": 154364.45263303106}, {\"Date\": \"2016-06-30T00:00:00-04:00\", \"Stock\": \"MSFT\", \"Value\": 162324.11626906003}, {\"Date\": \"2016-07-31T00:00:00-04:00\", \"Stock\": \"MSFT\", \"Value\": 157133.41813033776}, {\"Date\": \"2016-08-31T00:00:00-04:00\", \"Stock\": \"MSFT\", \"Value\": 173780.46463106485}, {\"Date\": \"2016-09-30T00:00:00-04:00\", \"Stock\": \"MSFT\", \"Value\": 177985.05295410004}, {\"Date\": \"2016-10-31T00:00:00-04:00\", \"Stock\": \"MSFT\", \"Value\": 177459.66313480842}, {\"Date\": \"2016-11-30T00:00:00-05:00\", \"Stock\": \"MSFT\", \"Value\": 184815.14685076082}, {\"Date\": \"2016-12-31T00:00:00-05:00\", \"Stock\": \"MSFT\", \"Value\": 184196.8204069257}, {\"Date\": \"2017-01-31T00:00:00-05:00\", \"Stock\": \"MSFT\", \"Value\": 194713.46165084094}, {\"Date\": \"2017-02-28T00:00:00-05:00\", \"Stock\": \"MSFT\", \"Value\": 197824.88325575666}, {\"Date\": \"2017-03-31T00:00:00-04:00\", \"Stock\": \"MSFT\", \"Value\": 203281.43893142143}, {\"Date\": \"2017-04-30T00:00:00-04:00\", \"Stock\": \"MSFT\", \"Value\": 205190.93093425603}, {\"Date\": \"2017-05-31T00:00:00-04:00\", \"Stock\": \"MSFT\", \"Value\": 217273.7944514367}, {\"Date\": \"2017-06-30T00:00:00-04:00\", \"Stock\": \"MSFT\", \"Value\": 220691.5447243443}, {\"Date\": \"2017-07-31T00:00:00-04:00\", \"Stock\": \"MSFT\", \"Value\": 214615.44217190423}, {\"Date\": \"2017-08-31T00:00:00-04:00\", \"Stock\": \"MSFT\", \"Value\": 228499.13979143655}, {\"Date\": \"2017-09-30T00:00:00-04:00\", \"Stock\": \"MSFT\", \"Value\": 234020.9558220653}, {\"Date\": \"2017-10-31T00:00:00-04:00\", \"Stock\": \"MSFT\", \"Value\": 236141.54335475113}, {\"Date\": \"2017-11-30T00:00:00-05:00\", \"Stock\": \"MSFT\", \"Value\": 263265.7048196526}, {\"Date\": \"2017-12-31T00:00:00-05:00\", \"Stock\": \"MSFT\", \"Value\": 268023.21487927565}, {\"Date\": \"2018-01-31T00:00:00-05:00\", \"Stock\": \"MSFT\", \"Value\": 273398.9988909945}, {\"Date\": \"2018-02-28T00:00:00-05:00\", \"Stock\": \"MSFT\", \"Value\": 299832.2640823905}, {\"Date\": \"2018-03-31T00:00:00-04:00\", \"Stock\": \"MSFT\", \"Value\": 296734.5690673184}, {\"Date\": \"2018-04-30T00:00:00-04:00\", \"Stock\": \"MSFT\", \"Value\": 282896.5655069022}, {\"Date\": \"2018-05-31T00:00:00-04:00\", \"Stock\": \"MSFT\", \"Value\": 303605.65901242226}, {\"Date\": \"2018-06-30T00:00:00-04:00\", \"Stock\": \"MSFT\", \"Value\": 323505.8023226078}, {\"Date\": \"2018-07-31T00:00:00-04:00\", \"Stock\": \"MSFT\", \"Value\": 321002.2088136545}, {\"Date\": \"2018-08-31T00:00:00-04:00\", \"Stock\": \"MSFT\", \"Value\": 341127.06926005613}, {\"Date\": \"2018-09-30T00:00:00-04:00\", \"Stock\": \"MSFT\", \"Value\": 359935.5418666941}, {\"Date\": \"2018-10-31T00:00:00-04:00\", \"Stock\": \"MSFT\", \"Value\": 372501.5393529786}, {\"Date\": \"2018-11-30T00:00:00-05:00\", \"Stock\": \"MSFT\", \"Value\": 341279.8464674743}, {\"Date\": \"2018-12-31T00:00:00-05:00\", \"Stock\": \"MSFT\", \"Value\": 362720.1761482009}, {\"Date\": \"2019-01-31T00:00:00-05:00\", \"Stock\": \"MSFT\", \"Value\": 327221.56132281816}, {\"Date\": \"2019-02-28T00:00:00-05:00\", \"Stock\": \"MSFT\", \"Value\": 332593.3034706059}, {\"Date\": \"2019-03-31T00:00:00-04:00\", \"Stock\": \"MSFT\", \"Value\": 365699.18734057155}, {\"Date\": \"2019-04-30T00:00:00-04:00\", \"Stock\": \"MSFT\", \"Value\": 386790.28947931115}, {\"Date\": \"2019-05-31T00:00:00-04:00\", \"Stock\": \"MSFT\", \"Value\": 415583.5045348917}, {\"Date\": \"2019-06-30T00:00:00-04:00\", \"Stock\": \"MSFT\", \"Value\": 390896.7444956059}, {\"Date\": \"2019-07-31T00:00:00-04:00\", \"Stock\": \"MSFT\", \"Value\": 442564.04860089393}, {\"Date\": \"2019-08-31T00:00:00-04:00\", \"Stock\": \"MSFT\", \"Value\": 450327.15691887535}, {\"Date\": \"2019-09-30T00:00:00-04:00\", \"Stock\": \"MSFT\", \"Value\": 445215.98376528913}, {\"Date\": \"2019-10-31T00:00:00-04:00\", \"Stock\": \"MSFT\", \"Value\": 448586.7933002708}, {\"Date\": \"2019-11-30T00:00:00-05:00\", \"Stock\": \"MSFT\", \"Value\": 470350.28837439016}, {\"Date\": \"2019-12-31T00:00:00-05:00\", \"Stock\": \"MSFT\", \"Value\": 491095.23373789573}, {\"Date\": \"2020-01-31T00:00:00-05:00\", \"Stock\": \"MSFT\", \"Value\": 527447.2330159843}, {\"Date\": \"2020-02-29T00:00:00-05:00\", \"Stock\": \"MSFT\", \"Value\": 572632.4897024628}, {\"Date\": \"2020-03-31T00:00:00-04:00\", \"Stock\": \"MSFT\", \"Value\": 568960.9549926663}, {\"Date\": \"2020-04-30T00:00:00-04:00\", \"Stock\": \"MSFT\", \"Value\": 500866.09859480057}, {\"Date\": \"2020-05-31T00:00:00-04:00\", \"Stock\": \"MSFT\", \"Value\": 574822.2875934998}, {\"Date\": \"2020-06-30T00:00:00-04:00\", \"Stock\": \"MSFT\", \"Value\": 603697.4685000967}, {\"Date\": \"2020-07-31T00:00:00-04:00\", \"Stock\": \"MSFT\", \"Value\": 675911.246702356}, {\"Date\": \"2020-08-31T00:00:00-04:00\", \"Stock\": \"MSFT\", \"Value\": 715006.3592961146}, {\"Date\": \"2020-09-30T00:00:00-04:00\", \"Stock\": \"MSFT\", \"Value\": 752250.6131599081}, {\"Date\": \"2020-10-31T00:00:00-04:00\", \"Stock\": \"MSFT\", \"Value\": 703230.2050120364}, {\"Date\": \"2020-11-30T00:00:00-05:00\", \"Stock\": \"MSFT\", \"Value\": 669700.5815760569}, {\"Date\": \"2020-12-31T00:00:00-05:00\", \"Stock\": \"MSFT\", \"Value\": 717516.0418468341}, {\"Date\": \"2021-01-31T00:00:00-05:00\", \"Stock\": \"MSFT\", \"Value\": 722427.6414073595}, {\"Date\": \"2021-02-28T00:00:00-05:00\", \"Stock\": \"MSFT\", \"Value\": 795304.127819086}, {\"Date\": \"2021-03-31T00:00:00-04:00\", \"Stock\": \"MSFT\", \"Value\": 788121.8930889035}, {\"Date\": \"2021-04-30T00:00:00-04:00\", \"Stock\": \"MSFT\", \"Value\": 806116.8487188823}, {\"Date\": \"2021-05-31T00:00:00-04:00\", \"Stock\": \"MSFT\", \"Value\": 837749.5781694744}, {\"Date\": \"2021-06-30T00:00:00-04:00\", \"Stock\": \"MSFT\", \"Value\": 824814.721230681}, {\"Date\": \"2021-07-31T00:00:00-04:00\", \"Stock\": \"MSFT\", \"Value\": 905495.9419097042}, {\"Date\": \"2021-08-31T00:00:00-04:00\", \"Stock\": \"MSFT\", \"Value\": 949570.3159160281}, {\"Date\": \"2021-09-30T00:00:00-04:00\", \"Stock\": \"MSFT\", \"Value\": 1008206.9482566394}, {\"Date\": \"2021-10-31T00:00:00-04:00\", \"Stock\": \"MSFT\", \"Value\": 965684.85996678}, {\"Date\": \"2021-11-30T00:00:00-05:00\", \"Stock\": \"MSFT\", \"Value\": 1100199.036442021}, {\"Date\": \"2021-12-31T00:00:00-05:00\", \"Stock\": \"MSFT\", \"Value\": 1104587.8707702227}, {\"Date\": \"2022-01-31T00:00:00-05:00\", \"Stock\": \"MSFT\", \"Value\": 1120215.7114135937}, {\"Date\": \"2022-02-28T00:00:00-05:00\", \"Stock\": \"MSFT\", \"Value\": 1033242.2534453003}, {\"Date\": \"2022-03-31T00:00:00-04:00\", \"Stock\": \"MSFT\", \"Value\": 989068.670051579}, {\"Date\": \"2022-04-30T00:00:00-04:00\", \"Stock\": \"MSFT\", \"Value\": 1037591.9289359368}, {\"Date\": \"2022-05-31T00:00:00-04:00\", \"Stock\": \"MSFT\", \"Value\": 953925.8704814734}, {\"Date\": \"2022-06-30T00:00:00-04:00\", \"Stock\": \"MSFT\", \"Value\": 915645.8496165548}, {\"Date\": \"2022-07-31T00:00:00-04:00\", \"Stock\": \"MSFT\", \"Value\": 872488.5062969155}, {\"Date\": \"2022-08-31T00:00:00-04:00\", \"Stock\": \"MSFT\", \"Value\": 934434.6378209313}, {\"Date\": \"2022-09-30T00:00:00-04:00\", \"Stock\": \"MSFT\", \"Value\": 877102.5301869878}, {\"Date\": \"2022-10-31T00:00:00-04:00\", \"Stock\": \"MSFT\", \"Value\": 810881.9438348435}, {\"Date\": \"2022-11-30T00:00:00-05:00\", \"Stock\": \"MSFT\", \"Value\": 768542.4743062304}, {\"Date\": \"2022-12-31T00:00:00-05:00\", \"Stock\": \"MSFT\", \"Value\": 860287.2214157301}, {\"Date\": \"2023-01-31T00:00:00-05:00\", \"Stock\": \"MSFT\", \"Value\": 809248.820839759}, {\"Date\": \"2023-02-28T00:00:00-05:00\", \"Stock\": \"MSFT\", \"Value\": 853734.2576570403}, {\"Date\": \"2023-03-31T00:00:00-04:00\", \"Stock\": \"MSFT\", \"Value\": 833929.8067877148}, {\"Date\": \"2023-04-30T00:00:00-04:00\", \"Stock\": \"MSFT\", \"Value\": 972630.3569524318}, {\"Date\": \"2023-05-31T00:00:00-04:00\", \"Stock\": \"MSFT\", \"Value\": 1034700.0540309099}, {\"Date\": \"2023-06-30T00:00:00-04:00\", \"Stock\": \"MSFT\", \"Value\": 1128658.167822421}, {\"Date\": \"2023-07-31T00:00:00-04:00\", \"Stock\": \"MSFT\", \"Value\": 1147017.993532717}, {\"Date\": \"2023-08-31T00:00:00-04:00\", \"Stock\": \"MSFT\", \"Value\": 1141418.3847443513}, {\"Date\": \"2023-09-30T00:00:00-04:00\", \"Stock\": \"MSFT\", \"Value\": 1117716.6846859653}, {\"Date\": \"2023-10-31T00:00:00-04:00\", \"Stock\": \"MSFT\", \"Value\": 1094386.9410927107}, {\"Date\": \"2023-11-30T00:00:00-05:00\", \"Stock\": \"MSFT\", \"Value\": 1176924.9520682474}, {\"Date\": \"2023-12-31T00:00:00-05:00\", \"Stock\": \"MSFT\", \"Value\": 1276229.8744313484}, {\"Date\": \"2024-01-31T00:00:00-05:00\", \"Stock\": \"MSFT\", \"Value\": 1263825.4465188256}, {\"Date\": \"2024-02-29T00:00:00-05:00\", \"Stock\": \"MSFT\", \"Value\": 1375974.0476694452}, {\"Date\": \"2024-03-31T00:00:00-04:00\", \"Stock\": \"MSFT\", \"Value\": 1418530.990474242}, {\"Date\": \"2024-04-30T00:00:00-04:00\", \"Stock\": \"MSFT\", \"Value\": 1449496.2874588242}, {\"Date\": \"2024-05-31T00:00:00-04:00\", \"Stock\": \"MSFT\", \"Value\": 1348338.5116796622}, {\"Date\": \"2024-06-30T00:00:00-04:00\", \"Stock\": \"MSFT\", \"Value\": 1414317.6885224727}, {\"Date\": \"2024-07-31T00:00:00-04:00\", \"Stock\": \"MSFT\", \"Value\": 1562104.0863453979}, {\"Date\": \"2024-08-31T00:00:00-04:00\", \"Stock\": \"MSFT\", \"Value\": 1426596.0312770437}, {\"Date\": \"2024-09-30T00:00:00-04:00\", \"Stock\": \"MSFT\", \"Value\": 1402887.2973255832}, {\"Date\": \"2024-10-31T00:00:00-04:00\", \"Stock\": \"MSFT\", \"Value\": 1441433.766259512}, {\"Date\": \"2024-11-30T00:00:00-05:00\", \"Stock\": \"MSFT\", \"Value\": 1406073.7558719194}, {\"Date\": \"2024-12-31T00:00:00-05:00\", \"Stock\": \"MSFT\", \"Value\": 1479646.9126484813}, {\"Date\": \"2025-01-31T00:00:00-05:00\", \"Stock\": \"MSFT\", \"Value\": 1437074.9572062262}, {\"Date\": \"2025-02-28T00:00:00-05:00\", \"Stock\": \"MSFT\", \"Value\": 1410776.595784995}, {\"Date\": \"2025-03-31T00:00:00-04:00\", \"Stock\": \"MSFT\", \"Value\": 1336443.88353984}, {\"Date\": \"2025-04-30T00:00:00-04:00\", \"Stock\": \"MSFT\", \"Value\": 1314771.3041582985}, {\"Date\": \"2025-05-31T00:00:00-04:00\", \"Stock\": \"MSFT\", \"Value\": 1463417.9366059166}, {\"Date\": \"2015-01-31T00:00:00-05:00\", \"Stock\": \"^IXIC\", \"Value\": 88155.01773903391}, {\"Date\": \"2015-02-28T00:00:00-05:00\", \"Stock\": \"^IXIC\", \"Value\": 87220.27744590248}, {\"Date\": \"2015-03-31T00:00:00-04:00\", \"Stock\": \"^IXIC\", \"Value\": 93401.07757134829}, {\"Date\": \"2015-04-30T00:00:00-04:00\", \"Stock\": \"^IXIC\", \"Value\": 91016.2996113238}, {\"Date\": \"2015-05-31T00:00:00-04:00\", \"Stock\": \"^IXIC\", \"Value\": 93350.53679404687}, {\"Date\": \"2015-06-30T00:00:00-04:00\", \"Stock\": \"^IXIC\", \"Value\": 94796.65868900486}, {\"Date\": \"2015-07-31T00:00:00-04:00\", \"Stock\": \"^IXIC\", \"Value\": 93494.70094638174}, {\"Date\": \"2015-08-31T00:00:00-04:00\", \"Stock\": \"^IXIC\", \"Value\": 95401.8457947921}, {\"Date\": \"2015-09-30T00:00:00-04:00\", \"Stock\": \"^IXIC\", \"Value\": 86463.27677283747}, {\"Date\": \"2015-10-31T00:00:00-04:00\", \"Stock\": \"^IXIC\", \"Value\": 86295.05338921788}, {\"Date\": \"2015-11-30T00:00:00-05:00\", \"Stock\": \"^IXIC\", \"Value\": 95621.35668431467}, {\"Date\": \"2015-12-31T00:00:00-05:00\", \"Stock\": \"^IXIC\", \"Value\": 96165.19366097044}, {\"Date\": \"2016-01-31T00:00:00-05:00\", \"Stock\": \"^IXIC\", \"Value\": 91442.63611058859}, {\"Date\": \"2016-02-29T00:00:00-05:00\", \"Stock\": \"^IXIC\", \"Value\": 86169.91260333035}, {\"Date\": \"2016-03-31T00:00:00-04:00\", \"Stock\": \"^IXIC\", \"Value\": 87461.05188767707}, {\"Date\": \"2016-04-30T00:00:00-04:00\", \"Stock\": \"^IXIC\", \"Value\": 91656.18227774496}, {\"Date\": \"2016-05-31T00:00:00-04:00\", \"Stock\": \"^IXIC\", \"Value\": 89848.06092705991}, {\"Date\": \"2016-06-30T00:00:00-04:00\", \"Stock\": \"^IXIC\", \"Value\": 92359.47313017506}, {\"Date\": \"2016-07-31T00:00:00-04:00\", \"Stock\": \"^IXIC\", \"Value\": 90686.93765935315}, {\"Date\": \"2016-08-31T00:00:00-04:00\", \"Stock\": \"^IXIC\", \"Value\": 96685.34477064226}, {\"Date\": \"2016-09-30T00:00:00-04:00\", \"Stock\": \"^IXIC\", \"Value\": 97487.47699187046}, {\"Date\": \"2016-10-31T00:00:00-04:00\", \"Stock\": \"^IXIC\", \"Value\": 98861.23906404703}, {\"Date\": \"2016-11-30T00:00:00-05:00\", \"Stock\": \"^IXIC\", \"Value\": 96114.27951936824}, {\"Date\": \"2016-12-31T00:00:00-05:00\", \"Stock\": \"^IXIC\", \"Value\": 97933.21022188335}, {\"Date\": \"2017-01-31T00:00:00-05:00\", \"Stock\": \"^IXIC\", \"Value\": 101252.35511073848}, {\"Date\": \"2017-02-28T00:00:00-05:00\", \"Stock\": \"^IXIC\", \"Value\": 105235.43279085316}, {\"Date\": \"2017-03-31T00:00:00-04:00\", \"Stock\": \"^IXIC\", \"Value\": 110110.16816636718}, {\"Date\": \"2017-04-30T00:00:00-04:00\", \"Stock\": \"^IXIC\", \"Value\": 109935.79793145417}, {\"Date\": \"2017-05-31T00:00:00-04:00\", \"Stock\": \"^IXIC\", \"Value\": 113608.3548971183}, {\"Date\": \"2017-06-30T00:00:00-04:00\", \"Stock\": \"^IXIC\", \"Value\": 116503.39436606699}, {\"Date\": \"2017-07-31T00:00:00-04:00\", \"Stock\": \"^IXIC\", \"Value\": 113952.63320822762}, {\"Date\": \"2017-08-31T00:00:00-04:00\", \"Stock\": \"^IXIC\", \"Value\": 118668.84356549614}, {\"Date\": \"2017-09-30T00:00:00-04:00\", \"Stock\": \"^IXIC\", \"Value\": 120018.91977068874}, {\"Date\": \"2017-10-31T00:00:00-04:00\", \"Stock\": \"^IXIC\", \"Value\": 121536.84599520016}, {\"Date\": \"2017-11-30T00:00:00-05:00\", \"Stock\": \"^IXIC\", \"Value\": 125263.2949104264}, {\"Date\": \"2017-12-31T00:00:00-05:00\", \"Stock\": \"^IXIC\", \"Value\": 127707.56528452475}, {\"Date\": \"2018-01-31T00:00:00-05:00\", \"Stock\": \"^IXIC\", \"Value\": 130678.69821926273}, {\"Date\": \"2018-02-28T00:00:00-05:00\", \"Stock\": \"^IXIC\", \"Value\": 137746.30230419768}, {\"Date\": \"2018-03-31T00:00:00-04:00\", \"Stock\": \"^IXIC\", \"Value\": 133917.46050609273}, {\"Date\": \"2018-04-30T00:00:00-04:00\", \"Stock\": \"^IXIC\", \"Value\": 128127.75493249614}, {\"Date\": \"2018-05-31T00:00:00-04:00\", \"Stock\": \"^IXIC\", \"Value\": 132987.57394887152}, {\"Date\": \"2018-06-30T00:00:00-04:00\", \"Stock\": \"^IXIC\", \"Value\": 140888.27217266074}, {\"Date\": \"2018-07-31T00:00:00-04:00\", \"Stock\": \"^IXIC\", \"Value\": 141137.43365153347}, {\"Date\": \"2018-08-31T00:00:00-04:00\", \"Stock\": \"^IXIC\", \"Value\": 143740.97577247897}, {\"Date\": \"2018-09-30T00:00:00-04:00\", \"Stock\": \"^IXIC\", \"Value\": 150901.8298681466}, {\"Date\": \"2018-10-31T00:00:00-04:00\", \"Stock\": \"^IXIC\", \"Value\": 149895.6586097625}, {\"Date\": \"2018-11-30T00:00:00-05:00\", \"Stock\": \"^IXIC\", \"Value\": 138645.2360502392}, {\"Date\": \"2018-12-31T00:00:00-05:00\", \"Stock\": \"^IXIC\", \"Value\": 138784.17310236307}, {\"Date\": \"2019-01-31T00:00:00-05:00\", \"Stock\": \"^IXIC\", \"Value\": 124319.79421589606}, {\"Date\": \"2019-02-28T00:00:00-05:00\", \"Stock\": \"^IXIC\", \"Value\": 135471.19327769408}, {\"Date\": \"2019-03-31T00:00:00-04:00\", \"Stock\": \"^IXIC\", \"Value\": 141653.29562496944}, {\"Date\": \"2019-04-30T00:00:00-04:00\", \"Stock\": \"^IXIC\", \"Value\": 146009.1912190876}, {\"Date\": \"2019-05-31T00:00:00-04:00\", \"Stock\": \"^IXIC\", \"Value\": 150125.80582863427}, {\"Date\": \"2019-06-30T00:00:00-04:00\", \"Stock\": \"^IXIC\", \"Value\": 136760.83910483765}, {\"Date\": \"2019-07-31T00:00:00-04:00\", \"Stock\": \"^IXIC\", \"Value\": 150900.15428201624}, {\"Date\": \"2019-08-31T00:00:00-04:00\", \"Stock\": \"^IXIC\", \"Value\": 151272.40759634535}, {\"Date\": \"2019-09-30T00:00:00-04:00\", \"Stock\": \"^IXIC\", \"Value\": 146853.10381621827}, {\"Date\": \"2019-10-31T00:00:00-04:00\", \"Stock\": \"^IXIC\", \"Value\": 147496.9022545745}, {\"Date\": \"2019-11-30T00:00:00-05:00\", \"Stock\": \"^IXIC\", \"Value\": 156406.38528685333}, {\"Date\": \"2019-12-31T00:00:00-05:00\", \"Stock\": \"^IXIC\", \"Value\": 159793.03626257967}, {\"Date\": \"2020-01-31T00:00:00-05:00\", \"Stock\": \"^IXIC\", \"Value\": 169569.37103037155}, {\"Date\": \"2020-02-29T00:00:00-05:00\", \"Stock\": \"^IXIC\", \"Value\": 172948.9371908293}, {\"Date\": \"2020-03-31T00:00:00-04:00\", \"Stock\": \"^IXIC\", \"Value\": 166957.9882591096}, {\"Date\": \"2020-04-30T00:00:00-04:00\", \"Stock\": \"^IXIC\", \"Value\": 137274.8342567697}, {\"Date\": \"2020-05-31T00:00:00-04:00\", \"Stock\": \"^IXIC\", \"Value\": 160482.33961339985}, {\"Date\": \"2020-06-30T00:00:00-04:00\", \"Stock\": \"^IXIC\", \"Value\": 178145.74936122555}, {\"Date\": \"2020-07-31T00:00:00-04:00\", \"Stock\": \"^IXIC\", \"Value\": 189383.86911171567}, {\"Date\": \"2020-08-31T00:00:00-04:00\", \"Stock\": \"^IXIC\", \"Value\": 203337.2397606569}, {\"Date\": \"2020-09-30T00:00:00-04:00\", \"Stock\": \"^IXIC\", \"Value\": 222674.86967188117}, {\"Date\": \"2020-10-31T00:00:00-04:00\", \"Stock\": \"^IXIC\", \"Value\": 211239.4314416493}, {\"Date\": \"2020-11-30T00:00:00-05:00\", \"Stock\": \"^IXIC\", \"Value\": 204359.45657752836}, {\"Date\": \"2020-12-31T00:00:00-05:00\", \"Stock\": \"^IXIC\", \"Value\": 230422.83457731022}, {\"Date\": \"2021-01-31T00:00:00-05:00\", \"Stock\": \"^IXIC\", \"Value\": 236826.12340023852}, {\"Date\": \"2021-02-28T00:00:00-05:00\", \"Stock\": \"^IXIC\", \"Value\": 249973.24571419656}, {\"Date\": \"2021-03-31T00:00:00-04:00\", \"Stock\": \"^IXIC\", \"Value\": 253431.7101259227}, {\"Date\": \"2021-04-30T00:00:00-04:00\", \"Stock\": \"^IXIC\", \"Value\": 251404.08699216144}, {\"Date\": \"2021-05-31T00:00:00-04:00\", \"Stock\": \"^IXIC\", \"Value\": 259144.0200119004}, {\"Date\": \"2021-06-30T00:00:00-04:00\", \"Stock\": \"^IXIC\", \"Value\": 256185.39022801557}, {\"Date\": \"2021-07-31T00:00:00-04:00\", \"Stock\": \"^IXIC\", \"Value\": 270842.4159872414}, {\"Date\": \"2021-08-31T00:00:00-04:00\", \"Stock\": \"^IXIC\", \"Value\": 273801.99284154765}, {\"Date\": \"2021-09-30T00:00:00-04:00\", \"Stock\": \"^IXIC\", \"Value\": 285519.96767656395}, {\"Date\": \"2021-10-31T00:00:00-04:00\", \"Stock\": \"^IXIC\", \"Value\": 271668.9899105014}, {\"Date\": \"2021-11-30T00:00:00-05:00\", \"Stock\": \"^IXIC\", \"Value\": 290863.9400201476}, {\"Date\": \"2021-12-31T00:00:00-05:00\", \"Stock\": \"^IXIC\", \"Value\": 284488.0616007648}, {\"Date\": \"2022-01-31T00:00:00-05:00\", \"Stock\": \"^IXIC\", \"Value\": 295281.75034307153}, {\"Date\": \"2022-02-28T00:00:00-05:00\", \"Stock\": \"^IXIC\", \"Value\": 267552.93079418276}, {\"Date\": \"2022-03-31T00:00:00-04:00\", \"Stock\": \"^IXIC\", \"Value\": 252380.4073193754}, {\"Date\": \"2022-04-30T00:00:00-04:00\", \"Stock\": \"^IXIC\", \"Value\": 265977.0056128006}, {\"Date\": \"2022-05-31T00:00:00-04:00\", \"Stock\": \"^IXIC\", \"Value\": 233796.79116680985}, {\"Date\": \"2022-06-30T00:00:00-04:00\", \"Stock\": \"^IXIC\", \"Value\": 223696.7040180055}, {\"Date\": \"2022-07-31T00:00:00-04:00\", \"Stock\": \"^IXIC\", \"Value\": 207534.41910115592}, {\"Date\": \"2022-08-31T00:00:00-04:00\", \"Stock\": \"^IXIC\", \"Value\": 230681.51229262975}, {\"Date\": \"2022-09-30T00:00:00-04:00\", \"Stock\": \"^IXIC\", \"Value\": 219792.69761164003}, {\"Date\": \"2022-10-31T00:00:00-04:00\", \"Stock\": \"^IXIC\", \"Value\": 201707.78688756702}, {\"Date\": \"2022-11-30T00:00:00-05:00\", \"Stock\": \"^IXIC\", \"Value\": 203114.36859242726}, {\"Date\": \"2022-12-31T00:00:00-05:00\", \"Stock\": \"^IXIC\", \"Value\": 214147.72079005264}, {\"Date\": \"2023-01-31T00:00:00-05:00\", \"Stock\": \"^IXIC\", \"Value\": 193717.20803819853}, {\"Date\": \"2023-02-28T00:00:00-05:00\", \"Stock\": \"^IXIC\", \"Value\": 220374.3991922632}, {\"Date\": \"2023-03-31T00:00:00-04:00\", \"Stock\": \"^IXIC\", \"Value\": 212227.33516863396}, {\"Date\": \"2023-04-30T00:00:00-04:00\", \"Stock\": \"^IXIC\", \"Value\": 227333.27230765249}, {\"Date\": \"2023-05-31T00:00:00-04:00\", \"Stock\": \"^IXIC\", \"Value\": 227765.00892960912}, {\"Date\": \"2023-06-30T00:00:00-04:00\", \"Stock\": \"^IXIC\", \"Value\": 244333.31386389298}, {\"Date\": \"2023-07-31T00:00:00-04:00\", \"Stock\": \"^IXIC\", \"Value\": 257682.78141598383}, {\"Date\": \"2023-08-31T00:00:00-04:00\", \"Stock\": \"^IXIC\", \"Value\": 266394.95507496723}, {\"Date\": \"2023-09-30T00:00:00-04:00\", \"Stock\": \"^IXIC\", \"Value\": 261693.27860609026}, {\"Date\": \"2023-10-31T00:00:00-04:00\", \"Stock\": \"^IXIC\", \"Value\": 248189.93032339777}, {\"Date\": \"2023-11-30T00:00:00-05:00\", \"Stock\": \"^IXIC\", \"Value\": 243596.43843728493}, {\"Date\": \"2023-12-31T00:00:00-05:00\", \"Stock\": \"^IXIC\", \"Value\": 266788.84530584916}, {\"Date\": \"2024-01-31T00:00:00-05:00\", \"Stock\": \"^IXIC\", \"Value\": 275384.82070927124}, {\"Date\": \"2024-02-29T00:00:00-05:00\", \"Stock\": \"^IXIC\", \"Value\": 286494.61241764756}, {\"Date\": \"2024-03-31T00:00:00-04:00\", \"Stock\": \"^IXIC\", \"Value\": 303527.67394839163}, {\"Date\": \"2024-04-30T00:00:00-04:00\", \"Stock\": \"^IXIC\", \"Value\": 305800.91615339136}, {\"Date\": \"2024-05-31T00:00:00-04:00\", \"Stock\": \"^IXIC\", \"Value\": 291042.2442398884}, {\"Date\": \"2024-06-30T00:00:00-04:00\", \"Stock\": \"^IXIC\", \"Value\": 313854.7301662879}, {\"Date\": \"2024-07-31T00:00:00-04:00\", \"Stock\": \"^IXIC\", \"Value\": 333448.99794884695}, {\"Date\": \"2024-08-31T00:00:00-04:00\", \"Stock\": \"^IXIC\", \"Value\": 320670.9416929918}, {\"Date\": \"2024-09-30T00:00:00-04:00\", \"Stock\": \"^IXIC\", \"Value\": 319592.0463539719}, {\"Date\": \"2024-10-31T00:00:00-04:00\", \"Stock\": \"^IXIC\", \"Value\": 334028.2407889528}, {\"Date\": \"2024-11-30T00:00:00-05:00\", \"Stock\": \"^IXIC\", \"Value\": 340174.54569558456}, {\"Date\": \"2024-12-31T00:00:00-05:00\", \"Stock\": \"^IXIC\", \"Value\": 361883.69458093226}, {\"Date\": \"2025-01-31T00:00:00-05:00\", \"Stock\": \"^IXIC\", \"Value\": 359586.7574025023}, {\"Date\": \"2025-02-28T00:00:00-05:00\", \"Stock\": \"^IXIC\", \"Value\": 361660.1131098865}, {\"Date\": \"2025-03-31T00:00:00-04:00\", \"Stock\": \"^IXIC\", \"Value\": 342231.0726900945}, {\"Date\": \"2025-04-30T00:00:00-04:00\", \"Stock\": \"^IXIC\", \"Value\": 325440.4976130408}, {\"Date\": \"2025-05-31T00:00:00-04:00\", \"Stock\": \"^IXIC\", \"Value\": 330305.3433878072}, {\"Date\": \"2015-01-31T00:00:00-05:00\", \"Stock\": \"COST\", \"Value\": 125093.60480076015}, {\"Date\": \"2015-02-28T00:00:00-05:00\", \"Stock\": \"COST\", \"Value\": 128971.60938812858}, {\"Date\": \"2015-03-31T00:00:00-04:00\", \"Stock\": \"COST\", \"Value\": 135339.0939142864}, {\"Date\": \"2015-04-30T00:00:00-04:00\", \"Stock\": \"COST\", \"Value\": 137443.21073372633}, {\"Date\": \"2015-05-31T00:00:00-04:00\", \"Stock\": \"COST\", \"Value\": 133370.15228748473}, {\"Date\": \"2015-06-30T00:00:00-04:00\", \"Stock\": \"COST\", \"Value\": 130618.21017094686}, {\"Date\": \"2015-07-31T00:00:00-04:00\", \"Stock\": \"COST\", \"Value\": 125205.94088090461}, {\"Date\": \"2015-08-31T00:00:00-04:00\", \"Stock\": \"COST\", \"Value\": 133489.39263383762}, {\"Date\": \"2015-09-30T00:00:00-04:00\", \"Stock\": \"COST\", \"Value\": 127215.13237846474}, {\"Date\": \"2015-10-31T00:00:00-04:00\", \"Stock\": \"COST\", \"Value\": 132973.36544264545}, {\"Date\": \"2015-11-30T00:00:00-05:00\", \"Stock\": \"COST\", \"Value\": 146393.94147103286}, {\"Date\": \"2015-12-31T00:00:00-05:00\", \"Stock\": \"COST\", \"Value\": 148745.89476420003}, {\"Date\": \"2016-01-31T00:00:00-05:00\", \"Stock\": \"COST\", \"Value\": 147132.03087647137}, {\"Date\": \"2016-02-29T00:00:00-05:00\", \"Stock\": \"COST\", \"Value\": 139486.75679261328}, {\"Date\": \"2016-03-31T00:00:00-04:00\", \"Stock\": \"COST\", \"Value\": 139189.85666868038}, {\"Date\": \"2016-04-30T00:00:00-04:00\", \"Stock\": \"COST\", \"Value\": 146337.99023159037}, {\"Date\": \"2016-05-31T00:00:00-04:00\", \"Stock\": \"COST\", \"Value\": 139981.7459842356}, {\"Date\": \"2016-06-30T00:00:00-04:00\", \"Stock\": \"COST\", \"Value\": 141456.45722161903}, {\"Date\": \"2016-07-31T00:00:00-04:00\", \"Stock\": \"COST\", \"Value\": 144786.06461607912}, {\"Date\": \"2016-08-31T00:00:00-04:00\", \"Stock\": \"COST\", \"Value\": 155405.49312346513}, {\"Date\": \"2016-09-30T00:00:00-04:00\", \"Stock\": \"COST\", \"Value\": 145268.24589357572}, {\"Date\": \"2016-10-31T00:00:00-04:00\", \"Stock\": \"COST\", \"Value\": 140432.49117042095}, {\"Date\": \"2016-11-30T00:00:00-05:00\", \"Stock\": \"COST\", \"Value\": 136387.17486629935}, {\"Date\": \"2016-12-31T00:00:00-05:00\", \"Stock\": \"COST\", \"Value\": 141545.64566529667}, {\"Date\": \"2017-01-31T00:00:00-05:00\", \"Stock\": \"COST\", \"Value\": 148998.8510681833}, {\"Date\": \"2017-02-28T00:00:00-05:00\", \"Stock\": \"COST\", \"Value\": 150985.76213179552}, {\"Date\": \"2017-03-31T00:00:00-04:00\", \"Stock\": \"COST\", \"Value\": 166357.7272744621}, {\"Date\": \"2017-04-30T00:00:00-04:00\", \"Stock\": \"COST\", \"Value\": 155919.42735473177}, {\"Date\": \"2017-05-31T00:00:00-04:00\", \"Stock\": \"COST\", \"Value\": 166357.7272744621}, {\"Date\": \"2017-06-30T00:00:00-04:00\", \"Stock\": \"COST\", \"Value\": 176287.21279318168}, {\"Date\": \"2017-07-31T00:00:00-04:00\", \"Stock\": \"COST\", \"Value\": 155001.54351935897}, {\"Date\": \"2017-08-31T00:00:00-04:00\", \"Stock\": \"COST\", \"Value\": 155879.9196092059}, {\"Date\": \"2017-09-30T00:00:00-04:00\", \"Stock\": \"COST\", \"Value\": 154929.26552480046}, {\"Date\": \"2017-10-31T00:00:00-04:00\", \"Stock\": \"COST\", \"Value\": 162419.210295941}, {\"Date\": \"2017-11-30T00:00:00-05:00\", \"Stock\": \"COST\", \"Value\": 159286.14101081918}, {\"Date\": \"2017-12-31T00:00:00-05:00\", \"Stock\": \"COST\", \"Value\": 181794.5825133047}, {\"Date\": \"2018-01-31T00:00:00-05:00\", \"Stock\": \"COST\", \"Value\": 184927.06810442338}, {\"Date\": \"2018-02-28T00:00:00-05:00\", \"Stock\": \"COST\", \"Value\": 189984.24297842107}, {\"Date\": \"2018-03-31T00:00:00-04:00\", \"Stock\": \"COST\", \"Value\": 186120.93914144565}, {\"Date\": \"2018-04-30T00:00:00-04:00\", \"Stock\": \"COST\", \"Value\": 179937.61841175982}, {\"Date\": \"2018-05-31T00:00:00-04:00\", \"Stock\": \"COST\", \"Value\": 193525.21430989882}, {\"Date\": \"2018-06-30T00:00:00-04:00\", \"Stock\": \"COST\", \"Value\": 194662.33361284577}, {\"Date\": \"2018-07-31T00:00:00-04:00\", \"Stock\": \"COST\", \"Value\": 205386.37676256348}, {\"Date\": \"2018-08-31T00:00:00-04:00\", \"Stock\": \"COST\", \"Value\": 214411.9537480423}, {\"Date\": \"2018-09-30T00:00:00-04:00\", \"Stock\": \"COST\", \"Value\": 232317.53443462026}, {\"Date\": \"2018-10-31T00:00:00-04:00\", \"Stock\": \"COST\", \"Value\": 232287.84942531845}, {\"Date\": \"2018-11-30T00:00:00-05:00\", \"Stock\": \"COST\", \"Value\": 227288.66038128844}, {\"Date\": \"2018-12-31T00:00:00-05:00\", \"Stock\": \"COST\", \"Value\": 230289.81482170383}, {\"Date\": \"2019-01-31T00:00:00-05:00\", \"Stock\": \"COST\", \"Value\": 203180.53041686447}, {\"Date\": \"2019-02-28T00:00:00-05:00\", \"Stock\": \"COST\", \"Value\": 208648.07552900276}, {\"Date\": \"2019-03-31T00:00:00-04:00\", \"Stock\": \"COST\", \"Value\": 218335.44477522574}, {\"Date\": \"2019-04-30T00:00:00-04:00\", \"Stock\": \"COST\", \"Value\": 242960.8443652199}, {\"Date\": \"2019-05-31T00:00:00-04:00\", \"Stock\": \"COST\", \"Value\": 240373.9625742803}, {\"Date\": \"2019-06-30T00:00:00-04:00\", \"Stock\": \"COST\", \"Value\": 240504.3264606356}, {\"Date\": \"2019-07-31T00:00:00-04:00\", \"Stock\": \"COST\", \"Value\": 262931.6011427436}, {\"Date\": \"2019-08-31T00:00:00-04:00\", \"Stock\": \"COST\", \"Value\": 273925.744523165}, {\"Date\": \"2019-09-30T00:00:00-04:00\", \"Stock\": \"COST\", \"Value\": 292009.1350800666}, {\"Date\": \"2019-10-31T00:00:00-04:00\", \"Stock\": \"COST\", \"Value\": 283890.28503601515}, {\"Date\": \"2019-11-30T00:00:00-05:00\", \"Stock\": \"COST\", \"Value\": 296691.82855863025}, {\"Date\": \"2019-12-31T00:00:00-05:00\", \"Stock\": \"COST\", \"Value\": 297994.4668038921}, {\"Date\": \"2020-01-31T00:00:00-05:00\", \"Stock\": \"COST\", \"Value\": 292082.48040080233}, {\"Date\": \"2020-02-29T00:00:00-05:00\", \"Stock\": \"COST\", \"Value\": 302613.95456040296}, {\"Date\": \"2020-03-31T00:00:00-04:00\", \"Stock\": \"COST\", \"Value\": 310421.4455462155}, {\"Date\": \"2020-04-30T00:00:00-04:00\", \"Stock\": \"COST\", \"Value\": 287968.8051904289}, {\"Date\": \"2020-05-31T00:00:00-04:00\", \"Stock\": \"COST\", \"Value\": 303864.3271769279}, {\"Date\": \"2020-06-30T00:00:00-04:00\", \"Stock\": \"COST\", \"Value\": 310275.25521388976}, {\"Date\": \"2020-07-31T00:00:00-04:00\", \"Stock\": \"COST\", \"Value\": 306712.38701880904}, {\"Date\": \"2020-08-31T00:00:00-04:00\", \"Stock\": \"COST\", \"Value\": 332153.54067060055}, {\"Date\": \"2020-09-30T00:00:00-04:00\", \"Stock\": \"COST\", \"Value\": 354403.32234484365}, {\"Date\": \"2020-10-31T00:00:00-04:00\", \"Stock\": \"COST\", \"Value\": 361544.3348409155}, {\"Date\": \"2020-11-30T00:00:00-05:00\", \"Stock\": \"COST\", \"Value\": 368231.6002959288}, {\"Date\": \"2020-12-31T00:00:00-05:00\", \"Stock\": \"COST\", \"Value\": 401904.4737350048}, {\"Date\": \"2021-01-31T00:00:00-05:00\", \"Stock\": \"COST\", \"Value\": 394220.2589226524}, {\"Date\": \"2021-02-28T00:00:00-05:00\", \"Stock\": \"COST\", \"Value\": 363493.57262586884}, {\"Date\": \"2021-03-31T00:00:00-04:00\", \"Stock\": \"COST\", \"Value\": 344728.91110549006}, {\"Date\": \"2021-04-30T00:00:00-04:00\", \"Stock\": \"COST\", \"Value\": 368803.92060447956}, {\"Date\": \"2021-05-31T00:00:00-04:00\", \"Stock\": \"COST\", \"Value\": 394980.46199232363}, {\"Date\": \"2021-06-30T00:00:00-04:00\", \"Stock\": \"COST\", \"Value\": 393845.5607265886}, {\"Date\": \"2021-07-31T00:00:00-04:00\", \"Stock\": \"COST\", \"Value\": 410818.41507314285}, {\"Date\": \"2021-08-31T00:00:00-04:00\", \"Stock\": \"COST\", \"Value\": 447465.49296666135}, {\"Date\": \"2021-09-30T00:00:00-04:00\", \"Stock\": \"COST\", \"Value\": 476258.88466326264}, {\"Date\": \"2021-10-31T00:00:00-04:00\", \"Stock\": \"COST\", \"Value\": 467714.6717836761}, {\"Date\": \"2021-11-30T00:00:00-05:00\", \"Stock\": \"COST\", \"Value\": 513967.48514783755}, {\"Date\": \"2021-12-31T00:00:00-05:00\", \"Stock\": \"COST\", \"Value\": 553643.2678387187}, {\"Date\": \"2022-01-31T00:00:00-05:00\", \"Stock\": \"COST\", \"Value\": 592169.7070065307}, {\"Date\": \"2022-02-28T00:00:00-05:00\", \"Stock\": \"COST\", \"Value\": 531250.5311646244}, {\"Date\": \"2022-03-31T00:00:00-04:00\", \"Stock\": \"COST\", \"Value\": 547251.0180098569}, {\"Date\": \"2022-04-30T00:00:00-04:00\", \"Stock\": \"COST\", \"Value\": 602339.1908223641}, {\"Date\": \"2022-05-31T00:00:00-04:00\", \"Stock\": \"COST\", \"Value\": 554451.6340021339}, {\"Date\": \"2022-06-30T00:00:00-04:00\", \"Stock\": \"COST\", \"Value\": 479022.258843776}, {\"Date\": \"2022-07-31T00:00:00-04:00\", \"Stock\": \"COST\", \"Value\": 509179.39320928085}, {\"Date\": \"2022-08-31T00:00:00-04:00\", \"Stock\": \"COST\", \"Value\": 574161.8464536334}, {\"Date\": \"2022-09-30T00:00:00-04:00\", \"Stock\": \"COST\", \"Value\": 555639.6680991248}, {\"Date\": \"2022-10-31T00:00:00-04:00\", \"Stock\": \"COST\", \"Value\": 501626.6262864325}, {\"Date\": \"2022-11-30T00:00:00-05:00\", \"Stock\": \"COST\", \"Value\": 525916.1683470281}, {\"Date\": \"2022-12-31T00:00:00-05:00\", \"Stock\": \"COST\", \"Value\": 530018.7033404275}, {\"Date\": \"2023-01-31T00:00:00-05:00\", \"Stock\": \"COST\", \"Value\": 476812.6601794855}, {\"Date\": \"2023-02-28T00:00:00-05:00\", \"Stock\": \"COST\", \"Value\": 544798.0689771774}, {\"Date\": \"2023-03-31T00:00:00-04:00\", \"Stock\": \"COST\", \"Value\": 504397.40504229977}, {\"Date\": \"2023-04-30T00:00:00-04:00\", \"Stock\": \"COST\", \"Value\": 523744.2596383678}, {\"Date\": \"2023-05-31T00:00:00-04:00\", \"Stock\": \"COST\", \"Value\": 520119.35310924065}, {\"Date\": \"2023-06-30T00:00:00-04:00\", \"Stock\": \"COST\", \"Value\": 541277.6603515812}, {\"Date\": \"2023-07-31T00:00:00-04:00\", \"Stock\": \"COST\", \"Value\": 571308.750166354}, {\"Date\": \"2023-08-31T00:00:00-04:00\", \"Stock\": \"COST\", \"Value\": 586546.0320870419}, {\"Date\": \"2023-09-30T00:00:00-04:00\", \"Stock\": \"COST\", \"Value\": 575784.2489507793}, {\"Date\": \"2023-10-31T00:00:00-04:00\", \"Stock\": \"COST\", \"Value\": 604412.138382037}, {\"Date\": \"2023-11-30T00:00:00-05:00\", \"Stock\": \"COST\", \"Value\": 589061.4530550274}, {\"Date\": \"2023-12-31T00:00:00-05:00\", \"Stock\": \"COST\", \"Value\": 631954.8906305693}, {\"Date\": \"2024-01-31T00:00:00-05:00\", \"Stock\": \"COST\", \"Value\": 705294.474488021}, {\"Date\": \"2024-02-29T00:00:00-05:00\", \"Stock\": \"COST\", \"Value\": 764767.957022985}, {\"Date\": \"2024-03-31T00:00:00-04:00\", \"Stock\": \"COST\", \"Value\": 813575.515653971}, {\"Date\": \"2024-04-30T00:00:00-04:00\", \"Stock\": \"COST\", \"Value\": 782962.1994095659}, {\"Date\": \"2024-05-31T00:00:00-04:00\", \"Stock\": \"COST\", \"Value\": 785284.4343394884}, {\"Date\": \"2024-06-30T00:00:00-04:00\", \"Stock\": \"COST\", \"Value\": 886590.1653983681}, {\"Date\": \"2024-07-31T00:00:00-04:00\", \"Stock\": \"COST\", \"Value\": 919514.176108405}, {\"Date\": \"2024-08-31T00:00:00-04:00\", \"Stock\": \"COST\", \"Value\": 889485.6879011893}, {\"Date\": \"2024-09-30T00:00:00-04:00\", \"Stock\": \"COST\", \"Value\": 956647.0541822395}, {\"Date\": \"2024-10-31T00:00:00-04:00\", \"Stock\": \"COST\", \"Value\": 955351.2534953}, {\"Date\": \"2024-11-30T00:00:00-05:00\", \"Stock\": \"COST\", \"Value\": 956544.3907455754}, {\"Date\": \"2024-12-31T00:00:00-05:00\", \"Stock\": \"COST\", \"Value\": 1063057.2726833131}, {\"Date\": \"2025-01-31T00:00:00-05:00\", \"Stock\": \"COST\", \"Value\": 991979.6198267753}, {\"Date\": \"2025-02-28T00:00:00-05:00\", \"Stock\": \"COST\", \"Value\": 1096671.7100141905}, {\"Date\": \"2025-03-31T00:00:00-04:00\", \"Stock\": \"COST\", \"Value\": 1142657.5250643508}, {\"Date\": \"2025-04-30T00:00:00-04:00\", \"Stock\": \"COST\", \"Value\": 1041746.5712752423}, {\"Date\": \"2025-05-31T00:00:00-04:00\", \"Stock\": \"COST\", \"Value\": 1090471.945790588}, {\"Date\": \"2015-01-31T00:00:00-05:00\", \"Stock\": \"WMT\", \"Value\": 88663.58549699832}, {\"Date\": \"2015-02-28T00:00:00-05:00\", \"Stock\": \"WMT\", \"Value\": 88467.46049189875}, {\"Date\": \"2015-03-31T00:00:00-04:00\", \"Stock\": \"WMT\", \"Value\": 86661.19023861758}, {\"Date\": \"2015-04-30T00:00:00-04:00\", \"Stock\": \"WMT\", \"Value\": 83806.97896404106}, {\"Date\": \"2015-05-31T00:00:00-04:00\", \"Stock\": \"WMT\", \"Value\": 81616.00029655661}, {\"Date\": \"2015-06-30T00:00:00-04:00\", \"Stock\": \"WMT\", \"Value\": 78087.24402089424}, {\"Date\": \"2015-07-31T00:00:00-04:00\", \"Stock\": \"WMT\", \"Value\": 75109.22004436291}, {\"Date\": \"2015-08-31T00:00:00-04:00\", \"Stock\": \"WMT\", \"Value\": 75422.69663407854}, {\"Date\": \"2015-09-30T00:00:00-04:00\", \"Stock\": \"WMT\", \"Value\": 67142.44481965099}, {\"Date\": \"2015-10-31T00:00:00-04:00\", \"Stock\": \"WMT\", \"Value\": 67615.91201749767}, {\"Date\": \"2015-11-30T00:00:00-05:00\", \"Stock\": \"WMT\", \"Value\": 60609.18558882381}, {\"Date\": \"2015-12-31T00:00:00-05:00\", \"Stock\": \"WMT\", \"Value\": 62061.026210671516}, {\"Date\": \"2016-01-31T00:00:00-05:00\", \"Stock\": \"WMT\", \"Value\": 65201.216255717314}, {\"Date\": \"2016-02-29T00:00:00-05:00\", \"Stock\": \"WMT\", \"Value\": 71608.88253284257}, {\"Date\": \"2016-03-31T00:00:00-04:00\", \"Stock\": \"WMT\", \"Value\": 70505.56154172003}, {\"Date\": \"2016-04-30T00:00:00-04:00\", \"Stock\": \"WMT\", \"Value\": 73806.22804771583}, {\"Date\": \"2016-05-31T00:00:00-04:00\", \"Stock\": \"WMT\", \"Value\": 72235.19757722806}, {\"Date\": \"2016-06-30T00:00:00-04:00\", \"Stock\": \"WMT\", \"Value\": 75896.83822464409}, {\"Date\": \"2016-07-31T00:00:00-04:00\", \"Stock\": \"WMT\", \"Value\": 78383.68675580775}, {\"Date\": \"2016-08-31T00:00:00-04:00\", \"Stock\": \"WMT\", \"Value\": 79427.9222429167}, {\"Date\": \"2016-09-30T00:00:00-04:00\", \"Stock\": \"WMT\", \"Value\": 78952.76543750557}, {\"Date\": \"2016-10-31T00:00:00-04:00\", \"Stock\": \"WMT\", \"Value\": 78053.11104747845}, {\"Date\": \"2016-11-30T00:00:00-05:00\", \"Stock\": \"WMT\", \"Value\": 75115.68841323625}, {\"Date\": \"2016-12-31T00:00:00-05:00\", \"Stock\": \"WMT\", \"Value\": 76600.70118016376}, {\"Date\": \"2017-01-31T00:00:00-05:00\", \"Stock\": \"WMT\", \"Value\": 74954.62457798274}, {\"Date\": \"2017-02-28T00:00:00-05:00\", \"Stock\": \"WMT\", \"Value\": 72301.86818644515}, {\"Date\": \"2017-03-31T00:00:00-04:00\", \"Stock\": \"WMT\", \"Value\": 76908.73911892086}, {\"Date\": \"2017-04-30T00:00:00-04:00\", \"Stock\": \"WMT\", \"Value\": 78991.84395752633}, {\"Date\": \"2017-05-31T00:00:00-04:00\", \"Stock\": \"WMT\", \"Value\": 82730.82222157279}, {\"Date\": \"2017-06-30T00:00:00-04:00\", \"Stock\": \"WMT\", \"Value\": 88354.82965631469}, {\"Date\": \"2017-07-31T00:00:00-04:00\", \"Stock\": \"WMT\", \"Value\": 83428.38359351516}, {\"Date\": \"2017-08-31T00:00:00-04:00\", \"Stock\": \"WMT\", \"Value\": 89118.68455767435}, {\"Date\": \"2017-09-30T00:00:00-04:00\", \"Stock\": \"WMT\", \"Value\": 87306.3737760619}, {\"Date\": \"2017-10-31T00:00:00-04:00\", \"Stock\": \"WMT\", \"Value\": 87395.48788490125}, {\"Date\": \"2017-11-30T00:00:00-05:00\", \"Stock\": \"WMT\", \"Value\": 97967.65247706916}, {\"Date\": \"2017-12-31T00:00:00-05:00\", \"Stock\": \"WMT\", \"Value\": 108450.63769658623}, {\"Date\": \"2018-01-31T00:00:00-05:00\", \"Stock\": \"WMT\", \"Value\": 110410.86528120177}, {\"Date\": \"2018-02-28T00:00:00-05:00\", \"Stock\": \"WMT\", \"Value\": 118171.76943829638}, {\"Date\": \"2018-03-31T00:00:00-04:00\", \"Stock\": \"WMT\", \"Value\": 99760.63066740765}, {\"Date\": \"2018-04-30T00:00:00-04:00\", \"Stock\": \"WMT\", \"Value\": 96378.56568539904}, {\"Date\": \"2018-05-31T00:00:00-04:00\", \"Stock\": \"WMT\", \"Value\": 98473.99088130926}, {\"Date\": \"2018-06-30T00:00:00-04:00\", \"Stock\": \"WMT\", \"Value\": 94083.54925084501}, {\"Date\": \"2018-07-31T00:00:00-04:00\", \"Stock\": \"WMT\", \"Value\": 95228.58106905223}, {\"Date\": \"2018-08-31T00:00:00-04:00\", \"Stock\": \"WMT\", \"Value\": 100035.35505616006}, {\"Date\": \"2018-09-30T00:00:00-04:00\", \"Stock\": \"WMT\", \"Value\": 108735.02112944098}, {\"Date\": \"2018-10-31T00:00:00-04:00\", \"Stock\": \"WMT\", \"Value\": 107640.35121910986}, {\"Date\": \"2018-11-30T00:00:00-05:00\", \"Stock\": \"WMT\", \"Value\": 114687.17500841738}, {\"Date\": \"2018-12-31T00:00:00-05:00\", \"Stock\": \"WMT\", \"Value\": 112600.47340864467}, {\"Date\": \"2019-01-31T00:00:00-05:00\", \"Stock\": \"WMT\", \"Value\": 107012.4698432483}, {\"Date\": \"2019-02-28T00:00:00-05:00\", \"Stock\": \"WMT\", \"Value\": 107608.62575518504}, {\"Date\": \"2019-03-31T00:00:00-04:00\", \"Stock\": \"WMT\", \"Value\": 112274.8214923165}, {\"Date\": \"2019-04-30T00:00:00-04:00\", \"Stock\": \"WMT\", \"Value\": 112752.13925504182}, {\"Date\": \"2019-05-31T00:00:00-04:00\", \"Stock\": \"WMT\", \"Value\": 116832.49076245395}, {\"Date\": \"2019-06-30T00:00:00-04:00\", \"Stock\": \"WMT\", \"Value\": 118148.41949684772}, {\"Date\": \"2019-07-31T00:00:00-04:00\", \"Stock\": \"WMT\", \"Value\": 128183.44841728099}, {\"Date\": \"2019-08-31T00:00:00-04:00\", \"Stock\": \"WMT\", \"Value\": 126746.48431868854}, {\"Date\": \"2019-09-30T00:00:00-04:00\", \"Stock\": \"WMT\", \"Value\": 133495.5600968525}, {\"Date\": \"2019-10-31T00:00:00-04:00\", \"Stock\": \"WMT\", \"Value\": 137233.49413991495}, {\"Date\": \"2019-11-30T00:00:00-05:00\", \"Stock\": \"WMT\", \"Value\": 136965.69496671643}, {\"Date\": \"2019-12-31T00:00:00-05:00\", \"Stock\": \"WMT\", \"Value\": 138898.75105114304}, {\"Date\": \"2020-01-31T00:00:00-05:00\", \"Stock\": \"WMT\", \"Value\": 139124.04172844964}, {\"Date\": \"2020-02-29T00:00:00-05:00\", \"Stock\": \"WMT\", \"Value\": 133661.5622271764}, {\"Date\": \"2020-03-31T00:00:00-04:00\", \"Stock\": \"WMT\", \"Value\": 135544.814771892}, {\"Date\": \"2020-04-30T00:00:00-04:00\", \"Stock\": \"WMT\", \"Value\": 134100.25106502685}, {\"Date\": \"2020-05-31T00:00:00-04:00\", \"Stock\": \"WMT\", \"Value\": 144415.68957734783}, {\"Date\": \"2020-06-30T00:00:00-04:00\", \"Stock\": \"WMT\", \"Value\": 146278.14472079804}, {\"Date\": \"2020-07-31T00:00:00-04:00\", \"Stock\": \"WMT\", \"Value\": 141239.3723868681}, {\"Date\": \"2020-08-31T00:00:00-04:00\", \"Stock\": \"WMT\", \"Value\": 152579.55426126262}, {\"Date\": \"2020-09-30T00:00:00-04:00\", \"Stock\": \"WMT\", \"Value\": 174878.6178171157}, {\"Date\": \"2020-10-31T00:00:00-04:00\", \"Stock\": \"WMT\", \"Value\": 169534.71540980786}, {\"Date\": \"2020-11-30T00:00:00-05:00\", \"Stock\": \"WMT\", \"Value\": 166359.19588813538}, {\"Date\": \"2020-12-31T00:00:00-05:00\", \"Stock\": \"WMT\", \"Value\": 180862.30862011702}, {\"Date\": \"2021-01-31T00:00:00-05:00\", \"Stock\": \"WMT\", \"Value\": 174257.27732547364}, {\"Date\": \"2021-02-28T00:00:00-05:00\", \"Stock\": \"WMT\", \"Value\": 165623.49869567176}, {\"Date\": \"2021-03-31T00:00:00-04:00\", \"Stock\": \"WMT\", \"Value\": 156228.58448998944}, {\"Date\": \"2021-04-30T00:00:00-04:00\", \"Stock\": \"WMT\", \"Value\": 161956.20910279345}, {\"Date\": \"2021-05-31T00:00:00-04:00\", \"Stock\": \"WMT\", \"Value\": 169718.4547937912}, {\"Date\": \"2021-06-30T00:00:00-04:00\", \"Stock\": \"WMT\", \"Value\": 169833.46413272776}, {\"Date\": \"2021-07-31T00:00:00-04:00\", \"Stock\": \"WMT\", \"Value\": 167028.07744068973}, {\"Date\": \"2021-08-31T00:00:00-04:00\", \"Stock\": \"WMT\", \"Value\": 170504.8257101192}, {\"Date\": \"2021-09-30T00:00:00-04:00\", \"Stock\": \"WMT\", \"Value\": 177822.56683250814}, {\"Date\": \"2021-10-31T00:00:00-04:00\", \"Stock\": \"WMT\", \"Value\": 164911.2529661413}, {\"Date\": \"2021-11-30T00:00:00-05:00\", \"Stock\": \"WMT\", \"Value\": 180241.18567451325}, {\"Date\": \"2021-12-31T00:00:00-05:00\", \"Stock\": \"WMT\", \"Value\": 165019.5183778893}, {\"Date\": \"2022-01-31T00:00:00-05:00\", \"Stock\": \"WMT\", \"Value\": 174757.06759395965}, {\"Date\": \"2022-02-28T00:00:00-05:00\", \"Stock\": \"WMT\", \"Value\": 170238.6653837429}, {\"Date\": \"2022-03-31T00:00:00-04:00\", \"Stock\": \"WMT\", \"Value\": 164294.6114689274}, {\"Date\": \"2022-04-30T00:00:00-04:00\", \"Stock\": \"WMT\", \"Value\": 183146.4695073578}, {\"Date\": \"2022-05-31T00:00:00-04:00\", \"Stock\": \"WMT\", \"Value\": 184322.87146429392}, {\"Date\": \"2022-06-30T00:00:00-04:00\", \"Stock\": \"WMT\", \"Value\": 152700.06026343466}, {\"Date\": \"2022-07-31T00:00:00-04:00\", \"Stock\": \"WMT\", \"Value\": 149267.5173489962}, {\"Date\": \"2022-08-31T00:00:00-04:00\", \"Stock\": \"WMT\", \"Value\": 161330.15511365398}, {\"Date\": \"2022-09-30T00:00:00-04:00\", \"Stock\": \"WMT\", \"Value\": 164404.48672135914}, {\"Date\": \"2022-10-31T00:00:00-04:00\", \"Stock\": \"WMT\", \"Value\": 162020.54471786568}, {\"Date\": \"2022-11-30T00:00:00-05:00\", \"Stock\": \"WMT\", \"Value\": 173218.85756912304}, {\"Date\": \"2022-12-31T00:00:00-05:00\", \"Stock\": \"WMT\", \"Value\": 187497.85437240513}, {\"Date\": \"2023-01-31T00:00:00-05:00\", \"Stock\": \"WMT\", \"Value\": 176215.67027183247}, {\"Date\": \"2023-02-28T00:00:00-05:00\", \"Stock\": \"WMT\", \"Value\": 177528.70564391633}, {\"Date\": \"2023-03-31T00:00:00-04:00\", \"Stock\": \"WMT\", \"Value\": 171982.0648319433}, {\"Date\": \"2023-04-30T00:00:00-04:00\", \"Stock\": \"WMT\", \"Value\": 183209.57236154604}, {\"Date\": \"2023-05-31T00:00:00-04:00\", \"Stock\": \"WMT\", \"Value\": 186782.8240535839}, {\"Date\": \"2023-06-30T00:00:00-04:00\", \"Stock\": \"WMT\", \"Value\": 182322.39061105053}, {\"Date\": \"2023-07-31T00:00:00-04:00\", \"Stock\": \"WMT\", \"Value\": 195667.89736380882}, {\"Date\": \"2023-08-31T00:00:00-04:00\", \"Stock\": \"WMT\", \"Value\": 196793.42255391143}, {\"Date\": \"2023-09-30T00:00:00-04:00\", \"Stock\": \"WMT\", \"Value\": 200546.43978896554}, {\"Date\": \"2023-10-31T00:00:00-04:00\", \"Stock\": \"WMT\", \"Value\": 198721.852159256}, {\"Date\": \"2023-11-30T00:00:00-05:00\", \"Stock\": \"WMT\", \"Value\": 204642.5416295536}, {\"Date\": \"2023-12-31T00:00:00-05:00\", \"Stock\": \"WMT\", \"Value\": 191572.31763371278}, {\"Date\": \"2024-01-31T00:00:00-05:00\", \"Stock\": \"WMT\", \"Value\": 198450.77529241313}, {\"Date\": \"2024-02-29T00:00:00-05:00\", \"Stock\": \"WMT\", \"Value\": 209688.27543671042}, {\"Date\": \"2024-03-31T00:00:00-04:00\", \"Stock\": \"WMT\", \"Value\": 219617.67125245958}, {\"Date\": \"2024-04-30T00:00:00-04:00\", \"Stock\": \"WMT\", \"Value\": 225016.00367856052}, {\"Date\": \"2024-05-31T00:00:00-04:00\", \"Stock\": \"WMT\", \"Value\": 220703.16797150733}, {\"Date\": \"2024-06-30T00:00:00-04:00\", \"Stock\": \"WMT\", \"Value\": 247696.93304704927}, {\"Date\": \"2024-07-31T00:00:00-04:00\", \"Stock\": \"WMT\", \"Value\": 253943.95607792842}, {\"Date\": \"2024-08-31T00:00:00-04:00\", \"Stock\": \"WMT\", \"Value\": 262637.06676392065}, {\"Date\": \"2024-09-30T00:00:00-04:00\", \"Stock\": \"WMT\", \"Value\": 291237.61237558455}, {\"Date\": \"2024-10-31T00:00:00-04:00\", \"Stock\": \"WMT\", \"Value\": 306710.8789170851}, {\"Date\": \"2024-11-30T00:00:00-05:00\", \"Stock\": \"WMT\", \"Value\": 310182.9717012942}, {\"Date\": \"2024-12-31T00:00:00-05:00\", \"Stock\": \"WMT\", \"Value\": 349620.9938019527}, {\"Date\": \"2025-01-31T00:00:00-05:00\", \"Stock\": \"WMT\", \"Value\": 340410.2105631227}, {\"Date\": \"2025-02-28T00:00:00-05:00\", \"Stock\": \"WMT\", \"Value\": 376493.73076483054}, {\"Date\": \"2025-03-31T00:00:00-04:00\", \"Stock\": \"WMT\", \"Value\": 369118.13689931197}, {\"Date\": \"2025-04-30T00:00:00-04:00\", \"Stock\": \"WMT\", \"Value\": 336907.54530899215}, {\"Date\": \"2025-05-31T00:00:00-04:00\", \"Stock\": \"WMT\", \"Value\": 369449.1259451141}, {\"Date\": \"2015-01-31T00:00:00-05:00\", \"Stock\": \"AMZN\", \"Value\": 161631.87202162237}, {\"Date\": \"2015-02-28T00:00:00-05:00\", \"Stock\": \"AMZN\", \"Value\": 190943.75565959007}, {\"Date\": \"2015-03-31T00:00:00-04:00\", \"Stock\": \"AMZN\", \"Value\": 202045.09357925566}, {\"Date\": \"2015-04-30T00:00:00-04:00\", \"Stock\": \"AMZN\", \"Value\": 193977.11624625447}, {\"Date\": \"2015-05-31T00:00:00-04:00\", \"Stock\": \"AMZN\", \"Value\": 221539.18477962294}, {\"Date\": \"2015-06-30T00:00:00-04:00\", \"Stock\": \"AMZN\", \"Value\": 225756.5356589198}, {\"Date\": \"2015-07-31T00:00:00-04:00\", \"Stock\": \"AMZN\", \"Value\": 229146.12855545816}, {\"Date\": \"2015-08-31T00:00:00-04:00\", \"Stock\": \"AMZN\", \"Value\": 280299.16969505907}, {\"Date\": \"2015-09-30T00:00:00-04:00\", \"Stock\": \"AMZN\", \"Value\": 260134.4824129066}, {\"Date\": \"2015-10-31T00:00:00-04:00\", \"Stock\": \"AMZN\", \"Value\": 272802.2432469016}, {\"Date\": \"2015-11-30T00:00:00-05:00\", \"Stock\": \"AMZN\", \"Value\": 329188.9915267223}, {\"Date\": \"2015-12-31T00:00:00-05:00\", \"Stock\": \"AMZN\", \"Value\": 355755.6680456227}, {\"Date\": \"2016-01-31T00:00:00-05:00\", \"Stock\": \"AMZN\", \"Value\": 333715.4501275799}, {\"Date\": \"2016-02-29T00:00:00-05:00\", \"Stock\": \"AMZN\", \"Value\": 301139.6891243649}, {\"Date\": \"2016-03-31T00:00:00-04:00\", \"Stock\": \"AMZN\", \"Value\": 303355.7638590071}, {\"Date\": \"2016-04-30T00:00:00-04:00\", \"Stock\": \"AMZN\", \"Value\": 313550.74286044517}, {\"Date\": \"2016-05-31T00:00:00-04:00\", \"Stock\": \"AMZN\", \"Value\": 358265.1423057212}, {\"Date\": \"2016-06-30T00:00:00-04:00\", \"Stock\": \"AMZN\", \"Value\": 376910.5312618575}, {\"Date\": \"2016-07-31T00:00:00-04:00\", \"Stock\": \"AMZN\", \"Value\": 380179.6346999818}, {\"Date\": \"2016-08-31T00:00:00-04:00\", \"Stock\": \"AMZN\", \"Value\": 402214.6365376387}, {\"Date\": \"2016-09-30T00:00:00-04:00\", \"Stock\": \"AMZN\", \"Value\": 403723.4227629541}, {\"Date\": \"2016-10-31T00:00:00-04:00\", \"Stock\": \"AMZN\", \"Value\": 438363.3526501884}, {\"Date\": \"2016-11-30T00:00:00-05:00\", \"Stock\": \"AMZN\", \"Value\": 411471.8402286406}, {\"Date\": \"2016-12-31T00:00:00-05:00\", \"Stock\": \"AMZN\", \"Value\": 389594.0002919568}, {\"Date\": \"2017-01-31T00:00:00-05:00\", \"Stock\": \"AMZN\", \"Value\": 394843.4156282811}, {\"Date\": \"2017-02-28T00:00:00-05:00\", \"Stock\": \"AMZN\", \"Value\": 436063.4409147092}, {\"Date\": \"2017-03-31T00:00:00-04:00\", \"Stock\": \"AMZN\", \"Value\": 446923.75994758203}, {\"Date\": \"2017-04-30T00:00:00-04:00\", \"Stock\": \"AMZN\", \"Value\": 467057.0308375257}, {\"Date\": \"2017-05-31T00:00:00-04:00\", \"Stock\": \"AMZN\", \"Value\": 496772.30135115405}, {\"Date\": \"2017-06-30T00:00:00-04:00\", \"Stock\": \"AMZN\", \"Value\": 521772.55495572503}, {\"Date\": \"2017-07-31T00:00:00-04:00\", \"Stock\": \"AMZN\", \"Value\": 499617.04367467173}, {\"Date\": \"2017-08-31T00:00:00-04:00\", \"Stock\": \"AMZN\", \"Value\": 521898.3004644895}, {\"Date\": \"2017-09-30T00:00:00-04:00\", \"Stock\": \"AMZN\", \"Value\": 512499.6030986542}, {\"Date\": \"2017-10-31T00:00:00-04:00\", \"Stock\": \"AMZN\", \"Value\": 502514.18662183534}, {\"Date\": \"2017-11-30T00:00:00-05:00\", \"Stock\": \"AMZN\", \"Value\": 578211.6638892271}, {\"Date\": \"2017-12-31T00:00:00-05:00\", \"Stock\": \"AMZN\", \"Value\": 608948.5666991111}, {\"Date\": \"2018-01-31T00:00:00-05:00\", \"Stock\": \"AMZN\", \"Value\": 622915.5912037669}, {\"Date\": \"2018-02-28T00:00:00-05:00\", \"Stock\": \"AMZN\", \"Value\": 728213.1055767233}, {\"Date\": \"2018-03-31T00:00:00-04:00\", \"Stock\": \"AMZN\", \"Value\": 782409.9794337249}, {\"Date\": \"2018-04-30T00:00:00-04:00\", \"Stock\": \"AMZN\", \"Value\": 718777.7957232757}, {\"Date\": \"2018-05-31T00:00:00-04:00\", \"Stock\": \"AMZN\", \"Value\": 828937.0167755266}, {\"Date\": \"2018-06-30T00:00:00-04:00\", \"Stock\": \"AMZN\", \"Value\": 859993.51942269}, {\"Date\": \"2018-07-31T00:00:00-04:00\", \"Stock\": \"AMZN\", \"Value\": 897839.6400237018}, {\"Date\": \"2018-08-31T00:00:00-04:00\", \"Stock\": \"AMZN\", \"Value\": 941527.1311373893}, {\"Date\": \"2018-09-30T00:00:00-04:00\", \"Stock\": \"AMZN\", \"Value\": 1068487.7268270068}, {\"Date\": \"2018-10-31T00:00:00-04:00\", \"Stock\": \"AMZN\", \"Value\": 1050072.8446569624}, {\"Date\": \"2018-11-30T00:00:00-05:00\", \"Stock\": \"AMZN\", \"Value\": 872561.6751047967}, {\"Date\": \"2018-12-31T00:00:00-05:00\", \"Stock\": \"AMZN\", \"Value\": 928529.2983353788}, {\"Date\": \"2019-01-31T00:00:00-05:00\", \"Stock\": \"AMZN\", \"Value\": 806341.4361837623}, {\"Date\": \"2019-02-28T00:00:00-05:00\", \"Stock\": \"AMZN\", \"Value\": 851972.6666780021}, {\"Date\": \"2019-03-31T00:00:00-04:00\", \"Stock\": \"AMZN\", \"Value\": 875809.874251413}, {\"Date\": \"2019-04-30T00:00:00-04:00\", \"Stock\": \"AMZN\", \"Value\": 950443.8706695687}, {\"Date\": \"2019-05-31T00:00:00-04:00\", \"Stock\": \"AMZN\", \"Value\": 1001434.4339028989}, {\"Date\": \"2019-06-30T00:00:00-04:00\", \"Stock\": \"AMZN\", \"Value\": 886790.6627577177}, {\"Date\": \"2019-07-31T00:00:00-04:00\", \"Stock\": \"AMZN\", \"Value\": 1007024.393337975}, {\"Date\": \"2019-08-31T00:00:00-04:00\", \"Stock\": \"AMZN\", \"Value\": 971991.598668272}, {\"Date\": \"2019-09-30T00:00:00-04:00\", \"Stock\": \"AMZN\", \"Value\": 937686.9768144215}, {\"Date\": \"2019-10-31T00:00:00-04:00\", \"Stock\": \"AMZN\", \"Value\": 909297.190268259}, {\"Date\": \"2019-11-30T00:00:00-05:00\", \"Stock\": \"AMZN\", \"Value\": 938525.2269128985}, {\"Date\": \"2019-12-31T00:00:00-05:00\", \"Stock\": \"AMZN\", \"Value\": 933370.1406931301}, {\"Date\": \"2020-01-31T00:00:00-05:00\", \"Stock\": \"AMZN\", \"Value\": 994356.63250398}, {\"Date\": \"2020-02-29T00:00:00-05:00\", \"Stock\": \"AMZN\", \"Value\": 1049988.987671143}, {\"Date\": \"2020-03-31T00:00:00-04:00\", \"Stock\": \"AMZN\", \"Value\": 1023663.3300390354}, {\"Date\": \"2020-04-30T00:00:00-04:00\", \"Stock\": \"AMZN\", \"Value\": 999433.217713191}, {\"Date\": \"2020-05-31T00:00:00-04:00\", \"Stock\": \"AMZN\", \"Value\": 1197643.3930348468}, {\"Date\": \"2020-06-30T00:00:00-04:00\", \"Stock\": \"AMZN\", \"Value\": 1294563.8423382237}, {\"Date\": \"2020-07-31T00:00:00-04:00\", \"Stock\": \"AMZN\", \"Value\": 1508134.5550118224}, {\"Date\": \"2020-08-31T00:00:00-04:00\", \"Stock\": \"AMZN\", \"Value\": 1630301.4729019662}, {\"Date\": \"2020-09-30T00:00:00-04:00\", \"Stock\": \"AMZN\", \"Value\": 1833169.0284436652}, {\"Date\": \"2020-10-31T00:00:00-04:00\", \"Stock\": \"AMZN\", \"Value\": 1687599.8561353472}, {\"Date\": \"2020-11-30T00:00:00-05:00\", \"Stock\": \"AMZN\", \"Value\": 1574029.9980001738}, {\"Date\": \"2020-12-31T00:00:00-05:00\", \"Stock\": \"AMZN\", \"Value\": 1686981.6007222608}, {\"Date\": \"2021-01-31T00:00:00-05:00\", \"Stock\": \"AMZN\", \"Value\": 1669457.329304375}, {\"Date\": \"2021-02-28T00:00:00-05:00\", \"Stock\": \"AMZN\", \"Value\": 1751315.8168916868}, {\"Date\": \"2021-03-31T00:00:00-04:00\", \"Stock\": \"AMZN\", \"Value\": 1648244.94930902}, {\"Date\": \"2021-04-30T00:00:00-04:00\", \"Stock\": \"AMZN\", \"Value\": 1656029.9792623187}, {\"Date\": \"2021-05-31T00:00:00-04:00\", \"Stock\": \"AMZN\", \"Value\": 1774162.8085610506}, {\"Date\": \"2021-06-30T00:00:00-04:00\", \"Stock\": \"AMZN\", \"Value\": 1686232.403705007}, {\"Date\": \"2021-07-31T00:00:00-04:00\", \"Stock\": \"AMZN\", \"Value\": 1798513.470300256}, {\"Date\": \"2021-08-31T00:00:00-04:00\", \"Stock\": \"AMZN\", \"Value\": 1745343.5047748429}, {\"Date\": \"2021-09-30T00:00:00-04:00\", \"Stock\": \"AMZN\", \"Value\": 1822628.3092480716}, {\"Date\": \"2021-10-31T00:00:00-04:00\", \"Stock\": \"AMZN\", \"Value\": 1720081.2080820773}, {\"Date\": \"2021-11-30T00:00:00-05:00\", \"Stock\": \"AMZN\", \"Value\": 1738339.0082910776}, {\"Date\": \"2021-12-31T00:00:00-05:00\", \"Stock\": \"AMZN\", \"Value\": 1804145.3981982062}, {\"Date\": \"2022-01-31T00:00:00-05:00\", \"Stock\": \"AMZN\", \"Value\": 1785478.9450707035}, {\"Date\": \"2022-02-28T00:00:00-05:00\", \"Stock\": \"AMZN\", \"Value\": 1584188.2845740702}, {\"Date\": \"2022-03-31T00:00:00-04:00\", \"Stock\": \"AMZN\", \"Value\": 1583648.6900513999}, {\"Date\": \"2022-04-30T00:00:00-04:00\", \"Stock\": \"AMZN\", \"Value\": 1713763.0758311488}, {\"Date\": \"2022-05-31T00:00:00-04:00\", \"Stock\": \"AMZN\", \"Value\": 1304496.8581913968}, {\"Date\": \"2022-06-30T00:00:00-04:00\", \"Stock\": \"AMZN\", \"Value\": 1274991.110232423}, {\"Date\": \"2022-07-31T00:00:00-04:00\", \"Stock\": \"AMZN\", \"Value\": 1147957.2096276516}, {\"Date\": \"2022-08-31T00:00:00-04:00\", \"Stock\": \"AMZN\", \"Value\": 1418601.0348139075}, {\"Date\": \"2022-09-30T00:00:00-04:00\", \"Stock\": \"AMZN\", \"Value\": 1339283.4378789032}, {\"Date\": \"2022-10-31T00:00:00-04:00\", \"Stock\": \"AMZN\", \"Value\": 1214177.4485486858}, {\"Date\": \"2022-11-30T00:00:00-05:00\", \"Stock\": \"AMZN\", \"Value\": 1014154.6353305044}, {\"Date\": \"2022-12-31T00:00:00-05:00\", \"Stock\": \"AMZN\", \"Value\": 1000638.1522672962}, {\"Date\": \"2023-01-31T00:00:00-05:00\", \"Stock\": \"AMZN\", \"Value\": 899212.2086095165}, {\"Date\": \"2023-02-28T00:00:00-05:00\", \"Stock\": \"AMZN\", \"Value\": 1101749.772123129}, {\"Date\": \"2023-03-31T00:00:00-04:00\", \"Stock\": \"AMZN\", \"Value\": 965746.7713324975}, {\"Date\": \"2023-04-30T00:00:00-04:00\", \"Stock\": \"AMZN\", \"Value\": 1073040.3857396876}, {\"Date\": \"2023-05-31T00:00:00-04:00\", \"Stock\": \"AMZN\", \"Value\": 1069268.3402364699}, {\"Date\": \"2023-06-30T00:00:00-04:00\", \"Stock\": \"AMZN\", \"Value\": 1286370.0795264933}, {\"Date\": \"2023-07-31T00:00:00-04:00\", \"Stock\": \"AMZN\", \"Value\": 1364430.3812537114}, {\"Date\": \"2023-08-31T00:00:00-04:00\", \"Stock\": \"AMZN\", \"Value\": 1379832.8870685284}, {\"Date\": \"2023-09-30T00:00:00-04:00\", \"Stock\": \"AMZN\", \"Value\": 1447205.6199500572}, {\"Date\": \"2023-10-31T00:00:00-04:00\", \"Stock\": \"AMZN\", \"Value\": 1356467.2451379667}, {\"Date\": \"2023-11-30T00:00:00-05:00\", \"Stock\": \"AMZN\", \"Value\": 1435470.438331095}, {\"Date\": \"2023-12-31T00:00:00-05:00\", \"Stock\": \"AMZN\", \"Value\": 1540563.6262448004}, {\"Date\": \"2024-01-31T00:00:00-05:00\", \"Stock\": \"AMZN\", \"Value\": 1570949.4328852668}, {\"Date\": \"2024-02-29T00:00:00-05:00\", \"Stock\": \"AMZN\", \"Value\": 1668917.7347817048}, {\"Date\": \"2024-03-31T00:00:00-04:00\", \"Stock\": \"AMZN\", \"Value\": 1867368.9289901531}, {\"Date\": \"2024-04-30T00:00:00-04:00\", \"Stock\": \"AMZN\", \"Value\": 1896183.1166208866}, {\"Date\": \"2024-05-31T00:00:00-04:00\", \"Stock\": \"AMZN\", \"Value\": 1875541.6676004818}, {\"Date\": \"2024-06-30T00:00:00-04:00\", \"Stock\": \"AMZN\", \"Value\": 1868626.2241979397}, {\"Date\": \"2024-07-31T00:00:00-04:00\", \"Stock\": \"AMZN\", \"Value\": 2066239.1683079111}, {\"Date\": \"2024-08-31T00:00:00-04:00\", \"Stock\": \"AMZN\", \"Value\": 1928664.6284474756}, {\"Date\": \"2024-09-30T00:00:00-04:00\", \"Stock\": \"AMZN\", \"Value\": 1846727.479969748}, {\"Date\": \"2024-10-31T00:00:00-04:00\", \"Stock\": \"AMZN\", \"Value\": 1939771.1624625446}, {\"Date\": \"2024-11-30T00:00:00-05:00\", \"Stock\": \"AMZN\", \"Value\": 2073887.9806217093}, {\"Date\": \"2024-12-31T00:00:00-05:00\", \"Stock\": \"AMZN\", \"Value\": 2207795.5160460067}, {\"Date\": \"2025-01-31T00:00:00-05:00\", \"Stock\": \"AMZN\", \"Value\": 2307440.15825954}, {\"Date\": \"2025-02-28T00:00:00-05:00\", \"Stock\": \"AMZN\", \"Value\": 2487659.772555793}, {\"Date\": \"2025-03-31T00:00:00-04:00\", \"Stock\": \"AMZN\", \"Value\": 2148176.3167856387}, {\"Date\": \"2025-04-30T00:00:00-04:00\", \"Stock\": \"AMZN\", \"Value\": 2013535.412450085}, {\"Date\": \"2025-05-31T00:00:00-04:00\", \"Stock\": \"AMZN\", \"Value\": 1992893.9634296799}, {\"Date\": \"2015-01-31T00:00:00-05:00\", \"Stock\": \"^GSPC\", \"Value\": 69745.90177079334}, {\"Date\": \"2015-02-28T00:00:00-05:00\", \"Stock\": \"^GSPC\", \"Value\": 68480.22895466334}, {\"Date\": \"2015-03-31T00:00:00-04:00\", \"Stock\": \"^GSPC\", \"Value\": 71751.66211336298}, {\"Date\": \"2015-04-30T00:00:00-04:00\", \"Stock\": \"^GSPC\", \"Value\": 69796.39283822679}, {\"Date\": \"2015-05-31T00:00:00-04:00\", \"Stock\": \"^GSPC\", \"Value\": 71443.2967919723}, {\"Date\": \"2015-06-30T00:00:00-04:00\", \"Stock\": \"^GSPC\", \"Value\": 71559.86555162123}, {\"Date\": \"2015-07-31T00:00:00-04:00\", \"Stock\": \"^GSPC\", \"Value\": 70397.20593000995}, {\"Date\": \"2015-08-31T00:00:00-04:00\", \"Stock\": \"^GSPC\", \"Value\": 71095.95663547117}, {\"Date\": \"2015-09-30T00:00:00-04:00\", \"Stock\": \"^GSPC\", \"Value\": 64854.336589237035}, {\"Date\": \"2015-10-31T00:00:00-04:00\", \"Stock\": \"^GSPC\", \"Value\": 65192.187436489236}, {\"Date\": \"2015-11-30T00:00:00-05:00\", \"Stock\": \"^GSPC\", \"Value\": 71299.61690206292}, {\"Date\": \"2015-12-31T00:00:00-05:00\", \"Stock\": \"^GSPC\", \"Value\": 71251.49195707515}, {\"Date\": \"2016-01-31T00:00:00-05:00\", \"Stock\": \"^GSPC\", \"Value\": 68202.69768346511}, {\"Date\": \"2016-02-29T00:00:00-05:00\", \"Stock\": \"^GSPC\", \"Value\": 65719.4687230375}, {\"Date\": \"2016-03-31T00:00:00-04:00\", \"Stock\": \"^GSPC\", \"Value\": 67040.03806185382}, {\"Date\": \"2016-04-30T00:00:00-04:00\", \"Stock\": \"^GSPC\", \"Value\": 70239.97461154805}, {\"Date\": \"2016-05-31T00:00:00-04:00\", \"Stock\": \"^GSPC\", \"Value\": 70533.0925075283}, {\"Date\": \"2016-06-30T00:00:00-04:00\", \"Stock\": \"^GSPC\", \"Value\": 71139.67198862837}, {\"Date\": \"2016-07-31T00:00:00-04:00\", \"Stock\": \"^GSPC\", \"Value\": 71262.3380638104}, {\"Date\": \"2016-08-31T00:00:00-04:00\", \"Stock\": \"^GSPC\", \"Value\": 73562.92057237362}, {\"Date\": \"2016-09-30T00:00:00-04:00\", \"Stock\": \"^GSPC\", \"Value\": 73563.59897111678}, {\"Date\": \"2016-10-31T00:00:00-04:00\", \"Stock\": \"^GSPC\", \"Value\": 73236.24675807284}, {\"Date\": \"2016-11-30T00:00:00-05:00\", \"Stock\": \"^GSPC\", \"Value\": 71559.52635224964}, {\"Date\": \"2016-12-31T00:00:00-05:00\", \"Stock\": \"^GSPC\", \"Value\": 74248.7899748701}, {\"Date\": \"2017-01-31T00:00:00-05:00\", \"Stock\": \"^GSPC\", \"Value\": 76510.73684769445}, {\"Date\": \"2017-02-28T00:00:00-05:00\", \"Stock\": \"^GSPC\", \"Value\": 77246.7581182528}, {\"Date\": \"2017-03-31T00:00:00-04:00\", \"Stock\": \"^GSPC\", \"Value\": 81191.52271243345}, {\"Date\": \"2017-04-30T00:00:00-04:00\", \"Stock\": \"^GSPC\", \"Value\": 79933.64734527215}, {\"Date\": \"2017-05-31T00:00:00-04:00\", \"Stock\": \"^GSPC\", \"Value\": 80932.97005973307}, {\"Date\": \"2017-06-30T00:00:00-04:00\", \"Stock\": \"^GSPC\", \"Value\": 82347.0674203969}, {\"Date\": \"2017-07-31T00:00:00-04:00\", \"Stock\": \"^GSPC\", \"Value\": 82311.48457900228}, {\"Date\": \"2017-08-31T00:00:00-04:00\", \"Stock\": \"^GSPC\", \"Value\": 83915.69077770534}, {\"Date\": \"2017-09-30T00:00:00-04:00\", \"Stock\": \"^GSPC\", \"Value\": 83922.4664919816}, {\"Date\": \"2017-10-31T00:00:00-04:00\", \"Stock\": \"^GSPC\", \"Value\": 85703.90022575913}, {\"Date\": \"2017-11-30T00:00:00-05:00\", \"Stock\": \"^GSPC\", \"Value\": 87406.37496435645}, {\"Date\": \"2017-12-31T00:00:00-05:00\", \"Stock\": \"^GSPC\", \"Value\": 89536.49737896601}, {\"Date\": \"2018-01-31T00:00:00-05:00\", \"Stock\": \"^GSPC\", \"Value\": 91352.49635602342}, {\"Date\": \"2018-02-28T00:00:00-05:00\", \"Stock\": \"^GSPC\", \"Value\": 95627.99688380842}, {\"Date\": \"2018-03-31T00:00:00-04:00\", \"Stock\": \"^GSPC\", \"Value\": 90737.78436316075}, {\"Date\": \"2018-04-30T00:00:00-04:00\", \"Stock\": \"^GSPC\", \"Value\": 87491.76220128594}, {\"Date\": \"2018-05-31T00:00:00-04:00\", \"Stock\": \"^GSPC\", \"Value\": 89962.79653064738}, {\"Date\": \"2018-06-30T00:00:00-04:00\", \"Stock\": \"^GSPC\", \"Value\": 92667.64677804982}, {\"Date\": \"2018-07-31T00:00:00-04:00\", \"Stock\": \"^GSPC\", \"Value\": 92399.59654294512}, {\"Date\": \"2018-08-31T00:00:00-04:00\", \"Stock\": \"^GSPC\", \"Value\": 95335.89658594293}, {\"Date\": \"2018-09-30T00:00:00-04:00\", \"Stock\": \"^GSPC\", \"Value\": 98160.69931355474}, {\"Date\": \"2018-10-31T00:00:00-04:00\", \"Stock\": \"^GSPC\", \"Value\": 99105.12964190703}, {\"Date\": \"2018-11-30T00:00:00-05:00\", \"Stock\": \"^GSPC\", \"Value\": 92862.49613413583}, {\"Date\": \"2018-12-31T00:00:00-05:00\", \"Stock\": \"^GSPC\", \"Value\": 94556.83836097053}, {\"Date\": \"2019-01-31T00:00:00-05:00\", \"Stock\": \"^GSPC\", \"Value\": 85056.9973852177}, {\"Date\": \"2019-02-28T00:00:00-05:00\", \"Stock\": \"^GSPC\", \"Value\": 91715.76233667813}, {\"Date\": \"2019-03-31T00:00:00-04:00\", \"Stock\": \"^GSPC\", \"Value\": 95008.20517352743}, {\"Date\": \"2019-04-30T00:00:00-04:00\", \"Stock\": \"^GSPC\", \"Value\": 97160.01980160752}, {\"Date\": \"2019-05-31T00:00:00-04:00\", \"Stock\": \"^GSPC\", \"Value\": 99075.98331541709}, {\"Date\": \"2019-06-30T00:00:00-04:00\", \"Stock\": \"^GSPC\", \"Value\": 93000.74883409987}, {\"Date\": \"2019-07-31T00:00:00-04:00\", \"Stock\": \"^GSPC\", \"Value\": 100451.79251286904}, {\"Date\": \"2019-08-31T00:00:00-04:00\", \"Stock\": \"^GSPC\", \"Value\": 100086.8305353564}, {\"Date\": \"2019-09-30T00:00:00-04:00\", \"Stock\": \"^GSPC\", \"Value\": 98484.32033351126}, {\"Date\": \"2019-10-31T00:00:00-04:00\", \"Stock\": \"^GSPC\", \"Value\": 99635.7946490157}, {\"Date\": \"2019-11-30T00:00:00-05:00\", \"Stock\": \"^GSPC\", \"Value\": 103927.89939969748}, {\"Date\": \"2019-12-31T00:00:00-05:00\", \"Stock\": \"^GSPC\", \"Value\": 105519.23256859118}, {\"Date\": \"2020-01-31T00:00:00-05:00\", \"Stock\": \"^GSPC\", \"Value\": 110398.259783132}, {\"Date\": \"2020-02-29T00:00:00-05:00\", \"Stock\": \"^GSPC\", \"Value\": 110095.64430474743}, {\"Date\": \"2020-03-31T00:00:00-04:00\", \"Stock\": \"^GSPC\", \"Value\": 104718.1429307767}, {\"Date\": \"2020-04-30T00:00:00-04:00\", \"Stock\": \"^GSPC\", \"Value\": 83717.4494279035}, {\"Date\": \"2020-05-31T00:00:00-04:00\", \"Stock\": \"^GSPC\", \"Value\": 95923.82837476133}, {\"Date\": \"2020-06-30T00:00:00-04:00\", \"Stock\": \"^GSPC\", \"Value\": 103549.04679426075}, {\"Date\": \"2020-07-31T00:00:00-04:00\", \"Stock\": \"^GSPC\", \"Value\": 105586.667058293}, {\"Date\": \"2020-08-31T00:00:00-04:00\", \"Stock\": \"^GSPC\", \"Value\": 111643.94051922712}, {\"Date\": \"2020-09-30T00:00:00-04:00\", \"Stock\": \"^GSPC\", \"Value\": 119507.03697607115}, {\"Date\": \"2020-10-31T00:00:00-04:00\", \"Stock\": \"^GSPC\", \"Value\": 114564.64566428751}, {\"Date\": \"2020-11-30T00:00:00-05:00\", \"Stock\": \"^GSPC\", \"Value\": 112173.58792822107}, {\"Date\": \"2020-12-31T00:00:00-05:00\", \"Stock\": \"^GSPC\", \"Value\": 124108.87211878532}, {\"Date\": \"2021-01-31T00:00:00-05:00\", \"Stock\": \"^GSPC\", \"Value\": 125403.34792545596}, {\"Date\": \"2021-02-28T00:00:00-05:00\", \"Stock\": \"^GSPC\", \"Value\": 127884.21076343789}, {\"Date\": \"2021-03-31T00:00:00-04:00\", \"Stock\": \"^GSPC\", \"Value\": 132220.37006664847}, {\"Date\": \"2021-04-30T00:00:00-04:00\", \"Stock\": \"^GSPC\", \"Value\": 136220.7137188363}, {\"Date\": \"2021-05-31T00:00:00-04:00\", \"Stock\": \"^GSPC\", \"Value\": 142076.02291003658}, {\"Date\": \"2021-06-30T00:00:00-04:00\", \"Stock\": \"^GSPC\", \"Value\": 142393.8775406762}, {\"Date\": \"2021-07-31T00:00:00-04:00\", \"Stock\": \"^GSPC\", \"Value\": 146389.1332022903}, {\"Date\": \"2021-08-31T00:00:00-04:00\", \"Stock\": \"^GSPC\", \"Value\": 148667.01417242366}, {\"Date\": \"2021-09-30T00:00:00-04:00\", \"Stock\": \"^GSPC\", \"Value\": 153307.12920519433}, {\"Date\": \"2021-10-31T00:00:00-04:00\", \"Stock\": \"^GSPC\", \"Value\": 147646.33844386382}, {\"Date\": \"2021-11-30T00:00:00-05:00\", \"Stock\": \"^GSPC\", \"Value\": 156342.71538620113}, {\"Date\": \"2021-12-31T00:00:00-05:00\", \"Stock\": \"^GSPC\", \"Value\": 152932.68619158815}, {\"Date\": \"2022-01-31T00:00:00-05:00\", \"Stock\": \"^GSPC\", \"Value\": 162540.28501648418}, {\"Date\": \"2022-02-28T00:00:00-05:00\", \"Stock\": \"^GSPC\", \"Value\": 154067.89548356738}, {\"Date\": \"2022-03-31T00:00:00-04:00\", \"Stock\": \"^GSPC\", \"Value\": 145925.5552123564}, {\"Date\": \"2022-04-30T00:00:00-04:00\", \"Stock\": \"^GSPC\", \"Value\": 154044.84647261057}, {\"Date\": \"2022-05-31T00:00:00-04:00\", \"Stock\": \"^GSPC\", \"Value\": 140812.7120797746}, {\"Date\": \"2022-06-30T00:00:00-04:00\", \"Stock\": \"^GSPC\", \"Value\": 138977.74275737474}, {\"Date\": \"2022-07-31T00:00:00-04:00\", \"Stock\": \"^GSPC\", \"Value\": 129628.36565896291}, {\"Date\": \"2022-08-31T00:00:00-04:00\", \"Stock\": \"^GSPC\", \"Value\": 139567.37054305107}, {\"Date\": \"2022-09-30T00:00:00-04:00\", \"Stock\": \"^GSPC\", \"Value\": 134424.03255964833}, {\"Date\": \"2022-10-31T00:00:00-04:00\", \"Stock\": \"^GSPC\", \"Value\": 124650.38323262926}, {\"Date\": \"2022-11-30T00:00:00-05:00\", \"Stock\": \"^GSPC\", \"Value\": 130671.06452720944}, {\"Date\": \"2022-12-31T00:00:00-05:00\", \"Stock\": \"^GSPC\", \"Value\": 138142.0961494358}, {\"Date\": \"2023-01-31T00:00:00-05:00\", \"Stock\": \"^GSPC\", \"Value\": 129588.03402636612}, {\"Date\": \"2023-02-28T00:00:00-05:00\", \"Stock\": \"^GSPC\", \"Value\": 139587.0275602921}, {\"Date\": \"2023-03-31T00:00:00-04:00\", \"Stock\": \"^GSPC\", \"Value\": 133900.1349936605}, {\"Date\": \"2023-04-30T00:00:00-04:00\", \"Stock\": \"^GSPC\", \"Value\": 139766.6212178122}, {\"Date\": \"2023-05-31T00:00:00-04:00\", \"Stock\": \"^GSPC\", \"Value\": 141235.9667102671}, {\"Date\": \"2023-06-30T00:00:00-04:00\", \"Stock\": \"^GSPC\", \"Value\": 143037.04918813022}, {\"Date\": \"2023-07-31T00:00:00-04:00\", \"Stock\": \"^GSPC\", \"Value\": 150985.88035443073}, {\"Date\": \"2023-08-31T00:00:00-04:00\", \"Stock\": \"^GSPC\", \"Value\": 155090.93733457293}, {\"Date\": \"2023-09-30T00:00:00-04:00\", \"Stock\": \"^GSPC\", \"Value\": 153025.19661532092}, {\"Date\": \"2023-10-31T00:00:00-04:00\", \"Stock\": \"^GSPC\", \"Value\": 145320.00987568192}, {\"Date\": \"2023-11-30T00:00:00-05:00\", \"Stock\": \"^GSPC\", \"Value\": 143607.6983553087}, {\"Date\": \"2023-12-31T00:00:00-05:00\", \"Stock\": \"^GSPC\", \"Value\": 155697.5085425176}, {\"Date\": \"2024-01-31T00:00:00-05:00\", \"Stock\": \"^GSPC\", \"Value\": 160719.54552138}, {\"Date\": \"2024-02-29T00:00:00-05:00\", \"Stock\": \"^GSPC\", \"Value\": 166255.2958119274}, {\"Date\": \"2024-03-31T00:00:00-04:00\", \"Stock\": \"^GSPC\", \"Value\": 174079.4339799718}, {\"Date\": \"2024-04-30T00:00:00-04:00\", \"Stock\": \"^GSPC\", \"Value\": 177694.8194380344}, {\"Date\": \"2024-05-31T00:00:00-04:00\", \"Stock\": \"^GSPC\", \"Value\": 170057.40638746883}, {\"Date\": \"2024-06-30T00:00:00-04:00\", \"Stock\": \"^GSPC\", \"Value\": 179037.75111590902}, {\"Date\": \"2024-07-31T00:00:00-04:00\", \"Stock\": \"^GSPC\", \"Value\": 185533.51835959067}, {\"Date\": \"2024-08-31T00:00:00-04:00\", \"Stock\": \"^GSPC\", \"Value\": 184570.80435779452}, {\"Date\": \"2024-09-30T00:00:00-04:00\", \"Stock\": \"^GSPC\", \"Value\": 187357.99732093763}, {\"Date\": \"2024-10-31T00:00:00-04:00\", \"Stock\": \"^GSPC\", \"Value\": 193451.52374885415}, {\"Date\": \"2024-11-30T00:00:00-05:00\", \"Stock\": \"^GSPC\", \"Value\": 194130.94836329058}, {\"Date\": \"2024-12-31T00:00:00-05:00\", \"Stock\": \"^GSPC\", \"Value\": 204918.82863080938}, {\"Date\": \"2025-01-31T00:00:00-05:00\", \"Stock\": \"^GSPC\", \"Value\": 198866.63488729362}, {\"Date\": \"2025-02-28T00:00:00-05:00\", \"Stock\": \"^GSPC\", \"Value\": 203137.05569766025}, {\"Date\": \"2025-03-31T00:00:00-04:00\", \"Stock\": \"^GSPC\", \"Value\": 198228.55950356871}, {\"Date\": \"2025-04-30T00:00:00-04:00\", \"Stock\": \"^GSPC\", \"Value\": 190886.9613976452}, {\"Date\": \"2025-05-31T00:00:00-04:00\", \"Stock\": \"^GSPC\", \"Value\": 189906.62557483756}, {\"Date\": \"2015-01-31T00:00:00-05:00\", \"Stock\": \"SBUX\", \"Value\": 84374.04368915233}, {\"Date\": \"2015-02-28T00:00:00-05:00\", \"Stock\": \"SBUX\", \"Value\": 91160.00283017954}, {\"Date\": \"2015-03-31T00:00:00-04:00\", \"Stock\": \"SBUX\", \"Value\": 97981.16404134709}, {\"Date\": \"2015-04-30T00:00:00-04:00\", \"Stock\": \"SBUX\", \"Value\": 96723.00132167248}, {\"Date\": \"2015-05-31T00:00:00-04:00\", \"Stock\": \"SBUX\", \"Value\": 104583.97975521695}, {\"Date\": \"2015-06-30T00:00:00-04:00\", \"Stock\": \"SBUX\", \"Value\": 108943.12922286187}, {\"Date\": \"2015-07-31T00:00:00-04:00\", \"Stock\": \"SBUX\", \"Value\": 112427.15928079907}, {\"Date\": \"2015-08-31T00:00:00-04:00\", \"Stock\": \"SBUX\", \"Value\": 121397.94402654436}, {\"Date\": \"2015-09-30T00:00:00-04:00\", \"Stock\": \"SBUX\", \"Value\": 111921.23207860382}, {\"Date\": \"2015-10-31T00:00:00-04:00\", \"Stock\": \"SBUX\", \"Value\": 120247.3565938766}, {\"Date\": \"2015-11-30T00:00:00-05:00\", \"Stock\": \"SBUX\", \"Value\": 130205.23750164606}, {\"Date\": \"2015-12-31T00:00:00-05:00\", \"Stock\": \"SBUX\", \"Value\": 128800.88049780755}, {\"Date\": \"2016-01-31T00:00:00-05:00\", \"Stock\": \"SBUX\", \"Value\": 122273.72944745021}, {\"Date\": \"2016-02-29T00:00:00-05:00\", \"Stock\": \"SBUX\", \"Value\": 128863.83303453785}, {\"Date\": \"2016-03-31T00:00:00-04:00\", \"Stock\": \"SBUX\", \"Value\": 126421.29005314107}, {\"Date\": \"2016-04-30T00:00:00-04:00\", \"Stock\": \"SBUX\", \"Value\": 128484.79544409607}, {\"Date\": \"2016-05-31T00:00:00-04:00\", \"Stock\": \"SBUX\", \"Value\": 120778.25438983469}, {\"Date\": \"2016-06-30T00:00:00-04:00\", \"Stock\": \"SBUX\", \"Value\": 115833.87412573266}, {\"Date\": \"2016-07-31T00:00:00-04:00\", \"Stock\": \"SBUX\", \"Value\": 120419.02339328598}, {\"Date\": \"2016-08-31T00:00:00-04:00\", \"Stock\": \"SBUX\", \"Value\": 121771.3639573147}, {\"Date\": \"2016-09-30T00:00:00-04:00\", \"Stock\": \"SBUX\", \"Value\": 119396.56107140599}, {\"Date\": \"2016-10-31T00:00:00-04:00\", \"Stock\": \"SBUX\", \"Value\": 114159.32892683837}, {\"Date\": \"2016-11-30T00:00:00-05:00\", \"Stock\": \"SBUX\", \"Value\": 111318.07689381363}, {\"Date\": \"2016-12-31T00:00:00-05:00\", \"Stock\": \"SBUX\", \"Value\": 124636.022905637}, {\"Date\": \"2017-01-31T00:00:00-05:00\", \"Stock\": \"SBUX\", \"Value\": 117904.67668285879}, {\"Date\": \"2017-02-28T00:00:00-05:00\", \"Stock\": \"SBUX\", \"Value\": 114815.9484018691}, {\"Date\": \"2017-03-31T00:00:00-04:00\", \"Stock\": \"SBUX\", \"Value\": 122266.15236352914}, {\"Date\": \"2017-04-30T00:00:00-04:00\", \"Stock\": \"SBUX\", \"Value\": 125047.83982983162}, {\"Date\": \"2017-05-31T00:00:00-04:00\", \"Stock\": \"SBUX\", \"Value\": 128771.06443126973}, {\"Date\": \"2017-06-30T00:00:00-04:00\", \"Stock\": \"SBUX\", \"Value\": 136971.9112749353}, {\"Date\": \"2017-07-31T00:00:00-04:00\", \"Stock\": \"SBUX\", \"Value\": 125154.72014863172}, {\"Date\": \"2017-08-31T00:00:00-04:00\", \"Stock\": \"SBUX\", \"Value\": 117591.74794308639}, {\"Date\": \"2017-09-30T00:00:00-04:00\", \"Stock\": \"SBUX\", \"Value\": 118554.2113431149}, {\"Date\": \"2017-10-31T00:00:00-04:00\", \"Stock\": \"SBUX\", \"Value\": 116136.92852556713}, {\"Date\": \"2017-11-30T00:00:00-05:00\", \"Stock\": \"SBUX\", \"Value\": 118985.8927752198}, {\"Date\": \"2017-12-31T00:00:00-05:00\", \"Stock\": \"SBUX\", \"Value\": 124367.8713535205}, {\"Date\": \"2018-01-31T00:00:00-05:00\", \"Stock\": \"SBUX\", \"Value\": 125040.49440197945}, {\"Date\": \"2018-02-28T00:00:00-05:00\", \"Stock\": \"SBUX\", \"Value\": 121503.88806873256}, {\"Date\": \"2018-03-31T00:00:00-04:00\", \"Stock\": \"SBUX\", \"Value\": 122533.72477547334}, {\"Date\": \"2018-04-30T00:00:00-04:00\", \"Stock\": \"SBUX\", \"Value\": 122686.4536912481}, {\"Date\": \"2018-05-31T00:00:00-04:00\", \"Stock\": \"SBUX\", \"Value\": 126809.44910129673}, {\"Date\": \"2018-06-30T00:00:00-04:00\", \"Stock\": \"SBUX\", \"Value\": 124797.23622493616}, {\"Date\": \"2018-07-31T00:00:00-04:00\", \"Stock\": \"SBUX\", \"Value\": 107583.0957468776}, {\"Date\": \"2018-08-31T00:00:00-04:00\", \"Stock\": \"SBUX\", \"Value\": 113876.64095639685}, {\"Date\": \"2018-09-30T00:00:00-04:00\", \"Stock\": \"SBUX\", \"Value\": 118202.48021179764}, {\"Date\": \"2018-10-31T00:00:00-04:00\", \"Stock\": \"SBUX\", \"Value\": 122729.20388830092}, {\"Date\": \"2018-11-30T00:00:00-05:00\", \"Stock\": \"SBUX\", \"Value\": 129464.08286613027}, {\"Date\": \"2018-12-31T00:00:00-05:00\", \"Stock\": \"SBUX\", \"Value\": 149850.68564175852}, {\"Date\": \"2019-01-31T00:00:00-05:00\", \"Stock\": \"SBUX\", \"Value\": 142791.06346464166}, {\"Date\": \"2019-02-28T00:00:00-05:00\", \"Stock\": \"SBUX\", \"Value\": 151204.91806368344}, {\"Date\": \"2019-03-31T00:00:00-04:00\", \"Stock\": \"SBUX\", \"Value\": 158108.59709706923}, {\"Date\": \"2019-04-30T00:00:00-04:00\", \"Stock\": \"SBUX\", \"Value\": 165048.88744168126}, {\"Date\": \"2019-05-31T00:00:00-04:00\", \"Stock\": \"SBUX\", \"Value\": 172993.35858340067}, {\"Date\": \"2019-06-30T00:00:00-04:00\", \"Stock\": \"SBUX\", \"Value\": 170881.3502030146}, {\"Date\": \"2019-07-31T00:00:00-04:00\", \"Stock\": \"SBUX\", \"Value\": 189556.76751151367}, {\"Date\": \"2019-08-31T00:00:00-04:00\", \"Stock\": \"SBUX\", \"Value\": 213837.0647983}, {\"Date\": \"2019-09-30T00:00:00-04:00\", \"Stock\": \"SBUX\", \"Value\": 217775.71989150185}, {\"Date\": \"2019-10-31T00:00:00-04:00\", \"Stock\": \"SBUX\", \"Value\": 194686.13479898823}, {\"Date\": \"2019-11-30T00:00:00-05:00\", \"Stock\": \"SBUX\", \"Value\": 187259.64662738435}, {\"Date\": \"2019-12-31T00:00:00-05:00\", \"Stock\": \"SBUX\", \"Value\": 191271.64017107326}, {\"Date\": \"2020-01-31T00:00:00-05:00\", \"Stock\": \"SBUX\", \"Value\": 202082.50768163195}, {\"Date\": \"2020-02-29T00:00:00-05:00\", \"Stock\": \"SBUX\", \"Value\": 194528.4735394126}, {\"Date\": \"2020-03-31T00:00:00-04:00\", \"Stock\": \"SBUX\", \"Value\": 187186.8873170696}, {\"Date\": \"2020-04-30T00:00:00-04:00\", \"Stock\": \"SBUX\", \"Value\": 142287.46247547187}, {\"Date\": \"2020-05-31T00:00:00-04:00\", \"Stock\": \"SBUX\", \"Value\": 167668.35774571923}, {\"Date\": \"2020-06-30T00:00:00-04:00\", \"Stock\": \"SBUX\", \"Value\": 178967.28598415732}, {\"Date\": \"2020-07-31T00:00:00-04:00\", \"Stock\": \"SBUX\", \"Value\": 169164.35402948988}, {\"Date\": \"2020-08-31T00:00:00-04:00\", \"Stock\": \"SBUX\", \"Value\": 172523.3863335698}, {\"Date\": \"2020-09-30T00:00:00-04:00\", \"Stock\": \"SBUX\", \"Value\": 197700.55939587037}, {\"Date\": \"2020-10-31T00:00:00-04:00\", \"Stock\": \"SBUX\", \"Value\": 199285.87839888385}, {\"Date\": \"2020-11-30T00:00:00-05:00\", \"Stock\": \"SBUX\", \"Value\": 197516.81752386826}, {\"Date\": \"2020-12-31T00:00:00-05:00\", \"Stock\": \"SBUX\", \"Value\": 228110.36043836863}, {\"Date\": \"2021-01-31T00:00:00-05:00\", \"Stock\": \"SBUX\", \"Value\": 237990.06707521222}, {\"Date\": \"2021-02-28T00:00:00-05:00\", \"Stock\": \"SBUX\", \"Value\": 227556.35494953534}, {\"Date\": \"2021-03-31T00:00:00-04:00\", \"Stock\": \"SBUX\", \"Value\": 247742.7875769403}, {\"Date\": \"2021-04-30T00:00:00-04:00\", \"Stock\": \"SBUX\", \"Value\": 253561.38958348296}, {\"Date\": \"2021-05-31T00:00:00-04:00\", \"Stock\": \"SBUX\", \"Value\": 268258.5772203389}, {\"Date\": \"2021-06-30T00:00:00-04:00\", \"Stock\": \"SBUX\", \"Value\": 263786.6884658173}, {\"Date\": \"2021-07-31T00:00:00-04:00\", \"Stock\": \"SBUX\", \"Value\": 263949.67781497823}, {\"Date\": \"2021-08-31T00:00:00-04:00\", \"Stock\": \"SBUX\", \"Value\": 280148.3056532245}, {\"Date\": \"2021-09-30T00:00:00-04:00\", \"Stock\": \"SBUX\", \"Value\": 274413.2928782188}, {\"Date\": \"2021-10-31T00:00:00-04:00\", \"Stock\": \"SBUX\", \"Value\": 263829.29387782706}, {\"Date\": \"2021-11-30T00:00:00-05:00\", \"Stock\": \"SBUX\", \"Value\": 256539.637224268}, {\"Date\": \"2021-12-31T00:00:00-05:00\", \"Stock\": \"SBUX\", \"Value\": 254970.804411493}, {\"Date\": \"2022-01-31T00:00:00-05:00\", \"Stock\": \"SBUX\", \"Value\": 273789.7133500184}, {\"Date\": \"2022-02-28T00:00:00-05:00\", \"Stock\": \"SBUX\", \"Value\": 231740.411038418}, {\"Date\": \"2022-03-31T00:00:00-04:00\", \"Stock\": \"SBUX\", \"Value\": 212586.0061980724}, {\"Date\": \"2022-04-30T00:00:00-04:00\", \"Stock\": \"SBUX\", \"Value\": 215769.82929535562}, {\"Date\": \"2022-05-31T00:00:00-04:00\", \"Stock\": \"SBUX\", \"Value\": 177752.48155871642}, {\"Date\": \"2022-06-30T00:00:00-04:00\", \"Stock\": \"SBUX\", \"Value\": 181165.68277357993}, {\"Date\": \"2022-07-31T00:00:00-04:00\", \"Stock\": \"SBUX\", \"Value\": 188243.2196866936}, {\"Date\": \"2022-08-31T00:00:00-04:00\", \"Stock\": \"SBUX\", \"Value\": 201662.0519165337}, {\"Date\": \"2022-09-30T00:00:00-04:00\", \"Stock\": \"SBUX\", \"Value\": 203981.43108795214}, {\"Date\": \"2022-10-31T00:00:00-04:00\", \"Stock\": \"SBUX\", \"Value\": 204506.90427096293}, {\"Date\": \"2022-11-30T00:00:00-05:00\", \"Stock\": \"SBUX\", \"Value\": 208041.93727340837}, {\"Date\": \"2022-12-31T00:00:00-05:00\", \"Stock\": \"SBUX\", \"Value\": 248322.4875847518}, {\"Date\": \"2023-01-31T00:00:00-05:00\", \"Stock\": \"SBUX\", \"Value\": 242220.72464329362}, {\"Date\": \"2023-02-28T00:00:00-05:00\", \"Stock\": \"SBUX\", \"Value\": 264225.5029743778}, {\"Date\": \"2023-03-31T00:00:00-04:00\", \"Stock\": \"SBUX\", \"Value\": 244883.03201541022}, {\"Date\": \"2023-04-30T00:00:00-04:00\", \"Stock\": \"SBUX\", \"Value\": 253140.007194109}, {\"Date\": \"2023-05-31T00:00:00-04:00\", \"Stock\": \"SBUX\", \"Value\": 276582.8677917327}, {\"Date\": \"2023-06-30T00:00:00-04:00\", \"Stock\": \"SBUX\", \"Value\": 236615.47787623055}, {\"Date\": \"2023-07-31T00:00:00-04:00\", \"Stock\": \"SBUX\", \"Value\": 240570.38750360193}, {\"Date\": \"2023-08-31T00:00:00-04:00\", \"Stock\": \"SBUX\", \"Value\": 245689.9094081472}, {\"Date\": \"2023-09-30T00:00:00-04:00\", \"Stock\": \"SBUX\", \"Value\": 239048.02103731871}, {\"Date\": \"2023-10-31T00:00:00-04:00\", \"Stock\": \"SBUX\", \"Value\": 222290.29127672277}, {\"Date\": \"2023-11-30T00:00:00-05:00\", \"Stock\": \"SBUX\", \"Value\": 222826.92256038674}, {\"Date\": \"2023-12-31T00:00:00-05:00\", \"Stock\": \"SBUX\", \"Value\": 243304.81713184377}, {\"Date\": \"2024-01-31T00:00:00-05:00\", \"Stock\": \"SBUX\", \"Value\": 229741.585952374}, {\"Date\": \"2024-02-29T00:00:00-05:00\", \"Stock\": \"SBUX\", \"Value\": 229005.78836345207}, {\"Date\": \"2024-03-31T00:00:00-04:00\", \"Stock\": \"SBUX\", \"Value\": 229865.4447305591}, {\"Date\": \"2024-04-30T00:00:00-04:00\", \"Stock\": \"SBUX\", \"Value\": 225843.52858525122}, {\"Date\": \"2024-05-31T00:00:00-04:00\", \"Stock\": \"SBUX\", \"Value\": 183675.21296824075}, {\"Date\": \"2024-06-30T00:00:00-04:00\", \"Stock\": \"SBUX\", \"Value\": 204062.896805524}, {\"Date\": \"2024-07-31T00:00:00-04:00\", \"Stock\": \"SBUX\", \"Value\": 191756.45771398774}, {\"Date\": \"2024-08-31T00:00:00-04:00\", \"Stock\": \"SBUX\", \"Value\": 186734.44370978733}, {\"Date\": \"2024-09-30T00:00:00-04:00\", \"Stock\": \"SBUX\", \"Value\": 233059.2290388061}, {\"Date\": \"2024-10-31T00:00:00-04:00\", \"Stock\": \"SBUX\", \"Value\": 243689.2117688794}, {\"Date\": \"2024-11-30T00:00:00-05:00\", \"Stock\": \"SBUX\", \"Value\": 247290.90380515793}, {\"Date\": \"2024-12-31T00:00:00-05:00\", \"Stock\": \"SBUX\", \"Value\": 255464.4248850266}, {\"Date\": \"2025-01-31T00:00:00-05:00\", \"Stock\": \"SBUX\", \"Value\": 231958.97853944844}, {\"Date\": \"2025-02-28T00:00:00-05:00\", \"Stock\": \"SBUX\", \"Value\": 272200.10870972986}, {\"Date\": \"2025-03-31T00:00:00-04:00\", \"Stock\": \"SBUX\", \"Value\": 292022.16564538877}, {\"Date\": \"2025-04-30T00:00:00-04:00\", \"Stock\": \"SBUX\", \"Value\": 248551.57613224591}, {\"Date\": \"2025-05-31T00:00:00-04:00\", \"Stock\": \"SBUX\", \"Value\": 207510.0742438298}, {\"Date\": \"2015-01-31T00:00:00-05:00\", \"Stock\": \"TSN\", \"Value\": 68602.19008732979}, {\"Date\": \"2015-02-28T00:00:00-05:00\", \"Stock\": \"TSN\", \"Value\": 67949.64593885811}, {\"Date\": \"2015-03-31T00:00:00-04:00\", \"Stock\": \"TSN\", \"Value\": 72589.28589017363}, {\"Date\": \"2015-04-30T00:00:00-04:00\", \"Stock\": \"TSN\", \"Value\": 66099.82142378132}, {\"Date\": \"2015-05-31T00:00:00-04:00\", \"Stock\": \"TSN\", \"Value\": 69697.45758974706}, {\"Date\": \"2015-06-30T00:00:00-04:00\", \"Stock\": \"TSN\", \"Value\": 72845.82837949833}, {\"Date\": \"2015-07-31T00:00:00-04:00\", \"Stock\": \"TSN\", \"Value\": 74122.63084364544}, {\"Date\": \"2015-08-31T00:00:00-04:00\", \"Stock\": \"TSN\", \"Value\": 68946.4629831913}, {\"Date\": \"2015-09-30T00:00:00-04:00\", \"Stock\": \"TSN\", \"Value\": 71600.12719813263}, {\"Date\": \"2015-10-31T00:00:00-04:00\", \"Stock\": \"TSN\", \"Value\": 75526.04647403795}, {\"Date\": \"2015-11-30T00:00:00-05:00\", \"Stock\": \"TSN\", \"Value\": 77445.73190696983}, {\"Date\": \"2015-12-31T00:00:00-05:00\", \"Stock\": \"TSN\", \"Value\": 87862.12527127382}, {\"Date\": \"2016-01-31T00:00:00-05:00\", \"Stock\": \"TSN\", \"Value\": 91869.24113975608}, {\"Date\": \"2016-02-29T00:00:00-05:00\", \"Stock\": \"TSN\", \"Value\": 94211.08811260149}, {\"Date\": \"2016-03-31T00:00:00-04:00\", \"Stock\": \"TSN\", \"Value\": 114018.27125723139}, {\"Date\": \"2016-04-30T00:00:00-04:00\", \"Stock\": \"TSN\", \"Value\": 118382.21052602828}, {\"Date\": \"2016-05-31T00:00:00-04:00\", \"Stock\": \"TSN\", \"Value\": 115913.36459641473}, {\"Date\": \"2016-06-30T00:00:00-04:00\", \"Stock\": \"TSN\", \"Value\": 112068.30537241756}, {\"Date\": \"2016-07-31T00:00:00-04:00\", \"Stock\": \"TSN\", \"Value\": 115048.18420343177}, {\"Date\": \"2016-08-31T00:00:00-04:00\", \"Stock\": \"TSN\", \"Value\": 129442.29127339851}, {\"Date\": \"2016-09-30T00:00:00-04:00\", \"Stock\": \"TSN\", \"Value\": 131793.49571849802}, {\"Date\": \"2016-10-31T00:00:00-04:00\", \"Stock\": \"TSN\", \"Value\": 131129.97706090027}, {\"Date\": \"2016-11-30T00:00:00-05:00\", \"Stock\": \"TSN\", \"Value\": 124128.1991969041}, {\"Date\": \"2016-12-31T00:00:00-05:00\", \"Stock\": \"TSN\", \"Value\": 98456.49939951289}, {\"Date\": \"2017-01-31T00:00:00-05:00\", \"Stock\": \"TSN\", \"Value\": 109692.1887095187}, {\"Date\": \"2017-02-28T00:00:00-05:00\", \"Stock\": \"TSN\", \"Value\": 112707.0677700869}, {\"Date\": \"2017-03-31T00:00:00-04:00\", \"Stock\": \"TSN\", \"Value\": 112937.1712961392}, {\"Date\": \"2017-04-30T00:00:00-04:00\", \"Stock\": \"TSN\", \"Value\": 109031.89591735591}, {\"Date\": \"2017-05-31T00:00:00-04:00\", \"Stock\": \"TSN\", \"Value\": 112356.68789233323}, {\"Date\": \"2017-06-30T00:00:00-04:00\", \"Stock\": \"TSN\", \"Value\": 103273.18436753808}, {\"Date\": \"2017-07-31T00:00:00-04:00\", \"Stock\": \"TSN\", \"Value\": 110513.61881555918}, {\"Date\": \"2017-08-31T00:00:00-04:00\", \"Stock\": \"TSN\", \"Value\": 111078.71163999983}, {\"Date\": \"2017-09-30T00:00:00-04:00\", \"Stock\": \"TSN\", \"Value\": 114371.05616952057}, {\"Date\": \"2017-10-31T00:00:00-04:00\", \"Stock\": \"TSN\", \"Value\": 125820.60476207787}, {\"Date\": \"2017-11-30T00:00:00-05:00\", \"Stock\": \"TSN\", \"Value\": 129932.46686164328}, {\"Date\": \"2017-12-31T00:00:00-05:00\", \"Stock\": \"TSN\", \"Value\": 146561.63901274157}, {\"Date\": \"2018-01-31T00:00:00-05:00\", \"Stock\": \"TSN\", \"Value\": 143413.09584850143}, {\"Date\": \"2018-02-28T00:00:00-05:00\", \"Stock\": \"TSN\", \"Value\": 134767.74364954178}, {\"Date\": \"2018-03-31T00:00:00-04:00\", \"Stock\": \"TSN\", \"Value\": 131132.77609426752}, {\"Date\": \"2018-04-30T00:00:00-04:00\", \"Stock\": \"TSN\", \"Value\": 122595.37136689898}, {\"Date\": \"2018-05-31T00:00:00-04:00\", \"Stock\": \"TSN\", \"Value\": 124238.59274457568}, {\"Date\": \"2018-06-30T00:00:00-04:00\", \"Stock\": \"TSN\", \"Value\": 122132.59511407897}, {\"Date\": \"2018-07-31T00:00:00-04:00\", \"Stock\": \"TSN\", \"Value\": 119137.15332921055}, {\"Date\": \"2018-08-31T00:00:00-04:00\", \"Stock\": \"TSN\", \"Value\": 103316.76227999169}, {\"Date\": \"2018-09-30T00:00:00-04:00\", \"Stock\": \"TSN\", \"Value\": 113092.2262530517}, {\"Date\": \"2018-10-31T00:00:00-04:00\", \"Stock\": \"TSN\", \"Value\": 106063.38559429956}, {\"Date\": \"2018-11-30T00:00:00-05:00\", \"Stock\": \"TSN\", \"Value\": 112389.3405455147}, {\"Date\": \"2018-12-31T00:00:00-05:00\", \"Stock\": \"TSN\", \"Value\": 109342.07970596186}, {\"Date\": \"2019-01-31T00:00:00-05:00\", \"Stock\": \"TSN\", \"Value\": 96787.79122240722}, {\"Date\": \"2019-02-28T00:00:00-05:00\", \"Stock\": \"TSN\", \"Value\": 112335.51045512655}, {\"Date\": \"2019-03-31T00:00:00-04:00\", \"Stock\": \"TSN\", \"Value\": 113515.84066365733}, {\"Date\": \"2019-04-30T00:00:00-04:00\", \"Stock\": \"TSN\", \"Value\": 127223.87264290849}, {\"Date\": \"2019-05-31T00:00:00-04:00\", \"Stock\": \"TSN\", \"Value\": 136532.97333211778}, {\"Date\": \"2019-06-30T00:00:00-04:00\", \"Stock\": \"TSN\", \"Value\": 143187.40018437937}, {\"Date\": \"2019-07-31T00:00:00-04:00\", \"Stock\": \"TSN\", \"Value\": 148506.90974481034}, {\"Date\": \"2019-08-31T00:00:00-04:00\", \"Stock\": \"TSN\", \"Value\": 147461.35176166584}, {\"Date\": \"2019-09-30T00:00:00-04:00\", \"Stock\": \"TSN\", \"Value\": 171835.54773962492}, {\"Date\": \"2019-10-31T00:00:00-04:00\", \"Stock\": \"TSN\", \"Value\": 153471.31144150667}, {\"Date\": \"2019-11-30T00:00:00-05:00\", \"Stock\": \"TSN\", \"Value\": 154171.25036611452}, {\"Date\": \"2019-12-31T00:00:00-05:00\", \"Stock\": \"TSN\", \"Value\": 165778.14403379394}, {\"Date\": \"2020-01-31T00:00:00-05:00\", \"Stock\": \"TSN\", \"Value\": 166499.8513938561}, {\"Date\": \"2020-02-29T00:00:00-05:00\", \"Stock\": \"TSN\", \"Value\": 154100.75740846686}, {\"Date\": \"2020-03-31T00:00:00-04:00\", \"Stock\": \"TSN\", \"Value\": 131318.27566924188}, {\"Date\": \"2020-04-30T00:00:00-04:00\", \"Stock\": \"TSN\", \"Value\": 103021.7228214812}, {\"Date\": \"2020-05-31T00:00:00-04:00\", \"Stock\": \"TSN\", \"Value\": 111715.44658534745}, {\"Date\": \"2020-06-30T00:00:00-04:00\", \"Stock\": \"TSN\", \"Value\": 117342.17673483727}, {\"Date\": \"2020-07-31T00:00:00-04:00\", \"Stock\": \"TSN\", \"Value\": 109770.50418563845}, {\"Date\": \"2020-08-31T00:00:00-04:00\", \"Stock\": \"TSN\", \"Value\": 117004.8234434584}, {\"Date\": \"2020-09-30T00:00:00-04:00\", \"Stock\": \"TSN\", \"Value\": 118175.02459868956}, {\"Date\": \"2020-10-31T00:00:00-04:00\", \"Stock\": \"TSN\", \"Value\": 111722.93256315074}, {\"Date\": \"2020-11-30T00:00:00-05:00\", \"Stock\": \"TSN\", \"Value\": 108723.28812407698}, {\"Date\": \"2020-12-31T00:00:00-05:00\", \"Stock\": \"TSN\", \"Value\": 126815.927894174}, {\"Date\": \"2021-01-31T00:00:00-05:00\", \"Stock\": \"TSN\", \"Value\": 120623.26767272606}, {\"Date\": \"2021-02-28T00:00:00-05:00\", \"Stock\": \"TSN\", \"Value\": 121933.98686963985}, {\"Date\": \"2021-03-31T00:00:00-04:00\", \"Stock\": \"TSN\", \"Value\": 131050.86537880803}, {\"Date\": \"2021-04-30T00:00:00-04:00\", \"Stock\": \"TSN\", \"Value\": 143154.05803324233}, {\"Date\": \"2021-05-31T00:00:00-04:00\", \"Stock\": \"TSN\", \"Value\": 150094.7414533899}, {\"Date\": \"2021-06-30T00:00:00-04:00\", \"Stock\": \"TSN\", \"Value\": 154015.98199316816}, {\"Date\": \"2021-07-31T00:00:00-04:00\", \"Stock\": \"TSN\", \"Value\": 141979.28484990104}, {\"Date\": \"2021-08-31T00:00:00-04:00\", \"Stock\": \"TSN\", \"Value\": 137960.64451559001}, {\"Date\": \"2021-09-30T00:00:00-04:00\", \"Stock\": \"TSN\", \"Value\": 151513.49841329377}, {\"Date\": \"2021-10-31T00:00:00-04:00\", \"Stock\": \"TSN\", \"Value\": 151436.17614256238}, {\"Date\": \"2021-11-30T00:00:00-05:00\", \"Stock\": \"TSN\", \"Value\": 156309.35069309003}, {\"Date\": \"2021-12-31T00:00:00-05:00\", \"Stock\": \"TSN\", \"Value\": 152194.50897735954}, {\"Date\": \"2022-01-31T00:00:00-05:00\", \"Stock\": \"TSN\", \"Value\": 170747.22446661728}, {\"Date\": \"2022-02-28T00:00:00-05:00\", \"Stock\": \"TSN\", \"Value\": 177087.0104184887}, {\"Date\": \"2022-03-31T00:00:00-04:00\", \"Stock\": \"TSN\", \"Value\": 183377.38235021124}, {\"Date\": \"2022-04-30T00:00:00-04:00\", \"Stock\": \"TSN\", \"Value\": 177924.70118464794}, {\"Date\": \"2022-05-31T00:00:00-04:00\", \"Stock\": \"TSN\", \"Value\": 181559.81648948413}, {\"Date\": \"2022-06-30T00:00:00-04:00\", \"Stock\": \"TSN\", \"Value\": 173131.86956256177}, {\"Date\": \"2022-07-31T00:00:00-04:00\", \"Stock\": \"TSN\", \"Value\": 167455.06872820342}, {\"Date\": \"2022-08-31T00:00:00-04:00\", \"Stock\": \"TSN\", \"Value\": 173190.75597129072}, {\"Date\": \"2022-09-30T00:00:00-04:00\", \"Stock\": \"TSN\", \"Value\": 147853.889514417}, {\"Date\": \"2022-10-31T00:00:00-04:00\", \"Stock\": \"TSN\", \"Value\": 131847.25193410524}, {\"Date\": \"2022-11-30T00:00:00-05:00\", \"Stock\": \"TSN\", \"Value\": 134376.69980902766}, {\"Date\": \"2022-12-31T00:00:00-05:00\", \"Stock\": \"TSN\", \"Value\": 130338.35953312906}, {\"Date\": \"2023-01-31T00:00:00-05:00\", \"Stock\": \"TSN\", \"Value\": 126596.19967069119}, {\"Date\": \"2023-02-28T00:00:00-05:00\", \"Stock\": \"TSN\", \"Value\": 129641.67930719211}, {\"Date\": \"2023-03-31T00:00:00-04:00\", \"Stock\": \"TSN\", \"Value\": 118962.37380578347}, {\"Date\": \"2023-04-30T00:00:00-04:00\", \"Stock\": \"TSN\", \"Value\": 119203.12350860208}, {\"Date\": \"2023-05-31T00:00:00-04:00\", \"Stock\": \"TSN\", \"Value\": 125061.96001153893}, {\"Date\": \"2023-06-30T00:00:00-04:00\", \"Stock\": \"TSN\", \"Value\": 102485.53145301137}, {\"Date\": \"2023-07-31T00:00:00-04:00\", \"Stock\": \"TSN\", \"Value\": 104915.55208107935}, {\"Date\": \"2023-08-31T00:00:00-04:00\", \"Stock\": \"TSN\", \"Value\": 112023.32383912585}, {\"Date\": \"2023-09-30T00:00:00-04:00\", \"Stock\": \"TSN\", \"Value\": 107443.61275178165}, {\"Date\": \"2023-10-31T00:00:00-04:00\", \"Stock\": \"TSN\", \"Value\": 100599.41800386838}, {\"Date\": \"2023-11-30T00:00:00-05:00\", \"Stock\": \"TSN\", \"Value\": 94940.18295075902}, {\"Date\": \"2023-12-31T00:00:00-05:00\", \"Stock\": \"TSN\", \"Value\": 99510.11794209036}, {\"Date\": \"2024-01-31T00:00:00-05:00\", \"Stock\": \"TSN\", \"Value\": 114643.0795296095}, {\"Date\": \"2024-02-29T00:00:00-05:00\", \"Stock\": \"TSN\", \"Value\": 116914.05596259348}, {\"Date\": \"2024-03-31T00:00:00-04:00\", \"Stock\": \"TSN\", \"Value\": 110840.5639711326}, {\"Date\": \"2024-04-30T00:00:00-04:00\", \"Stock\": \"TSN\", \"Value\": 120528.69153648753}, {\"Date\": \"2024-05-31T00:00:00-04:00\", \"Stock\": \"TSN\", \"Value\": 125612.35996287884}, {\"Date\": \"2024-06-30T00:00:00-04:00\", \"Stock\": \"TSN\", \"Value\": 119828.251905031}, {\"Date\": \"2024-07-31T00:00:00-04:00\", \"Stock\": \"TSN\", \"Value\": 120542.76878641368}, {\"Date\": \"2024-08-31T00:00:00-04:00\", \"Stock\": \"TSN\", \"Value\": 127687.9047670047}, {\"Date\": \"2024-09-30T00:00:00-04:00\", \"Stock\": \"TSN\", \"Value\": 137239.2080297247}, {\"Date\": \"2024-10-31T00:00:00-04:00\", \"Stock\": \"TSN\", \"Value\": 126545.51336264805}, {\"Date\": \"2024-11-30T00:00:00-05:00\", \"Stock\": \"TSN\", \"Value\": 123580.93481960024}, {\"Date\": \"2024-12-31T00:00:00-05:00\", \"Stock\": \"TSN\", \"Value\": 137309.18386390567}, {\"Date\": \"2025-01-31T00:00:00-05:00\", \"Stock\": \"TSN\", \"Value\": 124099.00224180946}, {\"Date\": \"2025-02-28T00:00:00-05:00\", \"Stock\": \"TSN\", \"Value\": 123224.01291957767}, {\"Date\": \"2025-03-31T00:00:00-04:00\", \"Stock\": \"TSN\", \"Value\": 133043.26001281617}, {\"Date\": \"2025-04-30T00:00:00-04:00\", \"Stock\": \"TSN\", \"Value\": 135797.50884618025}, {\"Date\": \"2025-05-31T00:00:00-04:00\", \"Stock\": \"TSN\", \"Value\": 130418.11146332292}, {\"Date\": \"2015-01-31T00:00:00-05:00\", \"Stock\": \"INTC\", \"Value\": 36358.211725910136}, {\"Date\": \"2015-02-28T00:00:00-05:00\", \"Stock\": \"INTC\", \"Value\": 33648.34815260709}, {\"Date\": \"2015-03-31T00:00:00-04:00\", \"Stock\": \"INTC\", \"Value\": 34302.614393611264}, {\"Date\": \"2015-04-30T00:00:00-04:00\", \"Stock\": \"INTC\", \"Value\": 31029.461024630928}, {\"Date\": \"2015-05-31T00:00:00-04:00\", \"Stock\": \"INTC\", \"Value\": 33658.053102262966}, {\"Date\": \"2015-06-30T00:00:00-04:00\", \"Stock\": \"INTC\", \"Value\": 34398.4905458469}, {\"Date\": \"2015-07-31T00:00:00-04:00\", \"Stock\": \"INTC\", \"Value\": 30614.770812862316}, {\"Date\": \"2015-08-31T00:00:00-04:00\", \"Stock\": \"INTC\", \"Value\": 29468.487986115208}, {\"Date\": \"2015-09-30T00:00:00-04:00\", \"Stock\": \"INTC\", \"Value\": 28455.208213015245}, {\"Date\": \"2015-10-31T00:00:00-04:00\", \"Stock\": \"INTC\", \"Value\": 30684.98005802906}, {\"Date\": \"2015-11-30T00:00:00-05:00\", \"Stock\": \"INTC\", \"Value\": 34888.8216920748}, {\"Date\": \"2015-12-31T00:00:00-05:00\", \"Stock\": \"INTC\", \"Value\": 36144.02418305662}, {\"Date\": \"2016-01-31T00:00:00-05:00\", \"Stock\": \"INTC\", \"Value\": 35010.98871202574}, {\"Date\": \"2016-02-29T00:00:00-05:00\", \"Stock\": \"INTC\", \"Value\": 31745.765360822625}, {\"Date\": \"2016-03-31T00:00:00-04:00\", \"Stock\": \"INTC\", \"Value\": 31557.587779098583}, {\"Date\": \"2016-04-30T00:00:00-04:00\", \"Stock\": \"INTC\", \"Value\": 33718.92282492532}, {\"Date\": \"2016-05-31T00:00:00-04:00\", \"Stock\": \"INTC\", \"Value\": 31806.968193949604}, {\"Date\": \"2016-06-30T00:00:00-04:00\", \"Stock\": \"INTC\", \"Value\": 33182.19734585222}, {\"Date\": \"2016-07-31T00:00:00-04:00\", \"Stock\": \"INTC\", \"Value\": 34324.59968427637}, {\"Date\": \"2016-08-31T00:00:00-04:00\", \"Stock\": \"INTC\", \"Value\": 36525.56244589829}, {\"Date\": \"2016-09-30T00:00:00-04:00\", \"Stock\": \"INTC\", \"Value\": 38037.99582074068}, {\"Date\": \"2016-10-31T00:00:00-04:00\", \"Stock\": \"INTC\", \"Value\": 39769.864471203895}, {\"Date\": \"2016-11-30T00:00:00-05:00\", \"Stock\": \"INTC\", \"Value\": 36453.95115370133}, {\"Date\": \"2016-12-31T00:00:00-05:00\", \"Stock\": \"INTC\", \"Value\": 35921.29509127441}, {\"Date\": \"2017-01-31T00:00:00-05:00\", \"Stock\": \"INTC\", \"Value\": 38943.11910059577}, {\"Date\": \"2017-02-28T00:00:00-05:00\", \"Stock\": \"INTC\", \"Value\": 38858.009376884635}, {\"Date\": \"2017-03-31T00:00:00-04:00\", \"Stock\": \"INTC\", \"Value\": 38503.14978200066}, {\"Date\": \"2017-04-30T00:00:00-04:00\", \"Stock\": \"INTC\", \"Value\": 38749.60926553877}, {\"Date\": \"2017-05-31T00:00:00-04:00\", \"Stock\": \"INTC\", \"Value\": 38910.364895507184}, {\"Date\": \"2017-06-30T00:00:00-04:00\", \"Stock\": \"INTC\", \"Value\": 38994.70399053152}, {\"Date\": \"2017-07-31T00:00:00-04:00\", \"Stock\": \"INTC\", \"Value\": 36123.00093530054}, {\"Date\": \"2017-08-31T00:00:00-04:00\", \"Stock\": \"INTC\", \"Value\": 39243.01298291797}, {\"Date\": \"2017-09-30T00:00:00-04:00\", \"Stock\": \"INTC\", \"Value\": 38167.10844246891}, {\"Date\": \"2017-10-31T00:00:00-04:00\", \"Stock\": \"INTC\", \"Value\": 42463.495124104054}, {\"Date\": \"2017-11-30T00:00:00-05:00\", \"Stock\": \"INTC\", \"Value\": 50806.08264125064}, {\"Date\": \"2017-12-31T00:00:00-05:00\", \"Stock\": \"INTC\", \"Value\": 48886.07369754823}, {\"Date\": \"2018-01-31T00:00:00-05:00\", \"Stock\": \"INTC\", \"Value\": 51260.35085083464}, {\"Date\": \"2018-02-28T00:00:00-05:00\", \"Stock\": \"INTC\", \"Value\": 52135.65577230801}, {\"Date\": \"2018-03-31T00:00:00-04:00\", \"Stock\": \"INTC\", \"Value\": 52698.67211909642}, {\"Date\": \"2018-04-30T00:00:00-04:00\", \"Stock\": \"INTC\", \"Value\": 53888.34879860814}, {\"Date\": \"2018-05-31T00:00:00-04:00\", \"Stock\": \"INTC\", \"Value\": 58746.22797095099}, {\"Date\": \"2018-06-30T00:00:00-04:00\", \"Stock\": \"INTC\", \"Value\": 63239.97763107721}, {\"Date\": \"2018-07-31T00:00:00-04:00\", \"Stock\": \"INTC\", \"Value\": 55617.50036147558}, {\"Date\": \"2018-08-31T00:00:00-04:00\", \"Stock\": \"INTC\", \"Value\": 54077.48593734222}, {\"Date\": \"2018-09-30T00:00:00-04:00\", \"Stock\": \"INTC\", \"Value\": 53458.89980453754}, {\"Date\": \"2018-10-31T00:00:00-04:00\", \"Stock\": \"INTC\", \"Value\": 51775.7771473638}, {\"Date\": \"2018-11-30T00:00:00-05:00\", \"Stock\": \"INTC\", \"Value\": 53748.72082415337}, {\"Date\": \"2018-12-31T00:00:00-05:00\", \"Stock\": \"INTC\", \"Value\": 56229.359651614075}, {\"Date\": \"2019-01-31T00:00:00-05:00\", \"Stock\": \"INTC\", \"Value\": 52808.260490159366}, {\"Date\": \"2019-02-28T00:00:00-05:00\", \"Stock\": \"INTC\", \"Value\": 54659.00731621013}, {\"Date\": \"2019-03-31T00:00:00-04:00\", \"Stock\": \"INTC\", \"Value\": 60164.0057699617}, {\"Date\": \"2019-04-30T00:00:00-04:00\", \"Stock\": \"INTC\", \"Value\": 61529.83325188518}, {\"Date\": \"2019-05-31T00:00:00-04:00\", \"Stock\": \"INTC\", \"Value\": 57296.90908555867}, {\"Date\": \"2019-06-30T00:00:00-04:00\", \"Stock\": \"INTC\", \"Value\": 49357.24104846436}, {\"Date\": \"2019-07-31T00:00:00-04:00\", \"Stock\": \"INTC\", \"Value\": 54570.08173754976}, {\"Date\": \"2019-08-31T00:00:00-04:00\", \"Stock\": \"INTC\", \"Value\": 56216.84563609981}, {\"Date\": \"2019-09-30T00:00:00-04:00\", \"Stock\": \"INTC\", \"Value\": 53715.12638520626}, {\"Date\": \"2019-10-31T00:00:00-04:00\", \"Stock\": \"INTC\", \"Value\": 58037.020876374954}, {\"Date\": \"2019-11-30T00:00:00-05:00\", \"Stock\": \"INTC\", \"Value\": 64611.3436959498}, {\"Date\": \"2019-12-31T00:00:00-05:00\", \"Stock\": \"INTC\", \"Value\": 66289.06200871988}, {\"Date\": \"2020-01-31T00:00:00-05:00\", \"Stock\": \"INTC\", \"Value\": 69944.96924514786}, {\"Date\": \"2020-02-29T00:00:00-05:00\", \"Stock\": \"INTC\", \"Value\": 74060.7131048968}, {\"Date\": \"2020-03-31T00:00:00-04:00\", \"Stock\": \"INTC\", \"Value\": 67216.27747289665}, {\"Date\": \"2020-04-30T00:00:00-04:00\", \"Stock\": \"INTC\", \"Value\": 59937.77404650298}, {\"Date\": \"2020-05-31T00:00:00-04:00\", \"Stock\": \"INTC\", \"Value\": 66396.00041145978}, {\"Date\": \"2020-06-30T00:00:00-04:00\", \"Stock\": \"INTC\", \"Value\": 71871.53599038516}, {\"Date\": \"2020-07-31T00:00:00-04:00\", \"Stock\": \"INTC\", \"Value\": 68327.92675491892}, {\"Date\": \"2020-08-31T00:00:00-04:00\", \"Stock\": \"INTC\", \"Value\": 56116.96718649072}, {\"Date\": \"2020-09-30T00:00:00-04:00\", \"Stock\": \"INTC\", \"Value\": 59410.7187144999}, {\"Date\": \"2020-10-31T00:00:00-04:00\", \"Stock\": \"INTC\", \"Value\": 61106.83267979393}, {\"Date\": \"2020-11-30T00:00:00-05:00\", \"Stock\": \"INTC\", \"Value\": 52006.30450427676}, {\"Date\": \"2020-12-31T00:00:00-05:00\", \"Stock\": \"INTC\", \"Value\": 58393.60319925879}, {\"Date\": \"2021-01-31T00:00:00-05:00\", \"Stock\": \"INTC\", \"Value\": 58523.208028986985}, {\"Date\": \"2021-02-28T00:00:00-05:00\", \"Stock\": \"INTC\", \"Value\": 66794.45521692651}, {\"Date\": \"2021-03-31T00:00:00-04:00\", \"Stock\": \"INTC\", \"Value\": 74537.47372853982}, {\"Date\": \"2021-04-30T00:00:00-04:00\", \"Stock\": \"INTC\", \"Value\": 76517.07961462183}, {\"Date\": \"2021-05-31T00:00:00-04:00\", \"Stock\": \"INTC\", \"Value\": 67875.55777216308}, {\"Date\": \"2021-06-30T00:00:00-04:00\", \"Stock\": \"INTC\", \"Value\": 67852.33450380109}, {\"Date\": \"2021-07-31T00:00:00-04:00\", \"Stock\": \"INTC\", \"Value\": 66802.74817595624}, {\"Date\": \"2021-08-31T00:00:00-04:00\", \"Stock\": \"INTC\", \"Value\": 64023.77661073888}, {\"Date\": \"2021-09-30T00:00:00-04:00\", \"Stock\": \"INTC\", \"Value\": 64427.8197171345}, {\"Date\": \"2021-10-31T00:00:00-04:00\", \"Stock\": \"INTC\", \"Value\": 64655.910893037544}, {\"Date\": \"2021-11-30T00:00:00-05:00\", \"Stock\": \"INTC\", \"Value\": 59481.989438535245}, {\"Date\": \"2021-12-31T00:00:00-05:00\", \"Stock\": \"INTC\", \"Value\": 58747.28696392061}, {\"Date\": \"2022-01-31T00:00:00-05:00\", \"Stock\": \"INTC\", \"Value\": 64319.812377829025}, {\"Date\": \"2022-02-28T00:00:00-05:00\", \"Stock\": \"INTC\", \"Value\": 59170.36211298156}, {\"Date\": \"2022-03-31T00:00:00-04:00\", \"Stock\": \"INTC\", \"Value\": 57026.77141414346}, {\"Date\": \"2022-04-30T00:00:00-04:00\", \"Stock\": \"INTC\", \"Value\": 58597.99381419381}, {\"Date\": \"2022-05-31T00:00:00-04:00\", \"Stock\": \"INTC\", \"Value\": 54761.28217244531}, {\"Date\": \"2022-06-30T00:00:00-04:00\", \"Stock\": \"INTC\", \"Value\": 54150.67577539764}, {\"Date\": \"2022-07-31T00:00:00-04:00\", \"Stock\": \"INTC\", \"Value\": 44612.00293114383}, {\"Date\": \"2022-08-31T00:00:00-04:00\", \"Stock\": \"INTC\", \"Value\": 45373.1354838172}, {\"Date\": \"2022-09-30T00:00:00-04:00\", \"Stock\": \"INTC\", \"Value\": 39383.0834473929}, {\"Date\": \"2022-10-31T00:00:00-04:00\", \"Stock\": \"INTC\", \"Value\": 33443.37583730847}, {\"Date\": \"2022-11-30T00:00:00-05:00\", \"Stock\": \"INTC\", \"Value\": 35092.608233555315}, {\"Date\": \"2022-12-31T00:00:00-05:00\", \"Stock\": \"INTC\", \"Value\": 37489.42503298155}, {\"Date\": \"2023-01-31T00:00:00-05:00\", \"Stock\": \"INTC\", \"Value\": 33593.43961572208}, {\"Date\": \"2023-02-28T00:00:00-05:00\", \"Stock\": \"INTC\", \"Value\": 36534.28297955423}, {\"Date\": \"2023-03-31T00:00:00-04:00\", \"Stock\": \"INTC\", \"Value\": 32221.8572776374}, {\"Date\": \"2023-04-30T00:00:00-04:00\", \"Stock\": \"INTC\", \"Value\": 41838.80859517859}, {\"Date\": \"2023-05-31T00:00:00-04:00\", \"Stock\": \"INTC\", \"Value\": 38544.109939654336}, {\"Date\": \"2023-06-30T00:00:00-04:00\", \"Stock\": \"INTC\", \"Value\": 39762.10349455798}, {\"Date\": \"2023-07-31T00:00:00-04:00\", \"Stock\": \"INTC\", \"Value\": 42942.56266200953}, {\"Date\": \"2023-08-31T00:00:00-04:00\", \"Stock\": \"INTC\", \"Value\": 45727.05789478204}, {\"Date\": \"2023-09-30T00:00:00-04:00\", \"Stock\": \"INTC\", \"Value\": 46929.89492354535}, {\"Date\": \"2023-10-31T00:00:00-04:00\", \"Stock\": \"INTC\", \"Value\": 45455.72202005378}, {\"Date\": \"2023-11-30T00:00:00-05:00\", \"Stock\": \"INTC\", \"Value\": 47801.58037608967}, {\"Date\": \"2023-12-31T00:00:00-05:00\", \"Stock\": \"INTC\", \"Value\": 56254.124177349695}, {\"Date\": \"2024-01-31T00:00:00-05:00\", \"Stock\": \"INTC\", \"Value\": 61475.695343686995}, {\"Date\": \"2024-02-29T00:00:00-05:00\", \"Stock\": \"INTC\", \"Value\": 55765.401407768135}, {\"Date\": \"2024-03-31T00:00:00-04:00\", \"Stock\": \"INTC\", \"Value\": 56522.19855260344}, {\"Date\": \"2024-04-30T00:00:00-04:00\", \"Stock\": \"INTC\", \"Value\": 57425.11186825667}, {\"Date\": \"2024-05-31T00:00:00-04:00\", \"Stock\": \"INTC\", \"Value\": 39173.420240700674}, {\"Date\": \"2024-06-30T00:00:00-04:00\", \"Stock\": \"INTC\", \"Value\": 39228.922907444234}, {\"Date\": \"2024-07-31T00:00:00-04:00\", \"Stock\": \"INTC\", \"Value\": 39941.23488985843}, {\"Date\": \"2024-08-31T00:00:00-04:00\", \"Stock\": \"INTC\", \"Value\": 37622.9824421034}, {\"Date\": \"2024-09-30T00:00:00-04:00\", \"Stock\": \"INTC\", \"Value\": 26196.87338860951}, {\"Date\": \"2024-10-31T00:00:00-04:00\", \"Stock\": \"INTC\", \"Value\": 29572.490542148247}, {\"Date\": \"2024-11-30T00:00:00-05:00\", \"Stock\": \"INTC\", \"Value\": 30237.187615313298}, {\"Date\": \"2024-12-31T00:00:00-05:00\", \"Stock\": \"INTC\", \"Value\": 31188.61573564996}, {\"Date\": \"2025-01-31T00:00:00-05:00\", \"Stock\": \"INTC\", \"Value\": 26353.271237648943}, {\"Date\": \"2025-02-28T00:00:00-05:00\", \"Stock\": \"INTC\", \"Value\": 25258.476350776975}, {\"Date\": \"2025-03-31T00:00:00-04:00\", \"Stock\": \"INTC\", \"Value\": 29637.655898264842}, {\"Date\": \"2025-04-30T00:00:00-04:00\", \"Stock\": \"INTC\", \"Value\": 28738.35956564166}, {\"Date\": \"2025-05-31T00:00:00-04:00\", \"Stock\": \"INTC\", \"Value\": 26040.473053671096}]}}, {\"mode\": \"vega-lite\"});\n",
              "</script>"
            ],
            "text/plain": [
              "alt.LayerChart(...)"
            ]
          },
          "metadata": {},
          "output_type": "display_data"
        }
      ],
      "source": [
        "initial_portfolio_val = 1e6\n",
        "\n",
        "optimized_allocations = optimizedResults[0].to_dict()\n",
        "\n",
        "\n",
        "optimized_returns = calculate_returns(initial_portfolio_val, dataframes, optimized_allocations)\n",
        "\n",
        "graph_returns(optimized_returns, True, True)"
      ]
    },
    {
      "cell_type": "markdown",
      "id": "c538bb61",
      "metadata": {
        "id": "c538bb61"
      },
      "source": [
        "#### 📉 Rechecking Strength After Optimization\n",
        "\n",
        "After optimizing our portfolio allocations to achieve a target return of 40%, we reevaluate the portfolio using updated historical performance metrics.\n",
        "\n",
        "To review:\n",
        "\n",
        "- **CAGR (Annual Return):** Shows the expected annual growth based on optimized allocations.\n",
        "- **Sharpe Ratio:** Tells us how well we’re balancing risk and reward with the new weights.\n",
        "- **Max Drawdown:** Indicates if the worst-case dip has improved.\n",
        "- **Volatility:** Helps assess whether the portfolio became more stable or more erratic.\n",
        "- **Avg Daily Return:** Confirms whether daily trends look stronger after optimization.\n",
        "\n",
        "This second performance check shows whether our changes actually led to a more efficient investment strategy."
      ]
    },
    {
      "cell_type": "code",
      "execution_count": 36,
      "id": "4c72f527-99d2-4d8d-a6cd-f1cbc4f6f907",
      "metadata": {
        "id": "4c72f527-99d2-4d8d-a6cd-f1cbc4f6f907"
      },
      "outputs": [
        {
          "name": "stdout",
          "output_type": "stream",
          "text": [
            "📈 CAGR (Annual Return): 14.22%\n",
            "📊 Sharpe Ratio: 0.98\n",
            "📉 Max Drawdown: -34.44%\n",
            "📈 Volatility: 22.07%\n",
            "📅 Average Daily Return: 0.0863%\n"
          ]
        }
      ],
      "source": [
        "optimized_portfolio_info = portfolio_stats(optimized_returns)\n",
        "\n",
        "print(f\"📈 CAGR (Annual Return): {optimized_portfolio_info['cagr']:.2%}\")\n",
        "print(f\"📊 Sharpe Ratio: {optimized_portfolio_info['sharpe']:.2f}\")\n",
        "print(f\"📉 Max Drawdown: {optimized_portfolio_info['drawdown']:.2%}\")\n",
        "print(f\"📈 Volatility: {optimized_portfolio_info['volatility']:.2%}\")\n",
        "print(f\"📅 Average Daily Return: {optimized_portfolio_info['avg_return']:.4%}\")"
      ]
    },
    {
      "cell_type": "markdown",
      "id": "c3101a9e-b443-428f-ac65-b2f65d837ba2",
      "metadata": {
        "id": "c3101a9e-b443-428f-ac65-b2f65d837ba2"
      },
      "source": [
        "### Summary\n",
        "\n",
        "After constructing our initial stock portfolio based on user-selected allocations, we evaluated its historical performance using metrics like annual return, Sharpe ratio, and drawdown. This gave us a baseline understanding of how well our portfolio performed under those weights.\n",
        "\n",
        "We then used optimization techniques (via scipy.minimize) to automatically adjust the stock allocations in order to achieve a target return while minimizing risk. This step simulates what a financial algorithm might do to make our portfolio more efficient.\n",
        "\n",
        "Finally, we re-evaluated the optimized portfolio using the same performance metrics. By comparing the before-and-after results, we can see whether the optimization actually improved our portfolio — either by increasing returns, reducing risk, or improving the Sharpe ratio (risk-adjusted performance).\n",
        "\n",
        "This comparison demonstrates the power of computational thinking in making data-driven investment decisions."
      ]
    }
  ],
  "metadata": {
    "colab": {
      "provenance": []
    },
    "kernelspec": {
      "display_name": "cs181",
      "language": "python",
      "name": "python3"
    },
    "language_info": {
      "codemirror_mode": {
        "name": "ipython",
        "version": 3
      },
      "file_extension": ".py",
      "mimetype": "text/x-python",
      "name": "python",
      "nbconvert_exporter": "python",
      "pygments_lexer": "ipython3",
      "version": "3.12.7"
    }
  },
  "nbformat": 4,
  "nbformat_minor": 5
}
