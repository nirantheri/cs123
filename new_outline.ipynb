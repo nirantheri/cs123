{
  "cells": [
    {
      "cell_type": "markdown",
      "id": "a21a0bd5",
      "metadata": {
        "id": "a21a0bd5"
      },
      "source": [
        "### Introduction: Applying Computational Thinking to Personal Finance and Portfolio Analysis\n",
        "In an era where financial independence is closely tied to the ability to make strategic investment decisions, understanding the mechanics of saving and investing has become a critical life skill. Yet, while many individuals understand the importance of saving, few have the tools or knowledge required to evaluate how different financial strategies—and especially investment decisions—impact long-term outcomes. This tutorial addresses that gap by introducing students to essential concepts in personal finance and portfolio analysis through a computational and data-driven approach.\n",
        "\n",
        "This tutorial begins by building a foundation in core savings principles. Learners will explore the functionality of common financial instruments such as high-yield savings accounts, 401(k)s, and Roth IRAs. Through interactive inputs and simulations, students will see how interest rates, compound growth, and tax advantages affect returns over time. These early exercises aim to demonstrate the value of starting early, contributing consistently, and choosing the right savings vehicles for one’s personal financial goals.\n",
        "\n",
        "Building on this foundation, the tutorial then transitions into a more advanced, investment-focused module: constructing and evaluating a personalized stock portfolio. Students will be guided through the process of:\n",
        "- Selecting their own breakdown of stocks to form a diversified portfolio based on individual risk preferences or interests.\n",
        "\n",
        "- Evaluating the strength of their chosen portfolio using historical data and key financial metrics.\n",
        "\n",
        "- Simulating potential future outcomes through Monte Carlo simulations, which model thousands of possible future scenarios to account for uncertainty and market volatility.\n",
        "\n",
        "- Optimizing the stock allocation using algorithmic methods that balance return potential with risk, aiming for the most efficient use of investment capital.\n",
        "\n",
        "- Rechecking the portfolio’s strength after optimization, to reflect the improvements made and demonstrate the impact of computational adjustments on financial performance.\n",
        "\n",
        "\n",
        "Throughout this tutorial, students will employ principles from computer science—such as data modeling, simulations, algorithmic thinking, and data visualization—to analyze financial data and make informed decisions. By the end of the tutorial, students will have developed not only a deeper understanding of financial literacy but also a practical appreciation for how computational tools can empower individuals to manage their personal wealth more effectively.\n",
        "\n",
        "This interdisciplinary exploration is designed to equip learners with a strong foundation in both personal finance and applied computation—skills that are increasingly essential in today’s data-rich, financially complex world."
      ]
    },
    {
      "cell_type": "markdown",
      "id": "1fcde335",
      "metadata": {
        "id": "1fcde335"
      },
      "source": [
        "### Disclaimer\n",
        "\n",
        "**No Guarantee of Accuracy:** While Isabel, Luna, and Nirantheri strive to provide accurate and up-to-date information, they do not guarantee the accuracy, completeness, or reliability of any content. Users should independently verify any information before making financial or investment decisions based on it.\n",
        "\n",
        "\n",
        "**Investment Risks:** Investing involves inherent risks, including but not limited to market fluctuations, economic uncertainty, geopolitical events, and individual asset performance. Past performance is not indicative of future results, and no content provided implies a guarantee of investment success.\n",
        "\n",
        "**Limitation of Liability:** Mentions of specific financial products, services, companies, or securities within the content do not constitute endorsements or recommendations. Users are responsible for conducting their own research and due diligence.\n",
        "\n",
        "**No Liability:** Isabel, Luna, Nirantheri, and their affiliates, partners, or contributors shall not be held liable for any loss, damage, or expense resulting from the use of or reliance on the provided information. All investment decisions made based on this content are the sole responsibility of the user.\n",
        "\n",
        "**Disclaimer Updates:** This disclaimer is subject to change without notice. Users are responsible for reviewing it periodically to stay informed of any updates.\n",
        "\n"
      ]
    },
    {
      "cell_type": "markdown",
      "id": "29064aa1",
      "metadata": {
        "id": "29064aa1"
      },
      "source": [
        "### using old material : Nirantheri\n",
        "\n",
        "\n",
        "The code to show the importance of investing vs savings (just draw out each of the ira, 401k, hysa along with no investment to show)\n",
        "How to use information.md?"
      ]
    },
    {
      "cell_type": "markdown",
      "id": "5b4b991e",
      "metadata": {
        "id": "5b4b991e"
      },
      "source": [
        "### setup\n",
        "\n",
        "include all packages for setting up (pyfolio, package)"
      ]
    },
    {
      "cell_type": "code",
      "execution_count": 2,
      "id": "4102a911",
      "metadata": {
        "id": "4102a911"
      },
      "outputs": [],
      "source": [
        "# all libraries\n",
        "\n",
        "# import pyfolio\n",
        "import yfinance as yf\n",
        "import numpy as np\n",
        "import scipy\n",
        "import ipywidgets as widgets\n",
        "import pandas as pd\n",
        "from scipy.optimize import minimize\n",
        "from IPython.display import display\n",
        "import altair as alt\n",
        "import quantstats.stats as stats\n",
        "\n",
        "import matplotlib.pyplot as plt\n",
        "%matplotlib inline"
      ]
    },
    {
      "cell_type": "markdown",
      "id": "07c04a66",
      "metadata": {
        "id": "07c04a66"
      },
      "source": [
        "### Choosing stocks for a portfolio: Nirantheri\n",
        "\n",
        "We've given you a list of stocks to choose from. Ctrl+Click the ones you want in your portfolio. "
      ]
    },
    {
      "cell_type": "code",
      "execution_count": 44,
      "id": "7af31160",
      "metadata": {
        "colab": {
          "base_uri": "https://localhost:8080/",
          "height": 360,
          "referenced_widgets": [
            "22195e8648ba4213b0cf9d3a4e7622a9",
            "c495e226bcaf4a9a8ed5fd69ace6539e",
            "7c6eebaf135a4070891d2da589d9f9d4"
          ]
        },
        "id": "7af31160",
        "outputId": "8c53a2c8-c337-4772-f4fb-58822f8c94bd"
      },
      "outputs": [
        {
          "data": {
            "application/vnd.jupyter.widget-view+json": {
              "model_id": "80341b1655c8423e867cf254e9d0dfeb",
              "version_major": 2,
              "version_minor": 0
            },
            "text/plain": [
              "SelectMultiple(description='Stocks', options=('Apple', 'Costco', 'Microsoft', 'Google', 'Nvidia', 'Walmart', '…"
            ]
          },
          "metadata": {},
          "output_type": "display_data"
        }
      ],
      "source": [
        "codes = {\"Apple\": 'AAPL',\n",
        "        \"Costco\": 'COST',\n",
        "        \"Microsoft\": 'MSFT',\n",
        "        \"Google\": 'GOOG',\n",
        "        \"Nvidia\": 'NVDA',\n",
        "        \"Walmart\": 'WMT',\n",
        "        \"Tesla\": \"TSLA\",\n",
        "        \"AMC Entertainment\": 'AMC',\n",
        "        \"S&P 500\": '^GSPC',\n",
        "        \"Dow Jones Industrial\": '^DJI',\n",
        "        \"Nasdaq\": '^IXIC',\n",
        "        \"Vanguard S&P 500 ETF\": 'VOO',\n",
        "        \"Fidelity 500 Index Fund\": 'FXAIX',\n",
        "        \"Gold\":'GLD'}\n",
        "\n",
        "codes.keys()\n",
        "\n",
        "\n",
        "choices = widgets.SelectMultiple(\n",
        "    options=codes.keys(),\n",
        "    value=[],\n",
        "    rows=20,\n",
        "    description='Stocks',\n",
        "    disabled=False\n",
        ")\n",
        "\n",
        "display(choices)\n"
      ]
    },
    {
      "cell_type": "markdown",
      "id": "52f0405d",
      "metadata": {
        "id": "52f0405d"
      },
      "source": [
        "### Picking your own breakdown of stocks : Nirantheri\n",
        "\n",
        "Without rerunning the previous code chunk, run the next one and input your allocation amounts as a decimal ex (0.3 or .5). Make sure they add up to 1!\n",
        "<!-- \n",
        "[setup using the above code chunk](https://ipywidgets.readthedocs.io/en/7.x/examples/Widget%20List.html#Tabs) -->"
      ]
    },
    {
      "cell_type": "code",
      "execution_count": 45,
      "id": "35f83dbc",
      "metadata": {
        "colab": {
          "base_uri": "https://localhost:8080/",
          "height": 78,
          "referenced_widgets": [
            "f69e43d78ee74248b809e286960ff3ad",
            "b4d532386ff5430e9c9ebafffe463a56"
          ]
        },
        "id": "35f83dbc",
        "outputId": "7ba19879-19f7-4044-e174-0926b3adaac2"
      },
      "outputs": [
        {
          "data": {
            "application/vnd.jupyter.widget-view+json": {
              "model_id": "57d0d03dd26b4318aa629a9299061cb9",
              "version_major": 2,
              "version_minor": 0
            },
            "text/plain": [
              "Tab()"
            ]
          },
          "execution_count": 45,
          "metadata": {},
          "output_type": "execute_result"
        }
      ],
      "source": [
        "# get breakdown\n",
        "\n",
        "# get codes for further down\n",
        "portfolio = []\n",
        "\n",
        "for i in range(len(choices.value)):\n",
        "    portfolio.append(codes[choices.value[i]])\n",
        "\n",
        "# pick distribution\n",
        "\n",
        "tab_contents = [\"Value\"] * len(choices.value)\n",
        "children = [widgets.Text(description=name) for name in tab_contents]\n",
        "tab = widgets.Tab()\n",
        "tab.children = children\n",
        "tab.titles = choices.value\n",
        "\n",
        "tab\n"
      ]
    },
    {
      "cell_type": "markdown",
      "id": "d66fb2a2",
      "metadata": {},
      "source": [
        "The following code is to match the allocation amounts to the stock codes given the inputs from above. "
      ]
    },
    {
      "cell_type": "code",
      "execution_count": 46,
      "id": "985e3e8b",
      "metadata": {
        "id": "985e3e8b"
      },
      "outputs": [],
      "source": [
        "allocations = {}\n",
        "\n",
        "for i in range(len(tab.children)):\n",
        "    allocations[portfolio[i]]=tab.children[i].value\n"
      ]
    },
    {
      "cell_type": "markdown",
      "id": "8a231062",
      "metadata": {},
      "source": [
        "### Interested in testing out your own set of stocks?\n",
        "\n",
        "Feel free to create your own allocation dictionary. Make sure each entry is of the format \"STOCK TICKER\": allocation amount. Fill it in as you desire and click run to make sure that your custom allocations are used, even if you didn't run the above lines. Otherwise our default set of stocks will be used!"
      ]
    },
    {
      "cell_type": "code",
      "execution_count": 47,
      "id": "d63d6b43",
      "metadata": {},
      "outputs": [],
      "source": [
        "# Here's an example of what your dictionary can look like\n",
        "\n",
        "# {'AAPL':'0.4', 'MSFT':'0.3',  '^IXIC':'0.3'}\n",
        "\n",
        "allocations = {}"
      ]
    },
    {
      "cell_type": "markdown",
      "id": "a1f4eed5",
      "metadata": {
        "id": "a1f4eed5"
      },
      "source": [
        "### pulling the yf data: Luna\n",
        "\n",
        "Assume that the list of stocks will come in as a set of stock codes so you can write a loop to get each of them"
      ]
    },
    {
      "cell_type": "code",
      "execution_count": null,
      "id": "ace55141",
      "metadata": {
        "id": "ace55141"
      },
      "outputs": [],
      "source": [
        "#pulled a dictionary of different stocks, keys are tickers? i cant think of a better way to store them because the list is variable so its a bit of an issue\n",
        "\n",
        "# testList = ['AAPL', 'MSFT', 'GOOG', 'NVDA', '^GSPC', '^DJI', '^IXIC']\n",
        "if len(allocations.keys())==0: # default settings\n",
        "    portfolio = ['AAPL', 'MSFT', 'GOOG', 'NVDA', 'BIRK']\n",
        "    allocations={'AAPL':'0.2', 'MSFT':'0.2', 'GOOG':'0.2', 'NVDA':'0.2', 'BIRK':'0.2'}\n",
        "\n",
        "testList=portfolio\n",
        "\n",
        "# testString = ' '.join(testList)\n",
        "\n",
        "# tickersPull = yf.Tickers(testString)\n",
        "\n",
        "stock_min = [yf.Ticker(x).history(period='max').index.min() for x in testList] # get the earliest date (IPO) of each stock\n",
        "\n",
        "# either the last 10 years or the last x years based on the stock with the most recent IPO\n",
        "later_start_date = max(max(stock_min), pd.Timestamp('2015-01-01', tz='America/New_York')) \n",
        "\n",
        "# Pull data for each stock starting from the latest start date\n",
        "\n",
        "dataframes = {}\n",
        "for x in testList:\n",
        "    ticker = yf.Ticker(x)\n",
        "    dataframes[x] = ticker.history(period='1mo', start=later_start_date, auto_adjust=True) # (auto_adjust accounts for splits and dividends)\n",
        "    # print(dataframes[x])\n"
      ]
    },
    {
      "cell_type": "markdown",
      "id": "6c8434ca",
      "metadata": {
        "id": "6c8434ca"
      },
      "source": [
        "## Checking the returns with this : Nirantheri\n",
        "\n",
        "Using the yf data, we will check what returns looked like over time.\n",
        "\n",
        "#### TODO: should we try to project or work with previous data??\n",
        "\n",
        "https://blog.mlq.ai/python-for-finance-portfolio-optimization/\n"
      ]
    },
    {
      "cell_type": "markdown",
      "id": "441b5a5a",
      "metadata": {
        "id": "441b5a5a"
      },
      "source": [
        "## How do we calculate returns?\n",
        "\n",
        "To calculate the returns, we want to find the adjusted value of each stock amount from the date of the initial investment. We can write a function to do this with a set of inputs-- an initial portfolio value, the set of dataframes for each stock, and the breakdown of allocations  <!-- and perhaps even an initial date of investment.  -->"
      ]
    },
    {
      "cell_type": "code",
      "execution_count": 49,
      "id": "b105647a",
      "metadata": {
        "id": "b105647a"
      },
      "outputs": [],
      "source": [
        "def calculate_returns(initial_portfolio_val, dataframe, allocations):\n",
        "    all_pos_vals = []\n",
        "\n",
        "    for stock_name in dataframe:\n",
        "        # grab the dataframe for a single stock\n",
        "        stock_df = dataframe[stock_name]\n",
        "        # create normed return column\n",
        "        stock_df['Normed Return'] = stock_df['Close'] /stock_df.iloc[0]['Close']\n",
        "\n",
        "        # use normed return to adjust the percentage of portfolio held\n",
        "        allocation = float(allocations[stock_name])  # Convert allocation to float\n",
        "        stock_df['Allocation'] = stock_df['Normed Return']*allocation\n",
        "\n",
        "        # find value of stock at each date\n",
        "        stock_df['Position Value'] = stock_df['Allocation']*initial_portfolio_val\n",
        "\n",
        "        # add to list of all position values\n",
        "        all_pos_vals.append(stock_df['Position Value'])\n",
        "\n",
        "\n",
        "    # concatenate the list of position values\n",
        "    portfolio_val = pd.concat(all_pos_vals, axis=1)\n",
        "\n",
        "    # set the column names\n",
        "    portfolio_val.columns = portfolio\n",
        "\n",
        "    # add a total portfolio column\n",
        "    portfolio_val['Total'] = portfolio_val.sum(axis=1)\n",
        "\n",
        "    # changing date to column not index\n",
        "    portfolio_val = portfolio_val.reset_index()\n",
        "\n",
        "    return portfolio_val"
      ]
    },
    {
      "cell_type": "markdown",
      "id": "11ba91b5",
      "metadata": {
        "id": "11ba91b5"
      },
      "source": [
        "Then we can create a graphical representation of each of the stocks' growths over time as well as the portfolio's overall growth. To get an overall number rather than using every single data point, we can use a resampling function to grab the last day of each month in the data."
      ]
    },
    {
      "cell_type": "code",
      "execution_count": 50,
      "id": "c4a4a2ec",
      "metadata": {
        "id": "c4a4a2ec"
      },
      "outputs": [],
      "source": [
        "def graph_values(portfolio_values, graph_portfolio, graph_stocks):\n",
        "    \"\"\"graph_portfolio is a bool to show only the total portfolio, graph_stocks is to graph all stocks.\"\"\"\n",
        "\n",
        "    # Resample the portfolio_val DataFrame to only include the last date of each month\n",
        "    portfolio_val = portfolio_values.resample('ME', on='Date').last().reset_index()\n",
        "\n",
        "    if graph_portfolio:\n",
        "        portfolio_val['Total'].plot(figsize=(10,8))\n",
        "    if graph_stocks:\n",
        "        portfolio_val.drop('Total', axis=1).set_index('Date').plot(figsize=(10,8))\n",
        "\n",
        "\n",
        "    print(\"total value\", portfolio_val['Total'].iat[-1])\n"
      ]
    },
    {
      "cell_type": "markdown",
      "id": "ff8c807f",
      "metadata": {
        "id": "ff8c807f"
      },
      "source": [
        "Now that we've created a projection of how our data has been growing over time, let's see what to expect!"
      ]
    },
    {
      "cell_type": "code",
      "execution_count": 51,
      "id": "8813431d",
      "metadata": {
        "colab": {
          "base_uri": "https://localhost:8080/",
          "height": 1000
        },
        "id": "8813431d",
        "outputId": "ba3e2796-c921-4cc4-f168-ac8060142769"
      },
      "outputs": [
        {
          "name": "stdout",
          "output_type": "stream",
          "text": [
            "total value 1345721.7594906543\n"
          ]
        }
      ],
      "source": [
        "returns = calculate_returns(1e6, dataframes, allocations)\n",
        "\n",
        "graph_values(returns, False, False)"
      ]
    },
    {
      "cell_type": "code",
      "execution_count": 43,
      "id": "1ed5b08b",
      "metadata": {
        "id": "1ed5b08b"
      },
      "outputs": [],
      "source": [
        "# TODO: Implement the altair version which has more interactivity\n",
        "\n",
        "# # need to pivot the data\n",
        "# # print(portfolio_val.head())\n",
        "# print(portfolio_val.info())\n",
        "# portfolio_val.drop(\"^IXIC\", axis=1)\n",
        "# pivoted_data = portfolio_val.melt(id_vars=\"Date\", var_name=\"Stock\", value_name=\"Value\")\n",
        "\n",
        "# pivoted_data.head()\n",
        "\n",
        "\n",
        "# alt.Chart(pivoted_data).mark_line().encode(\n",
        "#     alt.X(\"Date:T\", title=\"Date\"),\n",
        "#     alt.Y(\"Value:Q\", title=\"Portfolio Value\"),\n",
        "#     alt.Color(\"Stock:N\", title=\"Stock\")\n",
        "# )\n",
        "\n",
        "\n",
        "# plot our portfolio"
      ]
    },
    {
      "cell_type": "markdown",
      "id": "cdea0ef3",
      "metadata": {
        "id": "cdea0ef3"
      },
      "source": [
        "### check strength of portfolio : Isabel\n",
        "pyfolio: https://www.pyquantnews.com/the-pyquant-newsletter/create-beautiful-strategy-tear-sheets-pyfolio-reloaded\n",
        "can also use quantstats\n",
        "\n",
        "\n",
        "\n",
        "pyfolio: get the tear sheets--> then use pandas to pull specific metrics (annual return, etc) and then have a md cell which breaks down what each of them means"
      ]
    },
    {
      "cell_type": "markdown",
      "id": "EevvZGLEkFFj",
      "metadata": {
        "id": "EevvZGLEkFFj"
      },
      "source": [
        "## 🧾 Portfolio Strength Breakdown\n",
        "\n",
        "**📈 CAGR (Compound Annual Growth Rate):**  \n",
        "Shows the average annual growth of your portfolio over time. The higher, the better — it reflects long-term performance.\n",
        "\n",
        "**📊 Sharpe Ratio:**  \n",
        "Measures your return per unit of risk. A Sharpe ratio above 1.0 is generally considered good. It means you're getting rewarded well for the volatility you’re taking on.\n",
        "\n",
        "**📉 Max Drawdown:**  \n",
        "The worst loss your portfolio experienced from peak to bottom. A lower number means your portfolio didn’t crash too hard.\n",
        "\n",
        "**📈 Volatility:**  \n",
        "Reflects how much your portfolio's value fluctuates. High volatility can mean high risk — or high opportunity.\n",
        "\n",
        "**📅 Average Daily Return:**  \n",
        "The average return your portfolio gained (or lost) per trading day. Helps you see how it behaves short term.\n",
        "\n",
        "---\n",
        "\n",
        "These metrics help you assess whether your portfolio is efficient, risky, or well-balanced — and give you data to improve it over time.\n",
        "\n",
        "We can write a function to return these values for us.\n"
      ]
    },
    {
      "cell_type": "code",
      "execution_count": 17,
      "id": "mm7sQ8pkhp70",
      "metadata": {
        "colab": {
          "base_uri": "https://localhost:8080/"
        },
        "id": "mm7sQ8pkhp70",
        "outputId": "f8a47922-ba0f-461d-ac98-89ef2162c685"
      },
      "outputs": [],
      "source": [
        "def portfolio_stats(returns):\n",
        "    # Ensure datetime is clean\n",
        "    returns.set_index('Date', inplace=True)\n",
        "\n",
        "    # Daily returns from portfolio value\n",
        "    daily_returns = returns['Total'].pct_change().dropna()\n",
        "\n",
        "    # Grab specific stats\n",
        "    cagr = stats.cagr(daily_returns)\n",
        "    sharpe = stats.sharpe(daily_returns)\n",
        "    drawdown = stats.max_drawdown(daily_returns)\n",
        "    volatility = stats.volatility(daily_returns)\n",
        "    avg_return = stats.avg_return(daily_returns)\n",
        "\n",
        "    return {\"cagr\":cagr, \"sharpe\":sharpe, \"drawdown\":drawdown, \"volatility\":volatility, \"avg_return\":avg_return}\n"
      ]
    },
    {
      "cell_type": "markdown",
      "id": "ab1e3b6a",
      "metadata": {},
      "source": [
        "Now that we've written a function for this, we can analyze the returns of our portfolio from above."
      ]
    },
    {
      "cell_type": "code",
      "execution_count": 18,
      "id": "baada866",
      "metadata": {},
      "outputs": [
        {
          "name": "stdout",
          "output_type": "stream",
          "text": [
            "📈 CAGR (Annual Return): 13.97%\n",
            "📊 Sharpe Ratio: 0.89\n",
            "📉 Max Drawdown: -32.66%\n",
            "📈 Volatility: 24.68%\n",
            "📅 Average Daily Return: 0.09%\n"
          ]
        }
      ],
      "source": [
        "portfolio_info = portfolio_stats(returns)\n",
        "\n",
        "print(f\"📈 CAGR (Annual Return): {portfolio_info[\"cagr\"]:.2%}\")\n",
        "print(f\"📊 Sharpe Ratio: {portfolio_info[\"sharpe\"]:.2f}\")\n",
        "print(f\"📉 Max Drawdown: {portfolio_info[\"drawdown\"]:.2%}\")\n",
        "print(f\"📈 Volatility: {portfolio_info[\"volatility\"]:.2%}\")\n",
        "print(f\"📅 Average Daily Return: {portfolio_info[\"avg_return\"]:.2%}\")"
      ]
    },
    {
      "cell_type": "markdown",
      "id": "b9d2b93f",
      "metadata": {
        "id": "b9d2b93f"
      },
      "source": [
        "### montecarlo simulations : tbd\n",
        "\n",
        "uses yahoo finance package and others to create montecarlo simulation for modeling\n",
        "\n",
        "montecarlo https://medium.com/analytics-vidhya/monte-carlo-simulations-for-predicting-stock-prices-python-a64f53585662"
      ]
    },
    {
      "cell_type": "markdown",
      "id": "d21089be",
      "metadata": {
        "id": "d21089be"
      },
      "source": [
        "### optimizing the set of stocks : luna\n",
        "\n",
        "use scipy\n",
        "\n",
        "optimizing your investment: https://medium.com/@ethan.duong1120/python-powered-portfolio-optimization-achieving-target-returns-through-weight-optimization-fc5163e5c9c6\n"
      ]
    },
    {
      "cell_type": "code",
      "execution_count": 19,
      "id": "4a74b215",
      "metadata": {
        "colab": {
          "base_uri": "https://localhost:8080/"
        },
        "id": "4a74b215",
        "outputId": "bd916517-07ce-4501-d9a9-aa55582cdc9d"
      },
      "outputs": [
        {
          "name": "stdout",
          "output_type": "stream",
          "text": [
            " message: Positive directional derivative for linesearch\n",
            " success: False\n",
            "  status: 8\n",
            "     fun: 0.2536147351521132\n",
            "       x: [ 1.000e+00  4.337e-12  4.898e-19]\n",
            "     nit: 63\n",
            "     jac: [ 2.536e-01  2.501e-01  1.462e-01]\n",
            "    nfev: 790\n",
            "    njev: 59\n",
            "                  0\n",
            "AAPL   1.000000e+00\n",
            "MSFT   4.336723e-12\n",
            "^IXIC  4.898369e-19\n"
          ]
        }
      ],
      "source": [
        "\n",
        "# testList = ['AAPL', 'MSFT', 'GOOG', 'TSLA', 'NFLX', 'SBUX', '^GSPC', '^DJI', '^IXIC']\n",
        "\n",
        "testList = portfolio\n",
        "\n",
        "# pull the first stock's data; drop all unnecessary columns\n",
        "ticker = yf.Ticker(testList[0])\n",
        "df = ticker.history(interval = '1d', start = '2015-01-01', end = '2025-04-01')\n",
        "df.drop(columns=['High', 'Low', 'Close', 'Volume', 'Dividends', 'Stock Splits'], inplace=True)\n",
        "df.rename({'Open' : 'AAPL'}, inplace=True)\n",
        "\n",
        "# for every other ticker, add its open value to the existing dataframe\n",
        "for x in testList[1:]:\n",
        "    ticker = yf.Ticker(x)\n",
        "    data = ticker.history(interval = '1d', start = '2015-01-01', end = '2025-04-01')\n",
        "    df.insert(len(df.columns), x, data[\"Open\"]) # for whatever reason, this line wont work\n",
        "\n",
        "#calculate percent returns for each day of each stock\n",
        "returns_df = df.pct_change(1).dropna()\n",
        "\n",
        "#operationalize determining portfolio returns\n",
        "def getPfReturn(weights):\n",
        "    \"\"\"\n",
        "    return is annualized expected return of portfolio\n",
        "    \"\"\"\n",
        "    expRetPortfolio = np.dot(np.transpose(weights), returns_df.mean()) * 250\n",
        "    return expRetPortfolio\n",
        "\n",
        "# start with stocks at equal weights\n",
        "numStocks = len(returns_df.columns)\n",
        "initialWeight = [1/numStocks] * numStocks\n",
        "\n",
        "# return goal?\n",
        "\n",
        "#TODO: figure out what we should set this value to\n",
        "\n",
        "targetReturn = .4\n",
        "\n",
        "# bounds the percentage of each stock we can hold (between 0 and 100%)\n",
        "bounds = tuple((0,1) for i in range(numStocks))\n",
        "\n",
        "# ensures the sum of all stock weights is 100% (or 1) in first constraint\n",
        "# sets goal of minimize function to hit targetReturn\n",
        "constraints = ({'type' : 'eq', 'fun' : lambda w : np.sum(w) - 1},\n",
        "               {'type' : 'eq', 'fun' : lambda x : x.dot(returns_df.mean()) * 250 - targetReturn})\n",
        "\n",
        "# can we reach our goal with these stocks??\n",
        "results = minimize(fun=getPfReturn, x0=initialWeight, bounds=bounds, constraints=constraints)\n",
        "\n",
        "#output\n",
        "print(results)\n",
        "\n",
        "optimizedResults = pd.DataFrame(results['x'])\n",
        "\n",
        "# print our optimized results\n",
        "getPfReturn(weights=results[\"x\"])\n",
        "optimizedResults.index = returns_df.columns\n",
        "\n",
        "optimizedResults.rename(index={optimizedResults.index[0]: portfolio[0]}, inplace=True)\n",
        "\n",
        "print(optimizedResults)"
      ]
    },
    {
      "cell_type": "code",
      "execution_count": 22,
      "id": "9f881de1",
      "metadata": {
        "colab": {
          "base_uri": "https://localhost:8080/",
          "height": 716
        },
        "id": "9f881de1",
        "outputId": "8df8f06c-4cba-49b4-ff37-ca12cda9844b"
      },
      "outputs": [
        {
          "name": "stdout",
          "output_type": "stream",
          "text": [
            "total value 7987933.724932499\n"
          ]
        }
      ],
      "source": [
        "initial_portfolio_val = 1e6\n",
        "\n",
        "optimized_allocations = optimizedResults[0].to_dict()\n",
        "\n",
        "optimized_returns = calculate_returns(initial_portfolio_val, dataframes, optimized_allocations)\n",
        "\n",
        "graph_values(optimized_returns, False, False)"
      ]
    },
    {
      "cell_type": "markdown",
      "id": "c538bb61",
      "metadata": {
        "id": "c538bb61"
      },
      "source": [
        "*italicized text*### rechecking the strength of your portfolio : isabel's\n",
        "\n",
        "go back to pyfolio--> will integrate after we recheck the working code"
      ]
    },
    {
      "cell_type": "markdown",
      "id": "vEZfOygKm3fG",
      "metadata": {
        "id": "vEZfOygKm3fG"
      },
      "source": [
        "### 📉 Rechecking Strength After Optimization\n",
        "\n",
        "After optimizing our portfolio allocations to achieve a target return of 40%, we reevaluate the portfolio using updated historical performance metrics.\n",
        "\n",
        "The results below reflect the **impact of computational adjustments**:\n",
        "\n",
        "- **CAGR (Annual Return):** Shows the expected annual growth based on optimized allocations.\n",
        "- **Sharpe Ratio:** Tells us how well we’re balancing risk and reward with the new weights.\n",
        "- **Max Drawdown:** Indicates if the worst-case dip has improved.\n",
        "- **Volatility:** Helps assess whether the portfolio became more stable or more erratic.\n",
        "- **Avg Daily Return:** Confirms whether daily trends look stronger after optimization.\n",
        "\n",
        "This second performance check shows whether our changes actually led to a more efficient investment strategy.\n"
      ]
    },
    {
      "cell_type": "code",
      "execution_count": 23,
      "id": "4c72f527-99d2-4d8d-a6cd-f1cbc4f6f907",
      "metadata": {
        "colab": {
          "base_uri": "https://localhost:8080/",
          "height": 226,
          "referenced_widgets": [
            "f9b0f4bc89d84ce99fe9ad9d6b593932",
            "00ac3b0317194fe8992d62afdf38ffd5",
            "2a02be38aaff4d4698456aada6350d92",
            "4f80b744e23e4dc5a823003a69a8adc7",
            "4cefd5b13cd14a67bd0a36123256b55f",
            "e4f8ad7ba039470395265eec2306a8ad",
            "007427ce72ac40ebb5ed9c194564aed5",
            "3acba409b10a4005a333a5b17473eea7"
          ]
        },
        "id": "4c72f527-99d2-4d8d-a6cd-f1cbc4f6f907",
        "outputId": "9269e981-33e6-45f1-f8a9-c6f80c474a48"
      },
      "outputs": [
        {
          "name": "stdout",
          "output_type": "stream",
          "text": [
            "📈 CAGR (Annual Return): 14.97%\n",
            "📊 Sharpe Ratio: 0.84\n",
            "📉 Max Drawdown: -38.52%\n",
            "📈 Volatility: 29.20%\n",
            "📅 Average Daily Return: 0.10%\n"
          ]
        }
      ],
      "source": [
        "portfolio_info = portfolio_stats(optimized_returns)\n",
        "\n",
        "print(f\"📈 CAGR (Annual Return): {portfolio_info[\"cagr\"]:.2%}\")\n",
        "print(f\"📊 Sharpe Ratio: {portfolio_info[\"sharpe\"]:.2f}\")\n",
        "print(f\"📉 Max Drawdown: {portfolio_info[\"drawdown\"]:.2%}\")\n",
        "print(f\"📈 Volatility: {portfolio_info[\"volatility\"]:.2%}\")\n",
        "print(f\"📅 Average Daily Return: {portfolio_info[\"avg_return\"]:.2%}\")"
      ]
    },
    {
      "cell_type": "markdown",
      "id": "MMg7s3_fnSLc",
      "metadata": {
        "id": "MMg7s3_fnSLc"
      },
      "source": [
        "After constructing our initial stock portfolio based on user-selected allocations, we evaluated its historical performance using metrics like annual return, Sharpe ratio, and drawdown. This gave us a baseline understanding of how well our portfolio performed under those weights.\n",
        "\n",
        "We then used optimization techniques (via scipy.minimize) to automatically adjust the stock allocations in order to achieve a target return while minimizing risk. This step simulates what a financial algorithm might do to make our portfolio more efficient.\n",
        "\n",
        "Finally, we re-evaluated the optimized portfolio using the same performance metrics. By comparing the before-and-after results, we can see whether the optimization actually improved our portfolio — either by increasing returns, reducing risk, or improving the Sharpe ratio (risk-adjusted performance).\n",
        "\n",
        "This comparison demonstrates the power of computational thinking in making data-driven investment decisions."
      ]
    }
  ],
  "metadata": {
    "colab": {
      "provenance": []
    },
    "kernelspec": {
      "display_name": "cs181",
      "language": "python",
      "name": "python3"
    },
    "language_info": {
      "codemirror_mode": {
        "name": "ipython",
        "version": 3
      },
      "file_extension": ".py",
      "mimetype": "text/x-python",
      "name": "python",
      "nbconvert_exporter": "python",
      "pygments_lexer": "ipython3",
      "version": "3.12.7"
    },
    "widgets": {
      "application/vnd.jupyter.widget-state+json": {
        "007427ce72ac40ebb5ed9c194564aed5": {
          "model_module": "@jupyter-widgets/output",
          "model_module_version": "1.0.0",
          "model_name": "OutputModel",
          "state": {
            "_dom_classes": [],
            "_model_module": "@jupyter-widgets/output",
            "_model_module_version": "1.0.0",
            "_model_name": "OutputModel",
            "_view_count": null,
            "_view_module": "@jupyter-widgets/output",
            "_view_module_version": "1.0.0",
            "_view_name": "OutputView",
            "layout": "IPY_MODEL_3acba409b10a4005a333a5b17473eea7",
            "msg_id": "",
            "outputs": []
          }
        },
        "00ac3b0317194fe8992d62afdf38ffd5": {
          "model_module": "@jupyter-widgets/base",
          "model_module_version": "1.2.0",
          "model_name": "LayoutModel",
          "state": {
            "_model_module": "@jupyter-widgets/base",
            "_model_module_version": "1.2.0",
            "_model_name": "LayoutModel",
            "_view_count": null,
            "_view_module": "@jupyter-widgets/base",
            "_view_module_version": "1.2.0",
            "_view_name": "LayoutView",
            "align_content": null,
            "align_items": null,
            "align_self": null,
            "border": null,
            "bottom": null,
            "display": null,
            "flex": null,
            "flex_flow": null,
            "grid_area": null,
            "grid_auto_columns": null,
            "grid_auto_flow": null,
            "grid_auto_rows": null,
            "grid_column": null,
            "grid_gap": null,
            "grid_row": null,
            "grid_template_areas": null,
            "grid_template_columns": null,
            "grid_template_rows": null,
            "height": null,
            "justify_content": null,
            "justify_items": null,
            "left": null,
            "margin": null,
            "max_height": null,
            "max_width": null,
            "min_height": null,
            "min_width": null,
            "object_fit": null,
            "object_position": null,
            "order": null,
            "overflow": null,
            "overflow_x": null,
            "overflow_y": null,
            "padding": null,
            "right": null,
            "top": null,
            "visibility": null,
            "width": null
          }
        },
        "02cd51094b754bf1bf23bfa955822a6e": {
          "model_module": "@jupyter-widgets/controls",
          "model_module_version": "1.5.0",
          "model_name": "DescriptionStyleModel",
          "state": {
            "_model_module": "@jupyter-widgets/controls",
            "_model_module_version": "1.5.0",
            "_model_name": "DescriptionStyleModel",
            "_view_count": null,
            "_view_module": "@jupyter-widgets/base",
            "_view_module_version": "1.2.0",
            "_view_name": "StyleView",
            "description_width": ""
          }
        },
        "1229fd008b5d46608c6e918f34bc3bb1": {
          "model_module": "@jupyter-widgets/controls",
          "model_module_version": "1.5.0",
          "model_name": "ButtonStyleModel",
          "state": {
            "_model_module": "@jupyter-widgets/controls",
            "_model_module_version": "1.5.0",
            "_model_name": "ButtonStyleModel",
            "_view_count": null,
            "_view_module": "@jupyter-widgets/base",
            "_view_module_version": "1.2.0",
            "_view_name": "StyleView",
            "button_color": null,
            "font_weight": ""
          }
        },
        "17257c746348483991e2e0a393c4c579": {
          "model_module": "@jupyter-widgets/controls",
          "model_module_version": "1.5.0",
          "model_name": "VBoxModel",
          "state": {
            "_dom_classes": [],
            "_model_module": "@jupyter-widgets/controls",
            "_model_module_version": "1.5.0",
            "_model_name": "VBoxModel",
            "_view_count": null,
            "_view_module": "@jupyter-widgets/controls",
            "_view_module_version": "1.5.0",
            "_view_name": "VBoxView",
            "box_style": "",
            "children": [
              "IPY_MODEL_d3bde7fea7b44aabb3e74731113976a3",
              "IPY_MODEL_63a135eaf7a8403a931570020ad3d57b"
            ],
            "layout": "IPY_MODEL_9ffd3ee92e614de8beeaa91c44527b91"
          }
        },
        "22195e8648ba4213b0cf9d3a4e7622a9": {
          "model_module": "@jupyter-widgets/controls",
          "model_module_version": "1.5.0",
          "model_name": "SelectMultipleModel",
          "state": {
            "_dom_classes": [],
            "_model_module": "@jupyter-widgets/controls",
            "_model_module_version": "1.5.0",
            "_model_name": "SelectMultipleModel",
            "_options_labels": [
              "Apple",
              "Costco",
              "Microsoft",
              "Google",
              "Nvidia",
              "Walmart",
              "AMC Entertainment",
              "S&P 500",
              "Dow Jones Industrial",
              "Nasdaq",
              "Vanguard S&P 500 ETF",
              "Fidelity 500 Index Fund",
              "Gold"
            ],
            "_view_count": null,
            "_view_module": "@jupyter-widgets/controls",
            "_view_module_version": "1.5.0",
            "_view_name": "SelectMultipleView",
            "description": "Stocks",
            "description_tooltip": null,
            "disabled": false,
            "index": [],
            "layout": "IPY_MODEL_c495e226bcaf4a9a8ed5fd69ace6539e",
            "rows": 20,
            "style": "IPY_MODEL_7c6eebaf135a4070891d2da589d9f9d4"
          }
        },
        "2a02be38aaff4d4698456aada6350d92": {
          "model_module": "@jupyter-widgets/controls",
          "model_module_version": "1.5.0",
          "model_name": "DescriptionStyleModel",
          "state": {
            "_model_module": "@jupyter-widgets/controls",
            "_model_module_version": "1.5.0",
            "_model_name": "DescriptionStyleModel",
            "_view_count": null,
            "_view_module": "@jupyter-widgets/base",
            "_view_module_version": "1.2.0",
            "_view_name": "StyleView",
            "description_width": ""
          }
        },
        "32d3d62d9f8c4649b7f9d5377cda6809": {
          "model_module": "@jupyter-widgets/controls",
          "model_module_version": "1.5.0",
          "model_name": "ButtonModel",
          "state": {
            "_dom_classes": [],
            "_model_module": "@jupyter-widgets/controls",
            "_model_module_version": "1.5.0",
            "_model_name": "ButtonModel",
            "_view_count": null,
            "_view_module": "@jupyter-widgets/controls",
            "_view_module_version": "1.5.0",
            "_view_name": "ButtonView",
            "button_style": "",
            "description": "Submit Stock Selection",
            "disabled": false,
            "icon": "",
            "layout": "IPY_MODEL_7eecc56ea7fe4c39ad65f1b5f57cc896",
            "style": "IPY_MODEL_cee8001fc421428e9f294094f13d1f47",
            "tooltip": ""
          }
        },
        "3acba409b10a4005a333a5b17473eea7": {
          "model_module": "@jupyter-widgets/base",
          "model_module_version": "1.2.0",
          "model_name": "LayoutModel",
          "state": {
            "_model_module": "@jupyter-widgets/base",
            "_model_module_version": "1.2.0",
            "_model_name": "LayoutModel",
            "_view_count": null,
            "_view_module": "@jupyter-widgets/base",
            "_view_module_version": "1.2.0",
            "_view_name": "LayoutView",
            "align_content": null,
            "align_items": null,
            "align_self": null,
            "border": null,
            "bottom": null,
            "display": null,
            "flex": null,
            "flex_flow": null,
            "grid_area": null,
            "grid_auto_columns": null,
            "grid_auto_flow": null,
            "grid_auto_rows": null,
            "grid_column": null,
            "grid_gap": null,
            "grid_row": null,
            "grid_template_areas": null,
            "grid_template_columns": null,
            "grid_template_rows": null,
            "height": null,
            "justify_content": null,
            "justify_items": null,
            "left": null,
            "margin": null,
            "max_height": null,
            "max_width": null,
            "min_height": null,
            "min_width": null,
            "object_fit": null,
            "object_position": null,
            "order": null,
            "overflow": null,
            "overflow_x": null,
            "overflow_y": null,
            "padding": null,
            "right": null,
            "top": null,
            "visibility": null,
            "width": null
          }
        },
        "470a96867bce4ec48c33fc3dff205553": {
          "model_module": "@jupyter-widgets/base",
          "model_module_version": "1.2.0",
          "model_name": "LayoutModel",
          "state": {
            "_model_module": "@jupyter-widgets/base",
            "_model_module_version": "1.2.0",
            "_model_name": "LayoutModel",
            "_view_count": null,
            "_view_module": "@jupyter-widgets/base",
            "_view_module_version": "1.2.0",
            "_view_name": "LayoutView",
            "align_content": null,
            "align_items": null,
            "align_self": null,
            "border": null,
            "bottom": null,
            "display": null,
            "flex": null,
            "flex_flow": null,
            "grid_area": null,
            "grid_auto_columns": null,
            "grid_auto_flow": null,
            "grid_auto_rows": null,
            "grid_column": null,
            "grid_gap": null,
            "grid_row": null,
            "grid_template_areas": null,
            "grid_template_columns": null,
            "grid_template_rows": null,
            "height": null,
            "justify_content": null,
            "justify_items": null,
            "left": null,
            "margin": null,
            "max_height": null,
            "max_width": null,
            "min_height": null,
            "min_width": null,
            "object_fit": null,
            "object_position": null,
            "order": null,
            "overflow": null,
            "overflow_x": null,
            "overflow_y": null,
            "padding": null,
            "right": null,
            "top": null,
            "visibility": null,
            "width": null
          }
        },
        "4cefd5b13cd14a67bd0a36123256b55f": {
          "model_module": "@jupyter-widgets/base",
          "model_module_version": "1.2.0",
          "model_name": "LayoutModel",
          "state": {
            "_model_module": "@jupyter-widgets/base",
            "_model_module_version": "1.2.0",
            "_model_name": "LayoutModel",
            "_view_count": null,
            "_view_module": "@jupyter-widgets/base",
            "_view_module_version": "1.2.0",
            "_view_name": "LayoutView",
            "align_content": null,
            "align_items": null,
            "align_self": null,
            "border": null,
            "bottom": null,
            "display": null,
            "flex": null,
            "flex_flow": null,
            "grid_area": null,
            "grid_auto_columns": null,
            "grid_auto_flow": null,
            "grid_auto_rows": null,
            "grid_column": null,
            "grid_gap": null,
            "grid_row": null,
            "grid_template_areas": null,
            "grid_template_columns": null,
            "grid_template_rows": null,
            "height": null,
            "justify_content": null,
            "justify_items": null,
            "left": null,
            "margin": null,
            "max_height": null,
            "max_width": null,
            "min_height": null,
            "min_width": null,
            "object_fit": null,
            "object_position": null,
            "order": null,
            "overflow": null,
            "overflow_x": null,
            "overflow_y": null,
            "padding": null,
            "right": null,
            "top": null,
            "visibility": null,
            "width": null
          }
        },
        "4f80b744e23e4dc5a823003a69a8adc7": {
          "model_module": "@jupyter-widgets/controls",
          "model_module_version": "1.5.0",
          "model_name": "ButtonModel",
          "state": {
            "_dom_classes": [],
            "_model_module": "@jupyter-widgets/controls",
            "_model_module_version": "1.5.0",
            "_model_name": "ButtonModel",
            "_view_count": null,
            "_view_module": "@jupyter-widgets/controls",
            "_view_module_version": "1.5.0",
            "_view_name": "ButtonView",
            "button_style": "",
            "description": "Submit Stock Selection",
            "disabled": false,
            "icon": "",
            "layout": "IPY_MODEL_4cefd5b13cd14a67bd0a36123256b55f",
            "style": "IPY_MODEL_e4f8ad7ba039470395265eec2306a8ad",
            "tooltip": ""
          }
        },
        "63a135eaf7a8403a931570020ad3d57b": {
          "model_module": "@jupyter-widgets/controls",
          "model_module_version": "1.5.0",
          "model_name": "TextModel",
          "state": {
            "_dom_classes": [],
            "_model_module": "@jupyter-widgets/controls",
            "_model_module_version": "1.5.0",
            "_model_name": "TextModel",
            "_view_count": null,
            "_view_module": "@jupyter-widgets/controls",
            "_view_module_version": "1.5.0",
            "_view_name": "TextView",
            "continuous_update": true,
            "description": "Microsoft",
            "description_tooltip": null,
            "disabled": false,
            "layout": "IPY_MODEL_470a96867bce4ec48c33fc3dff205553",
            "placeholder": "Enter % (0 to 1)",
            "style": "IPY_MODEL_96777ccbdb1146dd889913749101a40d",
            "value": ".8"
          }
        },
        "71d71d68d74e4046978d91dfb2d4802d": {
          "model_module": "@jupyter-widgets/output",
          "model_module_version": "1.0.0",
          "model_name": "OutputModel",
          "state": {
            "_dom_classes": [],
            "_model_module": "@jupyter-widgets/output",
            "_model_module_version": "1.0.0",
            "_model_name": "OutputModel",
            "_view_count": null,
            "_view_module": "@jupyter-widgets/output",
            "_view_module_version": "1.0.0",
            "_view_name": "OutputView",
            "layout": "IPY_MODEL_dc125793c2af4a8a99fe37ba0c1fad03",
            "msg_id": "",
            "outputs": []
          }
        },
        "7c6eebaf135a4070891d2da589d9f9d4": {
          "model_module": "@jupyter-widgets/controls",
          "model_module_version": "1.5.0",
          "model_name": "DescriptionStyleModel",
          "state": {
            "_model_module": "@jupyter-widgets/controls",
            "_model_module_version": "1.5.0",
            "_model_name": "DescriptionStyleModel",
            "_view_count": null,
            "_view_module": "@jupyter-widgets/base",
            "_view_module_version": "1.2.0",
            "_view_name": "StyleView",
            "description_width": ""
          }
        },
        "7eecc56ea7fe4c39ad65f1b5f57cc896": {
          "model_module": "@jupyter-widgets/base",
          "model_module_version": "1.2.0",
          "model_name": "LayoutModel",
          "state": {
            "_model_module": "@jupyter-widgets/base",
            "_model_module_version": "1.2.0",
            "_model_name": "LayoutModel",
            "_view_count": null,
            "_view_module": "@jupyter-widgets/base",
            "_view_module_version": "1.2.0",
            "_view_name": "LayoutView",
            "align_content": null,
            "align_items": null,
            "align_self": null,
            "border": null,
            "bottom": null,
            "display": null,
            "flex": null,
            "flex_flow": null,
            "grid_area": null,
            "grid_auto_columns": null,
            "grid_auto_flow": null,
            "grid_auto_rows": null,
            "grid_column": null,
            "grid_gap": null,
            "grid_row": null,
            "grid_template_areas": null,
            "grid_template_columns": null,
            "grid_template_rows": null,
            "height": null,
            "justify_content": null,
            "justify_items": null,
            "left": null,
            "margin": null,
            "max_height": null,
            "max_width": null,
            "min_height": null,
            "min_width": null,
            "object_fit": null,
            "object_position": null,
            "order": null,
            "overflow": null,
            "overflow_x": null,
            "overflow_y": null,
            "padding": null,
            "right": null,
            "top": null,
            "visibility": null,
            "width": null
          }
        },
        "7fb5bab1c3de4951847a9025ca1b9a54": {
          "model_module": "@jupyter-widgets/controls",
          "model_module_version": "1.5.0",
          "model_name": "DescriptionStyleModel",
          "state": {
            "_model_module": "@jupyter-widgets/controls",
            "_model_module_version": "1.5.0",
            "_model_name": "DescriptionStyleModel",
            "_view_count": null,
            "_view_module": "@jupyter-widgets/base",
            "_view_module_version": "1.2.0",
            "_view_name": "StyleView",
            "description_width": ""
          }
        },
        "83218c27a27d42e782c2891d68b14809": {
          "model_module": "@jupyter-widgets/controls",
          "model_module_version": "1.5.0",
          "model_name": "SelectMultipleModel",
          "state": {
            "_dom_classes": [],
            "_model_module": "@jupyter-widgets/controls",
            "_model_module_version": "1.5.0",
            "_model_name": "SelectMultipleModel",
            "_options_labels": [
              "Apple",
              "Microsoft",
              "Google",
              "Nvidia",
              "Tesla",
              "S&P 500",
              "Dow Jones",
              "Nasdaq",
              "Gold"
            ],
            "_view_count": null,
            "_view_module": "@jupyter-widgets/controls",
            "_view_module_version": "1.5.0",
            "_view_name": "SelectMultipleView",
            "description": "Stocks",
            "description_tooltip": null,
            "disabled": false,
            "index": [
              0,
              1
            ],
            "layout": "IPY_MODEL_cdb6b665ce9c4d9f962d3a936a2c7965",
            "rows": 10,
            "style": "IPY_MODEL_7fb5bab1c3de4951847a9025ca1b9a54"
          }
        },
        "96777ccbdb1146dd889913749101a40d": {
          "model_module": "@jupyter-widgets/controls",
          "model_module_version": "1.5.0",
          "model_name": "DescriptionStyleModel",
          "state": {
            "_model_module": "@jupyter-widgets/controls",
            "_model_module_version": "1.5.0",
            "_model_name": "DescriptionStyleModel",
            "_view_count": null,
            "_view_module": "@jupyter-widgets/base",
            "_view_module_version": "1.2.0",
            "_view_name": "StyleView",
            "description_width": ""
          }
        },
        "9d9a9f8eeb9f4dfe92cf8155802f2f44": {
          "model_module": "@jupyter-widgets/base",
          "model_module_version": "1.2.0",
          "model_name": "LayoutModel",
          "state": {
            "_model_module": "@jupyter-widgets/base",
            "_model_module_version": "1.2.0",
            "_model_name": "LayoutModel",
            "_view_count": null,
            "_view_module": "@jupyter-widgets/base",
            "_view_module_version": "1.2.0",
            "_view_name": "LayoutView",
            "align_content": null,
            "align_items": null,
            "align_self": null,
            "border": null,
            "bottom": null,
            "display": null,
            "flex": null,
            "flex_flow": null,
            "grid_area": null,
            "grid_auto_columns": null,
            "grid_auto_flow": null,
            "grid_auto_rows": null,
            "grid_column": null,
            "grid_gap": null,
            "grid_row": null,
            "grid_template_areas": null,
            "grid_template_columns": null,
            "grid_template_rows": null,
            "height": null,
            "justify_content": null,
            "justify_items": null,
            "left": null,
            "margin": null,
            "max_height": null,
            "max_width": null,
            "min_height": null,
            "min_width": null,
            "object_fit": null,
            "object_position": null,
            "order": null,
            "overflow": null,
            "overflow_x": null,
            "overflow_y": null,
            "padding": null,
            "right": null,
            "top": null,
            "visibility": null,
            "width": null
          }
        },
        "9ffd3ee92e614de8beeaa91c44527b91": {
          "model_module": "@jupyter-widgets/base",
          "model_module_version": "1.2.0",
          "model_name": "LayoutModel",
          "state": {
            "_model_module": "@jupyter-widgets/base",
            "_model_module_version": "1.2.0",
            "_model_name": "LayoutModel",
            "_view_count": null,
            "_view_module": "@jupyter-widgets/base",
            "_view_module_version": "1.2.0",
            "_view_name": "LayoutView",
            "align_content": null,
            "align_items": null,
            "align_self": null,
            "border": null,
            "bottom": null,
            "display": null,
            "flex": null,
            "flex_flow": null,
            "grid_area": null,
            "grid_auto_columns": null,
            "grid_auto_flow": null,
            "grid_auto_rows": null,
            "grid_column": null,
            "grid_gap": null,
            "grid_row": null,
            "grid_template_areas": null,
            "grid_template_columns": null,
            "grid_template_rows": null,
            "height": null,
            "justify_content": null,
            "justify_items": null,
            "left": null,
            "margin": null,
            "max_height": null,
            "max_width": null,
            "min_height": null,
            "min_width": null,
            "object_fit": null,
            "object_position": null,
            "order": null,
            "overflow": null,
            "overflow_x": null,
            "overflow_y": null,
            "padding": null,
            "right": null,
            "top": null,
            "visibility": null,
            "width": null
          }
        },
        "b4d532386ff5430e9c9ebafffe463a56": {
          "model_module": "@jupyter-widgets/base",
          "model_module_version": "1.2.0",
          "model_name": "LayoutModel",
          "state": {
            "_model_module": "@jupyter-widgets/base",
            "_model_module_version": "1.2.0",
            "_model_name": "LayoutModel",
            "_view_count": null,
            "_view_module": "@jupyter-widgets/base",
            "_view_module_version": "1.2.0",
            "_view_name": "LayoutView",
            "align_content": null,
            "align_items": null,
            "align_self": null,
            "border": null,
            "bottom": null,
            "display": null,
            "flex": null,
            "flex_flow": null,
            "grid_area": null,
            "grid_auto_columns": null,
            "grid_auto_flow": null,
            "grid_auto_rows": null,
            "grid_column": null,
            "grid_gap": null,
            "grid_row": null,
            "grid_template_areas": null,
            "grid_template_columns": null,
            "grid_template_rows": null,
            "height": null,
            "justify_content": null,
            "justify_items": null,
            "left": null,
            "margin": null,
            "max_height": null,
            "max_width": null,
            "min_height": null,
            "min_width": null,
            "object_fit": null,
            "object_position": null,
            "order": null,
            "overflow": null,
            "overflow_x": null,
            "overflow_y": null,
            "padding": null,
            "right": null,
            "top": null,
            "visibility": null,
            "width": null
          }
        },
        "c4607935462f4e9b9047777631c51635": {
          "model_module": "@jupyter-widgets/controls",
          "model_module_version": "1.5.0",
          "model_name": "ButtonModel",
          "state": {
            "_dom_classes": [],
            "_model_module": "@jupyter-widgets/controls",
            "_model_module_version": "1.5.0",
            "_model_name": "ButtonModel",
            "_view_count": null,
            "_view_module": "@jupyter-widgets/controls",
            "_view_module_version": "1.5.0",
            "_view_name": "ButtonView",
            "button_style": "",
            "description": "Confirm Allocations",
            "disabled": false,
            "icon": "",
            "layout": "IPY_MODEL_9d9a9f8eeb9f4dfe92cf8155802f2f44",
            "style": "IPY_MODEL_1229fd008b5d46608c6e918f34bc3bb1",
            "tooltip": ""
          }
        },
        "c495e226bcaf4a9a8ed5fd69ace6539e": {
          "model_module": "@jupyter-widgets/base",
          "model_module_version": "1.2.0",
          "model_name": "LayoutModel",
          "state": {
            "_model_module": "@jupyter-widgets/base",
            "_model_module_version": "1.2.0",
            "_model_name": "LayoutModel",
            "_view_count": null,
            "_view_module": "@jupyter-widgets/base",
            "_view_module_version": "1.2.0",
            "_view_name": "LayoutView",
            "align_content": null,
            "align_items": null,
            "align_self": null,
            "border": null,
            "bottom": null,
            "display": null,
            "flex": null,
            "flex_flow": null,
            "grid_area": null,
            "grid_auto_columns": null,
            "grid_auto_flow": null,
            "grid_auto_rows": null,
            "grid_column": null,
            "grid_gap": null,
            "grid_row": null,
            "grid_template_areas": null,
            "grid_template_columns": null,
            "grid_template_rows": null,
            "height": null,
            "justify_content": null,
            "justify_items": null,
            "left": null,
            "margin": null,
            "max_height": null,
            "max_width": null,
            "min_height": null,
            "min_width": null,
            "object_fit": null,
            "object_position": null,
            "order": null,
            "overflow": null,
            "overflow_x": null,
            "overflow_y": null,
            "padding": null,
            "right": null,
            "top": null,
            "visibility": null,
            "width": null
          }
        },
        "cdb6b665ce9c4d9f962d3a936a2c7965": {
          "model_module": "@jupyter-widgets/base",
          "model_module_version": "1.2.0",
          "model_name": "LayoutModel",
          "state": {
            "_model_module": "@jupyter-widgets/base",
            "_model_module_version": "1.2.0",
            "_model_name": "LayoutModel",
            "_view_count": null,
            "_view_module": "@jupyter-widgets/base",
            "_view_module_version": "1.2.0",
            "_view_name": "LayoutView",
            "align_content": null,
            "align_items": null,
            "align_self": null,
            "border": null,
            "bottom": null,
            "display": null,
            "flex": null,
            "flex_flow": null,
            "grid_area": null,
            "grid_auto_columns": null,
            "grid_auto_flow": null,
            "grid_auto_rows": null,
            "grid_column": null,
            "grid_gap": null,
            "grid_row": null,
            "grid_template_areas": null,
            "grid_template_columns": null,
            "grid_template_rows": null,
            "height": null,
            "justify_content": null,
            "justify_items": null,
            "left": null,
            "margin": null,
            "max_height": null,
            "max_width": null,
            "min_height": null,
            "min_width": null,
            "object_fit": null,
            "object_position": null,
            "order": null,
            "overflow": null,
            "overflow_x": null,
            "overflow_y": null,
            "padding": null,
            "right": null,
            "top": null,
            "visibility": null,
            "width": null
          }
        },
        "cee8001fc421428e9f294094f13d1f47": {
          "model_module": "@jupyter-widgets/controls",
          "model_module_version": "1.5.0",
          "model_name": "ButtonStyleModel",
          "state": {
            "_model_module": "@jupyter-widgets/controls",
            "_model_module_version": "1.5.0",
            "_model_name": "ButtonStyleModel",
            "_view_count": null,
            "_view_module": "@jupyter-widgets/base",
            "_view_module_version": "1.2.0",
            "_view_name": "StyleView",
            "button_color": null,
            "font_weight": ""
          }
        },
        "d3bde7fea7b44aabb3e74731113976a3": {
          "model_module": "@jupyter-widgets/controls",
          "model_module_version": "1.5.0",
          "model_name": "TextModel",
          "state": {
            "_dom_classes": [],
            "_model_module": "@jupyter-widgets/controls",
            "_model_module_version": "1.5.0",
            "_model_name": "TextModel",
            "_view_count": null,
            "_view_module": "@jupyter-widgets/controls",
            "_view_module_version": "1.5.0",
            "_view_name": "TextView",
            "continuous_update": true,
            "description": "Apple",
            "description_tooltip": null,
            "disabled": false,
            "layout": "IPY_MODEL_e091402537d94bdfb03958efd2d51958",
            "placeholder": "Enter % (0 to 1)",
            "style": "IPY_MODEL_02cd51094b754bf1bf23bfa955822a6e",
            "value": ".2"
          }
        },
        "dc125793c2af4a8a99fe37ba0c1fad03": {
          "model_module": "@jupyter-widgets/base",
          "model_module_version": "1.2.0",
          "model_name": "LayoutModel",
          "state": {
            "_model_module": "@jupyter-widgets/base",
            "_model_module_version": "1.2.0",
            "_model_name": "LayoutModel",
            "_view_count": null,
            "_view_module": "@jupyter-widgets/base",
            "_view_module_version": "1.2.0",
            "_view_name": "LayoutView",
            "align_content": null,
            "align_items": null,
            "align_self": null,
            "border": null,
            "bottom": null,
            "display": null,
            "flex": null,
            "flex_flow": null,
            "grid_area": null,
            "grid_auto_columns": null,
            "grid_auto_flow": null,
            "grid_auto_rows": null,
            "grid_column": null,
            "grid_gap": null,
            "grid_row": null,
            "grid_template_areas": null,
            "grid_template_columns": null,
            "grid_template_rows": null,
            "height": null,
            "justify_content": null,
            "justify_items": null,
            "left": null,
            "margin": null,
            "max_height": null,
            "max_width": null,
            "min_height": null,
            "min_width": null,
            "object_fit": null,
            "object_position": null,
            "order": null,
            "overflow": null,
            "overflow_x": null,
            "overflow_y": null,
            "padding": null,
            "right": null,
            "top": null,
            "visibility": null,
            "width": null
          }
        },
        "e091402537d94bdfb03958efd2d51958": {
          "model_module": "@jupyter-widgets/base",
          "model_module_version": "1.2.0",
          "model_name": "LayoutModel",
          "state": {
            "_model_module": "@jupyter-widgets/base",
            "_model_module_version": "1.2.0",
            "_model_name": "LayoutModel",
            "_view_count": null,
            "_view_module": "@jupyter-widgets/base",
            "_view_module_version": "1.2.0",
            "_view_name": "LayoutView",
            "align_content": null,
            "align_items": null,
            "align_self": null,
            "border": null,
            "bottom": null,
            "display": null,
            "flex": null,
            "flex_flow": null,
            "grid_area": null,
            "grid_auto_columns": null,
            "grid_auto_flow": null,
            "grid_auto_rows": null,
            "grid_column": null,
            "grid_gap": null,
            "grid_row": null,
            "grid_template_areas": null,
            "grid_template_columns": null,
            "grid_template_rows": null,
            "height": null,
            "justify_content": null,
            "justify_items": null,
            "left": null,
            "margin": null,
            "max_height": null,
            "max_width": null,
            "min_height": null,
            "min_width": null,
            "object_fit": null,
            "object_position": null,
            "order": null,
            "overflow": null,
            "overflow_x": null,
            "overflow_y": null,
            "padding": null,
            "right": null,
            "top": null,
            "visibility": null,
            "width": null
          }
        },
        "e4f8ad7ba039470395265eec2306a8ad": {
          "model_module": "@jupyter-widgets/controls",
          "model_module_version": "1.5.0",
          "model_name": "ButtonStyleModel",
          "state": {
            "_model_module": "@jupyter-widgets/controls",
            "_model_module_version": "1.5.0",
            "_model_name": "ButtonStyleModel",
            "_view_count": null,
            "_view_module": "@jupyter-widgets/base",
            "_view_module_version": "1.2.0",
            "_view_name": "StyleView",
            "button_color": null,
            "font_weight": ""
          }
        },
        "f69e43d78ee74248b809e286960ff3ad": {
          "model_module": "@jupyter-widgets/controls",
          "model_module_version": "1.5.0",
          "model_name": "TabModel",
          "state": {
            "_dom_classes": [],
            "_model_module": "@jupyter-widgets/controls",
            "_model_module_version": "1.5.0",
            "_model_name": "TabModel",
            "_titles": {},
            "_view_count": null,
            "_view_module": "@jupyter-widgets/controls",
            "_view_module_version": "1.5.0",
            "_view_name": "TabView",
            "box_style": "",
            "children": [],
            "layout": "IPY_MODEL_b4d532386ff5430e9c9ebafffe463a56",
            "selected_index": 0
          }
        },
        "f9b0f4bc89d84ce99fe9ad9d6b593932": {
          "model_module": "@jupyter-widgets/controls",
          "model_module_version": "1.5.0",
          "model_name": "SelectMultipleModel",
          "state": {
            "_dom_classes": [],
            "_model_module": "@jupyter-widgets/controls",
            "_model_module_version": "1.5.0",
            "_model_name": "SelectMultipleModel",
            "_options_labels": [
              "Apple",
              "Microsoft",
              "Google",
              "Nvidia",
              "Tesla",
              "S&P 500",
              "Dow Jones",
              "Nasdaq",
              "Gold"
            ],
            "_view_count": null,
            "_view_module": "@jupyter-widgets/controls",
            "_view_module_version": "1.5.0",
            "_view_name": "SelectMultipleView",
            "description": "Stocks",
            "description_tooltip": null,
            "disabled": false,
            "index": [
              0,
              1,
              2
            ],
            "layout": "IPY_MODEL_00ac3b0317194fe8992d62afdf38ffd5",
            "rows": 10,
            "style": "IPY_MODEL_2a02be38aaff4d4698456aada6350d92"
          }
        }
      }
    }
  },
  "nbformat": 4,
  "nbformat_minor": 5
}
