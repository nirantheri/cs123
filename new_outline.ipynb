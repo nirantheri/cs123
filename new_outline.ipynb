{
  "cells": [
    {
      "cell_type": "markdown",
      "id": "a21a0bd5",
      "metadata": {
        "id": "a21a0bd5"
      },
      "source": [
        "### Introduction: Applying Computational Thinking to Personal Finance and Portfolio Analysis\n",
        "In an era where financial independence is closely tied to the ability to make strategic investment decisions, understanding the mechanics of saving and investing has become a critical life skill. Yet, while many individuals understand the importance of saving, few have the tools or knowledge required to evaluate how different financial strategies—and especially investment decisions—impact long-term outcomes. This tutorial addresses that gap by introducing students to essential concepts in personal finance and portfolio analysis through a computational and data-driven approach.\n",
        "\n",
        "This tutorial begins by building a foundation in core savings principles. Learners will explore the functionality of common financial instruments such as high-yield savings accounts, 401(k)s, and Roth IRAs. Through interactive inputs and simulations, students will see how interest rates, compound growth, and tax advantages affect returns over time. These early exercises aim to demonstrate the value of starting early, contributing consistently, and choosing the right savings vehicles for one’s personal financial goals.\n",
        "\n",
        "Building on this foundation, the tutorial then transitions into a more advanced, investment-focused module: constructing and evaluating a personalized stock portfolio. Students will be guided through the process of:\n",
        "- Selecting their own breakdown of stocks to form a diversified portfolio based on individual risk preferences or interests.\n",
        "\n",
        "- Evaluating the strength of their chosen portfolio using historical data and key financial metrics.\n",
        "\n",
        "- Simulating potential future outcomes through Monte Carlo simulations, which model thousands of possible future scenarios to account for uncertainty and market volatility.\n",
        "\n",
        "- Optimizing the stock allocation using algorithmic methods that balance return potential with risk, aiming for the most efficient use of investment capital.\n",
        "\n",
        "- Rechecking the portfolio’s strength after optimization, to reflect the improvements made and demonstrate the impact of computational adjustments on financial performance.\n",
        "\n",
        "\n",
        "Throughout this tutorial, students will employ principles from computer science—such as data modeling, simulations, algorithmic thinking, and data visualization—to analyze financial data and make informed decisions. By the end of the tutorial, students will have developed not only a deeper understanding of financial literacy but also a practical appreciation for how computational tools can empower individuals to manage their personal wealth more effectively.\n",
        "\n",
        "This interdisciplinary exploration is designed to equip learners with a strong foundation in both personal finance and applied computation—skills that are increasingly essential in today’s data-rich, financially complex world."
      ]
    },
    {
      "cell_type": "markdown",
      "id": "1fcde335",
      "metadata": {
        "id": "1fcde335"
      },
      "source": [
        "### Disclaimer\n",
        "\n",
        "**No Guarantee of Accuracy:** While Isabel, Luna, and Nirantheri strive to provide accurate and up-to-date information, they do not guarantee the accuracy, completeness, or reliability of any content. Users should independently verify any information before making financial or investment decisions based on it.\n",
        "\n",
        "\n",
        "**Investment Risks:** Investing involves inherent risks, including but not limited to market fluctuations, economic uncertainty, geopolitical events, and individual asset performance. Past performance is not indicative of future results, and no content provided implies a guarantee of investment success.\n",
        "\n",
        "**Limitation of Liability:** Mentions of specific financial products, services, companies, or securities within the content do not constitute endorsements or recommendations. Users are responsible for conducting their own research and due diligence.\n",
        "\n",
        "**No Liability:** Isabel, Luna, Nirantheri, and their affiliates, partners, or contributors shall not be held liable for any loss, damage, or expense resulting from the use of or reliance on the provided information. All investment decisions made based on this content are the sole responsibility of the user.\n",
        "\n",
        "**Disclaimer Updates:** This disclaimer is subject to change without notice. Users are responsible for reviewing it periodically to stay informed of any updates.\n",
        "\n"
      ]
    },
    {
      "cell_type": "markdown",
      "id": "5b4b991e",
      "metadata": {
        "id": "5b4b991e"
      },
      "source": [
        "### Required Packages\n",
        "If the \"Module not found\" error shows up, use the requirements.txt file to download the missing packages.\n",
        "\n",
        "```\n",
        "pip install -r /path/to/requirements.txt\n",
        "```"
      ]
    },
    {
      "cell_type": "code",
      "execution_count": null,
      "id": "4102a911",
      "metadata": {
        "id": "4102a911"
      },
      "outputs": [],
      "source": [
        "from IPython.display import display\n",
        "\n",
        "import matplotlib.pyplot as plt\n",
        "%matplotlib inline\n",
        "\n",
        "#alphabetical\n",
        "import altair as alt\n",
        "from curl_cffi import requests\n",
        "import ipywidgets as widgets\n",
        "import numpy as np\n",
        "import pandas as pd\n",
        "import quantstats.stats as stats\n",
        "from scipy.optimize import minimize\n",
        "from scipy.stats import norm\n",
        "import yfinance as yf\n",
        "\n"
      ]
    },
    {
      "cell_type": "markdown",
      "id": "07c04a66",
      "metadata": {
        "id": "07c04a66"
      },
      "source": [
        "### Selecting Stocks\n",
        "\n",
        "First, you can select the stocks in your simulated portfolio. Ctrl+ Click the stocks that you want in your portfolio. Remember that a more diverse portfolio is better, so select at least 5 stocks to best model your findings.\n",
        "\n",
        "\n",
        "If you'd like to create a custom allocation of stocks, skip to the section [Custom Allocations](#custom-allocation)\n",
        "\n",
        "We used ipywidget documentation for [Checkboxes](https://ipywidgets.readthedocs.io/en/7.x/examples/Widget%20List.html#Checkbox) and [SelectMultiple](https://ipywidgets.readthedocs.io/en/7.x/examples/Widget%20List.html#SelectMultiple)\n"
      ]
    },
    {
      "cell_type": "code",
      "execution_count": 3,
      "id": "7af31160",
      "metadata": {
        "colab": {
          "referenced_widgets": [
            "67f4e82e58f34261aaa37a1b6c79140a"
          ]
        },
        "id": "7af31160",
        "outputId": "9f7d71e1-0502-41d7-cb80-26c0ed5f76ee"
      },
      "outputs": [
        {
          "data": {
            "application/vnd.jupyter.widget-view+json": {
              "model_id": "ae2576209d5a460c84e5d2af82958746",
              "version_major": 2,
              "version_minor": 0
            },
            "text/plain": [
              "SelectMultiple(description='Stocks', options=('Apple', 'Costco', 'Microsoft', 'Google', 'Starbucks', 'Tyson Fo…"
            ]
          },
          "metadata": {},
          "output_type": "display_data"
        }
      ],
      "source": [
        "codes = {\"Apple\": 'AAPL',\n",
        "        \"Costco\": 'COST',\n",
        "        \"Microsoft\": 'MSFT',\n",
        "        \"Google\": 'GOOG',\n",
        "        \"Starbucks\":'SBUX',\n",
        "        \"Tyson Foods\": 'TSN',\n",
        "        \"Intel Corp\":'INTC',\n",
        "        \"Walmart\": 'WMT',\n",
        "        \"Amazon\":'AMZN',\n",
        "        \"BJ's Wholesale Club\":'BJ',\n",
        "        \"Toyota\":'TM',\n",
        "        \"S&P 500\": '^GSPC',\n",
        "        \"Dow Jones Industrial\": '^DJI',\n",
        "        \"Nasdaq\": '^IXIC',\n",
        "        \"Vanguard S&P 500 ETF\": 'VOO',\n",
        "        \"Fidelity 500 Index Fund\": 'FXAIX',\n",
        "        \"Gold\":'GLD'}\n",
        "\n",
        "codes.keys()\n",
        "\n",
        "\n",
        "choices = widgets.SelectMultiple(\n",
        "    options=codes.keys(),\n",
        "    value=[],\n",
        "    rows=20,\n",
        "    description='Stocks',\n",
        "    disabled=False\n",
        ")\n",
        "\n",
        "display(choices)"
      ]
    },
    {
      "cell_type": "markdown",
      "id": "52f0405d",
      "metadata": {
        "id": "52f0405d"
      },
      "source": [
        "### Picking The Breakdown of Stocks\n",
        "\n",
        "<!-- clarifying what the breakdown of stocks is, why are we doing this -->\n",
        "\n",
        "Without rerunning the previous code chunk, run the next one and input your allocation amounts as a decimal ex (0.3 or .5). Make sure they add up to 1! This step will allow you to invest in each stock proportionally.\n",
        "<!--\n",
        "[setup using the above code chunk](https://ipywidgets.readthedocs.io/en/7.x/examples/Widget%20List.html#Tabs) -->\n",
        "\n",
        "This was setup using documentation for [Tabs](https://ipywidgets.readthedocs.io/en/7.x/examples/Widget%20List.html#Tabs)"
      ]
    },
    {
      "cell_type": "code",
      "execution_count": 4,
      "id": "35f83dbc",
      "metadata": {
        "colab": {
          "referenced_widgets": [
            "fe5c1da1e4594c5bbd2505856a37b8cf"
          ]
        },
        "id": "35f83dbc",
        "outputId": "8143cce5-d5df-4b2c-efdf-68cd73f4e5ea"
      },
      "outputs": [
        {
          "data": {
            "application/vnd.jupyter.widget-view+json": {
              "model_id": "5e94e21ac68644849b902a8909887299",
              "version_major": 2,
              "version_minor": 0
            },
            "text/plain": [
              "Tab(children=(Text(value='', description='Value'), Text(value='', description='Value'), Text(value='', descrip…"
            ]
          },
          "execution_count": 4,
          "metadata": {},
          "output_type": "execute_result"
        }
      ],
      "source": [
        "# get codes for further down\n",
        "portfolio = []\n",
        "\n",
        "for i in range(len(choices.value)):\n",
        "    portfolio.append(codes[choices.value[i]])\n",
        "\n",
        "# pick distribution\n",
        "\n",
        "tab_contents = [\"Value\"] * len(choices.value)\n",
        "children = [widgets.Text(description=name) for name in tab_contents]\n",
        "tab = widgets.Tab()\n",
        "tab.children = children\n",
        "tab.titles = choices.value\n",
        "\n",
        "tab"
      ]
    },
    {
      "cell_type": "markdown",
      "id": "29b9a5e2",
      "metadata": {
        "id": "29b9a5e2"
      },
      "source": [
        "The following code is to match the allocation amounts to the stock codes given the inputs from above. You don't need to do anything here!"
      ]
    },
    {
      "cell_type": "code",
      "execution_count": 14,
      "id": "985e3e8b",
      "metadata": {
        "id": "985e3e8b"
      },
      "outputs": [],
      "source": [
        "# matching allocation amounts to stock codes given inputs from above\n",
        "\n",
        "allocations = {}\n",
        "\n",
        "for i in range(len(tab.children)):\n",
        "    allocations[portfolio[i]]=tab.children[i].value\n"
      ]
    },
    {
      "cell_type": "markdown",
      "id": "ce27bfeb",
      "metadata": {
        "id": "ce27bfeb"
      },
      "source": [
        "### Custom Allocation \n",
        "\n",
        "Feel free to create your own allocation dictionary. Make sure each entry is of the format \"STOCK TICKER\": allocation amount. Fill it in as you desire and click run to make sure that your custom allocations are used, even if you didn't run the above lines. Otherwise our default set of stocks will be used! Do not run this cell unless you're planning on using a custom amount-- otherwise the default values we used will be input instead.\n",
        "\n",
        "NOTE: for index funds, you have to prefix them with \"^\""
      ]
    },
    {
      "cell_type": "code",
      "execution_count": 15,
      "id": "d9363a96",
      "metadata": {
        "id": "d9363a96"
      },
      "outputs": [],
      "source": [
        "# Here's an example of what your dictionary can look like\n",
        "\n",
        "# {'AAPL':'0.4', 'MSFT':'0.3',  '^IXIC':'0.3'}\n",
        "\n",
        "allocations = {}"
      ]
    },
    {
      "cell_type": "markdown",
      "id": "a1f4eed5",
      "metadata": {
        "id": "a1f4eed5"
      },
      "source": [
        "### Pulling Stock Data History Using the YahooFinance API\n",
        "\n",
        "Using the list of stocks in our dictionary, the below code will grab the data for each stock.\n",
        "\n",
        "NOTE: the session line is a temporary fix for a new rate-limiting error that yahoofinance api are running into recently, from [Github](https://github.com/ranaroussi/yfinance/issues/2422#issuecomment-2840774505) "
      ]
    },
    {
      "cell_type": "code",
      "execution_count": null,
      "id": "ace55141",
      "metadata": {
        "id": "ace55141",
        "outputId": "0e97dab8-be7e-4257-d4ca-6eabbcc87d5b"
      },
      "outputs": [],
      "source": [
        "if len(portfolio)==0 or len(allocations)==0: # for default values\n",
        "    allocations={'AAPL':'0.1', 'MSFT':'0.1',  '^IXIC':'0.1', 'COST': '0.1', 'WMT': '0.1', 'AMZN':'0.1', '^GSPC':'0.1', 'SBUX':'0.1', 'TSN':'0.1','INTC':'0.1'}\n",
        "    portfolio = list(allocations.keys())\n",
        "\n",
        "# This is so that the rate limiting error will not occur \n",
        "session = requests.Session(impersonate=\"chrome\")\n",
        "\n",
        "testList=list(allocations.keys())\n",
        "testString = ' '.join(testList)\n",
        "\n",
        "tickersPull = yf.Tickers(testString)\n",
        "\n",
        "#in the dictionary dataframes, each ticker is indexed by its ticker as seen in the testList (auto_adjust accounts for splits and dividends)\n",
        "dataframes = {}\n",
        "for x in testList:\n",
        "    ticker = yf.Ticker(x, session=session)\n",
        "    dataframes[x] = ticker.history(period='1mo', start='2015-01-01', auto_adjust=True)"
      ]
    },
    {
      "cell_type": "markdown",
      "id": "441b5a5a",
      "metadata": {
        "id": "441b5a5a"
      },
      "source": [
        "#### How do we calculate returns?\n",
        "\n",
        "<!-- have we defined returns at this point? -->\n",
        "\n",
        "To calculate the returns, we want to find the adjusted value of each stock amount from the date of the initial investment. We can write a function to do this with a set of inputs-- an initial portfolio value, the set of dataframes for each stock, and the breakdown of allocations  <!-- and perhaps even an initial date of investment.  -->\n",
        "\n",
        "We used [this resource](https://blog.mlq.ai/python-for-finance-portfolio-optimization/) to help with this section."
      ]
    },
    {
      "cell_type": "code",
      "execution_count": 17,
      "id": "b105647a",
      "metadata": {
        "id": "b105647a"
      },
      "outputs": [],
      "source": [
        "def calculate_returns(initial_portfolio_val, dataframe, allocations):\n",
        "    all_pos_vals = []\n",
        "\n",
        "    for stock_name in dataframe:\n",
        "        # grab the dataframe for a single stock\n",
        "        stock_df = dataframe[stock_name]\n",
        "        # create normed return column\n",
        "        stock_df['Normed Return'] = stock_df['Close'] /stock_df.iloc[0]['Close']\n",
        "\n",
        "        # use normed return to adjust the percentage of portfolio held\n",
        "        allocation = float(allocations[stock_name])  # Convert allocation to float\n",
        "        stock_df['Allocation'] = stock_df['Normed Return']*allocation\n",
        "\n",
        "        # find value of stock at each date\n",
        "        stock_df['Position Value'] = stock_df['Allocation']*initial_portfolio_val\n",
        "\n",
        "        # add to list of all position values\n",
        "        all_pos_vals.append(stock_df['Position Value'])\n",
        "\n",
        "    # concatenate the list of position values\n",
        "    portfolio_val = pd.concat(all_pos_vals, axis=1)\n",
        "\n",
        "    # set the column names\n",
        "    portfolio_val.columns = portfolio\n",
        "\n",
        "    # add a total portfolio column\n",
        "    portfolio_val['Total'] = portfolio_val.sum(axis=1)\n",
        "\n",
        "    # changing date to column not index\n",
        "    portfolio_val = portfolio_val.reset_index()\n",
        "\n",
        "    return portfolio_val\n",
        "\n"
      ]
    },
    {
      "cell_type": "markdown",
      "id": "11ba91b5",
      "metadata": {
        "id": "11ba91b5"
      },
      "source": [
        "Then we can write a function which prints the initial and final allocation amounts and creates a graphical representation of each of the stocks' growths over time as well as the portfolio's overall growth. To get an overall number rather than using every single data point, we can use a resampling function to grab the last day of each month in the data. \n",
        "\n",
        "Then we can create a graphing function which can graph both the total value of the portfolio over time as well as the breakdown of each stock's value while showing the value as you hover over it."
      ]
    },
    {
      "cell_type": "code",
      "execution_count": 117,
      "id": "c4a4a2ec",
      "metadata": {
        "id": "c4a4a2ec"
      },
      "outputs": [],
      "source": [
        "def graph_returns(returns, show_total, show_individual):\n",
        "\n",
        "    # resampling values\n",
        "    portfolio_val = returns.resample('ME', on='Date').first().reset_index()\n",
        "\n",
        "    initial_amts = returns.iloc[0][1:]\n",
        "    ending_amts = returns.iloc[-1][1:]\n",
        "    initial_amts = initial_amts.reset_index()\n",
        "    ending_amts = ending_amts.reset_index()\n",
        "\n",
        "    amts = pd.merge(initial_amts, ending_amts)\n",
        "\n",
        "    amts.columns = [\"Date\", \"Initial Amounts\", \"Ending Amounts\"]\n",
        "    \n",
        "    print(amts)\n",
        "\n",
        "    if show_total:\n",
        "        # only need the total column\n",
        "        data = portfolio_val.drop(portfolio, axis=1)\n",
        "        pivoted_data_total = data.melt(id_vars=\"Date\", var_name=\"Stock\", value_name=\"Value\")\n",
        "\n",
        "        grapher(pivoted_data_total).display()\n",
        "\n",
        "\n",
        "\n",
        "    if show_individual:\n",
        "        pivoted_data_individual = portfolio_val.melt(id_vars=\"Date\", value_vars = portfolio, var_name=\"Stock\", value_name=\"Value\")\n",
        "\n",
        "        grapher(pivoted_data_individual).display()\n",
        "\n",
        "\n",
        "\n",
        "def grapher(pivoted_data):\n",
        "        # for stock vs total\n",
        "        portfolio = pivoted_data['Stock'].unique()\n",
        "\n",
        "        # set hovering conditions\n",
        "\n",
        "        nearest = alt.selection_point(nearest=True, on=\"mouseover\",fields=[\"Date\"], empty=False)\n",
        "\n",
        "        when_near = alt.when(nearest)\n",
        "\n",
        "        # create basis of the graph\n",
        "        basic_graph = alt.Chart(pivoted_data).mark_line().encode(\n",
        "            alt.X(\"Date:T\", title=\"Date\"),\n",
        "            alt.Y(\"Value:Q\", title=\"Portfolio Value\"),\n",
        "            alt.Color(\"Stock:N\", title=\"Stock\"),\n",
        "        ).interactive()\n",
        "\n",
        "        # Draw points on the line, and if I am \"near\" then make them visible\n",
        "        points = basic_graph.mark_point().encode(\n",
        "            opacity=when_near.then(alt.value(1)).otherwise(alt.value(0))\n",
        "        )\n",
        "\n",
        "        # add rule so that a line shows up where the mouse is, and shows every data point at the mouseover.\n",
        "        rules = alt.Chart(pivoted_data).transform_pivot(\n",
        "            \"Stock\",\n",
        "            value=\"Value\",\n",
        "            groupby=[\"Date\"]\n",
        "        ).mark_rule(color=\"gray\").encode(\n",
        "            x=\"Date:T\",\n",
        "            opacity=when_near.then(alt.value(0.3)).otherwise(alt.value(0)),\n",
        "            tooltip=[\n",
        "            alt.Tooltip(\"Date:T\", title=\"Date\"),\n",
        "            *[alt.Tooltip(stock, type=\"quantitative\", format=\".2f\") for stock in portfolio],\n",
        "            ],\n",
        "        ).add_params(nearest)\n",
        "\n",
        "\n",
        "        # Put the data together\n",
        "        chart = alt.layer(\n",
        "            basic_graph, points, rules\n",
        "        ).properties(\n",
        "            width=600, height=300, # because the auto-size is quite small\n",
        "            title=\"Portfolio Value Over Time\"  \n",
        "        )\n",
        "        return chart\n"
      ]
    },
    {
      "cell_type": "markdown",
      "id": "ff8c807f",
      "metadata": {
        "id": "ff8c807f"
      },
      "source": [
        "Now that we've created a projection of how our data has been growing over time, let's see what to expect!"
      ]
    },
    {
      "cell_type": "markdown",
      "id": "sGyryTm_nQ-6",
      "metadata": {
        "id": "sGyryTm_nQ-6"
      },
      "source": [
        "### Visualizing Your Portfolio"
      ]
    },
    {
      "cell_type": "markdown",
      "id": "Rqr5PpS0nYDU",
      "metadata": {
        "id": "Rqr5PpS0nYDU"
      },
      "source": [
        "The initial and ending values of the portfolio are printed for each stock and for the total amount.\n",
        "\n",
        "The plots can show how your portfolio value evolved over time using your initial stock allocations. Feel free to alter the initial investment amount if you want to get an idea of your own personal finances.\n",
        "\n",
        "- The **\"Total\" line** represents the entire portfolio’s value.\n",
        "- The **colored lines** show how much each individual stock contributed to the total.\n",
        "- **Hover over** the chart to see daily values and compare how stocks performed relative to each other.\n",
        "\n",
        "Questions to Ask Yourself:\n",
        "- Consistency: Do values rise steadily or fluctuate a lot?\n",
        "- Dominance: Are certain stocks pulling most of the weight?\n",
        "- Volatility: Are there sharp dips or spikes in certain assets?\n",
        "- Results: Which stocks end with a higher value and which end with a lower value?"
      ]
    },
    {
      "cell_type": "code",
      "execution_count": 118,
      "id": "8813431d",
      "metadata": {
        "id": "8813431d"
      },
      "outputs": [
        {
          "name": "stdout",
          "output_type": "stream",
          "text": [
            "     Date Initial Amounts  Ending Amounts\n",
            "0    AAPL        100000.0   866719.750455\n",
            "1    MSFT        100000.0  1121128.397394\n",
            "2   ^IXIC        100000.0   395792.162539\n",
            "3    COST        100000.0   887809.906338\n",
            "4     WMT        100000.0   414863.649554\n",
            "5    AMZN        100000.0  1352521.744065\n",
            "6   ^GSPC        100000.0   283946.656304\n",
            "7    SBUX        100000.0   256916.653663\n",
            "8     TSN        100000.0   175616.834466\n",
            "9    INTC        100000.0    79508.298327\n",
            "10  Total       1000000.0  5834824.053106\n"
          ]
        },
        {
          "data": {
            "text/html": [
              "\n",
              "<style>\n",
              "  #altair-viz-2ab5806dc1854da38590eab3fe9277e7.vega-embed {\n",
              "    width: 100%;\n",
              "    display: flex;\n",
              "  }\n",
              "\n",
              "  #altair-viz-2ab5806dc1854da38590eab3fe9277e7.vega-embed details,\n",
              "  #altair-viz-2ab5806dc1854da38590eab3fe9277e7.vega-embed details summary {\n",
              "    position: relative;\n",
              "  }\n",
              "</style>\n",
              "<div id=\"altair-viz-2ab5806dc1854da38590eab3fe9277e7\"></div>\n",
              "<script type=\"text/javascript\">\n",
              "  var VEGA_DEBUG = (typeof VEGA_DEBUG == \"undefined\") ? {} : VEGA_DEBUG;\n",
              "  (function(spec, embedOpt){\n",
              "    let outputDiv = document.currentScript.previousElementSibling;\n",
              "    if (outputDiv.id !== \"altair-viz-2ab5806dc1854da38590eab3fe9277e7\") {\n",
              "      outputDiv = document.getElementById(\"altair-viz-2ab5806dc1854da38590eab3fe9277e7\");\n",
              "    }\n",
              "\n",
              "    const paths = {\n",
              "      \"vega\": \"https://cdn.jsdelivr.net/npm/vega@5?noext\",\n",
              "      \"vega-lib\": \"https://cdn.jsdelivr.net/npm/vega-lib?noext\",\n",
              "      \"vega-lite\": \"https://cdn.jsdelivr.net/npm/vega-lite@5.20.1?noext\",\n",
              "      \"vega-embed\": \"https://cdn.jsdelivr.net/npm/vega-embed@6?noext\",\n",
              "    };\n",
              "\n",
              "    function maybeLoadScript(lib, version) {\n",
              "      var key = `${lib.replace(\"-\", \"\")}_version`;\n",
              "      return (VEGA_DEBUG[key] == version) ?\n",
              "        Promise.resolve(paths[lib]) :\n",
              "        new Promise(function(resolve, reject) {\n",
              "          var s = document.createElement('script');\n",
              "          document.getElementsByTagName(\"head\")[0].appendChild(s);\n",
              "          s.async = true;\n",
              "          s.onload = () => {\n",
              "            VEGA_DEBUG[key] = version;\n",
              "            return resolve(paths[lib]);\n",
              "          };\n",
              "          s.onerror = () => reject(`Error loading script: ${paths[lib]}`);\n",
              "          s.src = paths[lib];\n",
              "        });\n",
              "    }\n",
              "\n",
              "    function showError(err) {\n",
              "      outputDiv.innerHTML = `<div class=\"error\" style=\"color:red;\">${err}</div>`;\n",
              "      throw err;\n",
              "    }\n",
              "\n",
              "    function displayChart(vegaEmbed) {\n",
              "      vegaEmbed(outputDiv, spec, embedOpt)\n",
              "        .catch(err => showError(`Javascript Error: ${err.message}<br>This usually means there's a typo in your chart specification. See the javascript console for the full traceback.`));\n",
              "    }\n",
              "\n",
              "    if(typeof define === \"function\" && define.amd) {\n",
              "      requirejs.config({paths});\n",
              "      let deps = [\"vega-embed\"];\n",
              "      require(deps, displayChart, err => showError(`Error loading script: ${err.message}`));\n",
              "    } else {\n",
              "      maybeLoadScript(\"vega\", \"5\")\n",
              "        .then(() => maybeLoadScript(\"vega-lite\", \"5.20.1\"))\n",
              "        .then(() => maybeLoadScript(\"vega-embed\", \"6\"))\n",
              "        .catch(showError)\n",
              "        .then(() => displayChart(vegaEmbed));\n",
              "    }\n",
              "  })({\"config\": {\"view\": {\"continuousWidth\": 300, \"continuousHeight\": 300}}, \"layer\": [{\"mark\": {\"type\": \"line\"}, \"encoding\": {\"color\": {\"field\": \"Stock\", \"title\": \"Stock\", \"type\": \"nominal\"}, \"x\": {\"field\": \"Date\", \"title\": \"Date\", \"type\": \"temporal\"}, \"y\": {\"field\": \"Value\", \"title\": \"Portfolio Value\", \"type\": \"quantitative\"}}, \"name\": \"view_53\"}, {\"mark\": {\"type\": \"point\"}, \"encoding\": {\"color\": {\"field\": \"Stock\", \"title\": \"Stock\", \"type\": \"nominal\"}, \"opacity\": {\"condition\": [{\"param\": \"param_53\", \"value\": 1, \"empty\": false}], \"value\": 0}, \"x\": {\"field\": \"Date\", \"title\": \"Date\", \"type\": \"temporal\"}, \"y\": {\"field\": \"Value\", \"title\": \"Portfolio Value\", \"type\": \"quantitative\"}}}, {\"mark\": {\"type\": \"rule\", \"color\": \"gray\"}, \"encoding\": {\"opacity\": {\"condition\": [{\"param\": \"param_53\", \"value\": 0.3, \"empty\": false}], \"value\": 0}, \"tooltip\": [{\"field\": \"Date\", \"title\": \"Date\", \"type\": \"temporal\"}, {\"field\": \"Total\", \"format\": \".2f\", \"type\": \"quantitative\"}], \"x\": {\"field\": \"Date\", \"type\": \"temporal\"}}, \"name\": \"view_54\", \"transform\": [{\"pivot\": \"Stock\", \"value\": \"Value\", \"groupby\": [\"Date\"]}]}], \"data\": {\"name\": \"data-b70dbbe6bad91472722d26117b0b14f6\"}, \"height\": 300, \"params\": [{\"name\": \"param_54\", \"select\": {\"type\": \"interval\", \"encodings\": [\"x\", \"y\"]}, \"bind\": \"scales\", \"views\": [\"view_53\"]}, {\"name\": \"param_53\", \"select\": {\"type\": \"point\", \"fields\": [\"Date\"], \"nearest\": true, \"on\": \"mouseover\"}, \"views\": [\"view_54\"]}], \"title\": \"Portfolio Value Over Time\", \"width\": 600, \"$schema\": \"https://vega.github.io/schema/vega-lite/v5.20.1.json\", \"datasets\": {\"data-b70dbbe6bad91472722d26117b0b14f6\": [{\"Date\": \"2015-01-31T00:00:00-05:00\", \"Stock\": \"Total\", \"Value\": 1000000.0}, {\"Date\": \"2015-02-28T00:00:00-05:00\", \"Stock\": \"Total\", \"Value\": 1014564.0102439035}, {\"Date\": \"2015-03-31T00:00:00-04:00\", \"Stock\": \"Total\", \"Value\": 1069095.5618247252}, {\"Date\": \"2015-04-30T00:00:00-04:00\", \"Stock\": \"Total\", \"Value\": 1025854.5669427938}, {\"Date\": \"2015-05-31T00:00:00-04:00\", \"Stock\": \"Total\", \"Value\": 1085396.7617935387}, {\"Date\": \"2015-06-30T00:00:00-04:00\", \"Stock\": \"Total\", \"Value\": 1094968.0233828127}, {\"Date\": \"2015-07-31T00:00:00-04:00\", \"Stock\": \"Total\", \"Value\": 1072159.8803996285}, {\"Date\": \"2015-08-31T00:00:00-04:00\", \"Stock\": \"Total\", \"Value\": 1111474.1638035618}, {\"Date\": \"2015-09-30T00:00:00-04:00\", \"Stock\": \"Total\", \"Value\": 1035749.8547896626}, {\"Date\": \"2015-10-31T00:00:00-04:00\", \"Stock\": \"Total\", \"Value\": 1078552.4776614106}, {\"Date\": \"2015-11-30T00:00:00-05:00\", \"Stock\": \"Total\", \"Value\": 1191339.417758808}, {\"Date\": \"2015-12-31T00:00:00-05:00\", \"Stock\": \"Total\", \"Value\": 1230854.1633762768}, {\"Date\": \"2016-01-31T00:00:00-05:00\", \"Stock\": \"Total\", \"Value\": 1192653.7583947957}, {\"Date\": \"2016-02-29T00:00:00-05:00\", \"Stock\": \"Total\", \"Value\": 1157821.2046286978}, {\"Date\": \"2016-03-31T00:00:00-04:00\", \"Stock\": \"Total\", \"Value\": 1187000.276360166}, {\"Date\": \"2016-04-30T00:00:00-04:00\", \"Stock\": \"Total\", \"Value\": 1242306.2972342134}, {\"Date\": \"2016-05-31T00:00:00-04:00\", \"Stock\": \"Total\", \"Value\": 1217229.1204454189}, {\"Date\": \"2016-06-30T00:00:00-04:00\", \"Stock\": \"Total\", \"Value\": 1240952.4871595378}, {\"Date\": \"2016-07-31T00:00:00-04:00\", \"Stock\": \"Total\", \"Value\": 1253456.5662974361}, {\"Date\": \"2016-08-31T00:00:00-04:00\", \"Stock\": \"Total\", \"Value\": 1337134.021165568}, {\"Date\": \"2016-09-30T00:00:00-04:00\", \"Stock\": \"Total\", \"Value\": 1339345.1193585438}, {\"Date\": \"2016-10-31T00:00:00-04:00\", \"Stock\": \"Total\", \"Value\": 1359670.7792613497}, {\"Date\": \"2016-11-30T00:00:00-05:00\", \"Stock\": \"Total\", \"Value\": 1312633.8461563005}, {\"Date\": \"2016-12-31T00:00:00-05:00\", \"Stock\": \"Total\", \"Value\": 1285905.4552539696}, {\"Date\": \"2017-01-31T00:00:00-05:00\", \"Stock\": \"Total\", \"Value\": 1330936.5215126101}, {\"Date\": \"2017-02-28T00:00:00-05:00\", \"Stock\": \"Total\", \"Value\": 1375347.6337204513}, {\"Date\": \"2017-03-31T00:00:00-04:00\", \"Stock\": \"Total\", \"Value\": 1433959.1199098006}, {\"Date\": \"2017-04-30T00:00:00-04:00\", \"Stock\": \"Total\", \"Value\": 1441820.748406085}, {\"Date\": \"2017-05-31T00:00:00-04:00\", \"Stock\": \"Total\", \"Value\": 1499582.4773092393}, {\"Date\": \"2017-06-30T00:00:00-04:00\", \"Stock\": \"Total\", \"Value\": 1540739.4432954658}, {\"Date\": \"2017-07-31T00:00:00-04:00\", \"Stock\": \"Total\", \"Value\": 1476474.763636228}, {\"Date\": \"2017-08-31T00:00:00-04:00\", \"Stock\": \"Total\", \"Value\": 1521824.2576647906}, {\"Date\": \"2017-09-30T00:00:00-04:00\", \"Stock\": \"Total\", \"Value\": 1535776.9253233569}, {\"Date\": \"2017-10-31T00:00:00-04:00\", \"Stock\": \"Total\", \"Value\": 1557284.189073689}, {\"Date\": \"2017-11-30T00:00:00-05:00\", \"Stock\": \"Total\", \"Value\": 1684790.2047565973}, {\"Date\": \"2017-12-31T00:00:00-05:00\", \"Stock\": \"Total\", \"Value\": 1772836.64664422}, {\"Date\": \"2018-01-31T00:00:00-05:00\", \"Stock\": \"Total\", \"Value\": 1799973.4945690876}, {\"Date\": \"2018-02-28T00:00:00-05:00\", \"Stock\": \"Total\", \"Value\": 1892523.3660337883}, {\"Date\": \"2018-03-31T00:00:00-04:00\", \"Stock\": \"Total\", \"Value\": 1893735.210498855}, {\"Date\": \"2018-04-30T00:00:00-04:00\", \"Stock\": \"Total\", \"Value\": 1807285.5066973767}, {\"Date\": \"2018-05-31T00:00:00-04:00\", \"Stock\": \"Total\", \"Value\": 1935734.4520289102}, {\"Date\": \"2018-06-30T00:00:00-04:00\", \"Stock\": \"Total\", \"Value\": 2006308.5749684277}, {\"Date\": \"2018-07-31T00:00:00-04:00\", \"Stock\": \"Total\", \"Value\": 1988956.151191979}, {\"Date\": \"2018-08-31T00:00:00-04:00\", \"Stock\": \"Total\", \"Value\": 2044492.6720298901}, {\"Date\": \"2018-09-30T00:00:00-04:00\", \"Stock\": \"Total\", \"Value\": 2217599.2752249576}, {\"Date\": \"2018-10-31T00:00:00-04:00\", \"Stock\": \"Total\", \"Value\": 2203691.1286691003}, {\"Date\": \"2018-11-30T00:00:00-05:00\", \"Stock\": \"Total\", \"Value\": 2071160.8473304561}, {\"Date\": \"2018-12-31T00:00:00-05:00\", \"Stock\": \"Total\", \"Value\": 2114594.2029607138}, {\"Date\": \"2019-01-31T00:00:00-05:00\", \"Stock\": \"Total\", \"Value\": 1892785.8231374454}, {\"Date\": \"2019-02-28T00:00:00-05:00\", \"Stock\": \"Total\", \"Value\": 1998314.6019906872}, {\"Date\": \"2019-03-31T00:00:00-04:00\", \"Stock\": \"Total\", \"Value\": 2095885.2821481754}, {\"Date\": \"2019-04-30T00:00:00-04:00\", \"Stock\": \"Total\", \"Value\": 2233600.02555383}, {\"Date\": \"2019-05-31T00:00:00-04:00\", \"Stock\": \"Total\", \"Value\": 2326318.122793778}, {\"Date\": \"2019-06-30T00:00:00-04:00\", \"Stock\": \"Total\", \"Value\": 2164555.403746687}, {\"Date\": \"2019-07-31T00:00:00-04:00\", \"Stock\": \"Total\", \"Value\": 2404549.284349047}, {\"Date\": \"2019-08-31T00:00:00-04:00\", \"Stock\": \"Total\", \"Value\": 2434158.061902323}, {\"Date\": \"2019-09-30T00:00:00-04:00\", \"Stock\": \"Total\", \"Value\": 2455374.145008632}, {\"Date\": \"2019-10-31T00:00:00-04:00\", \"Stock\": \"Total\", \"Value\": 2416862.4012927446}, {\"Date\": \"2019-11-30T00:00:00-05:00\", \"Stock\": \"Total\", \"Value\": 2518221.1709075617}, {\"Date\": \"2019-12-31T00:00:00-05:00\", \"Stock\": \"Total\", \"Value\": 2574778.412861865}, {\"Date\": \"2020-01-31T00:00:00-05:00\", \"Stock\": \"Total\", \"Value\": 2712440.358138757}, {\"Date\": \"2020-02-29T00:00:00-05:00\", \"Stock\": \"Total\", \"Value\": 2777861.0718475655}, {\"Date\": \"2020-03-31T00:00:00-04:00\", \"Stock\": \"Total\", \"Value\": 2682934.0340502225}, {\"Date\": \"2020-04-30T00:00:00-04:00\", \"Stock\": \"Total\", \"Value\": 2362930.623167443}, {\"Date\": \"2020-05-31T00:00:00-04:00\", \"Stock\": \"Total\", \"Value\": 2715950.937350836}, {\"Date\": \"2020-06-30T00:00:00-04:00\", \"Stock\": \"Total\", \"Value\": 2905288.4007741804}, {\"Date\": \"2020-07-31T00:00:00-04:00\", \"Stock\": \"Total\", \"Value\": 3106826.731224546}, {\"Date\": \"2020-08-31T00:00:00-04:00\", \"Stock\": \"Total\", \"Value\": 3321031.4714899203}, {\"Date\": \"2020-09-30T00:00:00-04:00\", \"Stock\": \"Total\", \"Value\": 3692305.20382632}, {\"Date\": \"2020-10-31T00:00:00-04:00\", \"Stock\": \"Total\", \"Value\": 3473721.9423591965}, {\"Date\": \"2020-11-30T00:00:00-05:00\", \"Stock\": \"Total\", \"Value\": 3306011.374833123}, {\"Date\": \"2020-12-31T00:00:00-05:00\", \"Stock\": \"Total\", \"Value\": 3637513.4196706642}, {\"Date\": \"2021-01-31T00:00:00-05:00\", \"Stock\": \"Total\", \"Value\": 3655669.6149862763}, {\"Date\": \"2021-02-28T00:00:00-05:00\", \"Stock\": \"Total\", \"Value\": 3774641.2325798683}, {\"Date\": \"2021-03-31T00:00:00-04:00\", \"Stock\": \"Total\", \"Value\": 3723979.9927769657}, {\"Date\": \"2021-04-30T00:00:00-04:00\", \"Stock\": \"Total\", \"Value\": 3781708.0700676367}, {\"Date\": \"2021-05-31T00:00:00-04:00\", \"Stock\": \"Total\", \"Value\": 3966739.5266621374}, {\"Date\": \"2021-06-30T00:00:00-04:00\", \"Stock\": \"Total\", \"Value\": 3867253.317493012}, {\"Date\": \"2021-07-31T00:00:00-04:00\", \"Stock\": \"Total\", \"Value\": 4060105.7225069148}, {\"Date\": \"2021-08-31T00:00:00-04:00\", \"Stock\": \"Total\", \"Value\": 4137960.7221298837}, {\"Date\": \"2021-09-30T00:00:00-04:00\", \"Stock\": \"Total\", \"Value\": 4322681.936311406}, {\"Date\": \"2021-10-31T00:00:00-04:00\", \"Stock\": \"Total\", \"Value\": 4131353.949820152}, {\"Date\": \"2021-11-30T00:00:00-05:00\", \"Stock\": \"Total\", \"Value\": 4338431.43385085}, {\"Date\": \"2021-12-31T00:00:00-05:00\", \"Stock\": \"Total\", \"Value\": 4439644.300761081}, {\"Date\": \"2022-01-31T00:00:00-05:00\", \"Stock\": \"Total\", \"Value\": 4641574.514159269}, {\"Date\": \"2022-02-28T00:00:00-05:00\", \"Stock\": \"Total\", \"Value\": 4271886.608237009}, {\"Date\": \"2022-03-31T00:00:00-04:00\", \"Stock\": \"Total\", \"Value\": 4152013.497283336}, {\"Date\": \"2022-04-30T00:00:00-04:00\", \"Stock\": \"Total\", \"Value\": 4405178.077546897}, {\"Date\": \"2022-05-31T00:00:00-04:00\", \"Stock\": \"Total\", \"Value\": 3882378.8006030396}, {\"Date\": \"2022-06-30T00:00:00-04:00\", \"Stock\": \"Total\", \"Value\": 3679839.586172722}, {\"Date\": \"2022-07-31T00:00:00-04:00\", \"Stock\": \"Total\", \"Value\": 3492683.397696611}, {\"Date\": \"2022-08-31T00:00:00-04:00\", \"Stock\": \"Total\", \"Value\": 3928980.2433671975}, {\"Date\": \"2022-09-30T00:00:00-04:00\", \"Stock\": \"Total\", \"Value\": 3743096.7859679344}, {\"Date\": \"2022-10-31T00:00:00-04:00\", \"Stock\": \"Total\", \"Value\": 3435279.8798058657}, {\"Date\": \"2022-11-30T00:00:00-05:00\", \"Stock\": \"Total\", \"Value\": 3368775.8991296235}, {\"Date\": \"2022-12-31T00:00:00-05:00\", \"Stock\": \"Total\", \"Value\": 3509527.496014609}, {\"Date\": \"2023-01-31T00:00:00-05:00\", \"Stock\": \"Total\", \"Value\": 3201193.005764686}, {\"Date\": \"2023-02-28T00:00:00-05:00\", \"Stock\": \"Total\", \"Value\": 3580536.280418039}, {\"Date\": \"2023-03-31T00:00:00-04:00\", \"Stock\": \"Total\", \"Value\": 3376140.1107389308}, {\"Date\": \"2023-04-30T00:00:00-04:00\", \"Stock\": \"Total\", \"Value\": 3718315.489751373}, {\"Date\": \"2023-05-31T00:00:00-04:00\", \"Stock\": \"Total\", \"Value\": 3805922.00263057}, {\"Date\": \"2023-06-30T00:00:00-04:00\", \"Stock\": \"Total\", \"Value\": 4008487.2826893004}, {\"Date\": \"2023-07-31T00:00:00-04:00\", \"Stock\": \"Total\", \"Value\": 4203101.109623992}, {\"Date\": \"2023-08-31T00:00:00-04:00\", \"Stock\": \"Total\", \"Value\": 4274714.75940984}, {\"Date\": \"2023-09-30T00:00:00-04:00\", \"Stock\": \"Total\", \"Value\": 4251272.615983644}, {\"Date\": \"2023-10-31T00:00:00-04:00\", \"Stock\": \"Total\", \"Value\": 4074653.4951943173}, {\"Date\": \"2023-11-30T00:00:00-05:00\", \"Stock\": \"Total\", \"Value\": 4169883.9037026}, {\"Date\": \"2023-12-31T00:00:00-05:00\", \"Stock\": \"Total\", \"Value\": 4495833.31360137}, {\"Date\": \"2024-01-31T00:00:00-05:00\", \"Stock\": \"Total\", \"Value\": 4586428.388221099}, {\"Date\": \"2024-02-29T00:00:00-05:00\", \"Stock\": \"Total\", \"Value\": 4800870.996738037}, {\"Date\": \"2024-03-31T00:00:00-04:00\", \"Stock\": \"Total\", \"Value\": 5001033.793275302}, {\"Date\": \"2024-04-30T00:00:00-04:00\", \"Stock\": \"Total\", \"Value\": 5003130.693752441}, {\"Date\": \"2024-05-31T00:00:00-04:00\", \"Stock\": \"Total\", \"Value\": 4790524.108134648}, {\"Date\": \"2024-06-30T00:00:00-04:00\", \"Stock\": \"Total\", \"Value\": 5102458.297560811}, {\"Date\": \"2024-07-31T00:00:00-04:00\", \"Stock\": \"Total\", \"Value\": 5478353.525601538}, {\"Date\": \"2024-08-31T00:00:00-04:00\", \"Stock\": \"Total\", \"Value\": 5269547.196477272}, {\"Date\": \"2024-09-30T00:00:00-04:00\", \"Stock\": \"Total\", \"Value\": 5346902.541795193}, {\"Date\": \"2024-10-31T00:00:00-04:00\", \"Stock\": \"Total\", \"Value\": 5494367.018196582}, {\"Date\": \"2024-11-30T00:00:00-05:00\", \"Stock\": \"Total\", \"Value\": 5552745.525839375}, {\"Date\": \"2024-12-31T00:00:00-05:00\", \"Stock\": \"Total\", \"Value\": 5960515.00486003}, {\"Date\": \"2025-01-31T00:00:00-05:00\", \"Stock\": \"Total\", \"Value\": 5869873.641583037}, {\"Date\": \"2025-02-28T00:00:00-05:00\", \"Stock\": \"Total\", \"Value\": 6073507.521509785}, {\"Date\": \"2025-03-31T00:00:00-04:00\", \"Stock\": \"Total\", \"Value\": 5900996.203942137}, {\"Date\": \"2025-04-30T00:00:00-04:00\", \"Stock\": \"Total\", \"Value\": 5544404.858921821}, {\"Date\": \"2025-05-31T00:00:00-04:00\", \"Stock\": \"Total\", \"Value\": 5614743.907417963}]}}, {\"mode\": \"vega-lite\"});\n",
              "</script>"
            ],
            "text/plain": [
              "alt.LayerChart(...)"
            ]
          },
          "metadata": {},
          "output_type": "display_data"
        },
        {
          "data": {
            "text/html": [
              "\n",
              "<style>\n",
              "  #altair-viz-9fdb593a968947f5be4324717b7bd7be.vega-embed {\n",
              "    width: 100%;\n",
              "    display: flex;\n",
              "  }\n",
              "\n",
              "  #altair-viz-9fdb593a968947f5be4324717b7bd7be.vega-embed details,\n",
              "  #altair-viz-9fdb593a968947f5be4324717b7bd7be.vega-embed details summary {\n",
              "    position: relative;\n",
              "  }\n",
              "</style>\n",
              "<div id=\"altair-viz-9fdb593a968947f5be4324717b7bd7be\"></div>\n",
              "<script type=\"text/javascript\">\n",
              "  var VEGA_DEBUG = (typeof VEGA_DEBUG == \"undefined\") ? {} : VEGA_DEBUG;\n",
              "  (function(spec, embedOpt){\n",
              "    let outputDiv = document.currentScript.previousElementSibling;\n",
              "    if (outputDiv.id !== \"altair-viz-9fdb593a968947f5be4324717b7bd7be\") {\n",
              "      outputDiv = document.getElementById(\"altair-viz-9fdb593a968947f5be4324717b7bd7be\");\n",
              "    }\n",
              "\n",
              "    const paths = {\n",
              "      \"vega\": \"https://cdn.jsdelivr.net/npm/vega@5?noext\",\n",
              "      \"vega-lib\": \"https://cdn.jsdelivr.net/npm/vega-lib?noext\",\n",
              "      \"vega-lite\": \"https://cdn.jsdelivr.net/npm/vega-lite@5.20.1?noext\",\n",
              "      \"vega-embed\": \"https://cdn.jsdelivr.net/npm/vega-embed@6?noext\",\n",
              "    };\n",
              "\n",
              "    function maybeLoadScript(lib, version) {\n",
              "      var key = `${lib.replace(\"-\", \"\")}_version`;\n",
              "      return (VEGA_DEBUG[key] == version) ?\n",
              "        Promise.resolve(paths[lib]) :\n",
              "        new Promise(function(resolve, reject) {\n",
              "          var s = document.createElement('script');\n",
              "          document.getElementsByTagName(\"head\")[0].appendChild(s);\n",
              "          s.async = true;\n",
              "          s.onload = () => {\n",
              "            VEGA_DEBUG[key] = version;\n",
              "            return resolve(paths[lib]);\n",
              "          };\n",
              "          s.onerror = () => reject(`Error loading script: ${paths[lib]}`);\n",
              "          s.src = paths[lib];\n",
              "        });\n",
              "    }\n",
              "\n",
              "    function showError(err) {\n",
              "      outputDiv.innerHTML = `<div class=\"error\" style=\"color:red;\">${err}</div>`;\n",
              "      throw err;\n",
              "    }\n",
              "\n",
              "    function displayChart(vegaEmbed) {\n",
              "      vegaEmbed(outputDiv, spec, embedOpt)\n",
              "        .catch(err => showError(`Javascript Error: ${err.message}<br>This usually means there's a typo in your chart specification. See the javascript console for the full traceback.`));\n",
              "    }\n",
              "\n",
              "    if(typeof define === \"function\" && define.amd) {\n",
              "      requirejs.config({paths});\n",
              "      let deps = [\"vega-embed\"];\n",
              "      require(deps, displayChart, err => showError(`Error loading script: ${err.message}`));\n",
              "    } else {\n",
              "      maybeLoadScript(\"vega\", \"5\")\n",
              "        .then(() => maybeLoadScript(\"vega-lite\", \"5.20.1\"))\n",
              "        .then(() => maybeLoadScript(\"vega-embed\", \"6\"))\n",
              "        .catch(showError)\n",
              "        .then(() => displayChart(vegaEmbed));\n",
              "    }\n",
              "  })({\"config\": {\"view\": {\"continuousWidth\": 300, \"continuousHeight\": 300}}, \"layer\": [{\"mark\": {\"type\": \"line\"}, \"encoding\": {\"color\": {\"field\": \"Stock\", \"title\": \"Stock\", \"type\": \"nominal\"}, \"x\": {\"field\": \"Date\", \"title\": \"Date\", \"type\": \"temporal\"}, \"y\": {\"field\": \"Value\", \"title\": \"Portfolio Value\", \"type\": \"quantitative\"}}, \"name\": \"view_55\"}, {\"mark\": {\"type\": \"point\"}, \"encoding\": {\"color\": {\"field\": \"Stock\", \"title\": \"Stock\", \"type\": \"nominal\"}, \"opacity\": {\"condition\": [{\"param\": \"param_55\", \"value\": 1, \"empty\": false}], \"value\": 0}, \"x\": {\"field\": \"Date\", \"title\": \"Date\", \"type\": \"temporal\"}, \"y\": {\"field\": \"Value\", \"title\": \"Portfolio Value\", \"type\": \"quantitative\"}}}, {\"mark\": {\"type\": \"rule\", \"color\": \"gray\"}, \"encoding\": {\"opacity\": {\"condition\": [{\"param\": \"param_55\", \"value\": 0.3, \"empty\": false}], \"value\": 0}, \"tooltip\": [{\"field\": \"Date\", \"title\": \"Date\", \"type\": \"temporal\"}, {\"field\": \"AAPL\", \"format\": \".2f\", \"type\": \"quantitative\"}, {\"field\": \"MSFT\", \"format\": \".2f\", \"type\": \"quantitative\"}, {\"field\": \"^IXIC\", \"format\": \".2f\", \"type\": \"quantitative\"}, {\"field\": \"COST\", \"format\": \".2f\", \"type\": \"quantitative\"}, {\"field\": \"WMT\", \"format\": \".2f\", \"type\": \"quantitative\"}, {\"field\": \"AMZN\", \"format\": \".2f\", \"type\": \"quantitative\"}, {\"field\": \"^GSPC\", \"format\": \".2f\", \"type\": \"quantitative\"}, {\"field\": \"SBUX\", \"format\": \".2f\", \"type\": \"quantitative\"}, {\"field\": \"TSN\", \"format\": \".2f\", \"type\": \"quantitative\"}, {\"field\": \"INTC\", \"format\": \".2f\", \"type\": \"quantitative\"}], \"x\": {\"field\": \"Date\", \"type\": \"temporal\"}}, \"name\": \"view_56\", \"transform\": [{\"pivot\": \"Stock\", \"value\": \"Value\", \"groupby\": [\"Date\"]}]}], \"data\": {\"name\": \"data-0dbee94cb02da60c487ec93b4c06726e\"}, \"height\": 300, \"params\": [{\"name\": \"param_56\", \"select\": {\"type\": \"interval\", \"encodings\": [\"x\", \"y\"]}, \"bind\": \"scales\", \"views\": [\"view_55\"]}, {\"name\": \"param_55\", \"select\": {\"type\": \"point\", \"fields\": [\"Date\"], \"nearest\": true, \"on\": \"mouseover\"}, \"views\": [\"view_56\"]}], \"title\": \"Portfolio Value Over Time\", \"width\": 600, \"$schema\": \"https://vega.github.io/schema/vega-lite/v5.20.1.json\", \"datasets\": {\"data-0dbee94cb02da60c487ec93b4c06726e\": [{\"Date\": \"2015-01-31T00:00:00-05:00\", \"Stock\": \"AAPL\", \"Value\": 100000.0}, {\"Date\": \"2015-02-28T00:00:00-05:00\", \"Stock\": \"AAPL\", \"Value\": 108506.3490757641}, {\"Date\": \"2015-03-31T00:00:00-04:00\", \"Stock\": \"AAPL\", \"Value\": 118539.71845619503}, {\"Date\": \"2015-04-30T00:00:00-04:00\", \"Stock\": \"AAPL\", \"Value\": 114095.29091686077}, {\"Date\": \"2015-05-31T00:00:00-04:00\", \"Stock\": \"AAPL\", \"Value\": 118411.12372284615}, {\"Date\": \"2015-06-30T00:00:00-04:00\", \"Stock\": \"AAPL\", \"Value\": 120371.90911300377}, {\"Date\": \"2015-07-31T00:00:00-04:00\", \"Stock\": \"AAPL\", \"Value\": 116738.8196811977}, {\"Date\": \"2015-08-31T00:00:00-04:00\", \"Stock\": \"AAPL\", \"Value\": 109214.39260300697}, {\"Date\": \"2015-09-30T00:00:00-04:00\", \"Stock\": \"AAPL\", \"Value\": 99779.04323855763}, {\"Date\": \"2015-10-31T00:00:00-04:00\", \"Stock\": \"AAPL\", \"Value\": 101501.92405860257}, {\"Date\": \"2015-11-30T00:00:00-05:00\", \"Stock\": \"AAPL\", \"Value\": 112246.77201495643}, {\"Date\": \"2015-12-31T00:00:00-05:00\", \"Stock\": \"AAPL\", \"Value\": 109155.11056425693}, {\"Date\": \"2016-01-31T00:00:00-05:00\", \"Stock\": \"AAPL\", \"Value\": 98001.42907436182}, {\"Date\": \"2016-02-29T00:00:00-05:00\", \"Stock\": \"AAPL\", \"Value\": 89703.66117369967}, {\"Date\": \"2016-03-31T00:00:00-04:00\", \"Stock\": \"AAPL\", \"Value\": 94025.13279247264}, {\"Date\": \"2016-04-30T00:00:00-04:00\", \"Stock\": \"AAPL\", \"Value\": 102872.97903655667}, {\"Date\": \"2016-05-31T00:00:00-04:00\", \"Stock\": \"AAPL\", \"Value\": 87580.92657065837}, {\"Date\": \"2016-06-30T00:00:00-04:00\", \"Stock\": \"AAPL\", \"Value\": 92649.74871207243}, {\"Date\": \"2016-07-31T00:00:00-04:00\", \"Stock\": \"AAPL\", \"Value\": 90231.37248781677}, {\"Date\": \"2016-08-31T00:00:00-04:00\", \"Stock\": \"AAPL\", \"Value\": 99791.84232405042}, {\"Date\": \"2016-09-30T00:00:00-04:00\", \"Stock\": \"AAPL\", \"Value\": 100975.7812598645}, {\"Date\": \"2016-10-31T00:00:00-04:00\", \"Stock\": \"AAPL\", \"Value\": 106453.6016289346}, {\"Date\": \"2016-11-30T00:00:00-05:00\", \"Stock\": \"AAPL\", \"Value\": 105479.1222368347}, {\"Date\": \"2016-12-31T00:00:00-05:00\", \"Stock\": \"AAPL\", \"Value\": 104118.81158922685}, {\"Date\": \"2017-01-31T00:00:00-05:00\", \"Stock\": \"AAPL\", \"Value\": 110452.0924034369}, {\"Date\": \"2017-02-28T00:00:00-05:00\", \"Stock\": \"AAPL\", \"Value\": 122433.98138376152}, {\"Date\": \"2017-03-31T00:00:00-04:00\", \"Stock\": \"AAPL\", \"Value\": 133508.70380947686}, {\"Date\": \"2017-04-30T00:00:00-04:00\", \"Stock\": \"AAPL\", \"Value\": 137243.0722793062}, {\"Date\": \"2017-05-31T00:00:00-04:00\", \"Stock\": \"AAPL\", \"Value\": 139993.57379249216}, {\"Date\": \"2017-06-30T00:00:00-04:00\", \"Stock\": \"AAPL\", \"Value\": 146900.87633738486}, {\"Date\": \"2017-07-31T00:00:00-04:00\", \"Stock\": \"AAPL\", \"Value\": 137617.68080727724}, {\"Date\": \"2017-08-31T00:00:00-04:00\", \"Stock\": \"AAPL\", \"Value\": 143899.25551201793}, {\"Date\": \"2017-09-30T00:00:00-04:00\", \"Stock\": \"AAPL\", \"Value\": 157943.11480960067}, {\"Date\": \"2017-10-31T00:00:00-04:00\", \"Stock\": \"AAPL\", \"Value\": 148084.28982054695}, {\"Date\": \"2017-11-30T00:00:00-05:00\", \"Stock\": \"AAPL\", \"Value\": 160677.4292440752}, {\"Date\": \"2017-12-31T00:00:00-05:00\", \"Stock\": \"AAPL\", \"Value\": 165274.63802390278}, {\"Date\": \"2018-01-31T00:00:00-05:00\", \"Stock\": \"AAPL\", \"Value\": 166443.74664680823}, {\"Date\": \"2018-02-28T00:00:00-05:00\", \"Stock\": \"AAPL\", \"Value\": 162115.05201471486}, {\"Date\": \"2018-03-31T00:00:00-04:00\", \"Stock\": \"AAPL\", \"Value\": 169780.6376344404}, {\"Date\": \"2018-04-30T00:00:00-04:00\", \"Stock\": \"AAPL\", \"Value\": 161708.75947608764}, {\"Date\": \"2018-05-31T00:00:00-04:00\", \"Stock\": \"AAPL\", \"Value\": 164056.56035086437}, {\"Date\": \"2018-06-30T00:00:00-04:00\", \"Stock\": \"AAPL\", \"Value\": 185277.8205416068}, {\"Date\": \"2018-07-31T00:00:00-04:00\", \"Stock\": \"AAPL\", \"Value\": 182297.64132147108}, {\"Date\": \"2018-08-31T00:00:00-04:00\", \"Stock\": \"AAPL\", \"Value\": 196244.08012886296}, {\"Date\": \"2018-09-30T00:00:00-04:00\", \"Stock\": \"AAPL\", \"Value\": 223183.47292989498}, {\"Date\": \"2018-10-31T00:00:00-04:00\", \"Stock\": \"AAPL\", \"Value\": 222108.39680396172}, {\"Date\": \"2018-11-30T00:00:00-05:00\", \"Stock\": \"AAPL\", \"Value\": 217182.67816315242}, {\"Date\": \"2018-12-31T00:00:00-05:00\", \"Stock\": \"AAPL\", \"Value\": 181260.69580440174}, {\"Date\": \"2019-01-31T00:00:00-05:00\", \"Stock\": \"AAPL\", \"Value\": 154878.73768391923}, {\"Date\": \"2019-02-28T00:00:00-05:00\", \"Stock\": \"AAPL\", \"Value\": 163313.13111667082}, {\"Date\": \"2019-03-31T00:00:00-04:00\", \"Stock\": \"AAPL\", \"Value\": 172336.3765930136}, {\"Date\": \"2019-04-30T00:00:00-04:00\", \"Stock\": \"AAPL\", \"Value\": 188361.47472129637}, {\"Date\": \"2019-05-31T00:00:00-04:00\", \"Stock\": \"AAPL\", \"Value\": 207351.28650807776}, {\"Date\": \"2019-06-30T00:00:00-04:00\", \"Stock\": \"AAPL\", \"Value\": 171348.8393103834}, {\"Date\": \"2019-07-31T00:00:00-04:00\", \"Stock\": \"AAPL\", \"Value\": 199280.77295810473}, {\"Date\": \"2019-08-31T00:00:00-04:00\", \"Stock\": \"AAPL\", \"Value\": 206083.29867567893}, {\"Date\": \"2019-09-30T00:00:00-04:00\", \"Stock\": \"AAPL\", \"Value\": 204156.80103170665}, {\"Date\": \"2019-10-31T00:00:00-04:00\", \"Stock\": \"AAPL\", \"Value\": 222905.10850558055}, {\"Date\": \"2019-11-30T00:00:00-05:00\", \"Stock\": \"AAPL\", \"Value\": 253900.77618767787}, {\"Date\": \"2019-12-31T00:00:00-05:00\", \"Stock\": \"AAPL\", \"Value\": 262965.35204425786}, {\"Date\": \"2020-01-31T00:00:00-05:00\", \"Stock\": \"AAPL\", \"Value\": 298991.6563608671}, {\"Date\": \"2020-02-29T00:00:00-05:00\", \"Stock\": \"AAPL\", \"Value\": 307264.1633213502}, {\"Date\": \"2020-03-31T00:00:00-04:00\", \"Stock\": \"AAPL\", \"Value\": 298164.6095718181}, {\"Date\": \"2020-04-30T00:00:00-04:00\", \"Stock\": \"AAPL\", \"Value\": 240389.6945088865}, {\"Date\": \"2020-05-31T00:00:00-04:00\", \"Stock\": \"AAPL\", \"Value\": 288445.6177288039}, {\"Date\": \"2020-06-30T00:00:00-04:00\", \"Stock\": \"AAPL\", \"Value\": 322024.1753706853}, {\"Date\": \"2020-07-31T00:00:00-04:00\", \"Stock\": \"AAPL\", \"Value\": 364307.05225689366}, {\"Date\": \"2020-08-31T00:00:00-04:00\", \"Stock\": \"AAPL\", \"Value\": 435985.7581940616}, {\"Date\": \"2020-09-30T00:00:00-04:00\", \"Stock\": \"AAPL\", \"Value\": 537978.564825682}, {\"Date\": \"2020-10-31T00:00:00-04:00\", \"Stock\": \"AAPL\", \"Value\": 468255.51523338223}, {\"Date\": \"2020-11-30T00:00:00-05:00\", \"Stock\": \"AAPL\", \"Value\": 436100.3539276527}, {\"Date\": \"2020-12-31T00:00:00-05:00\", \"Stock\": \"AAPL\", \"Value\": 492880.10872321203}, {\"Date\": \"2021-01-31T00:00:00-05:00\", \"Stock\": \"AAPL\", \"Value\": 519749.1849798026}, {\"Date\": \"2021-02-28T00:00:00-05:00\", \"Stock\": \"AAPL\", \"Value\": 538746.1962521736}, {\"Date\": \"2021-03-31T00:00:00-04:00\", \"Stock\": \"AAPL\", \"Value\": 514009.673504897}, {\"Date\": \"2021-04-30T00:00:00-04:00\", \"Stock\": \"AAPL\", \"Value\": 494742.81484671956}, {\"Date\": \"2021-05-31T00:00:00-04:00\", \"Stock\": \"AAPL\", \"Value\": 533115.6024851872}, {\"Date\": \"2021-06-30T00:00:00-04:00\", \"Stock\": \"AAPL\", \"Value\": 500740.5039530116}, {\"Date\": \"2021-07-31T00:00:00-04:00\", \"Stock\": \"AAPL\", \"Value\": 553078.8506013415}, {\"Date\": \"2021-08-31T00:00:00-04:00\", \"Stock\": \"AAPL\", \"Value\": 586319.2676978139}, {\"Date\": \"2021-09-30T00:00:00-04:00\", \"Stock\": \"AAPL\", \"Value\": 615403.5582241928}, {\"Date\": \"2021-10-31T00:00:00-04:00\", \"Stock\": \"AAPL\", \"Value\": 575616.9108230777}, {\"Date\": \"2021-11-30T00:00:00-05:00\", \"Stock\": \"AAPL\", \"Value\": 601078.8091925355}, {\"Date\": \"2021-12-31T00:00:00-05:00\", \"Stock\": \"AAPL\", \"Value\": 665845.1305949826}, {\"Date\": \"2022-01-31T00:00:00-05:00\", \"Stock\": \"AAPL\", \"Value\": 735512.811594403}, {\"Date\": \"2022-02-28T00:00:00-05:00\", \"Stock\": \"AAPL\", \"Value\": 705609.1286340246}, {\"Date\": \"2022-03-31T00:00:00-04:00\", \"Stock\": \"AAPL\", \"Value\": 660340.8336863146}, {\"Date\": \"2022-04-30T00:00:00-04:00\", \"Stock\": \"AAPL\", \"Value\": 705294.1707459177}, {\"Date\": \"2022-05-31T00:00:00-04:00\", \"Stock\": \"AAPL\", \"Value\": 639138.8348644265}, {\"Date\": \"2022-06-30T00:00:00-04:00\", \"Stock\": \"AAPL\", \"Value\": 602595.3753422011}, {\"Date\": \"2022-07-31T00:00:00-04:00\", \"Stock\": \"AAPL\", \"Value\": 562965.3285165272}, {\"Date\": \"2022-08-31T00:00:00-04:00\", \"Stock\": \"AAPL\", \"Value\": 654462.9164143645}, {\"Date\": \"2022-09-30T00:00:00-04:00\", \"Stock\": \"AAPL\", \"Value\": 640967.0336495957}, {\"Date\": \"2022-10-31T00:00:00-04:00\", \"Stock\": \"AAPL\", \"Value\": 578030.6050289269}, {\"Date\": \"2022-11-30T00:00:00-05:00\", \"Stock\": \"AAPL\", \"Value\": 611304.4628732802}, {\"Date\": \"2022-12-31T00:00:00-05:00\", \"Stock\": \"AAPL\", \"Value\": 602807.5641026747}, {\"Date\": \"2023-01-31T00:00:00-05:00\", \"Stock\": \"AAPL\", \"Value\": 508348.39957709686}, {\"Date\": \"2023-02-28T00:00:00-05:00\", \"Stock\": \"AAPL\", \"Value\": 591101.7338290574}, {\"Date\": \"2023-03-31T00:00:00-04:00\", \"Stock\": \"AAPL\", \"Value\": 591515.8846297336}, {\"Date\": \"2023-04-30T00:00:00-04:00\", \"Stock\": \"AAPL\", \"Value\": 676431.0408879806}, {\"Date\": \"2023-05-31T00:00:00-04:00\", \"Stock\": \"AAPL\", \"Value\": 690352.8696890756}, {\"Date\": \"2023-06-30T00:00:00-04:00\", \"Stock\": \"AAPL\", \"Value\": 734109.304033257}, {\"Date\": \"2023-07-31T00:00:00-04:00\", \"Stock\": \"AAPL\", \"Value\": 784533.9364379535}, {\"Date\": \"2023-08-31T00:00:00-04:00\", \"Stock\": \"AAPL\", \"Value\": 797374.3052555226}, {\"Date\": \"2023-09-30T00:00:00-04:00\", \"Stock\": \"AAPL\", \"Value\": 773347.7866797126}, {\"Date\": \"2023-10-31T00:00:00-04:00\", \"Stock\": \"AAPL\", \"Value\": 709221.7332549809}, {\"Date\": \"2023-11-30T00:00:00-05:00\", \"Stock\": \"AAPL\", \"Value\": 710119.865161007}, {\"Date\": \"2023-12-31T00:00:00-05:00\", \"Stock\": \"AAPL\", \"Value\": 781641.7823008882}, {\"Date\": \"2024-01-31T00:00:00-05:00\", \"Stock\": \"AAPL\", \"Value\": 758753.253002864}, {\"Date\": \"2024-02-29T00:00:00-05:00\", \"Stock\": \"AAPL\", \"Value\": 763739.8143552253}, {\"Date\": \"2024-03-31T00:00:00-04:00\", \"Stock\": \"AAPL\", \"Value\": 735248.6736045763}, {\"Date\": \"2024-04-30T00:00:00-04:00\", \"Stock\": \"AAPL\", \"Value\": 695838.4698944257}, {\"Date\": \"2024-05-31T00:00:00-04:00\", \"Stock\": \"AAPL\", \"Value\": 692850.9500223161}, {\"Date\": \"2024-06-30T00:00:00-04:00\", \"Stock\": \"AAPL\", \"Value\": 795134.0888505927}, {\"Date\": \"2024-07-31T00:00:00-04:00\", \"Stock\": \"AAPL\", \"Value\": 888240.5970836123}, {\"Date\": \"2024-08-31T00:00:00-04:00\", \"Stock\": \"AAPL\", \"Value\": 894838.4001739171}, {\"Date\": \"2024-09-30T00:00:00-04:00\", \"Stock\": \"AAPL\", \"Value\": 913967.1981084332}, {\"Date\": \"2024-10-31T00:00:00-04:00\", \"Stock\": \"AAPL\", \"Value\": 928080.6994888444}, {\"Date\": \"2024-11-30T00:00:00-05:00\", \"Stock\": \"AAPL\", \"Value\": 914541.5884402299}, {\"Date\": \"2024-12-31T00:00:00-05:00\", \"Stock\": \"AAPL\", \"Value\": 984056.7470041945}, {\"Date\": \"2025-01-31T00:00:00-05:00\", \"Stock\": \"AAPL\", \"Value\": 1001553.7242789947}, {\"Date\": \"2025-02-28T00:00:00-05:00\", \"Stock\": \"AAPL\", \"Value\": 936494.7806474377}, {\"Date\": \"2025-03-31T00:00:00-04:00\", \"Stock\": \"AAPL\", \"Value\": 978724.3593810671}, {\"Date\": \"2025-04-30T00:00:00-04:00\", \"Stock\": \"AAPL\", \"Value\": 917705.723144017}, {\"Date\": \"2025-05-31T00:00:00-04:00\", \"Stock\": \"AAPL\", \"Value\": 877122.5836334362}, {\"Date\": \"2015-01-31T00:00:00-05:00\", \"Stock\": \"MSFT\", \"Value\": 100000.0}, {\"Date\": \"2015-02-28T00:00:00-05:00\", \"Stock\": \"MSFT\", \"Value\": 88280.60058632982}, {\"Date\": \"2015-03-31T00:00:00-04:00\", \"Stock\": \"MSFT\", \"Value\": 94508.72697737806}, {\"Date\": \"2015-04-30T00:00:00-04:00\", \"Stock\": \"MSFT\", \"Value\": 87702.71464076733}, {\"Date\": \"2015-05-31T00:00:00-04:00\", \"Stock\": \"MSFT\", \"Value\": 104803.89289790025}, {\"Date\": \"2015-06-30T00:00:00-04:00\", \"Stock\": \"MSFT\", \"Value\": 102385.07299802336}, {\"Date\": \"2015-07-31T00:00:00-04:00\", \"Stock\": \"MSFT\", \"Value\": 96358.5712561311}, {\"Date\": \"2015-08-31T00:00:00-04:00\", \"Stock\": \"MSFT\", \"Value\": 101474.56349881785}, {\"Date\": \"2015-09-30T00:00:00-04:00\", \"Stock\": \"MSFT\", \"Value\": 91255.05917940482}, {\"Date\": \"2015-10-31T00:00:00-04:00\", \"Stock\": \"MSFT\", \"Value\": 97343.14306744392}, {\"Date\": \"2015-11-30T00:00:00-05:00\", \"Stock\": \"MSFT\", \"Value\": 116174.60923086765}, {\"Date\": \"2015-12-31T00:00:00-05:00\", \"Stock\": \"MSFT\", \"Value\": 121307.32737103163}, {\"Date\": \"2016-01-31T00:00:00-05:00\", \"Stock\": \"MSFT\", \"Value\": 120384.6994498065}, {\"Date\": \"2016-02-29T00:00:00-05:00\", \"Stock\": \"MSFT\", \"Value\": 120186.94926864895}, {\"Date\": \"2016-03-31T00:00:00-04:00\", \"Stock\": \"MSFT\", \"Value\": 116337.089377789}, {\"Date\": \"2016-04-30T00:00:00-04:00\", \"Stock\": \"MSFT\", \"Value\": 122952.70064698855}, {\"Date\": \"2016-05-31T00:00:00-04:00\", \"Stock\": \"MSFT\", \"Value\": 111978.33191872414}, {\"Date\": \"2016-06-30T00:00:00-04:00\", \"Stock\": \"MSFT\", \"Value\": 117752.35542903403}, {\"Date\": \"2016-07-31T00:00:00-04:00\", \"Stock\": \"MSFT\", \"Value\": 113986.9817875253}, {\"Date\": \"2016-08-31T00:00:00-04:00\", \"Stock\": \"MSFT\", \"Value\": 126063.02264859776}, {\"Date\": \"2016-09-30T00:00:00-04:00\", \"Stock\": \"MSFT\", \"Value\": 129113.05716658536}, {\"Date\": \"2016-10-31T00:00:00-04:00\", \"Stock\": \"MSFT\", \"Value\": 128731.90280739951}, {\"Date\": \"2016-11-30T00:00:00-05:00\", \"Stock\": \"MSFT\", \"Value\": 134067.74017036997}, {\"Date\": \"2016-12-31T00:00:00-05:00\", \"Stock\": \"MSFT\", \"Value\": 133619.21576198316}, {\"Date\": \"2017-01-31T00:00:00-05:00\", \"Stock\": \"MSFT\", \"Value\": 141248.12892706366}, {\"Date\": \"2017-02-28T00:00:00-05:00\", \"Stock\": \"MSFT\", \"Value\": 143505.1826483236}, {\"Date\": \"2017-03-31T00:00:00-04:00\", \"Stock\": \"MSFT\", \"Value\": 147463.47052567487}, {\"Date\": \"2017-04-30T00:00:00-04:00\", \"Stock\": \"MSFT\", \"Value\": 148848.65471236216}, {\"Date\": \"2017-05-31T00:00:00-04:00\", \"Stock\": \"MSFT\", \"Value\": 157613.8246349147}, {\"Date\": \"2017-06-30T00:00:00-04:00\", \"Stock\": \"MSFT\", \"Value\": 160092.94153799055}, {\"Date\": \"2017-07-31T00:00:00-04:00\", \"Stock\": \"MSFT\", \"Value\": 155685.31056859676}, {\"Date\": \"2017-08-31T00:00:00-04:00\", \"Stock\": \"MSFT\", \"Value\": 165756.74738125945}, {\"Date\": \"2017-09-30T00:00:00-04:00\", \"Stock\": \"MSFT\", \"Value\": 169762.37611697963}, {\"Date\": \"2017-10-31T00:00:00-04:00\", \"Stock\": \"MSFT\", \"Value\": 171300.7207843218}, {\"Date\": \"2017-11-30T00:00:00-05:00\", \"Stock\": \"MSFT\", \"Value\": 190976.94472590662}, {\"Date\": \"2017-12-31T00:00:00-05:00\", \"Stock\": \"MSFT\", \"Value\": 194428.1723134896}, {\"Date\": \"2018-01-31T00:00:00-05:00\", \"Stock\": \"MSFT\", \"Value\": 198327.81007453072}, {\"Date\": \"2018-02-28T00:00:00-05:00\", \"Stock\": \"MSFT\", \"Value\": 217502.90442306222}, {\"Date\": \"2018-03-31T00:00:00-04:00\", \"Stock\": \"MSFT\", \"Value\": 215255.7891405992}, {\"Date\": \"2018-04-30T00:00:00-04:00\", \"Stock\": \"MSFT\", \"Value\": 205217.50901599176}, {\"Date\": \"2018-05-31T00:00:00-04:00\", \"Stock\": \"MSFT\", \"Value\": 220240.18274542328}, {\"Date\": \"2018-06-30T00:00:00-04:00\", \"Stock\": \"MSFT\", \"Value\": 234676.06972443112}, {\"Date\": \"2018-07-31T00:00:00-04:00\", \"Stock\": \"MSFT\", \"Value\": 232859.92474964468}, {\"Date\": \"2018-08-31T00:00:00-04:00\", \"Stock\": \"MSFT\", \"Value\": 247458.78689359815}, {\"Date\": \"2018-09-30T00:00:00-04:00\", \"Stock\": \"MSFT\", \"Value\": 261102.7402293914}, {\"Date\": \"2018-10-31T00:00:00-04:00\", \"Stock\": \"MSFT\", \"Value\": 270218.3448348868}, {\"Date\": \"2018-11-30T00:00:00-05:00\", \"Stock\": \"MSFT\", \"Value\": 247569.6138135922}, {\"Date\": \"2018-12-31T00:00:00-05:00\", \"Stock\": \"MSFT\", \"Value\": 263122.7183952887}, {\"Date\": \"2019-01-31T00:00:00-05:00\", \"Stock\": \"MSFT\", \"Value\": 237371.4999845783}, {\"Date\": \"2019-02-28T00:00:00-05:00\", \"Stock\": \"MSFT\", \"Value\": 241268.2437940923}, {\"Date\": \"2019-03-31T00:00:00-04:00\", \"Stock\": \"MSFT\", \"Value\": 265283.757658976}, {\"Date\": \"2019-04-30T00:00:00-04:00\", \"Stock\": \"MSFT\", \"Value\": 280583.62244289875}, {\"Date\": \"2019-05-31T00:00:00-04:00\", \"Stock\": \"MSFT\", \"Value\": 301470.60335462296}, {\"Date\": \"2019-06-30T00:00:00-04:00\", \"Stock\": \"MSFT\", \"Value\": 283562.4886003061}, {\"Date\": \"2019-07-31T00:00:00-04:00\", \"Stock\": \"MSFT\", \"Value\": 321042.6831195427}, {\"Date\": \"2019-08-31T00:00:00-04:00\", \"Stock\": \"MSFT\", \"Value\": 326674.198556299}, {\"Date\": \"2019-09-30T00:00:00-04:00\", \"Stock\": \"MSFT\", \"Value\": 322966.3993188552}, {\"Date\": \"2019-10-31T00:00:00-04:00\", \"Stock\": \"MSFT\", \"Value\": 325411.6741243036}, {\"Date\": \"2019-11-30T00:00:00-05:00\", \"Stock\": \"MSFT\", \"Value\": 341199.24589715735}, {\"Date\": \"2019-12-31T00:00:00-05:00\", \"Stock\": \"MSFT\", \"Value\": 356248.06038610643}, {\"Date\": \"2020-01-31T00:00:00-05:00\", \"Stock\": \"MSFT\", \"Value\": 382618.20364051487}, {\"Date\": \"2020-02-29T00:00:00-05:00\", \"Stock\": \"MSFT\", \"Value\": 415396.43137698405}, {\"Date\": \"2020-03-31T00:00:00-04:00\", \"Stock\": \"MSFT\", \"Value\": 412732.96785771806}, {\"Date\": \"2020-04-30T00:00:00-04:00\", \"Stock\": \"MSFT\", \"Value\": 363335.9569288625}, {\"Date\": \"2020-05-31T00:00:00-04:00\", \"Stock\": \"MSFT\", \"Value\": 416984.7919039422}, {\"Date\": \"2020-06-30T00:00:00-04:00\", \"Stock\": \"MSFT\", \"Value\": 437931.25113520963}, {\"Date\": \"2020-07-31T00:00:00-04:00\", \"Stock\": \"MSFT\", \"Value\": 490316.26701576856}, {\"Date\": \"2020-08-31T00:00:00-04:00\", \"Stock\": \"MSFT\", \"Value\": 518676.61119799316}, {\"Date\": \"2020-09-30T00:00:00-04:00\", \"Stock\": \"MSFT\", \"Value\": 545693.9714801077}, {\"Date\": \"2020-10-31T00:00:00-04:00\", \"Stock\": \"MSFT\", \"Value\": 510134.00899485836}, {\"Date\": \"2020-11-30T00:00:00-05:00\", \"Stock\": \"MSFT\", \"Value\": 485810.99374106823}, {\"Date\": \"2020-12-31T00:00:00-05:00\", \"Stock\": \"MSFT\", \"Value\": 520497.21133499895}, {\"Date\": \"2021-01-31T00:00:00-05:00\", \"Stock\": \"MSFT\", \"Value\": 524060.16068285075}, {\"Date\": \"2021-02-28T00:00:00-05:00\", \"Stock\": \"MSFT\", \"Value\": 576925.8390650708}, {\"Date\": \"2021-03-31T00:00:00-04:00\", \"Stock\": \"MSFT\", \"Value\": 571715.5458887421}, {\"Date\": \"2021-04-30T00:00:00-04:00\", \"Stock\": \"MSFT\", \"Value\": 584769.4377394888}, {\"Date\": \"2021-05-31T00:00:00-04:00\", \"Stock\": \"MSFT\", \"Value\": 607716.3028855362}, {\"Date\": \"2021-06-30T00:00:00-04:00\", \"Stock\": \"MSFT\", \"Value\": 598333.0458420961}, {\"Date\": \"2021-07-31T00:00:00-04:00\", \"Stock\": \"MSFT\", \"Value\": 656860.5119171782}, {\"Date\": \"2021-08-31T00:00:00-04:00\", \"Stock\": \"MSFT\", \"Value\": 688832.9645449052}, {\"Date\": \"2021-09-30T00:00:00-04:00\", \"Stock\": \"MSFT\", \"Value\": 731368.644872927}, {\"Date\": \"2021-10-31T00:00:00-04:00\", \"Stock\": \"MSFT\", \"Value\": 700522.3963289465}, {\"Date\": \"2021-11-30T00:00:00-05:00\", \"Stock\": \"MSFT\", \"Value\": 798101.3393283824}, {\"Date\": \"2021-12-31T00:00:00-05:00\", \"Stock\": \"MSFT\", \"Value\": 801284.9144780207}, {\"Date\": \"2022-01-31T00:00:00-05:00\", \"Stock\": \"MSFT\", \"Value\": 812621.7411154736}, {\"Date\": \"2022-02-28T00:00:00-05:00\", \"Stock\": \"MSFT\", \"Value\": 749529.6376810768}, {\"Date\": \"2022-03-31T00:00:00-04:00\", \"Stock\": \"MSFT\", \"Value\": 717485.5978313641}, {\"Date\": \"2022-04-30T00:00:00-04:00\", \"Stock\": \"MSFT\", \"Value\": 752685.0348816356}, {\"Date\": \"2022-05-31T00:00:00-04:00\", \"Stock\": \"MSFT\", \"Value\": 691992.4742028973}, {\"Date\": \"2022-06-30T00:00:00-04:00\", \"Stock\": \"MSFT\", \"Value\": 664223.4861682445}, {\"Date\": \"2022-07-31T00:00:00-04:00\", \"Stock\": \"MSFT\", \"Value\": 632916.4520001966}, {\"Date\": \"2022-08-31T00:00:00-04:00\", \"Stock\": \"MSFT\", \"Value\": 677853.2362945693}, {\"Date\": \"2022-09-30T00:00:00-04:00\", \"Stock\": \"MSFT\", \"Value\": 636263.573489424}, {\"Date\": \"2022-10-31T00:00:00-04:00\", \"Stock\": \"MSFT\", \"Value\": 588226.1486036495}, {\"Date\": \"2022-11-30T00:00:00-05:00\", \"Stock\": \"MSFT\", \"Value\": 557512.4506552707}, {\"Date\": \"2022-12-31T00:00:00-05:00\", \"Stock\": \"MSFT\", \"Value\": 624065.4154895709}, {\"Date\": \"2023-01-31T00:00:00-05:00\", \"Stock\": \"MSFT\", \"Value\": 587041.5323930276}, {\"Date\": \"2023-02-28T00:00:00-05:00\", \"Stock\": \"MSFT\", \"Value\": 619311.8335581857}, {\"Date\": \"2023-03-31T00:00:00-04:00\", \"Stock\": \"MSFT\", \"Value\": 604945.3823766729}, {\"Date\": \"2023-04-30T00:00:00-04:00\", \"Stock\": \"MSFT\", \"Value\": 705560.7659375813}, {\"Date\": \"2023-05-31T00:00:00-04:00\", \"Stock\": \"MSFT\", \"Value\": 750587.3008076029}, {\"Date\": \"2023-06-30T00:00:00-04:00\", \"Stock\": \"MSFT\", \"Value\": 818745.9517997144}, {\"Date\": \"2023-07-31T00:00:00-04:00\", \"Stock\": \"MSFT\", \"Value\": 832064.2213537829}, {\"Date\": \"2023-08-31T00:00:00-04:00\", \"Stock\": \"MSFT\", \"Value\": 828002.331915678}, {\"Date\": \"2023-09-30T00:00:00-04:00\", \"Stock\": \"MSFT\", \"Value\": 810808.6043271429}, {\"Date\": \"2023-10-31T00:00:00-04:00\", \"Stock\": \"MSFT\", \"Value\": 793884.9281100555}, {\"Date\": \"2023-11-30T00:00:00-05:00\", \"Stock\": \"MSFT\", \"Value\": 853759.4143860615}, {\"Date\": \"2023-12-31T00:00:00-05:00\", \"Stock\": \"MSFT\", \"Value\": 925796.5696774045}, {\"Date\": \"2024-01-31T00:00:00-05:00\", \"Stock\": \"MSFT\", \"Value\": 916798.2843436842}, {\"Date\": \"2024-02-29T00:00:00-05:00\", \"Stock\": \"MSFT\", \"Value\": 998152.5165764401}, {\"Date\": \"2024-03-31T00:00:00-04:00\", \"Stock\": \"MSFT\", \"Value\": 1029024.0491179732}, {\"Date\": \"2024-04-30T00:00:00-04:00\", \"Stock\": \"MSFT\", \"Value\": 1051486.7485578791}, {\"Date\": \"2024-05-31T00:00:00-04:00\", \"Stock\": \"MSFT\", \"Value\": 978105.3527822108}, {\"Date\": \"2024-06-30T00:00:00-04:00\", \"Stock\": \"MSFT\", \"Value\": 1025967.5793656686}, {\"Date\": \"2024-07-31T00:00:00-04:00\", \"Stock\": \"MSFT\", \"Value\": 1133174.2421559633}, {\"Date\": \"2024-08-31T00:00:00-04:00\", \"Stock\": \"MSFT\", \"Value\": 1034874.5529130478}, {\"Date\": \"2024-09-30T00:00:00-04:00\", \"Stock\": \"MSFT\", \"Value\": 1017675.8751442694}, {\"Date\": \"2024-10-31T00:00:00-04:00\", \"Stock\": \"MSFT\", \"Value\": 1045638.1486782829}, {\"Date\": \"2024-11-30T00:00:00-05:00\", \"Stock\": \"MSFT\", \"Value\": 1019987.4570048288}, {\"Date\": \"2024-12-31T00:00:00-05:00\", \"Stock\": \"MSFT\", \"Value\": 1073358.4726333094}, {\"Date\": \"2025-01-31T00:00:00-05:00\", \"Stock\": \"MSFT\", \"Value\": 1042476.1258518593}, {\"Date\": \"2025-02-28T00:00:00-05:00\", \"Stock\": \"MSFT\", \"Value\": 1023398.8927589144}, {\"Date\": \"2025-03-31T00:00:00-04:00\", \"Stock\": \"MSFT\", \"Value\": 969476.8078343838}, {\"Date\": \"2025-04-30T00:00:00-04:00\", \"Stock\": \"MSFT\", \"Value\": 953755.1876936997}, {\"Date\": \"2025-05-31T00:00:00-04:00\", \"Stock\": \"MSFT\", \"Value\": 1061585.7255079362}, {\"Date\": \"2015-01-31T00:00:00-05:00\", \"Stock\": \"^IXIC\", \"Value\": 100000.0}, {\"Date\": \"2015-02-28T00:00:00-05:00\", \"Stock\": \"^IXIC\", \"Value\": 98939.66297426366}, {\"Date\": \"2015-03-31T00:00:00-04:00\", \"Stock\": \"^IXIC\", \"Value\": 105950.94864349563}, {\"Date\": \"2015-04-30T00:00:00-04:00\", \"Stock\": \"^IXIC\", \"Value\": 103245.73909197113}, {\"Date\": \"2015-05-31T00:00:00-04:00\", \"Stock\": \"^IXIC\", \"Value\": 105893.61693555927}, {\"Date\": \"2015-06-30T00:00:00-04:00\", \"Stock\": \"^IXIC\", \"Value\": 107534.04754523704}, {\"Date\": \"2015-07-31T00:00:00-04:00\", \"Stock\": \"^IXIC\", \"Value\": 106057.15175868371}, {\"Date\": \"2015-08-31T00:00:00-04:00\", \"Stock\": \"^IXIC\", \"Value\": 108220.55084511587}, {\"Date\": \"2015-09-30T00:00:00-04:00\", \"Stock\": \"^IXIC\", \"Value\": 98080.94761978893}, {\"Date\": \"2015-10-31T00:00:00-04:00\", \"Stock\": \"^IXIC\", \"Value\": 97890.12083767926}, {\"Date\": \"2015-11-30T00:00:00-05:00\", \"Stock\": \"^IXIC\", \"Value\": 108469.55639823411}, {\"Date\": \"2015-12-31T00:00:00-05:00\", \"Stock\": \"^IXIC\", \"Value\": 109086.4662357044}, {\"Date\": \"2016-01-31T00:00:00-05:00\", \"Stock\": \"^IXIC\", \"Value\": 103729.36045601744}, {\"Date\": \"2016-02-29T00:00:00-05:00\", \"Stock\": \"^IXIC\", \"Value\": 97748.16546282131}, {\"Date\": \"2016-03-31T00:00:00-04:00\", \"Stock\": \"^IXIC\", \"Value\": 99212.78916486504}, {\"Date\": \"2016-04-30T00:00:00-04:00\", \"Stock\": \"^IXIC\", \"Value\": 103971.59983459543}, {\"Date\": \"2016-05-31T00:00:00-04:00\", \"Stock\": \"^IXIC\", \"Value\": 101920.52957556873}, {\"Date\": \"2016-06-30T00:00:00-04:00\", \"Stock\": \"^IXIC\", \"Value\": 104769.38862809562}, {\"Date\": \"2016-07-31T00:00:00-04:00\", \"Stock\": \"^IXIC\", \"Value\": 102872.12229690034}, {\"Date\": \"2016-08-31T00:00:00-04:00\", \"Stock\": \"^IXIC\", \"Value\": 109676.5076457256}, {\"Date\": \"2016-09-30T00:00:00-04:00\", \"Stock\": \"^IXIC\", \"Value\": 110586.41866588187}, {\"Date\": \"2016-10-31T00:00:00-04:00\", \"Stock\": \"^IXIC\", \"Value\": 112144.76679785471}, {\"Date\": \"2016-11-30T00:00:00-05:00\", \"Stock\": \"^IXIC\", \"Value\": 109028.71099623191}, {\"Date\": \"2016-12-31T00:00:00-05:00\", \"Stock\": \"^IXIC\", \"Value\": 111092.0430097308}, {\"Date\": \"2017-01-31T00:00:00-05:00\", \"Stock\": \"^IXIC\", \"Value\": 114857.16605545559}, {\"Date\": \"2017-02-28T00:00:00-05:00\", \"Stock\": \"^IXIC\", \"Value\": 119375.43147275242}, {\"Date\": \"2017-03-31T00:00:00-04:00\", \"Stock\": \"^IXIC\", \"Value\": 124905.16250853389}, {\"Date\": \"2017-04-30T00:00:00-04:00\", \"Stock\": \"^IXIC\", \"Value\": 124707.3629511347}, {\"Date\": \"2017-05-31T00:00:00-04:00\", \"Stock\": \"^IXIC\", \"Value\": 128873.38442087795}, {\"Date\": \"2017-06-30T00:00:00-04:00\", \"Stock\": \"^IXIC\", \"Value\": 132157.41696173558}, {\"Date\": \"2017-07-31T00:00:00-04:00\", \"Stock\": \"^IXIC\", \"Value\": 129263.92181731803}, {\"Date\": \"2017-08-31T00:00:00-04:00\", \"Stock\": \"^IXIC\", \"Value\": 134613.8275608912}, {\"Date\": \"2017-09-30T00:00:00-04:00\", \"Stock\": \"^IXIC\", \"Value\": 136145.30726541494}, {\"Date\": \"2017-10-31T00:00:00-04:00\", \"Stock\": \"^IXIC\", \"Value\": 137867.19022051222}, {\"Date\": \"2017-11-30T00:00:00-05:00\", \"Stock\": \"^IXIC\", \"Value\": 142094.34485197935}, {\"Date\": \"2017-12-31T00:00:00-05:00\", \"Stock\": \"^IXIC\", \"Value\": 144867.04053826936}, {\"Date\": \"2018-01-31T00:00:00-05:00\", \"Stock\": \"^IXIC\", \"Value\": 148237.39087219298}, {\"Date\": \"2018-02-28T00:00:00-05:00\", \"Stock\": \"^IXIC\", \"Value\": 156254.6362499402}, {\"Date\": \"2018-03-31T00:00:00-04:00\", \"Stock\": \"^IXIC\", \"Value\": 151911.33067720526}, {\"Date\": \"2018-04-30T00:00:00-04:00\", \"Stock\": \"^IXIC\", \"Value\": 145343.6891270261}, {\"Date\": \"2018-05-31T00:00:00-04:00\", \"Stock\": \"^IXIC\", \"Value\": 150856.49956143825}, {\"Date\": \"2018-06-30T00:00:00-04:00\", \"Stock\": \"^IXIC\", \"Value\": 159818.77808672626}, {\"Date\": \"2018-07-31T00:00:00-04:00\", \"Stock\": \"^IXIC\", \"Value\": 160101.41824183383}, {\"Date\": \"2018-08-31T00:00:00-04:00\", \"Stock\": \"^IXIC\", \"Value\": 163054.7862834044}, {\"Date\": \"2018-09-30T00:00:00-04:00\", \"Stock\": \"^IXIC\", \"Value\": 171177.8112448036}, {\"Date\": \"2018-10-31T00:00:00-04:00\", \"Stock\": \"^IXIC\", \"Value\": 170036.44540518383}, {\"Date\": \"2018-11-30T00:00:00-05:00\", \"Stock\": \"^IXIC\", \"Value\": 157274.35556836022}, {\"Date\": \"2018-12-31T00:00:00-05:00\", \"Stock\": \"^IXIC\", \"Value\": 157431.9609499792}, {\"Date\": \"2019-01-31T00:00:00-05:00\", \"Stock\": \"^IXIC\", \"Value\": 141024.0703302007}, {\"Date\": \"2019-02-28T00:00:00-05:00\", \"Stock\": \"^IXIC\", \"Value\": 153673.8313396189}, {\"Date\": \"2019-03-31T00:00:00-04:00\", \"Stock\": \"^IXIC\", \"Value\": 160686.59420420852}, {\"Date\": \"2019-04-30T00:00:00-04:00\", \"Stock\": \"^IXIC\", \"Value\": 165627.77135536395}, {\"Date\": \"2019-05-31T00:00:00-04:00\", \"Stock\": \"^IXIC\", \"Value\": 170297.5164420624}, {\"Date\": \"2019-06-30T00:00:00-04:00\", \"Stock\": \"^IXIC\", \"Value\": 155136.76091551819}, {\"Date\": \"2019-07-31T00:00:00-04:00\", \"Stock\": \"^IXIC\", \"Value\": 171175.91051790986}, {\"Date\": \"2019-08-31T00:00:00-04:00\", \"Stock\": \"^IXIC\", \"Value\": 171598.18178944552}, {\"Date\": \"2019-09-30T00:00:00-04:00\", \"Stock\": \"^IXIC\", \"Value\": 166585.07658741428}, {\"Date\": \"2019-10-31T00:00:00-04:00\", \"Stock\": \"^IXIC\", \"Value\": 167315.379246149}, {\"Date\": \"2019-11-30T00:00:00-05:00\", \"Stock\": \"^IXIC\", \"Value\": 177421.9883318095}, {\"Date\": \"2019-12-31T00:00:00-05:00\", \"Stock\": \"^IXIC\", \"Value\": 181263.6879452698}, {\"Date\": \"2020-01-31T00:00:00-05:00\", \"Stock\": \"^IXIC\", \"Value\": 192353.62362735753}, {\"Date\": \"2020-02-29T00:00:00-05:00\", \"Stock\": \"^IXIC\", \"Value\": 196187.2864716693}, {\"Date\": \"2020-03-31T00:00:00-04:00\", \"Stock\": \"^IXIC\", \"Value\": 189391.36142352875}, {\"Date\": \"2020-04-30T00:00:00-04:00\", \"Stock\": \"^IXIC\", \"Value\": 155719.81922021232}, {\"Date\": \"2020-05-31T00:00:00-04:00\", \"Stock\": \"^IXIC\", \"Value\": 182045.6098012222}, {\"Date\": \"2020-06-30T00:00:00-04:00\", \"Stock\": \"^IXIC\", \"Value\": 202082.37027254878}, {\"Date\": \"2020-07-31T00:00:00-04:00\", \"Stock\": \"^IXIC\", \"Value\": 214830.50422875583}, {\"Date\": \"2020-08-31T00:00:00-04:00\", \"Stock\": \"^IXIC\", \"Value\": 230658.72479612898}, {\"Date\": \"2020-09-30T00:00:00-04:00\", \"Stock\": \"^IXIC\", \"Value\": 252594.662655582}, {\"Date\": \"2020-10-31T00:00:00-04:00\", \"Stock\": \"^IXIC\", \"Value\": 239622.6974475614}, {\"Date\": \"2020-11-30T00:00:00-05:00\", \"Stock\": \"^IXIC\", \"Value\": 231818.29216176385}, {\"Date\": \"2020-12-31T00:00:00-05:00\", \"Stock\": \"^IXIC\", \"Value\": 261383.68579249}, {\"Date\": \"2021-01-31T00:00:00-05:00\", \"Stock\": \"^IXIC\", \"Value\": 268647.35493709164}, {\"Date\": \"2021-02-28T00:00:00-05:00\", \"Stock\": \"^IXIC\", \"Value\": 283560.9953073739}, {\"Date\": \"2021-03-31T00:00:00-04:00\", \"Stock\": \"^IXIC\", \"Value\": 287484.1575962912}, {\"Date\": \"2021-04-30T00:00:00-04:00\", \"Stock\": \"^IXIC\", \"Value\": 285184.09211418364}, {\"Date\": \"2021-05-31T00:00:00-04:00\", \"Stock\": \"^IXIC\", \"Value\": 293964.0041580467}, {\"Date\": \"2021-06-30T00:00:00-04:00\", \"Stock\": \"^IXIC\", \"Value\": 290607.83696556394}, {\"Date\": \"2021-07-31T00:00:00-04:00\", \"Stock\": \"^IXIC\", \"Value\": 307234.2595279359}, {\"Date\": \"2021-08-31T00:00:00-04:00\", \"Stock\": \"^IXIC\", \"Value\": 310591.50104431517}, {\"Date\": \"2021-09-30T00:00:00-04:00\", \"Stock\": \"^IXIC\", \"Value\": 323883.9659947563}, {\"Date\": \"2021-10-31T00:00:00-04:00\", \"Stock\": \"^IXIC\", \"Value\": 308171.89636865095}, {\"Date\": \"2021-11-30T00:00:00-05:00\", \"Stock\": \"^IXIC\", \"Value\": 329945.98320108646}, {\"Date\": \"2021-12-31T00:00:00-05:00\", \"Stock\": \"^IXIC\", \"Value\": 322713.4074692576}, {\"Date\": \"2022-01-31T00:00:00-05:00\", \"Stock\": \"^IXIC\", \"Value\": 334957.3942769733}, {\"Date\": \"2022-02-28T00:00:00-05:00\", \"Stock\": \"^IXIC\", \"Value\": 303502.7814142379}, {\"Date\": \"2022-03-31T00:00:00-04:00\", \"Stock\": \"^IXIC\", \"Value\": 286291.5960909899}, {\"Date\": \"2022-04-30T00:00:00-04:00\", \"Stock\": \"^IXIC\", \"Value\": 301715.10645051964}, {\"Date\": \"2022-05-31T00:00:00-04:00\", \"Stock\": \"^IXIC\", \"Value\": 265210.9853337227}, {\"Date\": \"2022-06-30T00:00:00-04:00\", \"Stock\": \"^IXIC\", \"Value\": 253753.79615964333}, {\"Date\": \"2022-07-31T00:00:00-04:00\", \"Stock\": \"^IXIC\", \"Value\": 235419.85972428924}, {\"Date\": \"2022-08-31T00:00:00-04:00\", \"Stock\": \"^IXIC\", \"Value\": 261677.1208367496}, {\"Date\": \"2022-09-30T00:00:00-04:00\", \"Stock\": \"^IXIC\", \"Value\": 249325.22645766387}, {\"Date\": \"2022-10-31T00:00:00-04:00\", \"Stock\": \"^IXIC\", \"Value\": 228810.32987218542}, {\"Date\": \"2022-11-30T00:00:00-05:00\", \"Stock\": \"^IXIC\", \"Value\": 230405.90745918578}, {\"Date\": \"2022-12-31T00:00:00-05:00\", \"Stock\": \"^IXIC\", \"Value\": 242921.76019293207}, {\"Date\": \"2023-01-31T00:00:00-05:00\", \"Stock\": \"^IXIC\", \"Value\": 219746.09387710787}, {\"Date\": \"2023-02-28T00:00:00-05:00\", \"Stock\": \"^IXIC\", \"Value\": 249985.08859091782}, {\"Date\": \"2023-03-31T00:00:00-04:00\", \"Stock\": \"^IXIC\", \"Value\": 240743.3412320243}, {\"Date\": \"2023-04-30T00:00:00-04:00\", \"Stock\": \"^IXIC\", \"Value\": 257878.99332132092}, {\"Date\": \"2023-05-31T00:00:00-04:00\", \"Stock\": \"^IXIC\", \"Value\": 258368.74039758457}, {\"Date\": \"2023-06-30T00:00:00-04:00\", \"Stock\": \"^IXIC\", \"Value\": 277163.2518833983}, {\"Date\": \"2023-07-31T00:00:00-04:00\", \"Stock\": \"^IXIC\", \"Value\": 292306.4256861753}, {\"Date\": \"2023-08-31T00:00:00-04:00\", \"Stock\": \"^IXIC\", \"Value\": 302189.2138500597}, {\"Date\": \"2023-09-30T00:00:00-04:00\", \"Stock\": \"^IXIC\", \"Value\": 296855.79484628234}, {\"Date\": \"2023-10-31T00:00:00-04:00\", \"Stock\": \"^IXIC\", \"Value\": 281538.06407040457}, {\"Date\": \"2023-11-30T00:00:00-05:00\", \"Stock\": \"^IXIC\", \"Value\": 276327.36591172346}, {\"Date\": \"2023-12-31T00:00:00-05:00\", \"Stock\": \"^IXIC\", \"Value\": 302636.02929061465}, {\"Date\": \"2024-01-31T00:00:00-05:00\", \"Stock\": \"^IXIC\", \"Value\": 312387.0061764327}, {\"Date\": \"2024-02-29T00:00:00-05:00\", \"Stock\": \"^IXIC\", \"Value\": 324989.5692446687}, {\"Date\": \"2024-03-31T00:00:00-04:00\", \"Stock\": \"^IXIC\", \"Value\": 344311.28452259785}, {\"Date\": \"2024-04-30T00:00:00-04:00\", \"Stock\": \"^IXIC\", \"Value\": 346889.9717752387}, {\"Date\": \"2024-05-31T00:00:00-04:00\", \"Stock\": \"^IXIC\", \"Value\": 330148.245334671}, {\"Date\": \"2024-06-30T00:00:00-04:00\", \"Stock\": \"^IXIC\", \"Value\": 356025.93955048017}, {\"Date\": \"2024-07-31T00:00:00-04:00\", \"Stock\": \"^IXIC\", \"Value\": 378252.99852580036}, {\"Date\": \"2024-08-31T00:00:00-04:00\", \"Stock\": \"^IXIC\", \"Value\": 363758.0139139407}, {\"Date\": \"2024-09-30T00:00:00-04:00\", \"Stock\": \"^IXIC\", \"Value\": 362534.15239511733}, {\"Date\": \"2024-10-31T00:00:00-04:00\", \"Stock\": \"^IXIC\", \"Value\": 378910.0715489385}, {\"Date\": \"2024-11-30T00:00:00-05:00\", \"Stock\": \"^IXIC\", \"Value\": 385882.22703624924}, {\"Date\": \"2024-12-31T00:00:00-05:00\", \"Stock\": \"^IXIC\", \"Value\": 410508.33391267626}, {\"Date\": \"2025-01-31T00:00:00-05:00\", \"Stock\": \"^IXIC\", \"Value\": 407902.76790254895}, {\"Date\": \"2025-02-28T00:00:00-05:00\", \"Stock\": \"^IXIC\", \"Value\": 410254.7108328107}, {\"Date\": \"2025-03-31T00:00:00-04:00\", \"Stock\": \"^IXIC\", \"Value\": 388215.0800572739}, {\"Date\": \"2025-04-30T00:00:00-04:00\", \"Stock\": \"^IXIC\", \"Value\": 369168.4330169898}, {\"Date\": \"2025-05-31T00:00:00-04:00\", \"Stock\": \"^IXIC\", \"Value\": 374686.94563208317}, {\"Date\": \"2015-01-31T00:00:00-05:00\", \"Stock\": \"COST\", \"Value\": 100000.0}, {\"Date\": \"2015-02-28T00:00:00-05:00\", \"Stock\": \"COST\", \"Value\": 103100.0765767015}, {\"Date\": \"2015-03-31T00:00:00-04:00\", \"Stock\": \"COST\", \"Value\": 108190.24084332492}, {\"Date\": \"2015-04-30T00:00:00-04:00\", \"Stock\": \"COST\", \"Value\": 109872.25529051153}, {\"Date\": \"2015-05-31T00:00:00-04:00\", \"Stock\": \"COST\", \"Value\": 106616.32566215383}, {\"Date\": \"2015-06-30T00:00:00-04:00\", \"Stock\": \"COST\", \"Value\": 104416.39861266056}, {\"Date\": \"2015-07-31T00:00:00-04:00\", \"Stock\": \"COST\", \"Value\": 100089.84830774022}, {\"Date\": \"2015-08-31T00:00:00-04:00\", \"Stock\": \"COST\", \"Value\": 106711.68658585228}, {\"Date\": \"2015-09-30T00:00:00-04:00\", \"Stock\": \"COST\", \"Value\": 101695.9592991632}, {\"Date\": \"2015-10-31T00:00:00-04:00\", \"Stock\": \"COST\", \"Value\": 106299.12694028084}, {\"Date\": \"2015-11-30T00:00:00-05:00\", \"Stock\": \"COST\", \"Value\": 117027.61080691367}, {\"Date\": \"2015-12-31T00:00:00-05:00\", \"Stock\": \"COST\", \"Value\": 118907.7394728366}, {\"Date\": \"2016-01-31T00:00:00-05:00\", \"Stock\": \"COST\", \"Value\": 117617.5740330325}, {\"Date\": \"2016-02-29T00:00:00-05:00\", \"Stock\": \"COST\", \"Value\": 111505.98935391875}, {\"Date\": \"2016-03-31T00:00:00-04:00\", \"Stock\": \"COST\", \"Value\": 111268.6469067492}, {\"Date\": \"2016-04-30T00:00:00-04:00\", \"Stock\": \"COST\", \"Value\": 116982.84329932532}, {\"Date\": \"2016-05-31T00:00:00-04:00\", \"Stock\": \"COST\", \"Value\": 111901.62453526047}, {\"Date\": \"2016-06-30T00:00:00-04:00\", \"Stock\": \"COST\", \"Value\": 113080.55111761457}, {\"Date\": \"2016-07-31T00:00:00-04:00\", \"Stock\": \"COST\", \"Value\": 115742.21807935394}, {\"Date\": \"2016-08-31T00:00:00-04:00\", \"Stock\": \"COST\", \"Value\": 124231.42001787502}, {\"Date\": \"2016-09-30T00:00:00-04:00\", \"Stock\": \"COST\", \"Value\": 116127.66125368219}, {\"Date\": \"2016-10-31T00:00:00-04:00\", \"Stock\": \"COST\", \"Value\": 112261.92431491583}, {\"Date\": \"2016-11-30T00:00:00-05:00\", \"Stock\": \"COST\", \"Value\": 109028.13180578103}, {\"Date\": \"2016-12-31T00:00:00-05:00\", \"Stock\": \"COST\", \"Value\": 113151.8218429175}, {\"Date\": \"2017-01-31T00:00:00-05:00\", \"Stock\": \"COST\", \"Value\": 119109.89983170191}, {\"Date\": \"2017-02-28T00:00:00-05:00\", \"Stock\": \"COST\", \"Value\": 120698.23980239371}, {\"Date\": \"2017-03-31T00:00:00-04:00\", \"Stock\": \"COST\", \"Value\": 132986.6273402288}, {\"Date\": \"2017-04-30T00:00:00-04:00\", \"Stock\": \"COST\", \"Value\": 124642.20656085288}, {\"Date\": \"2017-05-31T00:00:00-04:00\", \"Stock\": \"COST\", \"Value\": 132986.6273402288}, {\"Date\": \"2017-06-30T00:00:00-04:00\", \"Stock\": \"COST\", \"Value\": 140924.27438775968}, {\"Date\": \"2017-07-31T00:00:00-04:00\", \"Stock\": \"COST\", \"Value\": 123908.52870346472}, {\"Date\": \"2017-08-31T00:00:00-04:00\", \"Stock\": \"COST\", \"Value\": 124610.63733572804}, {\"Date\": \"2017-09-30T00:00:00-04:00\", \"Stock\": \"COST\", \"Value\": 123850.72289259425}, {\"Date\": \"2017-10-31T00:00:00-04:00\", \"Stock\": \"COST\", \"Value\": 129838.18372435801}, {\"Date\": \"2017-11-30T00:00:00-05:00\", \"Stock\": \"COST\", \"Value\": 127333.60298713128}, {\"Date\": \"2017-12-31T00:00:00-05:00\", \"Stock\": \"COST\", \"Value\": 145326.87479602653}, {\"Date\": \"2018-01-31T00:00:00-05:00\", \"Stock\": \"COST\", \"Value\": 147830.97559570914}, {\"Date\": \"2018-02-28T00:00:00-05:00\", \"Stock\": \"COST\", \"Value\": 151873.71616706945}, {\"Date\": \"2018-03-31T00:00:00-04:00\", \"Stock\": \"COST\", \"Value\": 148785.43805499445}, {\"Date\": \"2018-04-30T00:00:00-04:00\", \"Stock\": \"COST\", \"Value\": 143842.38797724457}, {\"Date\": \"2018-05-31T00:00:00-04:00\", \"Stock\": \"COST\", \"Value\": 154704.387802334}, {\"Date\": \"2018-06-30T00:00:00-04:00\", \"Stock\": \"COST\", \"Value\": 155613.4028425101}, {\"Date\": \"2018-07-31T00:00:00-04:00\", \"Stock\": \"COST\", \"Value\": 164186.19390330007}, {\"Date\": \"2018-08-31T00:00:00-04:00\", \"Stock\": \"COST\", \"Value\": 171401.2549833515}, {\"Date\": \"2018-09-30T00:00:00-04:00\", \"Stock\": \"COST\", \"Value\": 185715.04561539725}, {\"Date\": \"2018-10-31T00:00:00-04:00\", \"Stock\": \"COST\", \"Value\": 185691.31537015983}, {\"Date\": \"2018-11-30T00:00:00-05:00\", \"Stock\": \"COST\", \"Value\": 181694.94209820163}, {\"Date\": \"2018-12-31T00:00:00-05:00\", \"Stock\": \"COST\", \"Value\": 184094.05656010634}, {\"Date\": \"2019-01-31T00:00:00-05:00\", \"Stock\": \"COST\", \"Value\": 162422.8767029784}, {\"Date\": \"2019-02-28T00:00:00-05:00\", \"Stock\": \"COST\", \"Value\": 166793.61459095456}, {\"Date\": \"2019-03-31T00:00:00-04:00\", \"Stock\": \"COST\", \"Value\": 174537.74015541445}, {\"Date\": \"2019-04-30T00:00:00-04:00\", \"Stock\": \"COST\", \"Value\": 194223.2984081005}, {\"Date\": \"2019-05-31T00:00:00-04:00\", \"Stock\": \"COST\", \"Value\": 192155.35418324228}, {\"Date\": \"2019-06-30T00:00:00-04:00\", \"Stock\": \"COST\", \"Value\": 192259.59395150712}, {\"Date\": \"2019-07-31T00:00:00-04:00\", \"Stock\": \"COST\", \"Value\": 210187.96753915757}, {\"Date\": \"2019-08-31T00:00:00-04:00\", \"Stock\": \"COST\", \"Value\": 218976.7171632065}, {\"Date\": \"2019-09-30T00:00:00-04:00\", \"Stock\": \"COST\", \"Value\": 233432.68929270003}, {\"Date\": \"2019-10-31T00:00:00-04:00\", \"Stock\": \"COST\", \"Value\": 226942.44055706885}, {\"Date\": \"2019-11-30T00:00:00-05:00\", \"Stock\": \"COST\", \"Value\": 237175.9621681232}, {\"Date\": \"2019-12-31T00:00:00-05:00\", \"Stock\": \"COST\", \"Value\": 238217.2399965018}, {\"Date\": \"2020-01-31T00:00:00-05:00\", \"Stock\": \"COST\", \"Value\": 233491.21500988674}, {\"Date\": \"2020-02-29T00:00:00-05:00\", \"Stock\": \"COST\", \"Value\": 241910.03944020087}, {\"Date\": \"2020-03-31T00:00:00-04:00\", \"Stock\": \"COST\", \"Value\": 248151.4405592019}, {\"Date\": \"2020-04-30T00:00:00-04:00\", \"Stock\": \"COST\", \"Value\": 230202.76294711517}, {\"Date\": \"2020-05-31T00:00:00-04:00\", \"Stock\": \"COST\", \"Value\": 242909.48271264968}, {\"Date\": \"2020-06-30T00:00:00-04:00\", \"Stock\": \"COST\", \"Value\": 248034.54910400996}, {\"Date\": \"2020-07-31T00:00:00-04:00\", \"Stock\": \"COST\", \"Value\": 245186.38641158165}, {\"Date\": \"2020-08-31T00:00:00-04:00\", \"Stock\": \"COST\", \"Value\": 265524.1397919418}, {\"Date\": \"2020-09-30T00:00:00-04:00\", \"Stock\": \"COST\", \"Value\": 283310.65184050717}, {\"Date\": \"2020-10-31T00:00:00-04:00\", \"Stock\": \"COST\", \"Value\": 289019.13564314833}, {\"Date\": \"2020-11-30T00:00:00-05:00\", \"Stock\": \"COST\", \"Value\": 294364.8933152166}, {\"Date\": \"2020-12-31T00:00:00-05:00\", \"Stock\": \"COST\", \"Value\": 321283.20367909456}, {\"Date\": \"2021-01-31T00:00:00-05:00\", \"Stock\": \"COST\", \"Value\": 315140.32307262416}, {\"Date\": \"2021-02-28T00:00:00-05:00\", \"Stock\": \"COST\", \"Value\": 290577.35953294614}, {\"Date\": \"2021-03-31T00:00:00-04:00\", \"Stock\": \"COST\", \"Value\": 275576.8582648445}, {\"Date\": \"2021-04-30T00:00:00-04:00\", \"Stock\": \"COST\", \"Value\": 294822.43377395155}, {\"Date\": \"2021-05-31T00:00:00-04:00\", \"Stock\": \"COST\", \"Value\": 315748.0839826711}, {\"Date\": \"2021-06-30T00:00:00-04:00\", \"Stock\": \"COST\", \"Value\": 314840.76205549785}, {\"Date\": \"2021-07-31T00:00:00-04:00\", \"Stock\": \"COST\", \"Value\": 328408.88972315076}, {\"Date\": \"2021-08-31T00:00:00-04:00\", \"Stock\": \"COST\", \"Value\": 357704.7040278492}, {\"Date\": \"2021-09-30T00:00:00-04:00\", \"Stock\": \"COST\", \"Value\": 380722.0820330581}, {\"Date\": \"2021-10-31T00:00:00-04:00\", \"Stock\": \"COST\", \"Value\": 373891.930863397}, {\"Date\": \"2021-11-30T00:00:00-05:00\", \"Stock\": \"COST\", \"Value\": 410866.3725893804}, {\"Date\": \"2021-12-31T00:00:00-05:00\", \"Stock\": \"COST\", \"Value\": 442583.4184778088}, {\"Date\": \"2022-01-31T00:00:00-05:00\", \"Stock\": \"COST\", \"Value\": 473381.4372956266}, {\"Date\": \"2022-02-28T00:00:00-05:00\", \"Stock\": \"COST\", \"Value\": 424682.54797775653}, {\"Date\": \"2022-03-31T00:00:00-04:00\", \"Stock\": \"COST\", \"Value\": 437473.3368031041}, {\"Date\": \"2022-04-30T00:00:00-04:00\", \"Stock\": \"COST\", \"Value\": 481511.04602921003}, {\"Date\": \"2022-05-31T00:00:00-04:00\", \"Stock\": \"COST\", \"Value\": 443229.5743913859}, {\"Date\": \"2022-06-30T00:00:00-04:00\", \"Stock\": \"COST\", \"Value\": 382931.18122228363}, {\"Date\": \"2022-07-31T00:00:00-04:00\", \"Stock\": \"COST\", \"Value\": 407038.81734856905}, {\"Date\": \"2022-08-31T00:00:00-04:00\", \"Stock\": \"COST\", \"Value\": 458986.03061788226}, {\"Date\": \"2022-09-30T00:00:00-04:00\", \"Stock\": \"COST\", \"Value\": 444179.2374752299}, {\"Date\": \"2022-10-31T00:00:00-04:00\", \"Stock\": \"COST\", \"Value\": 401001.1497170502}, {\"Date\": \"2022-11-30T00:00:00-05:00\", \"Stock\": \"COST\", \"Value\": 420418.27623498597}, {\"Date\": \"2022-12-31T00:00:00-05:00\", \"Stock\": \"COST\", \"Value\": 423697.82278999436}, {\"Date\": \"2023-01-31T00:00:00-05:00\", \"Stock\": \"COST\", \"Value\": 381164.8777439096}, {\"Date\": \"2023-02-28T00:00:00-05:00\", \"Stock\": \"COST\", \"Value\": 435512.47197698004}, {\"Date\": \"2023-03-31T00:00:00-04:00\", \"Stock\": \"COST\", \"Value\": 403216.1681359866}, {\"Date\": \"2023-04-30T00:00:00-04:00\", \"Stock\": \"COST\", \"Value\": 418681.96885311994}, {\"Date\": \"2023-05-31T00:00:00-04:00\", \"Stock\": \"COST\", \"Value\": 415784.239277662}, {\"Date\": \"2023-06-30T00:00:00-04:00\", \"Stock\": \"COST\", \"Value\": 432698.22487100353}, {\"Date\": \"2023-07-31T00:00:00-04:00\", \"Stock\": \"COST\", \"Value\": 456705.10077621904}, {\"Date\": \"2023-08-31T00:00:00-04:00\", \"Stock\": \"COST\", \"Value\": 468885.8623197835}, {\"Date\": \"2023-09-30T00:00:00-04:00\", \"Stock\": \"COST\", \"Value\": 460282.8751885088}, {\"Date\": \"2023-10-31T00:00:00-04:00\", \"Stock\": \"COST\", \"Value\": 483168.0570635075}, {\"Date\": \"2023-11-30T00:00:00-05:00\", \"Stock\": \"COST\", \"Value\": 470896.69397689047}, {\"Date\": \"2023-12-31T00:00:00-05:00\", \"Stock\": \"COST\", \"Value\": 505185.7251642987}, {\"Date\": \"2024-01-31T00:00:00-05:00\", \"Stock\": \"COST\", \"Value\": 563813.5623950803}, {\"Date\": \"2024-02-29T00:00:00-05:00\", \"Stock\": \"COST\", \"Value\": 611356.7621066913}, {\"Date\": \"2024-03-31T00:00:00-04:00\", \"Stock\": \"COST\", \"Value\": 650373.5513885127}, {\"Date\": \"2024-04-30T00:00:00-04:00\", \"Stock\": \"COST\", \"Value\": 625901.2693814778}, {\"Date\": \"2024-05-31T00:00:00-04:00\", \"Stock\": \"COST\", \"Value\": 627757.6678021634}, {\"Date\": \"2024-06-30T00:00:00-04:00\", \"Stock\": \"COST\", \"Value\": 708741.58242874}, {\"Date\": \"2024-07-31T00:00:00-04:00\", \"Stock\": \"COST\", \"Value\": 735061.1440431218}, {\"Date\": \"2024-08-31T00:00:00-04:00\", \"Stock\": \"COST\", \"Value\": 711056.3212040673}, {\"Date\": \"2024-09-30T00:00:00-04:00\", \"Stock\": \"COST\", \"Value\": 764745.2278210196}, {\"Date\": \"2024-10-31T00:00:00-04:00\", \"Stock\": \"COST\", \"Value\": 763709.362621611}, {\"Date\": \"2024-11-30T00:00:00-05:00\", \"Stock\": \"COST\", \"Value\": 764663.1585009737}, {\"Date\": \"2024-12-31T00:00:00-05:00\", \"Stock\": \"COST\", \"Value\": 849809.7314269503}, {\"Date\": \"2025-01-31T00:00:00-05:00\", \"Stock\": \"COST\", \"Value\": 792990.1388832601}, {\"Date\": \"2025-02-28T00:00:00-05:00\", \"Stock\": \"COST\", \"Value\": 876681.1678906851}, {\"Date\": \"2025-03-31T00:00:00-04:00\", \"Stock\": \"COST\", \"Value\": 913442.3040415008}, {\"Date\": \"2025-04-30T00:00:00-04:00\", \"Stock\": \"COST\", \"Value\": 832773.9216869911}, {\"Date\": \"2025-05-31T00:00:00-04:00\", \"Stock\": \"COST\", \"Value\": 871725.0661780547}, {\"Date\": \"2015-01-31T00:00:00-05:00\", \"Stock\": \"WMT\", \"Value\": 100000.0}, {\"Date\": \"2015-02-28T00:00:00-05:00\", \"Stock\": \"WMT\", \"Value\": 99778.77423472685}, {\"Date\": \"2015-03-31T00:00:00-04:00\", \"Stock\": \"WMT\", \"Value\": 97741.54902691416}, {\"Date\": \"2015-04-30T00:00:00-04:00\", \"Stock\": \"WMT\", \"Value\": 94522.41929990948}, {\"Date\": \"2015-05-31T00:00:00-04:00\", \"Stock\": \"WMT\", \"Value\": 92051.31384337258}, {\"Date\": \"2015-06-30T00:00:00-04:00\", \"Stock\": \"WMT\", \"Value\": 88071.37653150322}, {\"Date\": \"2015-07-31T00:00:00-04:00\", \"Stock\": \"WMT\", \"Value\": 84712.57089709588}, {\"Date\": \"2015-08-31T00:00:00-04:00\", \"Stock\": \"WMT\", \"Value\": 85066.11173614585}, {\"Date\": \"2015-09-30T00:00:00-04:00\", \"Stock\": \"WMT\", \"Value\": 75727.20946871467}, {\"Date\": \"2015-10-31T00:00:00-04:00\", \"Stock\": \"WMT\", \"Value\": 76261.18069734248}, {\"Date\": \"2015-11-30T00:00:00-05:00\", \"Stock\": \"WMT\", \"Value\": 68358.58153791697}, {\"Date\": \"2015-12-31T00:00:00-05:00\", \"Stock\": \"WMT\", \"Value\": 69996.06440762138}, {\"Date\": \"2016-01-31T00:00:00-05:00\", \"Stock\": \"WMT\", \"Value\": 73537.7540428152}, {\"Date\": \"2016-02-29T00:00:00-05:00\", \"Stock\": \"WMT\", \"Value\": 80764.66956890706}, {\"Date\": \"2016-03-31T00:00:00-04:00\", \"Stock\": \"WMT\", \"Value\": 79520.29610834362}, {\"Date\": \"2016-04-30T00:00:00-04:00\", \"Stock\": \"WMT\", \"Value\": 83242.95592758119}, {\"Date\": \"2016-05-31T00:00:00-04:00\", \"Stock\": \"WMT\", \"Value\": 81471.07241457263}, {\"Date\": \"2016-06-30T00:00:00-04:00\", \"Stock\": \"WMT\", \"Value\": 85600.89265647253}, {\"Date\": \"2016-07-31T00:00:00-04:00\", \"Stock\": \"WMT\", \"Value\": 88405.68923738165}, {\"Date\": \"2016-08-31T00:00:00-04:00\", \"Stock\": \"WMT\", \"Value\": 89583.43079622301}, {\"Date\": \"2016-09-30T00:00:00-04:00\", \"Stock\": \"WMT\", \"Value\": 89047.56210826054}, {\"Date\": \"2016-10-31T00:00:00-04:00\", \"Stock\": \"WMT\", \"Value\": 88032.8548355279}, {\"Date\": \"2016-11-30T00:00:00-05:00\", \"Stock\": \"WMT\", \"Value\": 84719.84994368145}, {\"Date\": \"2016-12-31T00:00:00-05:00\", \"Stock\": \"WMT\", \"Value\": 86394.6931333891}, {\"Date\": \"2017-01-31T00:00:00-05:00\", \"Stock\": \"WMT\", \"Value\": 84538.23364201945}, {\"Date\": \"2017-02-28T00:00:00-05:00\", \"Stock\": \"WMT\", \"Value\": 81546.25924070875}, {\"Date\": \"2017-03-31T00:00:00-04:00\", \"Stock\": \"WMT\", \"Value\": 86742.15719534573}, {\"Date\": \"2017-04-30T00:00:00-04:00\", \"Stock\": \"WMT\", \"Value\": 89091.61260815928}, {\"Date\": \"2017-05-31T00:00:00-04:00\", \"Stock\": \"WMT\", \"Value\": 93308.6587285256}, {\"Date\": \"2017-06-30T00:00:00-04:00\", \"Stock\": \"WMT\", \"Value\": 99651.75078245663}, {\"Date\": \"2017-07-31T00:00:00-04:00\", \"Stock\": \"WMT\", \"Value\": 94095.38462645734}, {\"Date\": \"2017-08-31T00:00:00-04:00\", \"Stock\": \"WMT\", \"Value\": 100513.24639261901}, {\"Date\": \"2017-09-30T00:00:00-04:00\", \"Stock\": \"WMT\", \"Value\": 98469.24921787053}, {\"Date\": \"2017-10-31T00:00:00-04:00\", \"Stock\": \"WMT\", \"Value\": 98569.73277556754}, {\"Date\": \"2017-11-30T00:00:00-05:00\", \"Stock\": \"WMT\", \"Value\": 110493.62077443169}, {\"Date\": \"2017-12-31T00:00:00-05:00\", \"Stock\": \"WMT\", \"Value\": 122316.96796467062}, {\"Date\": \"2018-01-31T00:00:00-05:00\", \"Stock\": \"WMT\", \"Value\": 124527.82705901329}, {\"Date\": \"2018-02-28T00:00:00-05:00\", \"Stock\": \"WMT\", \"Value\": 133281.00325872283}, {\"Date\": \"2018-03-31T00:00:00-04:00\", \"Stock\": \"WMT\", \"Value\": 112515.85441775969}, {\"Date\": \"2018-04-30T00:00:00-04:00\", \"Stock\": \"WMT\", \"Value\": 108701.37228839156}, {\"Date\": \"2018-05-31T00:00:00-04:00\", \"Stock\": \"WMT\", \"Value\": 111064.72331934994}, {\"Date\": \"2018-06-30T00:00:00-04:00\", \"Stock\": \"WMT\", \"Value\": 106112.92696515446}, {\"Date\": \"2018-07-31T00:00:00-04:00\", \"Stock\": \"WMT\", \"Value\": 107404.33615258714}, {\"Date\": \"2018-08-31T00:00:00-04:00\", \"Stock\": \"WMT\", \"Value\": 112825.69644118418}, {\"Date\": \"2018-09-30T00:00:00-04:00\", \"Stock\": \"WMT\", \"Value\": 122637.68766445329}, {\"Date\": \"2018-10-31T00:00:00-04:00\", \"Stock\": \"WMT\", \"Value\": 121403.07139779614}, {\"Date\": \"2018-11-30T00:00:00-05:00\", \"Stock\": \"WMT\", \"Value\": 129350.8333608683}, {\"Date\": \"2018-12-31T00:00:00-05:00\", \"Stock\": \"WMT\", \"Value\": 126997.41945530484}, {\"Date\": \"2019-01-31T00:00:00-05:00\", \"Stock\": \"WMT\", \"Value\": 120694.92648817244}, {\"Date\": \"2019-02-28T00:00:00-05:00\", \"Stock\": \"WMT\", \"Value\": 121367.3059250785}, {\"Date\": \"2019-03-31T00:00:00-04:00\", \"Stock\": \"WMT\", \"Value\": 126630.09749996648}, {\"Date\": \"2019-04-30T00:00:00-04:00\", \"Stock\": \"WMT\", \"Value\": 127168.44433524966}, {\"Date\": \"2019-05-31T00:00:00-04:00\", \"Stock\": \"WMT\", \"Value\": 131770.51930517657}, {\"Date\": \"2019-06-30T00:00:00-04:00\", \"Stock\": \"WMT\", \"Value\": 133254.72508267852}, {\"Date\": \"2019-07-31T00:00:00-04:00\", \"Stock\": \"WMT\", \"Value\": 144572.72650839025}, {\"Date\": \"2019-08-31T00:00:00-04:00\", \"Stock\": \"WMT\", \"Value\": 142952.11630509706}, {\"Date\": \"2019-09-30T00:00:00-04:00\", \"Stock\": \"WMT\", \"Value\": 150564.05250204552}, {\"Date\": \"2019-10-31T00:00:00-04:00\", \"Stock\": \"WMT\", \"Value\": 154780.010854776}, {\"Date\": \"2019-11-30T00:00:00-05:00\", \"Stock\": \"WMT\", \"Value\": 154477.93860017884}, {\"Date\": \"2019-12-31T00:00:00-05:00\", \"Stock\": \"WMT\", \"Value\": 156658.11937570974}, {\"Date\": \"2020-01-31T00:00:00-05:00\", \"Stock\": \"WMT\", \"Value\": 156912.2317098824}, {\"Date\": \"2020-02-29T00:00:00-05:00\", \"Stock\": \"WMT\", \"Value\": 150751.32846689541}, {\"Date\": \"2020-03-31T00:00:00-04:00\", \"Stock\": \"WMT\", \"Value\": 152875.27247352473}, {\"Date\": \"2020-04-30T00:00:00-04:00\", \"Stock\": \"WMT\", \"Value\": 151246.05827359337}, {\"Date\": \"2020-05-31T00:00:00-04:00\", \"Stock\": \"WMT\", \"Value\": 162880.39561372832}, {\"Date\": \"2020-06-30T00:00:00-04:00\", \"Stock\": \"WMT\", \"Value\": 164981.07938609997}, {\"Date\": \"2020-07-31T00:00:00-04:00\", \"Stock\": \"WMT\", \"Value\": 159297.95967506335}, {\"Date\": \"2020-08-31T00:00:00-04:00\", \"Stock\": \"WMT\", \"Value\": 172088.14418335477}, {\"Date\": \"2020-09-30T00:00:00-04:00\", \"Stock\": \"WMT\", \"Value\": 197238.29701061826}, {\"Date\": \"2020-10-31T00:00:00-04:00\", \"Stock\": \"WMT\", \"Value\": 191211.13193590907}, {\"Date\": \"2020-11-30T00:00:00-05:00\", \"Stock\": \"WMT\", \"Value\": 187629.6283695034}, {\"Date\": \"2020-12-31T00:00:00-05:00\", \"Stock\": \"WMT\", \"Value\": 203987.05278437433}, {\"Date\": \"2021-01-31T00:00:00-05:00\", \"Stock\": \"WMT\", \"Value\": 196537.49657721235}, {\"Date\": \"2021-02-28T00:00:00-05:00\", \"Stock\": \"WMT\", \"Value\": 186799.84977356443}, {\"Date\": \"2021-03-31T00:00:00-04:00\", \"Stock\": \"WMT\", \"Value\": 176203.74983765275}, {\"Date\": \"2021-04-30T00:00:00-04:00\", \"Stock\": \"WMT\", \"Value\": 182663.65014252212}, {\"Date\": \"2021-05-31T00:00:00-04:00\", \"Stock\": \"WMT\", \"Value\": 191418.347581181}, {\"Date\": \"2021-06-30T00:00:00-04:00\", \"Stock\": \"WMT\", \"Value\": 191548.04546966864}, {\"Date\": \"2021-07-31T00:00:00-04:00\", \"Stock\": \"WMT\", \"Value\": 188383.9829568894}, {\"Date\": \"2021-08-31T00:00:00-04:00\", \"Stock\": \"WMT\", \"Value\": 192305.2953182808}, {\"Date\": \"2021-09-30T00:00:00-04:00\", \"Stock\": \"WMT\", \"Value\": 200558.63819997848}, {\"Date\": \"2021-10-31T00:00:00-04:00\", \"Stock\": \"WMT\", \"Value\": 185996.53746386242}, {\"Date\": \"2021-11-30T00:00:00-05:00\", \"Stock\": \"WMT\", \"Value\": 203286.5304269055}, {\"Date\": \"2021-12-31T00:00:00-05:00\", \"Stock\": \"WMT\", \"Value\": 186118.7109446436}, {\"Date\": \"2022-01-31T00:00:00-05:00\", \"Stock\": \"WMT\", \"Value\": 197101.25464591282}, {\"Date\": \"2022-02-28T00:00:00-05:00\", \"Stock\": \"WMT\", \"Value\": 192005.10416561025}, {\"Date\": \"2022-03-31T00:00:00-04:00\", \"Stock\": \"WMT\", \"Value\": 185301.03683066712}, {\"Date\": \"2022-04-30T00:00:00-04:00\", \"Stock\": \"WMT\", \"Value\": 206563.2300515684}, {\"Date\": \"2022-05-31T00:00:00-04:00\", \"Stock\": \"WMT\", \"Value\": 207890.0939209656}, {\"Date\": \"2022-06-30T00:00:00-04:00\", \"Stock\": \"WMT\", \"Value\": 172224.0742443123}, {\"Date\": \"2022-07-31T00:00:00-04:00\", \"Stock\": \"WMT\", \"Value\": 168352.63562008805}, {\"Date\": \"2022-08-31T00:00:00-04:00\", \"Stock\": \"WMT\", \"Value\": 181957.5989811298}, {\"Date\": \"2022-09-30T00:00:00-04:00\", \"Stock\": \"WMT\", \"Value\": 185424.96055411047}, {\"Date\": \"2022-10-31T00:00:00-04:00\", \"Stock\": \"WMT\", \"Value\": 182736.2606768892}, {\"Date\": \"2022-11-30T00:00:00-05:00\", \"Stock\": \"WMT\", \"Value\": 195366.32251770608}, {\"Date\": \"2022-12-31T00:00:00-05:00\", \"Stock\": \"WMT\", \"Value\": 211471.05769290536}, {\"Date\": \"2023-01-31T00:00:00-05:00\", \"Stock\": \"WMT\", \"Value\": 198746.30281684382}, {\"Date\": \"2023-02-28T00:00:00-05:00\", \"Stock\": \"WMT\", \"Value\": 200227.2043979182}, {\"Date\": \"2023-03-31T00:00:00-04:00\", \"Stock\": \"WMT\", \"Value\": 193971.41183078982}, {\"Date\": \"2023-04-30T00:00:00-04:00\", \"Stock\": \"WMT\", \"Value\": 206634.46656365864}, {\"Date\": \"2023-05-31T00:00:00-04:00\", \"Stock\": \"WMT\", \"Value\": 210664.5884034483}, {\"Date\": \"2023-06-30T00:00:00-04:00\", \"Stock\": \"WMT\", \"Value\": 205633.86755537556}, {\"Date\": \"2023-07-31T00:00:00-04:00\", \"Stock\": \"WMT\", \"Value\": 220685.67637391598}, {\"Date\": \"2023-08-31T00:00:00-04:00\", \"Stock\": \"WMT\", \"Value\": 221955.1257410315}, {\"Date\": \"2023-09-30T00:00:00-04:00\", \"Stock\": \"WMT\", \"Value\": 226187.98129628538}, {\"Date\": \"2023-10-31T00:00:00-04:00\", \"Stock\": \"WMT\", \"Value\": 224130.1048608001}, {\"Date\": \"2023-11-30T00:00:00-05:00\", \"Stock\": \"WMT\", \"Value\": 230807.80405395463}, {\"Date\": \"2023-12-31T00:00:00-05:00\", \"Stock\": \"WMT\", \"Value\": 216066.4424829368}, {\"Date\": \"2024-01-31T00:00:00-05:00\", \"Stock\": \"WMT\", \"Value\": 223824.33583198194}, {\"Date\": \"2024-02-29T00:00:00-05:00\", \"Stock\": \"WMT\", \"Value\": 236498.69353381847}, {\"Date\": \"2024-03-31T00:00:00-04:00\", \"Stock\": \"WMT\", \"Value\": 247697.62938627988}, {\"Date\": \"2024-04-30T00:00:00-04:00\", \"Stock\": \"WMT\", \"Value\": 253786.16745602066}, {\"Date\": \"2024-05-31T00:00:00-04:00\", \"Stock\": \"WMT\", \"Value\": 248921.8995923407}, {\"Date\": \"2024-06-30T00:00:00-04:00\", \"Stock\": \"WMT\", \"Value\": 279367.09262447746}, {\"Date\": \"2024-07-31T00:00:00-04:00\", \"Stock\": \"WMT\", \"Value\": 286412.8171415168}, {\"Date\": \"2024-08-31T00:00:00-04:00\", \"Stock\": \"WMT\", \"Value\": 296217.3821015278}, {\"Date\": \"2024-09-30T00:00:00-04:00\", \"Stock\": \"WMT\", \"Value\": 328474.7142279025}, {\"Date\": \"2024-10-31T00:00:00-04:00\", \"Stock\": \"WMT\", \"Value\": 345926.4328844098}, {\"Date\": \"2024-11-30T00:00:00-05:00\", \"Stock\": \"WMT\", \"Value\": 349842.42908818246}, {\"Date\": \"2024-12-31T00:00:00-05:00\", \"Stock\": \"WMT\", \"Value\": 394322.96524476085}, {\"Date\": \"2025-01-31T00:00:00-05:00\", \"Stock\": \"WMT\", \"Value\": 383934.50624673057}, {\"Date\": \"2025-02-28T00:00:00-05:00\", \"Stock\": \"WMT\", \"Value\": 424631.57391961775}, {\"Date\": \"2025-03-31T00:00:00-04:00\", \"Stock\": \"WMT\", \"Value\": 416312.98133717885}, {\"Date\": \"2025-04-30T00:00:00-04:00\", \"Stock\": \"WMT\", \"Value\": 379983.99591195665}, {\"Date\": \"2025-05-31T00:00:00-04:00\", \"Stock\": \"WMT\", \"Value\": 416686.29010386625}, {\"Date\": \"2015-01-31T00:00:00-05:00\", \"Stock\": \"AMZN\", \"Value\": 100000.0}, {\"Date\": \"2015-02-28T00:00:00-05:00\", \"Stock\": \"AMZN\", \"Value\": 118134.96513487543}, {\"Date\": \"2015-03-31T00:00:00-04:00\", \"Stock\": \"AMZN\", \"Value\": 125003.2503194834}, {\"Date\": \"2015-04-30T00:00:00-04:00\", \"Stock\": \"AMZN\", \"Value\": 120011.67456645252}, {\"Date\": \"2015-05-31T00:00:00-04:00\", \"Stock\": \"AMZN\", \"Value\": 137064.04684218866}, {\"Date\": \"2015-06-30T00:00:00-04:00\", \"Stock\": \"AMZN\", \"Value\": 139673.27906015908}, {\"Date\": \"2015-07-31T00:00:00-04:00\", \"Stock\": \"AMZN\", \"Value\": 141770.38580905876}, {\"Date\": \"2015-08-31T00:00:00-04:00\", \"Stock\": \"AMZN\", \"Value\": 173418.25358402205}, {\"Date\": \"2015-09-30T00:00:00-04:00\", \"Stock\": \"AMZN\", \"Value\": 160942.56606649148}, {\"Date\": \"2015-10-31T00:00:00-04:00\", \"Stock\": \"AMZN\", \"Value\": 168779.98122202492}, {\"Date\": \"2015-11-30T00:00:00-05:00\", \"Stock\": \"AMZN\", \"Value\": 203665.89052602503}, {\"Date\": \"2015-12-31T00:00:00-05:00\", \"Stock\": \"AMZN\", \"Value\": 220102.42385736355}, {\"Date\": \"2016-01-31T00:00:00-05:00\", \"Stock\": \"AMZN\", \"Value\": 206466.36455645147}, {\"Date\": \"2016-02-29T00:00:00-05:00\", \"Stock\": \"AMZN\", \"Value\": 186312.0715969186}, {\"Date\": \"2016-03-31T00:00:00-04:00\", \"Stock\": \"AMZN\", \"Value\": 187683.13456050644}, {\"Date\": \"2016-04-30T00:00:00-04:00\", \"Stock\": \"AMZN\", \"Value\": 193990.66467441505}, {\"Date\": \"2016-05-31T00:00:00-04:00\", \"Stock\": \"AMZN\", \"Value\": 221655.01013178524}, {\"Date\": \"2016-06-30T00:00:00-04:00\", \"Stock\": \"AMZN\", \"Value\": 233190.7231832569}, {\"Date\": \"2016-07-31T00:00:00-04:00\", \"Stock\": \"AMZN\", \"Value\": 235213.28432620215}, {\"Date\": \"2016-08-31T00:00:00-04:00\", \"Stock\": \"AMZN\", \"Value\": 248846.11649107936}, {\"Date\": \"2016-09-30T00:00:00-04:00\", \"Stock\": \"AMZN\", \"Value\": 249779.58722704506}, {\"Date\": \"2016-10-31T00:00:00-04:00\", \"Stock\": \"AMZN\", \"Value\": 271210.9605409669}, {\"Date\": \"2016-11-30T00:00:00-05:00\", \"Stock\": \"AMZN\", \"Value\": 254573.4545310443}, {\"Date\": \"2016-12-31T00:00:00-05:00\", \"Stock\": \"AMZN\", \"Value\": 241037.85684041248}, {\"Date\": \"2017-01-31T00:00:00-05:00\", \"Stock\": \"AMZN\", \"Value\": 244285.61687107154}, {\"Date\": \"2017-02-28T00:00:00-05:00\", \"Stock\": \"AMZN\", \"Value\": 269788.0284752098}, {\"Date\": \"2017-03-31T00:00:00-04:00\", \"Stock\": \"AMZN\", \"Value\": 276507.197718897}, {\"Date\": \"2017-04-30T00:00:00-04:00\", \"Stock\": \"AMZN\", \"Value\": 288963.4482331832}, {\"Date\": \"2017-05-31T00:00:00-04:00\", \"Stock\": \"AMZN\", \"Value\": 307347.98473700666}, {\"Date\": \"2017-06-30T00:00:00-04:00\", \"Stock\": \"AMZN\", \"Value\": 322815.3880974197}, {\"Date\": \"2017-07-31T00:00:00-04:00\", \"Stock\": \"AMZN\", \"Value\": 309107.99796208215}, {\"Date\": \"2017-08-31T00:00:00-04:00\", \"Stock\": \"AMZN\", \"Value\": 322893.1855684208}, {\"Date\": \"2017-09-30T00:00:00-04:00\", \"Stock\": \"AMZN\", \"Value\": 317078.30682682083}, {\"Date\": \"2017-10-31T00:00:00-04:00\", \"Stock\": \"AMZN\", \"Value\": 310900.4309215767}, {\"Date\": \"2017-11-30T00:00:00-05:00\", \"Stock\": \"AMZN\", \"Value\": 357733.6924068271}, {\"Date\": \"2017-12-31T00:00:00-05:00\", \"Stock\": \"AMZN\", \"Value\": 376750.3024512695}, {\"Date\": \"2018-01-31T00:00:00-05:00\", \"Stock\": \"AMZN\", \"Value\": 385391.55886311585}, {\"Date\": \"2018-02-28T00:00:00-05:00\", \"Stock\": \"AMZN\", \"Value\": 450538.06311128184}, {\"Date\": \"2018-03-31T00:00:00-04:00\", \"Stock\": \"AMZN\", \"Value\": 484069.1193189037}, {\"Date\": \"2018-04-30T00:00:00-04:00\", \"Stock\": \"AMZN\", \"Value\": 444700.53259490855}, {\"Date\": \"2018-05-31T00:00:00-04:00\", \"Stock\": \"AMZN\", \"Value\": 512854.92545964895}, {\"Date\": \"2018-06-30T00:00:00-04:00\", \"Stock\": \"AMZN\", \"Value\": 532069.2686821347}, {\"Date\": \"2018-07-31T00:00:00-04:00\", \"Stock\": \"AMZN\", \"Value\": 555484.2796744895}, {\"Date\": \"2018-08-31T00:00:00-04:00\", \"Stock\": \"AMZN\", \"Value\": 582513.2873616883}, {\"Date\": \"2018-09-30T00:00:00-04:00\", \"Stock\": \"AMZN\", \"Value\": 661062.5203202927}, {\"Date\": \"2018-10-31T00:00:00-04:00\", \"Stock\": \"AMZN\", \"Value\": 649669.4194796485}, {\"Date\": \"2018-11-30T00:00:00-05:00\", \"Stock\": \"AMZN\", \"Value\": 539845.0591403589}, {\"Date\": \"2018-12-31T00:00:00-05:00\", \"Stock\": \"AMZN\", \"Value\": 574471.66002703}, {\"Date\": \"2019-01-31T00:00:00-05:00\", \"Stock\": \"AMZN\", \"Value\": 498875.2689048195}, {\"Date\": \"2019-02-28T00:00:00-05:00\", \"Stock\": \"AMZN\", \"Value\": 527106.8484339704}, {\"Date\": \"2019-03-31T00:00:00-04:00\", \"Stock\": \"AMZN\", \"Value\": 541854.6870101531}, {\"Date\": \"2019-04-30T00:00:00-04:00\", \"Stock\": \"AMZN\", \"Value\": 588029.9836794705}, {\"Date\": \"2019-05-31T00:00:00-04:00\", \"Stock\": \"AMZN\", \"Value\": 619577.3280216241}, {\"Date\": \"2019-06-30T00:00:00-04:00\", \"Stock\": \"AMZN\", \"Value\": 548648.389495289}, {\"Date\": \"2019-07-31T00:00:00-04:00\", \"Stock\": \"AMZN\", \"Value\": 623035.7792324894}, {\"Date\": \"2019-08-31T00:00:00-04:00\", \"Stock\": \"AMZN\", \"Value\": 601361.3444619656}, {\"Date\": \"2019-09-30T00:00:00-04:00\", \"Stock\": \"AMZN\", \"Value\": 580137.4228277093}, {\"Date\": \"2019-10-31T00:00:00-04:00\", \"Stock\": \"AMZN\", \"Value\": 562572.9498119142}, {\"Date\": \"2019-11-30T00:00:00-05:00\", \"Stock\": \"AMZN\", \"Value\": 580656.0396623673}, {\"Date\": \"2019-12-31T00:00:00-05:00\", \"Stock\": \"AMZN\", \"Value\": 577466.6400994651}, {\"Date\": \"2020-01-31T00:00:00-05:00\", \"Stock\": \"AMZN\", \"Value\": 615198.3640769561}, {\"Date\": \"2020-02-29T00:00:00-05:00\", \"Stock\": \"AMZN\", \"Value\": 649617.5380129733}, {\"Date\": \"2020-03-31T00:00:00-04:00\", \"Stock\": \"AMZN\", \"Value\": 633330.1206225555}, {\"Date\": \"2020-04-30T00:00:00-04:00\", \"Stock\": \"AMZN\", \"Value\": 618339.1958607591}, {\"Date\": \"2020-05-31T00:00:00-04:00\", \"Stock\": \"AMZN\", \"Value\": 740969.8211468043}, {\"Date\": \"2020-06-30T00:00:00-04:00\", \"Stock\": \"AMZN\", \"Value\": 800933.5201939894}, {\"Date\": \"2020-07-31T00:00:00-04:00\", \"Stock\": \"AMZN\", \"Value\": 933067.5541579268}, {\"Date\": \"2020-08-31T00:00:00-04:00\", \"Stock\": \"AMZN\", \"Value\": 1008650.9872779745}, {\"Date\": \"2020-09-30T00:00:00-04:00\", \"Stock\": \"AMZN\", \"Value\": 1134163.08647247}, {\"Date\": \"2020-10-31T00:00:00-04:00\", \"Stock\": \"AMZN\", \"Value\": 1044100.9158822263}, {\"Date\": \"2020-11-30T00:00:00-05:00\", \"Stock\": \"AMZN\", \"Value\": 973836.396443894}, {\"Date\": \"2020-12-31T00:00:00-05:00\", \"Stock\": \"AMZN\", \"Value\": 1043718.4075283026}, {\"Date\": \"2021-01-31T00:00:00-05:00\", \"Stock\": \"AMZN\", \"Value\": 1032876.3185277239}, {\"Date\": \"2021-02-28T00:00:00-05:00\", \"Stock\": \"AMZN\", \"Value\": 1083521.3346148734}, {\"Date\": \"2021-03-31T00:00:00-04:00\", \"Stock\": \"AMZN\", \"Value\": 1019752.434153906}, {\"Date\": \"2021-04-30T00:00:00-04:00\", \"Stock\": \"AMZN\", \"Value\": 1024568.9532326785}, {\"Date\": \"2021-05-31T00:00:00-04:00\", \"Stock\": \"AMZN\", \"Value\": 1097656.5366536812}, {\"Date\": \"2021-06-30T00:00:00-04:00\", \"Stock\": \"AMZN\", \"Value\": 1043254.8869318487}, {\"Date\": \"2021-07-31T00:00:00-04:00\", \"Stock\": \"AMZN\", \"Value\": 1112722.0441149496}, {\"Date\": \"2021-08-31T00:00:00-04:00\", \"Stock\": \"AMZN\", \"Value\": 1079826.3256774994}, {\"Date\": \"2021-09-30T00:00:00-04:00\", \"Stock\": \"AMZN\", \"Value\": 1127641.6504068263}, {\"Date\": \"2021-10-31T00:00:00-04:00\", \"Stock\": \"AMZN\", \"Value\": 1064196.798915979}, {\"Date\": \"2021-11-30T00:00:00-05:00\", \"Stock\": \"AMZN\", \"Value\": 1075492.7147404014}, {\"Date\": \"2021-12-31T00:00:00-05:00\", \"Stock\": \"AMZN\", \"Value\": 1116206.4607881643}, {\"Date\": \"2022-01-31T00:00:00-05:00\", \"Stock\": \"AMZN\", \"Value\": 1104657.7155474944}, {\"Date\": \"2022-02-28T00:00:00-05:00\", \"Stock\": \"AMZN\", \"Value\": 980121.2253250058}, {\"Date\": \"2022-03-31T00:00:00-04:00\", \"Stock\": \"AMZN\", \"Value\": 979787.383666228}, {\"Date\": \"2022-04-30T00:00:00-04:00\", \"Stock\": \"AMZN\", \"Value\": 1060287.8345688465}, {\"Date\": \"2022-05-31T00:00:00-04:00\", \"Stock\": \"AMZN\", \"Value\": 807078.9763648144}, {\"Date\": \"2022-06-30T00:00:00-04:00\", \"Stock\": \"AMZN\", \"Value\": 788824.0693406436}, {\"Date\": \"2022-07-31T00:00:00-04:00\", \"Stock\": \"AMZN\", \"Value\": 710229.483374469}, {\"Date\": \"2022-08-31T00:00:00-04:00\", \"Stock\": \"AMZN\", \"Value\": 877674.073232372}, {\"Date\": \"2022-09-30T00:00:00-04:00\", \"Stock\": \"AMZN\", \"Value\": 828601.0804228884}, {\"Date\": \"2022-10-31T00:00:00-04:00\", \"Stock\": \"AMZN\", \"Value\": 751199.2736100086}, {\"Date\": \"2022-11-30T00:00:00-05:00\", \"Stock\": \"AMZN\", \"Value\": 627447.1876405884}, {\"Date\": \"2022-12-31T00:00:00-05:00\", \"Stock\": \"AMZN\", \"Value\": 619084.6766493154}, {\"Date\": \"2023-01-31T00:00:00-05:00\", \"Stock\": \"AMZN\", \"Value\": 556333.4739383727}, {\"Date\": \"2023-02-28T00:00:00-05:00\", \"Stock\": \"AMZN\", \"Value\": 681641.4104117672}, {\"Date\": \"2023-03-31T00:00:00-04:00\", \"Stock\": \"AMZN\", \"Value\": 597497.7331224032}, {\"Date\": \"2023-04-30T00:00:00-04:00\", \"Stock\": \"AMZN\", \"Value\": 663879.2042179287}, {\"Date\": \"2023-05-31T00:00:00-04:00\", \"Stock\": \"AMZN\", \"Value\": 661545.477919991}, {\"Date\": \"2023-06-30T00:00:00-04:00\", \"Stock\": \"AMZN\", \"Value\": 795864.1222409456}, {\"Date\": \"2023-07-31T00:00:00-04:00\", \"Stock\": \"AMZN\", \"Value\": 844159.2392564656}, {\"Date\": \"2023-08-31T00:00:00-04:00\", \"Stock\": \"AMZN\", \"Value\": 853688.6133967072}, {\"Date\": \"2023-09-30T00:00:00-04:00\", \"Stock\": \"AMZN\", \"Value\": 895371.4399573723}, {\"Date\": \"2023-10-31T00:00:00-04:00\", \"Stock\": \"AMZN\", \"Value\": 839232.5277012844}, {\"Date\": \"2023-11-30T00:00:00-05:00\", \"Stock\": \"AMZN\", \"Value\": 888111.0021042535}, {\"Date\": \"2023-12-31T00:00:00-05:00\", \"Stock\": \"AMZN\", \"Value\": 953131.0916442956}, {\"Date\": \"2024-01-31T00:00:00-05:00\", \"Stock\": \"AMZN\", \"Value\": 971930.4820494268}, {\"Date\": \"2024-02-29T00:00:00-05:00\", \"Stock\": \"AMZN\", \"Value\": 1032542.4768689462}, {\"Date\": \"2024-03-31T00:00:00-04:00\", \"Stock\": \"AMZN\", \"Value\": 1155322.2180959117}, {\"Date\": \"2024-04-30T00:00:00-04:00\", \"Stock\": \"AMZN\", \"Value\": 1173149.2637585886}, {\"Date\": \"2024-05-31T00:00:00-04:00\", \"Stock\": \"AMZN\", \"Value\": 1160378.608588769}, {\"Date\": \"2024-06-30T00:00:00-04:00\", \"Stock\": \"AMZN\", \"Value\": 1156100.0938898756}, {\"Date\": \"2024-07-31T00:00:00-04:00\", \"Stock\": \"AMZN\", \"Value\": 1278361.2182821834}, {\"Date\": \"2024-08-31T00:00:00-04:00\", \"Stock\": \"AMZN\", \"Value\": 1193245.2457083883}, {\"Date\": \"2024-09-30T00:00:00-04:00\", \"Stock\": \"AMZN\", \"Value\": 1142551.5629260924}, {\"Date\": \"2024-10-31T00:00:00-04:00\", \"Stock\": \"AMZN\", \"Value\": 1200116.7456645253}, {\"Date\": \"2024-11-30T00:00:00-05:00\", \"Stock\": \"AMZN\", \"Value\": 1283093.4608888733}, {\"Date\": \"2024-12-31T00:00:00-05:00\", \"Stock\": \"AMZN\", \"Value\": 1365940.6950076392}, {\"Date\": \"2025-01-31T00:00:00-05:00\", \"Stock\": \"AMZN\", \"Value\": 1427589.8245804275}, {\"Date\": \"2025-02-28T00:00:00-05:00\", \"Stock\": \"AMZN\", \"Value\": 1539089.8722146864}, {\"Date\": \"2025-03-31T00:00:00-04:00\", \"Stock\": \"AMZN\", \"Value\": 1329054.901064479}, {\"Date\": \"2025-04-30T00:00:00-04:00\", \"Stock\": \"AMZN\", \"Value\": 1245753.9390379167}, {\"Date\": \"2025-05-31T00:00:00-04:00\", \"Stock\": \"AMZN\", \"Value\": 1232983.2838680972}, {\"Date\": \"2015-01-31T00:00:00-05:00\", \"Stock\": \"^GSPC\", \"Value\": 100000.0}, {\"Date\": \"2015-02-28T00:00:00-05:00\", \"Stock\": \"^GSPC\", \"Value\": 98185.30869342061}, {\"Date\": \"2015-03-31T00:00:00-04:00\", \"Stock\": \"^GSPC\", \"Value\": 102875.8110392797}, {\"Date\": \"2015-04-30T00:00:00-04:00\", \"Stock\": \"^GSPC\", \"Value\": 100072.392880659}, {\"Date\": \"2015-05-31T00:00:00-04:00\", \"Stock\": \"^GSPC\", \"Value\": 102433.68424249088}, {\"Date\": \"2015-06-30T00:00:00-04:00\", \"Stock\": \"^GSPC\", \"Value\": 102600.8177323295}, {\"Date\": \"2015-07-31T00:00:00-04:00\", \"Stock\": \"^GSPC\", \"Value\": 100933.8242716497}, {\"Date\": \"2015-08-31T00:00:00-04:00\", \"Stock\": \"^GSPC\", \"Value\": 101935.6762625488}, {\"Date\": \"2015-09-30T00:00:00-04:00\", \"Stock\": \"^GSPC\", \"Value\": 92986.5912442691}, {\"Date\": \"2015-10-31T00:00:00-04:00\", \"Stock\": \"^GSPC\", \"Value\": 93470.9936803613}, {\"Date\": \"2015-11-30T00:00:00-05:00\", \"Stock\": \"^GSPC\", \"Value\": 102227.67946477428}, {\"Date\": \"2015-12-31T00:00:00-05:00\", \"Stock\": \"^GSPC\", \"Value\": 102158.67907368903}, {\"Date\": \"2016-01-31T00:00:00-05:00\", \"Stock\": \"^GSPC\", \"Value\": 97787.39101775519}, {\"Date\": \"2016-02-29T00:00:00-05:00\", \"Stock\": \"^GSPC\", \"Value\": 94226.99693382997}, {\"Date\": \"2016-03-31T00:00:00-04:00\", \"Stock\": \"^GSPC\", \"Value\": 96120.39755707538}, {\"Date\": \"2016-04-30T00:00:00-04:00\", \"Stock\": \"^GSPC\", \"Value\": 100708.3897809199}, {\"Date\": \"2016-05-31T00:00:00-04:00\", \"Stock\": \"^GSPC\", \"Value\": 101128.65518510596}, {\"Date\": \"2016-06-30T00:00:00-04:00\", \"Stock\": \"^GSPC\", \"Value\": 101998.35428670119}, {\"Date\": \"2016-07-31T00:00:00-04:00\", \"Stock\": \"^GSPC\", \"Value\": 102174.22996121056}, {\"Date\": \"2016-08-31T00:00:00-04:00\", \"Stock\": \"^GSPC\", \"Value\": 105472.74994611755}, {\"Date\": \"2016-09-30T00:00:00-04:00\", \"Stock\": \"^GSPC\", \"Value\": 105473.72261795336}, {\"Date\": \"2016-10-31T00:00:00-04:00\", \"Stock\": \"^GSPC\", \"Value\": 105004.37287161313}, {\"Date\": \"2016-11-30T00:00:00-05:00\", \"Stock\": \"^GSPC\", \"Value\": 102600.33139641158}, {\"Date\": \"2016-12-31T00:00:00-05:00\", \"Stock\": \"^GSPC\", \"Value\": 106456.13303398766}, {\"Date\": \"2017-01-31T00:00:00-05:00\", \"Stock\": \"^GSPC\", \"Value\": 109699.25817165927}, {\"Date\": \"2017-02-28T00:00:00-05:00\", \"Stock\": \"^GSPC\", \"Value\": 110754.54780427043}, {\"Date\": \"2017-03-31T00:00:00-04:00\", \"Stock\": \"^GSPC\", \"Value\": 116410.45660181437}, {\"Date\": \"2017-04-30T00:00:00-04:00\", \"Stock\": \"^GSPC\", \"Value\": 114606.94509042111}, {\"Date\": \"2017-05-31T00:00:00-04:00\", \"Stock\": \"^GSPC\", \"Value\": 116039.75001384872}, {\"Date\": \"2017-06-30T00:00:00-04:00\", \"Stock\": \"^GSPC\", \"Value\": 118067.24887006968}, {\"Date\": \"2017-07-31T00:00:00-04:00\", \"Stock\": \"^GSPC\", \"Value\": 118016.23104609552}, {\"Date\": \"2017-08-31T00:00:00-04:00\", \"Stock\": \"^GSPC\", \"Value\": 120316.30339152877}, {\"Date\": \"2017-09-30T00:00:00-04:00\", \"Stock\": \"^GSPC\", \"Value\": 120326.01824803535}, {\"Date\": \"2017-10-31T00:00:00-04:00\", \"Stock\": \"^GSPC\", \"Value\": 122880.1951796519}, {\"Date\": \"2017-11-30T00:00:00-05:00\", \"Stock\": \"^GSPC\", \"Value\": 125321.16259905981}, {\"Date\": \"2017-12-31T00:00:00-05:00\", \"Stock\": \"^GSPC\", \"Value\": 128375.28099243842}, {\"Date\": \"2018-01-31T00:00:00-05:00\", \"Stock\": \"^GSPC\", \"Value\": 130979.0167402754}, {\"Date\": \"2018-02-28T00:00:00-05:00\", \"Stock\": \"^GSPC\", \"Value\": 137109.12678148702}, {\"Date\": \"2018-03-31T00:00:00-04:00\", \"Stock\": \"^GSPC\", \"Value\": 130097.65743850193}, {\"Date\": \"2018-04-30T00:00:00-04:00\", \"Stock\": \"^GSPC\", \"Value\": 125443.58877000547}, {\"Date\": \"2018-05-31T00:00:00-04:00\", \"Stock\": \"^GSPC\", \"Value\": 128986.49848458914}, {\"Date\": \"2018-06-30T00:00:00-04:00\", \"Stock\": \"^GSPC\", \"Value\": 132864.64785068587}, {\"Date\": \"2018-07-31T00:00:00-04:00\", \"Stock\": \"^GSPC\", \"Value\": 132480.32385701867}, {\"Date\": \"2018-08-31T00:00:00-04:00\", \"Stock\": \"^GSPC\", \"Value\": 136690.32038505469}, {\"Date\": \"2018-09-30T00:00:00-04:00\", \"Stock\": \"^GSPC\", \"Value\": 140740.45473831746}, {\"Date\": \"2018-10-31T00:00:00-04:00\", \"Stock\": \"^GSPC\", \"Value\": 142094.5562760049}, {\"Date\": \"2018-11-30T00:00:00-05:00\", \"Stock\": \"^GSPC\", \"Value\": 133144.01818089728}, {\"Date\": \"2018-12-31T00:00:00-05:00\", \"Stock\": \"^GSPC\", \"Value\": 135573.32540012695}, {\"Date\": \"2019-01-31T00:00:00-05:00\", \"Stock\": \"^GSPC\", \"Value\": 121952.68141308342}, {\"Date\": \"2019-02-28T00:00:00-05:00\", \"Stock\": \"^GSPC\", \"Value\": 131499.85878465604}, {\"Date\": \"2019-03-31T00:00:00-04:00\", \"Stock\": \"^GSPC\", \"Value\": 136220.48430279654}, {\"Date\": \"2019-04-30T00:00:00-04:00\", \"Stock\": \"^GSPC\", \"Value\": 139305.70447121823}, {\"Date\": \"2019-05-31T00:00:00-04:00\", \"Stock\": \"^GSPC\", \"Value\": 142052.76697261943}, {\"Date\": \"2019-06-30T00:00:00-04:00\", \"Stock\": \"^GSPC\", \"Value\": 133342.2415839273}, {\"Date\": \"2019-07-31T00:00:00-04:00\", \"Stock\": \"^GSPC\", \"Value\": 144025.36917937457}, {\"Date\": \"2019-08-31T00:00:00-04:00\", \"Stock\": \"^GSPC\", \"Value\": 143502.09545540434}, {\"Date\": \"2019-09-30T00:00:00-04:00\", \"Stock\": \"^GSPC\", \"Value\": 141204.45478956067}, {\"Date\": \"2019-10-31T00:00:00-04:00\", \"Stock\": \"^GSPC\", \"Value\": 142855.411026801}, {\"Date\": \"2019-11-30T00:00:00-05:00\", \"Stock\": \"^GSPC\", \"Value\": 149009.32780428705}, {\"Date\": \"2019-12-31T00:00:00-05:00\", \"Stock\": \"^GSPC\", \"Value\": 151290.94310854297}, {\"Date\": \"2020-01-31T00:00:00-05:00\", \"Stock\": \"^GSPC\", \"Value\": 158286.37522808858}, {\"Date\": \"2020-02-29T00:00:00-05:00\", \"Stock\": \"^GSPC\", \"Value\": 157852.49241820097}, {\"Date\": \"2020-03-31T00:00:00-04:00\", \"Stock\": \"^GSPC\", \"Value\": 150142.36001265424}, {\"Date\": \"2020-04-30T00:00:00-04:00\", \"Stock\": \"^GSPC\", \"Value\": 120032.06970213822}, {\"Date\": \"2020-05-31T00:00:00-04:00\", \"Stock\": \"^GSPC\", \"Value\": 137533.28287301637}, {\"Date\": \"2020-06-30T00:00:00-04:00\", \"Stock\": \"^GSPC\", \"Value\": 148466.13803138575}, {\"Date\": \"2020-07-31T00:00:00-04:00\", \"Stock\": \"^GSPC\", \"Value\": 151387.62906139425}, {\"Date\": \"2020-08-31T00:00:00-04:00\", \"Stock\": \"^GSPC\", \"Value\": 160072.4023701403}, {\"Date\": \"2020-09-30T00:00:00-04:00\", \"Stock\": \"^GSPC\", \"Value\": 171346.321349186}, {\"Date\": \"2020-10-31T00:00:00-04:00\", \"Stock\": \"^GSPC\", \"Value\": 164260.03930780402}, {\"Date\": \"2020-11-30T00:00:00-05:00\", \"Stock\": \"^GSPC\", \"Value\": 160831.7981131827}, {\"Date\": \"2020-12-31T00:00:00-05:00\", \"Stock\": \"^GSPC\", \"Value\": 177944.32212898415}, {\"Date\": \"2021-01-31T00:00:00-05:00\", \"Stock\": \"^GSPC\", \"Value\": 179800.31047210525}, {\"Date\": \"2021-02-28T00:00:00-05:00\", \"Stock\": \"^GSPC\", \"Value\": 183357.31206645674}, {\"Date\": \"2021-03-31T00:00:00-04:00\", \"Stock\": \"^GSPC\", \"Value\": 189574.39320401306}, {\"Date\": \"2021-04-30T00:00:00-04:00\", \"Stock\": \"^GSPC\", \"Value\": 195309.98992098466}, {\"Date\": \"2021-05-31T00:00:00-04:00\", \"Stock\": \"^GSPC\", \"Value\": 203705.1917070948}, {\"Date\": \"2021-06-30T00:00:00-04:00\", \"Stock\": \"^GSPC\", \"Value\": 204160.92404773354}, {\"Date\": \"2021-07-31T00:00:00-04:00\", \"Stock\": \"^GSPC\", \"Value\": 209889.22572593644}, {\"Date\": \"2021-08-31T00:00:00-04:00\", \"Stock\": \"^GSPC\", \"Value\": 213155.19678989827}, {\"Date\": \"2021-09-30T00:00:00-04:00\", \"Stock\": \"^GSPC\", \"Value\": 219808.08235731054}, {\"Date\": \"2021-10-31T00:00:00-04:00\", \"Stock\": \"^GSPC\", \"Value\": 211691.77642734553}, {\"Date\": \"2021-11-30T00:00:00-05:00\", \"Stock\": \"^GSPC\", \"Value\": 224160.43296707497}, {\"Date\": \"2021-12-31T00:00:00-05:00\", \"Stock\": \"^GSPC\", \"Value\": 219271.21495134212}, {\"Date\": \"2022-01-31T00:00:00-05:00\", \"Stock\": \"^GSPC\", \"Value\": 233046.3595562102}, {\"Date\": \"2022-02-28T00:00:00-05:00\", \"Stock\": \"^GSPC\", \"Value\": 220898.85078822597}, {\"Date\": \"2022-03-31T00:00:00-04:00\", \"Stock\": \"^GSPC\", \"Value\": 209224.558730222}, {\"Date\": \"2022-04-30T00:00:00-04:00\", \"Stock\": \"^GSPC\", \"Value\": 220865.80366951125}, {\"Date\": \"2022-05-31T00:00:00-04:00\", \"Stock\": \"^GSPC\", \"Value\": 201893.88695916333}, {\"Date\": \"2022-06-30T00:00:00-04:00\", \"Stock\": \"^GSPC\", \"Value\": 199262.95198547828}, {\"Date\": \"2022-07-31T00:00:00-04:00\", \"Stock\": \"^GSPC\", \"Value\": 185858.03949450958}, {\"Date\": \"2022-08-31T00:00:00-04:00\", \"Stock\": \"^GSPC\", \"Value\": 200108.34615302953}, {\"Date\": \"2022-09-30T00:00:00-04:00\", \"Stock\": \"^GSPC\", \"Value\": 192733.95159676537}, {\"Date\": \"2022-10-31T00:00:00-04:00\", \"Stock\": \"^GSPC\", \"Value\": 178720.7277673018}, {\"Date\": \"2022-11-30T00:00:00-05:00\", \"Stock\": \"^GSPC\", \"Value\": 187353.03610617167}, {\"Date\": \"2022-12-31T00:00:00-05:00\", \"Stock\": \"^GSPC\", \"Value\": 198064.8219352208}, {\"Date\": \"2023-01-31T00:00:00-05:00\", \"Stock\": \"^GSPC\", \"Value\": 185800.21296768464}, {\"Date\": \"2023-02-28T00:00:00-05:00\", \"Stock\": \"^GSPC\", \"Value\": 200136.52991256514}, {\"Date\": \"2023-03-31T00:00:00-04:00\", \"Stock\": \"^GSPC\", \"Value\": 191982.79984062415}, {\"Date\": \"2023-04-30T00:00:00-04:00\", \"Stock\": \"^GSPC\", \"Value\": 200394.02698832212}, {\"Date\": \"2023-05-31T00:00:00-04:00\", \"Stock\": \"^GSPC\", \"Value\": 202500.7392899045}, {\"Date\": \"2023-06-30T00:00:00-04:00\", \"Stock\": \"^GSPC\", \"Value\": 205083.08811920494}, {\"Date\": \"2023-07-31T00:00:00-04:00\", \"Stock\": \"^GSPC\", \"Value\": 216479.93146696588}, {\"Date\": \"2023-08-31T00:00:00-04:00\", \"Stock\": \"^GSPC\", \"Value\": 222365.6636403525}, {\"Date\": \"2023-09-30T00:00:00-04:00\", \"Stock\": \"^GSPC\", \"Value\": 219403.8541765639}, {\"Date\": \"2023-10-31T00:00:00-04:00\", \"Stock\": \"^GSPC\", \"Value\": 208356.34236008383}, {\"Date\": \"2023-11-30T00:00:00-05:00\", \"Stock\": \"^GSPC\", \"Value\": 205901.2711990565}, {\"Date\": \"2023-12-31T00:00:00-05:00\", \"Stock\": \"^GSPC\", \"Value\": 223235.35088009606}, {\"Date\": \"2024-01-31T00:00:00-05:00\", \"Stock\": \"^GSPC\", \"Value\": 230435.82696737407}, {\"Date\": \"2024-02-29T00:00:00-05:00\", \"Stock\": \"^GSPC\", \"Value\": 238372.85287140438}, {\"Date\": \"2024-03-31T00:00:00-04:00\", \"Stock\": \"^GSPC\", \"Value\": 249590.91439100011}, {\"Date\": \"2024-04-30T00:00:00-04:00\", \"Stock\": \"^GSPC\", \"Value\": 254774.56728854796}, {\"Date\": \"2024-05-31T00:00:00-04:00\", \"Stock\": \"^GSPC\", \"Value\": 243824.2277608371}, {\"Date\": \"2024-06-30T00:00:00-04:00\", \"Stock\": \"^GSPC\", \"Value\": 256700.0304968206}, {\"Date\": \"2024-07-31T00:00:00-04:00\", \"Stock\": \"^GSPC\", \"Value\": 266013.5056670589}, {\"Date\": \"2024-08-31T00:00:00-04:00\", \"Stock\": \"^GSPC\", \"Value\": 264633.18943721085}, {\"Date\": \"2024-09-30T00:00:00-04:00\", \"Stock\": \"^GSPC\", \"Value\": 268629.39981284365}, {\"Date\": \"2024-10-31T00:00:00-04:00\", \"Stock\": \"^GSPC\", \"Value\": 277366.15175554814}, {\"Date\": \"2024-11-30T00:00:00-05:00\", \"Stock\": \"^GSPC\", \"Value\": 278340.2944609779}, {\"Date\": \"2024-12-31T00:00:00-05:00\", \"Stock\": \"^GSPC\", \"Value\": 293807.6982705539}, {\"Date\": \"2025-01-31T00:00:00-05:00\", \"Stock\": \"^GSPC\", \"Value\": 285130.20813872485}, {\"Date\": \"2025-02-28T00:00:00-05:00\", \"Stock\": \"^GSPC\", \"Value\": 291253.03500301944}, {\"Date\": \"2025-03-31T00:00:00-04:00\", \"Stock\": \"^GSPC\", \"Value\": 284215.3509678737}, {\"Date\": \"2025-04-30T00:00:00-04:00\", \"Stock\": \"^GSPC\", \"Value\": 273689.14380798885}, {\"Date\": \"2025-05-31T00:00:00-04:00\", \"Stock\": \"^GSPC\", \"Value\": 272283.56183411274}, {\"Date\": \"2015-01-31T00:00:00-05:00\", \"Stock\": \"SBUX\", \"Value\": 100000.0}, {\"Date\": \"2015-02-28T00:00:00-05:00\", \"Stock\": \"SBUX\", \"Value\": 108042.7437175306}, {\"Date\": \"2015-03-31T00:00:00-04:00\", \"Stock\": \"SBUX\", \"Value\": 116127.16312021039}, {\"Date\": \"2015-04-30T00:00:00-04:00\", \"Stock\": \"SBUX\", \"Value\": 114635.99040326689}, {\"Date\": \"2015-05-31T00:00:00-04:00\", \"Stock\": \"SBUX\", \"Value\": 123952.78830124738}, {\"Date\": \"2015-06-30T00:00:00-04:00\", \"Stock\": \"SBUX\", \"Value\": 129119.24622722367}, {\"Date\": \"2015-07-31T00:00:00-04:00\", \"Stock\": \"SBUX\", \"Value\": 133248.49095810376}, {\"Date\": \"2015-08-31T00:00:00-04:00\", \"Stock\": \"SBUX\", \"Value\": 143880.6755236173}, {\"Date\": \"2015-09-30T00:00:00-04:00\", \"Stock\": \"SBUX\", \"Value\": 132648.9124968483}, {\"Date\": \"2015-10-31T00:00:00-04:00\", \"Stock\": \"SBUX\", \"Value\": 142516.98944826104}, {\"Date\": \"2015-11-30T00:00:00-05:00\", \"Stock\": \"SBUX\", \"Value\": 154319.03326138377}, {\"Date\": \"2015-12-31T00:00:00-05:00\", \"Stock\": \"SBUX\", \"Value\": 152654.59128084723}, {\"Date\": \"2016-01-31T00:00:00-05:00\", \"Stock\": \"SBUX\", \"Value\": 144918.65519439426}, {\"Date\": \"2016-02-29T00:00:00-05:00\", \"Stock\": \"SBUX\", \"Value\": 152729.23686020446}, {\"Date\": \"2016-03-31T00:00:00-04:00\", \"Stock\": \"SBUX\", \"Value\": 149834.36117340793}, {\"Date\": \"2016-04-30T00:00:00-04:00\", \"Stock\": \"SBUX\", \"Value\": 152280.0134716681}, {\"Date\": \"2016-05-31T00:00:00-04:00\", \"Stock\": \"SBUX\", \"Value\": 143146.19734254875}, {\"Date\": \"2016-06-30T00:00:00-04:00\", \"Stock\": \"SBUX\", \"Value\": 137286.15900503678}, {\"Date\": \"2016-07-31T00:00:00-04:00\", \"Stock\": \"SBUX\", \"Value\": 142720.5173413407}, {\"Date\": \"2016-08-31T00:00:00-04:00\", \"Stock\": \"SBUX\", \"Value\": 144323.26374954413}, {\"Date\": \"2016-09-30T00:00:00-04:00\", \"Stock\": \"SBUX\", \"Value\": 141508.65065045186}, {\"Date\": \"2016-10-31T00:00:00-04:00\", \"Stock\": \"SBUX\", \"Value\": 135301.46746917051}, {\"Date\": \"2016-11-30T00:00:00-05:00\", \"Stock\": \"SBUX\", \"Value\": 131933.99660554234}, {\"Date\": \"2016-12-31T00:00:00-05:00\", \"Stock\": \"SBUX\", \"Value\": 147718.4535769704}, {\"Date\": \"2017-01-31T00:00:00-05:00\", \"Stock\": \"SBUX\", \"Value\": 139740.494214367}, {\"Date\": \"2017-02-28T00:00:00-05:00\", \"Stock\": \"SBUX\", \"Value\": 136079.68052378434}, {\"Date\": \"2017-03-31T00:00:00-04:00\", \"Stock\": \"SBUX\", \"Value\": 144909.6405251937}, {\"Date\": \"2017-04-30T00:00:00-04:00\", \"Stock\": \"SBUX\", \"Value\": 148206.5498664502}, {\"Date\": \"2017-05-31T00:00:00-04:00\", \"Stock\": \"SBUX\", \"Value\": 152619.25331998372}, {\"Date\": \"2017-06-30T00:00:00-04:00\", \"Stock\": \"SBUX\", \"Value\": 162338.90854778254}, {\"Date\": \"2017-07-31T00:00:00-04:00\", \"Stock\": \"SBUX\", \"Value\": 148333.2013927435}, {\"Date\": \"2017-08-31T00:00:00-04:00\", \"Stock\": \"SBUX\", \"Value\": 139369.519984881}, {\"Date\": \"2017-09-30T00:00:00-04:00\", \"Stock\": \"SBUX\", \"Value\": 140510.2760364925}, {\"Date\": \"2017-10-31T00:00:00-04:00\", \"Stock\": \"SBUX\", \"Value\": 137645.3386609876}, {\"Date\": \"2017-11-30T00:00:00-05:00\", \"Stock\": \"SBUX\", \"Value\": 141021.90427336504}, {\"Date\": \"2017-12-31T00:00:00-05:00\", \"Stock\": \"SBUX\", \"Value\": 147400.6521678449}, {\"Date\": \"2018-01-31T00:00:00-05:00\", \"Stock\": \"SBUX\", \"Value\": 148197.83263557355}, {\"Date\": \"2018-02-28T00:00:00-05:00\", \"Stock\": \"SBUX\", \"Value\": 144006.21737616384}, {\"Date\": \"2018-03-31T00:00:00-04:00\", \"Stock\": \"SBUX\", \"Value\": 145226.83561773595}, {\"Date\": \"2018-04-30T00:00:00-04:00\", \"Stock\": \"SBUX\", \"Value\": 145407.7925180076}, {\"Date\": \"2018-05-31T00:00:00-04:00\", \"Stock\": \"SBUX\", \"Value\": 150294.39530102361}, {\"Date\": \"2018-06-30T00:00:00-04:00\", \"Stock\": \"SBUX\", \"Value\": 147909.5348201894}, {\"Date\": \"2018-07-31T00:00:00-04:00\", \"Stock\": \"SBUX\", \"Value\": 127507.2792309801}, {\"Date\": \"2018-08-31T00:00:00-04:00\", \"Stock\": \"SBUX\", \"Value\": 134966.44895706687}, {\"Date\": \"2018-09-30T00:00:00-04:00\", \"Stock\": \"SBUX\", \"Value\": 140093.41622558088}, {\"Date\": \"2018-10-31T00:00:00-04:00\", \"Stock\": \"SBUX\", \"Value\": 145458.50575222838}, {\"Date\": \"2018-11-30T00:00:00-05:00\", \"Stock\": \"SBUX\", \"Value\": 153440.65213123715}, {\"Date\": \"2018-12-31T00:00:00-05:00\", \"Stock\": \"SBUX\", \"Value\": 177602.8141326218}, {\"Date\": \"2019-01-31T00:00:00-05:00\", \"Stock\": \"SBUX\", \"Value\": 169235.7482427115}, {\"Date\": \"2019-02-28T00:00:00-05:00\", \"Stock\": \"SBUX\", \"Value\": 179207.8256480609}, {\"Date\": \"2019-03-31T00:00:00-04:00\", \"Stock\": \"SBUX\", \"Value\": 187390.07937942471}, {\"Date\": \"2019-04-30T00:00:00-04:00\", \"Stock\": \"SBUX\", \"Value\": 195615.7591060743}, {\"Date\": \"2019-05-31T00:00:00-04:00\", \"Stock\": \"SBUX\", \"Value\": 205031.4209269368}, {\"Date\": \"2019-06-30T00:00:00-04:00\", \"Stock\": \"SBUX\", \"Value\": 202528.3401522976}, {\"Date\": \"2019-07-31T00:00:00-04:00\", \"Stock\": \"SBUX\", \"Value\": 224662.44182220785}, {\"Date\": \"2019-08-31T00:00:00-04:00\", \"Stock\": \"SBUX\", \"Value\": 253439.39373832842}, {\"Date\": \"2019-09-30T00:00:00-04:00\", \"Stock\": \"SBUX\", \"Value\": 258107.43655297358}, {\"Date\": \"2019-10-31T00:00:00-04:00\", \"Stock\": \"SBUX\", \"Value\": 230741.7608440293}, {\"Date\": \"2019-11-30T00:00:00-05:00\", \"Stock\": \"SBUX\", \"Value\": 221939.8973242906}, {\"Date\": \"2019-12-31T00:00:00-05:00\", \"Stock\": \"SBUX\", \"Value\": 226694.8607691206}, {\"Date\": \"2020-01-31T00:00:00-05:00\", \"Stock\": \"SBUX\", \"Value\": 239507.90888503188}, {\"Date\": \"2020-02-29T00:00:00-05:00\", \"Stock\": \"SBUX\", \"Value\": 230554.8780571512}, {\"Date\": \"2020-03-31T00:00:00-04:00\", \"Stock\": \"SBUX\", \"Value\": 221853.6402103667}, {\"Date\": \"2020-04-30T00:00:00-04:00\", \"Stock\": \"SBUX\", \"Value\": 168638.92680591965}, {\"Date\": \"2020-05-31T00:00:00-04:00\", \"Stock\": \"SBUX\", \"Value\": 198720.35169107415}, {\"Date\": \"2020-06-30T00:00:00-04:00\", \"Stock\": \"SBUX\", \"Value\": 212111.78006769696}, {\"Date\": \"2020-07-31T00:00:00-04:00\", \"Stock\": \"SBUX\", \"Value\": 200493.33577995424}, {\"Date\": \"2020-08-31T00:00:00-04:00\", \"Stock\": \"SBUX\", \"Value\": 204474.50198528642}, {\"Date\": \"2020-09-30T00:00:00-04:00\", \"Stock\": \"SBUX\", \"Value\": 234314.47559106717}, {\"Date\": \"2020-10-31T00:00:00-04:00\", \"Stock\": \"SBUX\", \"Value\": 236193.37060311798}, {\"Date\": \"2020-11-30T00:00:00-05:00\", \"Stock\": \"SBUX\", \"Value\": 234096.61345876384}, {\"Date\": \"2020-12-31T00:00:00-05:00\", \"Stock\": \"SBUX\", \"Value\": 270356.10688926646}, {\"Date\": \"2021-01-31T00:00:00-05:00\", \"Stock\": \"SBUX\", \"Value\": 282065.5444242441}, {\"Date\": \"2021-02-28T00:00:00-05:00\", \"Stock\": \"SBUX\", \"Value\": 269699.4774695046}, {\"Date\": \"2021-03-31T00:00:00-04:00\", \"Stock\": \"SBUX\", \"Value\": 293624.3866478564}, {\"Date\": \"2021-04-30T00:00:00-04:00\", \"Stock\": \"SBUX\", \"Value\": 300520.6085862665}, {\"Date\": \"2021-05-31T00:00:00-04:00\", \"Stock\": \"SBUX\", \"Value\": 317939.6950662304}, {\"Date\": \"2021-06-30T00:00:00-04:00\", \"Stock\": \"SBUX\", \"Value\": 312639.6415730918}, {\"Date\": \"2021-07-31T00:00:00-04:00\", \"Stock\": \"SBUX\", \"Value\": 312832.74768490024}, {\"Date\": \"2021-08-31T00:00:00-04:00\", \"Stock\": \"SBUX\", \"Value\": 332031.4076566116}, {\"Date\": \"2021-09-30T00:00:00-04:00\", \"Stock\": \"SBUX\", \"Value\": 325234.23268005205}, {\"Date\": \"2021-10-31T00:00:00-04:00\", \"Stock\": \"SBUX\", \"Value\": 312690.0459290532}, {\"Date\": \"2021-11-30T00:00:00-05:00\", \"Stock\": \"SBUX\", \"Value\": 304050.40069518203}, {\"Date\": \"2021-12-31T00:00:00-05:00\", \"Stock\": \"SBUX\", \"Value\": 302191.0222131516}, {\"Date\": \"2022-01-31T00:00:00-05:00\", \"Stock\": \"SBUX\", \"Value\": 324495.1442049634}, {\"Date\": \"2022-02-28T00:00:00-05:00\", \"Stock\": \"SBUX\", \"Value\": 274658.3920850289}, {\"Date\": \"2022-03-31T00:00:00-04:00\", \"Stock\": \"SBUX\", \"Value\": 251956.68657367982}, {\"Date\": \"2022-04-30T00:00:00-04:00\", \"Stock\": \"SBUX\", \"Value\": 255730.14930946263}, {\"Date\": \"2022-05-31T00:00:00-04:00\", \"Stock\": \"SBUX\", \"Value\": 210671.99554117073}, {\"Date\": \"2022-06-30T00:00:00-04:00\", \"Stock\": \"SBUX\", \"Value\": 214717.33978484687}, {\"Date\": \"2022-07-31T00:00:00-04:00\", \"Stock\": \"SBUX\", \"Value\": 223105.6267551721}, {\"Date\": \"2022-08-31T00:00:00-04:00\", \"Stock\": \"SBUX\", \"Value\": 239009.56241331392}, {\"Date\": \"2022-09-30T00:00:00-04:00\", \"Stock\": \"SBUX\", \"Value\": 241758.51028244285}, {\"Date\": \"2022-10-31T00:00:00-04:00\", \"Stock\": \"SBUX\", \"Value\": 242381.32325276724}, {\"Date\": \"2022-11-30T00:00:00-05:00\", \"Stock\": \"SBUX\", \"Value\": 246570.99372313617}, {\"Date\": \"2022-12-31T00:00:00-05:00\", \"Stock\": \"SBUX\", \"Value\": 294311.5149357511}, {\"Date\": \"2023-01-31T00:00:00-05:00\", \"Stock\": \"SBUX\", \"Value\": 287079.69104852504}, {\"Date\": \"2023-02-28T00:00:00-05:00\", \"Stock\": \"SBUX\", \"Value\": 313159.7010424527}, {\"Date\": \"2023-03-31T00:00:00-04:00\", \"Stock\": \"SBUX\", \"Value\": 290235.05406742333}, {\"Date\": \"2023-04-30T00:00:00-04:00\", \"Stock\": \"SBUX\", \"Value\": 300021.1638807373}, {\"Date\": \"2023-05-31T00:00:00-04:00\", \"Stock\": \"SBUX\", \"Value\": 327805.65562956943}, {\"Date\": \"2023-06-30T00:00:00-04:00\", \"Stock\": \"SBUX\", \"Value\": 280436.31456528016}, {\"Date\": \"2023-07-31T00:00:00-04:00\", \"Stock\": \"SBUX\", \"Value\": 285123.66799110617}, {\"Date\": \"2023-08-31T00:00:00-04:00\", \"Stock\": \"SBUX\", \"Value\": 291191.38691829646}, {\"Date\": \"2023-09-30T00:00:00-04:00\", \"Stock\": \"SBUX\", \"Value\": 283319.4528782192}, {\"Date\": \"2023-10-31T00:00:00-04:00\", \"Stock\": \"SBUX\", \"Value\": 263458.1460806552}, {\"Date\": \"2023-11-30T00:00:00-05:00\", \"Stock\": \"SBUX\", \"Value\": 264094.16073658544}, {\"Date\": \"2023-12-31T00:00:00-05:00\", \"Stock\": \"SBUX\", \"Value\": 288364.5559680542}, {\"Date\": \"2024-01-31T00:00:00-05:00\", \"Stock\": \"SBUX\", \"Value\": 272289.38735484437}, {\"Date\": \"2024-02-29T00:00:00-05:00\", \"Stock\": \"SBUX\", \"Value\": 271417.34394898335}, {\"Date\": \"2024-03-31T00:00:00-04:00\", \"Stock\": \"SBUX\", \"Value\": 272436.20748748357}, {\"Date\": \"2024-04-30T00:00:00-04:00\", \"Stock\": \"SBUX\", \"Value\": 267669.41514931177}, {\"Date\": \"2024-05-31T00:00:00-04:00\", \"Stock\": \"SBUX\", \"Value\": 217691.60862424708}, {\"Date\": \"2024-06-30T00:00:00-04:00\", \"Stock\": \"SBUX\", \"Value\": 241855.06333834707}, {\"Date\": \"2024-07-31T00:00:00-04:00\", \"Stock\": \"SBUX\", \"Value\": 227269.48873097711}, {\"Date\": \"2024-08-31T00:00:00-04:00\", \"Stock\": \"SBUX\", \"Value\": 221317.4046721612}, {\"Date\": \"2024-09-30T00:00:00-04:00\", \"Stock\": \"SBUX\", \"Value\": 276221.47623673716}, {\"Date\": \"2024-10-31T00:00:00-04:00\", \"Stock\": \"SBUX\", \"Value\": 288820.11708087625}, {\"Date\": \"2024-11-30T00:00:00-05:00\", \"Stock\": \"SBUX\", \"Value\": 293088.8375057829}, {\"Date\": \"2024-12-31T00:00:00-05:00\", \"Stock\": \"SBUX\", \"Value\": 302776.0833962149}, {\"Date\": \"2025-01-31T00:00:00-05:00\", \"Stock\": \"SBUX\", \"Value\": 274917.46086512454}, {\"Date\": \"2025-02-28T00:00:00-05:00\", \"Stock\": \"SBUX\", \"Value\": 322611.19274140673}, {\"Date\": \"2025-03-31T00:00:00-04:00\", \"Stock\": \"SBUX\", \"Value\": 346104.26723323326}, {\"Date\": \"2025-04-30T00:00:00-04:00\", \"Stock\": \"SBUX\", \"Value\": 294582.98460596515}, {\"Date\": \"2025-05-31T00:00:00-04:00\", \"Stock\": \"SBUX\", \"Value\": 245940.65327523067}, {\"Date\": \"2015-01-31T00:00:00-05:00\", \"Stock\": \"TSN\", \"Value\": 100000.0}, {\"Date\": \"2015-02-28T00:00:00-05:00\", \"Stock\": \"TSN\", \"Value\": 99048.79379093517}, {\"Date\": \"2015-03-31T00:00:00-04:00\", \"Stock\": \"TSN\", \"Value\": 105811.88985925056}, {\"Date\": \"2015-04-30T00:00:00-04:00\", \"Stock\": \"TSN\", \"Value\": 96352.34850364365}, {\"Date\": \"2015-05-31T00:00:00-04:00\", \"Stock\": \"TSN\", \"Value\": 101596.50710489663}, {\"Date\": \"2015-06-30T00:00:00-04:00\", \"Stock\": \"TSN\", \"Value\": 106185.90641162771}, {\"Date\": \"2015-07-31T00:00:00-04:00\", \"Stock\": \"TSN\", \"Value\": 108047.05125596588}, {\"Date\": \"2015-08-31T00:00:00-04:00\", \"Stock\": \"TSN\", \"Value\": 100501.82159426008}, {\"Date\": \"2015-09-30T00:00:00-04:00\", \"Stock\": \"TSN\", \"Value\": 104370.04940921502}, {\"Date\": \"2015-10-31T00:00:00-04:00\", \"Stock\": \"TSN\", \"Value\": 110092.73358670196}, {\"Date\": \"2015-11-30T00:00:00-05:00\", \"Stock\": \"TSN\", \"Value\": 112891.10343976415}, {\"Date\": \"2015-12-31T00:00:00-05:00\", \"Stock\": \"TSN\", \"Value\": 128074.83059086636}, {\"Date\": \"2016-01-31T00:00:00-05:00\", \"Stock\": \"TSN\", \"Value\": 133915.93320204844}, {\"Date\": \"2016-02-29T00:00:00-05:00\", \"Stock\": \"TSN\", \"Value\": 137329.57159077525}, {\"Date\": \"2016-03-31T00:00:00-04:00\", \"Stock\": \"TSN\", \"Value\": 166202.10833150917}, {\"Date\": \"2016-04-30T00:00:00-04:00\", \"Stock\": \"TSN\", \"Value\": 172563.2852721844}, {\"Date\": \"2016-05-31T00:00:00-04:00\", \"Stock\": \"TSN\", \"Value\": 168964.5470381243}, {\"Date\": \"2016-06-30T00:00:00-04:00\", \"Stock\": \"TSN\", \"Value\": 163359.6710750622}, {\"Date\": \"2016-07-31T00:00:00-04:00\", \"Stock\": \"TSN\", \"Value\": 167703.39131752503}, {\"Date\": \"2016-08-31T00:00:00-04:00\", \"Stock\": \"TSN\", \"Value\": 188685.35018479775}, {\"Date\": \"2016-09-30T00:00:00-04:00\", \"Stock\": \"TSN\", \"Value\": 192112.61680389525}, {\"Date\": \"2016-10-31T00:00:00-04:00\", \"Stock\": \"TSN\", \"Value\": 191145.45515567382}, {\"Date\": \"2016-11-30T00:00:00-05:00\", \"Stock\": \"TSN\", \"Value\": 180939.1789068975}, {\"Date\": \"2016-12-31T00:00:00-05:00\", \"Stock\": \"TSN\", \"Value\": 143518.09237319836}, {\"Date\": \"2017-01-31T00:00:00-05:00\", \"Stock\": \"TSN\", \"Value\": 159896.05453158703}, {\"Date\": \"2017-02-28T00:00:00-05:00\", \"Stock\": \"TSN\", \"Value\": 164290.80585616664}, {\"Date\": \"2017-03-31T00:00:00-04:00\", \"Stock\": \"TSN\", \"Value\": 164626.22304842455}, {\"Date\": \"2017-04-30T00:00:00-04:00\", \"Stock\": \"TSN\", \"Value\": 158933.5233707699}, {\"Date\": \"2017-05-31T00:00:00-04:00\", \"Stock\": \"TSN\", \"Value\": 163779.99250148205}, {\"Date\": \"2017-06-30T00:00:00-04:00\", \"Stock\": \"TSN\", \"Value\": 150539.16761185846}, {\"Date\": \"2017-07-31T00:00:00-04:00\", \"Stock\": \"TSN\", \"Value\": 161093.4124257275}, {\"Date\": \"2017-08-31T00:00:00-04:00\", \"Stock\": \"TSN\", \"Value\": 161917.16058033766}, {\"Date\": \"2017-09-30T00:00:00-04:00\", \"Stock\": \"TSN\", \"Value\": 166716.3317350574}, {\"Date\": \"2017-10-31T00:00:00-04:00\", \"Stock\": \"TSN\", \"Value\": 183406.09201041705}, {\"Date\": \"2017-11-30T00:00:00-05:00\", \"Stock\": \"TSN\", \"Value\": 189399.89302018637}, {\"Date\": \"2017-12-31T00:00:00-05:00\", \"Stock\": \"TSN\", \"Value\": 213639.92025750296}, {\"Date\": \"2018-01-31T00:00:00-05:00\", \"Stock\": \"TSN\", \"Value\": 209050.3295094322}, {\"Date\": \"2018-02-28T00:00:00-05:00\", \"Stock\": \"TSN\", \"Value\": 196448.16489416917}, {\"Date\": \"2018-03-31T00:00:00-04:00\", \"Stock\": \"TSN\", \"Value\": 191149.59507464507}, {\"Date\": \"2018-04-30T00:00:00-04:00\", \"Stock\": \"TSN\", \"Value\": 178704.79524062472}, {\"Date\": \"2018-05-31T00:00:00-04:00\", \"Stock\": \"TSN\", \"Value\": 181100.03749258988}, {\"Date\": \"2018-06-30T00:00:00-04:00\", \"Stock\": \"TSN\", \"Value\": 178030.22774998457}, {\"Date\": \"2018-07-31T00:00:00-04:00\", \"Stock\": \"TSN\", \"Value\": 173663.79777859844}, {\"Date\": \"2018-08-31T00:00:00-04:00\", \"Stock\": \"TSN\", \"Value\": 150602.72613664257}, {\"Date\": \"2018-09-30T00:00:00-04:00\", \"Stock\": \"TSN\", \"Value\": 164852.20758487}, {\"Date\": \"2018-10-31T00:00:00-04:00\", \"Stock\": \"TSN\", \"Value\": 154606.44655977818}, {\"Date\": \"2018-11-30T00:00:00-05:00\", \"Stock\": \"TSN\", \"Value\": 163827.6494299864}, {\"Date\": \"2018-12-31T00:00:00-05:00\", \"Stock\": \"TSN\", \"Value\": 159385.73174533542}, {\"Date\": \"2019-01-31T00:00:00-05:00\", \"Stock\": \"TSN\", \"Value\": 141085.57888540818}, {\"Date\": \"2019-02-28T00:00:00-05:00\", \"Stock\": \"TSN\", \"Value\": 163749.19437595597}, {\"Date\": \"2019-03-31T00:00:00-04:00\", \"Stock\": \"TSN\", \"Value\": 165469.72555627621}, {\"Date\": \"2019-04-30T00:00:00-04:00\", \"Stock\": \"TSN\", \"Value\": 185451.65469031583}, {\"Date\": \"2019-05-31T00:00:00-04:00\", \"Stock\": \"TSN\", \"Value\": 199021.28008089357}, {\"Date\": \"2019-06-30T00:00:00-04:00\", \"Stock\": \"TSN\", \"Value\": 208721.3375671383}, {\"Date\": \"2019-07-31T00:00:00-04:00\", \"Stock\": \"TSN\", \"Value\": 216475.54938130648}, {\"Date\": \"2019-08-31T00:00:00-04:00\", \"Stock\": \"TSN\", \"Value\": 214951.34129486018}, {\"Date\": \"2019-09-30T00:00:00-04:00\", \"Stock\": \"TSN\", \"Value\": 250481.17883355153}, {\"Date\": \"2019-10-31T00:00:00-04:00\", \"Stock\": \"TSN\", \"Value\": 223712.00809222544}, {\"Date\": \"2019-11-30T00:00:00-05:00\", \"Stock\": \"TSN\", \"Value\": 224732.22292171433}, {\"Date\": \"2019-12-31T00:00:00-05:00\", \"Stock\": \"TSN\", \"Value\": 241651.377782383}, {\"Date\": \"2020-01-31T00:00:00-05:00\", \"Stock\": \"TSN\", \"Value\": 242703.44366476638}, {\"Date\": \"2020-02-29T00:00:00-05:00\", \"Stock\": \"TSN\", \"Value\": 224629.53857312672}, {\"Date\": \"2020-03-31T00:00:00-04:00\", \"Stock\": \"TSN\", \"Value\": 191419.93417648488}, {\"Date\": \"2020-04-30T00:00:00-04:00\", \"Stock\": \"TSN\", \"Value\": 150172.62923681375}, {\"Date\": \"2020-05-31T00:00:00-04:00\", \"Stock\": \"TSN\", \"Value\": 162845.32802067665}, {\"Date\": \"2020-06-30T00:00:00-04:00\", \"Stock\": \"TSN\", \"Value\": 171047.29719826198}, {\"Date\": \"2020-07-31T00:00:00-04:00\", \"Stock\": \"TSN\", \"Value\": 160010.23732564106}, {\"Date\": \"2020-08-31T00:00:00-04:00\", \"Stock\": \"TSN\", \"Value\": 170555.52029179488}, {\"Date\": \"2020-09-30T00:00:00-04:00\", \"Stock\": \"TSN\", \"Value\": 172261.32245404107}, {\"Date\": \"2020-10-31T00:00:00-04:00\", \"Stock\": \"TSN\", \"Value\": 162856.24017704016}, {\"Date\": \"2020-11-30T00:00:00-05:00\", \"Stock\": \"TSN\", \"Value\": 158483.7199780345}, {\"Date\": \"2020-12-31T00:00:00-05:00\", \"Stock\": \"TSN\", \"Value\": 184856.94216850275}, {\"Date\": \"2021-01-31T00:00:00-05:00\", \"Stock\": \"TSN\", \"Value\": 175830.07618826893}, {\"Date\": \"2021-02-28T00:00:00-05:00\", \"Stock\": \"TSN\", \"Value\": 177740.684688755}, {\"Date\": \"2021-03-31T00:00:00-04:00\", \"Stock\": \"TSN\", \"Value\": 191030.17157391645}, {\"Date\": \"2021-04-30T00:00:00-04:00\", \"Stock\": \"TSN\", \"Value\": 208672.71146685167}, {\"Date\": \"2021-05-31T00:00:00-04:00\", \"Stock\": \"TSN\", \"Value\": 218790.07517841586}, {\"Date\": \"2021-06-30T00:00:00-04:00\", \"Stock\": \"TSN\", \"Value\": 224505.9392581756}, {\"Date\": \"2021-07-31T00:00:00-04:00\", \"Stock\": \"TSN\", \"Value\": 206960.2447529668}, {\"Date\": \"2021-08-31T00:00:00-04:00\", \"Stock\": \"TSN\", \"Value\": 201102.37905947625}, {\"Date\": \"2021-09-30T00:00:00-04:00\", \"Stock\": \"TSN\", \"Value\": 220858.14418081444}, {\"Date\": \"2021-10-31T00:00:00-04:00\", \"Stock\": \"TSN\", \"Value\": 220745.36130155704}, {\"Date\": \"2021-11-30T00:00:00-05:00\", \"Stock\": \"TSN\", \"Value\": 227848.9357925489}, {\"Date\": \"2021-12-31T00:00:00-05:00\", \"Stock\": \"TSN\", \"Value\": 221850.83931771983}, {\"Date\": \"2022-01-31T00:00:00-05:00\", \"Stock\": \"TSN\", \"Value\": 248894.7283815316}, {\"Date\": \"2022-02-28T00:00:00-05:00\", \"Stock\": \"TSN\", \"Value\": 258136.12831307936}, {\"Date\": \"2022-03-31T00:00:00-04:00\", \"Stock\": \"TSN\", \"Value\": 267305.4505802258}, {\"Date\": \"2022-04-30T00:00:00-04:00\", \"Stock\": \"TSN\", \"Value\": 259357.16510792534}, {\"Date\": \"2022-05-31T00:00:00-04:00\", \"Stock\": \"TSN\", \"Value\": 264655.9742291241}, {\"Date\": \"2022-06-30T00:00:00-04:00\", \"Stock\": \"TSN\", \"Value\": 252370.75271683678}, {\"Date\": \"2022-07-31T00:00:00-04:00\", \"Stock\": \"TSN\", \"Value\": 244095.82045865397}, {\"Date\": \"2022-08-31T00:00:00-04:00\", \"Stock\": \"TSN\", \"Value\": 252456.63808786473}, {\"Date\": \"2022-09-30T00:00:00-04:00\", \"Stock\": \"TSN\", \"Value\": 215523.5594592572}, {\"Date\": \"2022-10-31T00:00:00-04:00\", \"Stock\": \"TSN\", \"Value\": 192191.03596267445}, {\"Date\": \"2022-11-30T00:00:00-05:00\", \"Stock\": \"TSN\", \"Value\": 195878.18420043003}, {\"Date\": \"2022-12-31T00:00:00-05:00\", \"Stock\": \"TSN\", \"Value\": 189991.5544456478}, {\"Date\": \"2023-01-31T00:00:00-05:00\", \"Stock\": \"TSN\", \"Value\": 184536.6727722495}, {\"Date\": \"2023-02-28T00:00:00-05:00\", \"Stock\": \"TSN\", \"Value\": 188976.01796389814}, {\"Date\": \"2023-03-31T00:00:00-04:00\", \"Stock\": \"TSN\", \"Value\": 173409.00132052647}, {\"Date\": \"2023-04-30T00:00:00-04:00\", \"Stock\": \"TSN\", \"Value\": 173759.9611565522}, {\"Date\": \"2023-05-31T00:00:00-04:00\", \"Stock\": \"TSN\", \"Value\": 182300.26700682603}, {\"Date\": \"2023-06-30T00:00:00-04:00\", \"Stock\": \"TSN\", \"Value\": 149391.05800235868}, {\"Date\": \"2023-07-31T00:00:00-04:00\", \"Stock\": \"TSN\", \"Value\": 152933.24925070163}, {\"Date\": \"2023-08-31T00:00:00-04:00\", \"Stock\": \"TSN\", \"Value\": 163294.09045112733}, {\"Date\": \"2023-09-30T00:00:00-04:00\", \"Stock\": \"TSN\", \"Value\": 156618.35145913897}, {\"Date\": \"2023-10-31T00:00:00-04:00\", \"Stock\": \"TSN\", \"Value\": 146641.69713226258}, {\"Date\": \"2023-11-30T00:00:00-05:00\", \"Stock\": \"TSN\", \"Value\": 138392.3581881824}, {\"Date\": \"2023-12-31T00:00:00-05:00\", \"Stock\": \"TSN\", \"Value\": 145053.84676544604}, {\"Date\": \"2024-01-31T00:00:00-05:00\", \"Stock\": \"TSN\", \"Value\": 167112.86657501812}, {\"Date\": \"2024-02-29T00:00:00-05:00\", \"Stock\": \"TSN\", \"Value\": 170423.22236097069}, {\"Date\": \"2024-03-31T00:00:00-04:00\", \"Stock\": \"TSN\", \"Value\": 161570.01760602248}, {\"Date\": \"2024-04-30T00:00:00-04:00\", \"Stock\": \"TSN\", \"Value\": 175692.19056334186}, {\"Date\": \"2024-05-31T00:00:00-04:00\", \"Stock\": \"TSN\", \"Value\": 183102.5617663048}, {\"Date\": \"2024-06-30T00:00:00-04:00\", \"Stock\": \"TSN\", \"Value\": 174671.18603832668}, {\"Date\": \"2024-07-31T00:00:00-04:00\", \"Stock\": \"TSN\", \"Value\": 175712.72264702592}, {\"Date\": \"2024-08-31T00:00:00-04:00\", \"Stock\": \"TSN\", \"Value\": 186128.04087368326}, {\"Date\": \"2024-09-30T00:00:00-04:00\", \"Stock\": \"TSN\", \"Value\": 200050.77981535846}, {\"Date\": \"2024-10-31T00:00:00-04:00\", \"Stock\": \"TSN\", \"Value\": 184462.8003452884}, {\"Date\": \"2024-11-30T00:00:00-05:00\", \"Stock\": \"TSN\", \"Value\": 180141.39498398564}, {\"Date\": \"2024-12-31T00:00:00-05:00\", \"Stock\": \"TSN\", \"Value\": 200152.78215417333}, {\"Date\": \"2025-01-31T00:00:00-05:00\", \"Stock\": \"TSN\", \"Value\": 180896.571243728}, {\"Date\": \"2025-02-28T00:00:00-05:00\", \"Stock\": \"TSN\", \"Value\": 179621.11724806906}, {\"Date\": \"2025-03-31T00:00:00-04:00\", \"Stock\": \"TSN\", \"Value\": 193934.43241800644}, {\"Date\": \"2025-04-30T00:00:00-04:00\", \"Stock\": \"TSN\", \"Value\": 197949.2444737616}, {\"Date\": \"2025-05-31T00:00:00-04:00\", \"Stock\": \"TSN\", \"Value\": 190107.8071991875}, {\"Date\": \"2015-01-31T00:00:00-05:00\", \"Stock\": \"INTC\", \"Value\": 100000.0}, {\"Date\": \"2015-02-28T00:00:00-05:00\", \"Stock\": \"INTC\", \"Value\": 92546.73545935571}, {\"Date\": \"2015-03-31T00:00:00-04:00\", \"Stock\": \"INTC\", \"Value\": 94346.26353919337}, {\"Date\": \"2015-04-30T00:00:00-04:00\", \"Stock\": \"INTC\", \"Value\": 85343.74134875141}, {\"Date\": \"2015-05-31T00:00:00-04:00\", \"Stock\": \"INTC\", \"Value\": 92573.46224088303}, {\"Date\": \"2015-06-30T00:00:00-04:00\", \"Stock\": \"INTC\", \"Value\": 94609.96915104489}, {\"Date\": \"2015-07-31T00:00:00-04:00\", \"Stock\": \"INTC\", \"Value\": 84203.16620400187}, {\"Date\": \"2015-08-31T00:00:00-04:00\", \"Stock\": \"INTC\", \"Value\": 81050.43157017483}, {\"Date\": \"2015-09-30T00:00:00-04:00\", \"Stock\": \"INTC\", \"Value\": 78263.51676720947}, {\"Date\": \"2015-10-31T00:00:00-04:00\", \"Stock\": \"INTC\", \"Value\": 84396.28412271239}, {\"Date\": \"2015-11-30T00:00:00-05:00\", \"Stock\": \"INTC\", \"Value\": 95958.58107797199}, {\"Date\": \"2015-12-31T00:00:00-05:00\", \"Stock\": \"INTC\", \"Value\": 99410.93052205972}, {\"Date\": \"2016-01-31T00:00:00-05:00\", \"Stock\": \"INTC\", \"Value\": 96294.59736811284}, {\"Date\": \"2016-02-29T00:00:00-05:00\", \"Stock\": \"INTC\", \"Value\": 87313.89281897395}, {\"Date\": \"2016-03-31T00:00:00-04:00\", \"Stock\": \"INTC\", \"Value\": 86796.3203874474}, {\"Date\": \"2016-04-30T00:00:00-04:00\", \"Stock\": \"INTC\", \"Value\": 92740.86528997876}, {\"Date\": \"2016-05-31T00:00:00-04:00\", \"Stock\": \"INTC\", \"Value\": 87482.22573307036}, {\"Date\": \"2016-06-30T00:00:00-04:00\", \"Stock\": \"INTC\", \"Value\": 91264.64306619157}, {\"Date\": \"2016-07-31T00:00:00-04:00\", \"Stock\": \"INTC\", \"Value\": 94406.75946217976}, {\"Date\": \"2016-08-31T00:00:00-04:00\", \"Stock\": \"INTC\", \"Value\": 100460.3173615573}, {\"Date\": \"2016-09-30T00:00:00-04:00\", \"Stock\": \"INTC\", \"Value\": 104620.06160492374}, {\"Date\": \"2016-10-31T00:00:00-04:00\", \"Stock\": \"INTC\", \"Value\": 109383.47283929287}, {\"Date\": \"2016-11-30T00:00:00-05:00\", \"Stock\": \"INTC\", \"Value\": 100263.32956350564}, {\"Date\": \"2016-12-31T00:00:00-05:00\", \"Stock\": \"INTC\", \"Value\": 98798.33409215332}, {\"Date\": \"2017-01-31T00:00:00-05:00\", \"Stock\": \"INTC\", \"Value\": 107109.57686424772}, {\"Date\": \"2017-02-28T00:00:00-05:00\", \"Stock\": \"INTC\", \"Value\": 106875.47651308011}, {\"Date\": \"2017-03-31T00:00:00-04:00\", \"Stock\": \"INTC\", \"Value\": 105899.48063621091}, {\"Date\": \"2017-04-30T00:00:00-04:00\", \"Stock\": \"INTC\", \"Value\": 106577.37273344553}, {\"Date\": \"2017-05-31T00:00:00-04:00\", \"Stock\": \"INTC\", \"Value\": 107019.42781987885}, {\"Date\": \"2017-06-30T00:00:00-04:00\", \"Stock\": \"INTC\", \"Value\": 107251.47016100818}, {\"Date\": \"2017-07-31T00:00:00-04:00\", \"Stock\": \"INTC\", \"Value\": 99353.09428646503}, {\"Date\": \"2017-08-31T00:00:00-04:00\", \"Stock\": \"INTC\", \"Value\": 107934.37395710684}, {\"Date\": \"2017-09-30T00:00:00-04:00\", \"Stock\": \"INTC\", \"Value\": 104975.22217449069}, {\"Date\": \"2017-10-31T00:00:00-04:00\", \"Stock\": \"INTC\", \"Value\": 116792.01497574935}, {\"Date\": \"2017-11-30T00:00:00-05:00\", \"Stock\": \"INTC\", \"Value\": 139737.6098736348}, {\"Date\": \"2017-12-31T00:00:00-05:00\", \"Stock\": \"INTC\", \"Value\": 134456.7971388054}, {\"Date\": \"2018-01-31T00:00:00-05:00\", \"Stock\": \"INTC\", \"Value\": 140987.00657243622}, {\"Date\": \"2018-02-28T00:00:00-05:00\", \"Stock\": \"INTC\", \"Value\": 143394.48175717684}, {\"Date\": \"2018-03-31T00:00:00-04:00\", \"Stock\": \"INTC\", \"Value\": 144942.9531240695}, {\"Date\": \"2018-04-30T00:00:00-04:00\", \"Stock\": \"INTC\", \"Value\": 148215.0796890887}, {\"Date\": \"2018-05-31T00:00:00-04:00\", \"Stock\": \"INTC\", \"Value\": 161576.24151164872}, {\"Date\": \"2018-06-30T00:00:00-04:00\", \"Stock\": \"INTC\", \"Value\": 173935.8977050043}, {\"Date\": \"2018-07-31T00:00:00-04:00\", \"Stock\": \"INTC\", \"Value\": 152970.95628205515}, {\"Date\": \"2018-08-31T00:00:00-04:00\", \"Stock\": \"INTC\", \"Value\": 148735.28445903637}, {\"Date\": \"2018-09-30T00:00:00-04:00\", \"Stock\": \"INTC\", \"Value\": 147033.9186719559}, {\"Date\": \"2018-10-31T00:00:00-04:00\", \"Stock\": \"INTC\", \"Value\": 142404.6267894517}, {\"Date\": \"2018-11-30T00:00:00-05:00\", \"Stock\": \"INTC\", \"Value\": 147831.04544380165}, {\"Date\": \"2018-12-31T00:00:00-05:00\", \"Stock\": \"INTC\", \"Value\": 154653.82049051885}, {\"Date\": \"2019-01-31T00:00:00-05:00\", \"Stock\": \"INTC\", \"Value\": 145244.43450157426}, {\"Date\": \"2019-02-28T00:00:00-05:00\", \"Stock\": \"INTC\", \"Value\": 150334.74798162887}, {\"Date\": \"2019-03-31T00:00:00-04:00\", \"Stock\": \"INTC\", \"Value\": 165475.73978794567}, {\"Date\": \"2019-04-30T00:00:00-04:00\", \"Stock\": \"INTC\", \"Value\": 169232.31234384168}, {\"Date\": \"2019-05-31T00:00:00-04:00\", \"Stock\": \"INTC\", \"Value\": 157590.04699852227}, {\"Date\": \"2019-06-30T00:00:00-04:00\", \"Stock\": \"INTC\", \"Value\": 135752.68708764162}, {\"Date\": \"2019-07-31T00:00:00-04:00\", \"Stock\": \"INTC\", \"Value\": 150090.08409056367}, {\"Date\": \"2019-08-31T00:00:00-04:00\", \"Stock\": \"INTC\", \"Value\": 154619.37446203723}, {\"Date\": \"2019-09-30T00:00:00-04:00\", \"Stock\": \"INTC\", \"Value\": 147738.63327211494}, {\"Date\": \"2019-10-31T00:00:00-04:00\", \"Stock\": \"INTC\", \"Value\": 159625.65822989668}, {\"Date\": \"2019-11-30T00:00:00-05:00\", \"Stock\": \"INTC\", \"Value\": 177707.77200995586}, {\"Date\": \"2019-12-31T00:00:00-05:00\", \"Stock\": \"INTC\", \"Value\": 182322.1313545077}, {\"Date\": \"2020-01-31T00:00:00-05:00\", \"Stock\": \"INTC\", \"Value\": 192377.33593540557}, {\"Date\": \"2020-02-29T00:00:00-05:00\", \"Stock\": \"INTC\", \"Value\": 203697.37570901352}, {\"Date\": \"2020-03-31T00:00:00-04:00\", \"Stock\": \"INTC\", \"Value\": 184872.32714236967}, {\"Date\": \"2020-04-30T00:00:00-04:00\", \"Stock\": \"INTC\", \"Value\": 164853.50968314236}, {\"Date\": \"2020-05-31T00:00:00-04:00\", \"Stock\": \"INTC\", \"Value\": 182616.2558589187}, {\"Date\": \"2020-06-30T00:00:00-04:00\", \"Stock\": \"INTC\", \"Value\": 197676.2400142926}, {\"Date\": \"2020-07-31T00:00:00-04:00\", \"Stock\": \"INTC\", \"Value\": 187929.80531156666}, {\"Date\": \"2020-08-31T00:00:00-04:00\", \"Stock\": \"INTC\", \"Value\": 154344.68140124367}, {\"Date\": \"2020-09-30T00:00:00-04:00\", \"Stock\": \"INTC\", \"Value\": 163403.85014705884}, {\"Date\": \"2020-10-31T00:00:00-04:00\", \"Stock\": \"INTC\", \"Value\": 168068.88713414856}, {\"Date\": \"2020-11-30T00:00:00-05:00\", \"Stock\": \"INTC\", \"Value\": 143038.68532404327}, {\"Date\": \"2020-12-31T00:00:00-05:00\", \"Stock\": \"INTC\", \"Value\": 160606.37864143852}, {\"Date\": \"2021-01-31T00:00:00-05:00\", \"Stock\": \"INTC\", \"Value\": 160962.84512435202}, {\"Date\": \"2021-02-28T00:00:00-05:00\", \"Stock\": \"INTC\", \"Value\": 183712.18380914957}, {\"Date\": \"2021-03-31T00:00:00-04:00\", \"Stock\": \"INTC\", \"Value\": 205008.62210484652}, {\"Date\": \"2021-04-30T00:00:00-04:00\", \"Stock\": \"INTC\", \"Value\": 210453.3782439896}, {\"Date\": \"2021-05-31T00:00:00-04:00\", \"Stock\": \"INTC\", \"Value\": 186685.68696409266}, {\"Date\": \"2021-06-30T00:00:00-04:00\", \"Stock\": \"INTC\", \"Value\": 186621.73139632426}, {\"Date\": \"2021-07-31T00:00:00-04:00\", \"Stock\": \"INTC\", \"Value\": 183734.96550166662}, {\"Date\": \"2021-08-31T00:00:00-04:00\", \"Stock\": \"INTC\", \"Value\": 176091.68031323326}, {\"Date\": \"2021-09-30T00:00:00-04:00\", \"Stock\": \"INTC\", \"Value\": 177202.93736149027}, {\"Date\": \"2021-10-31T00:00:00-04:00\", \"Stock\": \"INTC\", \"Value\": 177830.29539828273}, {\"Date\": \"2021-11-30T00:00:00-05:00\", \"Stock\": \"INTC\", \"Value\": 163599.91491735246}, {\"Date\": \"2021-12-31T00:00:00-05:00\", \"Stock\": \"INTC\", \"Value\": 161579.18152598914}, {\"Date\": \"2022-01-31T00:00:00-05:00\", \"Stock\": \"INTC\", \"Value\": 176905.92754068007}, {\"Date\": \"2022-02-28T00:00:00-05:00\", \"Stock\": \"INTC\", \"Value\": 162742.81185296184}, {\"Date\": \"2022-03-31T00:00:00-04:00\", \"Stock\": \"INTC\", \"Value\": 156847.01649054044}, {\"Date\": \"2022-04-30T00:00:00-04:00\", \"Stock\": \"INTC\", \"Value\": 161168.5367322999}, {\"Date\": \"2022-05-31T00:00:00-04:00\", \"Stock\": \"INTC\", \"Value\": 150616.00479536853}, {\"Date\": \"2022-06-30T00:00:00-04:00\", \"Stock\": \"INTC\", \"Value\": 148936.5592082309}, {\"Date\": \"2022-07-31T00:00:00-04:00\", \"Stock\": \"INTC\", \"Value\": 122701.3344041367}, {\"Date\": \"2022-08-31T00:00:00-04:00\", \"Stock\": \"INTC\", \"Value\": 124794.72033592194}, {\"Date\": \"2022-09-30T00:00:00-04:00\", \"Stock\": \"INTC\", \"Value\": 108319.65258055656}, {\"Date\": \"2022-10-31T00:00:00-04:00\", \"Stock\": \"INTC\", \"Value\": 91983.02531441233}, {\"Date\": \"2022-11-30T00:00:00-05:00\", \"Stock\": \"INTC\", \"Value\": 96519.07771886887}, {\"Date\": \"2022-12-31T00:00:00-05:00\", \"Stock\": \"INTC\", \"Value\": 103111.30778059755}, {\"Date\": \"2023-01-31T00:00:00-05:00\", \"Stock\": \"INTC\", \"Value\": 92395.74862986786}, {\"Date\": \"2023-02-28T00:00:00-05:00\", \"Stock\": \"INTC\", \"Value\": 100484.28873429581}, {\"Date\": \"2023-03-31T00:00:00-04:00\", \"Stock\": \"INTC\", \"Value\": 88623.33418274678}, {\"Date\": \"2023-04-30T00:00:00-04:00\", \"Stock\": \"INTC\", \"Value\": 115073.89794417105}, {\"Date\": \"2023-05-31T00:00:00-04:00\", \"Stock\": \"INTC\", \"Value\": 106012.12420890538}, {\"Date\": \"2023-06-30T00:00:00-04:00\", \"Stock\": \"INTC\", \"Value\": 109362.09961876218}, {\"Date\": \"2023-07-31T00:00:00-04:00\", \"Stock\": \"INTC\", \"Value\": 118109.66103070475}, {\"Date\": \"2023-08-31T00:00:00-04:00\", \"Stock\": \"INTC\", \"Value\": 125768.16592128188}, {\"Date\": \"2023-09-30T00:00:00-04:00\", \"Stock\": \"INTC\", \"Value\": 129076.47517441637}, {\"Date\": \"2023-10-31T00:00:00-04:00\", \"Stock\": \"INTC\", \"Value\": 125021.8945602829}, {\"Date\": \"2023-11-30T00:00:00-05:00\", \"Stock\": \"INTC\", \"Value\": 131473.96798488477}, {\"Date\": \"2023-12-31T00:00:00-05:00\", \"Stock\": \"INTC\", \"Value\": 154721.91942733445}, {\"Date\": \"2024-01-31T00:00:00-05:00\", \"Stock\": \"INTC\", \"Value\": 169083.38352439212}, {\"Date\": \"2024-02-29T00:00:00-05:00\", \"Stock\": \"INTC\", \"Value\": 153377.7448708886}, {\"Date\": \"2024-03-31T00:00:00-04:00\", \"Stock\": \"INTC\", \"Value\": 155459.24767494437}, {\"Date\": \"2024-04-30T00:00:00-04:00\", \"Stock\": \"INTC\", \"Value\": 157942.62992760932}, {\"Date\": \"2024-05-31T00:00:00-04:00\", \"Stock\": \"INTC\", \"Value\": 107742.98586078733}, {\"Date\": \"2024-06-30T00:00:00-04:00\", \"Stock\": \"INTC\", \"Value\": 107895.64097748231}, {\"Date\": \"2024-07-31T00:00:00-04:00\", \"Stock\": \"INTC\", \"Value\": 109854.7913242775}, {\"Date\": \"2024-08-31T00:00:00-04:00\", \"Stock\": \"INTC\", \"Value\": 103478.64547932797}, {\"Date\": \"2024-09-30T00:00:00-04:00\", \"Stock\": \"INTC\", \"Value\": 72052.15530741986}, {\"Date\": \"2024-10-31T00:00:00-04:00\", \"Stock\": \"INTC\", \"Value\": 81336.48812825629}, {\"Date\": \"2024-11-30T00:00:00-05:00\", \"Stock\": \"INTC\", \"Value\": 83164.67792929184}, {\"Date\": \"2024-12-31T00:00:00-05:00\", \"Stock\": \"INTC\", \"Value\": 85781.49580955655}, {\"Date\": \"2025-01-31T00:00:00-05:00\", \"Stock\": \"INTC\", \"Value\": 72482.31359163843}, {\"Date\": \"2025-02-28T00:00:00-05:00\", \"Stock\": \"INTC\", \"Value\": 69471.17825313784}, {\"Date\": \"2025-03-31T00:00:00-04:00\", \"Stock\": \"INTC\", \"Value\": 81515.71960714026}, {\"Date\": \"2025-04-30T00:00:00-04:00\", \"Stock\": \"INTC\", \"Value\": 79042.28554253417}, {\"Date\": \"2025-05-31T00:00:00-04:00\", \"Stock\": \"INTC\", \"Value\": 71621.99018595865}]}}, {\"mode\": \"vega-lite\"});\n",
              "</script>"
            ],
            "text/plain": [
              "alt.LayerChart(...)"
            ]
          },
          "metadata": {},
          "output_type": "display_data"
        }
      ],
      "source": [
        "initial_investment_amount = 1e6\n",
        "\n",
        "returns = calculate_returns(initial_investment_amount, dataframes, allocations)\n",
        "\n",
        "graph_returns(returns, True, True)"
      ]
    },
    {
      "cell_type": "markdown",
      "id": "cdea0ef3",
      "metadata": {
        "id": "cdea0ef3"
      },
      "source": [
        "### 🧾 Portfolio Strength Breakdown\n",
        "**How do you know if your portfolio is actually working?**\n",
        "\n",
        "Think of your portfolio like a car — you wouldn’t drive it for miles without checking the engine, right? These metrics are your dashboard. They tell you whether you're cruising efficiently, burning too much fuel (aka risk), or heading toward a cliff. By regularly checking them, you’re not just investing — you’re investing intelligently. It's how you turn guessing into strategy.\n",
        "\n",
        "These [metrics from quantstats ](https://cubed.run/blog/quantstats-elevating-portfolio-analysis-for-quants) help you assess whether your portfolio is efficient, risky, or well-balanced — and give you data to improve it over time. We can write a function to return these values for us."
      ]
    },
    {
      "cell_type": "code",
      "execution_count": 30,
      "id": "a486629e",
      "metadata": {
        "id": "a486629e"
      },
      "outputs": [],
      "source": [
        "def portfolio_stats(returns):\n",
        "    # Ensure datetime is clean\n",
        "    returns.set_index('Date', inplace=True)\n",
        "\n",
        "    # Daily returns from portfolio value\n",
        "    daily_returns = returns['Total'].pct_change().dropna()\n",
        "\n",
        "    # Grab specific stats\n",
        "    cagr = stats.cagr(daily_returns)\n",
        "    sharpe = stats.sharpe(daily_returns)\n",
        "    drawdown = stats.max_drawdown(daily_returns)\n",
        "    volatility = stats.volatility(daily_returns)\n",
        "    avg_return = stats.avg_return(daily_returns)\n",
        "\n",
        "    return {\"cagr\":cagr, \"sharpe\":sharpe, \"drawdown\":drawdown, \"volatility\":volatility, \"avg_return\":avg_return}\n"
      ]
    },
    {
      "cell_type": "markdown",
      "id": "eb8c5b3f",
      "metadata": {
        "id": "eb8c5b3f"
      },
      "source": [
        "Now that we've written a function for this, we can analyze the returns of our portfolio from above."
      ]
    },
    {
      "cell_type": "code",
      "execution_count": 31,
      "id": "3dade3c9",
      "metadata": {
        "id": "3dade3c9"
      },
      "outputs": [],
      "source": [
        "portfolio_info = portfolio_stats(returns)"
      ]
    },
    {
      "cell_type": "markdown",
      "id": "749dfed2",
      "metadata": {
        "id": "749dfed2"
      },
      "source": [
        "#### Now let's analyze these metrics!"
      ]
    },
    {
      "cell_type": "markdown",
      "id": "aee6875c",
      "metadata": {
        "id": "aee6875c"
      },
      "source": [
        "**📈 CAGR (Compound Annual Growth Rate)**\n",
        "This shows the average annual growth of your portfolio over time. The higher, the better — it reflects long-term performance. A higher CAGR generally reflects strong long-term performance. For context, a CAGR of 10–15% is typically considered solid, especially when compared to market benchmarks like the S&P 500. [(Investopedia: CAGR)](https://www.investopedia.com/terms/c/cagr.asp#toc-what-is-a-good-cagr)"
      ]
    },
    {
      "cell_type": "code",
      "execution_count": 32,
      "id": "7191e056",
      "metadata": {
        "id": "7191e056"
      },
      "outputs": [
        {
          "name": "stdout",
          "output_type": "stream",
          "text": [
            "📈 CAGR (Annual Return): 12.48%\n"
          ]
        }
      ],
      "source": [
        "print(f\"📈 CAGR (Annual Return): {portfolio_info['cagr']:.2%}\")"
      ]
    },
    {
      "cell_type": "markdown",
      "id": "228c466c",
      "metadata": {
        "id": "228c466c"
      },
      "source": [
        "**📊 Sharpe Ratio:**  \n",
        "Measures your return per unit of risk. A Sharpe ratio above 1.0 is generally considered good. It means you're getting rewarded well for the volatility you’re taking on. A value above 1.0 suggests you're earning a good return for the amount of risk taken, while a ratio above 2.0 is considered excellent. Anything below 1.0 may indicate that returns aren’t efficiently compensating for risk. Sharpe ratios above 1 are generally considered “good,\" offering excess returns relative to volatility. However, investors often compare the Sharpe ratio of a portfolio or fund with those of its peers or market sector. [(Investopedia: Sharpe Ratio)](https://www.investopedia.com/terms/s/sharperatio.asp#toc-what-the-sharpe-ratio-can-tell-you)"
      ]
    },
    {
      "cell_type": "code",
      "execution_count": 33,
      "id": "a34f9a10",
      "metadata": {
        "id": "a34f9a10"
      },
      "outputs": [
        {
          "name": "stdout",
          "output_type": "stream",
          "text": [
            "📊 Sharpe Ratio: 0.93\n"
          ]
        }
      ],
      "source": [
        "print(f\"📊 Sharpe Ratio: {portfolio_info['sharpe']:.2f}\")"
      ]
    },
    {
      "cell_type": "markdown",
      "id": "6924e2ca",
      "metadata": {
        "id": "6924e2ca"
      },
      "source": [
        "**📉 Max Drawdown:**  \n",
        "The worst loss your portfolio experienced from peak to bottom. Lower drawdowns are better, as they reflect greater stability and less severe losses. A drawdown under 20% is generally seen as moderate, while anything over 30% may signal high risk or poor diversification. [(Investopedia: Max Drawdown)](https://www.investopedia.com/terms/d/drawdown.asp#toc-example-of-a-drawdown)"
      ]
    },
    {
      "cell_type": "markdown",
      "id": "h9vvVFJZZeSM",
      "metadata": {
        "id": "h9vvVFJZZeSM"
      },
      "source": []
    },
    {
      "cell_type": "code",
      "execution_count": 34,
      "id": "d581e4a0",
      "metadata": {
        "id": "d581e4a0"
      },
      "outputs": [
        {
          "name": "stdout",
          "output_type": "stream",
          "text": [
            "📉 Max Drawdown: -32.34%\n"
          ]
        }
      ],
      "source": [
        "print(f\"📉 Max Drawdown: {portfolio_info['drawdown']:.2%}\")"
      ]
    },
    {
      "cell_type": "markdown",
      "id": "23049816",
      "metadata": {
        "id": "23049816"
      },
      "source": [
        "**📈 Volatility:**  \n",
        "Reflects how much your portfolio's value fluctuates. High volatility can mean high risk — or high opportunity. Higher volatility can mean bigger gains — but also bigger losses. For comparison, broad market indices tend to have volatility in the 15–20% range; values much higher than that could mean the portfolio is more aggressive or unstable. [(Investopedia: Volatility)](https://www.investopedia.com/terms/v/volatility.asp)"
      ]
    },
    {
      "cell_type": "code",
      "execution_count": 35,
      "id": "bd0d1f84",
      "metadata": {
        "id": "bd0d1f84"
      },
      "outputs": [
        {
          "name": "stdout",
          "output_type": "stream",
          "text": [
            "📈 Volatility: 20.78%\n"
          ]
        }
      ],
      "source": [
        "print(f\"📈 Volatility: {portfolio_info['volatility']:.2%}\")"
      ]
    },
    {
      "cell_type": "markdown",
      "id": "1b5b7384",
      "metadata": {
        "id": "1b5b7384"
      },
      "source": [
        "**📅 Average Daily Return:**  \n",
        "The average return your portfolio gained (or lost) per trading day. Helps you see how it behaves short term. This captures how much the portfolio gains or loses on an average trading day. While daily gains may appear small in percentage terms, even modest positive averages can lead to significant annual growth through compounding. [(Investopedia: Average Return)](https://www.investopedia.com/terms/a/averagereturn.asp)"
      ]
    },
    {
      "cell_type": "code",
      "execution_count": 36,
      "id": "48e75996",
      "metadata": {
        "id": "48e75996"
      },
      "outputs": [
        {
          "name": "stdout",
          "output_type": "stream",
          "text": [
            "📅 Average Daily Return: 0.0763%\n"
          ]
        }
      ],
      "source": [
        "print(f\"📅 Average Daily Return: {portfolio_info['avg_return']:.4%}\")"
      ]
    },
    {
      "cell_type": "markdown",
      "id": "b9d2b93f",
      "metadata": {
        "id": "b9d2b93f"
      },
      "source": [
        "### Monte Carlo Simulation\n",
        "\n",
        "Now we'll run a Monte Carlo simulation to try to estimate the predicted value of the stocks in future."
      ]
    },
    {
      "cell_type": "markdown",
      "id": "079acd29",
      "metadata": {
        "id": "079acd29"
      },
      "source": [
        "Monte Carlo simulations work by determining metrics of how \"random\" the motion of a given thing is, which for us will be stocks. It works by simulating lots, usually thousands, of random trials on randomly generated numbers modified to the distribution of a given stock. For any given day in our simulation, we will find the value of a stock using the equation $S_i = S_{i-1} * e^r$, where $S_i$ is the price on day $i$, $S_i$ is the price on the previous day, and $r$ is a factor that takes into account the drift and volatility of a stock. As we build our Monte Carlo function for a stock, we will learn about how all of these factors come together to simulate a stock's future.\n",
        "\n",
        "Our first goal will be to grab a small sample of historical data for a given stock, which will allow us to generate those $r$ values later on. We will choose a somewhat recent starting date, which we have set by default to be \"2015-01-01\", and we will pull the closing data for the stock we intend to analyze into a Pandas DataFrame."
      ]
    },
    {
      "cell_type": "code",
      "execution_count": 38,
      "id": "aed0e8cb",
      "metadata": {
        "id": "aed0e8cb"
      },
      "outputs": [],
      "source": [
        "def import_stock_data(tickers, start = \"2015-01-01\"):\n",
        "    data = pd.DataFrame()\n",
        "    if len(tickers) == 1:\n",
        "        stock = yf.Ticker(tickers[0], session = session)\n",
        "        data[tickers[0]] = stock.history(interval = '1d', start = start)['Close']\n",
        "    else:\n",
        "        for x in tickers:\n",
        "            stock = yf.Ticker(x, session=session)\n",
        "            data[x] = stock.history(interval = '1d', start = start)['Close']\n",
        "    return data"
      ]
    },
    {
      "cell_type": "markdown",
      "id": "1e3b5eae",
      "metadata": {
        "id": "1e3b5eae"
      },
      "source": [
        "Next, for the data, we aren't incredibly concerned with the actual values of a stock over time when generating our $r$ factor. Our biggest concern is how the stock changes over time. For this, we will generate two models for change over time: one that is calculated as the logarithm of the percentage change for a given stock, and one that is simply the percentage change. The simple percentage change is an easier to understand model, but the logarithmic analysis of percentage change allows us to smooth the curve of values we get, which in turn helps us minimize divergence in our models."
      ]
    },
    {
      "cell_type": "code",
      "execution_count": 39,
      "id": "8398971e",
      "metadata": {
        "id": "8398971e"
      },
      "outputs": [],
      "source": [
        "def log_returns(data):\n",
        "    return np.log(1 + data.pct_change().dropna())\n",
        "\n",
        "def simple_returns(data):\n",
        "    return (data/(data.shift(1))-1)"
      ]
    },
    {
      "cell_type": "markdown",
      "id": "22a1cbd7",
      "metadata": {
        "id": "22a1cbd7"
      },
      "source": [
        "Now that we have normalized returns for our dataset, we can use this normalized set of returns to calculate drift and volatility of a given stock. We can start with drift. Drift in a Monte Carlo simulation is the direction previous models have tended to go in, and it is given by $D = \\mu - \\frac{1}{2} \\sigma^2$, where $\\mu$ is the average value of your dataset, in this case our average daily return, and $\\sigma$ is the variance of our return. This value gives the intensity and direction the overall trend of a dataset should take."
      ]
    },
    {
      "cell_type": "code",
      "execution_count": 40,
      "id": "ff20305e",
      "metadata": {
        "id": "ff20305e"
      },
      "outputs": [],
      "source": [
        "def drift_calc(data, return_type = \"log\"):\n",
        "    if return_type == \"log\":\n",
        "        lr = log_returns(data)\n",
        "    elif return_type == \"simple\":\n",
        "        lr = simple_returns(data)\n",
        "    u = lr.mean()\n",
        "    var = lr.var()\n",
        "    drift = u-(.5*var)\n",
        "    try:\n",
        "        return drift.values\n",
        "    except:\n",
        "        return drift"
      ]
    },
    {
      "cell_type": "markdown",
      "id": "4ec15870",
      "metadata": {
        "id": "4ec15870"
      },
      "source": [
        "Now, we are going to combine two steps, as they go very closely together. First, we are going to determine the volatility of our stock, which is given by $V = \\sigma [Rand(0:1)]$, where $\\sigma$ is the standard deviation of our dataset, and it is multipled with a random real number from 0 to 1. We will add this value to our drift, and that will be our $r$ value for a given day. To do this in python, we will create a matrix with a cell for every day and every iteration that initially has just a random number. We will multiply each cell by our standard deviation and then add our drift. After this, we will run an exponential calculation that determines $e^r$ if a cell's value is $r$. This matrix, which we will then return, is the $e^r$ multiplier for any given day in any iteration of a Monte Carlo simulation."
      ]
    },
    {
      "cell_type": "code",
      "execution_count": 41,
      "id": "df944d17",
      "metadata": {
        "id": "df944d17"
      },
      "outputs": [],
      "source": [
        "def daily_returns(data, days, iterations):\n",
        "    ft = drift_calc(data)\n",
        "    try:\n",
        "        stv = log_returns(data).std().values\n",
        "    except:\n",
        "        stv = log_returns(data).std()\n",
        "\n",
        "    dr = np.exp(ft + stv * norm.ppf(np.random.rand(days, iterations)))\n",
        "    return dr"
      ]
    },
    {
      "cell_type": "markdown",
      "id": "1b03058e",
      "metadata": {
        "id": "1b03058e"
      },
      "source": [
        "Now, we will finally bring back the actual values from the dataset. For every initial day in the Monte Carlo simulation, we will use the closing value of the stock last day we pulled as our first day of Monte Carlo. From here, we will be able to iterate through the matrix, and in every iteration, we will be able to multiply the previous day with the given value from our daily returns matrix that we already generated. This will give us multiple Monte Carlo iterations that we can analyze to see how we can expect a stock to behave. Some important things for our simulation include expected value, calculated as the average of all iterations of our simulation on their last day, and return percentage, which is the percentage our investment would grow by had we invested in our stock on the first day of our Monte Carlo simulation."
      ]
    },
    {
      "cell_type": "code",
      "execution_count": null,
      "id": "a871fd16",
      "metadata": {
        "id": "a871fd16"
      },
      "outputs": [],
      "source": [
        "def simulate_mc(data, days, iterations):\n",
        "    # generate list of e^r multipliers, initialize the price list, run sim\n",
        "    returns = daily_returns(data, days, iterations)\n",
        "    price_list = np.zeros_like(returns)\n",
        "    price_list[0] = data.iloc[-1]\n",
        "    for t in range(1, days):\n",
        "        price_list[t] = price_list[t-1] * returns[t]\n",
        "    # print(price_list[2])\n",
        "\n",
        "    total_days = days - 1\n",
        "    expected_value = round(pd.DataFrame(price_list).iloc[-1].mean(), 2)\n",
        "    return_pct = round(100*(expected_value-price_list[0,1])/expected_value, 2)\n",
        "\n",
        "    avg_value = []\n",
        "    for i in range(0, days):\n",
        "        # print(price_list[i].mean())\n",
        "        avg_value += [price_list[i].mean()]\n",
        "        # print(price_list[i][0:3])\n",
        "\n",
        "    # print(avg_value)\n",
        "\n",
        "    return [total_days, expected_value, return_pct, avg_value]\n",
        "\n",
        "def monte_carlo(ticker, days, iterations):\n",
        "    df = import_stock_data([ticker])\n",
        "    return simulate_mc(df, days, iterations)"
      ]
    },
    {
      "cell_type": "markdown",
      "id": "99d90b68",
      "metadata": {
        "id": "99d90b68"
      },
      "source": [
        "Now that we have built our functions that run a Monte Carlo simulation, we will use them on our list of tickers. For every ticker in our portfolio, we will run the Monte Carlo simulation and add it to a DataFrame, allowing us to compile a DataFrame of potential stock futures to go along with the set of stock histories we have already pulled from yfinance. Alongside the dataframe creation, we also will generate a few key pieces of information that tell us about our simulation: total days in the simulation, the expected stock value at the end of simulation, and the return percentage from day 0 to day $n$."
      ]
    },
    {
      "cell_type": "code",
      "execution_count": 63,
      "id": "38c6ae5d",
      "metadata": {
        "id": "38c6ae5d"
      },
      "outputs": [],
      "source": [
        "days = 50\n",
        "iters = 100\n",
        "\n",
        "mc_projections = pd.DataFrame()\n",
        "mc_data = []\n",
        "for x in portfolio:\n",
        "    mc = monte_carlo(x, days, iters)\n",
        "    mc_projections[x] = mc[3]\n",
        "    mc_data += [mc[0:2]]\n",
        "\n",
        "mc_projections['Total'] = mc_projections.sum(axis=1)"
      ]
    },
    {
      "cell_type": "markdown",
      "id": "91b9350d",
      "metadata": {},
      "source": [
        "We can then use that data to plot what expected values might look like, and print the average expected value to get an idea of what future values may look like."
      ]
    },
    {
      "cell_type": "code",
      "execution_count": 120,
      "id": "71f4b6fb",
      "metadata": {},
      "outputs": [
        {
          "name": "stdout",
          "output_type": "stream",
          "text": [
            "Average Expected Value is 27020.57\n"
          ]
        },
        {
          "data": {
            "text/html": [
              "\n",
              "<style>\n",
              "  #altair-viz-cad4a838ed1d457ca4a7433c2a40055c.vega-embed {\n",
              "    width: 100%;\n",
              "    display: flex;\n",
              "  }\n",
              "\n",
              "  #altair-viz-cad4a838ed1d457ca4a7433c2a40055c.vega-embed details,\n",
              "  #altair-viz-cad4a838ed1d457ca4a7433c2a40055c.vega-embed details summary {\n",
              "    position: relative;\n",
              "  }\n",
              "</style>\n",
              "<div id=\"altair-viz-cad4a838ed1d457ca4a7433c2a40055c\"></div>\n",
              "<script type=\"text/javascript\">\n",
              "  var VEGA_DEBUG = (typeof VEGA_DEBUG == \"undefined\") ? {} : VEGA_DEBUG;\n",
              "  (function(spec, embedOpt){\n",
              "    let outputDiv = document.currentScript.previousElementSibling;\n",
              "    if (outputDiv.id !== \"altair-viz-cad4a838ed1d457ca4a7433c2a40055c\") {\n",
              "      outputDiv = document.getElementById(\"altair-viz-cad4a838ed1d457ca4a7433c2a40055c\");\n",
              "    }\n",
              "\n",
              "    const paths = {\n",
              "      \"vega\": \"https://cdn.jsdelivr.net/npm/vega@5?noext\",\n",
              "      \"vega-lib\": \"https://cdn.jsdelivr.net/npm/vega-lib?noext\",\n",
              "      \"vega-lite\": \"https://cdn.jsdelivr.net/npm/vega-lite@5.20.1?noext\",\n",
              "      \"vega-embed\": \"https://cdn.jsdelivr.net/npm/vega-embed@6?noext\",\n",
              "    };\n",
              "\n",
              "    function maybeLoadScript(lib, version) {\n",
              "      var key = `${lib.replace(\"-\", \"\")}_version`;\n",
              "      return (VEGA_DEBUG[key] == version) ?\n",
              "        Promise.resolve(paths[lib]) :\n",
              "        new Promise(function(resolve, reject) {\n",
              "          var s = document.createElement('script');\n",
              "          document.getElementsByTagName(\"head\")[0].appendChild(s);\n",
              "          s.async = true;\n",
              "          s.onload = () => {\n",
              "            VEGA_DEBUG[key] = version;\n",
              "            return resolve(paths[lib]);\n",
              "          };\n",
              "          s.onerror = () => reject(`Error loading script: ${paths[lib]}`);\n",
              "          s.src = paths[lib];\n",
              "        });\n",
              "    }\n",
              "\n",
              "    function showError(err) {\n",
              "      outputDiv.innerHTML = `<div class=\"error\" style=\"color:red;\">${err}</div>`;\n",
              "      throw err;\n",
              "    }\n",
              "\n",
              "    function displayChart(vegaEmbed) {\n",
              "      vegaEmbed(outputDiv, spec, embedOpt)\n",
              "        .catch(err => showError(`Javascript Error: ${err.message}<br>This usually means there's a typo in your chart specification. See the javascript console for the full traceback.`));\n",
              "    }\n",
              "\n",
              "    if(typeof define === \"function\" && define.amd) {\n",
              "      requirejs.config({paths});\n",
              "      let deps = [\"vega-embed\"];\n",
              "      require(deps, displayChart, err => showError(`Error loading script: ${err.message}`));\n",
              "    } else {\n",
              "      maybeLoadScript(\"vega\", \"5\")\n",
              "        .then(() => maybeLoadScript(\"vega-lite\", \"5.20.1\"))\n",
              "        .then(() => maybeLoadScript(\"vega-embed\", \"6\"))\n",
              "        .catch(showError)\n",
              "        .then(() => displayChart(vegaEmbed));\n",
              "    }\n",
              "  })({\"config\": {\"view\": {\"continuousWidth\": 300, \"continuousHeight\": 300}}, \"data\": {\"name\": \"data-b6d017f53f7b1ca453f0558963c48699\"}, \"mark\": {\"type\": \"bar\"}, \"encoding\": {\"tooltip\": [{\"aggregate\": \"count\", \"title\": \"Frequency\", \"type\": \"quantitative\"}], \"x\": {\"bin\": {\"maxbins\": 12.5}, \"field\": \"Total\", \"title\": \"Total Value\", \"type\": \"quantitative\"}, \"y\": {\"aggregate\": \"count\", \"type\": \"quantitative\"}}, \"height\": 400, \"title\": \"Frequency of Total Values in Monte Carlo Projections\", \"width\": 600, \"$schema\": \"https://vega.github.io/schema/vega-lite/v5.20.1.json\", \"datasets\": {\"data-b6d017f53f7b1ca453f0558963c48699\": [{\"index\": 0, \"Total\": 26697.963718414307}, {\"index\": 1, \"Total\": 26731.1865389062}, {\"index\": 2, \"Total\": 26732.4989204242}, {\"index\": 3, \"Total\": 26772.903256823698}, {\"index\": 4, \"Total\": 26817.176069503916}, {\"index\": 5, \"Total\": 26850.53927607882}, {\"index\": 6, \"Total\": 26828.88136060249}, {\"index\": 7, \"Total\": 26817.311093477692}, {\"index\": 8, \"Total\": 26794.706065201517}, {\"index\": 9, \"Total\": 26818.6762376346}, {\"index\": 10, \"Total\": 26817.92941067843}, {\"index\": 11, \"Total\": 26854.358442687604}, {\"index\": 12, \"Total\": 26846.75615405642}, {\"index\": 13, \"Total\": 26862.399614340116}, {\"index\": 14, \"Total\": 26865.328991097376}, {\"index\": 15, \"Total\": 26875.63693496183}, {\"index\": 16, \"Total\": 26918.578703269515}, {\"index\": 17, \"Total\": 26934.805063915006}, {\"index\": 18, \"Total\": 26954.12774620884}, {\"index\": 19, \"Total\": 26974.943804770788}, {\"index\": 20, \"Total\": 26988.804379197067}, {\"index\": 21, \"Total\": 27026.041318445707}, {\"index\": 22, \"Total\": 27003.966401197096}, {\"index\": 23, \"Total\": 27022.31461696769}, {\"index\": 24, \"Total\": 27025.94076279469}, {\"index\": 25, \"Total\": 27016.480961198908}, {\"index\": 26, \"Total\": 27001.053839346612}, {\"index\": 27, \"Total\": 27064.516686452516}, {\"index\": 28, \"Total\": 27053.504256287422}, {\"index\": 29, \"Total\": 27073.755758499705}, {\"index\": 30, \"Total\": 27046.63955957713}, {\"index\": 31, \"Total\": 27102.446108077234}, {\"index\": 32, \"Total\": 27093.95781143814}, {\"index\": 33, \"Total\": 27053.158233805232}, {\"index\": 34, \"Total\": 27071.140333726187}, {\"index\": 35, \"Total\": 27138.98073327798}, {\"index\": 36, \"Total\": 27151.986371489256}, {\"index\": 37, \"Total\": 27156.721684082728}, {\"index\": 38, \"Total\": 27157.34500247867}, {\"index\": 39, \"Total\": 27205.648546597}, {\"index\": 40, \"Total\": 27195.15004263003}, {\"index\": 41, \"Total\": 27222.664819741418}, {\"index\": 42, \"Total\": 27230.9703742312}, {\"index\": 43, \"Total\": 27236.079186876585}, {\"index\": 44, \"Total\": 27304.825527606692}, {\"index\": 45, \"Total\": 27311.491948293955}, {\"index\": 46, \"Total\": 27300.731523673956}, {\"index\": 47, \"Total\": 27312.375118846456}, {\"index\": 48, \"Total\": 27345.453617453728}, {\"index\": 49, \"Total\": 27347.58838001161}]}}, {\"mode\": \"vega-lite\"});\n",
              "</script>"
            ],
            "text/plain": [
              "alt.Chart(...)"
            ]
          },
          "metadata": {},
          "output_type": "display_data"
        }
      ],
      "source": [
        "total_occurrences = mc_projections['Total'].astype(float).reset_index()\n",
        "\n",
        "avg = mc_projections['Total'].mean()\n",
        "\n",
        "bar_plot = alt.Chart(total_occurrences).mark_bar().encode(\n",
        "    x=alt.X('Total:Q', title='Total Value').bin(maxbins=iters/8),\n",
        "    y='count()'\n",
        "    , tooltip=[alt.Tooltip('count()', title='Frequency')]\n",
        ").properties(\n",
        "    title='Frequency of Total Values in Monte Carlo Projections',\n",
        "    width=600, # because the auto-size is quite small\n",
        "    height=400\n",
        ")\n",
        "\n",
        "print(f\"Average Expected Value is {avg:.2f}\")\n",
        "\n",
        "bar_plot.display()"
      ]
    },
    {
      "cell_type": "markdown",
      "id": "de1c13c9",
      "metadata": {
        "id": "de1c13c9"
      },
      "source": [
        "### Optimizing a Stock Portfolio\n",
        "\n",
        "It's great that we can create a stock portfolio that we can work with, and we can even analyze how strong it is using quantstats! It would be even better if we could take the portfolio we made and see if we can change our investment amounts to maximize our returns. There are a couple steps to get it set up, but thankfully, scipy has a function that can maximize our returns given an initial investment percentage for each stock, and a history of each stock's percentage change in price. We utilized [this medium article](https://medium.com/@ethan.duong1120/python-powered-portfolio-optimization-achieving-target-returns-through-weight-optimization-fc5163e5c9c6) as our framework.\n",
        "\n",
        "First, we are going to create a sample version of our portfolio that pulls stock history for every ticker that we have selected, adding their opening price at every interval to the function and storing all of this in a dataframe. Then, we use the pct_change function to determine the change between each frame for each stock, allowing us to determine the most efficient investment of stocks."
      ]
    },
    {
      "cell_type": "code",
      "execution_count": null,
      "id": "J4Nphx9rlmpv",
      "metadata": {
        "id": "J4Nphx9rlmpv"
      },
      "outputs": [],
      "source": [
        "## SOLUTION: Isabel's attempted code to fix the broken data insertion line below\n",
        "## the line below breaking in your portfolio optimization prep section:\n",
        "\n",
        "ticker = yf.Ticker(testList[0])\n",
        "data = ticker.history(interval='1d', start='2015-01-01', end='2025-04-01')\n",
        "df = data[['Open']].rename(columns={'Open': testList[0]})\n",
        "\n",
        "for x in testList[1:]:\n",
        "    ticker = yf.Ticker(x)\n",
        "    data = ticker.history(interval='1d', start='2015-01-01', end='2025-04-01')\n",
        "    if not data.empty:\n",
        "        df = df.join(data[['Open']].rename(columns={'Open': x}), how='outer')\n",
        "\n",
        "# drop rows with any missing values for stability\n",
        "returns_df = df.pct_change(1).dropna()\n",
        "\n",
        "## this is my attempt to do the following: Renames columns so they’re labeled by ticker. Joins all on the date index to align data. Drops any NaNs to ensure the optimizer works.\n"
      ]
    },
    {
      "cell_type": "code",
      "execution_count": null,
      "id": "4a74b215",
      "metadata": {
        "id": "4a74b215"
      },
      "outputs": [],
      "source": [
        "## original code as of 5/8/25 1:30 PM\n",
        "\n",
        "testList = portfolio\n",
        "\n",
        "# pull the first stock's data; drop all unnecessary columns\n",
        "ticker = yf.Ticker(testList[0])\n",
        "df = ticker.history(interval = '1d', start = '2015-01-01', end = '2025-04-01')\n",
        "df.drop(columns=['High', 'Low', 'Close', 'Volume', 'Dividends', 'Stock Splits'], inplace=True)\n",
        "df.rename({'Open' : 'AAPL'}, inplace=True)\n",
        "\n",
        "# for every other ticker, add its open value to the existing dataframe\n",
        "for x in testList[1:]:\n",
        "    ticker = yf.Ticker(x)\n",
        "    data = ticker.history(interval = '1d', start = '2015-01-01', end = '2025-04-01')\n",
        "    df.insert(len(df.columns), x, data[\"Open\"]) # for whatever reason, this line wont work -> ## SEARCH UP \"SOLUTION: Isabel's attempted code to fix the broken data insertion line below\"\n",
        "\n",
        "#calculate percent returns for each day of each stock\n",
        "returns_df = df.pct_change(1).dropna()"
      ]
    },
    {
      "cell_type": "markdown",
      "id": "b62cd359",
      "metadata": {
        "id": "b62cd359"
      },
      "source": [
        "Now, we need to determine the value of each portfolio's return. This is simply the return of each stock multipled by its weight in the portfolio. Because it is this way for each stock, we can compute the return as a dot product of returns and weights, then multiply by 250 trading days in a year to annualize our result!"
      ]
    },
    {
      "cell_type": "code",
      "execution_count": null,
      "id": "bbc11ee0",
      "metadata": {
        "id": "bbc11ee0"
      },
      "outputs": [],
      "source": [
        "#operationalize determining portfolio returns\n",
        "def getPfReturn(weights):\n",
        "    \"\"\"\n",
        "    return is annualized expected return of portfolio\n",
        "    \"\"\"\n",
        "    expRetPortfolio = np.dot(np.transpose(weights), returns_df.mean()) * 250\n",
        "    return expRetPortfolio"
      ]
    },
    {
      "cell_type": "markdown",
      "id": "a62679e4",
      "metadata": {
        "id": "a62679e4"
      },
      "source": [
        "Now, we need to start bounding the function that will maximize our returns given an investment. We will use scipy's minimize function to do this. Despite its name, the minimize function works by minimizing the constraints that you give it, so minimizing the difference between our portfolio return and our target return will enable us to hit our target return, \"maximizing\" the output of our portfolio. If we want to truly maximize, we can continue pushing up this target return incrementally until we reach it!.\n",
        "\n",
        "First, we will start with initial weights of each stock in our portfolio. We can either use the weights we selected previously, or we can simply start with each stock having an equal weight in our portfolio. You can choose this by slightly modifying the code below.\n",
        "\n",
        "Now, we need to set our target return value, which we selefcted to arbitrarily be .4, or a 40% return. This can be modified however you wish, but do note that the minimize function will fail if maximizing to the given return percentage is impossible.\n",
        "\n",
        "Another important goal is to bound the weight of each stock in our portfolio between 0 and 1, or 0% and 100%. It doesn't make much sense to be able to buy more than a full portfolio of stocks! We do this by creating a tuple that has the same length as our number of stocks, and each element in the tuple is another tuple storing the values (0,1), bounding our stock weights in that range\n",
        "\n",
        "Finally, we want to create two constraints for the function. This is done using the syntax below. Our first constraint says tat the sum of all weights should not exceed 1, or that our portfolio weights can't exceed 100%. We've done this already for individual stocks, but it's also important that we cant just spend 100% of our money in each stock. Finally, we also need to make sure that we \"minimize\" the difference between the returns for any set of portfolio weights the function generates and the target return we have set."
      ]
    },
    {
      "cell_type": "code",
      "execution_count": null,
      "id": "sHEcDDWBjKDW",
      "metadata": {
        "id": "sHEcDDWBjKDW"
      },
      "outputs": [],
      "source": [
        "# Isabel's code attempted to toggle between equal weights and user-defined weights for the optimizer\n",
        "custom_weights = True  # you change to False to use equal weights\n",
        "\n",
        "numStocks = len(returns_df.columns)\n",
        "\n",
        "if custom_weights and allocations:\n",
        "    try:\n",
        "        weight_list = [float(allocations[stock]) for stock in returns_df.columns]\n",
        "        total_weight = sum(weight_list)\n",
        "        initialWeight = [w / total_weight for w in weight_list]\n",
        "    except Exception as e:\n",
        "        print(\"Error with custom weights. Falling back to equal weights.\")\n",
        "        initialWeight = [1 / numStocks] * numStocks\n",
        "else:\n",
        "    initialWeight = [1 / numStocks] * numStocks\n",
        "\n",
        "    ## What I am trying to do is 1. Lets user control whether to use the user’s weights or equal weights.\n",
        "    ## 2. Normalizes the weights so they sum to 1, just in case they don't sum perfectly.\n",
        "    ## 3. Catch errors(like if the user forgets to fill in all weights).\n"
      ]
    },
    {
      "cell_type": "code",
      "execution_count": null,
      "id": "fdf1ec84",
      "metadata": {
        "id": "fdf1ec84"
      },
      "outputs": [],
      "source": [
        "# start with stocks at equal weights\n",
        "numStocks = len(returns_df.columns)\n",
        "initialWeight = [1/numStocks] * numStocks\n",
        "\n",
        "# Feel free to pick a different number!\n",
        "targetReturn = .2\n",
        "\n",
        "# bounds the percentage of each stock we can hold (between 0 and 100%)\n",
        "bounds = tuple((0,1) for i in range(numStocks))\n",
        "\n",
        "# ensures the sum of all stock weights is 100% (or 1) in first constraint\n",
        "# sets goal of minimize function to hit targetReturn\n",
        "constraints = ({'type' : 'eq', 'fun' : lambda w : np.sum(w) - 1},\n",
        "               {'type' : 'eq', 'fun' : lambda x : x.dot(returns_df.mean()) * 250 - targetReturn})\n"
      ]
    },
    {
      "cell_type": "markdown",
      "id": "4e8ba7f6",
      "metadata": {
        "id": "4e8ba7f6"
      },
      "source": [
        "Now that we have set all of our constraints, we need to use the maximize function! We set a variable called \"results\" equal to the minimize function with our function and all of the constraints. Through magic of scipy, it will iterate on our weights, modifying them in an attempt to maximize the return of our portfolio. We can print results to see whether it was successful, as well as the weights of each stock in our portfolio. We can also see our returns by using our returns function on the 'x' field of our minimize output."
      ]
    },
    {
      "cell_type": "code",
      "execution_count": null,
      "id": "6a75a5ba",
      "metadata": {
        "id": "6a75a5ba"
      },
      "outputs": [],
      "source": [
        "# can we reach our goal with these stocks??\n",
        "results = minimize(fun=getPfReturn, x0=initialWeight, bounds=bounds, constraints=constraints)\n",
        "\n",
        "#output\n",
        "# print(results)\n",
        "\n",
        "optimizedResults = pd.DataFrame(results['x'])\n",
        "\n",
        "# print our optimized results\n",
        "getPfReturn(weights=results[\"x\"])\n",
        "optimizedResults.index = portfolio\n",
        "\n",
        "print(optimizedResults)"
      ]
    },
    {
      "cell_type": "markdown",
      "id": "3555add1",
      "metadata": {
        "id": "3555add1"
      },
      "source": [
        "Now, we've successfully used scipy to maximize the results from our function! We can even extract the weights and use them to model a portfolio. Let's use some similar code to graph the returns of a portfolio based on an inital investment above, but using our new optimized weights!"
      ]
    },
    {
      "cell_type": "markdown",
      "id": "42ynhfBBocx7",
      "metadata": {
        "id": "42ynhfBBocx7"
      },
      "source": [
        "### Optimized Portfolio Visualization\n",
        "\n",
        "This chart shows how your portfolio performs after optimization — where the weights were adjusted to target a better return/risk profile. Each line represents an individual stock’s contribution to portfolio value over time.\n",
        "\n",
        "Compare this plot with the initial version to see if:\n",
        "  - Fewer stocks dominate the performance\n",
        "  - Fluctuations are smaller (less risk)\n",
        "  - The total trend is smoother or steeper\n",
        "\n",
        "Logic Check:\n",
        "A good optimization often leads to fewer volatile movements and better risk-adjusted growth."
      ]
    },
    {
      "cell_type": "code",
      "execution_count": null,
      "id": "9f881de1",
      "metadata": {
        "id": "9f881de1"
      },
      "outputs": [],
      "source": [
        "initial_portfolio_val = 1e6\n",
        "\n",
        "optimized_allocations = optimizedResults[0].to_dict()\n",
        "\n",
        "\n",
        "optimized_returns = calculate_returns(initial_portfolio_val, dataframes, optimized_allocations)\n",
        "\n",
        "graph_returns(optimized_returns, False, True)"
      ]
    },
    {
      "cell_type": "markdown",
      "id": "c538bb61",
      "metadata": {
        "id": "c538bb61"
      },
      "source": [
        "#### 📉 Rechecking Strength After Optimization\n",
        "\n",
        "After optimizing our portfolio allocations to achieve a target return of 40%, we reevaluate the portfolio using updated historical performance metrics.\n",
        "\n",
        "To review:\n",
        "\n",
        "- **CAGR (Annual Return):** Shows the expected annual growth based on optimized allocations.\n",
        "- **Sharpe Ratio:** Tells us how well we’re balancing risk and reward with the new weights.\n",
        "- **Max Drawdown:** Indicates if the worst-case dip has improved.\n",
        "- **Volatility:** Helps assess whether the portfolio became more stable or more erratic.\n",
        "- **Avg Daily Return:** Confirms whether daily trends look stronger after optimization.\n",
        "\n",
        "This second performance check shows whether our changes actually led to a more efficient investment strategy."
      ]
    },
    {
      "cell_type": "code",
      "execution_count": null,
      "id": "4c72f527-99d2-4d8d-a6cd-f1cbc4f6f907",
      "metadata": {
        "id": "4c72f527-99d2-4d8d-a6cd-f1cbc4f6f907"
      },
      "outputs": [],
      "source": [
        "optimized_portfolio_info = portfolio_stats(optimized_returns)\n",
        "\n",
        "print(f\"📈 CAGR (Annual Return): {optimized_portfolio_info['cagr']:.2%}\")\n",
        "print(f\"📊 Sharpe Ratio: {optimized_portfolio_info['sharpe']:.2f}\")\n",
        "print(f\"📉 Max Drawdown: {optimized_portfolio_info['drawdown']:.2%}\")\n",
        "print(f\"📈 Volatility: {optimized_portfolio_info['volatility']:.2%}\")\n",
        "print(f\"📅 Average Daily Return: {optimized_portfolio_info['avg_return']:.4%}\")"
      ]
    },
    {
      "cell_type": "markdown",
      "id": "c3101a9e-b443-428f-ac65-b2f65d837ba2",
      "metadata": {
        "id": "c3101a9e-b443-428f-ac65-b2f65d837ba2"
      },
      "source": [
        "### Summary\n",
        "\n",
        "After constructing our initial stock portfolio based on user-selected allocations, we evaluated its historical performance using metrics like annual return, Sharpe ratio, and drawdown. This gave us a baseline understanding of how well our portfolio performed under those weights.\n",
        "\n",
        "We then used optimization techniques (via scipy.minimize) to automatically adjust the stock allocations in order to achieve a target return while minimizing risk. This step simulates what a financial algorithm might do to make our portfolio more efficient.\n",
        "\n",
        "Finally, we re-evaluated the optimized portfolio using the same performance metrics. By comparing the before-and-after results, we can see whether the optimization actually improved our portfolio — either by increasing returns, reducing risk, or improving the Sharpe ratio (risk-adjusted performance).\n",
        "\n",
        "This comparison demonstrates the power of computational thinking in making data-driven investment decisions."
      ]
    }
  ],
  "metadata": {
    "colab": {
      "provenance": []
    },
    "kernelspec": {
      "display_name": "cs181",
      "language": "python",
      "name": "python3"
    },
    "language_info": {
      "codemirror_mode": {
        "name": "ipython",
        "version": 3
      },
      "file_extension": ".py",
      "mimetype": "text/x-python",
      "name": "python",
      "nbconvert_exporter": "python",
      "pygments_lexer": "ipython3",
      "version": "3.12.7"
    }
  },
  "nbformat": 4,
  "nbformat_minor": 5
}
