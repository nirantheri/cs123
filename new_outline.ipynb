{
 "cells": [
  {
   "cell_type": "markdown",
   "id": "a21a0bd5",
   "metadata": {},
   "source": [
    "### Intro : isabel\n",
    "People wanting to learn how to analyze their savings\n",
    "\n",
    "### still need a disclaimer!!\n"
   ]
  },
  {
   "cell_type": "markdown",
   "id": "1fcde335",
   "metadata": {},
   "source": [
    "**Financial Content:** All content provided by Isabel, Luna, Nirantheri, including articles, reports, analyses, opinions, recommendations, and any other financial information, is purely for informational purposes. It should not be construed as financial advice or a recommendation to buy, sell, or hold any financial instrument or investment strategy.\n",
    "\n",
    "**Not Financial Advice:** Isabel, Luna, Nirantheri are not registered financial advisors, and the information provided should not be considered professional financial advice. It is highly recommended to consult with a qualified financial advisor or investment professional before making any financial decisions based on the information provided by Isabel, Luna, Nirantheri.\n",
    "\n",
    "**Accuracy of Information:** While Isabel, Luna, Nirantheri aim to provide accurate and current information, we cannot guarantee the accuracy, completeness, or reliability of any content or data provided. Users should independently verify all information before relying on it for financial decision-making purposes.\n",
    "\n",
    "**Risks of Investing:** Investing in financial markets carries inherent risks, including market volatility, economic factors, geopolitical events, and individual investment performance. Past performance is not indicative of future results, and there are no assurances of investment success.\n",
    "\n",
    "**No Endorsement:** Any mention of specific financial products, services, companies, or securities within Isabel, Luna, Nirantheri's content does not imply endorsement or recommendation. Users are advised to conduct their own research and due diligence before investing in any financial product or service.\n",
    "\n",
    "**No Liability:** Isabel, Luna, Nirantheri, their affiliates, employees, or partners shall not be held liable for any damages, losses, or expenses arising from the use of or reliance on the information provided. Users assume full responsibility for their investment decisions and outcomes.\n",
    "\n",
    "**Changes to Disclaimer:** Isabel, Luna, Nirantheri reserve the right to modify or update this disclaimer at any time without prior notice. Users are responsible for regularly reviewing the disclaimer for any changes.\n"
   ]
  },
  {
   "cell_type": "markdown",
   "id": "29064aa1",
   "metadata": {},
   "source": [
    "### using old material : Nirantheri\n",
    "\n",
    "\n",
    "The code to show the importance of investing vs savings (just draw out each of the ira, 401k, hysa along with no investment to show)\n",
    "How to use information.md?"
   ]
  },
  {
   "cell_type": "markdown",
   "id": "5b4b991e",
   "metadata": {},
   "source": [
    "### setup\n",
    "\n",
    "include all packages for setting up (pyfolio, package)"
   ]
  },
  {
   "cell_type": "code",
   "execution_count": null,
   "id": "4102a911",
   "metadata": {},
   "outputs": [],
   "source": [
    "# all libraries\n",
    "\n",
    "import pyfolio\n",
    "import yfinance as yf\n",
    "import numpy as np\n",
    "import scipy\n",
    "import ipywidgets\n",
    "import pandas as pd\n",
    "from scipy.optimize import minimize"
   ]
  },
  {
   "cell_type": "markdown",
   "id": "07c04a66",
   "metadata": {},
   "source": [
    "### Choosing stocks for a portfolio: Nirantheri\n",
    "\n",
    "Give them a list of 20-30 common stocks, etfs, and mutual funds (can use checkbox widget)\n",
    "ipywidgets: \n",
    "[checkbox](https://ipywidgets.readthedocs.io/en/7.x/examples/Widget%20List.html#Checkbox)\n",
    "[select multiple](https://ipywidgets.readthedocs.io/en/7.x/examples/Widget%20List.html#SelectMultiple)\n",
    "ex.\n",
    "- S&P 500\n",
    "- Dow\n",
    "- Nasdaq\n",
    "- Apple\n",
    "- Tesla\n",
    "- Google\n",
    "- Gold??\n",
    "- etc"
   ]
  },
  {
   "cell_type": "markdown",
   "id": "52f0405d",
   "metadata": {},
   "source": [
    "### Picking your own breakdown of stocks : Nirantheri\n",
    "\n",
    "use another widget, maybe with a slider (tbd)\n",
    "\n",
    "[setup using the above code chunk](https://ipywidgets.readthedocs.io/en/7.x/examples/Widget%20List.html#Tabs)"
   ]
  },
  {
   "cell_type": "markdown",
   "id": "a1f4eed5",
   "metadata": {},
   "source": [
    "### pulling the yf data: Luna\n",
    "\n",
    "Assume that the list of stocks will come in as a set of stock codes so you can write a loop to get each of them"
   ]
  },
  {
   "cell_type": "code",
   "execution_count": null,
   "id": "ace55141",
   "metadata": {},
   "outputs": [],
   "source": [
    "#pulled a dictionary of different stocks, keys are tickers? i cant think of a better way to store them because the list is variable so its a bit of an issue\n",
    "\n",
    "testList = ['AAPL', 'MSFT', 'GOOG', 'NVDA', '^GSPC', '^DJI', '^IXIC']\n",
    "testString = ' '.join(testList)\n",
    "\n",
    "tickersPull = yf.Tickers(testString)\n",
    "\n",
    "#in the dictionary dataframes, each ticker is indexed by its ticker as seen in the testList\n",
    "dataframes = {}\n",
    "for x in testList:\n",
    "    ticker = yf.Ticker(x)\n",
    "    dataframes[x] = ticker.history(period='1mo', start='2015-01-01')\n",
    "    print(dataframes[x])\n",
    "\n"
   ]
  },
  {
   "cell_type": "markdown",
   "id": "cdea0ef3",
   "metadata": {},
   "source": [
    "### check strength of portfolio : Isabel\n",
    "pyfolio: https://www.pyquantnews.com/the-pyquant-newsletter/create-beautiful-strategy-tear-sheets-pyfolio-reloaded\n",
    "can also use quantstats\n",
    "\n",
    "\n",
    "\n",
    "pyfolio: get the tear sheets--> then use pandas to pull specific metrics (annual return, etc) and then have a md cell which breaks down what each of them means"
   ]
  },
  {
   "cell_type": "markdown",
   "id": "b9d2b93f",
   "metadata": {},
   "source": [
    "### montecarlo simulations : tbd\n",
    "\n",
    "uses yahoo finance package and others to create montecarlo simulation for modeling\n",
    "\n",
    "montecarlo https://medium.com/analytics-vidhya/monte-carlo-simulations-for-predicting-stock-prices-python-a64f53585662"
   ]
  },
  {
   "cell_type": "markdown",
   "id": "d21089be",
   "metadata": {},
   "source": [
    "### optimizing the set of stocks : luna\n",
    "\n",
    "use scipy\n",
    "\n",
    "optimizing your investment: https://medium.com/@ethan.duong1120/python-powered-portfolio-optimization-achieving-target-returns-through-weight-optimization-fc5163e5c9c6\n"
   ]
  },
  {
   "cell_type": "code",
   "execution_count": null,
   "id": "4a74b215",
   "metadata": {},
   "outputs": [],
   "source": [
    "testList = ['AAPL', 'MSFT', 'GOOG', 'TSLA', 'NFLX', 'SBUX', '^GSPC', '^DJI', '^IXIC']\n",
    "\n",
    "# pull the first stock's data; drop all unnecessary columns\n",
    "ticker = yf.Ticker(testList[0])\n",
    "df = ticker.history(interval = '1d', start = '2015-01-01', end = '2025-04-01')\n",
    "df.drop(columns=['High', 'Low', 'Close', 'Volume', 'Dividends', 'Stock Splits'], inplace=True)\n",
    "df.rename({'Open' : 'AAPL'}, inplace=True)\n",
    "\n",
    "# for every other ticker, add its open value to the existing dataframe\n",
    "for x in testList[1:]:\n",
    "    ticker = yf.Ticker(x)\n",
    "    data = ticker.history(interval = '1d', start = '2015-01-01', end = '2025-04-01')\n",
    "    df.insert(len(df.columns), x, data[\"Open\"]) # for whatever reason, this line wont work\n",
    "\n",
    "#calculate percent returns for each day of each stock\n",
    "returns_df = df.pct_change(1).dropna()\n",
    "\n",
    "#operationalize determining portfolio returns\n",
    "def getPfReturn(weights):\n",
    "    \"\"\"\n",
    "    return is annualized expected return of portfolio\n",
    "    \"\"\"\n",
    "    expRetPortfolio = np.dot(np.transpose(weights), returns_df.mean()) * 250\n",
    "    return expRetPortfolio\n",
    "\n",
    "# start with stocks at equal weights\n",
    "numStocks = len(returns_df.columns)\n",
    "initialWeight = [1/numStocks] * numStocks\n",
    "\n",
    "# return goal?\n",
    "targetReturn = .4\n",
    "\n",
    "# bounds the percentage of each stock we can hold (between 0 and 100%)\n",
    "bounds = tuple((0,1) for i in range(numStocks))\n",
    "\n",
    "# ensures the sum of all stock weights is 100% (or 1) in first constraint\n",
    "# sets goal of minimize function to hit targetReturn\n",
    "constraints = ({'type' : 'eq', 'fun' : lambda w : np.sum(w) - 1},\n",
    "               {'type' : 'eq', 'fun' : lambda x : x.dot(returns_df.mean()) * 250 - targetReturn})\n",
    "\n",
    "# can we reach our goal with these stocks??\n",
    "results = minimize(fun=getPfReturn, x0=initialWeight, bounds=bounds, constraints=constraints)\n",
    "\n",
    "#output\n",
    "print(results)\n",
    "\n",
    "optimizedResults = pd.DataFrame(results['x'])\n",
    "\n",
    "# print our optimized results\n",
    "getPfReturn(weights=results[\"x\"])\n",
    "optimizedResults.index = returns_df.columns\n",
    "print(optimizedResults)"
   ]
  },
  {
   "cell_type": "markdown",
   "id": "c538bb61",
   "metadata": {},
   "source": [
    "### rechecking the strength of your portfolio : isabel's\n",
    "\n",
    "go back to pyfolio--> will integrate after we recheck the working code"
   ]
  }
 ],
 "metadata": {
  "kernelspec": {
   "display_name": "Python 3",
   "language": "python",
   "name": "python3"
  },
  "language_info": {
   "codemirror_mode": {
    "name": "ipython",
    "version": 3
   },
   "file_extension": ".py",
   "mimetype": "text/x-python",
   "name": "python",
   "nbconvert_exporter": "python",
   "pygments_lexer": "ipython3",
   "version": "3.10.6"
  }
 },
 "nbformat": 4,
 "nbformat_minor": 5
}
