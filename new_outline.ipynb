{
  "cells": [
    {
      "cell_type": "markdown",
      "id": "a21a0bd5",
      "metadata": {
        "id": "a21a0bd5"
      },
      "source": [
        "### Introduction: Applying Computational Thinking to Personal Finance and Portfolio Analysis\n",
        "In an era where financial independence is closely tied to the ability to make strategic investment decisions, understanding the mechanics of saving and investing has become a critical life skill. Yet, while many individuals understand the importance of saving, few have the tools or knowledge required to evaluate how different financial strategies—and especially investment decisions—impact long-term outcomes. This tutorial addresses that gap by introducing students to essential concepts in personal finance and portfolio analysis through a computational and data-driven approach.\n",
        "\n",
        "This tutorial begins by building a foundation in core savings principles. Learners will explore the functionality of common financial instruments such as high-yield savings accounts, 401(k)s, and Roth IRAs. Through interactive inputs and simulations, students will see how interest rates, compound growth, and tax advantages affect returns over time. These early exercises aim to demonstrate the value of starting early, contributing consistently, and choosing the right savings vehicles for one’s personal financial goals.\n",
        "\n",
        "Building on this foundation, the tutorial then transitions into a more advanced, investment-focused module: constructing and evaluating a personalized stock portfolio. Students will be guided through the process of:\n",
        "- Selecting their own breakdown of stocks to form a diversified portfolio based on individual risk preferences or interests.\n",
        "\n",
        "- Evaluating the strength of their chosen portfolio using historical data and key financial metrics.\n",
        "\n",
        "- Simulating potential future outcomes through Monte Carlo simulations, which model thousands of possible future scenarios to account for uncertainty and market volatility.\n",
        "\n",
        "- Optimizing the stock allocation using algorithmic methods that balance return potential with risk, aiming for the most efficient use of investment capital.\n",
        "\n",
        "- Rechecking the portfolio’s strength after optimization, to reflect the improvements made and demonstrate the impact of computational adjustments on financial performance.\n",
        "\n",
        "\n",
        "Throughout this tutorial, students will employ principles from computer science—such as data modeling, simulations, algorithmic thinking, and data visualization—to analyze financial data and make informed decisions. By the end of the tutorial, students will have developed not only a deeper understanding of financial literacy but also a practical appreciation for how computational tools can empower individuals to manage their personal wealth more effectively.\n",
        "\n",
        "This interdisciplinary exploration is designed to equip learners with a strong foundation in both personal finance and applied computation—skills that are increasingly essential in today’s data-rich, financially complex world."
      ]
    },
    {
      "cell_type": "markdown",
      "id": "1fcde335",
      "metadata": {
        "id": "1fcde335"
      },
      "source": [
        "### Disclaimer\n",
        "\n",
        "**No Guarantee of Accuracy:** While Isabel, Luna, and Nirantheri strive to provide accurate and up-to-date information, they do not guarantee the accuracy, completeness, or reliability of any content. Users should independently verify any information before making financial or investment decisions based on it.\n",
        "\n",
        "\n",
        "**Investment Risks:** Investing involves inherent risks, including but not limited to market fluctuations, economic uncertainty, geopolitical events, and individual asset performance. Past performance is not indicative of future results, and no content provided implies a guarantee of investment success.\n",
        "\n",
        "**Limitation of Liability:** Mentions of specific financial products, services, companies, or securities within the content do not constitute endorsements or recommendations. Users are responsible for conducting their own research and due diligence.\n",
        "\n",
        "**No Liability:** Isabel, Luna, Nirantheri, and their affiliates, partners, or contributors shall not be held liable for any loss, damage, or expense resulting from the use of or reliance on the provided information. All investment decisions made based on this content are the sole responsibility of the user.\n",
        "\n",
        "**Disclaimer Updates:** This disclaimer is subject to change without notice. Users are responsible for reviewing it periodically to stay informed of any updates.\n",
        "\n"
      ]
    },
    {
      "cell_type": "markdown",
      "id": "5b4b991e",
      "metadata": {
        "id": "5b4b991e"
      },
      "source": [
        "### Required Packages\n",
        "If the \"Module not found\" error shows up, use the requirements.txt file to download the missing packages.\n",
        "\n",
        "```\n",
        "pip install -r /path/to/requirements.txt\n",
        "```"
      ]
    },
    {
      "cell_type": "code",
      "execution_count": null,
      "id": "4102a911",
      "metadata": {
        "id": "4102a911"
      },
      "outputs": [],
      "source": [
        "from IPython.display import display\n",
        "\n",
        "import matplotlib.pyplot as plt\n",
        "%matplotlib inline\n",
        "\n",
        "#alphabetical\n",
        "import altair as alt\n",
        "import ipywidgets as widgets\n",
        "import numpy as np\n",
        "import pandas as pd\n",
        "import quantstats.stats as stats\n",
        "from scipy.optimize import minimize\n",
        "from scipy.stats import norm\n",
        "import yfinance as yf\n",
        "\n"
      ]
    },
    {
      "cell_type": "markdown",
      "id": "07c04a66",
      "metadata": {
        "id": "07c04a66"
      },
      "source": [
        "### Choosing stocks for a portfolio\n",
        "\n",
        "First, you can select the stocks in your simulated portfolio. Ctrl+ Click your stocks"
      ]
    },
    {
      "cell_type": "code",
      "execution_count": null,
      "id": "7af31160",
      "metadata": {
        "id": "7af31160",
        "outputId": "9f7d71e1-0502-41d7-cb80-26c0ed5f76ee",
        "colab": {
          "referenced_widgets": [
            "67f4e82e58f34261aaa37a1b6c79140a"
          ]
        }
      },
      "outputs": [
        {
          "data": {
            "application/vnd.jupyter.widget-view+json": {
              "model_id": "67f4e82e58f34261aaa37a1b6c79140a",
              "version_major": 2,
              "version_minor": 0
            },
            "text/plain": [
              "SelectMultiple(description='Stocks', options=('Apple', 'Costco', 'Microsoft', 'Google', 'Starbucks', 'Tyson Fo…"
            ]
          },
          "metadata": {},
          "output_type": "display_data"
        }
      ],
      "source": [
        "codes = {\"Apple\": 'AAPL',\n",
        "        \"Costco\": 'COST',\n",
        "        \"Microsoft\": 'MSFT',\n",
        "        \"Google\": 'GOOG',\n",
        "        \"Starbucks\":'SBUX',\n",
        "        \"Tyson Foods\": 'TSN',\n",
        "        \"Intel Corp\":'INTC',\n",
        "        \"Walmart\": 'WMT',\n",
        "        \"Amazon\":'AMZN',\n",
        "        \"BJ's Wholesale Club\":'BJ',\n",
        "        \"Toyota\":'TM',\n",
        "        \"S&P 500\": '^GSPC',\n",
        "        \"Dow Jones Industrial\": '^DJI',\n",
        "        \"Nasdaq\": '^IXIC',\n",
        "        \"Vanguard S&P 500 ETF\": 'VOO',\n",
        "        \"Fidelity 500 Index Fund\": 'FXAIX',\n",
        "        \"Gold\":'GLD'}\n",
        "\n",
        "codes.keys()\n",
        "\n",
        "\n",
        "choices = widgets.SelectMultiple(\n",
        "    options=codes.keys(),\n",
        "    value=[],\n",
        "    rows=20,\n",
        "    description='Stocks',\n",
        "    disabled=False\n",
        ")\n",
        "\n",
        "display(choices)"
      ]
    },
    {
      "cell_type": "markdown",
      "id": "52f0405d",
      "metadata": {
        "id": "52f0405d"
      },
      "source": [
        "### Picking your own breakdown of stocks : Nirantheri\n",
        "\n",
        "<!-- clarifying what the breakdown of stocks is, why are we doing this -->\n",
        "\n",
        "Without rerunning the previous code chunk, run the next one and input your allocation amounts as a decimal ex (0.3 or .5). Make sure they add up to 1! This step will allow you to invest in each stock proportionally.\n",
        "<!--\n",
        "[setup using the above code chunk](https://ipywidgets.readthedocs.io/en/7.x/examples/Widget%20List.html#Tabs) -->"
      ]
    },
    {
      "cell_type": "code",
      "execution_count": null,
      "id": "35f83dbc",
      "metadata": {
        "id": "35f83dbc",
        "outputId": "8143cce5-d5df-4b2c-efdf-68cd73f4e5ea",
        "colab": {
          "referenced_widgets": [
            "fe5c1da1e4594c5bbd2505856a37b8cf"
          ]
        }
      },
      "outputs": [
        {
          "data": {
            "application/vnd.jupyter.widget-view+json": {
              "model_id": "fe5c1da1e4594c5bbd2505856a37b8cf",
              "version_major": 2,
              "version_minor": 0
            },
            "text/plain": [
              "Tab()"
            ]
          },
          "execution_count": 12,
          "metadata": {},
          "output_type": "execute_result"
        }
      ],
      "source": [
        "# get codes for further down\n",
        "portfolio = []\n",
        "\n",
        "for i in range(len(choices.value)):\n",
        "    portfolio.append(codes[choices.value[i]])\n",
        "\n",
        "# pick distribution\n",
        "\n",
        "tab_contents = [\"Value\"] * len(choices.value)\n",
        "children = [widgets.Text(description=name) for name in tab_contents]\n",
        "tab = widgets.Tab()\n",
        "tab.children = children\n",
        "tab.titles = choices.value\n",
        "\n",
        "tab"
      ]
    },
    {
      "cell_type": "markdown",
      "id": "29b9a5e2",
      "metadata": {
        "id": "29b9a5e2"
      },
      "source": [
        "The following code is to match the allocation amounts to the stock codes given the inputs from above. You don't need to do anything here!"
      ]
    },
    {
      "cell_type": "code",
      "execution_count": null,
      "id": "985e3e8b",
      "metadata": {
        "id": "985e3e8b"
      },
      "outputs": [],
      "source": [
        "# matching allocation amounts to stock codes given inputs from above\n",
        "\n",
        "allocations = {}\n",
        "\n",
        "for i in range(len(tab.children)):\n",
        "    allocations[portfolio[i]]=tab.children[i].value\n"
      ]
    },
    {
      "cell_type": "markdown",
      "id": "ce27bfeb",
      "metadata": {
        "id": "ce27bfeb"
      },
      "source": [
        "### Interested in testing out your own set of stocks?\n",
        "\n",
        "Feel free to create your own allocation dictionary. Make sure each entry is of the format \"STOCK TICKER\": allocation amount. Fill it in as you desire and click run to make sure that your custom allocations are used, even if you didn't run the above lines. Otherwise our default set of stocks will be used!\n",
        "\n",
        "NOTE: for index funds, you have to prefix them with \"^\""
      ]
    },
    {
      "cell_type": "code",
      "execution_count": null,
      "id": "d9363a96",
      "metadata": {
        "id": "d9363a96"
      },
      "outputs": [],
      "source": [
        "# Here's an example of what your dictionary can look like\n",
        "\n",
        "# {'AAPL':'0.4', 'MSFT':'0.3',  '^IXIC':'0.3'}\n",
        "\n",
        "allocations = {}"
      ]
    },
    {
      "cell_type": "markdown",
      "id": "a1f4eed5",
      "metadata": {
        "id": "a1f4eed5"
      },
      "source": [
        "### Pulling each stock's data history using the YahooFinance API\n",
        "\n",
        "Using the list of stocks in our dictionary, the below code will grab the data for each stock."
      ]
    },
    {
      "cell_type": "code",
      "execution_count": null,
      "id": "ace55141",
      "metadata": {
        "id": "ace55141",
        "outputId": "0e97dab8-be7e-4257-d4ca-6eabbcc87d5b"
      },
      "outputs": [
        {
          "ename": "YFRateLimitError",
          "evalue": "Too Many Requests. Rate limited. Try after a while.",
          "output_type": "error",
          "traceback": [
            "\u001b[1;31m---------------------------------------------------------------------------\u001b[0m",
            "\u001b[1;31mYFRateLimitError\u001b[0m                          Traceback (most recent call last)",
            "Input \u001b[1;32mIn [15]\u001b[0m, in \u001b[0;36m<cell line: 12>\u001b[1;34m()\u001b[0m\n\u001b[0;32m     12\u001b[0m \u001b[38;5;28;01mfor\u001b[39;00m x \u001b[38;5;129;01min\u001b[39;00m testList:\n\u001b[0;32m     13\u001b[0m     ticker \u001b[38;5;241m=\u001b[39m yf\u001b[38;5;241m.\u001b[39mTicker(x)\n\u001b[1;32m---> 14\u001b[0m     dataframes[x] \u001b[38;5;241m=\u001b[39m \u001b[43mticker\u001b[49m\u001b[38;5;241;43m.\u001b[39;49m\u001b[43mhistory\u001b[49m\u001b[43m(\u001b[49m\u001b[43mperiod\u001b[49m\u001b[38;5;241;43m=\u001b[39;49m\u001b[38;5;124;43m'\u001b[39;49m\u001b[38;5;124;43m1mo\u001b[39;49m\u001b[38;5;124;43m'\u001b[39;49m\u001b[43m,\u001b[49m\u001b[43m \u001b[49m\u001b[43mstart\u001b[49m\u001b[38;5;241;43m=\u001b[39;49m\u001b[38;5;124;43m'\u001b[39;49m\u001b[38;5;124;43m2015-01-01\u001b[39;49m\u001b[38;5;124;43m'\u001b[39;49m\u001b[43m,\u001b[49m\u001b[43m \u001b[49m\u001b[43mauto_adjust\u001b[49m\u001b[38;5;241;43m=\u001b[39;49m\u001b[38;5;28;43;01mTrue\u001b[39;49;00m\u001b[43m)\u001b[49m\n",
            "File \u001b[1;32mc:\\Users\\meand\\AppData\\Local\\Programs\\Python\\Python310\\lib\\site-packages\\yfinance\\utils.py:104\u001b[0m, in \u001b[0;36mlog_indent_decorator.<locals>.wrapper\u001b[1;34m(*args, **kwargs)\u001b[0m\n\u001b[0;32m    101\u001b[0m logger\u001b[38;5;241m.\u001b[39mdebug(\u001b[38;5;124mf\u001b[39m\u001b[38;5;124m'\u001b[39m\u001b[38;5;124mEntering \u001b[39m\u001b[38;5;132;01m{\u001b[39;00mfunc\u001b[38;5;241m.\u001b[39m\u001b[38;5;18m__name__\u001b[39m\u001b[38;5;132;01m}\u001b[39;00m\u001b[38;5;124m()\u001b[39m\u001b[38;5;124m'\u001b[39m)\n\u001b[0;32m    103\u001b[0m \u001b[38;5;28;01mwith\u001b[39;00m IndentationContext():\n\u001b[1;32m--> 104\u001b[0m     result \u001b[38;5;241m=\u001b[39m func(\u001b[38;5;241m*\u001b[39margs, \u001b[38;5;241m*\u001b[39m\u001b[38;5;241m*\u001b[39mkwargs)\n\u001b[0;32m    106\u001b[0m logger\u001b[38;5;241m.\u001b[39mdebug(\u001b[38;5;124mf\u001b[39m\u001b[38;5;124m'\u001b[39m\u001b[38;5;124mExiting \u001b[39m\u001b[38;5;132;01m{\u001b[39;00mfunc\u001b[38;5;241m.\u001b[39m\u001b[38;5;18m__name__\u001b[39m\u001b[38;5;132;01m}\u001b[39;00m\u001b[38;5;124m()\u001b[39m\u001b[38;5;124m'\u001b[39m)\n\u001b[0;32m    107\u001b[0m \u001b[38;5;28;01mreturn\u001b[39;00m result\n",
            "File \u001b[1;32mc:\\Users\\meand\\AppData\\Local\\Programs\\Python\\Python310\\lib\\site-packages\\yfinance\\base.py:82\u001b[0m, in \u001b[0;36mTickerBase.history\u001b[1;34m(self, *args, **kwargs)\u001b[0m\n\u001b[0;32m     80\u001b[0m \u001b[38;5;129m@utils\u001b[39m\u001b[38;5;241m.\u001b[39mlog_indent_decorator\n\u001b[0;32m     81\u001b[0m \u001b[38;5;28;01mdef\u001b[39;00m \u001b[38;5;21mhistory\u001b[39m(\u001b[38;5;28mself\u001b[39m, \u001b[38;5;241m*\u001b[39margs, \u001b[38;5;241m*\u001b[39m\u001b[38;5;241m*\u001b[39mkwargs) \u001b[38;5;241m-\u001b[39m\u001b[38;5;241m>\u001b[39m pd\u001b[38;5;241m.\u001b[39mDataFrame:\n\u001b[1;32m---> 82\u001b[0m     \u001b[38;5;28;01mreturn\u001b[39;00m \u001b[38;5;28mself\u001b[39m\u001b[38;5;241m.\u001b[39m_lazy_load_price_history()\u001b[38;5;241m.\u001b[39mhistory(\u001b[38;5;241m*\u001b[39margs, \u001b[38;5;241m*\u001b[39m\u001b[38;5;241m*\u001b[39mkwargs)\n",
            "File \u001b[1;32mc:\\Users\\meand\\AppData\\Local\\Programs\\Python\\Python310\\lib\\site-packages\\yfinance\\utils.py:104\u001b[0m, in \u001b[0;36mlog_indent_decorator.<locals>.wrapper\u001b[1;34m(*args, **kwargs)\u001b[0m\n\u001b[0;32m    101\u001b[0m logger\u001b[38;5;241m.\u001b[39mdebug(\u001b[38;5;124mf\u001b[39m\u001b[38;5;124m'\u001b[39m\u001b[38;5;124mEntering \u001b[39m\u001b[38;5;132;01m{\u001b[39;00mfunc\u001b[38;5;241m.\u001b[39m\u001b[38;5;18m__name__\u001b[39m\u001b[38;5;132;01m}\u001b[39;00m\u001b[38;5;124m()\u001b[39m\u001b[38;5;124m'\u001b[39m)\n\u001b[0;32m    103\u001b[0m \u001b[38;5;28;01mwith\u001b[39;00m IndentationContext():\n\u001b[1;32m--> 104\u001b[0m     result \u001b[38;5;241m=\u001b[39m func(\u001b[38;5;241m*\u001b[39margs, \u001b[38;5;241m*\u001b[39m\u001b[38;5;241m*\u001b[39mkwargs)\n\u001b[0;32m    106\u001b[0m logger\u001b[38;5;241m.\u001b[39mdebug(\u001b[38;5;124mf\u001b[39m\u001b[38;5;124m'\u001b[39m\u001b[38;5;124mExiting \u001b[39m\u001b[38;5;132;01m{\u001b[39;00mfunc\u001b[38;5;241m.\u001b[39m\u001b[38;5;18m__name__\u001b[39m\u001b[38;5;132;01m}\u001b[39;00m\u001b[38;5;124m()\u001b[39m\u001b[38;5;124m'\u001b[39m)\n\u001b[0;32m    107\u001b[0m \u001b[38;5;28;01mreturn\u001b[39;00m result\n",
            "File \u001b[1;32mc:\\Users\\meand\\AppData\\Local\\Programs\\Python\\Python310\\lib\\site-packages\\yfinance\\scrapers\\history.py:175\u001b[0m, in \u001b[0;36mPriceHistory.history\u001b[1;34m(self, period, interval, start, end, prepost, actions, auto_adjust, back_adjust, repair, keepna, proxy, rounding, timeout, raise_errors)\u001b[0m\n\u001b[0;32m    173\u001b[0m         get_fn \u001b[38;5;241m=\u001b[39m \u001b[38;5;28mself\u001b[39m\u001b[38;5;241m.\u001b[39m_data\u001b[38;5;241m.\u001b[39mcache_get\n\u001b[0;32m    174\u001b[0m \u001b[38;5;28;01mtry\u001b[39;00m:\n\u001b[1;32m--> 175\u001b[0m     data \u001b[38;5;241m=\u001b[39m \u001b[43mget_fn\u001b[49m\u001b[43m(\u001b[49m\n\u001b[0;32m    176\u001b[0m \u001b[43m        \u001b[49m\u001b[43murl\u001b[49m\u001b[38;5;241;43m=\u001b[39;49m\u001b[43murl\u001b[49m\u001b[43m,\u001b[49m\n\u001b[0;32m    177\u001b[0m \u001b[43m        \u001b[49m\u001b[43mparams\u001b[49m\u001b[38;5;241;43m=\u001b[39;49m\u001b[43mparams\u001b[49m\u001b[43m,\u001b[49m\n\u001b[0;32m    178\u001b[0m \u001b[43m        \u001b[49m\u001b[43mproxy\u001b[49m\u001b[38;5;241;43m=\u001b[39;49m\u001b[43mproxy\u001b[49m\u001b[43m,\u001b[49m\n\u001b[0;32m    179\u001b[0m \u001b[43m        \u001b[49m\u001b[43mtimeout\u001b[49m\u001b[38;5;241;43m=\u001b[39;49m\u001b[43mtimeout\u001b[49m\n\u001b[0;32m    180\u001b[0m \u001b[43m    \u001b[49m\u001b[43m)\u001b[49m\n\u001b[0;32m    181\u001b[0m     \u001b[38;5;28;01mif\u001b[39;00m \u001b[38;5;124m\"\u001b[39m\u001b[38;5;124mWill be right back\u001b[39m\u001b[38;5;124m\"\u001b[39m \u001b[38;5;129;01min\u001b[39;00m data\u001b[38;5;241m.\u001b[39mtext \u001b[38;5;129;01mor\u001b[39;00m data \u001b[38;5;129;01mis\u001b[39;00m \u001b[38;5;28;01mNone\u001b[39;00m:\n\u001b[0;32m    182\u001b[0m         \u001b[38;5;28;01mraise\u001b[39;00m \u001b[38;5;167;01mRuntimeError\u001b[39;00m(\u001b[38;5;124m\"\u001b[39m\u001b[38;5;124m*** YAHOO! FINANCE IS CURRENTLY DOWN! ***\u001b[39m\u001b[38;5;130;01m\\n\u001b[39;00m\u001b[38;5;124m\"\u001b[39m\n\u001b[0;32m    183\u001b[0m                            \u001b[38;5;124m\"\u001b[39m\u001b[38;5;124mOur engineers are working quickly to resolve \u001b[39m\u001b[38;5;124m\"\u001b[39m\n\u001b[0;32m    184\u001b[0m                            \u001b[38;5;124m\"\u001b[39m\u001b[38;5;124mthe issue. Thank you for your patience.\u001b[39m\u001b[38;5;124m\"\u001b[39m)\n",
            "File \u001b[1;32mc:\\Users\\meand\\AppData\\Local\\Programs\\Python\\Python310\\lib\\site-packages\\yfinance\\utils.py:104\u001b[0m, in \u001b[0;36mlog_indent_decorator.<locals>.wrapper\u001b[1;34m(*args, **kwargs)\u001b[0m\n\u001b[0;32m    101\u001b[0m logger\u001b[38;5;241m.\u001b[39mdebug(\u001b[38;5;124mf\u001b[39m\u001b[38;5;124m'\u001b[39m\u001b[38;5;124mEntering \u001b[39m\u001b[38;5;132;01m{\u001b[39;00mfunc\u001b[38;5;241m.\u001b[39m\u001b[38;5;18m__name__\u001b[39m\u001b[38;5;132;01m}\u001b[39;00m\u001b[38;5;124m()\u001b[39m\u001b[38;5;124m'\u001b[39m)\n\u001b[0;32m    103\u001b[0m \u001b[38;5;28;01mwith\u001b[39;00m IndentationContext():\n\u001b[1;32m--> 104\u001b[0m     result \u001b[38;5;241m=\u001b[39m func(\u001b[38;5;241m*\u001b[39margs, \u001b[38;5;241m*\u001b[39m\u001b[38;5;241m*\u001b[39mkwargs)\n\u001b[0;32m    106\u001b[0m logger\u001b[38;5;241m.\u001b[39mdebug(\u001b[38;5;124mf\u001b[39m\u001b[38;5;124m'\u001b[39m\u001b[38;5;124mExiting \u001b[39m\u001b[38;5;132;01m{\u001b[39;00mfunc\u001b[38;5;241m.\u001b[39m\u001b[38;5;18m__name__\u001b[39m\u001b[38;5;132;01m}\u001b[39;00m\u001b[38;5;124m()\u001b[39m\u001b[38;5;124m'\u001b[39m)\n\u001b[0;32m    107\u001b[0m \u001b[38;5;28;01mreturn\u001b[39;00m result\n",
            "File \u001b[1;32mc:\\Users\\meand\\AppData\\Local\\Programs\\Python\\Python310\\lib\\site-packages\\yfinance\\data.py:349\u001b[0m, in \u001b[0;36mYfData.get\u001b[1;34m(self, url, user_agent_headers, params, proxy, timeout)\u001b[0m\n\u001b[0;32m    347\u001b[0m \u001b[38;5;129m@utils\u001b[39m\u001b[38;5;241m.\u001b[39mlog_indent_decorator\n\u001b[0;32m    348\u001b[0m \u001b[38;5;28;01mdef\u001b[39;00m \u001b[38;5;21mget\u001b[39m(\u001b[38;5;28mself\u001b[39m, url, user_agent_headers\u001b[38;5;241m=\u001b[39m\u001b[38;5;28;01mNone\u001b[39;00m, params\u001b[38;5;241m=\u001b[39m\u001b[38;5;28;01mNone\u001b[39;00m, proxy\u001b[38;5;241m=\u001b[39m\u001b[38;5;28;01mNone\u001b[39;00m, timeout\u001b[38;5;241m=\u001b[39m\u001b[38;5;241m30\u001b[39m):\n\u001b[1;32m--> 349\u001b[0m     \u001b[38;5;28;01mreturn\u001b[39;00m \u001b[38;5;28;43mself\u001b[39;49m\u001b[38;5;241;43m.\u001b[39;49m\u001b[43m_make_request\u001b[49m\u001b[43m(\u001b[49m\u001b[43murl\u001b[49m\u001b[43m,\u001b[49m\u001b[43m \u001b[49m\u001b[43mrequest_method\u001b[49m\u001b[43m \u001b[49m\u001b[38;5;241;43m=\u001b[39;49m\u001b[43m \u001b[49m\u001b[38;5;28;43mself\u001b[39;49m\u001b[38;5;241;43m.\u001b[39;49m\u001b[43m_session\u001b[49m\u001b[38;5;241;43m.\u001b[39;49m\u001b[43mget\u001b[49m\u001b[43m,\u001b[49m\u001b[43m \u001b[49m\u001b[43muser_agent_headers\u001b[49m\u001b[38;5;241;43m=\u001b[39;49m\u001b[43muser_agent_headers\u001b[49m\u001b[43m,\u001b[49m\u001b[43m \u001b[49m\u001b[43mparams\u001b[49m\u001b[38;5;241;43m=\u001b[39;49m\u001b[43mparams\u001b[49m\u001b[43m,\u001b[49m\u001b[43m \u001b[49m\u001b[43mproxy\u001b[49m\u001b[38;5;241;43m=\u001b[39;49m\u001b[43mproxy\u001b[49m\u001b[43m,\u001b[49m\u001b[43m \u001b[49m\u001b[43mtimeout\u001b[49m\u001b[38;5;241;43m=\u001b[39;49m\u001b[43mtimeout\u001b[49m\u001b[43m)\u001b[49m\n",
            "File \u001b[1;32mc:\\Users\\meand\\AppData\\Local\\Programs\\Python\\Python310\\lib\\site-packages\\yfinance\\utils.py:104\u001b[0m, in \u001b[0;36mlog_indent_decorator.<locals>.wrapper\u001b[1;34m(*args, **kwargs)\u001b[0m\n\u001b[0;32m    101\u001b[0m logger\u001b[38;5;241m.\u001b[39mdebug(\u001b[38;5;124mf\u001b[39m\u001b[38;5;124m'\u001b[39m\u001b[38;5;124mEntering \u001b[39m\u001b[38;5;132;01m{\u001b[39;00mfunc\u001b[38;5;241m.\u001b[39m\u001b[38;5;18m__name__\u001b[39m\u001b[38;5;132;01m}\u001b[39;00m\u001b[38;5;124m()\u001b[39m\u001b[38;5;124m'\u001b[39m)\n\u001b[0;32m    103\u001b[0m \u001b[38;5;28;01mwith\u001b[39;00m IndentationContext():\n\u001b[1;32m--> 104\u001b[0m     result \u001b[38;5;241m=\u001b[39m func(\u001b[38;5;241m*\u001b[39margs, \u001b[38;5;241m*\u001b[39m\u001b[38;5;241m*\u001b[39mkwargs)\n\u001b[0;32m    106\u001b[0m logger\u001b[38;5;241m.\u001b[39mdebug(\u001b[38;5;124mf\u001b[39m\u001b[38;5;124m'\u001b[39m\u001b[38;5;124mExiting \u001b[39m\u001b[38;5;132;01m{\u001b[39;00mfunc\u001b[38;5;241m.\u001b[39m\u001b[38;5;18m__name__\u001b[39m\u001b[38;5;132;01m}\u001b[39;00m\u001b[38;5;124m()\u001b[39m\u001b[38;5;124m'\u001b[39m)\n\u001b[0;32m    107\u001b[0m \u001b[38;5;28;01mreturn\u001b[39;00m result\n",
            "File \u001b[1;32mc:\\Users\\meand\\AppData\\Local\\Programs\\Python\\Python310\\lib\\site-packages\\yfinance\\data.py:411\u001b[0m, in \u001b[0;36mYfData._make_request\u001b[1;34m(self, url, request_method, user_agent_headers, body, params, proxy, timeout)\u001b[0m\n\u001b[0;32m    409\u001b[0m     \u001b[38;5;66;03m# Raise exception if rate limited\u001b[39;00m\n\u001b[0;32m    410\u001b[0m     \u001b[38;5;28;01mif\u001b[39;00m response\u001b[38;5;241m.\u001b[39mstatus_code \u001b[38;5;241m==\u001b[39m \u001b[38;5;241m429\u001b[39m:\n\u001b[1;32m--> 411\u001b[0m         \u001b[38;5;28;01mraise\u001b[39;00m YFRateLimitError()\n\u001b[0;32m    413\u001b[0m \u001b[38;5;28;01mreturn\u001b[39;00m response\n",
            "\u001b[1;31mYFRateLimitError\u001b[0m: Too Many Requests. Rate limited. Try after a while."
          ]
        }
      ],
      "source": [
        "if len(portfolio)==0: # for default values\n",
        "    allocations={'AAPL':'0.1', 'MSFT':'0.1',  '^IXIC':'0.1', 'COST': '0.1', 'WMT': '0.1', 'AMZN':'0.1', '^GSPC':'0.1', 'SBUX':'0.1', 'TSN':'0.1','INTC':'0.1'}\n",
        "    portfolio = list(allocations.keys())\n",
        "\n",
        "testList=list(allocations.keys())\n",
        "testString = ' '.join(testList)\n",
        "\n",
        "tickersPull = yf.Tickers(testString)\n",
        "\n",
        "#in the dictionary dataframes, each ticker is indexed by its ticker as seen in the testList (auto_adjust accounts for splits and dividends)\n",
        "dataframes = {}\n",
        "for x in testList:\n",
        "    ticker = yf.Ticker(x)\n",
        "    dataframes[x] = ticker.history(period='1mo', start='2015-01-01', auto_adjust=True)"
      ]
    },
    {
      "cell_type": "markdown",
      "id": "441b5a5a",
      "metadata": {
        "id": "441b5a5a"
      },
      "source": [
        "### How do we calculate returns?\n",
        "\n",
        "<!-- have we defined returns at this point? -->\n",
        "\n",
        "To calculate the returns, we want to find the adjusted value of each stock amount from the date of the initial investment. We can write a function to do this with a set of inputs-- an initial portfolio value, the set of dataframes for each stock, and the breakdown of allocations  <!-- and perhaps even an initial date of investment.  -->"
      ]
    },
    {
      "cell_type": "code",
      "execution_count": null,
      "id": "b105647a",
      "metadata": {
        "id": "b105647a"
      },
      "outputs": [],
      "source": [
        "def calculate_returns(initial_portfolio_val, dataframe, allocations):\n",
        "    all_pos_vals = []\n",
        "\n",
        "    for stock_name in dataframe:\n",
        "        # grab the dataframe for a single stock\n",
        "        stock_df = dataframe[stock_name]\n",
        "        # create normed return column\n",
        "        stock_df['Normed Return'] = stock_df['Close'] /stock_df.iloc[0]['Close']\n",
        "\n",
        "        # use normed return to adjust the percentage of portfolio held\n",
        "        allocation = float(allocations[stock_name])  # Convert allocation to float\n",
        "        stock_df['Allocation'] = stock_df['Normed Return']*allocation\n",
        "\n",
        "        # find value of stock at each date\n",
        "        stock_df['Position Value'] = stock_df['Allocation']*initial_portfolio_val\n",
        "\n",
        "        # add to list of all position values\n",
        "        all_pos_vals.append(stock_df['Position Value'])\n",
        "\n",
        "    # concatenate the list of position values\n",
        "    portfolio_val = pd.concat(all_pos_vals, axis=1)\n",
        "\n",
        "    # set the column names\n",
        "    portfolio_val.columns = portfolio\n",
        "\n",
        "    # add a total portfolio column\n",
        "    portfolio_val['Total'] = portfolio_val.sum(axis=1)\n",
        "\n",
        "    # changing date to column not index\n",
        "    portfolio_val = portfolio_val.reset_index()\n",
        "\n",
        "    return portfolio_val\n",
        "\n"
      ]
    },
    {
      "cell_type": "markdown",
      "id": "11ba91b5",
      "metadata": {
        "id": "11ba91b5"
      },
      "source": [
        "Then we can create a graphical representation of each of the stocks' growths over time as well as the portfolio's overall growth. To get an overall number rather than using every single data point, we can use a resampling function to grab the last day of each month in the data. Then we can create a graphing function which can graph both the total value of the portfolio over time as well as the breakdown of each stock's value while showing the value as you hover over it."
      ]
    },
    {
      "cell_type": "code",
      "execution_count": null,
      "id": "c4a4a2ec",
      "metadata": {
        "id": "c4a4a2ec"
      },
      "outputs": [],
      "source": [
        "def graph_returns(returns, show_total, show_individual):\n",
        "\n",
        "    # resampling values\n",
        "    portfolio_val = returns.resample('ME', on='Date').last().reset_index()\n",
        "\n",
        "    if show_total:\n",
        "        # only need the total column\n",
        "        data = portfolio_val.drop(portfolio, axis=1)\n",
        "        pivoted_data_total = data.melt(id_vars=\"Date\", var_name=\"Stock\", value_name=\"Value\")\n",
        "\n",
        "        grapher(pivoted_data_total).display()\n",
        "\n",
        "\n",
        "\n",
        "    if show_individual:\n",
        "        pivoted_data_individual = portfolio_val.melt(id_vars=\"Date\", value_vars = portfolio, var_name=\"Stock\", value_name=\"Value\")\n",
        "\n",
        "        grapher(pivoted_data_individual).display()\n",
        "\n",
        "\n",
        "\n",
        "def grapher(pivoted_data):\n",
        "        # for stock vs total\n",
        "        portfolio = pivoted_data['Stock'].unique()\n",
        "\n",
        "        # set hovering conditions\n",
        "\n",
        "        nearest = alt.selection_point(nearest=True, on=\"mouseover\",fields=[\"Date\"], empty=False)\n",
        "\n",
        "        when_near = alt.when(nearest)\n",
        "\n",
        "        # create basis of the graph\n",
        "        basic_graph = alt.Chart(pivoted_data).mark_line().encode(\n",
        "            alt.X(\"Date:T\", title=\"Date\"),\n",
        "            alt.Y(\"Value:Q\", title=\"Portfolio Value\"),\n",
        "            alt.Color(\"Stock:N\", title=\"Stock\"),\n",
        "        ).interactive()\n",
        "\n",
        "        # Draw points on the line, and if I am \"near\" then make them visible\n",
        "        points = basic_graph.mark_point().encode(\n",
        "            opacity=when_near.then(alt.value(1)).otherwise(alt.value(0))\n",
        "        )\n",
        "\n",
        "        # add rule so that a line shows up where the mouse is, and shows every data point at the mouseover.\n",
        "        rules = alt.Chart(pivoted_data).transform_pivot(\n",
        "            \"Stock\",\n",
        "            value=\"Value\",\n",
        "            groupby=[\"Date\"]\n",
        "        ).mark_rule(color=\"gray\").encode(\n",
        "            x=\"Date:T\",\n",
        "            opacity=when_near.then(alt.value(0.3)).otherwise(alt.value(0)),\n",
        "            tooltip=[alt.Tooltip(stock, type=\"quantitative\", format=\".2f\") for stock in portfolio],\n",
        "        ).add_params(nearest)\n",
        "\n",
        "\n",
        "        # Put the data together\n",
        "        chart = alt.layer(\n",
        "            basic_graph, points, rules\n",
        "        ).properties(\n",
        "            width=600, height=300\n",
        "        )\n",
        "        return chart\n"
      ]
    },
    {
      "cell_type": "markdown",
      "id": "ff8c807f",
      "metadata": {
        "id": "ff8c807f"
      },
      "source": [
        "Now that we've created a projection of how our data has been growing over time, let's see what to expect!"
      ]
    },
    {
      "cell_type": "markdown",
      "source": [
        "## Visualizing Your Portfolio"
      ],
      "metadata": {
        "id": "sGyryTm_nQ-6"
      },
      "id": "sGyryTm_nQ-6"
    },
    {
      "cell_type": "markdown",
      "source": [
        "This plot shows how your portfolio value evolved over time using your initial stock allocations.\n",
        "\n",
        "- The **\"Total\" line** represents the entire portfolio’s value.\n",
        "- The **colored lines** show how much each individual stock contributed to the total.\n",
        "- **Hover over** the chart to see daily values and compare how stocks performed relative to each other.\n",
        "\n",
        "Questions to Ask Yourself:\n",
        "- Consistency: Do values rise steadily or fluctuate a lot?\n",
        "- Dominance: Are certain stocks pulling most of the weight?\n",
        "- Volatility: Are there sharp dips or spikes in certain assets?"
      ],
      "metadata": {
        "id": "Rqr5PpS0nYDU"
      },
      "id": "Rqr5PpS0nYDU"
    },
    {
      "cell_type": "code",
      "execution_count": null,
      "id": "8813431d",
      "metadata": {
        "id": "8813431d"
      },
      "outputs": [],
      "source": [
        "initial_investment_amount = 1e6\n",
        "\n",
        "returns = calculate_returns(initial_investment_amount, dataframes, allocations)\n",
        "\n",
        "graph_returns(returns, True, True)"
      ]
    },
    {
      "cell_type": "markdown",
      "id": "cdea0ef3",
      "metadata": {
        "id": "cdea0ef3"
      },
      "source": [
        "## 🧾 Portfolio Strength Breakdown\n",
        "**How do you know if your portfolio is actually working?**\n",
        "\n",
        "Think of your portfolio like a car — you wouldn’t drive it for miles without checking the engine, right? These metrics are your dashboard. They tell you whether you're cruising efficiently, burning too much fuel (aka risk), or heading toward a cliff. By regularly checking them, you’re not just investing — you’re investing intelligently. It's how you turn guessing into strategy.\n",
        "\n",
        "These metrics help you assess whether your portfolio is efficient, risky, or well-balanced — and give you data to improve it over time. We can write a function to return these values for us."
      ]
    },
    {
      "cell_type": "code",
      "execution_count": null,
      "id": "a486629e",
      "metadata": {
        "id": "a486629e"
      },
      "outputs": [],
      "source": [
        "def portfolio_stats(returns):\n",
        "    # Ensure datetime is clean\n",
        "    returns.set_index('Date', inplace=True)\n",
        "\n",
        "    # Daily returns from portfolio value\n",
        "    daily_returns = returns['Total'].pct_change().dropna()\n",
        "\n",
        "    # Grab specific stats\n",
        "    cagr = stats.cagr(daily_returns)\n",
        "    sharpe = stats.sharpe(daily_returns)\n",
        "    drawdown = stats.max_drawdown(daily_returns)\n",
        "    volatility = stats.volatility(daily_returns)\n",
        "    avg_return = stats.avg_return(daily_returns)\n",
        "\n",
        "    return {\"cagr\":cagr, \"sharpe\":sharpe, \"drawdown\":drawdown, \"volatility\":volatility, \"avg_return\":avg_return}\n"
      ]
    },
    {
      "cell_type": "markdown",
      "id": "eb8c5b3f",
      "metadata": {
        "id": "eb8c5b3f"
      },
      "source": [
        "Now that we've written a function for this, we can analyze the returns of our portfolio from above."
      ]
    },
    {
      "cell_type": "code",
      "execution_count": null,
      "id": "3dade3c9",
      "metadata": {
        "id": "3dade3c9"
      },
      "outputs": [],
      "source": [
        "portfolio_info = portfolio_stats(returns)"
      ]
    },
    {
      "cell_type": "markdown",
      "id": "749dfed2",
      "metadata": {
        "id": "749dfed2"
      },
      "source": [
        "#### Now let's analyze these metrics!"
      ]
    },
    {
      "cell_type": "markdown",
      "id": "aee6875c",
      "metadata": {
        "id": "aee6875c"
      },
      "source": [
        "**📈 CAGR (Compound Annual Growth Rate)**\n",
        "This shows the average annual growth of your portfolio over time. The higher, the better — it reflects long-term performance. A higher CAGR generally reflects strong long-term performance. For context, a CAGR of 10–15% is typically considered solid, especially when compared to market benchmarks like the S&P 500. [(Investopedia: CAGR)](https://www.investopedia.com/terms/c/cagr.asp#toc-what-is-a-good-cagr)"
      ]
    },
    {
      "cell_type": "code",
      "execution_count": null,
      "id": "7191e056",
      "metadata": {
        "id": "7191e056"
      },
      "outputs": [],
      "source": [
        "print(f\"📈 CAGR (Annual Return): {portfolio_info['cagr']:.2%}\")"
      ]
    },
    {
      "cell_type": "markdown",
      "id": "228c466c",
      "metadata": {
        "id": "228c466c"
      },
      "source": [
        "**📊 Sharpe Ratio:**  \n",
        "Measures your return per unit of risk. A Sharpe ratio above 1.0 is generally considered good. It means you're getting rewarded well for the volatility you’re taking on. A value above 1.0 suggests you're earning a good return for the amount of risk taken, while a ratio above 2.0 is considered excellent. Anything below 1.0 may indicate that returns aren’t efficiently compensating for risk. Sharpe ratios above 1 are generally considered “good,\" offering excess returns relative to volatility. However, investors often compare the Sharpe ratio of a portfolio or fund with those of its peers or market sector. [(Investopedia: Sharpe Ratio)](https://www.investopedia.com/terms/s/sharperatio.asp#toc-what-the-sharpe-ratio-can-tell-you)"
      ]
    },
    {
      "cell_type": "code",
      "execution_count": null,
      "id": "a34f9a10",
      "metadata": {
        "id": "a34f9a10"
      },
      "outputs": [],
      "source": [
        "print(f\"📊 Sharpe Ratio: {portfolio_info['sharpe']:.2f}\")"
      ]
    },
    {
      "cell_type": "markdown",
      "id": "6924e2ca",
      "metadata": {
        "id": "6924e2ca"
      },
      "source": [
        "**📉 Max Drawdown:**  \n",
        "The worst loss your portfolio experienced from peak to bottom. Lower drawdowns are better, as they reflect greater stability and less severe losses. A drawdown under 20% is generally seen as moderate, while anything over 30% may signal high risk or poor diversification. [(Investopedia: Max Drawdown)](https://www.investopedia.com/terms/d/drawdown.asp#toc-example-of-a-drawdown)"
      ]
    },
    {
      "cell_type": "markdown",
      "source": [],
      "metadata": {
        "id": "h9vvVFJZZeSM"
      },
      "id": "h9vvVFJZZeSM"
    },
    {
      "cell_type": "code",
      "execution_count": null,
      "id": "d581e4a0",
      "metadata": {
        "id": "d581e4a0"
      },
      "outputs": [],
      "source": [
        "print(f\"📉 Max Drawdown: {portfolio_info['drawdown']:.2%}\")"
      ]
    },
    {
      "cell_type": "markdown",
      "id": "23049816",
      "metadata": {
        "id": "23049816"
      },
      "source": [
        "**📈 Volatility:**  \n",
        "Reflects how much your portfolio's value fluctuates. High volatility can mean high risk — or high opportunity. Higher volatility can mean bigger gains — but also bigger losses. For comparison, broad market indices tend to have volatility in the 15–20% range; values much higher than that could mean the portfolio is more aggressive or unstable. [(Investopedia: Volatility)](https://www.investopedia.com/terms/v/volatility.asp)"
      ]
    },
    {
      "cell_type": "code",
      "execution_count": null,
      "id": "bd0d1f84",
      "metadata": {
        "id": "bd0d1f84"
      },
      "outputs": [],
      "source": [
        "print(f\"📈 Volatility: {portfolio_info['volatility']:.2%}\")"
      ]
    },
    {
      "cell_type": "markdown",
      "id": "1b5b7384",
      "metadata": {
        "id": "1b5b7384"
      },
      "source": [
        "**📅 Average Daily Return:**  \n",
        "The average return your portfolio gained (or lost) per trading day. Helps you see how it behaves short term. This captures how much the portfolio gains or loses on an average trading day. While daily gains may appear small in percentage terms, even modest positive averages can lead to significant annual growth through compounding. [(Investopedia: Average Return)](https://www.investopedia.com/terms/a/averagereturn.asp)"
      ]
    },
    {
      "cell_type": "code",
      "execution_count": null,
      "id": "48e75996",
      "metadata": {
        "id": "48e75996"
      },
      "outputs": [],
      "source": [
        "print(f\"📅 Average Daily Return: {portfolio_info['avg_return']:.4%}\")"
      ]
    },
    {
      "cell_type": "markdown",
      "id": "b9d2b93f",
      "metadata": {
        "id": "b9d2b93f"
      },
      "source": [
        "### Now we'll run a monte carlo simulation to try to estimate the predicted value of the stocks in future."
      ]
    },
    {
      "cell_type": "markdown",
      "id": "079acd29",
      "metadata": {
        "id": "079acd29"
      },
      "source": [
        "Monte Carlo simulations work by determining metrics of how \"random\" the motion of a given thing is, which for us will be stocks. It works by simulating lots, usually thousands, of random trials on randomly generated numbers modified to the distribution of a given stock. For any given day in our simulation, we will find the value of a stock using the equation $S_i = S_{i-1} * e^r$, where $S_i$ is the price on day $i$, $S_i$ is the price on the previous day, and $r$ is a factor that takes into account the drift and volatility of a stock. As we build our Monte Carlo function for a stock, we will learn about how all of these factors come together to simulate a stock's future.\n",
        "\n",
        "Our first goal will be to grab a small sample of historical data for a given stock, which will allow us to generate those $r$ values later on. We will choose a somewhat recent starting date, which we have set by default to be \"2015-01-01\", and we will pull the closing data for the stock we intend to analyze into a Pandas DataFrame."
      ]
    },
    {
      "cell_type": "code",
      "execution_count": null,
      "id": "aed0e8cb",
      "metadata": {
        "id": "aed0e8cb"
      },
      "outputs": [],
      "source": [
        "def import_stock_data(tickers, start = \"2015-01-01\"):\n",
        "    data = pd.DataFrame()\n",
        "    if len(tickers) == 1:\n",
        "        stock = yf.Ticker(tickers[0])\n",
        "        data[tickers[0]] = stock.history(interval = '1d', start = start)['Close']\n",
        "    else:\n",
        "        for x in tickers:\n",
        "            stock = yf.Ticker(x)\n",
        "            data[x] = stock.history(interval = '1d', start = start)['Close']\n",
        "    return data"
      ]
    },
    {
      "cell_type": "markdown",
      "id": "1e3b5eae",
      "metadata": {
        "id": "1e3b5eae"
      },
      "source": [
        "Next, for the data, we aren't incredibly concerned with the actual values of a stock over time when generating our $r$ factor. Our biggest concern is how the stock changes over time. For this, we will generate two models for change over time: one that is calculated as the logarithm of the percentage change for a given stock, and one that is simply the percentage change. The simple percentage change is an easier to understand model, but the logarithmic analysis of percentage change allows us to smooth the curve of values we get, which in turn helps us minimize divergence in our models."
      ]
    },
    {
      "cell_type": "code",
      "execution_count": null,
      "id": "8398971e",
      "metadata": {
        "id": "8398971e"
      },
      "outputs": [],
      "source": [
        "def log_returns(data):\n",
        "    return np.log(1 + data.pct_change().dropna())\n",
        "\n",
        "def simple_returns(data):\n",
        "    return (data/(data.shift(1))-1)"
      ]
    },
    {
      "cell_type": "markdown",
      "id": "22a1cbd7",
      "metadata": {
        "id": "22a1cbd7"
      },
      "source": [
        "Now that we have normalized returns for our dataset, we can use this normalized set of returns to calculate drift and volatility of a given stock. We can start with drift. Drift in a Monte Carlo simulation is the direction previous models have tended to go in, and it is given by $D = \\mu - \\frac{1}{2} \\sigma^2$, where $\\mu$ is the average value of your dataset, in this case our average daily return, and $\\sigma$ is the variance of our return. This value gives the intensity and direction the overall trend of a dataset should take."
      ]
    },
    {
      "cell_type": "code",
      "execution_count": null,
      "id": "ff20305e",
      "metadata": {
        "id": "ff20305e"
      },
      "outputs": [],
      "source": [
        "def drift_calc(data, return_type = \"log\"):\n",
        "    if return_type == \"log\":\n",
        "        lr = log_returns(data)\n",
        "    elif return_type == \"simple\":\n",
        "        lr = simple_returns(data)\n",
        "    u = lr.mean()\n",
        "    var = lr.var()\n",
        "    drift = u-(.5*var)\n",
        "    try:\n",
        "        return drift.values\n",
        "    except:\n",
        "        return drift"
      ]
    },
    {
      "cell_type": "markdown",
      "id": "4ec15870",
      "metadata": {
        "id": "4ec15870"
      },
      "source": [
        "Now, we are going to combine two steps, as they go very closely together. First, we are going to determine the volatility of our stock, which is given by $V = \\sigma [Rand(0:1)]$, where $\\sigma$ is the standard deviation of our dataset, and it is multipled with a random real number from 0 to 1. We will add this value to our drift, and that will be our $r$ value for a given day. To do this in python, we will create a matrix with a cell for every day and every iteration that initially has just a random number. We will multiply each cell by our standard deviation and then add our drift. After this, we will run an exponential calculation that determines $e^r$ if a cell's value is $r$. This matrix, which we will then return, is the $e^r$ multiplier for any given day in any iteration of a Monte Carlo simulation."
      ]
    },
    {
      "cell_type": "code",
      "execution_count": null,
      "id": "df944d17",
      "metadata": {
        "id": "df944d17"
      },
      "outputs": [],
      "source": [
        "def daily_returns(data, days, iterations):\n",
        "    ft = drift_calc(data)\n",
        "    try:\n",
        "        stv = log_returns(data).std().values\n",
        "    except:\n",
        "        stv = log_returns(data).std()\n",
        "\n",
        "    dr = np.exp(ft + stv * norm.ppf(np.random.rand(days, iterations)))\n",
        "    return dr"
      ]
    },
    {
      "cell_type": "markdown",
      "id": "1b03058e",
      "metadata": {
        "id": "1b03058e"
      },
      "source": [
        "Now, we will finally bring back the actual values from the dataset. For every initial day in the Monte Carlo simulation, we will use the closing value of the stock last day we pulled as our first day of Monte Carlo. From here, we will be able to iterate through the matrix, and in every iteration, we will be able to multiply the previous day with the given value from our daily returns matrix that we already generated. This will give us multiple Monte Carlo iterations that we can analyze to see how we can expect a stock to behave. Some important things for our simulation include expected value, calculated as the average of all iterations of our simulation on their last day, and return percentage, which is the percentage our investment would grow by had we invested in our stock on the first day of our Monte Carlo simulation."
      ]
    },
    {
      "cell_type": "code",
      "execution_count": null,
      "id": "a871fd16",
      "metadata": {
        "id": "a871fd16"
      },
      "outputs": [],
      "source": [
        "def simulate_mc(data, days, iterations, return_type='log', plot=True):\n",
        "    # generate list of e^r multipliers, initialize the price list, run sim\n",
        "    returns = daily_returns(data, days, iterations)\n",
        "    price_list = np.zeros_like(returns)\n",
        "    price_list[0] = data.iloc[-1]\n",
        "    for t in range(1, days):\n",
        "        price_list[t] = price_list[t-1] * returns[t]\n",
        "    # print(price_list[2])\n",
        "\n",
        "    total_days = days - 1\n",
        "    expected_value = round(pd.DataFrame(price_list).iloc[-1].mean(), 2)\n",
        "    return_pct = round(100*(expected_value-price_list[0,1])/expected_value, 2)\n",
        "\n",
        "    avg_value = []\n",
        "    for i in range(0, days):\n",
        "        # print(price_list[i].mean())\n",
        "        avg_value += [price_list[i].mean()]\n",
        "        # print(price_list[i][0:3])\n",
        "\n",
        "    # print(avg_value)\n",
        "\n",
        "    return [total_days, expected_value, return_pct, avg_value]\n",
        "\n",
        "def monte_carlo(ticker, days, iterations):\n",
        "    df = import_stock_data([ticker])\n",
        "    return simulate_mc(df, days, iterations)"
      ]
    },
    {
      "cell_type": "markdown",
      "id": "99d90b68",
      "metadata": {
        "id": "99d90b68"
      },
      "source": [
        "Now that we have built our functions that run a Monte Carlo simulation, we will use them on our list of tickers. For every ticker in our portfolio, we will run the Monte Carlo simulation and add it to a DataFrame, allowing us to compile a DataFrame of potential stock futures to go along with the set of stock histories we have already pulled from yfinance. Alongside the dataframe creation, we also will generate a few key pieces of information that tell us about our simulation: total days in the simulation, the expected stock value at the end of simulation, and the return percentage from day 0 to day $n$."
      ]
    },
    {
      "cell_type": "code",
      "execution_count": null,
      "id": "38c6ae5d",
      "metadata": {
        "id": "38c6ae5d"
      },
      "outputs": [],
      "source": [
        "mc_projections = pd.DataFrame()\n",
        "mc_data = []\n",
        "for x in portfolio:\n",
        "    mc = monte_carlo(x, 50, 100)\n",
        "    mc_projections[x] = mc[3]\n",
        "    mc_data += [mc[0:2]]"
      ]
    },
    {
      "cell_type": "markdown",
      "id": "de1c13c9",
      "metadata": {
        "id": "de1c13c9"
      },
      "source": [
        "## Optimizing the stock portfolio\n",
        "\n",
        "It's great that we can create a stock portfolio that we can work with, and we can even analyze how strong it is using quantstats! It would be even better if we could take the portfolio we made and see if we can change our investment amounts to maximize our returns. There are a couple steps to get it set up, but thankfully, scipy has a function that can maximize our returns given an initial investment percentage for each stock, and a history of each stock's percentage change in price.\n",
        "\n",
        "First, we are going to create a sample version of our portfolio that pulls stock history for every ticker that we have selected, adding their opening price at every interval to the function and storing all of this in a dataframe. Then, we use the pct_change function to determine the change between each frame for each stock, allowing us to determine the most efficient investment of stocks."
      ]
    },
    {
      "cell_type": "code",
      "source": [
        "## SOLUTION: Isabel's attempted code to fix the broken data insertion line below\n",
        "## the line below breaking in your portfolio optimization prep section:\n",
        "\n",
        "ticker = yf.Ticker(testList[0])\n",
        "data = ticker.history(interval='1d', start='2015-01-01', end='2025-04-01')\n",
        "df = data[['Open']].rename(columns={'Open': testList[0]})\n",
        "\n",
        "for x in testList[1:]:\n",
        "    ticker = yf.Ticker(x)\n",
        "    data = ticker.history(interval='1d', start='2015-01-01', end='2025-04-01')\n",
        "    if not data.empty:\n",
        "        df = df.join(data[['Open']].rename(columns={'Open': x}), how='outer')\n",
        "\n",
        "# drop rows with any missing values for stability\n",
        "returns_df = df.pct_change(1).dropna()\n",
        "\n",
        "## this is my attempt to do the following: Renames columns so they’re labeled by ticker. Joins all on the date index to align data. Drops any NaNs to ensure the optimizer works.\n"
      ],
      "metadata": {
        "id": "J4Nphx9rlmpv"
      },
      "id": "J4Nphx9rlmpv",
      "execution_count": null,
      "outputs": []
    },
    {
      "cell_type": "code",
      "execution_count": null,
      "id": "4a74b215",
      "metadata": {
        "id": "4a74b215"
      },
      "outputs": [],
      "source": [
        "## original code as of 5/8/25 1:30 PM\n",
        "\n",
        "testList = portfolio\n",
        "\n",
        "# pull the first stock's data; drop all unnecessary columns\n",
        "ticker = yf.Ticker(testList[0])\n",
        "df = ticker.history(interval = '1d', start = '2015-01-01', end = '2025-04-01')\n",
        "df.drop(columns=['High', 'Low', 'Close', 'Volume', 'Dividends', 'Stock Splits'], inplace=True)\n",
        "df.rename({'Open' : 'AAPL'}, inplace=True)\n",
        "\n",
        "# for every other ticker, add its open value to the existing dataframe\n",
        "for x in testList[1:]:\n",
        "    ticker = yf.Ticker(x)\n",
        "    data = ticker.history(interval = '1d', start = '2015-01-01', end = '2025-04-01')\n",
        "    df.insert(len(df.columns), x, data[\"Open\"]) # for whatever reason, this line wont work -> ## SEARCH UP \"SOLUTION: Isabel's attempted code to fix the broken data insertion line below\"\n",
        "\n",
        "#calculate percent returns for each day of each stock\n",
        "returns_df = df.pct_change(1).dropna()"
      ]
    },
    {
      "cell_type": "markdown",
      "id": "b62cd359",
      "metadata": {
        "id": "b62cd359"
      },
      "source": [
        "Now, we need to determine the value of each portfolio's return. This is simply the return of each stock multipled by its weight in the portfolio. Because it is this way for each stock, we can compute the return as a dot product of returns and weights, then multiply by 250 trading days in a year to annualize our result!"
      ]
    },
    {
      "cell_type": "code",
      "execution_count": null,
      "id": "bbc11ee0",
      "metadata": {
        "id": "bbc11ee0"
      },
      "outputs": [],
      "source": [
        "#operationalize determining portfolio returns\n",
        "def getPfReturn(weights):\n",
        "    \"\"\"\n",
        "    return is annualized expected return of portfolio\n",
        "    \"\"\"\n",
        "    expRetPortfolio = np.dot(np.transpose(weights), returns_df.mean()) * 250\n",
        "    return expRetPortfolio"
      ]
    },
    {
      "cell_type": "markdown",
      "id": "a62679e4",
      "metadata": {
        "id": "a62679e4"
      },
      "source": [
        "Now, we need to start bounding the function that will maximize our returns given an investment. We will use scipy's minimize function to do this. Despite its name, the minimize function works by minimizing the constraints that you give it, so minimizing the difference between our portfolio return and our target return will enable us to hit our target return, \"maximizing\" the output of our portfolio. If we want to truly maximize, we can continue pushing up this target return incrementally until we reach it!.\n",
        "\n",
        "First, we will start with initial weights of each stock in our portfolio. We can either use the weights we selected previously, or we can simply start with each stock having an equal weight in our portfolio. You can choose this by slightly modifying the code below.\n",
        "\n",
        "Now, we need to set our target return value, which we selefcted to arbitrarily be .4, or a 40% return. This can be modified however you wish, but do note that the minimize function will fail if maximizing to the given return percentage is impossible.\n",
        "\n",
        "Another important goal is to bound the weight of each stock in our portfolio between 0 and 1, or 0% and 100%. It doesn't make much sense to be able to buy more than a full portfolio of stocks! We do this by creating a tuple that has the same length as our number of stocks, and each element in the tuple is another tuple storing the values (0,1), bounding our stock weights in that range\n",
        "\n",
        "Finally, we want to create two constraints for the function. This is done using the syntax below. Our first constraint says tat the sum of all weights should not exceed 1, or that our portfolio weights can't exceed 100%. We've done this already for individual stocks, but it's also important that we cant just spend 100% of our money in each stock. Finally, we also need to make sure that we \"minimize\" the difference between the returns for any set of portfolio weights the function generates and the target return we have set."
      ]
    },
    {
      "cell_type": "code",
      "source": [
        "# Isabel's code attempted to toggle between equal weights and user-defined weights for the optimizer\n",
        "custom_weights = True  # you change to False to use equal weights\n",
        "\n",
        "numStocks = len(returns_df.columns)\n",
        "\n",
        "if custom_weights and allocations:\n",
        "    try:\n",
        "        weight_list = [float(allocations[stock]) for stock in returns_df.columns]\n",
        "        total_weight = sum(weight_list)\n",
        "        initialWeight = [w / total_weight for w in weight_list]\n",
        "    except Exception as e:\n",
        "        print(\"Error with custom weights. Falling back to equal weights.\")\n",
        "        initialWeight = [1 / numStocks] * numStocks\n",
        "else:\n",
        "    initialWeight = [1 / numStocks] * numStocks\n",
        "\n",
        "    ## What I am trying to do is 1. Lets user control whether to use the user’s weights or equal weights.\n",
        "    ## 2. Normalizes the weights so they sum to 1, just in case they don't sum perfectly.\n",
        "    ## 3. Catch errors(like if the user forgets to fill in all weights).\n"
      ],
      "metadata": {
        "id": "sHEcDDWBjKDW"
      },
      "id": "sHEcDDWBjKDW",
      "execution_count": null,
      "outputs": []
    },
    {
      "cell_type": "code",
      "execution_count": null,
      "id": "fdf1ec84",
      "metadata": {
        "id": "fdf1ec84"
      },
      "outputs": [],
      "source": [
        "# start with stocks at equal weights\n",
        "numStocks = len(returns_df.columns)\n",
        "initialWeight = [1/numStocks] * numStocks\n",
        "\n",
        "# Feel free to pick a different number!\n",
        "targetReturn = .2\n",
        "\n",
        "# bounds the percentage of each stock we can hold (between 0 and 100%)\n",
        "bounds = tuple((0,1) for i in range(numStocks))\n",
        "\n",
        "# ensures the sum of all stock weights is 100% (or 1) in first constraint\n",
        "# sets goal of minimize function to hit targetReturn\n",
        "constraints = ({'type' : 'eq', 'fun' : lambda w : np.sum(w) - 1},\n",
        "               {'type' : 'eq', 'fun' : lambda x : x.dot(returns_df.mean()) * 250 - targetReturn})\n"
      ]
    },
    {
      "cell_type": "markdown",
      "id": "4e8ba7f6",
      "metadata": {
        "id": "4e8ba7f6"
      },
      "source": [
        "Now that we have set all of our constraints, we need to use the maximize function! We set a variable called \"results\" equal to the minimize function with our function and all of the constraints. Through magic of scipy, it will iterate on our weights, modifying them in an attempt to maximize the return of our portfolio. We can print results to see whether it was successful, as well as the weights of each stock in our portfolio. We can also see our returns by using our returns function on the 'x' field of our minimize output."
      ]
    },
    {
      "cell_type": "code",
      "execution_count": null,
      "id": "6a75a5ba",
      "metadata": {
        "id": "6a75a5ba"
      },
      "outputs": [],
      "source": [
        "# can we reach our goal with these stocks??\n",
        "results = minimize(fun=getPfReturn, x0=initialWeight, bounds=bounds, constraints=constraints)\n",
        "\n",
        "#output\n",
        "# print(results)\n",
        "\n",
        "optimizedResults = pd.DataFrame(results['x'])\n",
        "\n",
        "# print our optimized results\n",
        "getPfReturn(weights=results[\"x\"])\n",
        "optimizedResults.index = portfolio\n",
        "\n",
        "print(optimizedResults)"
      ]
    },
    {
      "cell_type": "markdown",
      "id": "3555add1",
      "metadata": {
        "id": "3555add1"
      },
      "source": [
        "Now, we've successfully used scipy to maximize the results from our function! We can even extract the weights and use them to model a portfolio. Let's use some similar code to graph the returns of a portfolio based on an inital investment above, but using our new optimized weights!"
      ]
    },
    {
      "cell_type": "markdown",
      "source": [
        "## Optimized Portfolio Visualization\n",
        "\n",
        "This chart shows how your portfolio performs after optimization — where the weights were adjusted to target a better return/risk profile. Each line represents an individual stock’s contribution to portfolio value over time.\n",
        "\n",
        "Compare this plot with the initial version to see if:\n",
        "  - Fewer stocks dominate the performance\n",
        "  - Fluctuations are smaller (less risk)\n",
        "  - The total trend is smoother or steeper\n",
        "\n",
        "Logic Check:\n",
        "A good optimization often leads to fewer volatile movements and better risk-adjusted growth."
      ],
      "metadata": {
        "id": "42ynhfBBocx7"
      },
      "id": "42ynhfBBocx7"
    },
    {
      "cell_type": "code",
      "execution_count": null,
      "id": "9f881de1",
      "metadata": {
        "id": "9f881de1"
      },
      "outputs": [],
      "source": [
        "initial_portfolio_val = 1e6\n",
        "\n",
        "optimized_allocations = optimizedResults[0].to_dict()\n",
        "\n",
        "\n",
        "optimized_returns = calculate_returns(initial_portfolio_val, dataframes, optimized_allocations)\n",
        "\n",
        "graph_returns(optimized_returns, False, True)"
      ]
    },
    {
      "cell_type": "markdown",
      "id": "c538bb61",
      "metadata": {
        "id": "c538bb61"
      },
      "source": [
        "### 📉 Rechecking Strength After Optimization\n",
        "\n",
        "After optimizing our portfolio allocations to achieve a target return of 40%, we reevaluate the portfolio using updated historical performance metrics.\n",
        "\n",
        "To review:\n",
        "\n",
        "- **CAGR (Annual Return):** Shows the expected annual growth based on optimized allocations.\n",
        "- **Sharpe Ratio:** Tells us how well we’re balancing risk and reward with the new weights.\n",
        "- **Max Drawdown:** Indicates if the worst-case dip has improved.\n",
        "- **Volatility:** Helps assess whether the portfolio became more stable or more erratic.\n",
        "- **Avg Daily Return:** Confirms whether daily trends look stronger after optimization.\n",
        "\n",
        "This second performance check shows whether our changes actually led to a more efficient investment strategy."
      ]
    },
    {
      "cell_type": "code",
      "execution_count": null,
      "id": "4c72f527-99d2-4d8d-a6cd-f1cbc4f6f907",
      "metadata": {
        "id": "4c72f527-99d2-4d8d-a6cd-f1cbc4f6f907"
      },
      "outputs": [],
      "source": [
        "optimized_portfolio_info = portfolio_stats(optimized_returns)\n",
        "\n",
        "print(f\"📈 CAGR (Annual Return): {optimized_portfolio_info['cagr']:.2%}\")\n",
        "print(f\"📊 Sharpe Ratio: {optimized_portfolio_info['sharpe']:.2f}\")\n",
        "print(f\"📉 Max Drawdown: {optimized_portfolio_info['drawdown']:.2%}\")\n",
        "print(f\"📈 Volatility: {optimized_portfolio_info['volatility']:.2%}\")\n",
        "print(f\"📅 Average Daily Return: {optimized_portfolio_info['avg_return']:.4%}\")"
      ]
    },
    {
      "cell_type": "markdown",
      "id": "c3101a9e-b443-428f-ac65-b2f65d837ba2",
      "metadata": {
        "id": "c3101a9e-b443-428f-ac65-b2f65d837ba2"
      },
      "source": [
        "### Summary\n",
        "\n",
        "After constructing our initial stock portfolio based on user-selected allocations, we evaluated its historical performance using metrics like annual return, Sharpe ratio, and drawdown. This gave us a baseline understanding of how well our portfolio performed under those weights.\n",
        "\n",
        "We then used optimization techniques (via scipy.minimize) to automatically adjust the stock allocations in order to achieve a target return while minimizing risk. This step simulates what a financial algorithm might do to make our portfolio more efficient.\n",
        "\n",
        "Finally, we re-evaluated the optimized portfolio using the same performance metrics. By comparing the before-and-after results, we can see whether the optimization actually improved our portfolio — either by increasing returns, reducing risk, or improving the Sharpe ratio (risk-adjusted performance).\n",
        "\n",
        "This comparison demonstrates the power of computational thinking in making data-driven investment decisions."
      ]
    },
    {
      "cell_type": "markdown",
      "id": "b02e1f38",
      "metadata": {
        "id": "b02e1f38"
      },
      "source": [
        "## Bibliography\n",
        "\n",
        "https://ipywidgets.readthedocs.io/en/7.x/examples/Widget%20List.html#Checkbox\n",
        "https://ipywidgets.readthedocs.io/en/7.x/examples/Widget%20List.html#SelectMultiple\n",
        "https://ipywidgets.readthedocs.io/en/7.x/examples/Widget%20List.html#Tabs\n",
        "\n",
        "\n",
        "pyfolio: https://www.pyquantnews.com/the-pyquant-newsletter/create-beautiful-strategy-tear-sheets-pyfolio-reloaded\n",
        "\n",
        "\n",
        "https://medium.com/@ethan.duong1120/python-powered-portfolio-optimization-achieving-target-returns-through-weight-optimization-fc5163e5c9c6"
      ]
    }
  ],
  "metadata": {
    "kernelspec": {
      "display_name": "Python 3",
      "language": "python",
      "name": "python3"
    },
    "language_info": {
      "codemirror_mode": {
        "name": "ipython",
        "version": 3
      },
      "file_extension": ".py",
      "mimetype": "text/x-python",
      "name": "python",
      "nbconvert_exporter": "python",
      "pygments_lexer": "ipython3",
      "version": "3.10.6"
    },
    "colab": {
      "provenance": []
    }
  },
  "nbformat": 4,
  "nbformat_minor": 5
}