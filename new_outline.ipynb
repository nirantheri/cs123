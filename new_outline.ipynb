{
 "cells": [
  {
   "cell_type": "markdown",
   "id": "a21a0bd5",
   "metadata": {},
   "source": [
    "### Introduction: Applying Computational Thinking to Personal Finance and Portfolio Analysis\n",
    "In an era where financial independence is closely tied to the ability to make strategic investment decisions, understanding the mechanics of saving and investing has become a critical life skill. Yet, while many individuals understand the importance of saving, few have the tools or knowledge required to evaluate how different financial strategies—and especially investment decisions—impact long-term outcomes. This tutorial addresses that gap by introducing students to essential concepts in personal finance and portfolio analysis through a computational and data-driven approach.\n",
    "\n",
    "This tutorial begins by building a foundation in core savings principles. Learners will explore the functionality of common financial instruments such as high-yield savings accounts, 401(k)s, and Roth IRAs. Through interactive inputs and simulations, students will see how interest rates, compound growth, and tax advantages affect returns over time. These early exercises aim to demonstrate the value of starting early, contributing consistently, and choosing the right savings vehicles for one’s personal financial goals.\n",
    "\n",
    "Building on this foundation, the tutorial then transitions into a more advanced, investment-focused module: constructing and evaluating a personalized stock portfolio. Students will be guided through the process of:\n",
    "- Selecting their own breakdown of stocks to form a diversified portfolio based on individual risk preferences or interests.\n",
    "\n",
    "- Evaluating the strength of their chosen portfolio using historical data and key financial metrics.\n",
    "\n",
    "- Simulating potential future outcomes through Monte Carlo simulations, which model thousands of possible future scenarios to account for uncertainty and market volatility.\n",
    "\n",
    "- Optimizing the stock allocation using algorithmic methods that balance return potential with risk, aiming for the most efficient use of investment capital.\n",
    "\n",
    "- Rechecking the portfolio’s strength after optimization, to reflect the improvements made and demonstrate the impact of computational adjustments on financial performance.\n",
    "\n",
    "\n",
    "Throughout this tutorial, students will employ principles from computer science—such as data modeling, simulations, algorithmic thinking, and data visualization—to analyze financial data and make informed decisions. By the end of the tutorial, students will have developed not only a deeper understanding of financial literacy but also a practical appreciation for how computational tools can empower individuals to manage their personal wealth more effectively.\n",
    "\n",
    "This interdisciplinary exploration is designed to equip learners with a strong foundation in both personal finance and applied computation—skills that are increasingly essential in today’s data-rich, financially complex world."
   ]
  },
  {
   "cell_type": "markdown",
   "id": "1fcde335",
   "metadata": {},
   "source": [
    "### Disclaimer\n",
    "\n",
    "**No Guarantee of Accuracy:** While Isabel, Luna, and Nirantheri strive to provide accurate and up-to-date information, they do not guarantee the accuracy, completeness, or reliability of any content. Users should independently verify any information before making financial or investment decisions based on it.\n",
    "\n",
    "\n",
    "**Investment Risks:** Investing involves inherent risks, including but not limited to market fluctuations, economic uncertainty, geopolitical events, and individual asset performance. Past performance is not indicative of future results, and no content provided implies a guarantee of investment success.\n",
    "\n",
    "**Limitation of Liability:** Mentions of specific financial products, services, companies, or securities within the content do not constitute endorsements or recommendations. Users are responsible for conducting their own research and due diligence.\n",
    "\n",
    "**No Liability:** Isabel, Luna, Nirantheri, and their affiliates, partners, or contributors shall not be held liable for any loss, damage, or expense resulting from the use of or reliance on the provided information. All investment decisions made based on this content are the sole responsibility of the user.\n",
    "\n",
    "**Disclaimer Updates:** This disclaimer is subject to change without notice. Users are responsible for reviewing it periodically to stay informed of any updates.\n",
    "\n"
   ]
  },
  {
   "cell_type": "markdown",
   "id": "5b4b991e",
   "metadata": {},
   "source": [
    "### This is where you'll download all packages necessary for the tutorial\n",
    "\n",
    "If the \"Module not found\" error shows up, use the requirements.txt file to download the missing packages."
   ]
  },
  {
   "cell_type": "code",
   "execution_count": null,
   "id": "4102a911",
   "metadata": {},
   "outputs": [],
   "source": [
    "import yfinance as yf\n",
    "import numpy as np\n",
    "import ipywidgets as widgets\n",
    "import pandas as pd\n",
    "from scipy.optimize import minimize\n",
    "from IPython.display import display\n",
    "import altair as alt\n",
    "from pandas_datareader import data as wb\n",
    "import seaborn as sns\n",
    "from scipy.stats import norm\n",
    "import quantstats.stats as stats\n",
    "\n",
    "\n",
    "import matplotlib.pyplot as plt\n",
    "%matplotlib inline"
   ]
  },
  {
   "cell_type": "markdown",
   "id": "07c04a66",
   "metadata": {},
   "source": [
    "### Choosing stocks for a portfolio\n",
    "\n",
    "\n",
    "Apple: 'AAPL'\n",
    "Costco: 'COST'\n",
    "Microsoft: 'MSFT'\n",
    "Google: 'GOOG'\n",
    "Nvidia: 'NVDA'\n",
    "Walmart: 'WMT'\n",
    "AMC Entertainment 'AMC'\n",
    "S&P 500: '^GSPC'\n",
    "Dow Jones Industrial: '^DJI'\n",
    "Nasdaq: '^IXIC'\n",
    "Vanguard S&P 500 ETF: 'VOO'\n",
    "Vanguard Total Stock Market Index Fund: 'VSMPX'\n",
    "Fidelity 500 Index Fund: 'FXAIX'\n",
    "Gold: 'GLD'\n",
    "\n",
    "Give them a list of 20-30 common stocks, etfs, and mutual funds (can use checkbox widget)\n",
    "ipywidgets: \n",
    "[checkbox](https://ipywidgets.readthedocs.io/en/7.x/examples/Widget%20List.html#Checkbox)\n",
    "[select multiple](https://ipywidgets.readthedocs.io/en/7.x/examples/Widget%20List.html#SelectMultiple)\n",
    "ex.\n",
    "- S&P 500\n",
    "- Dow\n",
    "- Nasdaq\n",
    "- Apple\n",
    "- Tesla\n",
    "- Google\n",
    "- Gold??\n",
    "- etc"
   ]
  },
  {
   "cell_type": "code",
   "execution_count": 4,
   "id": "7af31160",
   "metadata": {},
   "outputs": [
    {
     "data": {
      "application/vnd.jupyter.widget-view+json": {
       "model_id": "4986302f4427453584666912d6655234",
       "version_major": 2,
       "version_minor": 0
      },
      "text/plain": [
       "SelectMultiple(description='Stocks', options=('Apple', 'Costco', 'Microsoft', 'Google', 'Nvidia', 'Walmart', '…"
      ]
     },
     "metadata": {},
     "output_type": "display_data"
    }
   ],
   "source": [
    "codes = {\"Apple\": 'AAPL',\n",
    "        \"Costco\": 'COST',\n",
    "        \"Microsoft\": 'MSFT',\n",
    "        \"Google\": 'GOOG',\n",
    "        \"Nvidia\": 'NVDA',\n",
    "        \"Walmart\": 'WMT',\n",
    "        \"AMC Entertainment\": 'AMC',\n",
    "        \"S&P 500\": '^GSPC',\n",
    "        \"Dow Jones Industrial\": '^DJI',\n",
    "        \"Nasdaq\": '^IXIC',\n",
    "        \"Vanguard S&P 500 ETF\": 'VOO',\n",
    "        \"Fidelity 500 Index Fund\": 'FXAIX',\n",
    "        \"Gold\":'GLD'}\n",
    "\n",
    "codes.keys()\n",
    "\n",
    "\n",
    "choices = widgets.SelectMultiple(\n",
    "    options=codes.keys(),\n",
    "    value=[],\n",
    "    rows=20,\n",
    "    description='Stocks',\n",
    "    disabled=False\n",
    ")\n",
    "\n",
    "display(choices)\n",
    "\n",
    "# isabel's code may work better here.\n"
   ]
  },
  {
   "cell_type": "markdown",
   "id": "52f0405d",
   "metadata": {},
   "source": [
    "### Picking your own breakdown of stocks : Nirantheri\n",
    "\n",
    "Without rerunning the previous code chunk, run the next one and input your allocation amounts as a decimal ex (0.3 or .5). Make sure they add up to 1!\n",
    "<!--\n",
    "[setup using the above code chunk](https://ipywidgets.readthedocs.io/en/7.x/examples/Widget%20List.html#Tabs) -->"
   ]
  },
  {
   "cell_type": "code",
   "execution_count": 5,
   "id": "35f83dbc",
   "metadata": {},
   "outputs": [
    {
     "data": {
      "application/vnd.jupyter.widget-view+json": {
       "model_id": "47e71b8396574438960a6d63d6ba51ee",
       "version_major": 2,
       "version_minor": 0
      },
      "text/plain": [
       "Tab()"
      ]
     },
     "execution_count": 5,
     "metadata": {},
     "output_type": "execute_result"
    }
   ],
   "source": [
    "# get codes for further down\n",
    "portfolio = []\n",
    "\n",
    "for i in range(len(choices.value)):\n",
    "    portfolio.append(codes[choices.value[i]])\n",
    "    \n",
    "# pick distribution\n",
    "\n",
    "tab_contents = [\"Value\"] * len(choices.value)\n",
    "children = [widgets.Text(description=name) for name in tab_contents]\n",
    "tab = widgets.Tab()\n",
    "tab.children = children\n",
    "tab.titles = choices.value\n",
    "\n",
    "tab"
   ]
  },
  {
   "cell_type": "markdown",
   "id": "29b9a5e2",
   "metadata": {},
   "source": [
    "The following code is to match the allocation amounts to the stock codes given the inputs from above. "
   ]
  },
  {
   "cell_type": "code",
   "execution_count": 6,
   "id": "985e3e8b",
   "metadata": {},
   "outputs": [],
   "source": [
    "# matching allocation amounts to stock codes given inputs from above\n",
    "\n",
    "allocations = {}\n",
    "\n",
    "for i in range(len(tab.children)):\n",
    "    allocations[portfolio[i]]=tab.children[i].value\n"
   ]
  },
  {
   "cell_type": "markdown",
   "id": "ce27bfeb",
   "metadata": {},
   "source": [
    "### Interested in testing out your own set of stocks?\n",
    "\n",
    "Feel free to create your own allocation dictionary. Make sure each entry is of the format \"STOCK TICKER\": allocation amount. Fill it in as you desire and click run to make sure that your custom allocations are used, even if you didn't run the above lines. Otherwise our default set of stocks will be used! \n",
    "\n",
    "NOTE: for index funds, you have to prefix them with \"^\""
   ]
  },
  {
   "cell_type": "markdown",
   "id": "a1f4eed5",
   "metadata": {},
   "source": [
    "### Pulling the yf data\n",
    "\n",
    "Using the list of stocks in our dictionary, the below code will grab the data for each stock."
   ]
  },
  {
   "cell_type": "code",
   "execution_count": 19,
   "id": "ace55141",
   "metadata": {},
   "outputs": [],
   "source": [
    "if len(portfolio)==0: # for default values\n",
    "    allocations={'AAPL':'0.4', 'MSFT':'0.3',  '^IXIC':'0.3'}\n",
    "    portfolio = allocations.keys()\n",
    "\n",
    "testList=allocations.keys()\n",
    "testString = ' '.join(testList)\n",
    "\n",
    "tickersPull = yf.Tickers(testString)\n",
    "\n",
    "#in the dictionary dataframes, each ticker is indexed by its ticker as seen in the testList (auto_adjust accounts for splits and dividends)\n",
    "dataframes = {}\n",
    "for x in testList:\n",
    "    ticker = yf.Ticker(x)\n",
    "    dataframes[x] = ticker.history(period='1mo', start='2015-01-01', auto_adjust=True)"
   ]
  },
  {
   "cell_type": "markdown",
   "id": "441b5a5a",
   "metadata": {},
   "source": [
    "## How do we calculate returns?\n",
    "\n",
    "To calculate the returns, we want to find the adjusted value of each stock amount from the date of the initial investment. We can write a function to do this with a set of inputs-- an initial portfolio value, the set of dataframes for each stock, and the breakdown of allocations  <!-- and perhaps even an initial date of investment.  -->"
   ]
  },
  {
   "cell_type": "code",
   "execution_count": 21,
   "id": "b105647a",
   "metadata": {},
   "outputs": [],
   "source": [
    "def calculate_returns(initial_portfolio_val, dataframe, allocations):\n",
    "    all_pos_vals = []\n",
    "\n",
    "    for stock_name in dataframe:\n",
    "        # grab the dataframe for a single stock\n",
    "        stock_df = dataframe[stock_name] \n",
    "        # create normed return column\n",
    "        stock_df['Normed Return'] = stock_df['Close'] /stock_df.iloc[0]['Close']\n",
    "\n",
    "        # use normed return to adjust the percentage of portfolio held\n",
    "        allocation = float(allocations[stock_name])  # Convert allocation to float\n",
    "        stock_df['Allocation'] = stock_df['Normed Return']*allocation\n",
    "\n",
    "        # find value of stock at each date\n",
    "        stock_df['Position Value'] = stock_df['Allocation']*initial_portfolio_val\n",
    "\n",
    "        # add to list of all position values\n",
    "        all_pos_vals.append(stock_df['Position Value'])\n",
    "\n",
    "    # concatenate the list of position values\n",
    "    portfolio_val = pd.concat(all_pos_vals, axis=1)\n",
    "\n",
    "    # set the column names\n",
    "    portfolio_val.columns = portfolio\n",
    "\n",
    "    # add a total portfolio column\n",
    "    portfolio_val['Total'] = portfolio_val.sum(axis=1)\n",
    "\n",
    "    # changing date to column not index\n",
    "    portfolio_val = portfolio_val.reset_index()\n",
    "    \n",
    "    return portfolio_val\n",
    "\n"
   ]
  },
  {
   "cell_type": "markdown",
   "id": "11ba91b5",
   "metadata": {},
   "source": [
    "Then we can create a graphical representation of each of the stocks' growths over time as well as the portfolio's overall growth. To get an overall number rather than using every single data point, we can use a resampling function to grab the last day of each month in the data."
   ]
  },
  {
   "cell_type": "code",
   "execution_count": 14,
   "id": "c4a4a2ec",
   "metadata": {},
   "outputs": [],
   "source": [
    "def graph_values(portfolio_values, graph_portfolio, graph_stocks):\n",
    "    \"\"\"graph_portfolio is a bool to show only the total portfolio, graph_stocks is to graph all stocks.\"\"\"\n",
    "\n",
    "    # Resample the portfolio_val DataFrame to only include the last date of each month\n",
    "    portfolio_val = portfolio_values.resample('ME', on='Date').last().reset_index()\n",
    "\n",
    "    if graph_portfolio:\n",
    "        portfolio_val['Total'].plot(figsize=(10,8))\n",
    "    if graph_stocks:\n",
    "        portfolio_val.drop('Total', axis=1).set_index('Date').plot(figsize=(10,8)) \n",
    "\n",
    "\n",
    "    print(\"total value\", portfolio_val['Total'].iat[-1])\n"
   ]
  },
  {
   "cell_type": "markdown",
   "id": "ff8c807f",
   "metadata": {},
   "source": [
    "Now that we've created a projection of how our data has been growing over time, let's see what to expect!"
   ]
  },
  {
   "cell_type": "code",
   "execution_count": 22,
   "id": "8813431d",
   "metadata": {},
   "outputs": [
    {
     "name": "stdout",
     "output_type": "stream",
     "text": [
      "total value 7416088.712497806\n"
     ]
    },
    {
     "data": {
      "image/png": "[encoded data removed]",
      "text/plain": [
       "<Figure size 1000x800 with 1 Axes>"
      ]
     },
     "metadata": {},
     "output_type": "display_data"
    },
    {
     "data": {
      "image/png": "[encoded data removed]",
      "text/plain": [
       "<Figure size 1000x800 with 1 Axes>"
      ]
     },
     "metadata": {},
     "output_type": "display_data"
    }
   ],
   "source": [
    "returns = calculate_returns(1e6, dataframes, allocations)\n",
    "\n",
    "graph_values(returns, True, True)"
   ]
  },
  {
   "cell_type": "code",
   "execution_count": null,
   "id": "1ed5b08b",
   "metadata": {},
   "outputs": [],
   "source": [
    "# TODO: Implement the altair version which has more interactivity\n",
    "\n",
    "# # need to pivot the data\n",
    "# # print(portfolio_val.head())\n",
    "# print(portfolio_val.info())\n",
    "# portfolio_val.drop(\"^IXIC\", axis=1)\n",
    "# pivoted_data = portfolio_val.melt(id_vars=\"Date\", var_name=\"Stock\", value_name=\"Value\")\n",
    "\n",
    "# pivoted_data.head()\n",
    "\n",
    "\n",
    "# alt.Chart(pivoted_data).mark_line().encode(\n",
    "#     alt.X(\"Date:T\", title=\"Date\"),\n",
    "#     alt.Y(\"Value:Q\", title=\"Portfolio Value\"),\n",
    "#     alt.Color(\"Stock:N\", title=\"Stock\")\n",
    "# )\n",
    "\n",
    "\n",
    "# plot our portfolio"
   ]
  },
  {
   "cell_type": "markdown",
   "id": "cdea0ef3",
   "metadata": {},
   "source": [
    "## 🧾 Portfolio Strength Breakdown\n",
    "**How do you know if your portfolio is actually working?**\n",
    "\n",
    "Think of your portfolio like a car — you wouldn’t drive it for miles without checking the engine, right? These metrics are your dashboard. They tell you whether you're cruising efficiently, burning too much fuel (aka risk), or heading toward a cliff. By regularly checking them, you’re not just investing — you’re investing intelligently. It's how you turn guessing into strategy.\n",
    "\n",
    "These metrics help you assess whether your portfolio is efficient, risky, or well-balanced — and give you data to improve it over time. We can write a function to return these values for us.\n",
    "\n",
    "---\n",
    "\n",
    "**📈 CAGR (Compound Annual Growth Rate):**  \n",
    "Shows the average annual growth of your portfolio over time. The higher, the better — it reflects long-term performance.\n",
    "\n",
    "**📊 Sharpe Ratio:**  \n",
    "Measures your return per unit of risk. A Sharpe ratio above 1.0 is generally considered good. It means you're getting rewarded well for the volatility you’re taking on.\n",
    "\n",
    "**📉 Max Drawdown:**  \n",
    "The worst loss your portfolio experienced from peak to bottom. A lower number means your portfolio didn’t crash too hard.\n",
    "\n",
    "**📈 Volatility:**  \n",
    "Reflects how much your portfolio's value fluctuates. High volatility can mean high risk — or high opportunity.\n",
    "\n",
    "**📅 Average Daily Return:**  \n",
    "The average return your portfolio gained (or lost) per trading day. Helps you see how it behaves short term.\n",
    "\n",
    "---"
   ]
  },
  {
   "cell_type": "code",
   "execution_count": null,
   "id": "a486629e",
   "metadata": {},
   "outputs": [],
   "source": [
    "def portfolio_stats(returns):\n",
    "    # Ensure datetime is clean\n",
    "    returns.set_index('Date', inplace=True)\n",
    "\n",
    "    # Daily returns from portfolio value\n",
    "    daily_returns = returns['Total'].pct_change().dropna()\n",
    "\n",
    "    # Grab specific stats\n",
    "    cagr = stats.cagr(daily_returns)\n",
    "    sharpe = stats.sharpe(daily_returns)\n",
    "    drawdown = stats.max_drawdown(daily_returns)\n",
    "    volatility = stats.volatility(daily_returns)\n",
    "    avg_return = stats.avg_return(daily_returns)\n",
    "\n",
    "    return {\"cagr\":cagr, \"sharpe\":sharpe, \"drawdown\":drawdown, \"volatility\":volatility, \"avg_return\":avg_return}\n"
   ]
  },
  {
   "cell_type": "markdown",
   "id": "eb8c5b3f",
   "metadata": {},
   "source": [
    "Now that we've written a function for this, we can analyze the returns of our portfolio from above."
   ]
  },
  {
   "cell_type": "code",
   "execution_count": null,
   "id": "3dade3c9",
   "metadata": {},
   "outputs": [],
   "source": [
    "portfolio_info = portfolio_stats(returns)\n",
    "\n",
    "print(f\"📈 CAGR (Annual Return): {portfolio_info['cagr']:.2%}\")\n",
    "print(f\"📊 Sharpe Ratio: {portfolio_info['sharpe']:.2f}\")\n",
    "print(f\"📉 Max Drawdown: {portfolio_info['drawdown']:.2%}\")\n",
    "print(f\"📈 Volatility: {portfolio_info['volatility']:.2%}\")\n",
    "print(f\"📅 Average Daily Return: {portfolio_info['avg_return']:.2%}\")"
   ]
  },
  {
   "cell_type": "markdown",
   "id": "3eab6f5c",
   "metadata": {},
   "source": [
    "You'll see that the portfolio_stats() function calculates five key metrics that help you evaluate how well a portfolio is performing.\n",
    "\n",
    "* **CAGR (Compound Annual Growth Rate):** A higher CAGR generally reflects strong long-term performance. For context, a CAGR of 7–10% is typically considered solid, especially when compared to market benchmarks like the S&P 500.\n",
    "\n",
    "* **Sharpe Ratio:** A value above 1.0 suggests you're earning a good return for the amount of risk taken, while a ratio above 2.0 is considered excellent. Anything below 1.0 may indicate that returns aren’t efficiently compensating for risk.\n",
    "\n",
    "* **Max Drawdown:** Lower drawdowns are better, as they reflect greater stability and less severe losses. A drawdown under 20% is generally seen as moderate, while anything over 30% may signal high risk or poor diversification.\n",
    "\n",
    "* **Volatility:** Higher volatility can mean bigger gains — but also bigger losses. For comparison, broad market indices tend to have volatility in the 15–20% range; values much higher than that could mean the portfolio is more aggressive or unstable.\n",
    "\n",
    "* **Average Daily Return:** Captures how much the portfolio gains or loses on an average trading day. While daily gains may appear small in percentage terms, even modest positive averages can lead to significant annual growth through compounding.\n",
    "\n",
    "Together, these metrics provide a snapshot of both the return potential and the risk behavior of a portfolio. They’re useful for identifying whether a portfolio is high-growth and high-risk, stable and conservative, or somewhere in between — and can guide decisions around rebalancing or adjusting strategy."
   ]
  },
  {
   "cell_type": "markdown",
   "id": "b9d2b93f",
   "metadata": {},
   "source": [
    "### Now we'll run a montecarlo simulation to try to estimate the predicted value of the stocks in future."
   ]
  },
  {
   "cell_type": "code",
   "execution_count": null,
   "id": "4dab0227",
   "metadata": {},
   "outputs": [
    {
     "name": "stdout",
     "output_type": "stream",
     "text": [
      "                               GOOG\n",
      "Date                               \n",
      "2015-01-05 00:00:00-05:00 -0.021066\n",
      "2015-01-06 00:00:00-05:00 -0.023450\n",
      "2015-01-07 00:00:00-05:00 -0.001715\n",
      "2015-01-08 00:00:00-05:00  0.003148\n",
      "2015-01-09 00:00:00-05:00 -0.013035\n",
      "...                             ...\n",
      "2025-04-16 00:00:00-04:00 -0.020244\n",
      "2025-04-17 00:00:00-04:00 -0.013858\n",
      "2025-04-21 00:00:00-04:00 -0.023087\n",
      "2025-04-22 00:00:00-04:00  0.026601\n",
      "2025-04-23 00:00:00-04:00  0.024518\n",
      "\n",
      "[2591 rows x 1 columns]\n",
      "[[157.72000122 157.72000122 157.72000122 ... 157.72000122 157.72000122\n",
      "  157.72000122]\n",
      " [157.58357925 155.17542685 153.51091667 ... 159.04733528 158.08754554\n",
      "  160.28472906]\n",
      " [153.74154916 153.66652609 152.95922949 ... 154.0846565  159.56948671\n",
      "  160.49654942]\n",
      " ...\n",
      " [165.68519622 141.4075013  145.43770903 ... 127.92932855 125.96587148\n",
      "  144.79242235]\n",
      " [164.37759019 142.97603074 141.53780248 ... 131.21568518 130.40560114\n",
      "  143.80717961]\n",
      " [167.35055118 141.18456973 139.24293296 ... 129.78189906 130.59939978\n",
      "  144.68956396]]\n"
     ]
    }
   ],
   "source": [
    "df = pd.DataFrame()\n",
    "ticker = yf.Ticker(\"GOOG\")\n",
    "df['GOOG'] = ticker.history(interval = '1d', start = '2015-01-01')['Close']\n",
    "\n",
    "log_return = np.log(1 + df.pct_change().dropna())\n",
    "\n",
    "# print(log_return)\n",
    "\n",
    "# sns.displot(log_return)\n",
    "# plt.xlabel(\"Daily Return\")\n",
    "# plt.ylabel(\"Frequency\")\n",
    "\n",
    "u = log_return.mean()\n",
    "var = log_return.var()\n",
    "drift = u - (.5*var)\n",
    "\n",
    "stdev = log_return.std()\n",
    "days = 50\n",
    "trials = 10000\n",
    "Z = norm.ppf(np.random.rand(days, trials))\n",
    "daily_return = np.exp(drift.values + stdev.values * Z)\n",
    "\n",
    "price_paths = np.zeros_like(daily_return)\n",
    "price_paths[0] = df.iloc[-1]\n",
    "for t in range(1, days):\n",
    "    price_paths[t] = price_paths[t-1]*daily_return[t]\n",
    "\n",
    "# print(price_paths)"
   ]
  },
  {
   "cell_type": "code",
   "execution_count": null,
   "id": "aed0e8cb",
   "metadata": {},
   "outputs": [
    {
     "name": "stdout",
     "output_type": "stream",
     "text": [
      "[9, 163.04, 0.96]\n"
     ]
    }
   ],
   "source": [
    "def import_stock_data(tickers, start = \"2015-01-01\"):\n",
    "    data = pd.DataFrame()\n",
    "    if len(tickers) == 1:\n",
    "        stock = yf.Ticker(tickers[0])\n",
    "        data[tickers[0]] = stock.history(interval = '1d', start = start)['Close']\n",
    "    else:\n",
    "        for x in tickers:\n",
    "            stock = yf.Ticker(x)\n",
    "            data[x] = stock.history(interval = '1d', start = start)['Close']\n",
    "    return data\n",
    "\n",
    "def log_returns(data): \n",
    "    return np.log(1 + data.pct_change().dropna())\n",
    "\n",
    "def simple_returns(data):\n",
    "    return (data/(data.shift(1))-1)\n",
    "\n",
    "def market_data_combination(data, mark_ticker='^GSPC', start = '2015-01-01'):\n",
    "    market_data = import_stock_data(mark_ticker, start)\n",
    "    market_rets = log_returns(market_data)\n",
    "    ann_return = np.exp(market_rets.mean() * 252).values-1\n",
    "    data = data.merge(market_data, left_index=True, right_index=True)\n",
    "    return data, ann_return\n",
    "\n",
    "def drift_calc(data, return_type = \"log\"): \n",
    "    if return_type == \"log\":\n",
    "        lr = log_returns(data)\n",
    "    elif return_type == \"simple\":\n",
    "        lr = simple_returns(data)\n",
    "    u = lr.mean()\n",
    "    var = lr.var()\n",
    "    drift = u-(.5*var)\n",
    "    try: \n",
    "        return drift.values\n",
    "    except:\n",
    "        return drift\n",
    "\n",
    "def daily_returns(data, days, iterations):\n",
    "    ft = drift_calc(data)\n",
    "    try: \n",
    "        stv = log_returns(data).std().values\n",
    "    except:\n",
    "        stv = log_returns(data).std()\n",
    "\n",
    "    dr = np.exp(ft + stv * norm.ppf(np.random.rand(days, iterations)))\n",
    "    return dr\n",
    "\n",
    "def simulate_mc(data, days, iterations, return_type='log', plot=True):\n",
    "    returns = daily_returns(data, days, iterations)\n",
    "    price_list = np.zeros_like(returns)\n",
    "    price_list[0] = data.iloc[-1]\n",
    "    for t in range(1, days):\n",
    "        price_list[t] = price_list[t-1] * returns[t]\n",
    "    \n",
    "    # if plot:\n",
    "    #     x = pd.DataFrame(price_list).iloc[-1]\n",
    "    #     fig, ax = plt.subplots(1,2, figsize=(14,4))\n",
    "    #     sns.displot(x, ax=ax[0])\n",
    "    #     sns.displot(x, hist_kws={'cumulative':True},kde_kws={'cumulative':True}, ax=ax[1])\n",
    "    #     plt.xlabel('Stock Price')\n",
    "    #     plt.show()\n",
    "    \n",
    "\n",
    "    total_days = days - 1\n",
    "    expected_value = round(pd.DataFrame(price_list).iloc[-1].mean(), 2)\n",
    "    return_pct = round(100*(expected_value-price_list[0,1])/expected_value, 2)\n",
    "\n",
    "    return [total_days, expected_value, return_pct]\n",
    "\n",
    "def monte_carlo(ticker, days, iterations):\n",
    "    df = import_stock_data([ticker])\n",
    "    return simulate_mc(df, days, iterations)\n",
    "\n",
    "print(monte_carlo('GOOG', 10, 100))"
   ]
  },
  {
   "cell_type": "markdown",
   "id": "154e6fee",
   "metadata": {},
   "source": [
    "The output of this is in the order (total_days, expected value, return percentage)\n",
    "\n",
    "#####TODO rewrite"
   ]
  },
  {
   "cell_type": "markdown",
   "id": "de1c13c9",
   "metadata": {},
   "source": [
    "## Optimizing the stock portfolio\n",
    "\n",
    "It's great that we can create a stock portfolio that we can work with, and we can even analyze how strong it is using quantstats! It would be even better if we could take the portfolio we made and see if we can change our investment amounts to maximize our returns. There are a couple steps to get it set up, but thankfully, scipy has a function that can maximize our returns given an initial investment percentage for each stock, and a history of each stock's percentage change in price.\n",
    "\n",
    "First, we are going to create a sample version of our portfolio that pulls stock history for every ticker that we have selected, adding their opening price at every interval to the function and storing all of this in a dataframe. Then, we use the pct_change function to determine the change between each frame for each stock, allowing us to determine the most efficient investment of stocks."
   ]
  },
  {
   "cell_type": "code",
   "execution_count": null,
   "id": "4a74b215",
   "metadata": {},
   "outputs": [],
   "source": [
    "testList = portfolio\n",
    "\n",
    "# pull the first stock's data; drop all unnecessary columns\n",
    "ticker = yf.Ticker(testList[0])\n",
    "df = ticker.history(interval = '1d', start = '2015-01-01', end = '2025-04-01')\n",
    "df.drop(columns=['High', 'Low', 'Close', 'Volume', 'Dividends', 'Stock Splits'], inplace=True)\n",
    "df.rename({'Open' : 'AAPL'}, inplace=True)\n",
    "\n",
    "# for every other ticker, add its open value to the existing dataframe\n",
    "for x in testList[1:]:\n",
    "    ticker = yf.Ticker(x)\n",
    "    data = ticker.history(interval = '1d', start = '2015-01-01', end = '2025-04-01')\n",
    "    df.insert(len(df.columns), x, data[\"Open\"]) # for whatever reason, this line wont work\n",
    "\n",
    "#calculate percent returns for each day of each stock\n",
    "returns_df = df.pct_change(1).dropna()"
   ]
  },
  {
   "cell_type": "markdown",
   "id": "b62cd359",
   "metadata": {},
   "source": [
    "Now, we need to determine the value of each portfolio's return. This is simply the return of each stock multipled by its weight in the portfolio. Because it is this way for each stock, we can compute the return as a dot product of returns and weights, then multiply by 250 trading days in a year to annualize our result!"
   ]
  },
  {
   "cell_type": "code",
   "execution_count": null,
   "id": "bbc11ee0",
   "metadata": {},
   "outputs": [],
   "source": [
    "#operationalize determining portfolio returns\n",
    "def getPfReturn(weights):\n",
    "    \"\"\"\n",
    "    return is annualized expected return of portfolio\n",
    "    \"\"\"\n",
    "    expRetPortfolio = np.dot(np.transpose(weights), returns_df.mean()) * 250\n",
    "    return expRetPortfolio"
   ]
  },
  {
   "cell_type": "markdown",
   "id": "a62679e4",
   "metadata": {},
   "source": [
    "Now, we need to start bounding the function that will maximize our returns given an investment. We will use scipy's minimize function to do this. Despite its name, the minimize function works by minimizing the constraints that you give it, so minimizing the difference between our portfolio return and our target return will enable us to hit our target return, \"maximizing\" the output of our portfolio. If we want to truly maximize, we can continue pushing up this target return incrementally until we reach it!.\n",
    "\n",
    "First, we will start with initial weights of each stock in our portfolio. We can either use the weights we selected previously, or we can simply start with each stock having an equal weight in our portfolio. You can choose this by slightly modifying the code below. ###need to add this modification\n",
    "\n",
    "Now, we need to set our target return value, which we selefcted to arbitrarily be .4, or a 40% return. This can be modified however you wish, but do note that the minimize function will fail if maximizing to the given return percentage is impossible.\n",
    "\n",
    "Another important goal is to bound the weight of each stock in our portfolio between 0 and 1, or 0% and 100%. It doesn't make much sense to be able to buy more than a full portfolio of stocks! We do this by creating a tuple that has the same length as our number of stocks, and each element in the tuple is another tuple storing the values (0,1), bounding our stock weights in that range\n",
    "\n",
    "Finally, we want to create two constraints for the function. This is done using the syntax below. Our first constraint says tat the sum of all weights should not exceed 1, or that our portfolio weights can't exceed 100%. We've done this already for individual stocks, but it's also important that we cant just spend 100% of our money in each stock. Finally, we also need to make sure that we \"minimize\" the difference between the returns for any set of portfolio weights the function generates and the target return we have set. "
   ]
  },
  {
   "cell_type": "code",
   "execution_count": null,
   "id": "fdf1ec84",
   "metadata": {},
   "outputs": [],
   "source": [
    "# start with stocks at equal weights\n",
    "numStocks = len(returns_df.columns)\n",
    "initialWeight = [1/numStocks] * numStocks\n",
    "\n",
    "# return goal?\n",
    "\n",
    "#TODO: figure out what we should set this value to\n",
    "\n",
    "targetReturn = .4\n",
    "\n",
    "# bounds the percentage of each stock we can hold (between 0 and 100%)\n",
    "bounds = tuple((0,1) for i in range(numStocks))\n",
    "\n",
    "# ensures the sum of all stock weights is 100% (or 1) in first constraint\n",
    "# sets goal of minimize function to hit targetReturn\n",
    "constraints = ({'type' : 'eq', 'fun' : lambda w : np.sum(w) - 1},\n",
    "               {'type' : 'eq', 'fun' : lambda x : x.dot(returns_df.mean()) * 250 - targetReturn})\n"
   ]
  },
  {
   "cell_type": "markdown",
   "id": "4e8ba7f6",
   "metadata": {},
   "source": [
    "Now that we have set all of our constraints, we need to use the maximize function! We set a variable called \"results\" equal to the minimize function with our function and all of the constraints. Through magic of scipy, it will iterate on our weights, modifying them in an attempt to maximize the return of our portfolio. We can print results to see whether it was successful, as well as the weights of each stock in our portfolio. We can also see our returns by using our returns function on the 'x' field of our minimize output."
   ]
  },
  {
   "cell_type": "code",
   "execution_count": null,
   "id": "6a75a5ba",
   "metadata": {},
   "outputs": [],
   "source": [
    "# can we reach our goal with these stocks??\n",
    "results = minimize(fun=getPfReturn, x0=initialWeight, bounds=bounds, constraints=constraints)\n",
    "\n",
    "#output\n",
    "print(results)\n",
    "\n",
    "optimizedResults = pd.DataFrame(results['x'])\n",
    "\n",
    "# print our optimized results\n",
    "getPfReturn(weights=results[\"x\"])\n",
    "optimizedResults.index = returns_df.columns\n",
    "print(optimizedResults)"
   ]
  },
  {
   "cell_type": "markdown",
   "id": "3555add1",
   "metadata": {},
   "source": [
    "Now, we've successfully used scipy to maximize the results from our function! We can even extract the weights and use them to model a portfolio. Let's use some similar code to graph the returns of a portfolio based on an inital investment above, but using our new optimized weights!"
   ]
  },
  {
   "cell_type": "code",
   "execution_count": null,
   "id": "9f881de1",
   "metadata": {},
   "outputs": [],
   "source": [
    "initial_portfolio_val = 1e6\n",
    "\n",
    "optimizedResults.rename(index={optimizedResults.index[0]: portfolio[0]}, inplace=True)\n",
    "optimized_allocations = optimizedResults[0].to_dict()\n",
    "\n",
    "\n",
    "optimized_returns = calculate_returns(initial_portfolio_val, dataframes, optimized_allocations)\n",
    "\n",
    "graph_values(returns, False, True)"
   ]
  },
  {
   "cell_type": "markdown",
   "id": "c538bb61",
   "metadata": {},
   "source": [
    "### 📉 Rechecking Strength After Optimization\n",
    "\n",
    "After optimizing our portfolio allocations to achieve a target return of 40%, we reevaluate the portfolio using updated historical performance metrics.\n",
    "\n",
    "The results below reflect the **impact of computational adjustments**:\n",
    "\n",
    "- **CAGR (Annual Return):** Shows the expected annual growth based on optimized allocations.\n",
    "- **Sharpe Ratio:** Tells us how well we’re balancing risk and reward with the new weights.\n",
    "- **Max Drawdown:** Indicates if the worst-case dip has improved.\n",
    "- **Volatility:** Helps assess whether the portfolio became more stable or more erratic.\n",
    "- **Avg Daily Return:** Confirms whether daily trends look stronger after optimization.\n",
    "\n",
    "This second performance check shows whether our changes actually led to a more efficient investment strategy.\n"
   ]
  },
  {
   "cell_type": "code",
   "execution_count": null,
   "id": "4c72f527-99d2-4d8d-a6cd-f1cbc4f6f907",
   "metadata": {},
   "outputs": [],
   "source": [
    "portfolio_info = portfolio_stats(optimized_returns)\n",
    "\n",
    "print(f\"📈 CAGR (Annual Return): {portfolio_info['cagr']:.2%}\")\n",
    "print(f\"📊 Sharpe Ratio: {portfolio_info['sharpe']:.2f}\")\n",
    "print(f\"📉 Max Drawdown: {portfolio_info['drawdown']:.2%}\")\n",
    "print(f\"📈 Volatility: {portfolio_info['volatility']:.2%}\")\n",
    "print(f\"📅 Average Daily Return: {portfolio_info['avg_return']:.2%}\")"
   ]
  },
  {
   "cell_type": "markdown",
   "id": "c3101a9e-b443-428f-ac65-b2f65d837ba2",
   "metadata": {},
   "source": [
    "After constructing our initial stock portfolio based on user-selected allocations, we evaluated its historical performance using metrics like annual return, Sharpe ratio, and drawdown. This gave us a baseline understanding of how well our portfolio performed under those weights.\n",
    "\n",
    "We then used optimization techniques (via scipy.minimize) to automatically adjust the stock allocations in order to achieve a target return while minimizing risk. This step simulates what a financial algorithm might do to make our portfolio more efficient.\n",
    "\n",
    "Finally, we re-evaluated the optimized portfolio using the same performance metrics. By comparing the before-and-after results, we can see whether the optimization actually improved our portfolio — either by increasing returns, reducing risk, or improving the Sharpe ratio (risk-adjusted performance).\n",
    "\n",
    "This comparison demonstrates the power of computational thinking in making data-driven investment decisions."
   ]
  },
  {
   "cell_type": "markdown",
   "id": "b02e1f38",
   "metadata": {},
   "source": [
    "https://ipywidgets.readthedocs.io/en/7.x/examples/Widget%20List.html#Checkbox\n",
    "https://ipywidgets.readthedocs.io/en/7.x/examples/Widget%20List.html#SelectMultiple\n",
    "https://ipywidgets.readthedocs.io/en/7.x/examples/Widget%20List.html#Tabs\n",
    "\n",
    "\n",
    "pyfolio: https://www.pyquantnews.com/the-pyquant-newsletter/create-beautiful-strategy-tear-sheets-pyfolio-reloaded\n",
    "\n",
    "\n",
    "https://medium.com/@ethan.duong1120/python-powered-portfolio-optimization-achieving-target-returns-through-weight-optimization-fc5163e5c9c6"
   ]
  }
 ],
 "metadata": {
  "kernelspec": {
   "display_name": "cs181",
   "language": "python",
   "name": "python3"
  },
  "language_info": {
   "codemirror_mode": {
    "name": "ipython",
    "version": 3
   },
   "file_extension": ".py",
   "mimetype": "text/x-python",
   "name": "python",
   "nbconvert_exporter": "python",
   "pygments_lexer": "ipython3",
   "version": "3.12.7"
  }
 },
 "nbformat": 4,
 "nbformat_minor": 5
}
