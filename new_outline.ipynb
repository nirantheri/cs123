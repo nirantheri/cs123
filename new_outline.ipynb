{
 "cells": [
  {
   "cell_type": "markdown",
   "id": "a21a0bd5",
   "metadata": {},
   "source": [
    "### Introduction: Applying Computational Thinking to Personal Finance and Portfolio Analysis\n",
    "In an era where financial independence is closely tied to the ability to make strategic investment decisions, understanding the mechanics of saving and investing has become a critical life skill. Yet, while many individuals understand the importance of saving, few have the tools or knowledge required to evaluate how different financial strategies—and especially investment decisions—impact long-term outcomes. This tutorial addresses that gap by introducing students to essential concepts in personal finance and portfolio analysis through a computational and data-driven approach.\n",
    "\n",
    "This tutorial begins by building a foundation in core savings principles. Learners will explore the functionality of common financial instruments such as high-yield savings accounts, 401(k)s, and Roth IRAs. Through interactive inputs and simulations, students will see how interest rates, compound growth, and tax advantages affect returns over time. These early exercises aim to demonstrate the value of starting early, contributing consistently, and choosing the right savings vehicles for one’s personal financial goals.\n",
    "\n",
    "Building on this foundation, the tutorial then transitions into a more advanced, investment-focused module: constructing and evaluating a personalized stock portfolio. Students will be guided through the process of:\n",
    "- Selecting their own breakdown of stocks to form a diversified portfolio based on individual risk preferences or interests.\n",
    "\n",
    "- Evaluating the strength of their chosen portfolio using historical data and key financial metrics.\n",
    "\n",
    "- Simulating potential future outcomes through Monte Carlo simulations, which model thousands of possible future scenarios to account for uncertainty and market volatility.\n",
    "\n",
    "- Optimizing the stock allocation using algorithmic methods that balance return potential with risk, aiming for the most efficient use of investment capital.\n",
    "\n",
    "- Rechecking the portfolio’s strength after optimization, to reflect the improvements made and demonstrate the impact of computational adjustments on financial performance.\n",
    "\n",
    "\n",
    "Throughout this tutorial, students will employ principles from computer science—such as data modeling, simulations, algorithmic thinking, and data visualization—to analyze financial data and make informed decisions. By the end of the tutorial, students will have developed not only a deeper understanding of financial literacy but also a practical appreciation for how computational tools can empower individuals to manage their personal wealth more effectively.\n",
    "\n",
    "This interdisciplinary exploration is designed to equip learners with a strong foundation in both personal finance and applied computation—skills that are increasingly essential in today’s data-rich, financially complex world."
   ]
  },
  {
   "cell_type": "markdown",
   "id": "1fcde335",
   "metadata": {},
   "source": [
    "### Disclaimer\n",
    "\n",
    "**No Guarantee of Accuracy:** While Isabel, Luna, and Nirantheri strive to provide accurate and up-to-date information, they do not guarantee the accuracy, completeness, or reliability of any content. Users should independently verify any information before making financial or investment decisions based on it.\n",
    "\n",
    "\n",
    "**Investment Risks:** Investing involves inherent risks, including but not limited to market fluctuations, economic uncertainty, geopolitical events, and individual asset performance. Past performance is not indicative of future results, and no content provided implies a guarantee of investment success.\n",
    "\n",
    "**Limitation of Liability:** Mentions of specific financial products, services, companies, or securities within the content do not constitute endorsements or recommendations. Users are responsible for conducting their own research and due diligence.\n",
    "\n",
    "**No Liability:** Isabel, Luna, Nirantheri, and their affiliates, partners, or contributors shall not be held liable for any loss, damage, or expense resulting from the use of or reliance on the provided information. All investment decisions made based on this content are the sole responsibility of the user.\n",
    "\n",
    "**Disclaimer Updates:** This disclaimer is subject to change without notice. Users are responsible for reviewing it periodically to stay informed of any updates.\n",
    "\n"
   ]
  },
  {
   "cell_type": "markdown",
   "id": "29064aa1",
   "metadata": {},
   "source": [
    "### using old material : Nirantheri\n",
    "\n",
    "\n",
    "The code to show the importance of investing vs savings (just draw out each of the ira, 401k, hysa along with no investment to show)\n",
    "How to use information.md?"
   ]
  },
  {
   "cell_type": "markdown",
   "id": "5b4b991e",
   "metadata": {},
   "source": [
    "### setup\n",
    "\n",
    "include all packages for setting up (pyfolio, package)"
   ]
  },
  {
   "cell_type": "code",
   "execution_count": 5,
   "id": "4102a911",
   "metadata": {},
   "outputs": [],
   "source": [
    "# all libraries\n",
    "\n",
    "# import pyfolio\n",
    "import yfinance as yf\n",
    "import numpy as np\n",
    "import scipy\n",
    "import ipywidgets as widgets\n",
    "import pandas as pd\n",
    "from scipy.optimize import minimize\n",
    "from IPython.display import display\n",
    "# import altair as alt"
   ]
  },
  {
   "cell_type": "markdown",
   "id": "07c04a66",
   "metadata": {},
   "source": [
    "### Choosing stocks for a portfolio: Nirantheri\n",
    "\n",
    "\n",
    "Apple: 'AAPL'\n",
    "Costco: 'COST'\n",
    "Microsoft: 'MSFT'\n",
    "Google: 'GOOG'\n",
    "Nvidia: 'NVDA'\n",
    "Walmart: 'WMT'\n",
    "AMC Entertainment 'AMC'\n",
    "S&P 500: '^GSPC'\n",
    "Dow Jones Industrial: '^DJI'\n",
    "Nasdaq: '^IXIC'\n",
    "Vanguard S&P 500 ETF: 'VOO'\n",
    "Vanguard Total Stock Market Index Fund: 'VSMPX'\n",
    "Fidelity 500 Index Fund: 'FXAIX'\n",
    "Gold: 'GLD'\n",
    "\n",
    "Give them a list of 20-30 common stocks, etfs, and mutual funds (can use checkbox widget)\n",
    "ipywidgets: \n",
    "[checkbox](https://ipywidgets.readthedocs.io/en/7.x/examples/Widget%20List.html#Checkbox)\n",
    "[select multiple](https://ipywidgets.readthedocs.io/en/7.x/examples/Widget%20List.html#SelectMultiple)\n",
    "ex.\n",
    "- S&P 500\n",
    "- Dow\n",
    "- Nasdaq\n",
    "- Apple\n",
    "- Tesla\n",
    "- Google\n",
    "- Gold??\n",
    "- etc"
   ]
  },
  {
   "cell_type": "code",
   "execution_count": 6,
   "id": "7af31160",
   "metadata": {},
   "outputs": [
    {
     "data": {
      "application/vnd.jupyter.widget-view+json": {
       "model_id": "df4cf8ec3b994b2686a9a13f314c7523",
       "version_major": 2,
       "version_minor": 0
      },
      "text/plain": [
       "SelectMultiple(description='Stocks', options=('Apple', 'Costco', 'Microsoft', 'Google', 'Nvidia', 'Walmart', '…"
      ]
     },
     "metadata": {},
     "output_type": "display_data"
    }
   ],
   "source": [
    "codes = {\"Apple\": 'AAPL',\n",
    "        \"Costco\": 'COST',\n",
    "        \"Microsoft\": 'MSFT',\n",
    "        \"Google\": 'GOOG',\n",
    "        \"Nvidia\": 'NVDA',\n",
    "        \"Walmart\": 'WMT',\n",
    "        \"AMC Entertainment\": 'AMC',\n",
    "        \"S&P 500\": '^GSPC',\n",
    "        \"Dow Jones Industrial\": '^DJI',\n",
    "        \"Nasdaq\": '^IXIC',\n",
    "        \"Vanguard S&P 500 ETF\": 'VOO',\n",
    "        \"Fidelity 500 Index Fund\": 'FXAIX',\n",
    "        \"Gold\":'GLD'}\n",
    "\n",
    "codes.keys()\n",
    "\n",
    "\n",
    "choices = widgets.SelectMultiple(\n",
    "    options=codes.keys(),\n",
    "    value=[],\n",
    "    rows=20,\n",
    "    description='Stocks',\n",
    "    disabled=False\n",
    ")\n",
    "\n",
    "display(choices)"
   ]
  },
  {
   "cell_type": "markdown",
   "id": "52f0405d",
   "metadata": {},
   "source": [
    "### Picking your own breakdown of stocks : Nirantheri\n",
    "\n",
    "use another widget, maybe with a slider (tbd)\n",
    "\n",
    "[setup using the above code chunk](https://ipywidgets.readthedocs.io/en/7.x/examples/Widget%20List.html#Tabs)"
   ]
  },
  {
   "cell_type": "code",
   "execution_count": 7,
   "id": "35f83dbc",
   "metadata": {},
   "outputs": [
    {
     "data": {
      "application/vnd.jupyter.widget-view+json": {
       "model_id": "e84fc594bc2f48b1bf532400f8f7a525",
       "version_major": 2,
       "version_minor": 0
      },
      "text/plain": [
       "Tab()"
      ]
     },
     "metadata": {},
     "output_type": "display_data"
    }
   ],
   "source": [
    "# get breakdown\n",
    "\n",
    "# get codes for further down\n",
    "portfolio = []\n",
    "\n",
    "for i in range(len(choices.value)):\n",
    "    portfolio.append(codes[choices.value[i]])\n",
    "    \n",
    "# pick distribution\n",
    "\n",
    "tab_contents = [\"Value\"] * len(choices.value)\n",
    "children = [widgets.Text(description=name) for name in tab_contents]\n",
    "tab = widgets.Tab()\n",
    "tab.children = children\n",
    "tab.titles = choices.value\n",
    "\n",
    "tab\n"
   ]
  },
  {
   "cell_type": "code",
   "execution_count": null,
   "id": "985e3e8b",
   "metadata": {},
   "outputs": [
    {
     "name": "stdout",
     "output_type": "stream",
     "text": [
      "✅ Allocations set: {}\n"
     ]
    }
   ],
   "source": [
    "# matching allocation amounts to stock codes given inputs from above\n",
    "\n",
    "allocations = {}\n",
    "\n",
    "for i in range(len(tab.children)):\n",
    "    allocations[portfolio[i]]=tab.children[i].value\n",
    "\n",
    "\n"
   ]
  },
  {
   "cell_type": "markdown",
   "id": "a1f4eed5",
   "metadata": {},
   "source": [
    "### pulling the yf data: Luna\n",
    "\n",
    "Assume that the list of stocks will come in as a set of stock codes so you can write a loop to get each of them"
   ]
  },
  {
   "cell_type": "code",
   "execution_count": 31,
   "id": "ace55141",
   "metadata": {},
   "outputs": [],
   "source": [
    "#pulled a dictionary of different stocks, keys are tickers? i cant think of a better way to store them because the list is variable so its a bit of an issue\n",
    "\n",
    "# testList = ['AAPL', 'MSFT', 'GOOG', 'NVDA', '^GSPC', '^DJI', '^IXIC']\n",
    "\n",
    "testList=portfolio\n",
    "testString = ' '.join(testList)\n",
    "\n",
    "tickersPull = yf.Tickers(testString)\n",
    "\n",
    "#in the dictionary dataframes, each ticker is indexed by its ticker as seen in the testList (auto_adjust accounts for splits and dividends)\n",
    "dataframes = {}\n",
    "for x in testList:\n",
    "    ticker = yf.Ticker(x)\n",
    "    dataframes[x] = ticker.history(period='1mo', start='2015-01-01', auto_adjust=True)\n",
    "    # print(dataframes[x])\n",
    "\n"
   ]
  },
  {
   "cell_type": "markdown",
   "id": "6c8434ca",
   "metadata": {},
   "source": [
    "## Checking the returns with this \n",
    "\n",
    "https://blog.mlq.ai/python-for-finance-portfolio-optimization/\n"
   ]
  },
  {
   "cell_type": "code",
   "execution_count": 38,
   "id": "c4a4a2ec",
   "metadata": {},
   "outputs": [
    {
     "ename": "ValueError",
     "evalue": "No objects to concatenate",
     "output_type": "error",
     "traceback": [
      "\u001b[0;31m---------------------------------------------------------------------------\u001b[0m",
      "\u001b[0;31mValueError\u001b[0m                                Traceback (most recent call last)",
      "\u001b[0;32m<ipython-input-38-9d2a7a78c0bd>\u001b[0m in \u001b[0;36m<module>\u001b[0;34m\u001b[0m\n\u001b[1;32m     21\u001b[0m \u001b[0;34m\u001b[0m\u001b[0m\n\u001b[1;32m     22\u001b[0m \u001b[0;31m# concatenate the list of position values\u001b[0m\u001b[0;34m\u001b[0m\u001b[0;34m\u001b[0m\u001b[0;34m\u001b[0m\u001b[0m\n\u001b[0;32m---> 23\u001b[0;31m \u001b[0mportfolio_val\u001b[0m \u001b[0;34m=\u001b[0m \u001b[0mpd\u001b[0m\u001b[0;34m.\u001b[0m\u001b[0mconcat\u001b[0m\u001b[0;34m(\u001b[0m\u001b[0mall_pos_vals\u001b[0m\u001b[0;34m,\u001b[0m \u001b[0maxis\u001b[0m\u001b[0;34m=\u001b[0m\u001b[0;36m1\u001b[0m\u001b[0;34m)\u001b[0m\u001b[0;34m\u001b[0m\u001b[0;34m\u001b[0m\u001b[0m\n\u001b[0m\u001b[1;32m     24\u001b[0m \u001b[0;34m\u001b[0m\u001b[0m\n\u001b[1;32m     25\u001b[0m \u001b[0;31m# set the column names\u001b[0m\u001b[0;34m\u001b[0m\u001b[0;34m\u001b[0m\u001b[0;34m\u001b[0m\u001b[0m\n",
      "\u001b[0;32m~/opt/anaconda3/lib/python3.8/site-packages/pandas/core/reshape/concat.py\u001b[0m in \u001b[0;36mconcat\u001b[0;34m(objs, axis, join, ignore_index, keys, levels, names, verify_integrity, sort, copy)\u001b[0m\n\u001b[1;32m    370\u001b[0m         \u001b[0mcopy\u001b[0m \u001b[0;34m=\u001b[0m \u001b[0;32mFalse\u001b[0m\u001b[0;34m\u001b[0m\u001b[0;34m\u001b[0m\u001b[0m\n\u001b[1;32m    371\u001b[0m \u001b[0;34m\u001b[0m\u001b[0m\n\u001b[0;32m--> 372\u001b[0;31m     op = _Concatenator(\n\u001b[0m\u001b[1;32m    373\u001b[0m         \u001b[0mobjs\u001b[0m\u001b[0;34m,\u001b[0m\u001b[0;34m\u001b[0m\u001b[0;34m\u001b[0m\u001b[0m\n\u001b[1;32m    374\u001b[0m         \u001b[0maxis\u001b[0m\u001b[0;34m=\u001b[0m\u001b[0maxis\u001b[0m\u001b[0;34m,\u001b[0m\u001b[0;34m\u001b[0m\u001b[0;34m\u001b[0m\u001b[0m\n",
      "\u001b[0;32m~/opt/anaconda3/lib/python3.8/site-packages/pandas/core/reshape/concat.py\u001b[0m in \u001b[0;36m__init__\u001b[0;34m(self, objs, axis, join, keys, levels, names, ignore_index, verify_integrity, copy, sort)\u001b[0m\n\u001b[1;32m    427\u001b[0m \u001b[0;34m\u001b[0m\u001b[0m\n\u001b[1;32m    428\u001b[0m         \u001b[0;32mif\u001b[0m \u001b[0mlen\u001b[0m\u001b[0;34m(\u001b[0m\u001b[0mobjs\u001b[0m\u001b[0;34m)\u001b[0m \u001b[0;34m==\u001b[0m \u001b[0;36m0\u001b[0m\u001b[0;34m:\u001b[0m\u001b[0;34m\u001b[0m\u001b[0;34m\u001b[0m\u001b[0m\n\u001b[0;32m--> 429\u001b[0;31m             \u001b[0;32mraise\u001b[0m \u001b[0mValueError\u001b[0m\u001b[0;34m(\u001b[0m\u001b[0;34m\"No objects to concatenate\"\u001b[0m\u001b[0;34m)\u001b[0m\u001b[0;34m\u001b[0m\u001b[0;34m\u001b[0m\u001b[0m\n\u001b[0m\u001b[1;32m    430\u001b[0m \u001b[0;34m\u001b[0m\u001b[0m\n\u001b[1;32m    431\u001b[0m         \u001b[0;32mif\u001b[0m \u001b[0mkeys\u001b[0m \u001b[0;32mis\u001b[0m \u001b[0;32mNone\u001b[0m\u001b[0;34m:\u001b[0m\u001b[0;34m\u001b[0m\u001b[0;34m\u001b[0m\u001b[0m\n",
      "\u001b[0;31mValueError\u001b[0m: No objects to concatenate"
     ]
    }
   ],
   "source": [
    "initial_portfolio_val = 1e6\n",
    "all_pos_vals = []\n",
    "\n",
    "\n",
    "for stock_name in dataframes:\n",
    "    # grab the dataframe for a single stock\n",
    "    stock_df = dataframes[stock_name] \n",
    "    # create normed return column\n",
    "    stock_df['Normed Return'] = stock_df['Close'] /stock_df.iloc[0]['Close']\n",
    "\n",
    "    # use normed return to adjust the percentage of portfolio held\n",
    "    allocation = float(allocations[stock_name])  # Convert allocation to float\n",
    "    stock_df['Allocation'] = stock_df['Normed Return']*allocation\n",
    "\n",
    "    # find value of stock at each date\n",
    "    stock_df['Position Value'] = stock_df['Allocation']*initial_portfolio_val\n",
    "\n",
    "    # add to list of all position values\n",
    "    all_pos_vals.append(stock_df['Position Value'])\n",
    "\n",
    "\n",
    "# concatenate the list of position values\n",
    "portfolio_val = pd.concat(all_pos_vals, axis=1)\n",
    "\n",
    "# set the column names\n",
    "portfolio_val.columns = portfolio\n",
    "\n",
    "# add a total portfolio column\n",
    "portfolio_val['Total'] = portfolio_val.sum(axis=1)\n",
    "\n",
    "# changing date to column not index\n",
    "portfolio_val = portfolio_val.reset_index()\n",
    "\n",
    "# Resample the portfolio_val DataFrame to only include the last date of each month\n",
    "portfolio_val = portfolio_val.resample('ME', on='Date').last().reset_index()\n"
   ]
  },
  {
   "cell_type": "markdown",
   "id": "ff8c807f",
   "metadata": {},
   "source": [
    "Now that we've created a projection of how our data has been growing over time, let's see what to expect!"
   ]
  },
  {
   "cell_type": "code",
   "execution_count": 17,
   "id": "1ed5b08b",
   "metadata": {},
   "outputs": [
    {
     "ename": "NameError",
     "evalue": "name 'portfolio_val' is not defined",
     "output_type": "error",
     "traceback": [
      "\u001b[0;31m---------------------------------------------------------------------------\u001b[0m",
      "\u001b[0;31mNameError\u001b[0m                                 Traceback (most recent call last)",
      "\u001b[0;32m<ipython-input-17-0e1bdbff94e3>\u001b[0m in \u001b[0;36m<module>\u001b[0;34m\u001b[0m\n\u001b[1;32m     18\u001b[0m \u001b[0;32mimport\u001b[0m \u001b[0mmatplotlib\u001b[0m\u001b[0;34m.\u001b[0m\u001b[0mpyplot\u001b[0m \u001b[0;32mas\u001b[0m \u001b[0mplt\u001b[0m\u001b[0;34m\u001b[0m\u001b[0;34m\u001b[0m\u001b[0m\n\u001b[1;32m     19\u001b[0m \u001b[0mget_ipython\u001b[0m\u001b[0;34m(\u001b[0m\u001b[0;34m)\u001b[0m\u001b[0;34m.\u001b[0m\u001b[0mrun_line_magic\u001b[0m\u001b[0;34m(\u001b[0m\u001b[0;34m'matplotlib'\u001b[0m\u001b[0;34m,\u001b[0m \u001b[0;34m'inline'\u001b[0m\u001b[0;34m)\u001b[0m\u001b[0;34m\u001b[0m\u001b[0;34m\u001b[0m\u001b[0m\n\u001b[0;32m---> 20\u001b[0;31m \u001b[0mportfolio_val\u001b[0m\u001b[0;34m[\u001b[0m\u001b[0;34m'Total'\u001b[0m\u001b[0;34m]\u001b[0m\u001b[0;34m.\u001b[0m\u001b[0mplot\u001b[0m\u001b[0;34m(\u001b[0m\u001b[0mfigsize\u001b[0m\u001b[0;34m=\u001b[0m\u001b[0;34m(\u001b[0m\u001b[0;36m10\u001b[0m\u001b[0;34m,\u001b[0m\u001b[0;36m8\u001b[0m\u001b[0;34m)\u001b[0m\u001b[0;34m)\u001b[0m\u001b[0;34m\u001b[0m\u001b[0;34m\u001b[0m\u001b[0m\n\u001b[0m\u001b[1;32m     21\u001b[0m \u001b[0mportfolio_val\u001b[0m\u001b[0;34m.\u001b[0m\u001b[0mdrop\u001b[0m\u001b[0;34m(\u001b[0m\u001b[0;34m'Total'\u001b[0m\u001b[0;34m,\u001b[0m \u001b[0maxis\u001b[0m\u001b[0;34m=\u001b[0m\u001b[0;36m1\u001b[0m\u001b[0;34m)\u001b[0m\u001b[0;34m.\u001b[0m\u001b[0mset_index\u001b[0m\u001b[0;34m(\u001b[0m\u001b[0;34m'Date'\u001b[0m\u001b[0;34m)\u001b[0m\u001b[0;34m.\u001b[0m\u001b[0mplot\u001b[0m\u001b[0;34m(\u001b[0m\u001b[0mfigsize\u001b[0m\u001b[0;34m=\u001b[0m\u001b[0;34m(\u001b[0m\u001b[0;36m10\u001b[0m\u001b[0;34m,\u001b[0m\u001b[0;36m8\u001b[0m\u001b[0;34m)\u001b[0m\u001b[0;34m)\u001b[0m\u001b[0;34m\u001b[0m\u001b[0;34m\u001b[0m\u001b[0m\n\u001b[1;32m     22\u001b[0m \u001b[0;34m\u001b[0m\u001b[0m\n",
      "\u001b[0;31mNameError\u001b[0m: name 'portfolio_val' is not defined"
     ]
    }
   ],
   "source": [
    "# # need to pivot the data\n",
    "# # print(portfolio_val.head())\n",
    "# print(portfolio_val.info())\n",
    "# portfolio_val.drop(\"^IXIC\", axis=1)\n",
    "# pivoted_data = portfolio_val.melt(id_vars=\"Date\", var_name=\"Stock\", value_name=\"Value\")\n",
    "\n",
    "# pivoted_data.head()\n",
    "\n",
    "\n",
    "# alt.Chart(pivoted_data).mark_line().encode(\n",
    "#     alt.X(\"Date:T\", title=\"Date\"),\n",
    "#     alt.Y(\"Value:Q\", title=\"Portfolio Value\"),\n",
    "#     alt.Color(\"Stock:N\", title=\"Stock\")\n",
    "# )\n",
    "\n",
    "\n",
    "# plot our portfolio\n",
    "import matplotlib.pyplot as plt\n",
    "%matplotlib inline\n",
    "portfolio_val['Total'].plot(figsize=(10,8))\n",
    "portfolio_val.drop('Total', axis=1).set_index('Date').plot(figsize=(10,8))\n",
    "\n",
    "\n",
    "print(\"total value\", portfolio_val['Total'].iat[-1])"
   ]
  },
  {
   "cell_type": "markdown",
   "id": "cdea0ef3",
   "metadata": {},
   "source": [
    "### check strength of portfolio : Isabel\n",
    "pyfolio: https://www.pyquantnews.com/the-pyquant-newsletter/create-beautiful-strategy-tear-sheets-pyfolio-reloaded\n",
    "can also use quantstats\n",
    "\n",
    "\n",
    "\n",
    "pyfolio: get the tear sheets--> then use pandas to pull specific metrics (annual return, etc) and then have a md cell which breaks down what each of them means"
   ]
  },
  {
   "cell_type": "code",
   "execution_count": null,
   "id": "a486629e",
   "metadata": {},
   "outputs": [
    {
     "data": {
      "application/vnd.jupyter.widget-view+json": {
       "model_id": "092ebdd814b44e19af11b1e4c99e6f64",
       "version_major": 2,
       "version_minor": 0
      },
      "text/plain": [
       "SelectMultiple(description='Stocks', options=('Apple', 'Microsoft', 'Google', 'Nvidia', 'Tesla', 'S&P 500', 'D…"
      ]
     },
     "metadata": {},
     "output_type": "display_data"
    },
    {
     "data": {
      "application/vnd.jupyter.widget-view+json": {
       "model_id": "43b532e1012b49a5b766284bf06b9a2f",
       "version_major": 2,
       "version_minor": 0
      },
      "text/plain": [
       "Button(description='Submit Stock Selection', style=ButtonStyle())"
      ]
     },
     "metadata": {},
     "output_type": "display_data"
    },
    {
     "data": {
      "application/vnd.jupyter.widget-view+json": {
       "model_id": "0e1d71cb73854c6aa08cd86214913a9a",
       "version_major": 2,
       "version_minor": 0
      },
      "text/plain": [
       "Output()"
      ]
     },
     "metadata": {},
     "output_type": "display_data"
    }
   ],
   "source": [
    "##Isabel's Interactive Stock Picker + Allocation Setup\n",
    "\n",
    "import ipywidgets as widgets\n",
    "from IPython.display import display, clear_output\n",
    "\n",
    "# Available stock options\n",
    "codes = {\n",
    "    \"Apple\": 'AAPL',\n",
    "    \"Microsoft\": 'MSFT',\n",
    "    \"Google\": 'GOOG',\n",
    "    \"Nvidia\": 'NVDA',\n",
    "    \"Tesla\": 'TSLA',\n",
    "    \"S&P 500\": '^GSPC',\n",
    "    \"Dow Jones\": '^DJI',\n",
    "    \"Nasdaq\": '^IXIC',\n",
    "    \"Gold\": 'GLD'\n",
    "}\n",
    "\n",
    "# Stock selection widget\n",
    "stock_selector = widgets.SelectMultiple(\n",
    "    options=codes.keys(),\n",
    "    value=[],\n",
    "    rows=10,\n",
    "    description='Stocks',\n",
    "    disabled=False\n",
    ")\n",
    "\n",
    "# Button to confirm selection and show allocation inputs\n",
    "submit_btn = widgets.Button(description=\"Submit Stock Selection\")\n",
    "\n",
    "# Output area to update UI\n",
    "output = widgets.Output()\n",
    "\n",
    "# Callback for the button\n",
    "def on_submit_clicked(b):\n",
    "    output.clear_output()\n",
    "    with output:\n",
    "        selected = list(stock_selector.value)\n",
    "        if not selected:\n",
    "            print(\"❌ Please select at least one stock.\")\n",
    "            return\n",
    "\n",
    "        allocation_inputs = []\n",
    "        print(\"📊 Enter your allocation percentages (e.g. 0.3 for 30%)\")\n",
    "        for stock in selected:\n",
    "            input_widget = widgets.Text(\n",
    "                description=stock,\n",
    "                placeholder=\"Enter % (0 to 1)\"\n",
    "            )\n",
    "            allocation_inputs.append((stock, input_widget))\n",
    "            display(input_widget)\n",
    "\n",
    "        # Save allocations on second button press\n",
    "        def finalize_allocations(btn):\n",
    "            global allocations\n",
    "            allocations = {}\n",
    "            try:\n",
    "                for stock, widget in allocation_inputs:\n",
    "                    val = float(widget.value)\n",
    "                    if val < 0 or val > 1:\n",
    "                        raise ValueError(\"Out of bounds\")\n",
    "                    allocations[codes[stock]] = val\n",
    "                print(\"\\n✅ Allocations saved!\")\n",
    "                print(\"Portfolio:\", [codes[stock] for stock in selected])\n",
    "                print(\"Allocations:\", allocations)\n",
    "            except Exception as e:\n",
    "                print(\"⚠️ Error: Make sure all values are valid numbers between 0 and 1.\")\n",
    "\n",
    "        confirm_btn = widgets.Button(description=\"Confirm Allocations\")\n",
    "        confirm_btn.on_click(finalize_allocations)\n",
    "        display(confirm_btn)\n",
    "\n",
    "submit_btn.on_click(on_submit_clicked)\n",
    "\n",
    "display(stock_selector, submit_btn, output)\n"
   ]
  },
  {
   "cell_type": "markdown",
   "id": "b9d2b93f",
   "metadata": {},
   "source": [
    "### montecarlo simulations : tbd\n",
    "\n",
    "uses yahoo finance package and others to create montecarlo simulation for modeling\n",
    "\n",
    "montecarlo https://medium.com/analytics-vidhya/monte-carlo-simulations-for-predicting-stock-prices-python-a64f53585662"
   ]
  },
  {
   "cell_type": "markdown",
   "id": "d21089be",
   "metadata": {},
   "source": [
    "### optimizing the set of stocks : luna\n",
    "\n",
    "use scipy\n",
    "\n",
    "optimizing your investment: https://medium.com/@ethan.duong1120/python-powered-portfolio-optimization-achieving-target-returns-through-weight-optimization-fc5163e5c9c6\n"
   ]
  },
  {
   "cell_type": "code",
   "execution_count": 14,
   "id": "4a74b215",
   "metadata": {},
   "outputs": [
    {
     "ename": "IndexError",
     "evalue": "too many indices for array",
     "output_type": "error",
     "traceback": [
      "\u001b[0;31m---------------------------------------------------------------------------\u001b[0m",
      "\u001b[0;31mIndexError\u001b[0m                                Traceback (most recent call last)",
      "\u001b[0;32m<ipython-input-14-7eb8f596cd24>\u001b[0m in \u001b[0;36m<module>\u001b[0;34m\u001b[0m\n\u001b[1;32m      5\u001b[0m \u001b[0mdf\u001b[0m \u001b[0;34m=\u001b[0m \u001b[0mticker\u001b[0m\u001b[0;34m.\u001b[0m\u001b[0mhistory\u001b[0m\u001b[0;34m(\u001b[0m\u001b[0minterval\u001b[0m \u001b[0;34m=\u001b[0m \u001b[0;34m'1d'\u001b[0m\u001b[0;34m,\u001b[0m \u001b[0mstart\u001b[0m \u001b[0;34m=\u001b[0m \u001b[0;34m'2015-01-01'\u001b[0m\u001b[0;34m,\u001b[0m \u001b[0mend\u001b[0m \u001b[0;34m=\u001b[0m \u001b[0;34m'2025-04-01'\u001b[0m\u001b[0;34m)\u001b[0m\u001b[0;34m\u001b[0m\u001b[0;34m\u001b[0m\u001b[0m\n\u001b[1;32m      6\u001b[0m \u001b[0mdf\u001b[0m\u001b[0;34m.\u001b[0m\u001b[0mdrop\u001b[0m\u001b[0;34m(\u001b[0m\u001b[0mcolumns\u001b[0m\u001b[0;34m=\u001b[0m\u001b[0;34m[\u001b[0m\u001b[0;34m'High'\u001b[0m\u001b[0;34m,\u001b[0m \u001b[0;34m'Low'\u001b[0m\u001b[0;34m,\u001b[0m \u001b[0;34m'Close'\u001b[0m\u001b[0;34m,\u001b[0m \u001b[0;34m'Volume'\u001b[0m\u001b[0;34m,\u001b[0m \u001b[0;34m'Dividends'\u001b[0m\u001b[0;34m,\u001b[0m \u001b[0;34m'Stock Splits'\u001b[0m\u001b[0;34m]\u001b[0m\u001b[0;34m,\u001b[0m \u001b[0minplace\u001b[0m\u001b[0;34m=\u001b[0m\u001b[0;32mTrue\u001b[0m\u001b[0;34m)\u001b[0m\u001b[0;34m\u001b[0m\u001b[0;34m\u001b[0m\u001b[0m\n\u001b[0;32m----> 7\u001b[0;31m \u001b[0mdf\u001b[0m\u001b[0;34m.\u001b[0m\u001b[0mrename\u001b[0m\u001b[0;34m(\u001b[0m\u001b[0;34m{\u001b[0m\u001b[0;34m'Open'\u001b[0m \u001b[0;34m:\u001b[0m \u001b[0;34m'AAPL'\u001b[0m\u001b[0;34m}\u001b[0m\u001b[0;34m)\u001b[0m\u001b[0;34m\u001b[0m\u001b[0;34m\u001b[0m\u001b[0m\n\u001b[0m\u001b[1;32m      8\u001b[0m \u001b[0;34m\u001b[0m\u001b[0m\n\u001b[1;32m      9\u001b[0m \u001b[0;31m# for every other ticker, add its open value to the existing dataframe\u001b[0m\u001b[0;34m\u001b[0m\u001b[0;34m\u001b[0m\u001b[0;34m\u001b[0m\u001b[0m\n",
      "\u001b[0;32m~/opt/anaconda3/lib/python3.8/site-packages/pandas/core/frame.py\u001b[0m in \u001b[0;36mrename\u001b[0;34m(self, mapper, index, columns, axis, copy, inplace, level, errors)\u001b[0m\n\u001b[1;32m   5430\u001b[0m         \u001b[0;36m4\u001b[0m  \u001b[0;36m3\u001b[0m  \u001b[0;36m6\u001b[0m\u001b[0;34m\u001b[0m\u001b[0;34m\u001b[0m\u001b[0m\n\u001b[1;32m   5431\u001b[0m         \"\"\"\n\u001b[0;32m-> 5432\u001b[0;31m         return super()._rename(\n\u001b[0m\u001b[1;32m   5433\u001b[0m             \u001b[0mmapper\u001b[0m\u001b[0;34m=\u001b[0m\u001b[0mmapper\u001b[0m\u001b[0;34m,\u001b[0m\u001b[0;34m\u001b[0m\u001b[0;34m\u001b[0m\u001b[0m\n\u001b[1;32m   5434\u001b[0m             \u001b[0mindex\u001b[0m\u001b[0;34m=\u001b[0m\u001b[0mindex\u001b[0m\u001b[0;34m,\u001b[0m\u001b[0;34m\u001b[0m\u001b[0;34m\u001b[0m\u001b[0m\n",
      "\u001b[0;32m~/opt/anaconda3/lib/python3.8/site-packages/pandas/core/generic.py\u001b[0m in \u001b[0;36m_rename\u001b[0;34m(self, mapper, index, columns, axis, copy, inplace, level, errors)\u001b[0m\n\u001b[1;32m   1022\u001b[0m                     \u001b[0mindexer\u001b[0m \u001b[0;34m=\u001b[0m \u001b[0max\u001b[0m\u001b[0;34m.\u001b[0m\u001b[0mget_level_values\u001b[0m\u001b[0;34m(\u001b[0m\u001b[0mlevel\u001b[0m\u001b[0;34m)\u001b[0m\u001b[0;34m.\u001b[0m\u001b[0mget_indexer_for\u001b[0m\u001b[0;34m(\u001b[0m\u001b[0mreplacements\u001b[0m\u001b[0;34m)\u001b[0m\u001b[0;34m\u001b[0m\u001b[0;34m\u001b[0m\u001b[0m\n\u001b[1;32m   1023\u001b[0m                 \u001b[0;32melse\u001b[0m\u001b[0;34m:\u001b[0m\u001b[0;34m\u001b[0m\u001b[0;34m\u001b[0m\u001b[0m\n\u001b[0;32m-> 1024\u001b[0;31m                     \u001b[0mindexer\u001b[0m \u001b[0;34m=\u001b[0m \u001b[0max\u001b[0m\u001b[0;34m.\u001b[0m\u001b[0mget_indexer_for\u001b[0m\u001b[0;34m(\u001b[0m\u001b[0mreplacements\u001b[0m\u001b[0;34m)\u001b[0m\u001b[0;34m\u001b[0m\u001b[0;34m\u001b[0m\u001b[0m\n\u001b[0m\u001b[1;32m   1025\u001b[0m \u001b[0;34m\u001b[0m\u001b[0m\n\u001b[1;32m   1026\u001b[0m                 \u001b[0;32mif\u001b[0m \u001b[0merrors\u001b[0m \u001b[0;34m==\u001b[0m \u001b[0;34m\"raise\"\u001b[0m \u001b[0;32mand\u001b[0m \u001b[0mlen\u001b[0m\u001b[0;34m(\u001b[0m\u001b[0mindexer\u001b[0m\u001b[0;34m[\u001b[0m\u001b[0mindexer\u001b[0m \u001b[0;34m==\u001b[0m \u001b[0;34m-\u001b[0m\u001b[0;36m1\u001b[0m\u001b[0;34m]\u001b[0m\u001b[0;34m)\u001b[0m\u001b[0;34m:\u001b[0m\u001b[0;34m\u001b[0m\u001b[0;34m\u001b[0m\u001b[0m\n",
      "\u001b[0;32m~/opt/anaconda3/lib/python3.8/site-packages/pandas/core/indexes/base.py\u001b[0m in \u001b[0;36mget_indexer_for\u001b[0;34m(self, target)\u001b[0m\n\u001b[1;32m   5857\u001b[0m         \"\"\"\n\u001b[1;32m   5858\u001b[0m         \u001b[0;32mif\u001b[0m \u001b[0mself\u001b[0m\u001b[0;34m.\u001b[0m\u001b[0m_index_as_unique\u001b[0m\u001b[0;34m:\u001b[0m\u001b[0;34m\u001b[0m\u001b[0;34m\u001b[0m\u001b[0m\n\u001b[0;32m-> 5859\u001b[0;31m             \u001b[0;32mreturn\u001b[0m \u001b[0mself\u001b[0m\u001b[0;34m.\u001b[0m\u001b[0mget_indexer\u001b[0m\u001b[0;34m(\u001b[0m\u001b[0mtarget\u001b[0m\u001b[0;34m)\u001b[0m\u001b[0;34m\u001b[0m\u001b[0;34m\u001b[0m\u001b[0m\n\u001b[0m\u001b[1;32m   5860\u001b[0m         \u001b[0mindexer\u001b[0m\u001b[0;34m,\u001b[0m \u001b[0m_\u001b[0m \u001b[0;34m=\u001b[0m \u001b[0mself\u001b[0m\u001b[0;34m.\u001b[0m\u001b[0mget_indexer_non_unique\u001b[0m\u001b[0;34m(\u001b[0m\u001b[0mtarget\u001b[0m\u001b[0;34m)\u001b[0m\u001b[0;34m\u001b[0m\u001b[0;34m\u001b[0m\u001b[0m\n\u001b[1;32m   5861\u001b[0m         \u001b[0;32mreturn\u001b[0m \u001b[0mindexer\u001b[0m\u001b[0;34m\u001b[0m\u001b[0;34m\u001b[0m\u001b[0m\n",
      "\u001b[0;32m~/opt/anaconda3/lib/python3.8/site-packages/pandas/core/indexes/base.py\u001b[0m in \u001b[0;36mget_indexer\u001b[0;34m(self, target, method, limit, tolerance)\u001b[0m\n\u001b[1;32m   3725\u001b[0m         \u001b[0mmethod\u001b[0m \u001b[0;34m=\u001b[0m \u001b[0mclean_reindex_fill_method\u001b[0m\u001b[0;34m(\u001b[0m\u001b[0mmethod\u001b[0m\u001b[0;34m)\u001b[0m\u001b[0;34m\u001b[0m\u001b[0;34m\u001b[0m\u001b[0m\n\u001b[1;32m   3726\u001b[0m         \u001b[0morig_target\u001b[0m \u001b[0;34m=\u001b[0m \u001b[0mtarget\u001b[0m\u001b[0;34m\u001b[0m\u001b[0;34m\u001b[0m\u001b[0m\n\u001b[0;32m-> 3727\u001b[0;31m         \u001b[0mtarget\u001b[0m \u001b[0;34m=\u001b[0m \u001b[0mself\u001b[0m\u001b[0;34m.\u001b[0m\u001b[0m_maybe_cast_listlike_indexer\u001b[0m\u001b[0;34m(\u001b[0m\u001b[0mtarget\u001b[0m\u001b[0;34m)\u001b[0m\u001b[0;34m\u001b[0m\u001b[0;34m\u001b[0m\u001b[0m\n\u001b[0m\u001b[1;32m   3728\u001b[0m \u001b[0;34m\u001b[0m\u001b[0m\n\u001b[1;32m   3729\u001b[0m         \u001b[0mself\u001b[0m\u001b[0;34m.\u001b[0m\u001b[0m_check_indexing_method\u001b[0m\u001b[0;34m(\u001b[0m\u001b[0mmethod\u001b[0m\u001b[0;34m,\u001b[0m \u001b[0mlimit\u001b[0m\u001b[0;34m,\u001b[0m \u001b[0mtolerance\u001b[0m\u001b[0;34m)\u001b[0m\u001b[0;34m\u001b[0m\u001b[0;34m\u001b[0m\u001b[0m\n",
      "\u001b[0;32m~/opt/anaconda3/lib/python3.8/site-packages/pandas/core/indexes/datetimelike.py\u001b[0m in \u001b[0;36m_maybe_cast_listlike_indexer\u001b[0;34m(self, keyarr)\u001b[0m\n\u001b[1;32m    391\u001b[0m     \u001b[0;32mdef\u001b[0m \u001b[0m_maybe_cast_listlike_indexer\u001b[0m\u001b[0;34m(\u001b[0m\u001b[0mself\u001b[0m\u001b[0;34m,\u001b[0m \u001b[0mkeyarr\u001b[0m\u001b[0;34m)\u001b[0m\u001b[0;34m:\u001b[0m\u001b[0;34m\u001b[0m\u001b[0;34m\u001b[0m\u001b[0m\n\u001b[1;32m    392\u001b[0m         \u001b[0;32mtry\u001b[0m\u001b[0;34m:\u001b[0m\u001b[0;34m\u001b[0m\u001b[0;34m\u001b[0m\u001b[0m\n\u001b[0;32m--> 393\u001b[0;31m             \u001b[0mres\u001b[0m \u001b[0;34m=\u001b[0m \u001b[0mself\u001b[0m\u001b[0;34m.\u001b[0m\u001b[0m_data\u001b[0m\u001b[0;34m.\u001b[0m\u001b[0m_validate_listlike\u001b[0m\u001b[0;34m(\u001b[0m\u001b[0mkeyarr\u001b[0m\u001b[0;34m,\u001b[0m \u001b[0mallow_object\u001b[0m\u001b[0;34m=\u001b[0m\u001b[0;32mTrue\u001b[0m\u001b[0;34m)\u001b[0m\u001b[0;34m\u001b[0m\u001b[0;34m\u001b[0m\u001b[0m\n\u001b[0m\u001b[1;32m    394\u001b[0m         \u001b[0;32mexcept\u001b[0m \u001b[0;34m(\u001b[0m\u001b[0mValueError\u001b[0m\u001b[0;34m,\u001b[0m \u001b[0mTypeError\u001b[0m\u001b[0;34m)\u001b[0m\u001b[0;34m:\u001b[0m\u001b[0;34m\u001b[0m\u001b[0;34m\u001b[0m\u001b[0m\n\u001b[1;32m    395\u001b[0m             \u001b[0;32mif\u001b[0m \u001b[0;32mnot\u001b[0m \u001b[0misinstance\u001b[0m\u001b[0;34m(\u001b[0m\u001b[0mkeyarr\u001b[0m\u001b[0;34m,\u001b[0m \u001b[0mExtensionArray\u001b[0m\u001b[0;34m)\u001b[0m\u001b[0;34m:\u001b[0m\u001b[0;34m\u001b[0m\u001b[0;34m\u001b[0m\u001b[0m\n",
      "\u001b[0;32m~/opt/anaconda3/lib/python3.8/site-packages/pandas/core/arrays/datetimelike.py\u001b[0m in \u001b[0;36m_validate_listlike\u001b[0;34m(self, value, allow_object)\u001b[0m\n\u001b[1;32m    696\u001b[0m         \u001b[0;31m# e.g. we passed PeriodIndex.values and got an ndarray of Periods\u001b[0m\u001b[0;34m\u001b[0m\u001b[0;34m\u001b[0m\u001b[0;34m\u001b[0m\u001b[0m\n\u001b[1;32m    697\u001b[0m         \u001b[0mvalue\u001b[0m \u001b[0;34m=\u001b[0m \u001b[0mextract_array\u001b[0m\u001b[0;34m(\u001b[0m\u001b[0mvalue\u001b[0m\u001b[0;34m,\u001b[0m \u001b[0mextract_numpy\u001b[0m\u001b[0;34m=\u001b[0m\u001b[0;32mTrue\u001b[0m\u001b[0;34m)\u001b[0m\u001b[0;34m\u001b[0m\u001b[0;34m\u001b[0m\u001b[0m\n\u001b[0;32m--> 698\u001b[0;31m         \u001b[0mvalue\u001b[0m \u001b[0;34m=\u001b[0m \u001b[0mpd_array\u001b[0m\u001b[0;34m(\u001b[0m\u001b[0mvalue\u001b[0m\u001b[0;34m)\u001b[0m\u001b[0;34m\u001b[0m\u001b[0;34m\u001b[0m\u001b[0m\n\u001b[0m\u001b[1;32m    699\u001b[0m         \u001b[0mvalue\u001b[0m \u001b[0;34m=\u001b[0m \u001b[0mextract_array\u001b[0m\u001b[0;34m(\u001b[0m\u001b[0mvalue\u001b[0m\u001b[0;34m,\u001b[0m \u001b[0mextract_numpy\u001b[0m\u001b[0;34m=\u001b[0m\u001b[0;32mTrue\u001b[0m\u001b[0;34m)\u001b[0m\u001b[0;34m\u001b[0m\u001b[0;34m\u001b[0m\u001b[0m\n\u001b[1;32m    700\u001b[0m \u001b[0;34m\u001b[0m\u001b[0m\n",
      "\u001b[0;32m~/opt/anaconda3/lib/python3.8/site-packages/pandas/core/construction.py\u001b[0m in \u001b[0;36marray\u001b[0;34m(data, dtype, copy)\u001b[0m\n\u001b[1;32m    352\u001b[0m         \u001b[0;32melif\u001b[0m \u001b[0minferred_dtype\u001b[0m \u001b[0;34m==\u001b[0m \u001b[0;34m\"string\"\u001b[0m\u001b[0;34m:\u001b[0m\u001b[0;34m\u001b[0m\u001b[0;34m\u001b[0m\u001b[0m\n\u001b[1;32m    353\u001b[0m             \u001b[0;31m# StringArray/ArrowStringArray depending on pd.options.mode.string_storage\u001b[0m\u001b[0;34m\u001b[0m\u001b[0;34m\u001b[0m\u001b[0;34m\u001b[0m\u001b[0m\n\u001b[0;32m--> 354\u001b[0;31m             \u001b[0;32mreturn\u001b[0m \u001b[0mStringDtype\u001b[0m\u001b[0;34m(\u001b[0m\u001b[0;34m)\u001b[0m\u001b[0;34m.\u001b[0m\u001b[0mconstruct_array_type\u001b[0m\u001b[0;34m(\u001b[0m\u001b[0;34m)\u001b[0m\u001b[0;34m.\u001b[0m\u001b[0m_from_sequence\u001b[0m\u001b[0;34m(\u001b[0m\u001b[0mdata\u001b[0m\u001b[0;34m,\u001b[0m \u001b[0mcopy\u001b[0m\u001b[0;34m=\u001b[0m\u001b[0mcopy\u001b[0m\u001b[0;34m)\u001b[0m\u001b[0;34m\u001b[0m\u001b[0;34m\u001b[0m\u001b[0m\n\u001b[0m\u001b[1;32m    355\u001b[0m \u001b[0;34m\u001b[0m\u001b[0m\n\u001b[1;32m    356\u001b[0m         \u001b[0;32melif\u001b[0m \u001b[0minferred_dtype\u001b[0m \u001b[0;34m==\u001b[0m \u001b[0;34m\"integer\"\u001b[0m\u001b[0;34m:\u001b[0m\u001b[0;34m\u001b[0m\u001b[0;34m\u001b[0m\u001b[0m\n",
      "\u001b[0;32m~/opt/anaconda3/lib/python3.8/site-packages/pandas/core/arrays/string_.py\u001b[0m in \u001b[0;36m_from_sequence\u001b[0;34m(cls, scalars, dtype, copy)\u001b[0m\n\u001b[1;32m    356\u001b[0m                 \u001b[0mscalars\u001b[0m \u001b[0;34m=\u001b[0m \u001b[0mnp\u001b[0m\u001b[0;34m.\u001b[0m\u001b[0marray\u001b[0m\u001b[0;34m(\u001b[0m\u001b[0mscalars\u001b[0m\u001b[0;34m)\u001b[0m\u001b[0;34m\u001b[0m\u001b[0;34m\u001b[0m\u001b[0m\n\u001b[1;32m    357\u001b[0m             \u001b[0;31m# convert non-na-likes to str, and nan-likes to StringDtype().na_value\u001b[0m\u001b[0;34m\u001b[0m\u001b[0;34m\u001b[0m\u001b[0;34m\u001b[0m\u001b[0m\n\u001b[0;32m--> 358\u001b[0;31m             \u001b[0mresult\u001b[0m \u001b[0;34m=\u001b[0m \u001b[0mlib\u001b[0m\u001b[0;34m.\u001b[0m\u001b[0mensure_string_array\u001b[0m\u001b[0;34m(\u001b[0m\u001b[0mscalars\u001b[0m\u001b[0;34m,\u001b[0m \u001b[0mna_value\u001b[0m\u001b[0;34m=\u001b[0m\u001b[0mlibmissing\u001b[0m\u001b[0;34m.\u001b[0m\u001b[0mNA\u001b[0m\u001b[0;34m,\u001b[0m \u001b[0mcopy\u001b[0m\u001b[0;34m=\u001b[0m\u001b[0mcopy\u001b[0m\u001b[0;34m)\u001b[0m\u001b[0;34m\u001b[0m\u001b[0;34m\u001b[0m\u001b[0m\n\u001b[0m\u001b[1;32m    359\u001b[0m \u001b[0;34m\u001b[0m\u001b[0m\n\u001b[1;32m    360\u001b[0m         \u001b[0;31m# Manually creating new array avoids the validation step in the __init__, so is\u001b[0m\u001b[0;34m\u001b[0m\u001b[0;34m\u001b[0m\u001b[0;34m\u001b[0m\u001b[0m\n",
      "\u001b[0;32m~/opt/anaconda3/lib/python3.8/site-packages/pandas/_libs/lib.pyx\u001b[0m in \u001b[0;36mpandas._libs.lib.ensure_string_array\u001b[0;34m()\u001b[0m\n",
      "\u001b[0;32m~/opt/anaconda3/lib/python3.8/site-packages/pandas/_libs/lib.pyx\u001b[0m in \u001b[0;36mpandas._libs.lib.ensure_string_array\u001b[0;34m()\u001b[0m\n",
      "\u001b[0;31mIndexError\u001b[0m: too many indices for array"
     ]
    }
   ],
   "source": [
    "testList = ['AAPL', 'MSFT', 'GOOG', 'TSLA', 'NFLX', 'SBUX', '^GSPC', '^DJI', '^IXIC']\n",
    "\n",
    "# pull the first stock's data; drop all unnecessary columns\n",
    "ticker = yf.Ticker(testList[0])\n",
    "df = ticker.history(interval = '1d', start = '2015-01-01', end = '2025-04-01')\n",
    "df.drop(columns=['High', 'Low', 'Close', 'Volume', 'Dividends', 'Stock Splits'], inplace=True)\n",
    "df.rename({'Open' : 'AAPL'}, inplace=True)\n",
    "\n",
    "# for every other ticker, add its open value to the existing dataframe\n",
    "for x in testList[1:]:\n",
    "    ticker = yf.Ticker(x)\n",
    "    data = ticker.history(interval = '1d', start = '2015-01-01', end = '2025-04-01')\n",
    "    df.insert(len(df.columns), x, data[\"Open\"]) # for whatever reason, this line wont work\n",
    "\n",
    "#calculate percent returns for each day of each stock\n",
    "returns_df = df.pct_change(1).dropna()\n",
    "\n",
    "#operationalize determining portfolio returns\n",
    "def getPfReturn(weights):\n",
    "    \"\"\"\n",
    "    return is annualized expected return of portfolio\n",
    "    \"\"\"\n",
    "    expRetPortfolio = np.dot(np.transpose(weights), returns_df.mean()) * 250\n",
    "    return expRetPortfolio\n",
    "\n",
    "# start with stocks at equal weights\n",
    "numStocks = len(returns_df.columns)\n",
    "initialWeight = [1/numStocks] * numStocks\n",
    "\n",
    "# return goal?\n",
    "targetReturn = .4\n",
    "\n",
    "# bounds the percentage of each stock we can hold (between 0 and 100%)\n",
    "bounds = tuple((0,1) for i in range(numStocks))\n",
    "\n",
    "# ensures the sum of all stock weights is 100% (or 1) in first constraint\n",
    "# sets goal of minimize function to hit targetReturn\n",
    "constraints = ({'type' : 'eq', 'fun' : lambda w : np.sum(w) - 1},\n",
    "               {'type' : 'eq', 'fun' : lambda x : x.dot(returns_df.mean()) * 250 - targetReturn})\n",
    "\n",
    "# can we reach our goal with these stocks??\n",
    "results = minimize(fun=getPfReturn, x0=initialWeight, bounds=bounds, constraints=constraints)\n",
    "\n",
    "#output\n",
    "print(results)\n",
    "\n",
    "optimizedResults = pd.DataFrame(results['x'])\n",
    "\n",
    "# print our optimized results\n",
    "getPfReturn(weights=results[\"x\"])\n",
    "optimizedResults.index = returns_df.columns\n",
    "print(optimizedResults)"
   ]
  },
  {
   "cell_type": "markdown",
   "id": "2f67c598",
   "metadata": {},
   "source": [
    "## Rechecking the Returns\n",
    "\n",
    "### may need to redo the code above but brainstorming ways to not have to do that using functions"
   ]
  },
  {
   "cell_type": "markdown",
   "id": "c538bb61",
   "metadata": {},
   "source": [
    "### rechecking the strength of your portfolio : isabel's\n",
    "\n",
    "go back to pyfolio--> will integrate after we recheck the working code"
   ]
  },
  {
   "cell_type": "code",
   "execution_count": null,
   "id": "4c72f527-99d2-4d8d-a6cd-f1cbc4f6f907",
   "metadata": {},
   "outputs": [],
   "source": []
  },
  {
   "cell_type": "code",
   "execution_count": null,
   "id": "070deaea-e00c-4ea2-a2a1-64ffb241bbdd",
   "metadata": {},
   "outputs": [],
   "source": []
  },
  {
   "cell_type": "code",
   "execution_count": null,
   "id": "252716f4-f480-4ebd-82d5-1b93c8136b65",
   "metadata": {},
   "outputs": [],
   "source": []
  },
  {
   "cell_type": "code",
   "execution_count": null,
   "id": "c3101a9e-b443-428f-ac65-b2f65d837ba2",
   "metadata": {},
   "outputs": [],
   "source": []
  }
 ],
 "metadata": {
  "kernelspec": {
   "display_name": "base",
   "language": "python",
   "name": "python3"
  },
  "language_info": {
   "codemirror_mode": {
    "name": "ipython",
    "version": 3
   },
   "file_extension": ".py",
   "mimetype": "text/x-python",
   "name": "python",
   "nbconvert_exporter": "python",
   "pygments_lexer": "ipython3",
   "version": "3.8.8"
  }
 },
 "nbformat": 4,
 "nbformat_minor": 5
}
