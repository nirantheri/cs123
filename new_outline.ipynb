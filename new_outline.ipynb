{
 "cells": [
  {
   "cell_type": "markdown",
   "id": "a21a0bd5",
   "metadata": {},
   "source": [
    "### Intro : isabel\n",
    "People wanting to learn how to analyze their savings\n",
    "\n",
    "### still need a disclaimer!!"
   ]
  },
  {
   "cell_type": "markdown",
   "id": "29064aa1",
   "metadata": {},
   "source": [
    "### using old material : Nirantheri\n",
    "\n",
    "\n",
    "The code to show the importance of investing vs savings (just draw out each of the ira, 401k, hysa along with no investment to show)\n",
    "How to use information.md?"
   ]
  },
  {
   "cell_type": "markdown",
   "id": "5b4b991e",
   "metadata": {},
   "source": [
    "### setup\n",
    "\n",
    "include all packages for setting up (pyfolio, package)"
   ]
  },
  {
   "cell_type": "code",
   "execution_count": null,
   "id": "4102a911",
   "metadata": {},
   "outputs": [],
   "source": [
    "# all libraries\n",
    "\n",
    "import pyfolio\n",
    "import yfinance as yf\n",
    "import numpy as np\n",
    "import scipy\n",
    "import ipywidgets"
   ]
  },
  {
   "cell_type": "markdown",
   "id": "07c04a66",
   "metadata": {},
   "source": [
    "### Choosing stocks for a portfolio: Nirantheri\n",
    "\n",
    "Give them a list of 20-30 common stocks, etfs, and mutual funds (can use checkbox widget)\n",
    "ipywidgets: \n",
    "[checkbox](https://ipywidgets.readthedocs.io/en/7.x/examples/Widget%20List.html#Checkbox)\n",
    "[select multiple](https://ipywidgets.readthedocs.io/en/7.x/examples/Widget%20List.html#SelectMultiple)\n",
    "ex.\n",
    "- S&P 500\n",
    "- Dow\n",
    "- Nasdaq\n",
    "- Apple\n",
    "- Tesla\n",
    "- Google\n",
    "- Gold??\n",
    "- etc"
   ]
  },
  {
   "cell_type": "markdown",
   "id": "52f0405d",
   "metadata": {},
   "source": [
    "### Picking your own breakdown of stocks : Nirantheri\n",
    "\n",
    "use another widget, maybe with a slider (tbd)\n",
    "\n",
    "[setup using the above code chunk](https://ipywidgets.readthedocs.io/en/7.x/examples/Widget%20List.html#Tabs)"
   ]
  },
  {
   "cell_type": "markdown",
   "id": "a1f4eed5",
   "metadata": {},
   "source": [
    "### pulling the yf data: Luna\n",
    "\n",
    "Assume that the list of stocks will come in as a set of stock codes so you can write a loop to get each of them"
   ]
  },
  {
   "cell_type": "markdown",
   "id": "cdea0ef3",
   "metadata": {},
   "source": [
    "### check strength of portfolio : Isabel\n",
    "pyfolio: https://www.pyquantnews.com/the-pyquant-newsletter/create-beautiful-strategy-tear-sheets-pyfolio-reloaded\n",
    "can also use quantstats\n",
    "\n",
    "\n",
    "\n",
    "pyfolio: get the tear sheets--> then use pandas to pull specific metrics (annual return, etc) and then have a md cell which breaks down what each of them means"
   ]
  },
  {
   "cell_type": "markdown",
   "id": "b9d2b93f",
   "metadata": {},
   "source": [
    "### montecarlo simulations : tbd\n",
    "\n",
    "uses yahoo finance package and others to create montecarlo simulation for modeling\n",
    "\n",
    "montecarlo https://medium.com/analytics-vidhya/monte-carlo-simulations-for-predicting-stock-prices-python-a64f53585662"
   ]
  },
  {
   "cell_type": "markdown",
   "id": "d21089be",
   "metadata": {},
   "source": [
    "### optimizing the set of stocks : luna\n",
    "\n",
    "use scipy\n",
    "\n",
    "optimizing your investment: https://medium.com/@ethan.duong1120/python-powered-portfolio-optimization-achieving-target-returns-through-weight-optimization-fc5163e5c9c6\n"
   ]
  },
  {
   "cell_type": "markdown",
   "id": "c538bb61",
   "metadata": {},
   "source": [
    "### rechecking the strength of your portfolio : isabel's\n",
    "\n",
    "go back to pyfolio--> will integrate after we recheck the working code"
   ]
  }
 ],
 "metadata": {
  "kernelspec": {
   "display_name": "cs181",
   "language": "python",
   "name": "python3"
  },
  "language_info": {
   "name": "python",
   "version": "3.12.7"
  }
 },
 "nbformat": 4,
 "nbformat_minor": 5
}
