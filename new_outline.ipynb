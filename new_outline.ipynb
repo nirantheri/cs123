{
 "cells": [
  {
   "cell_type": "markdown",
   "id": "a21a0bd5",
   "metadata": {},
   "source": [
    "### Introduction: Applying Computational Thinking to Personal Finance and Portfolio Analysis\n",
    "In an era where financial independence is closely tied to the ability to make strategic investment decisions, understanding the mechanics of saving and investing has become a critical life skill. Yet, while many individuals understand the importance of saving, few have the tools or knowledge required to evaluate how different financial strategies—and especially investment decisions—impact long-term outcomes. This tutorial addresses that gap by introducing students to essential concepts in personal finance and portfolio analysis through a computational and data-driven approach.\n",
    "\n",
    "This tutorial begins by building a foundation in core savings principles. Learners will explore the functionality of common financial instruments such as high-yield savings accounts, 401(k)s, and Roth IRAs. Through interactive inputs and simulations, students will see how interest rates, compound growth, and tax advantages affect returns over time. These early exercises aim to demonstrate the value of starting early, contributing consistently, and choosing the right savings vehicles for one’s personal financial goals.\n",
    "\n",
    "Building on this foundation, the tutorial then transitions into a more advanced, investment-focused module: constructing and evaluating a personalized stock portfolio. Students will be guided through the process of:\n",
    "- Selecting their own breakdown of stocks to form a diversified portfolio based on individual risk preferences or interests.\n",
    "\n",
    "- Evaluating the strength of their chosen portfolio using historical data and key financial metrics.\n",
    "\n",
    "- Simulating potential future outcomes through Monte Carlo simulations, which model thousands of possible future scenarios to account for uncertainty and market volatility.\n",
    "\n",
    "- Optimizing the stock allocation using algorithmic methods that balance return potential with risk, aiming for the most efficient use of investment capital.\n",
    "\n",
    "- Rechecking the portfolio’s strength after optimization, to reflect the improvements made and demonstrate the impact of computational adjustments on financial performance.\n",
    "\n",
    "\n",
    "Throughout this tutorial, students will employ principles from computer science—such as data modeling, simulations, algorithmic thinking, and data visualization—to analyze financial data and make informed decisions. By the end of the tutorial, students will have developed not only a deeper understanding of financial literacy but also a practical appreciation for how computational tools can empower individuals to manage their personal wealth more effectively.\n",
    "\n",
    "This interdisciplinary exploration is designed to equip learners with a strong foundation in both personal finance and applied computation—skills that are increasingly essential in today’s data-rich, financially complex world."
   ]
  },
  {
   "cell_type": "markdown",
   "id": "1fcde335",
   "metadata": {},
   "source": [
    "### Disclaimer\n",
    "\n",
    "**No Guarantee of Accuracy:** While Isabel, Luna, and Nirantheri strive to provide accurate and up-to-date information, they do not guarantee the accuracy, completeness, or reliability of any content. Users should independently verify any information before making financial or investment decisions based on it.\n",
    "\n",
    "\n",
    "**Investment Risks:** Investing involves inherent risks, including but not limited to market fluctuations, economic uncertainty, geopolitical events, and individual asset performance. Past performance is not indicative of future results, and no content provided implies a guarantee of investment success.\n",
    "\n",
    "**Limitation of Liability:** Mentions of specific financial products, services, companies, or securities within the content do not constitute endorsements or recommendations. Users are responsible for conducting their own research and due diligence.\n",
    "\n",
    "**No Liability:** Isabel, Luna, Nirantheri, and their affiliates, partners, or contributors shall not be held liable for any loss, damage, or expense resulting from the use of or reliance on the provided information. All investment decisions made based on this content are the sole responsibility of the user.\n",
    "\n",
    "**Disclaimer Updates:** This disclaimer is subject to change without notice. Users are responsible for reviewing it periodically to stay informed of any updates.\n",
    "\n"
   ]
  },
  {
   "cell_type": "markdown",
   "id": "5b4b991e",
   "metadata": {},
   "source": [
    "### This is where you'll download all packages necessary for the tutorial\n",
    "\n",
    "If the \"Module not found\" error shows up, use the requirements.txt file to download the missing packages."
   ]
  },
  {
   "cell_type": "code",
   "execution_count": 88,
   "id": "4102a911",
   "metadata": {},
   "outputs": [],
   "source": [
    "#reordering\n",
    "from IPython.display import display\n",
    "\n",
    "import matplotlib.pyplot as plt\n",
    "%matplotlib inline\n",
    "\n",
    "#alphabetical \n",
    "import yfinance as yf\n",
    "import numpy as np\n",
    "import ipywidgets as widgets\n",
    "import pandas as pd\n",
    "from scipy.optimize import minimize\n",
    "import altair as alt\n",
    "# from pandas_datareader import data as wb\n",
    "import seaborn as sns\n",
    "from scipy.stats import norm\n",
    "import quantstats.stats as stats\n",
    "\n"
   ]
  },
  {
   "cell_type": "markdown",
   "id": "07c04a66",
   "metadata": {},
   "source": [
    "### Choosing stocks for a portfolio\n",
    "\n",
    "Ctrl+ Click your stocks"
   ]
  },
  {
   "cell_type": "code",
   "execution_count": 89,
   "id": "7af31160",
   "metadata": {},
   "outputs": [
    {
     "data": {
      "application/vnd.jupyter.widget-view+json": {
       "model_id": "7aad97b14c97476fbfbe95e3eac9e005",
       "version_major": 2,
       "version_minor": 0
      },
      "text/plain": [
       "SelectMultiple(description='Stocks', options=('Apple', 'Costco', 'Microsoft', 'Google', 'Nvidia', 'Walmart', '…"
      ]
     },
     "metadata": {},
     "output_type": "display_data"
    }
   ],
   "source": [
    "codes = {\"Apple\": 'AAPL',\n",
    "        \"Costco\": 'COST',\n",
    "        \"Microsoft\": 'MSFT',\n",
    "        \"Google\": 'GOOG',\n",
    "        \"Nvidia\": 'NVDA',\n",
    "        \"Walmart\": 'WMT',\n",
    "        \"AMC Entertainment\": 'AMC',\n",
    "        \"S&P 500\": '^GSPC',\n",
    "        \"Dow Jones Industrial\": '^DJI',\n",
    "        \"Nasdaq\": '^IXIC',\n",
    "        \"Vanguard S&P 500 ETF\": 'VOO',\n",
    "        \"Fidelity 500 Index Fund\": 'FXAIX',\n",
    "        \"Gold\":'GLD'}\n",
    "\n",
    "codes.keys()\n",
    "\n",
    "\n",
    "choices = widgets.SelectMultiple(\n",
    "    options=codes.keys(),\n",
    "    value=[],\n",
    "    rows=20,\n",
    "    description='Stocks',\n",
    "    disabled=False\n",
    ")\n",
    "\n",
    "display(choices)"
   ]
  },
  {
   "cell_type": "markdown",
   "id": "52f0405d",
   "metadata": {},
   "source": [
    "### Picking your own breakdown of stocks : Nirantheri\n",
    "\n",
    "<!-- clarifying what the breakdown of stocks is, why are we doing this -->\n",
    "\n",
    "Without rerunning the previous code chunk, run the next one and input your allocation amounts as a decimal ex (0.3 or .5). Make sure they add up to 1!\n",
    "<!--\n",
    "[setup using the above code chunk](https://ipywidgets.readthedocs.io/en/7.x/examples/Widget%20List.html#Tabs) -->"
   ]
  },
  {
   "cell_type": "code",
   "execution_count": 90,
   "id": "35f83dbc",
   "metadata": {},
   "outputs": [
    {
     "data": {
      "application/vnd.jupyter.widget-view+json": {
       "model_id": "3632cfcf586c4ac89ac82a67b02284b3",
       "version_major": 2,
       "version_minor": 0
      },
      "text/plain": [
       "Tab()"
      ]
     },
     "execution_count": 90,
     "metadata": {},
     "output_type": "execute_result"
    }
   ],
   "source": [
    "# get codes for further down\n",
    "portfolio = []\n",
    "\n",
    "for i in range(len(choices.value)):\n",
    "    portfolio.append(codes[choices.value[i]])\n",
    "    \n",
    "# pick distribution\n",
    "\n",
    "tab_contents = [\"Value\"] * len(choices.value)\n",
    "children = [widgets.Text(description=name) for name in tab_contents]\n",
    "tab = widgets.Tab()\n",
    "tab.children = children\n",
    "tab.titles = choices.value\n",
    "\n",
    "tab"
   ]
  },
  {
   "cell_type": "markdown",
   "id": "29b9a5e2",
   "metadata": {},
   "source": [
    "The following code is to match the allocation amounts to the stock codes given the inputs from above. "
   ]
  },
  {
   "cell_type": "code",
   "execution_count": 91,
   "id": "985e3e8b",
   "metadata": {},
   "outputs": [],
   "source": [
    "# matching allocation amounts to stock codes given inputs from above\n",
    "\n",
    "allocations = {}\n",
    "\n",
    "for i in range(len(tab.children)):\n",
    "    allocations[portfolio[i]]=tab.children[i].value\n"
   ]
  },
  {
   "cell_type": "markdown",
   "id": "ce27bfeb",
   "metadata": {},
   "source": [
    "### Interested in testing out your own set of stocks?\n",
    "\n",
    "Feel free to create your own allocation dictionary. Make sure each entry is of the format \"STOCK TICKER\": allocation amount. Fill it in as you desire and click run to make sure that your custom allocations are used, even if you didn't run the above lines. Otherwise our default set of stocks will be used! \n",
    "\n",
    "NOTE: for index funds, you have to prefix them with \"^\""
   ]
  },
  {
   "cell_type": "code",
   "execution_count": 92,
   "id": "d9363a96",
   "metadata": {},
   "outputs": [],
   "source": [
    "# Here's an example of what your dictionary can look like\n",
    "\n",
    "# {'AAPL':'0.4', 'MSFT':'0.3',  '^IXIC':'0.3'}\n",
    "\n",
    "allocations = {}"
   ]
  },
  {
   "cell_type": "markdown",
   "id": "a1f4eed5",
   "metadata": {},
   "source": [
    "### Pulling the yf data\n",
    "\n",
    "Using the list of stocks in our dictionary, the below code will grab the data for each stock."
   ]
  },
  {
   "cell_type": "code",
   "execution_count": 93,
   "id": "ace55141",
   "metadata": {},
   "outputs": [],
   "source": [
    "if len(portfolio)==0: # for default values\n",
    "    allocations={'AAPL':'0.2', 'MSFT':'0.2',  '^IXIC':'0.1', 'NVDA': '0.1', 'WMT': '0.1', 'AMC':'0.1', '^GSPC':'0.1'}\n",
    "    portfolio = list(allocations.keys())\n",
    "\n",
    "testList=list(allocations.keys())\n",
    "testString = ' '.join(testList)\n",
    "\n",
    "tickersPull = yf.Tickers(testString)\n",
    "\n",
    "#in the dictionary dataframes, each ticker is indexed by its ticker as seen in the testList (auto_adjust accounts for splits and dividends)\n",
    "dataframes = {}\n",
    "for x in testList:\n",
    "    ticker = yf.Ticker(x)\n",
    "    dataframes[x] = ticker.history(period='1mo', start='2015-01-01', auto_adjust=True)"
   ]
  },
  {
   "cell_type": "markdown",
   "id": "441b5a5a",
   "metadata": {},
   "source": [
    "### How do we calculate returns?\n",
    "\n",
    "<!-- have we defined returns at this point? -->\n",
    "\n",
    "To calculate the returns, we want to find the adjusted value of each stock amount from the date of the initial investment. We can write a function to do this with a set of inputs-- an initial portfolio value, the set of dataframes for each stock, and the breakdown of allocations  <!-- and perhaps even an initial date of investment.  -->"
   ]
  },
  {
   "cell_type": "code",
   "execution_count": 225,
   "id": "b105647a",
   "metadata": {},
   "outputs": [],
   "source": [
    "def calculate_returns(initial_portfolio_val, dataframe, allocations):\n",
    "    all_pos_vals = []\n",
    "\n",
    "    for stock_name in dataframe:\n",
    "        # grab the dataframe for a single stock\n",
    "        stock_df = dataframe[stock_name] \n",
    "        # create normed return column\n",
    "        stock_df['Normed Return'] = stock_df['Close'] /stock_df.iloc[0]['Close']\n",
    "\n",
    "        # use normed return to adjust the percentage of portfolio held\n",
    "        allocation = float(allocations[stock_name])  # Convert allocation to float\n",
    "        stock_df['Allocation'] = stock_df['Normed Return']*allocation\n",
    "\n",
    "        # find value of stock at each date\n",
    "        stock_df['Position Value'] = stock_df['Allocation']*initial_portfolio_val\n",
    "\n",
    "        # add to list of all position values\n",
    "        all_pos_vals.append(stock_df['Position Value'])\n",
    "\n",
    "    # concatenate the list of position values\n",
    "    portfolio_val = pd.concat(all_pos_vals, axis=1)\n",
    "\n",
    "    # set the column names\n",
    "    portfolio_val.columns = portfolio\n",
    "\n",
    "    # add a total portfolio column\n",
    "    portfolio_val['Total'] = portfolio_val.sum(axis=1)\n",
    "\n",
    "    # changing date to column not index\n",
    "    portfolio_val = portfolio_val.reset_index()\n",
    "    \n",
    "    return portfolio_val\n",
    "\n"
   ]
  },
  {
   "cell_type": "markdown",
   "id": "11ba91b5",
   "metadata": {},
   "source": [
    "Then we can create a graphical representation of each of the stocks' growths over time as well as the portfolio's overall growth. To get an overall number rather than using every single data point, we can use a resampling function to grab the last day of each month in the data."
   ]
  },
  {
   "cell_type": "code",
   "execution_count": null,
   "id": "c4a4a2ec",
   "metadata": {},
   "outputs": [],
   "source": [
    "def graph_returns(returns, show_total, show_individual):\n",
    "\n",
    "    # resampling values\n",
    "    portfolio_val = returns.resample('ME', on='Date').last().reset_index()\n",
    "\n",
    "    if show_total:\n",
    "        # only need the total column\n",
    "        data = portfolio_val.drop(portfolio, axis=1)\n",
    "        pivoted_data_total = data.melt(id_vars=\"Date\", var_name=\"Stock\", value_name=\"Value\")\n",
    "\n",
    "        grapher(pivoted_data_total).display()       \n",
    "        \n",
    "\n",
    "\n",
    "    if show_individual:\n",
    "        pivoted_data_individual = portfolio_val.melt(id_vars=\"Date\", value_vars = portfolio, var_name=\"Stock\", value_name=\"Value\")\n",
    "\n",
    "        grapher(pivoted_data_individual).display()\n",
    "\n",
    "\n",
    "\n",
    "def grapher(pivoted_data):\n",
    "        # for stock vs total \n",
    "        portfolio = pivoted_data['Stock'].unique()\n",
    "\n",
    "        # set hovering conditions\n",
    "\n",
    "        nearest = alt.selection_point(nearest=True, on=\"mouseover\",fields=[\"Date\"], empty=False)\n",
    "\n",
    "        when_near = alt.when(nearest)\n",
    "\n",
    "        # create basis of the graph\n",
    "        basic_graph = alt.Chart(pivoted_data).mark_line().encode(\n",
    "            alt.X(\"Date:T\", title=\"Date\"),\n",
    "            alt.Y(\"Value:Q\", title=\"Portfolio Value\"),\n",
    "            alt.Color(\"Stock:N\", title=\"Stock\"),\n",
    "        ).interactive()\n",
    "\n",
    "        # Draw points on the line, and if I am \"near\" then make them visible\n",
    "        points = basic_graph.mark_point().encode(\n",
    "            opacity=when_near.then(alt.value(1)).otherwise(alt.value(0))\n",
    "        )\n",
    "\n",
    "        # add rule so that a line shows up where the mouse is, and shows every data point at the mouseover.\n",
    "        rules = alt.Chart(pivoted_data).transform_pivot(\n",
    "            \"Stock\",\n",
    "            value=\"Value\",\n",
    "            groupby=[\"Date\"]\n",
    "        ).mark_rule(color=\"gray\").encode(\n",
    "            x=\"Date:T\",\n",
    "            opacity=when_near.then(alt.value(0.3)).otherwise(alt.value(0)),\n",
    "            tooltip=[alt.Tooltip(stock, type=\"quantitative\", format=\".2f\") for stock in portfolio],\n",
    "        ).add_params(nearest)\n",
    "\n",
    "\n",
    "        # Put the data together\n",
    "        chart = alt.layer(\n",
    "            basic_graph, points, rules\n",
    "        ).properties(\n",
    "            width=600, height=300\n",
    "        )\n",
    "        return chart\n"
   ]
  },
  {
   "cell_type": "markdown",
   "id": "ff8c807f",
   "metadata": {},
   "source": [
    "Now that we've created a projection of how our data has been growing over time, let's see what to expect!"
   ]
  },
  {
   "cell_type": "code",
   "execution_count": 228,
   "id": "8813431d",
   "metadata": {},
   "outputs": [
    {
     "name": "stdout",
     "output_type": "stream",
     "text": [
      "['Total']\n"
     ]
    },
    {
     "data": {
      "text/html": [
       "\n",
       "<style>\n",
       "  #altair-viz-ae34fabeb26245fe8c09a46e82318a52.vega-embed {\n",
       "    width: 100%;\n",
       "    display: flex;\n",
       "  }\n",
       "\n",
       "  #altair-viz-ae34fabeb26245fe8c09a46e82318a52.vega-embed details,\n",
       "  #altair-viz-ae34fabeb26245fe8c09a46e82318a52.vega-embed details summary {\n",
       "    position: relative;\n",
       "  }\n",
       "</style>\n",
       "<div id=\"altair-viz-ae34fabeb26245fe8c09a46e82318a52\"></div>\n",
       "<script type=\"text/javascript\">\n",
       "  var VEGA_DEBUG = (typeof VEGA_DEBUG == \"undefined\") ? {} : VEGA_DEBUG;\n",
       "  (function(spec, embedOpt){\n",
       "    let outputDiv = document.currentScript.previousElementSibling;\n",
       "    if (outputDiv.id !== \"altair-viz-ae34fabeb26245fe8c09a46e82318a52\") {\n",
       "      outputDiv = document.getElementById(\"altair-viz-ae34fabeb26245fe8c09a46e82318a52\");\n",
       "    }\n",
       "\n",
       "    const paths = {\n",
       "      \"vega\": \"https://cdn.jsdelivr.net/npm/vega@5?noext\",\n",
       "      \"vega-lib\": \"https://cdn.jsdelivr.net/npm/vega-lib?noext\",\n",
       "      \"vega-lite\": \"https://cdn.jsdelivr.net/npm/vega-lite@5.20.1?noext\",\n",
       "      \"vega-embed\": \"https://cdn.jsdelivr.net/npm/vega-embed@6?noext\",\n",
       "    };\n",
       "\n",
       "    function maybeLoadScript(lib, version) {\n",
       "      var key = `${lib.replace(\"-\", \"\")}_version`;\n",
       "      return (VEGA_DEBUG[key] == version) ?\n",
       "        Promise.resolve(paths[lib]) :\n",
       "        new Promise(function(resolve, reject) {\n",
       "          var s = document.createElement('script');\n",
       "          document.getElementsByTagName(\"head\")[0].appendChild(s);\n",
       "          s.async = true;\n",
       "          s.onload = () => {\n",
       "            VEGA_DEBUG[key] = version;\n",
       "            return resolve(paths[lib]);\n",
       "          };\n",
       "          s.onerror = () => reject(`Error loading script: ${paths[lib]}`);\n",
       "          s.src = paths[lib];\n",
       "        });\n",
       "    }\n",
       "\n",
       "    function showError(err) {\n",
       "      outputDiv.innerHTML = `<div class=\"error\" style=\"color:red;\">${err}</div>`;\n",
       "      throw err;\n",
       "    }\n",
       "\n",
       "    function displayChart(vegaEmbed) {\n",
       "      vegaEmbed(outputDiv, spec, embedOpt)\n",
       "        .catch(err => showError(`Javascript Error: ${err.message}<br>This usually means there's a typo in your chart specification. See the javascript console for the full traceback.`));\n",
       "    }\n",
       "\n",
       "    if(typeof define === \"function\" && define.amd) {\n",
       "      requirejs.config({paths});\n",
       "      let deps = [\"vega-embed\"];\n",
       "      require(deps, displayChart, err => showError(`Error loading script: ${err.message}`));\n",
       "    } else {\n",
       "      maybeLoadScript(\"vega\", \"5\")\n",
       "        .then(() => maybeLoadScript(\"vega-lite\", \"5.20.1\"))\n",
       "        .then(() => maybeLoadScript(\"vega-embed\", \"6\"))\n",
       "        .catch(showError)\n",
       "        .then(() => displayChart(vegaEmbed));\n",
       "    }\n",
       "  })({\"config\": {\"view\": {\"continuousWidth\": 300, \"continuousHeight\": 300}}, \"layer\": [{\"mark\": {\"type\": \"line\"}, \"encoding\": {\"color\": {\"field\": \"Stock\", \"title\": \"Stock\", \"type\": \"nominal\"}, \"x\": {\"field\": \"Date\", \"title\": \"Date\", \"type\": \"temporal\"}, \"y\": {\"field\": \"Value\", \"title\": \"Portfolio Value\", \"type\": \"quantitative\"}}, \"name\": \"view_100\"}, {\"mark\": {\"type\": \"point\"}, \"encoding\": {\"color\": {\"field\": \"Stock\", \"title\": \"Stock\", \"type\": \"nominal\"}, \"opacity\": {\"condition\": [{\"param\": \"param_130\", \"value\": 1, \"empty\": false}], \"value\": 0}, \"x\": {\"field\": \"Date\", \"title\": \"Date\", \"type\": \"temporal\"}, \"y\": {\"field\": \"Value\", \"title\": \"Portfolio Value\", \"type\": \"quantitative\"}}}, {\"mark\": {\"type\": \"rule\", \"color\": \"gray\"}, \"encoding\": {\"opacity\": {\"condition\": [{\"param\": \"param_130\", \"value\": 0.3, \"empty\": false}], \"value\": 0}, \"tooltip\": [{\"field\": \"Total\", \"format\": \".2f\", \"type\": \"quantitative\"}], \"x\": {\"field\": \"Date\", \"type\": \"temporal\"}}, \"name\": \"view_101\", \"transform\": [{\"pivot\": \"Stock\", \"value\": \"Value\", \"groupby\": [\"Date\"]}]}], \"data\": {\"name\": \"data-dc21c08bb18f9f690326f0d3ff761d13\"}, \"height\": 300, \"params\": [{\"name\": \"param_131\", \"select\": {\"type\": \"interval\", \"encodings\": [\"x\", \"y\"]}, \"bind\": \"scales\", \"views\": [\"view_100\"]}, {\"name\": \"param_130\", \"select\": {\"type\": \"point\", \"fields\": [\"Date\"], \"nearest\": true, \"on\": \"mouseover\"}, \"views\": [\"view_101\"]}], \"width\": 600, \"$schema\": \"https://vega.github.io/schema/vega-lite/v5.20.1.json\", \"datasets\": {\"data-dc21c08bb18f9f690326f0d3ff761d13\": [{\"Date\": \"2015-01-31T00:00:00-05:00\", \"Stock\": \"Total\", \"Value\": 886136.7820263191}, {\"Date\": \"2015-02-28T00:00:00-05:00\", \"Stock\": \"Total\", \"Value\": 973924.1599574987}, {\"Date\": \"2015-03-31T00:00:00-04:00\", \"Stock\": \"Total\", \"Value\": 947787.1788609315}, {\"Date\": \"2015-04-30T00:00:00-04:00\", \"Stock\": \"Total\", \"Value\": 965304.7305541973}, {\"Date\": \"2015-05-31T00:00:00-04:00\", \"Stock\": \"Total\", \"Value\": 964924.92448381}, {\"Date\": \"2015-06-30T00:00:00-04:00\", \"Stock\": \"Total\", \"Value\": 934062.269188631}, {\"Date\": \"2015-07-31T00:00:00-04:00\", \"Stock\": \"Total\", \"Value\": 949112.337485197}, {\"Date\": \"2015-08-31T00:00:00-04:00\", \"Stock\": \"Total\", \"Value\": 900125.1069992421}, {\"Date\": \"2015-09-30T00:00:00-04:00\", \"Stock\": \"Total\", \"Value\": 889744.7754532683}, {\"Date\": \"2015-10-31T00:00:00-04:00\", \"Stock\": \"Total\", \"Value\": 978649.1270009758}, {\"Date\": \"2015-11-30T00:00:00-05:00\", \"Stock\": \"Total\", \"Value\": 999195.2667441287}, {\"Date\": \"2015-12-31T00:00:00-05:00\", \"Stock\": \"Total\", \"Value\": 980938.1981795336}, {\"Date\": \"2016-01-31T00:00:00-05:00\", \"Stock\": \"Total\", \"Value\": 929819.6386413677}, {\"Date\": \"2016-02-29T00:00:00-05:00\", \"Stock\": \"Total\", \"Value\": 931075.7464171209}, {\"Date\": \"2016-03-31T00:00:00-04:00\", \"Stock\": \"Total\", \"Value\": 1027732.0662958706}, {\"Date\": \"2016-04-30T00:00:00-04:00\", \"Stock\": \"Total\", \"Value\": 972066.861623009}, {\"Date\": \"2016-05-31T00:00:00-04:00\", \"Stock\": \"Total\", \"Value\": 1070268.6057412322}, {\"Date\": \"2016-06-30T00:00:00-04:00\", \"Stock\": \"Total\", \"Value\": 1052360.6403253549}, {\"Date\": \"2016-07-31T00:00:00-04:00\", \"Stock\": \"Total\", \"Value\": 1162092.1906332257}, {\"Date\": \"2016-08-31T00:00:00-04:00\", \"Stock\": \"Total\", \"Value\": 1197643.2923835302}, {\"Date\": \"2016-09-30T00:00:00-04:00\", \"Stock\": \"Total\", \"Value\": 1254373.9685203638}, {\"Date\": \"2016-10-31T00:00:00-04:00\", \"Stock\": \"Total\", \"Value\": 1273407.093174663}, {\"Date\": \"2016-11-30T00:00:00-05:00\", \"Stock\": \"Total\", \"Value\": 1397061.400101638}, {\"Date\": \"2016-12-31T00:00:00-05:00\", \"Stock\": \"Total\", \"Value\": 1491555.241067761}, {\"Date\": \"2017-01-31T00:00:00-05:00\", \"Stock\": \"Total\", \"Value\": 1530172.5384189188}, {\"Date\": \"2017-02-28T00:00:00-05:00\", \"Stock\": \"Total\", \"Value\": 1525003.715692454}, {\"Date\": \"2017-03-31T00:00:00-04:00\", \"Stock\": \"Total\", \"Value\": 1589461.2211087937}, {\"Date\": \"2017-04-30T00:00:00-04:00\", \"Stock\": \"Total\", \"Value\": 1580601.6140724497}, {\"Date\": \"2017-05-31T00:00:00-04:00\", \"Stock\": \"Total\", \"Value\": 1789568.9769247095}, {\"Date\": \"2017-06-30T00:00:00-04:00\", \"Stock\": \"Total\", \"Value\": 1767296.0923326048}, {\"Date\": \"2017-07-31T00:00:00-04:00\", \"Stock\": \"Total\", \"Value\": 1887491.1992327804}, {\"Date\": \"2017-08-31T00:00:00-04:00\", \"Stock\": \"Total\", \"Value\": 1936127.037590544}, {\"Date\": \"2017-09-30T00:00:00-04:00\", \"Stock\": \"Total\", \"Value\": 1973721.2202075208}, {\"Date\": \"2017-10-31T00:00:00-04:00\", \"Stock\": \"Total\", \"Value\": 2201515.8883566945}, {\"Date\": \"2017-11-30T00:00:00-05:00\", \"Stock\": \"Total\", \"Value\": 2204676.8037267867}, {\"Date\": \"2017-12-31T00:00:00-05:00\", \"Stock\": \"Total\", \"Value\": 2178009.565584004}, {\"Date\": \"2018-01-31T00:00:00-05:00\", \"Stock\": \"Total\", \"Value\": 2503978.432109625}, {\"Date\": \"2018-02-28T00:00:00-05:00\", \"Stock\": \"Total\", \"Value\": 2483927.377290892}, {\"Date\": \"2018-03-31T00:00:00-04:00\", \"Stock\": \"Total\", \"Value\": 2387027.350150709}, {\"Date\": \"2018-04-30T00:00:00-04:00\", \"Stock\": \"Total\", \"Value\": 2372916.389104281}, {\"Date\": \"2018-05-31T00:00:00-04:00\", \"Stock\": \"Total\", \"Value\": 2575764.399254342}, {\"Date\": \"2018-06-30T00:00:00-04:00\", \"Stock\": \"Total\", \"Value\": 2504727.257617748}, {\"Date\": \"2018-07-31T00:00:00-04:00\", \"Stock\": \"Total\", \"Value\": 2604919.090155556}, {\"Date\": \"2018-08-31T00:00:00-04:00\", \"Stock\": \"Total\", \"Value\": 2929451.680908525}, {\"Date\": \"2018-09-30T00:00:00-04:00\", \"Stock\": \"Total\", \"Value\": 2948325.961866652}, {\"Date\": \"2018-10-31T00:00:00-04:00\", \"Stock\": \"Total\", \"Value\": 2516347.0459017153}, {\"Date\": \"2018-11-30T00:00:00-05:00\", \"Stock\": \"Total\", \"Value\": 2190361.2127687656}, {\"Date\": \"2018-12-31T00:00:00-05:00\", \"Stock\": \"Total\", \"Value\": 1914166.0689003903}, {\"Date\": \"2019-01-31T00:00:00-05:00\", \"Stock\": \"Total\", \"Value\": 2035585.4045032868}, {\"Date\": \"2019-02-28T00:00:00-05:00\", \"Stock\": \"Total\", \"Value\": 2153157.828733706}, {\"Date\": \"2019-03-31T00:00:00-04:00\", \"Stock\": \"Total\", \"Value\": 2354494.6367804273}, {\"Date\": \"2019-04-30T00:00:00-04:00\", \"Stock\": \"Total\", \"Value\": 2464299.501056664}, {\"Date\": \"2019-05-31T00:00:00-04:00\", \"Stock\": \"Total\", \"Value\": 2111650.0471119955}, {\"Date\": \"2019-06-30T00:00:00-04:00\", \"Stock\": \"Total\", \"Value\": 2373933.425324258}, {\"Date\": \"2019-07-31T00:00:00-04:00\", \"Stock\": \"Total\", \"Value\": 2455793.7709007794}, {\"Date\": \"2019-08-31T00:00:00-04:00\", \"Stock\": \"Total\", \"Value\": 2448239.9039545543}, {\"Date\": \"2019-09-30T00:00:00-04:00\", \"Stock\": \"Total\", \"Value\": 2525667.7807100853}, {\"Date\": \"2019-10-31T00:00:00-04:00\", \"Stock\": \"Total\", \"Value\": 2734710.5328905797}, {\"Date\": \"2019-11-30T00:00:00-05:00\", \"Stock\": \"Total\", \"Value\": 2905482.7505446}, {\"Date\": \"2019-12-31T00:00:00-05:00\", \"Stock\": \"Total\", \"Value\": 3090080.5070207873}, {\"Date\": \"2020-01-31T00:00:00-05:00\", \"Stock\": \"Total\", \"Value\": 3181168.258634}, {\"Date\": \"2020-02-29T00:00:00-05:00\", \"Stock\": \"Total\", \"Value\": 3211728.0370205813}, {\"Date\": \"2020-03-31T00:00:00-04:00\", \"Stock\": \"Total\", \"Value\": 3075762.271864551}, {\"Date\": \"2020-04-30T00:00:00-04:00\", \"Stock\": \"Total\", \"Value\": 3466107.674228424}, {\"Date\": \"2020-05-31T00:00:00-04:00\", \"Stock\": \"Total\", \"Value\": 3885490.2536964966}, {\"Date\": \"2020-06-30T00:00:00-04:00\", \"Stock\": \"Total\", \"Value\": 4210157.486740895}, {\"Date\": \"2020-07-31T00:00:00-04:00\", \"Stock\": \"Total\", \"Value\": 4602665.248071513}, {\"Date\": \"2020-08-31T00:00:00-04:00\", \"Stock\": \"Total\", \"Value\": 5513205.188862206}, {\"Date\": \"2020-09-30T00:00:00-04:00\", \"Stock\": \"Total\", \"Value\": 5342840.05228656}, {\"Date\": \"2020-10-31T00:00:00-04:00\", \"Stock\": \"Total\", \"Value\": 5019775.398000609}, {\"Date\": \"2020-11-30T00:00:00-05:00\", \"Stock\": \"Total\", \"Value\": 5413761.8956314465}, {\"Date\": \"2020-12-31T00:00:00-05:00\", \"Stock\": \"Total\", \"Value\": 5491712.161762472}, {\"Date\": \"2021-01-31T00:00:00-05:00\", \"Stock\": \"Total\", \"Value\": 5574168.75184487}, {\"Date\": \"2021-02-28T00:00:00-05:00\", \"Stock\": \"Total\", \"Value\": 5609229.2533868635}, {\"Date\": \"2021-03-31T00:00:00-04:00\", \"Stock\": \"Total\", \"Value\": 5587425.535119385}, {\"Date\": \"2021-04-30T00:00:00-04:00\", \"Stock\": \"Total\", \"Value\": 6114408.503577855}, {\"Date\": \"2021-05-31T00:00:00-04:00\", \"Stock\": \"Total\", \"Value\": 6392109.088838492}, {\"Date\": \"2021-06-30T00:00:00-04:00\", \"Stock\": \"Total\", \"Value\": 7552175.999540731}, {\"Date\": \"2021-07-31T00:00:00-04:00\", \"Stock\": \"Total\", \"Value\": 7494020.335255594}, {\"Date\": \"2021-08-31T00:00:00-04:00\", \"Stock\": \"Total\", \"Value\": 8306156.590808923}, {\"Date\": \"2021-09-30T00:00:00-04:00\", \"Stock\": \"Total\", \"Value\": 7693802.211167732}, {\"Date\": \"2021-10-31T00:00:00-04:00\", \"Stock\": \"Total\", \"Value\": 9039976.275362348}, {\"Date\": \"2021-11-30T00:00:00-05:00\", \"Stock\": \"Total\", \"Value\": 10613207.567124043}, {\"Date\": \"2021-12-31T00:00:00-05:00\", \"Stock\": \"Total\", \"Value\": 10048947.39295895}, {\"Date\": \"2022-01-31T00:00:00-05:00\", \"Stock\": \"Total\", \"Value\": 8778203.1897967}, {\"Date\": \"2022-02-28T00:00:00-05:00\", \"Stock\": \"Total\", \"Value\": 8616039.11794118}, {\"Date\": \"2022-03-31T00:00:00-04:00\", \"Stock\": \"Total\", \"Value\": 9407202.263708733}, {\"Date\": \"2022-04-30T00:00:00-04:00\", \"Stock\": \"Total\", \"Value\": 7210966.155137623}, {\"Date\": \"2022-05-31T00:00:00-04:00\", \"Stock\": \"Total\", \"Value\": 7099759.91295479}, {\"Date\": \"2022-06-30T00:00:00-04:00\", \"Stock\": \"Total\", \"Value\": 6149849.77567263}, {\"Date\": \"2022-07-31T00:00:00-04:00\", \"Stock\": \"Total\", \"Value\": 7161710.66592561}, {\"Date\": \"2022-08-31T00:00:00-04:00\", \"Stock\": \"Total\", \"Value\": 6346968.975093745}, {\"Date\": \"2022-09-30T00:00:00-04:00\", \"Stock\": \"Total\", \"Value\": 5383405.259677448}, {\"Date\": \"2022-10-31T00:00:00-04:00\", \"Stock\": \"Total\", \"Value\": 5821727.031684389}, {\"Date\": \"2022-11-30T00:00:00-05:00\", \"Stock\": \"Total\", \"Value\": 6643082.484543639}, {\"Date\": \"2022-12-31T00:00:00-05:00\", \"Stock\": \"Total\", \"Value\": 5879788.104140049}, {\"Date\": \"2023-01-31T00:00:00-05:00\", \"Stock\": \"Total\", \"Value\": 7098712.702567606}, {\"Date\": \"2023-02-28T00:00:00-05:00\", \"Stock\": \"Total\", \"Value\": 7896935.396327544}, {\"Date\": \"2023-03-31T00:00:00-04:00\", \"Stock\": \"Total\", \"Value\": 9194560.719508518}, {\"Date\": \"2023-04-30T00:00:00-04:00\", \"Stock\": \"Total\", \"Value\": 9331339.167741574}, {\"Date\": \"2023-05-31T00:00:00-04:00\", \"Stock\": \"Total\", \"Value\": 11593792.303806055}, {\"Date\": \"2023-06-30T00:00:00-04:00\", \"Stock\": \"Total\", \"Value\": 12760130.619187938}, {\"Date\": \"2023-07-31T00:00:00-04:00\", \"Stock\": \"Total\", \"Value\": 13698771.529746793}, {\"Date\": \"2023-08-31T00:00:00-04:00\", \"Stock\": \"Total\", \"Value\": 14111864.507422326}, {\"Date\": \"2023-09-30T00:00:00-04:00\", \"Stock\": \"Total\", \"Value\": 12671737.352183346}, {\"Date\": \"2023-10-31T00:00:00-04:00\", \"Stock\": \"Total\", \"Value\": 12209835.973683078}, {\"Date\": \"2023-11-30T00:00:00-05:00\", \"Stock\": \"Total\", \"Value\": 13847217.982847502}, {\"Date\": \"2023-12-31T00:00:00-05:00\", \"Stock\": \"Total\", \"Value\": 14454120.924338134}, {\"Date\": \"2024-01-31T00:00:00-05:00\", \"Stock\": \"Total\", \"Value\": 16994719.830480956}, {\"Date\": \"2024-02-29T00:00:00-05:00\", \"Stock\": \"Total\", \"Value\": 20735440.080013894}, {\"Date\": \"2024-03-31T00:00:00-04:00\", \"Stock\": \"Total\", \"Value\": 23042997.436257083}, {\"Date\": \"2024-04-30T00:00:00-04:00\", \"Stock\": \"Total\", \"Value\": 22030130.864224084}, {\"Date\": \"2024-05-31T00:00:00-04:00\", \"Stock\": \"Total\", \"Value\": 27213697.741097633}, {\"Date\": \"2024-06-30T00:00:00-04:00\", \"Stock\": \"Total\", \"Value\": 30440627.170793552}, {\"Date\": \"2024-07-31T00:00:00-04:00\", \"Stock\": \"Total\", \"Value\": 29047655.187362187}, {\"Date\": \"2024-08-31T00:00:00-04:00\", \"Stock\": \"Total\", \"Value\": 29636273.81483424}, {\"Date\": \"2024-09-30T00:00:00-04:00\", \"Stock\": \"Total\", \"Value\": 30195485.32599267}, {\"Date\": \"2024-10-31T00:00:00-04:00\", \"Stock\": \"Total\", \"Value\": 32361343.53255442}, {\"Date\": \"2024-11-30T00:00:00-05:00\", \"Stock\": \"Total\", \"Value\": 33767536.94665907}, {\"Date\": \"2024-12-31T00:00:00-05:00\", \"Stock\": \"Total\", \"Value\": 33033462.15827604}, {\"Date\": \"2025-01-31T00:00:00-05:00\", \"Stock\": \"Total\", \"Value\": 29986983.393114794}, {\"Date\": \"2025-02-28T00:00:00-05:00\", \"Stock\": \"Total\", \"Value\": 30936274.85090667}, {\"Date\": \"2025-03-31T00:00:00-04:00\", \"Stock\": \"Total\", \"Value\": 27150279.81195174}, {\"Date\": \"2025-04-30T00:00:00-04:00\", \"Stock\": \"Total\", \"Value\": 26718280.44657275}]}}, {\"mode\": \"vega-lite\"});\n",
       "</script>"
      ],
      "text/plain": [
       "alt.LayerChart(...)"
      ]
     },
     "metadata": {},
     "output_type": "display_data"
    },
    {
     "name": "stdout",
     "output_type": "stream",
     "text": [
      "['AAPL' 'MSFT' '^IXIC' 'NVDA' 'WMT' 'AMC' '^GSPC']\n"
     ]
    },
    {
     "data": {
      "text/html": [
       "\n",
       "<style>\n",
       "  #altair-viz-6bb46753b6be4b1d899c18491a965d24.vega-embed {\n",
       "    width: 100%;\n",
       "    display: flex;\n",
       "  }\n",
       "\n",
       "  #altair-viz-6bb46753b6be4b1d899c18491a965d24.vega-embed details,\n",
       "  #altair-viz-6bb46753b6be4b1d899c18491a965d24.vega-embed details summary {\n",
       "    position: relative;\n",
       "  }\n",
       "</style>\n",
       "<div id=\"altair-viz-6bb46753b6be4b1d899c18491a965d24\"></div>\n",
       "<script type=\"text/javascript\">\n",
       "  var VEGA_DEBUG = (typeof VEGA_DEBUG == \"undefined\") ? {} : VEGA_DEBUG;\n",
       "  (function(spec, embedOpt){\n",
       "    let outputDiv = document.currentScript.previousElementSibling;\n",
       "    if (outputDiv.id !== \"altair-viz-6bb46753b6be4b1d899c18491a965d24\") {\n",
       "      outputDiv = document.getElementById(\"altair-viz-6bb46753b6be4b1d899c18491a965d24\");\n",
       "    }\n",
       "\n",
       "    const paths = {\n",
       "      \"vega\": \"https://cdn.jsdelivr.net/npm/vega@5?noext\",\n",
       "      \"vega-lib\": \"https://cdn.jsdelivr.net/npm/vega-lib?noext\",\n",
       "      \"vega-lite\": \"https://cdn.jsdelivr.net/npm/vega-lite@5.20.1?noext\",\n",
       "      \"vega-embed\": \"https://cdn.jsdelivr.net/npm/vega-embed@6?noext\",\n",
       "    };\n",
       "\n",
       "    function maybeLoadScript(lib, version) {\n",
       "      var key = `${lib.replace(\"-\", \"\")}_version`;\n",
       "      return (VEGA_DEBUG[key] == version) ?\n",
       "        Promise.resolve(paths[lib]) :\n",
       "        new Promise(function(resolve, reject) {\n",
       "          var s = document.createElement('script');\n",
       "          document.getElementsByTagName(\"head\")[0].appendChild(s);\n",
       "          s.async = true;\n",
       "          s.onload = () => {\n",
       "            VEGA_DEBUG[key] = version;\n",
       "            return resolve(paths[lib]);\n",
       "          };\n",
       "          s.onerror = () => reject(`Error loading script: ${paths[lib]}`);\n",
       "          s.src = paths[lib];\n",
       "        });\n",
       "    }\n",
       "\n",
       "    function showError(err) {\n",
       "      outputDiv.innerHTML = `<div class=\"error\" style=\"color:red;\">${err}</div>`;\n",
       "      throw err;\n",
       "    }\n",
       "\n",
       "    function displayChart(vegaEmbed) {\n",
       "      vegaEmbed(outputDiv, spec, embedOpt)\n",
       "        .catch(err => showError(`Javascript Error: ${err.message}<br>This usually means there's a typo in your chart specification. See the javascript console for the full traceback.`));\n",
       "    }\n",
       "\n",
       "    if(typeof define === \"function\" && define.amd) {\n",
       "      requirejs.config({paths});\n",
       "      let deps = [\"vega-embed\"];\n",
       "      require(deps, displayChart, err => showError(`Error loading script: ${err.message}`));\n",
       "    } else {\n",
       "      maybeLoadScript(\"vega\", \"5\")\n",
       "        .then(() => maybeLoadScript(\"vega-lite\", \"5.20.1\"))\n",
       "        .then(() => maybeLoadScript(\"vega-embed\", \"6\"))\n",
       "        .catch(showError)\n",
       "        .then(() => displayChart(vegaEmbed));\n",
       "    }\n",
       "  })({\"config\": {\"view\": {\"continuousWidth\": 300, \"continuousHeight\": 300}}, \"layer\": [{\"mark\": {\"type\": \"line\"}, \"encoding\": {\"color\": {\"field\": \"Stock\", \"title\": \"Stock\", \"type\": \"nominal\"}, \"x\": {\"field\": \"Date\", \"title\": \"Date\", \"type\": \"temporal\"}, \"y\": {\"field\": \"Value\", \"title\": \"Portfolio Value\", \"type\": \"quantitative\"}}, \"name\": \"view_102\"}, {\"mark\": {\"type\": \"point\"}, \"encoding\": {\"color\": {\"field\": \"Stock\", \"title\": \"Stock\", \"type\": \"nominal\"}, \"opacity\": {\"condition\": [{\"param\": \"param_132\", \"value\": 1, \"empty\": false}], \"value\": 0}, \"x\": {\"field\": \"Date\", \"title\": \"Date\", \"type\": \"temporal\"}, \"y\": {\"field\": \"Value\", \"title\": \"Portfolio Value\", \"type\": \"quantitative\"}}}, {\"mark\": {\"type\": \"rule\", \"color\": \"gray\"}, \"encoding\": {\"opacity\": {\"condition\": [{\"param\": \"param_132\", \"value\": 0.3, \"empty\": false}], \"value\": 0}, \"tooltip\": [{\"field\": \"AAPL\", \"format\": \".2f\", \"type\": \"quantitative\"}, {\"field\": \"MSFT\", \"format\": \".2f\", \"type\": \"quantitative\"}, {\"field\": \"^IXIC\", \"format\": \".2f\", \"type\": \"quantitative\"}, {\"field\": \"NVDA\", \"format\": \".2f\", \"type\": \"quantitative\"}, {\"field\": \"WMT\", \"format\": \".2f\", \"type\": \"quantitative\"}, {\"field\": \"AMC\", \"format\": \".2f\", \"type\": \"quantitative\"}, {\"field\": \"^GSPC\", \"format\": \".2f\", \"type\": \"quantitative\"}], \"x\": {\"field\": \"Date\", \"type\": \"temporal\"}}, \"name\": \"view_103\", \"transform\": [{\"pivot\": \"Stock\", \"value\": \"Value\", \"groupby\": [\"Date\"]}]}], \"data\": {\"name\": \"data-8b3dc0e5facf60756fc2966109551378\"}, \"height\": 300, \"params\": [{\"name\": \"param_133\", \"select\": {\"type\": \"interval\", \"encodings\": [\"x\", \"y\"]}, \"bind\": \"scales\", \"views\": [\"view_102\"]}, {\"name\": \"param_132\", \"select\": {\"type\": \"point\", \"fields\": [\"Date\"], \"nearest\": true, \"on\": \"mouseover\"}, \"views\": [\"view_103\"]}], \"width\": 600, \"$schema\": \"https://vega.github.io/schema/vega-lite/v5.20.1.json\", \"datasets\": {\"data-8b3dc0e5facf60756fc2966109551378\": [{\"Date\": \"2015-01-31T00:00:00-05:00\", \"Stock\": \"AAPL\", \"Value\": 214323.64994754884}, {\"Date\": \"2015-02-28T00:00:00-05:00\", \"Stock\": \"AAPL\", \"Value\": 235922.3873555084}, {\"Date\": \"2015-03-31T00:00:00-04:00\", \"Stock\": \"AAPL\", \"Value\": 228521.0971575994}, {\"Date\": \"2015-04-30T00:00:00-04:00\", \"Stock\": \"AAPL\", \"Value\": 229843.43394417592}, {\"Date\": \"2015-05-31T00:00:00-04:00\", \"Stock\": \"AAPL\", \"Value\": 240264.2728614236}, {\"Date\": \"2015-06-30T00:00:00-04:00\", \"Stock\": \"AAPL\", \"Value\": 231319.86166950257}, {\"Date\": \"2015-07-31T00:00:00-04:00\", \"Stock\": \"AAPL\", \"Value\": 223703.26138240154}, {\"Date\": \"2015-08-31T00:00:00-04:00\", \"Stock\": \"AAPL\", \"Value\": 208894.98727620425}, {\"Date\": \"2015-09-30T00:00:00-04:00\", \"Stock\": \"AAPL\", \"Value\": 204337.65051472397}, {\"Date\": \"2015-10-31T00:00:00-04:00\", \"Stock\": \"AAPL\", \"Value\": 221381.24708256163}, {\"Date\": \"2015-11-30T00:00:00-05:00\", \"Stock\": \"AAPL\", \"Value\": 220096.2566442306}, {\"Date\": \"2015-12-31T00:00:00-05:00\", \"Stock\": \"AAPL\", \"Value\": 195835.46651408152}, {\"Date\": \"2016-01-31T00:00:00-05:00\", \"Stock\": \"AAPL\", \"Value\": 181100.30090396674}, {\"Date\": \"2016-02-29T00:00:00-05:00\", \"Stock\": \"AAPL\", \"Value\": 180867.20385177157}, {\"Date\": \"2016-03-31T00:00:00-04:00\", \"Stock\": \"AAPL\", \"Value\": 203875.39338362621}, {\"Date\": \"2016-04-30T00:00:00-04:00\", \"Stock\": \"AAPL\", \"Value\": 175348.93190385128}, {\"Date\": \"2016-05-31T00:00:00-04:00\", \"Stock\": \"AAPL\", \"Value\": 187934.21207832036}, {\"Date\": \"2016-06-30T00:00:00-04:00\", \"Stock\": \"AAPL\", \"Value\": 179917.0129948352}, {\"Date\": \"2016-07-31T00:00:00-04:00\", \"Stock\": \"AAPL\", \"Value\": 196120.82649460682}, {\"Date\": \"2016-08-31T00:00:00-04:00\", \"Stock\": \"AAPL\", \"Value\": 200759.45940180594}, {\"Date\": \"2016-09-30T00:00:00-04:00\", \"Stock\": \"AAPL\", \"Value\": 213910.09521515016}, {\"Date\": \"2016-10-31T00:00:00-04:00\", \"Stock\": \"AAPL\", \"Value\": 214837.2602681283}, {\"Date\": \"2016-11-30T00:00:00-05:00\", \"Stock\": \"AAPL\", \"Value\": 210196.55692079122}, {\"Date\": \"2016-12-31T00:00:00-05:00\", \"Stock\": \"AAPL\", \"Value\": 220276.49473229836}, {\"Date\": \"2017-01-31T00:00:00-05:00\", \"Stock\": \"AAPL\", \"Value\": 230793.95418931602}, {\"Date\": \"2017-02-28T00:00:00-05:00\", \"Stock\": \"AAPL\", \"Value\": 261669.09472828297}, {\"Date\": \"2017-03-31T00:00:00-04:00\", \"Stock\": \"AAPL\", \"Value\": 274409.64222794416}, {\"Date\": \"2017-04-30T00:00:00-04:00\", \"Stock\": \"AAPL\", \"Value\": 274390.56908243115}, {\"Date\": \"2017-05-31T00:00:00-04:00\", \"Stock\": \"AAPL\", \"Value\": 292996.26567887847}, {\"Date\": \"2017-06-30T00:00:00-04:00\", \"Stock\": \"AAPL\", \"Value\": 276232.82162091625}, {\"Date\": \"2017-07-31T00:00:00-04:00\", \"Stock\": \"AAPL\", \"Value\": 285266.55975666683}, {\"Date\": \"2017-08-31T00:00:00-04:00\", \"Stock\": \"AAPL\", \"Value\": 315790.0234900845}, {\"Date\": \"2017-09-30T00:00:00-04:00\", \"Stock\": \"AAPL\", \"Value\": 296765.59606089356}, {\"Date\": \"2017-10-31T00:00:00-04:00\", \"Stock\": \"AAPL\", \"Value\": 325494.70971174457}, {\"Date\": \"2017-11-30T00:00:00-05:00\", \"Stock\": \"AAPL\", \"Value\": 332095.24150115694}, {\"Date\": \"2017-12-31T00:00:00-05:00\", \"Stock\": \"AAPL\", \"Value\": 327032.042884462}, {\"Date\": \"2018-01-31T00:00:00-05:00\", \"Stock\": \"AAPL\", \"Value\": 323553.64071213105}, {\"Date\": \"2018-02-28T00:00:00-05:00\", \"Stock\": \"AAPL\", \"Value\": 345615.1842315279}, {\"Date\": \"2018-03-31T00:00:00-04:00\", \"Stock\": \"AAPL\", \"Value\": 325552.02325919905}, {\"Date\": \"2018-04-30T00:00:00-04:00\", \"Stock\": \"AAPL\", \"Value\": 320662.27105951327}, {\"Date\": \"2018-05-31T00:00:00-04:00\", \"Stock\": \"AAPL\", \"Value\": 363991.3443054113}, {\"Date\": \"2018-06-30T00:00:00-04:00\", \"Stock\": \"AAPL\", \"Value\": 360563.228732188}, {\"Date\": \"2018-07-31T00:00:00-04:00\", \"Stock\": \"AAPL\", \"Value\": 370653.0168195028}, {\"Date\": \"2018-08-31T00:00:00-04:00\", \"Stock\": \"AAPL\", \"Value\": 444940.00115442724}, {\"Date\": \"2018-09-30T00:00:00-04:00\", \"Stock\": \"AAPL\", \"Value\": 441245.7399125647}, {\"Date\": \"2018-10-31T00:00:00-04:00\", \"Stock\": \"AAPL\", \"Value\": 427797.6351809189}, {\"Date\": \"2018-11-30T00:00:00-05:00\", \"Stock\": \"AAPL\", \"Value\": 350281.64259936864}, {\"Date\": \"2018-12-31T00:00:00-05:00\", \"Stock\": \"AAPL\", \"Value\": 309404.40966105013}, {\"Date\": \"2019-01-31T00:00:00-05:00\", \"Stock\": \"AAPL\", \"Value\": 326469.322351217}, {\"Date\": \"2019-02-28T00:00:00-05:00\", \"Stock\": \"AAPL\", \"Value\": 341087.5080935387}, {\"Date\": \"2019-03-31T00:00:00-04:00\", \"Stock\": \"AAPL\", \"Value\": 374181.7369612464}, {\"Date\": \"2019-04-30T00:00:00-04:00\", \"Stock\": \"AAPL\", \"Value\": 395298.971555917}, {\"Date\": \"2019-05-31T00:00:00-04:00\", \"Stock\": \"AAPL\", \"Value\": 346197.76216791396}, {\"Date\": \"2019-06-30T00:00:00-04:00\", \"Stock\": \"AAPL\", \"Value\": 391383.2673302114}, {\"Date\": \"2019-07-31T00:00:00-04:00\", \"Stock\": \"AAPL\", \"Value\": 421282.7129541793}, {\"Date\": \"2019-08-31T00:00:00-04:00\", \"Stock\": \"AAPL\", \"Value\": 414348.0246746272}, {\"Date\": \"2019-09-30T00:00:00-04:00\", \"Stock\": \"AAPL\", \"Value\": 444579.3681267661}, {\"Date\": \"2019-10-31T00:00:00-04:00\", \"Stock\": \"AAPL\", \"Value\": 493787.4875146186}, {\"Date\": \"2019-11-30T00:00:00-05:00\", \"Stock\": \"AAPL\", \"Value\": 532082.6620088037}, {\"Date\": \"2019-12-31T00:00:00-05:00\", \"Stock\": \"AAPL\", \"Value\": 584643.9846812526}, {\"Date\": \"2020-01-31T00:00:00-05:00\", \"Stock\": \"AAPL\", \"Value\": 616220.3927060277}, {\"Date\": \"2020-02-29T00:00:00-05:00\", \"Stock\": \"AAPL\", \"Value\": 545539.0171306962}, {\"Date\": \"2020-03-31T00:00:00-04:00\", \"Stock\": \"AAPL\", \"Value\": 507481.47269779607}, {\"Date\": \"2020-04-30T00:00:00-04:00\", \"Stock\": \"AAPL\", \"Value\": 586330.7659875624}, {\"Date\": \"2020-05-31T00:00:00-04:00\", \"Stock\": \"AAPL\", \"Value\": 636224.106950154}, {\"Date\": \"2020-06-30T00:00:00-04:00\", \"Stock\": \"AAPL\", \"Value\": 729994.8427218383}, {\"Date\": \"2020-07-31T00:00:00-04:00\", \"Stock\": \"AAPL\", \"Value\": 850540.1966541687}, {\"Date\": \"2020-08-31T00:00:00-04:00\", \"Stock\": \"AAPL\", \"Value\": 1034740.8561834637}, {\"Date\": \"2020-09-30T00:00:00-04:00\", \"Stock\": \"AAPL\", \"Value\": 928652.6955875785}, {\"Date\": \"2020-10-31T00:00:00-04:00\", \"Stock\": \"AAPL\", \"Value\": 872922.4074325038}, {\"Date\": \"2020-11-30T00:00:00-05:00\", \"Stock\": \"AAPL\", \"Value\": 956280.5233068819}, {\"Date\": \"2020-12-31T00:00:00-05:00\", \"Stock\": \"AAPL\", \"Value\": 1065845.0156349603}, {\"Date\": \"2021-01-31T00:00:00-05:00\", \"Stock\": \"AAPL\", \"Value\": 1059981.4036831248}, {\"Date\": \"2021-02-28T00:00:00-05:00\", \"Stock\": \"AAPL\", \"Value\": 975487.9964664488}, {\"Date\": \"2021-03-31T00:00:00-04:00\", \"Stock\": \"AAPL\", \"Value\": 982647.6412040174}, {\"Date\": \"2021-04-30T00:00:00-04:00\", \"Stock\": \"AAPL\", \"Value\": 1057542.9271255264}, {\"Date\": \"2021-05-31T00:00:00-04:00\", \"Stock\": \"AAPL\", \"Value\": 1004140.1901291454}, {\"Date\": \"2021-06-30T00:00:00-04:00\", \"Stock\": \"AAPL\", \"Value\": 1103659.659795315}, {\"Date\": \"2021-07-31T00:00:00-04:00\", \"Stock\": \"AAPL\", \"Value\": 1175378.074917308}, {\"Date\": \"2021-08-31T00:00:00-04:00\", \"Stock\": \"AAPL\", \"Value\": 1225319.0987436823}, {\"Date\": \"2021-09-30T00:00:00-04:00\", \"Stock\": \"AAPL\", \"Value\": 1141952.638368142}, {\"Date\": \"2021-10-31T00:00:00-04:00\", \"Stock\": \"AAPL\", \"Value\": 1208936.2705977424}, {\"Date\": \"2021-11-30T00:00:00-05:00\", \"Stock\": \"AAPL\", \"Value\": 1335973.3327310234}, {\"Date\": \"2021-12-31T00:00:00-05:00\", \"Stock\": \"AAPL\", \"Value\": 1435141.2667580172}, {\"Date\": \"2022-01-31T00:00:00-05:00\", \"Stock\": \"AAPL\", \"Value\": 1412592.0404752225}, {\"Date\": \"2022-02-28T00:00:00-05:00\", \"Stock\": \"AAPL\", \"Value\": 1336218.899479504}, {\"Date\": \"2022-03-31T00:00:00-04:00\", \"Stock\": \"AAPL\", \"Value\": 1413016.0415192263}, {\"Date\": \"2022-04-30T00:00:00-04:00\", \"Stock\": \"AAPL\", \"Value\": 1275768.8234378844}, {\"Date\": \"2022-05-31T00:00:00-04:00\", \"Stock\": \"AAPL\", \"Value\": 1206244.0710123323}, {\"Date\": \"2022-06-30T00:00:00-04:00\", \"Stock\": \"AAPL\", \"Value\": 1108020.132207014}, {\"Date\": \"2022-07-31T00:00:00-04:00\", \"Stock\": \"AAPL\", \"Value\": 1317029.9347999578}, {\"Date\": \"2022-08-31T00:00:00-04:00\", \"Stock\": \"AAPL\", \"Value\": 1275928.1845878947}, {\"Date\": \"2022-09-30T00:00:00-04:00\", \"Stock\": \"AAPL\", \"Value\": 1121570.0963193849}, {\"Date\": \"2022-10-31T00:00:00-04:00\", \"Stock\": \"AAPL\", \"Value\": 1244439.6761580664}, {\"Date\": \"2022-11-30T00:00:00-05:00\", \"Stock\": \"AAPL\", \"Value\": 1203338.929795767}, {\"Date\": \"2022-12-31T00:00:00-05:00\", \"Stock\": \"AAPL\", \"Value\": 1056203.6660593378}, {\"Date\": \"2023-01-31T00:00:00-05:00\", \"Stock\": \"AAPL\", \"Value\": 1172936.3358479769}, {\"Date\": \"2023-02-28T00:00:00-05:00\", \"Stock\": \"AAPL\", \"Value\": 1200128.743732213}, {\"Date\": \"2023-03-31T00:00:00-04:00\", \"Stock\": \"AAPL\", \"Value\": 1342522.0721466825}, {\"Date\": \"2023-04-30T00:00:00-04:00\", \"Stock\": \"AAPL\", \"Value\": 1381438.566904077}, {\"Date\": \"2023-05-31T00:00:00-04:00\", \"Stock\": \"AAPL\", \"Value\": 1445065.0745609412}, {\"Date\": \"2023-06-30T00:00:00-04:00\", \"Stock\": \"AAPL\", \"Value\": 1581378.0849558057}, {\"Date\": \"2023-07-31T00:00:00-04:00\", \"Stock\": \"AAPL\", \"Value\": 1601596.6230493945}, {\"Date\": \"2023-08-31T00:00:00-04:00\", \"Stock\": \"AAPL\", \"Value\": 1533714.9217248147}, {\"Date\": \"2023-09-30T00:00:00-04:00\", \"Stock\": \"AAPL\", \"Value\": 1397707.7090642615}, {\"Date\": \"2023-10-31T00:00:00-04:00\", \"Stock\": \"AAPL\", \"Value\": 1394115.6836467856}, {\"Date\": \"2023-11-30T00:00:00-05:00\", \"Stock\": \"AAPL\", \"Value\": 1552738.376674547}, {\"Date\": \"2023-12-31T00:00:00-05:00\", \"Stock\": \"AAPL\", \"Value\": 1573828.5073255938}, {\"Date\": \"2024-01-31T00:00:00-05:00\", \"Stock\": \"AAPL\", \"Value\": 1507370.2649661452}, {\"Date\": \"2024-02-29T00:00:00-05:00\", \"Stock\": \"AAPL\", \"Value\": 1479418.8211792223}, {\"Date\": \"2024-03-31T00:00:00-04:00\", \"Stock\": \"AAPL\", \"Value\": 1403544.718997355}, {\"Date\": \"2024-04-30T00:00:00-04:00\", \"Stock\": \"AAPL\", \"Value\": 1394132.1216866684}, {\"Date\": \"2024-05-31T00:00:00-04:00\", \"Stock\": \"AAPL\", \"Value\": 1575679.3553276819}, {\"Date\": \"2024-06-30T00:00:00-04:00\", \"Stock\": \"AAPL\", \"Value\": 1726239.6289771276}, {\"Date\": \"2024-07-31T00:00:00-04:00\", \"Stock\": \"AAPL\", \"Value\": 1820165.7104997665}, {\"Date\": \"2024-08-31T00:00:00-04:00\", \"Stock\": \"AAPL\", \"Value\": 1879054.423714947}, {\"Date\": \"2024-09-30T00:00:00-04:00\", \"Stock\": \"AAPL\", \"Value\": 1911876.2955936014}, {\"Date\": \"2024-10-31T00:00:00-04:00\", \"Stock\": \"AAPL\", \"Value\": 1853699.562823428}, {\"Date\": \"2024-11-30T00:00:00-05:00\", \"Stock\": \"AAPL\", \"Value\": 1949548.6440499316}, {\"Date\": \"2024-12-31T00:00:00-05:00\", \"Stock\": \"AAPL\", \"Value\": 2057076.5134290005}, {\"Date\": \"2025-01-31T00:00:00-05:00\", \"Stock\": \"AAPL\", \"Value\": 1938623.3706263523}, {\"Date\": \"2025-02-28T00:00:00-05:00\", \"Stock\": \"AAPL\", \"Value\": 1988780.222151953}, {\"Date\": \"2025-03-31T00:00:00-04:00\", \"Stock\": \"AAPL\", \"Value\": 1826694.3729201488}, {\"Date\": \"2025-04-30T00:00:00-04:00\", \"Stock\": \"AAPL\", \"Value\": 1713538.419840087}, {\"Date\": \"2015-01-31T00:00:00-05:00\", \"Stock\": \"MSFT\", \"Value\": 172797.2961356517}, {\"Date\": \"2015-02-28T00:00:00-05:00\", \"Stock\": \"MSFT\", \"Value\": 188888.2172298813}, {\"Date\": \"2015-03-31T00:00:00-04:00\", \"Stock\": \"MSFT\", \"Value\": 175146.95608210025}, {\"Date\": \"2015-04-30T00:00:00-04:00\", \"Stock\": \"MSFT\", \"Value\": 209521.5946356806}, {\"Date\": \"2015-05-31T00:00:00-04:00\", \"Stock\": \"MSFT\", \"Value\": 203165.92555177133}, {\"Date\": \"2015-06-30T00:00:00-04:00\", \"Stock\": \"MSFT\", \"Value\": 191416.4834703502}, {\"Date\": \"2015-07-31T00:00:00-04:00\", \"Stock\": \"MSFT\", \"Value\": 202472.2720915814}, {\"Date\": \"2015-08-31T00:00:00-04:00\", \"Stock\": \"MSFT\", \"Value\": 189929.27811433183}, {\"Date\": \"2015-09-30T00:00:00-04:00\", \"Stock\": \"MSFT\", \"Value\": 193158.77539787308}, {\"Date\": \"2015-10-31T00:00:00-04:00\", \"Stock\": \"MSFT\", \"Value\": 229730.68451752266}, {\"Date\": \"2015-11-30T00:00:00-05:00\", \"Stock\": \"MSFT\", \"Value\": 238792.21706081362}, {\"Date\": \"2015-12-31T00:00:00-05:00\", \"Stock\": \"MSFT\", \"Value\": 243756.94274612557}, {\"Date\": \"2016-01-31T00:00:00-05:00\", \"Stock\": \"MSFT\", \"Value\": 242043.3809004358}, {\"Date\": \"2016-02-29T00:00:00-05:00\", \"Stock\": \"MSFT\", \"Value\": 225151.4255232602}, {\"Date\": \"2016-03-31T00:00:00-04:00\", \"Stock\": \"MSFT\", \"Value\": 244400.75170383762}, {\"Date\": \"2016-04-30T00:00:00-04:00\", \"Stock\": \"MSFT\", \"Value\": 220681.98436333405}, {\"Date\": \"2016-05-31T00:00:00-04:00\", \"Stock\": \"MSFT\", \"Value\": 236173.1530998264}, {\"Date\": \"2016-06-30T00:00:00-04:00\", \"Stock\": \"MSFT\", \"Value\": 228018.4934908468}, {\"Date\": \"2016-07-31T00:00:00-04:00\", \"Stock\": \"MSFT\", \"Value\": 252571.53747538358}, {\"Date\": \"2016-08-31T00:00:00-04:00\", \"Stock\": \"MSFT\", \"Value\": 257643.12992632133}, {\"Date\": \"2016-09-30T00:00:00-04:00\", \"Stock\": \"MSFT\", \"Value\": 258270.96503469077}, {\"Date\": \"2016-10-31T00:00:00-04:00\", \"Stock\": \"MSFT\", \"Value\": 268673.50127833633}, {\"Date\": \"2016-11-30T00:00:00-05:00\", \"Stock\": \"MSFT\", \"Value\": 272023.3831261128}, {\"Date\": \"2016-12-31T00:00:00-05:00\", \"Stock\": \"MSFT\", \"Value\": 280509.99036714056}, {\"Date\": \"2017-01-31T00:00:00-05:00\", \"Stock\": \"MSFT\", \"Value\": 291840.53300489526}, {\"Date\": \"2017-02-28T00:00:00-05:00\", \"Stock\": \"MSFT\", \"Value\": 290566.94694521074}, {\"Date\": \"2017-03-31T00:00:00-04:00\", \"Stock\": \"MSFT\", \"Value\": 299105.1312516368}, {\"Date\": \"2017-04-30T00:00:00-04:00\", \"Stock\": \"MSFT\", \"Value\": 310913.0425718316}, {\"Date\": \"2017-05-31T00:00:00-04:00\", \"Stock\": \"MSFT\", \"Value\": 318998.39966399706}, {\"Date\": \"2017-06-30T00:00:00-04:00\", \"Stock\": \"MSFT\", \"Value\": 314841.75274823036}, {\"Date\": \"2017-07-31T00:00:00-04:00\", \"Stock\": \"MSFT\", \"Value\": 332061.5242612595}, {\"Date\": \"2017-08-31T00:00:00-04:00\", \"Stock\": \"MSFT\", \"Value\": 343336.0537109737}, {\"Date\": \"2017-09-30T00:00:00-04:00\", \"Stock\": \"MSFT\", \"Value\": 342050.30163254077}, {\"Date\": \"2017-10-31T00:00:00-04:00\", \"Stock\": \"MSFT\", \"Value\": 381953.81501311465}, {\"Date\": \"2017-11-30T00:00:00-05:00\", \"Stock\": \"MSFT\", \"Value\": 388440.87329167634}, {\"Date\": \"2017-12-31T00:00:00-05:00\", \"Stock\": \"MSFT\", \"Value\": 394763.39521026314}, {\"Date\": \"2018-01-31T00:00:00-05:00\", \"Stock\": \"MSFT\", \"Value\": 438467.04736722313}, {\"Date\": \"2018-02-28T00:00:00-05:00\", \"Stock\": \"MSFT\", \"Value\": 434777.1833648447}, {\"Date\": \"2018-03-31T00:00:00-04:00\", \"Stock\": \"MSFT\", \"Value\": 423185.69009647047}, {\"Date\": \"2018-04-30T00:00:00-04:00\", \"Stock\": \"MSFT\", \"Value\": 433618.1939668922}, {\"Date\": \"2018-05-31T00:00:00-04:00\", \"Stock\": \"MSFT\", \"Value\": 460271.40883734653}, {\"Date\": \"2018-06-30T00:00:00-04:00\", \"Stock\": \"MSFT\", \"Value\": 459200.3422478138}, {\"Date\": \"2018-07-31T00:00:00-04:00\", \"Stock\": \"MSFT\", \"Value\": 493986.1693881074}, {\"Date\": \"2018-08-31T00:00:00-04:00\", \"Stock\": \"MSFT\", \"Value\": 525103.6848471856}, {\"Date\": \"2018-09-30T00:00:00-04:00\", \"Stock\": \"MSFT\", \"Value\": 534640.0538655715}, {\"Date\": \"2018-10-31T00:00:00-04:00\", \"Stock\": \"MSFT\", \"Value\": 499299.6923558467}, {\"Date\": \"2018-11-30T00:00:00-05:00\", \"Stock\": \"MSFT\", \"Value\": 520611.62517353}, {\"Date\": \"2018-12-31T00:00:00-05:00\", \"Stock\": \"MSFT\", \"Value\": 476855.61534590006}, {\"Date\": \"2019-01-31T00:00:00-05:00\", \"Stock\": \"MSFT\", \"Value\": 490282.97797864926}, {\"Date\": \"2019-02-28T00:00:00-05:00\", \"Stock\": \"MSFT\", \"Value\": 528209.8845760871}, {\"Date\": \"2019-03-31T00:00:00-04:00\", \"Stock\": \"MSFT\", \"Value\": 556075.0938463649}, {\"Date\": \"2019-04-30T00:00:00-04:00\", \"Stock\": \"MSFT\", \"Value\": 615765.6562048743}, {\"Date\": \"2019-05-31T00:00:00-04:00\", \"Stock\": \"MSFT\", \"Value\": 585297.0712356572}, {\"Date\": \"2019-06-30T00:00:00-04:00\", \"Stock\": \"MSFT\", \"Value\": 633945.7625937572}, {\"Date\": \"2019-07-31T00:00:00-04:00\", \"Stock\": \"MSFT\", \"Value\": 644877.358820159}, {\"Date\": \"2019-08-31T00:00:00-04:00\", \"Stock\": \"MSFT\", \"Value\": 654574.3040547018}, {\"Date\": \"2019-09-30T00:00:00-04:00\", \"Stock\": \"MSFT\", \"Value\": 660129.5481085601}, {\"Date\": \"2019-10-31T00:00:00-04:00\", \"Stock\": \"MSFT\", \"Value\": 680736.384935118}, {\"Date\": \"2019-11-30T00:00:00-05:00\", \"Stock\": \"MSFT\", \"Value\": 721214.3857174368}, {\"Date\": \"2019-12-31T00:00:00-05:00\", \"Stock\": \"MSFT\", \"Value\": 751324.6538277408}, {\"Date\": \"2020-01-31T00:00:00-05:00\", \"Stock\": \"MSFT\", \"Value\": 811021.0040887535}, {\"Date\": \"2020-02-29T00:00:00-05:00\", \"Stock\": \"MSFT\", \"Value\": 773966.7761068912}, {\"Date\": \"2020-03-31T00:00:00-04:00\", \"Stock\": \"MSFT\", \"Value\": 753424.5200872108}, {\"Date\": \"2020-04-30T00:00:00-04:00\", \"Stock\": \"MSFT\", \"Value\": 856136.1809686722}, {\"Date\": \"2020-05-31T00:00:00-04:00\", \"Stock\": \"MSFT\", \"Value\": 877874.5527345984}, {\"Date\": \"2020-06-30T00:00:00-04:00\", \"Stock\": \"MSFT\", \"Value\": 974931.7374969169}, {\"Date\": \"2020-07-31T00:00:00-04:00\", \"Stock\": \"MSFT\", \"Value\": 982117.7230810414}, {\"Date\": \"2020-08-31T00:00:00-04:00\", \"Stock\": \"MSFT\", \"Value\": 1083032.087922047}, {\"Date\": \"2020-09-30T00:00:00-04:00\", \"Stock\": \"MSFT\", \"Value\": 1010039.0978525835}, {\"Date\": \"2020-10-31T00:00:00-04:00\", \"Stock\": \"MSFT\", \"Value\": 972294.129400936}, {\"Date\": \"2020-11-30T00:00:00-05:00\", \"Stock\": \"MSFT\", \"Value\": 1030690.6386103171}, {\"Date\": \"2020-12-31T00:00:00-05:00\", \"Stock\": \"MSFT\", \"Value\": 1070893.7140237356}, {\"Date\": \"2021-01-31T00:00:00-05:00\", \"Stock\": \"MSFT\", \"Value\": 1116826.4321322264}, {\"Date\": \"2021-02-28T00:00:00-05:00\", \"Stock\": \"MSFT\", \"Value\": 1121425.3014540488}, {\"Date\": \"2021-03-31T00:00:00-04:00\", \"Stock\": \"MSFT\", \"Value\": 1137785.036349075}, {\"Date\": \"2021-04-30T00:00:00-04:00\", \"Stock\": \"MSFT\", \"Value\": 1216976.7938428142}, {\"Date\": \"2021-05-31T00:00:00-04:00\", \"Stock\": \"MSFT\", \"Value\": 1207694.4452033665}, {\"Date\": \"2021-06-30T00:00:00-04:00\", \"Stock\": \"MSFT\", \"Value\": 1310334.8234961045}, {\"Date\": \"2021-07-31T00:00:00-04:00\", \"Stock\": \"MSFT\", \"Value\": 1378101.109135376}, {\"Date\": \"2021-08-31T00:00:00-04:00\", \"Stock\": \"MSFT\", \"Value\": 1462979.6331516968}, {\"Date\": \"2021-09-30T00:00:00-04:00\", \"Stock\": \"MSFT\", \"Value\": 1366249.0079411357}, {\"Date\": \"2021-10-31T00:00:00-04:00\", \"Stock\": \"MSFT\", \"Value\": 1607106.4780813183}, {\"Date\": \"2021-11-30T00:00:00-05:00\", \"Stock\": \"MSFT\", \"Value\": 1605046.1371034158}, {\"Date\": \"2021-12-31T00:00:00-05:00\", \"Stock\": \"MSFT\", \"Value\": 1632865.5381716457}, {\"Date\": \"2022-01-31T00:00:00-05:00\", \"Stock\": \"MSFT\", \"Value\": 1509837.4256247391}, {\"Date\": \"2022-02-28T00:00:00-05:00\", \"Stock\": \"MSFT\", \"Value\": 1453653.6467736394}, {\"Date\": \"2022-03-31T00:00:00-04:00\", \"Stock\": \"MSFT\", \"Value\": 1499969.508796517}, {\"Date\": \"2022-04-30T00:00:00-04:00\", \"Stock\": \"MSFT\", \"Value\": 1350172.0425460336}, {\"Date\": \"2022-05-31T00:00:00-04:00\", \"Stock\": \"MSFT\", \"Value\": 1325764.9146298661}, {\"Date\": \"2022-06-30T00:00:00-04:00\", \"Stock\": \"MSFT\", \"Value\": 1252422.594181692}, {\"Date\": \"2022-07-31T00:00:00-04:00\", \"Stock\": \"MSFT\", \"Value\": 1369018.8239153468}, {\"Date\": \"2022-08-31T00:00:00-04:00\", \"Stock\": \"MSFT\", \"Value\": 1277755.7864983657}, {\"Date\": \"2022-09-30T00:00:00-04:00\", \"Stock\": \"MSFT\", \"Value\": 1138139.39306417}, {\"Date\": \"2022-10-31T00:00:00-04:00\", \"Stock\": \"MSFT\", \"Value\": 1134376.7233408305}, {\"Date\": \"2022-11-30T00:00:00-05:00\", \"Stock\": \"MSFT\", \"Value\": 1250335.9791726898}, {\"Date\": \"2022-12-31T00:00:00-05:00\", \"Stock\": \"MSFT\", \"Value\": 1175259.03957564}, {\"Date\": \"2023-01-31T00:00:00-05:00\", \"Stock\": \"MSFT\", \"Value\": 1214414.8092624336}, {\"Date\": \"2023-02-28T00:00:00-05:00\", \"Stock\": \"MSFT\", \"Value\": 1225366.0538947016}, {\"Date\": \"2023-03-31T00:00:00-04:00\", \"Stock\": \"MSFT\", \"Value\": 1416378.3361474788}, {\"Date\": \"2023-04-30T00:00:00-04:00\", \"Stock\": \"MSFT\", \"Value\": 1509526.0973953584}, {\"Date\": \"2023-05-31T00:00:00-04:00\", \"Stock\": \"MSFT\", \"Value\": 1616861.9877503994}, {\"Date\": \"2023-06-30T00:00:00-04:00\", \"Stock\": \"MSFT\", \"Value\": 1676683.7679511847}, {\"Date\": \"2023-07-31T00:00:00-04:00\", \"Stock\": \"MSFT\", \"Value\": 1653936.7018608584}, {\"Date\": \"2023-08-31T00:00:00-04:00\", \"Stock\": \"MSFT\", \"Value\": 1617176.8191839266}, {\"Date\": \"2023-09-30T00:00:00-04:00\", \"Stock\": \"MSFT\", \"Value\": 1557919.0548507527}, {\"Date\": \"2023-10-31T00:00:00-04:00\", \"Stock\": \"MSFT\", \"Value\": 1668243.6352825586}, {\"Date\": \"2023-11-30T00:00:00-05:00\", \"Stock\": \"MSFT\", \"Value\": 1873346.6423358985}, {\"Date\": \"2023-12-31T00:00:00-05:00\", \"Stock\": \"MSFT\", \"Value\": 1859157.1424097228}, {\"Date\": \"2024-01-31T00:00:00-05:00\", \"Stock\": \"MSFT\", \"Value\": 1965651.9591431203}, {\"Date\": \"2024-02-29T00:00:00-05:00\", \"Stock\": \"MSFT\", \"Value\": 2048834.9323524616}, {\"Date\": \"2024-03-31T00:00:00-04:00\", \"Stock\": \"MSFT\", \"Value\": 2083903.681305903}, {\"Date\": \"2024-04-30T00:00:00-04:00\", \"Stock\": \"MSFT\", \"Value\": 1928422.9517369848}, {\"Date\": \"2024-05-31T00:00:00-04:00\", \"Stock\": \"MSFT\", \"Value\": 2059924.0966088509}, {\"Date\": \"2024-06-30T00:00:00-04:00\", \"Stock\": \"MSFT\", \"Value\": 2217818.8384612594}, {\"Date\": \"2024-07-31T00:00:00-04:00\", \"Stock\": \"MSFT\", \"Value\": 2075902.058408504}, {\"Date\": \"2024-08-31T00:00:00-04:00\", \"Stock\": \"MSFT\", \"Value\": 2073628.7835437746}, {\"Date\": \"2024-09-30T00:00:00-04:00\", \"Stock\": \"MSFT\", \"Value\": 2139047.92240479}, {\"Date\": \"2024-10-31T00:00:00-04:00\", \"Stock\": \"MSFT\", \"Value\": 2019991.072541172}, {\"Date\": \"2024-11-30T00:00:00-05:00\", \"Stock\": \"MSFT\", \"Value\": 2109259.4159796946}, {\"Date\": \"2024-12-31T00:00:00-05:00\", \"Stock\": \"MSFT\", \"Value\": 2099496.5952758724}, {\"Date\": \"2025-01-31T00:00:00-05:00\", \"Stock\": \"MSFT\", \"Value\": 2067418.9734107754}, {\"Date\": \"2025-02-28T00:00:00-05:00\", \"Stock\": \"MSFT\", \"Value\": 1981376.9286780953}, {\"Date\": \"2025-03-31T00:00:00-04:00\", \"Stock\": \"MSFT\", \"Value\": 1873571.4566541791}, {\"Date\": \"2025-04-30T00:00:00-04:00\", \"Stock\": \"MSFT\", \"Value\": 1933014.129241007}, {\"Date\": \"2015-01-31T00:00:00-05:00\", \"Stock\": \"^IXIC\", \"Value\": 98062.75642381128}, {\"Date\": \"2015-02-28T00:00:00-05:00\", \"Stock\": \"^IXIC\", \"Value\": 105008.02282359799}, {\"Date\": \"2015-03-31T00:00:00-04:00\", \"Stock\": \"^IXIC\", \"Value\": 103682.60670644627}, {\"Date\": \"2015-04-30T00:00:00-04:00\", \"Stock\": \"^IXIC\", \"Value\": 104540.26839709945}, {\"Date\": \"2015-05-31T00:00:00-04:00\", \"Stock\": \"^IXIC\", \"Value\": 107261.12795538499}, {\"Date\": \"2015-06-30T00:00:00-04:00\", \"Stock\": \"^IXIC\", \"Value\": 105501.80894451088}, {\"Date\": \"2015-07-31T00:00:00-04:00\", \"Stock\": \"^IXIC\", \"Value\": 108493.46010493046}, {\"Date\": \"2015-08-31T00:00:00-04:00\", \"Stock\": \"^IXIC\", \"Value\": 101051.4428634781}, {\"Date\": \"2015-09-30T00:00:00-04:00\", \"Stock\": \"^IXIC\", \"Value\": 97743.72354671094}, {\"Date\": \"2015-10-31T00:00:00-04:00\", \"Stock\": \"^IXIC\", \"Value\": 106916.71417623067}, {\"Date\": \"2015-11-30T00:00:00-05:00\", \"Stock\": \"^IXIC\", \"Value\": 108078.59547025792}, {\"Date\": \"2015-12-31T00:00:00-05:00\", \"Stock\": \"^IXIC\", \"Value\": 105936.35230055616}, {\"Date\": \"2016-01-31T00:00:00-05:00\", \"Stock\": \"^IXIC\", \"Value\": 97612.34613021818}, {\"Date\": \"2016-02-29T00:00:00-05:00\", \"Stock\": \"^IXIC\", \"Value\": 96427.6147933161}, {\"Date\": \"2016-03-31T00:00:00-04:00\", \"Stock\": \"^IXIC\", \"Value\": 103026.14315551861}, {\"Date\": \"2016-04-30T00:00:00-04:00\", \"Stock\": \"^IXIC\", \"Value\": 101027.11562524567}, {\"Date\": \"2016-05-31T00:00:00-04:00\", \"Stock\": \"^IXIC\", \"Value\": 104680.52964581297}, {\"Date\": \"2016-06-30T00:00:00-04:00\", \"Stock\": \"^IXIC\", \"Value\": 102451.12161997301}, {\"Date\": \"2016-07-31T00:00:00-04:00\", \"Stock\": \"^IXIC\", \"Value\": 109209.58995226181}, {\"Date\": \"2016-08-31T00:00:00-04:00\", \"Stock\": \"^IXIC\", \"Value\": 110290.45276244312}, {\"Date\": \"2016-09-30T00:00:00-04:00\", \"Stock\": \"^IXIC\", \"Value\": 112380.229671855}, {\"Date\": \"2016-10-31T00:00:00-04:00\", \"Stock\": \"^IXIC\", \"Value\": 109781.01663476923}, {\"Date\": \"2016-11-30T00:00:00-05:00\", \"Stock\": \"^IXIC\", \"Value\": 112627.3344980795}, {\"Date\": \"2016-12-31T00:00:00-05:00\", \"Stock\": \"^IXIC\", \"Value\": 113884.84094892965}, {\"Date\": \"2017-01-31T00:00:00-05:00\", \"Stock\": \"^IXIC\", \"Value\": 118786.03052505413}, {\"Date\": \"2017-02-28T00:00:00-05:00\", \"Stock\": \"^IXIC\", \"Value\": 123242.5223183042}, {\"Date\": \"2017-03-31T00:00:00-04:00\", \"Stock\": \"^IXIC\", \"Value\": 125068.28413015972}, {\"Date\": \"2017-04-30T00:00:00-04:00\", \"Stock\": \"^IXIC\", \"Value\": 127942.73068548992}, {\"Date\": \"2017-05-31T00:00:00-04:00\", \"Stock\": \"^IXIC\", \"Value\": 131135.37338488572}, {\"Date\": \"2017-06-30T00:00:00-04:00\", \"Stock\": \"^IXIC\", \"Value\": 129906.21255684232}, {\"Date\": \"2017-07-31T00:00:00-04:00\", \"Stock\": \"^IXIC\", \"Value\": 134300.3005937602}, {\"Date\": \"2017-08-31T00:00:00-04:00\", \"Stock\": \"^IXIC\", \"Value\": 136004.1989536292}, {\"Date\": \"2017-09-30T00:00:00-04:00\", \"Stock\": \"^IXIC\", \"Value\": 137427.98801756976}, {\"Date\": \"2017-10-31T00:00:00-04:00\", \"Stock\": \"^IXIC\", \"Value\": 142330.02465676644}, {\"Date\": \"2017-11-30T00:00:00-05:00\", \"Stock\": \"^IXIC\", \"Value\": 145425.14147244563}, {\"Date\": \"2017-12-31T00:00:00-05:00\", \"Stock\": \"^IXIC\", \"Value\": 146047.54688984784}, {\"Date\": \"2018-01-31T00:00:00-05:00\", \"Stock\": \"^IXIC\", \"Value\": 156796.65331578194}, {\"Date\": \"2018-02-28T00:00:00-05:00\", \"Stock\": \"^IXIC\", \"Value\": 153867.18898090773}, {\"Date\": \"2018-03-31T00:00:00-04:00\", \"Stock\": \"^IXIC\", \"Value\": 149433.76416131924}, {\"Date\": \"2018-04-30T00:00:00-04:00\", \"Stock\": \"^IXIC\", \"Value\": 149493.42012768547}, {\"Date\": \"2018-05-31T00:00:00-04:00\", \"Stock\": \"^IXIC\", \"Value\": 157444.8734968117}, {\"Date\": \"2018-06-30T00:00:00-04:00\", \"Stock\": \"^IXIC\", \"Value\": 158887.27728826602}, {\"Date\": \"2018-07-31T00:00:00-04:00\", \"Stock\": \"^IXIC\", \"Value\": 162303.7512394754}, {\"Date\": \"2018-08-31T00:00:00-04:00\", \"Stock\": \"^IXIC\", \"Value\": 171564.7537882055}, {\"Date\": \"2018-09-30T00:00:00-04:00\", \"Stock\": \"^IXIC\", \"Value\": 170227.9126496164}, {\"Date\": \"2018-10-31T00:00:00-04:00\", \"Stock\": \"^IXIC\", \"Value\": 154563.0099745809}, {\"Date\": \"2018-11-30T00:00:00-05:00\", \"Stock\": \"^IXIC\", \"Value\": 155084.2946552283}, {\"Date\": \"2018-12-31T00:00:00-05:00\", \"Stock\": \"^IXIC\", \"Value\": 140375.4266176348}, {\"Date\": \"2019-01-31T00:00:00-05:00\", \"Stock\": \"^IXIC\", \"Value\": 154051.89005080002}, {\"Date\": \"2019-02-28T00:00:00-05:00\", \"Stock\": \"^IXIC\", \"Value\": 159357.57290398117}, {\"Date\": \"2019-03-31T00:00:00-04:00\", \"Stock\": \"^IXIC\", \"Value\": 163520.84658375848}, {\"Date\": \"2019-04-30T00:00:00-04:00\", \"Stock\": \"^IXIC\", \"Value\": 171265.39963247796}, {\"Date\": \"2019-05-31T00:00:00-04:00\", \"Stock\": \"^IXIC\", \"Value\": 157678.21871313147}, {\"Date\": \"2019-06-30T00:00:00-04:00\", \"Stock\": \"^IXIC\", \"Value\": 169379.35172197077}, {\"Date\": \"2019-07-31T00:00:00-04:00\", \"Stock\": \"^IXIC\", \"Value\": 172958.50310319493}, {\"Date\": \"2019-08-31T00:00:00-04:00\", \"Stock\": \"^IXIC\", \"Value\": 168462.0237349139}, {\"Date\": \"2019-09-30T00:00:00-04:00\", \"Stock\": \"^IXIC\", \"Value\": 169233.3676325011}, {\"Date\": \"2019-10-31T00:00:00-04:00\", \"Stock\": \"^IXIC\", \"Value\": 175432.48509608023}, {\"Date\": \"2019-11-30T00:00:00-05:00\", \"Stock\": \"^IXIC\", \"Value\": 183325.9559649097}, {\"Date\": \"2019-12-31T00:00:00-05:00\", \"Stock\": \"^IXIC\", \"Value\": 189823.57019110673}, {\"Date\": \"2020-01-31T00:00:00-05:00\", \"Stock\": \"^IXIC\", \"Value\": 193596.5337352682}, {\"Date\": \"2020-02-29T00:00:00-05:00\", \"Stock\": \"^IXIC\", \"Value\": 181250.56879768797}, {\"Date\": \"2020-03-31T00:00:00-04:00\", \"Stock\": \"^IXIC\", \"Value\": 162902.67648171732}, {\"Date\": \"2020-04-30T00:00:00-04:00\", \"Stock\": \"^IXIC\", \"Value\": 188066.57543866246}, {\"Date\": \"2020-05-31T00:00:00-04:00\", \"Stock\": \"^IXIC\", \"Value\": 200766.9019814768}, {\"Date\": \"2020-06-30T00:00:00-04:00\", \"Stock\": \"^IXIC\", \"Value\": 212802.4906133532}, {\"Date\": \"2020-07-31T00:00:00-04:00\", \"Stock\": \"^IXIC\", \"Value\": 227326.02744876896}, {\"Date\": \"2020-08-31T00:00:00-04:00\", \"Stock\": \"^IXIC\", \"Value\": 249120.6503956869}, {\"Date\": \"2020-09-30T00:00:00-04:00\", \"Stock\": \"^IXIC\", \"Value\": 236258.90668742868}, {\"Date\": \"2020-10-31T00:00:00-04:00\", \"Stock\": \"^IXIC\", \"Value\": 230844.68613059213}, {\"Date\": \"2020-11-30T00:00:00-05:00\", \"Stock\": \"^IXIC\", \"Value\": 258075.53261414924}, {\"Date\": \"2020-12-31T00:00:00-05:00\", \"Stock\": \"^IXIC\", \"Value\": 272663.3842628284}, {\"Date\": \"2021-01-31T00:00:00-05:00\", \"Stock\": \"^IXIC\", \"Value\": 276522.43833923165}, {\"Date\": \"2021-02-28T00:00:00-05:00\", \"Stock\": \"^IXIC\", \"Value\": 279096.24981418846}, {\"Date\": \"2021-03-31T00:00:00-04:00\", \"Stock\": \"^IXIC\", \"Value\": 280249.6811375685}, {\"Date\": \"2021-04-30T00:00:00-04:00\", \"Stock\": \"^IXIC\", \"Value\": 295393.28880191915}, {\"Date\": \"2021-05-31T00:00:00-04:00\", \"Stock\": \"^IXIC\", \"Value\": 290867.20354626054}, {\"Date\": \"2021-06-30T00:00:00-04:00\", \"Stock\": \"^IXIC\", \"Value\": 306844.3625938187}, {\"Date\": \"2021-07-31T00:00:00-04:00\", \"Stock\": \"^IXIC\", \"Value\": 310413.98968049913}, {\"Date\": \"2021-08-31T00:00:00-04:00\", \"Stock\": \"^IXIC\", \"Value\": 322823.21576752124}, {\"Date\": \"2021-09-30T00:00:00-04:00\", \"Stock\": \"^IXIC\", \"Value\": 305672.95700524776}, {\"Date\": \"2021-10-31T00:00:00-04:00\", \"Stock\": \"^IXIC\", \"Value\": 327882.64085755014}, {\"Date\": \"2021-11-30T00:00:00-05:00\", \"Stock\": \"^IXIC\", \"Value\": 328714.0849131146}, {\"Date\": \"2021-12-31T00:00:00-05:00\", \"Stock\": \"^IXIC\", \"Value\": 330983.67678469734}, {\"Date\": \"2022-01-31T00:00:00-05:00\", \"Stock\": \"^IXIC\", \"Value\": 301257.7130515995}, {\"Date\": \"2022-02-28T00:00:00-05:00\", \"Stock\": \"^IXIC\", \"Value\": 290923.4815903754}, {\"Date\": \"2022-03-31T00:00:00-04:00\", \"Stock\": \"^IXIC\", \"Value\": 300848.12706607213}, {\"Date\": \"2022-04-30T00:00:00-04:00\", \"Stock\": \"^IXIC\", \"Value\": 260950.6093017649}, {\"Date\": \"2022-05-31T00:00:00-04:00\", \"Stock\": \"^IXIC\", \"Value\": 255592.87338979248}, {\"Date\": \"2022-06-30T00:00:00-04:00\", \"Stock\": \"^IXIC\", \"Value\": 233323.1100395878}, {\"Date\": \"2022-07-31T00:00:00-04:00\", \"Stock\": \"^IXIC\", \"Value\": 262136.41496256346}, {\"Date\": \"2022-08-31T00:00:00-04:00\", \"Stock\": \"^IXIC\", \"Value\": 249982.5474017012}, {\"Date\": \"2022-09-30T00:00:00-04:00\", \"Stock\": \"^IXIC\", \"Value\": 223736.9385715025}, {\"Date\": \"2022-10-31T00:00:00-04:00\", \"Stock\": \"^IXIC\", \"Value\": 232464.3946851131}, {\"Date\": \"2022-11-30T00:00:00-05:00\", \"Stock\": \"^IXIC\", \"Value\": 242616.0530641629}, {\"Date\": \"2022-12-31T00:00:00-05:00\", \"Stock\": \"^IXIC\", \"Value\": 221427.98925717422}, {\"Date\": \"2023-01-31T00:00:00-05:00\", \"Stock\": \"^IXIC\", \"Value\": 245081.77102707536}, {\"Date\": \"2023-02-28T00:00:00-05:00\", \"Stock\": \"^IXIC\", \"Value\": 242352.45116810515}, {\"Date\": \"2023-03-31T00:00:00-04:00\", \"Stock\": \"^IXIC\", \"Value\": 258565.7135519865}, {\"Date\": \"2023-04-30T00:00:00-04:00\", \"Stock\": \"^IXIC\", \"Value\": 258664.51003031145}, {\"Date\": \"2023-05-31T00:00:00-04:00\", \"Stock\": \"^IXIC\", \"Value\": 273657.91894990625}, {\"Date\": \"2023-06-30T00:00:00-04:00\", \"Stock\": \"^IXIC\", \"Value\": 291696.0857525334}, {\"Date\": \"2023-07-31T00:00:00-04:00\", \"Stock\": \"^IXIC\", \"Value\": 303503.19461573655}, {\"Date\": \"2023-08-31T00:00:00-04:00\", \"Stock\": \"^IXIC\", \"Value\": 296922.65084876237}, {\"Date\": \"2023-09-30T00:00:00-04:00\", \"Stock\": \"^IXIC\", \"Value\": 279666.8397636612}, {\"Date\": \"2023-10-31T00:00:00-04:00\", \"Stock\": \"^IXIC\", \"Value\": 271879.76828073163}, {\"Date\": \"2023-11-30T00:00:00-05:00\", \"Stock\": \"^IXIC\", \"Value\": 300968.7199234503}, {\"Date\": \"2023-12-31T00:00:00-05:00\", \"Stock\": \"^IXIC\", \"Value\": 317578.8623467759}, {\"Date\": \"2024-01-31T00:00:00-05:00\", \"Stock\": \"^IXIC\", \"Value\": 320808.5279004498}, {\"Date\": \"2024-02-29T00:00:00-05:00\", \"Stock\": \"^IXIC\", \"Value\": 340439.3178993621}, {\"Date\": \"2024-03-31T00:00:00-04:00\", \"Stock\": \"^IXIC\", \"Value\": 346522.49102242274}, {\"Date\": \"2024-04-30T00:00:00-04:00\", \"Stock\": \"^IXIC\", \"Value\": 331255.5427107279}, {\"Date\": \"2024-05-31T00:00:00-04:00\", \"Stock\": \"^IXIC\", \"Value\": 354044.6796846488}, {\"Date\": \"2024-06-30T00:00:00-04:00\", \"Stock\": \"^IXIC\", \"Value\": 375149.4007493616}, {\"Date\": \"2024-07-31T00:00:00-04:00\", \"Stock\": \"^IXIC\", \"Value\": 372331.44916893303}, {\"Date\": \"2024-08-31T00:00:00-04:00\", \"Stock\": \"^IXIC\", \"Value\": 374747.8515329827}, {\"Date\": \"2024-09-30T00:00:00-04:00\", \"Stock\": \"^IXIC\", \"Value\": 384808.56426218175}, {\"Date\": \"2024-10-31T00:00:00-04:00\", \"Stock\": \"^IXIC\", \"Value\": 382819.49488802603}, {\"Date\": \"2024-11-30T00:00:00-05:00\", \"Stock\": \"^IXIC\", \"Value\": 406578.00257775764}, {\"Date\": \"2024-12-31T00:00:00-05:00\", \"Stock\": \"^IXIC\", \"Value\": 408537.44540446077}, {\"Date\": \"2025-01-31T00:00:00-05:00\", \"Stock\": \"^IXIC\", \"Value\": 415236.4747011701}, {\"Date\": \"2025-02-28T00:00:00-05:00\", \"Stock\": \"^IXIC\", \"Value\": 398731.47139917366}, {\"Date\": \"2025-03-31T00:00:00-04:00\", \"Stock\": \"^IXIC\", \"Value\": 365982.3189012725}, {\"Date\": \"2025-04-30T00:00:00-04:00\", \"Stock\": \"^IXIC\", \"Value\": 363163.3756372471}, {\"Date\": \"2015-01-31T00:00:00-05:00\", \"Stock\": \"NVDA\", \"Value\": 95380.03922982415}, {\"Date\": \"2015-02-28T00:00:00-05:00\", \"Stock\": \"NVDA\", \"Value\": 110009.67543970692}, {\"Date\": \"2015-03-31T00:00:00-04:00\", \"Stock\": \"NVDA\", \"Value\": 104374.52760979626}, {\"Date\": \"2015-04-30T00:00:00-04:00\", \"Stock\": \"NVDA\", \"Value\": 110707.81973429432}, {\"Date\": \"2015-05-31T00:00:00-04:00\", \"Stock\": \"NVDA\", \"Value\": 110869.53356780422}, {\"Date\": \"2015-06-30T00:00:00-04:00\", \"Stock\": \"NVDA\", \"Value\": 100749.51345197036}, {\"Date\": \"2015-07-31T00:00:00-04:00\", \"Stock\": \"NVDA\", \"Value\": 99947.91524008835}, {\"Date\": \"2015-08-31T00:00:00-04:00\", \"Stock\": \"NVDA\", \"Value\": 113096.84643835985}, {\"Date\": \"2015-09-30T00:00:00-04:00\", \"Stock\": \"NVDA\", \"Value\": 124014.12796799235}, {\"Date\": \"2015-10-31T00:00:00-04:00\", \"Stock\": \"NVDA\", \"Value\": 142729.4659705088}, {\"Date\": \"2015-11-30T00:00:00-05:00\", \"Stock\": \"NVDA\", \"Value\": 160189.25466048488}, {\"Date\": \"2015-12-31T00:00:00-05:00\", \"Stock\": \"NVDA\", \"Value\": 166451.41836122578}, {\"Date\": \"2016-01-31T00:00:00-05:00\", \"Stock\": \"NVDA\", \"Value\": 147917.53495163145}, {\"Date\": \"2016-02-29T00:00:00-05:00\", \"Stock\": \"NVDA\", \"Value\": 158948.25182003636}, {\"Date\": \"2016-03-31T00:00:00-04:00\", \"Stock\": \"NVDA\", \"Value\": 180590.7249522459}, {\"Date\": \"2016-04-30T00:00:00-04:00\", \"Stock\": \"NVDA\", \"Value\": 180083.85627838815}, {\"Date\": \"2016-05-31T00:00:00-04:00\", \"Stock\": \"NVDA\", \"Value\": 237415.3522405392}, {\"Date\": \"2016-06-30T00:00:00-04:00\", \"Stock\": \"NVDA\", \"Value\": 238889.0492825591}, {\"Date\": \"2016-07-31T00:00:00-04:00\", \"Stock\": \"NVDA\", \"Value\": 290162.9821773021}, {\"Date\": \"2016-08-31T00:00:00-04:00\", \"Stock\": \"NVDA\", \"Value\": 312283.66286829783}, {\"Date\": \"2016-09-30T00:00:00-04:00\", \"Stock\": \"NVDA\", \"Value\": 348837.232256697}, {\"Date\": \"2016-10-31T00:00:00-04:00\", \"Stock\": \"NVDA\", \"Value\": 362277.6542746517}, {\"Date\": \"2016-11-30T00:00:00-05:00\", \"Stock\": \"NVDA\", \"Value\": 470095.685928466}, {\"Date\": \"2016-12-31T00:00:00-05:00\", \"Stock\": \"NVDA\", \"Value\": 544230.1831769742}, {\"Date\": \"2017-01-31T00:00:00-05:00\", \"Stock\": \"NVDA\", \"Value\": 556670.8591104469}, {\"Date\": \"2017-02-28T00:00:00-05:00\", \"Stock\": \"NVDA\", \"Value\": 518064.0533355838}, {\"Date\": \"2017-03-31T00:00:00-04:00\", \"Stock\": \"NVDA\", \"Value\": 556096.995234334}, {\"Date\": \"2017-04-30T00:00:00-04:00\", \"Stock\": \"NVDA\", \"Value\": 532460.446304024}, {\"Date\": \"2017-05-31T00:00:00-04:00\", \"Stock\": \"NVDA\", \"Value\": 737695.3502368522}, {\"Date\": \"2017-06-30T00:00:00-04:00\", \"Stock\": \"NVDA\", \"Value\": 738768.4085666013}, {\"Date\": \"2017-07-31T00:00:00-04:00\", \"Stock\": \"NVDA\", \"Value\": 830501.1512564131}, {\"Date\": \"2017-08-31T00:00:00-04:00\", \"Stock\": \"NVDA\", \"Value\": 866679.152696995}, {\"Date\": \"2017-09-30T00:00:00-04:00\", \"Stock\": \"NVDA\", \"Value\": 914401.945057025}, {\"Date\": \"2017-10-31T00:00:00-04:00\", \"Stock\": \"NVDA\", \"Value\": 1057824.9779335323}, {\"Date\": \"2017-11-30T00:00:00-05:00\", \"Stock\": \"NVDA\", \"Value\": 1027337.447801114}, {\"Date\": \"2017-12-31T00:00:00-05:00\", \"Stock\": \"NVDA\", \"Value\": 990432.9864141627}, {\"Date\": \"2018-01-31T00:00:00-05:00\", \"Stock\": \"NVDA\", \"Value\": 1258131.0090563202}, {\"Date\": \"2018-02-28T00:00:00-05:00\", \"Stock\": \"NVDA\", \"Value\": 1239450.624535938}, {\"Date\": \"2018-03-31T00:00:00-04:00\", \"Stock\": \"NVDA\", \"Value\": 1186133.7944774732}, {\"Date\": \"2018-04-30T00:00:00-04:00\", \"Stock\": \"NVDA\", \"Value\": 1151869.5609581077}, {\"Date\": \"2018-05-31T00:00:00-04:00\", \"Stock\": \"NVDA\", \"Value\": 1292439.3631729719}, {\"Date\": \"2018-06-30T00:00:00-04:00\", \"Stock\": \"NVDA\", \"Value\": 1214080.3927621492}, {\"Date\": \"2018-07-31T00:00:00-04:00\", \"Stock\": \"NVDA\", \"Value\": 1254873.8824571029}, {\"Date\": \"2018-08-31T00:00:00-04:00\", \"Stock\": \"NVDA\", \"Value\": 1439233.5255343022}, {\"Date\": \"2018-09-30T00:00:00-04:00\", \"Stock\": \"NVDA\", \"Value\": 1440976.6345904002}, {\"Date\": \"2018-10-31T00:00:00-04:00\", \"Stock\": \"NVDA\", \"Value\": 1081066.2675085114}, {\"Date\": \"2018-11-30T00:00:00-05:00\", \"Stock\": \"NVDA\", \"Value\": 838852.8743409362}, {\"Date\": \"2018-12-31T00:00:00-05:00\", \"Stock\": \"NVDA\", \"Value\": 685228.5079267786}, {\"Date\": \"2019-01-31T00:00:00-05:00\", \"Stock\": \"NVDA\", \"Value\": 737839.704540054}, {\"Date\": \"2019-02-28T00:00:00-05:00\", \"Stock\": \"NVDA\", \"Value\": 792601.5088355939}, {\"Date\": \"2019-03-31T00:00:00-04:00\", \"Stock\": \"NVDA\", \"Value\": 922594.9524358739}, {\"Date\": \"2019-04-30T00:00:00-04:00\", \"Stock\": \"NVDA\", \"Value\": 929993.5916559758}, {\"Date\": \"2019-05-31T00:00:00-04:00\", \"Stock\": \"NVDA\", \"Value\": 696799.8008157376}, {\"Date\": \"2019-06-30T00:00:00-04:00\", \"Stock\": \"NVDA\", \"Value\": 844791.092179723}, {\"Date\": \"2019-07-31T00:00:00-04:00\", \"Stock\": \"NVDA\", \"Value\": 867887.3858768193}, {\"Date\": \"2019-08-31T00:00:00-04:00\", \"Stock\": \"NVDA\", \"Value\": 862516.4187597424}, {\"Date\": \"2019-09-30T00:00:00-04:00\", \"Stock\": \"NVDA\", \"Value\": 896294.2399671908}, {\"Date\": \"2019-10-31T00:00:00-04:00\", \"Stock\": \"NVDA\", \"Value\": 1035061.0199211407}, {\"Date\": \"2019-11-30T00:00:00-05:00\", \"Stock\": \"NVDA\", \"Value\": 1116827.1467027133}, {\"Date\": \"2019-12-31T00:00:00-05:00\", \"Stock\": \"NVDA\", \"Value\": 1212464.0193814775}, {\"Date\": \"2020-01-31T00:00:00-05:00\", \"Stock\": \"NVDA\", \"Value\": 1218286.6550739058}, {\"Date\": \"2020-02-29T00:00:00-05:00\", \"Stock\": \"NVDA\", \"Value\": 1392460.8559247816}, {\"Date\": \"2020-03-31T00:00:00-04:00\", \"Stock\": \"NVDA\", \"Value\": 1359101.9336320604}, {\"Date\": \"2020-04-30T00:00:00-04:00\", \"Stock\": \"NVDA\", \"Value\": 1506973.9414572974}, {\"Date\": \"2020-05-31T00:00:00-04:00\", \"Stock\": \"NVDA\", \"Value\": 1830456.7838996341}, {\"Date\": \"2020-06-30T00:00:00-04:00\", \"Stock\": \"NVDA\", \"Value\": 1959681.3742727074}, {\"Date\": \"2020-07-31T00:00:00-04:00\", \"Stock\": \"NVDA\", \"Value\": 2190153.5559646827}, {\"Date\": \"2020-08-31T00:00:00-04:00\", \"Stock\": \"NVDA\", \"Value\": 2759576.1560250404}, {\"Date\": \"2020-09-30T00:00:00-04:00\", \"Stock\": \"NVDA\", \"Value\": 2792599.090592566}, {\"Date\": \"2020-10-31T00:00:00-04:00\", \"Stock\": \"NVDA\", \"Value\": 2586928.2119881194}, {\"Date\": \"2020-11-30T00:00:00-05:00\", \"Stock\": \"NVDA\", \"Value\": 2765974.3335581315}, {\"Date\": \"2020-12-31T00:00:00-05:00\", \"Stock\": \"NVDA\", \"Value\": 2695255.0370398336}, {\"Date\": \"2021-01-31T00:00:00-05:00\", \"Stock\": \"NVDA\", \"Value\": 2681783.942816942}, {\"Date\": \"2021-02-28T00:00:00-05:00\", \"Stock\": \"NVDA\", \"Value\": 2831411.3976729102}, {\"Date\": \"2021-03-31T00:00:00-04:00\", \"Stock\": \"NVDA\", \"Value\": 2756748.8844620236}, {\"Date\": \"2021-04-30T00:00:00-04:00\", \"Stock\": \"NVDA\", \"Value\": 3099838.7426715516}, {\"Date\": \"2021-05-31T00:00:00-04:00\", \"Stock\": \"NVDA\", \"Value\": 3354898.2376190275}, {\"Date\": \"2021-06-30T00:00:00-04:00\", \"Stock\": \"NVDA\", \"Value\": 4131965.5948174587}, {\"Date\": \"2021-07-31T00:00:00-04:00\", \"Stock\": \"NVDA\", \"Value\": 4027956.666071977}, {\"Date\": \"2021-08-31T00:00:00-04:00\", \"Stock\": \"NVDA\", \"Value\": 4624940.524793284}, {\"Date\": \"2021-09-30T00:00:00-04:00\", \"Stock\": \"NVDA\", \"Value\": 4280109.334196005}, {\"Date\": \"2021-10-31T00:00:00-04:00\", \"Stock\": \"NVDA\", \"Value\": 5282368.614758834}, {\"Date\": \"2021-11-30T00:00:00-05:00\", \"Stock\": \"NVDA\", \"Value\": 6751151.78694588}, {\"Date\": \"2021-12-31T00:00:00-05:00\", \"Stock\": \"NVDA\", \"Value\": 6077317.546648032}, {\"Date\": \"2022-01-31T00:00:00-05:00\", \"Stock\": \"NVDA\", \"Value\": 5059644.286320962}, {\"Date\": \"2022-02-28T00:00:00-05:00\", \"Stock\": \"NVDA\", \"Value\": 5038773.1710248105}, {\"Date\": \"2022-03-31T00:00:00-04:00\", \"Stock\": \"NVDA\", \"Value\": 5639180.472243382}, {\"Date\": \"2022-04-30T00:00:00-04:00\", \"Stock\": \"NVDA\", \"Value\": 3833097.2091748137}, {\"Date\": \"2022-05-31T00:00:00-04:00\", \"Stock\": \"NVDA\", \"Value\": 3858931.1513871956}, {\"Date\": \"2022-06-30T00:00:00-04:00\", \"Stock\": \"NVDA\", \"Value\": 3133563.6586437756}, {\"Date\": \"2022-07-31T00:00:00-04:00\", \"Stock\": \"NVDA\", \"Value\": 3754529.776344599}, {\"Date\": \"2022-08-31T00:00:00-04:00\", \"Stock\": \"NVDA\", \"Value\": 3120127.1107498556}, {\"Date\": \"2022-09-30T00:00:00-04:00\", \"Stock\": \"NVDA\", \"Value\": 2510035.387778842}, {\"Date\": \"2022-10-31T00:00:00-04:00\", \"Stock\": \"NVDA\", \"Value\": 2790835.253739085}, {\"Date\": \"2022-11-30T00:00:00-05:00\", \"Stock\": \"NVDA\", \"Value\": 3500140.085363979}, {\"Date\": \"2022-12-31T00:00:00-05:00\", \"Stock\": \"NVDA\", \"Value\": 3022575.581815701}, {\"Date\": \"2023-01-31T00:00:00-05:00\", \"Stock\": \"NVDA\", \"Value\": 4040786.9752443475}, {\"Date\": \"2023-02-28T00:00:00-05:00\", \"Stock\": \"NVDA\", \"Value\": 4801704.811982838}, {\"Date\": \"2023-03-31T00:00:00-04:00\", \"Stock\": \"NVDA\", \"Value\": 5746020.225888575}, {\"Date\": \"2023-04-30T00:00:00-04:00\", \"Stock\": \"NVDA\", \"Value\": 5740227.892261845}, {\"Date\": \"2023-05-31T00:00:00-04:00\", \"Stock\": \"NVDA\", \"Value\": 7826435.689911164}, {\"Date\": \"2023-06-30T00:00:00-04:00\", \"Stock\": \"NVDA\", \"Value\": 8751602.962002248}, {\"Date\": \"2023-07-31T00:00:00-04:00\", \"Stock\": \"NVDA\", \"Value\": 9667477.863822814}, {\"Date\": \"2023-08-31T00:00:00-04:00\", \"Stock\": \"NVDA\", \"Value\": 10210756.19693283}, {\"Date\": \"2023-09-30T00:00:00-04:00\", \"Stock\": \"NVDA\", \"Value\": 8999984.355448166}, {\"Date\": \"2023-10-31T00:00:00-04:00\", \"Stock\": \"NVDA\", \"Value\": 8437421.669283552}, {\"Date\": \"2023-11-30T00:00:00-05:00\", \"Stock\": \"NVDA\", \"Value\": 9676757.600007305}, {\"Date\": \"2023-12-31T00:00:00-05:00\", \"Stock\": \"NVDA\", \"Value\": 10247050.76755774}, {\"Date\": \"2024-01-31T00:00:00-05:00\", \"Stock\": \"NVDA\", \"Value\": 12731115.804476662}, {\"Date\": \"2024-02-29T00:00:00-05:00\", \"Stock\": \"NVDA\", \"Value\": 16369787.853461383}, {\"Date\": \"2024-03-31T00:00:00-04:00\", \"Stock\": \"NVDA\", \"Value\": 18697264.4489404}, {\"Date\": \"2024-04-30T00:00:00-04:00\", \"Stock\": \"NVDA\", \"Value\": 17879068.4039522}, {\"Date\": \"2024-05-31T00:00:00-04:00\", \"Stock\": \"NVDA\", \"Value\": 22686232.32554289}, {\"Date\": \"2024-06-30T00:00:00-04:00\", \"Stock\": \"NVDA\", \"Value\": 25566091.692372836}, {\"Date\": \"2024-07-31T00:00:00-04:00\", \"Stock\": \"NVDA\", \"Value\": 24216802.89024459}, {\"Date\": \"2024-08-31T00:00:00-04:00\", \"Stock\": \"NVDA\", \"Value\": 24703128.342820004}, {\"Date\": \"2024-09-30T00:00:00-04:00\", \"Stock\": \"NVDA\", \"Value\": 25133655.354471244}, {\"Date\": \"2024-10-31T00:00:00-04:00\", \"Stock\": \"NVDA\", \"Value\": 27476483.943729956}, {\"Date\": \"2024-11-30T00:00:00-05:00\", \"Stock\": \"NVDA\", \"Value\": 28612714.677674115}, {\"Date\": \"2024-12-31T00:00:00-05:00\", \"Stock\": \"NVDA\", \"Value\": 27795052.42282042}, {\"Date\": \"2025-01-31T00:00:00-05:00\", \"Stock\": \"NVDA\", \"Value\": 24851828.376798786}, {\"Date\": \"2025-02-28T00:00:00-05:00\", \"Stock\": \"NVDA\", \"Value\": 25855669.681820907}, {\"Date\": \"2025-03-31T00:00:00-04:00\", \"Stock\": \"NVDA\", \"Value\": 22434319.705053315}, {\"Date\": \"2025-04-30T00:00:00-04:00\", \"Stock\": \"NVDA\", \"Value\": 22030676.449199993}, {\"Date\": \"2015-01-31T00:00:00-05:00\", \"Stock\": \"WMT\", \"Value\": 98928.98718681354}, {\"Date\": \"2015-02-28T00:00:00-05:00\", \"Stock\": \"WMT\", \"Value\": 97706.61716015977}, {\"Date\": \"2015-03-31T00:00:00-04:00\", \"Stock\": \"WMT\", \"Value\": 96325.99558305531}, {\"Date\": \"2015-04-30T00:00:00-04:00\", \"Stock\": \"WMT\", \"Value\": 91407.20842502666}, {\"Date\": \"2015-05-31T00:00:00-04:00\", \"Stock\": \"WMT\", \"Value\": 87529.26217703092}, {\"Date\": \"2015-06-30T00:00:00-04:00\", \"Stock\": \"WMT\", \"Value\": 83592.97107250428}, {\"Date\": \"2015-07-31T00:00:00-04:00\", \"Stock\": \"WMT\", \"Value\": 84830.41889175613}, {\"Date\": \"2015-08-31T00:00:00-04:00\", \"Stock\": \"WMT\", \"Value\": 76807.02612080707}, {\"Date\": \"2015-09-30T00:00:00-04:00\", \"Stock\": \"WMT\", \"Value\": 76937.53714375044}, {\"Date\": \"2015-10-31T00:00:00-04:00\", \"Stock\": \"WMT\", \"Value\": 67919.56079238697}, {\"Date\": \"2015-11-30T00:00:00-05:00\", \"Stock\": \"WMT\", \"Value\": 69818.06130264948}, {\"Date\": \"2015-12-31T00:00:00-05:00\", \"Stock\": \"WMT\", \"Value\": 73346.3218834578}, {\"Date\": \"2016-01-31T00:00:00-05:00\", \"Stock\": \"WMT\", \"Value\": 79400.68385295694}, {\"Date\": \"2016-02-29T00:00:00-05:00\", \"Stock\": \"WMT\", \"Value\": 79376.72909155647}, {\"Date\": \"2016-03-31T00:00:00-04:00\", \"Stock\": \"WMT\", \"Value\": 82555.91592857827}, {\"Date\": \"2016-04-30T00:00:00-04:00\", \"Stock\": \"WMT\", \"Value\": 80603.22756142162}, {\"Date\": \"2016-05-31T00:00:00-04:00\", \"Stock\": \"WMT\", \"Value\": 85940.88036685379}, {\"Date\": \"2016-06-30T00:00:00-04:00\", \"Stock\": \"WMT\", \"Value\": 88660.68406835398}, {\"Date\": \"2016-07-31T00:00:00-04:00\", \"Stock\": \"WMT\", \"Value\": 88599.97310800628}, {\"Date\": \"2016-08-31T00:00:00-04:00\", \"Stock\": \"WMT\", \"Value\": 87336.0330849849}, {\"Date\": \"2016-09-30T00:00:00-04:00\", \"Stock\": \"WMT\", \"Value\": 88167.35142255056}, {\"Date\": \"2016-10-31T00:00:00-04:00\", \"Stock\": \"WMT\", \"Value\": 85600.09614540476}, {\"Date\": \"2016-11-30T00:00:00-05:00\", \"Stock\": \"WMT\", \"Value\": 86101.30220563302}, {\"Date\": \"2016-12-31T00:00:00-05:00\", \"Stock\": \"WMT\", \"Value\": 85104.6095292302}, {\"Date\": \"2017-01-31T00:00:00-05:00\", \"Stock\": \"WMT\", \"Value\": 82174.23074701325}, {\"Date\": \"2017-02-28T00:00:00-05:00\", \"Stock\": \"WMT\", \"Value\": 87333.1774424474}, {\"Date\": \"2017-03-31T00:00:00-04:00\", \"Stock\": \"WMT\", \"Value\": 89401.69882990456}, {\"Date\": \"2017-04-30T00:00:00-04:00\", \"Stock\": \"WMT\", \"Value\": 93246.68280403863}, {\"Date\": \"2017-05-31T00:00:00-04:00\", \"Stock\": \"WMT\", \"Value\": 98140.94407215931}, {\"Date\": \"2017-06-30T00:00:00-04:00\", \"Stock\": \"WMT\", \"Value\": 94494.96574697572}, {\"Date\": \"2017-07-31T00:00:00-04:00\", \"Stock\": \"WMT\", \"Value\": 99876.4893807629}, {\"Date\": \"2017-08-31T00:00:00-04:00\", \"Stock\": \"WMT\", \"Value\": 98092.33287719205}, {\"Date\": \"2017-09-30T00:00:00-04:00\", \"Stock\": \"WMT\", \"Value\": 98180.26219041165}, {\"Date\": \"2017-10-31T00:00:00-04:00\", \"Stock\": \"WMT\", \"Value\": 109702.04552122657}, {\"Date\": \"2017-11-30T00:00:00-05:00\", \"Stock\": \"WMT\", \"Value\": 122166.19088942332}, {\"Date\": \"2017-12-31T00:00:00-05:00\", \"Stock\": \"WMT\", \"Value\": 124729.93780573734}, {\"Date\": \"2018-01-31T00:00:00-05:00\", \"Stock\": \"WMT\", \"Value\": 134645.1774398365}, {\"Date\": \"2018-02-28T00:00:00-05:00\", \"Stock\": \"WMT\", \"Value\": 113690.54593031776}, {\"Date\": \"2018-03-31T00:00:00-04:00\", \"Stock\": \"WMT\", \"Value\": 113046.9167382753}, {\"Date\": \"2018-04-30T00:00:00-04:00\", \"Stock\": \"WMT\", \"Value\": 112398.92249263979}, {\"Date\": \"2018-05-31T00:00:00-04:00\", \"Stock\": \"WMT\", \"Value\": 105537.56410101599}, {\"Date\": \"2018-06-30T00:00:00-04:00\", \"Stock\": \"WMT\", \"Value\": 109514.08712940697}, {\"Date\": \"2018-07-31T00:00:00-04:00\", \"Stock\": \"WMT\", \"Value\": 114091.55973237245}, {\"Date\": \"2018-08-31T00:00:00-04:00\", \"Stock\": \"WMT\", \"Value\": 123280.72369488161}, {\"Date\": \"2018-09-30T00:00:00-04:00\", \"Stock\": \"WMT\", \"Value\": 120772.93921332432}, {\"Date\": \"2018-10-31T00:00:00-04:00\", \"Stock\": \"WMT\", \"Value\": 128965.07598130485}, {\"Date\": \"2018-11-30T00:00:00-05:00\", \"Stock\": \"WMT\", \"Value\": 125582.73873416384}, {\"Date\": \"2018-12-31T00:00:00-05:00\", \"Stock\": \"WMT\", \"Value\": 120449.23989322834}, {\"Date\": \"2019-01-31T00:00:00-05:00\", \"Stock\": \"WMT\", \"Value\": 123914.66817923254}, {\"Date\": \"2019-02-28T00:00:00-05:00\", \"Stock\": \"WMT\", \"Value\": 128000.7581322988}, {\"Date\": \"2019-03-31T00:00:00-04:00\", \"Stock\": \"WMT\", \"Value\": 126791.4751074456}, {\"Date\": \"2019-04-30T00:00:00-04:00\", \"Stock\": \"WMT\", \"Value\": 133694.57483398926}, {\"Date\": \"2019-05-31T00:00:00-04:00\", \"Stock\": \"WMT\", \"Value\": 132575.08952847304}, {\"Date\": \"2019-06-30T00:00:00-04:00\", \"Stock\": \"WMT\", \"Value\": 144402.8100828006}, {\"Date\": \"2019-07-31T00:00:00-04:00\", \"Stock\": \"WMT\", \"Value\": 144259.06519644047}, {\"Date\": \"2019-08-31T00:00:00-04:00\", \"Stock\": \"WMT\", \"Value\": 150065.05969598342}, {\"Date\": \"2019-09-30T00:00:00-04:00\", \"Stock\": \"WMT\", \"Value\": 155870.124071957}, {\"Date\": \"2019-10-31T00:00:00-04:00\", \"Stock\": \"WMT\", \"Value\": 154005.11208968092}, {\"Date\": \"2019-11-30T00:00:00-05:00\", \"Stock\": \"WMT\", \"Value\": 156408.58402883186}, {\"Date\": \"2019-12-31T00:00:00-05:00\", \"Stock\": \"WMT\", \"Value\": 156780.3723692597}, {\"Date\": \"2020-01-31T00:00:00-05:00\", \"Stock\": \"WMT\", \"Value\": 151041.57521811398}, {\"Date\": \"2020-02-29T00:00:00-05:00\", \"Stock\": \"WMT\", \"Value\": 142057.39743592674}, {\"Date\": \"2020-03-31T00:00:00-04:00\", \"Stock\": \"WMT\", \"Value\": 150557.0624282622}, {\"Date\": \"2020-04-30T00:00:00-04:00\", \"Stock\": \"WMT\", \"Value\": 161065.0926582573}, {\"Date\": \"2020-05-31T00:00:00-04:00\", \"Stock\": \"WMT\", \"Value\": 165114.14900710125}, {\"Date\": \"2020-06-30T00:00:00-04:00\", \"Stock\": \"WMT\", \"Value\": 159417.81118099912}, {\"Date\": \"2020-07-31T00:00:00-04:00\", \"Stock\": \"WMT\", \"Value\": 172221.27215448278}, {\"Date\": \"2020-08-31T00:00:00-04:00\", \"Stock\": \"WMT\", \"Value\": 185558.19978989}, {\"Date\": \"2020-09-30T00:00:00-04:00\", \"Stock\": \"WMT\", \"Value\": 186974.77798603117}, {\"Date\": \"2020-10-31T00:00:00-04:00\", \"Stock\": \"WMT\", \"Value\": 185424.62099096345}, {\"Date\": \"2020-11-30T00:00:00-05:00\", \"Stock\": \"WMT\", \"Value\": 204187.56317089245}, {\"Date\": \"2020-12-31T00:00:00-05:00\", \"Stock\": \"WMT\", \"Value\": 193345.27590239124}, {\"Date\": \"2021-01-31T00:00:00-05:00\", \"Stock\": \"WMT\", \"Value\": 188436.19792899012}, {\"Date\": \"2021-02-28T00:00:00-05:00\", \"Stock\": \"WMT\", \"Value\": 174258.8791717266}, {\"Date\": \"2021-03-31T00:00:00-04:00\", \"Stock\": \"WMT\", \"Value\": 182946.494396903}, {\"Date\": \"2021-04-30T00:00:00-04:00\", \"Stock\": \"WMT\", \"Value\": 188441.79498836366}, {\"Date\": \"2021-05-31T00:00:00-04:00\", \"Stock\": \"WMT\", \"Value\": 192048.42255938027}, {\"Date\": \"2021-06-30T00:00:00-04:00\", \"Stock\": \"WMT\", \"Value\": 190682.69111836428}, {\"Date\": \"2021-07-31T00:00:00-04:00\", \"Stock\": \"WMT\", \"Value\": 192751.53070598992}, {\"Date\": \"2021-08-31T00:00:00-04:00\", \"Stock\": \"WMT\", \"Value\": 200992.99665906146}, {\"Date\": \"2021-09-30T00:00:00-04:00\", \"Stock\": \"WMT\", \"Value\": 189158.70812689757}, {\"Date\": \"2021-10-31T00:00:00-04:00\", \"Stock\": \"WMT\", \"Value\": 202784.41465365628}, {\"Date\": \"2021-11-30T00:00:00-05:00\", \"Stock\": \"WMT\", \"Value\": 190855.13929171584}, {\"Date\": \"2021-12-31T00:00:00-05:00\", \"Stock\": \"WMT\", \"Value\": 197155.7473967147}, {\"Date\": \"2022-01-31T00:00:00-05:00\", \"Stock\": \"WMT\", \"Value\": 190506.22872750286}, {\"Date\": \"2022-02-28T00:00:00-05:00\", \"Stock\": \"WMT\", \"Value\": 184170.09642933722}, {\"Date\": \"2022-03-31T00:00:00-04:00\", \"Stock\": \"WMT\", \"Value\": 203704.437407416}, {\"Date\": \"2022-04-30T00:00:00-04:00\", \"Stock\": \"WMT\", \"Value\": 209271.68387286487}, {\"Date\": \"2022-05-31T00:00:00-04:00\", \"Stock\": \"WMT\", \"Value\": 176589.7362006378}, {\"Date\": \"2022-06-30T00:00:00-04:00\", \"Stock\": \"WMT\", \"Value\": 166911.16406106966}, {\"Date\": \"2022-07-31T00:00:00-04:00\", \"Stock\": \"WMT\", \"Value\": 181284.90207104254}, {\"Date\": \"2022-08-31T00:00:00-04:00\", \"Stock\": \"WMT\", \"Value\": 182763.86381816055}, {\"Date\": \"2022-09-30T00:00:00-04:00\", \"Stock\": \"WMT\", \"Value\": 178834.20596329964}, {\"Date\": \"2022-10-31T00:00:00-04:00\", \"Stock\": \"WMT\", \"Value\": 196248.81164475548}, {\"Date\": \"2022-11-30T00:00:00-05:00\", \"Stock\": \"WMT\", \"Value\": 210161.19204636652}, {\"Date\": \"2022-12-31T00:00:00-05:00\", \"Stock\": \"WMT\", \"Value\": 196241.2401125417}, {\"Date\": \"2023-01-31T00:00:00-05:00\", \"Stock\": \"WMT\", \"Value\": 199120.0541495097}, {\"Date\": \"2023-02-28T00:00:00-05:00\", \"Stock\": \"WMT\", \"Value\": 196711.8173668104}, {\"Date\": \"2023-03-31T00:00:00-04:00\", \"Stock\": \"WMT\", \"Value\": 204911.28089764432}, {\"Date\": \"2023-04-30T00:00:00-04:00\", \"Stock\": \"WMT\", \"Value\": 209803.029200332}, {\"Date\": \"2023-05-31T00:00:00-04:00\", \"Stock\": \"WMT\", \"Value\": 204880.61945577}, {\"Date\": \"2023-06-30T00:00:00-04:00\", \"Stock\": \"WMT\", \"Value\": 219262.82648561132}, {\"Date\": \"2023-07-31T00:00:00-04:00\", \"Stock\": \"WMT\", \"Value\": 223001.35210594663}, {\"Date\": \"2023-08-31T00:00:00-04:00\", \"Stock\": \"WMT\", \"Value\": 227643.974153661}, {\"Date\": \"2023-09-30T00:00:00-04:00\", \"Stock\": \"WMT\", \"Value\": 223892.13308012215}, {\"Date\": \"2023-10-31T00:00:00-04:00\", \"Stock\": \"WMT\", \"Value\": 228763.94083891922}, {\"Date\": \"2023-11-30T00:00:00-05:00\", \"Stock\": \"WMT\", \"Value\": 217956.3945016316}, {\"Date\": \"2023-12-31T00:00:00-05:00\", \"Stock\": \"WMT\", \"Value\": 221519.942665225}, {\"Date\": \"2024-01-31T00:00:00-05:00\", \"Stock\": \"WMT\", \"Value\": 232199.00140628158}, {\"Date\": \"2024-02-29T00:00:00-05:00\", \"Stock\": \"WMT\", \"Value\": 247065.36223091284}, {\"Date\": \"2024-03-31T00:00:00-04:00\", \"Stock\": \"WMT\", \"Value\": 254505.25748268093}, {\"Date\": \"2024-04-30T00:00:00-04:00\", \"Stock\": \"WMT\", \"Value\": 251036.8430104804}, {\"Date\": \"2024-05-31T00:00:00-04:00\", \"Stock\": \"WMT\", \"Value\": 279112.4597721557}, {\"Date\": \"2024-06-30T00:00:00-04:00\", \"Stock\": \"WMT\", \"Value\": 287389.05828741734}, {\"Date\": \"2024-07-31T00:00:00-04:00\", \"Stock\": \"WMT\", \"Value\": 291336.3395362241}, {\"Date\": \"2024-08-31T00:00:00-04:00\", \"Stock\": \"WMT\", \"Value\": 328730.2116210618}, {\"Date\": \"2024-09-30T00:00:00-04:00\", \"Stock\": \"WMT\", \"Value\": 343713.131615096}, {\"Date\": \"2024-10-31T00:00:00-04:00\", \"Stock\": \"WMT\", \"Value\": 348820.9133552364}, {\"Date\": \"2024-11-30T00:00:00-05:00\", \"Stock\": \"WMT\", \"Value\": 393727.1161045511}, {\"Date\": \"2024-12-31T00:00:00-05:00\", \"Stock\": \"WMT\", \"Value\": 385427.6724489893}, {\"Date\": \"2025-01-31T00:00:00-05:00\", \"Stock\": \"WMT\", \"Value\": 418744.6660676889}, {\"Date\": \"2025-02-28T00:00:00-05:00\", \"Stock\": \"WMT\", \"Value\": 420664.34320711176}, {\"Date\": \"2025-03-31T00:00:00-04:00\", \"Stock\": \"WMT\", \"Value\": 375535.3024321263}, {\"Date\": \"2025-04-30T00:00:00-04:00\", \"Stock\": \"WMT\", \"Value\": 409970.40248894546}, {\"Date\": \"2015-01-31T00:00:00-05:00\", \"Stock\": \"AMC\", \"Value\": 109715.18139132344}, {\"Date\": \"2015-02-28T00:00:00-05:00\", \"Stock\": \"AMC\", \"Value\": 134139.69909126728}, {\"Date\": \"2015-03-31T00:00:00-04:00\", \"Stock\": \"AMC\", \"Value\": 139265.19882969174}, {\"Date\": \"2015-04-30T00:00:00-04:00\", \"Stock\": \"AMC\", \"Value\": 117957.51496793279}, {\"Date\": \"2015-05-31T00:00:00-04:00\", \"Stock\": \"AMC\", \"Value\": 113444.85277496108}, {\"Date\": \"2015-06-30T00:00:00-04:00\", \"Stock\": \"AMC\", \"Value\": 121243.06501927909}, {\"Date\": \"2015-07-31T00:00:00-04:00\", \"Stock\": \"AMC\", \"Value\": 127447.5315020894}, {\"Date\": \"2015-08-31T00:00:00-04:00\", \"Stock\": \"AMC\", \"Value\": 114524.9013440461}, {\"Date\": \"2015-09-30T00:00:00-04:00\", \"Stock\": \"AMC\", \"Value\": 100266.10465604434}, {\"Date\": \"2015-10-31T00:00:00-04:00\", \"Stock\": \"AMC\", \"Value\": 108943.36405500192}, {\"Date\": \"2015-11-30T00:00:00-05:00\", \"Stock\": \"AMC\", \"Value\": 101141.7852368066}, {\"Date\": \"2015-12-31T00:00:00-05:00\", \"Stock\": \"AMC\", \"Value\": 96304.5352674852}, {\"Date\": \"2016-01-31T00:00:00-05:00\", \"Stock\": \"AMC\", \"Value\": 87476.61159586906}, {\"Date\": \"2016-02-29T00:00:00-05:00\", \"Stock\": \"AMC\", \"Value\": 96424.91652188516}, {\"Date\": \"2016-03-31T00:00:00-04:00\", \"Stock\": \"AMC\", \"Value\": 113208.31261181546}, {\"Date\": \"2016-04-30T00:00:00-04:00\", \"Stock\": \"AMC\", \"Value\": 113976.77952089698}, {\"Date\": \"2016-05-31T00:00:00-04:00\", \"Stock\": \"AMC\", \"Value\": 116241.76521497635}, {\"Date\": \"2016-06-30T00:00:00-04:00\", \"Stock\": \"AMC\", \"Value\": 112448.7586465243}, {\"Date\": \"2016-07-31T00:00:00-04:00\", \"Stock\": \"AMC\", \"Value\": 119820.43324657208}, {\"Date\": \"2016-08-31T00:00:00-04:00\", \"Stock\": \"AMC\", \"Value\": 123852.46656031415}, {\"Date\": \"2016-09-30T00:00:00-04:00\", \"Stock\": \"AMC\", \"Value\": 127460.21468568956}, {\"Date\": \"2016-10-31T00:00:00-04:00\", \"Stock\": \"AMC\", \"Value\": 128936.13843480959}, {\"Date\": \"2016-11-30T00:00:00-05:00\", \"Stock\": \"AMC\", \"Value\": 139185.43444142325}, {\"Date\": \"2016-12-31T00:00:00-05:00\", \"Stock\": \"AMC\", \"Value\": 138773.00088483575}, {\"Date\": \"2017-01-31T00:00:00-05:00\", \"Stock\": \"AMC\", \"Value\": 139185.41829478592}, {\"Date\": \"2017-02-28T00:00:00-05:00\", \"Stock\": \"AMC\", \"Value\": 129287.77182863899}, {\"Date\": \"2017-03-31T00:00:00-04:00\", \"Stock\": \"AMC\", \"Value\": 130584.01579786993}, {\"Date\": \"2017-04-30T00:00:00-04:00\", \"Stock\": \"AMC\", \"Value\": 125809.05955525703}, {\"Date\": \"2017-05-31T00:00:00-04:00\", \"Stock\": \"AMC\", \"Value\": 93422.57848880392}, {\"Date\": \"2017-06-30T00:00:00-04:00\", \"Stock\": \"AMC\", \"Value\": 95307.7872002377}, {\"Date\": \"2017-07-31T00:00:00-04:00\", \"Stock\": \"AMC\", \"Value\": 85462.81913828627}, {\"Date\": \"2017-08-31T00:00:00-04:00\", \"Stock\": \"AMC\", \"Value\": 56137.33683823007}, {\"Date\": \"2017-09-30T00:00:00-04:00\", \"Stock\": \"AMC\", \"Value\": 62489.133313096216}, {\"Date\": \"2017-10-31T00:00:00-04:00\", \"Stock\": \"AMC\", \"Value\": 59088.36085796772}, {\"Date\": \"2017-11-30T00:00:00-05:00\", \"Stock\": \"AMC\", \"Value\": 60576.20082541609}, {\"Date\": \"2017-12-31T00:00:00-05:00\", \"Stock\": \"AMC\", \"Value\": 65103.24967222327}, {\"Date\": \"2018-01-31T00:00:00-05:00\", \"Stock\": \"AMC\", \"Value\": 55186.86099682881}, {\"Date\": \"2018-02-28T00:00:00-05:00\", \"Stock\": \"AMC\", \"Value\": 64672.11023632219}, {\"Date\": \"2018-03-31T00:00:00-04:00\", \"Stock\": \"AMC\", \"Value\": 61365.464603341716}, {\"Date\": \"2018-04-30T00:00:00-04:00\", \"Stock\": \"AMC\", \"Value\": 76215.47848944979}, {\"Date\": \"2018-05-31T00:00:00-04:00\", \"Stock\": \"AMC\", \"Value\": 64641.20557252746}, {\"Date\": \"2018-06-30T00:00:00-04:00\", \"Stock\": \"AMC\", \"Value\": 70406.806453488}, {\"Date\": \"2018-07-31T00:00:00-04:00\", \"Stock\": \"AMC\", \"Value\": 72178.03605221178}, {\"Date\": \"2018-08-31T00:00:00-04:00\", \"Stock\": \"AMC\", \"Value\": 84355.32128578903}, {\"Date\": \"2018-09-30T00:00:00-04:00\", \"Stock\": \"AMC\", \"Value\": 98883.6295703057}, {\"Date\": \"2018-10-31T00:00:00-04:00\", \"Stock\": \"AMC\", \"Value\": 92902.37420154878}, {\"Date\": \"2018-11-30T00:00:00-05:00\", \"Stock\": \"AMC\", \"Value\": 65842.02291530767}, {\"Date\": \"2018-12-31T00:00:00-05:00\", \"Stock\": \"AMC\", \"Value\": 60054.68866053956}, {\"Date\": \"2019-01-31T00:00:00-05:00\", \"Stock\": \"AMC\", \"Value\": 71645.04362821399}, {\"Date\": \"2019-02-28T00:00:00-05:00\", \"Stock\": \"AMC\", \"Value\": 68612.96348922374}, {\"Date\": \"2019-03-31T00:00:00-04:00\", \"Stock\": \"AMC\", \"Value\": 73617.96894678714}, {\"Date\": \"2019-04-30T00:00:00-04:00\", \"Stock\": \"AMC\", \"Value\": 75154.78166517042}, {\"Date\": \"2019-05-31T00:00:00-04:00\", \"Stock\": \"AMC\", \"Value\": 59390.117289173366}, {\"Date\": \"2019-06-30T00:00:00-04:00\", \"Stock\": \"AMC\", \"Value\": 47102.36483649915}, {\"Date\": \"2019-07-31T00:00:00-04:00\", \"Stock\": \"AMC\", \"Value\": 59723.57764272013}, {\"Date\": \"2019-08-31T00:00:00-04:00\", \"Stock\": \"AMC\", \"Value\": 56088.66683674459}, {\"Date\": \"2019-09-30T00:00:00-04:00\", \"Stock\": \"AMC\", \"Value\": 54932.81384218922}, {\"Date\": \"2019-10-31T00:00:00-04:00\", \"Stock\": \"AMC\", \"Value\": 48104.7117502309}, {\"Date\": \"2019-11-30T00:00:00-05:00\", \"Stock\": \"AMC\", \"Value\": 43015.90928173299}, {\"Date\": \"2019-12-31T00:00:00-05:00\", \"Stock\": \"AMC\", \"Value\": 38072.76159167092}, {\"Date\": \"2020-01-31T00:00:00-05:00\", \"Stock\": \"AMC\", \"Value\": 34286.516427588795}, {\"Date\": \"2020-02-29T00:00:00-05:00\", \"Stock\": \"AMC\", \"Value\": 32919.263584165965}, {\"Date\": \"2020-03-31T00:00:00-04:00\", \"Stock\": \"AMC\", \"Value\": 16719.339352261497}, {\"Date\": \"2020-04-30T00:00:00-04:00\", \"Stock\": \"AMC\", \"Value\": 26031.376549269848}, {\"Date\": \"2020-05-31T00:00:00-04:00\", \"Stock\": \"AMC\", \"Value\": 27142.471065225953}, {\"Date\": \"2020-06-30T00:00:00-04:00\", \"Stock\": \"AMC\", \"Value\": 22698.090983071863}, {\"Date\": \"2020-07-31T00:00:00-04:00\", \"Stock\": \"AMC\", \"Value\": 21375.35845534809}, {\"Date\": \"2020-08-31T00:00:00-04:00\", \"Stock\": \"AMC\", \"Value\": 31110.668648397284}, {\"Date\": \"2020-09-30T00:00:00-04:00\", \"Stock\": \"AMC\", \"Value\": 24920.28001498408}, {\"Date\": \"2020-10-31T00:00:00-04:00\", \"Stock\": \"AMC\", \"Value\": 12486.595263545414}, {\"Date\": \"2020-11-30T00:00:00-05:00\", \"Stock\": \"AMC\", \"Value\": 22592.271977188033}, {\"Date\": \"2020-12-31T00:00:00-05:00\", \"Stock\": \"AMC\", \"Value\": 11216.772238763555}, {\"Date\": \"2021-01-31T00:00:00-05:00\", \"Stock\": \"AMC\", \"Value\": 70157.73649979655}, {\"Date\": \"2021-02-28T00:00:00-05:00\", \"Stock\": \"AMC\", \"Value\": 42380.34938093793}, {\"Date\": \"2021-03-31T00:00:00-04:00\", \"Stock\": \"AMC\", \"Value\": 54020.395624907156}, {\"Date\": \"2021-04-30T00:00:00-04:00\", \"Stock\": \"AMC\", \"Value\": 53068.03062694163}, {\"Date\": \"2021-05-31T00:00:00-04:00\", \"Stock\": \"AMC\", \"Value\": 138199.10095523507}, {\"Date\": \"2021-06-30T00:00:00-04:00\", \"Stock\": \"AMC\", \"Value\": 299889.9122268796}, {\"Date\": \"2021-07-31T00:00:00-04:00\", \"Stock\": \"AMC\", \"Value\": 195870.2391639917}, {\"Date\": \"2021-08-31T00:00:00-04:00\", \"Stock\": \"AMC\", \"Value\": 249361.52966783138}, {\"Date\": \"2021-09-30T00:00:00-04:00\", \"Stock\": \"AMC\", \"Value\": 201372.80324999517}, {\"Date\": \"2021-10-31T00:00:00-04:00\", \"Stock\": \"AMC\", \"Value\": 187140.20448101478}, {\"Date\": \"2021-11-30T00:00:00-05:00\", \"Stock\": \"AMC\", \"Value\": 179574.1647344524}, {\"Date\": \"2021-12-31T00:00:00-05:00\", \"Stock\": \"AMC\", \"Value\": 143913.29901634686}, {\"Date\": \"2022-01-31T00:00:00-05:00\", \"Stock\": \"AMC\", \"Value\": 84972.34081030286}, {\"Date\": \"2022-02-28T00:00:00-05:00\", \"Stock\": \"AMC\", \"Value\": 99786.94512080916}, {\"Date\": \"2022-03-31T00:00:00-04:00\", \"Stock\": \"AMC\", \"Value\": 130368.51470312793}, {\"Date\": \"2022-04-30T00:00:00-04:00\", \"Stock\": \"AMC\", \"Value\": 80951.23069669511}, {\"Date\": \"2022-05-31T00:00:00-04:00\", \"Stock\": \"AMC\", \"Value\": 75871.93456090835}, {\"Date\": \"2022-06-30T00:00:00-04:00\", \"Stock\": \"AMC\", \"Value\": 71692.10300262868}, {\"Date\": \"2022-07-31T00:00:00-04:00\", \"Stock\": \"AMC\", \"Value\": 77035.94564396019}, {\"Date\": \"2022-08-31T00:00:00-04:00\", \"Stock\": \"AMC\", \"Value\": 48253.28099669963}, {\"Date\": \"2022-09-30T00:00:00-04:00\", \"Stock\": \"AMC\", \"Value\": 36877.78125827515}, {\"Date\": \"2022-10-31T00:00:00-04:00\", \"Stock\": \"AMC\", \"Value\": 35237.593731229535}, {\"Date\": \"2022-11-30T00:00:00-05:00\", \"Stock\": \"AMC\", \"Value\": 38253.42631643534}, {\"Date\": \"2022-12-31T00:00:00-05:00\", \"Stock\": \"AMC\", \"Value\": 21534.08595500901}, {\"Date\": \"2023-01-31T00:00:00-05:00\", \"Stock\": \"AMC\", \"Value\": 28306.476093288813}, {\"Date\": \"2023-02-28T00:00:00-05:00\", \"Stock\": \"AMC\", \"Value\": 37777.241799122916}, {\"Date\": \"2023-03-31T00:00:00-04:00\", \"Stock\": \"AMC\", \"Value\": 26507.55904825261}, {\"Date\": \"2023-04-30T00:00:00-04:00\", \"Stock\": \"AMC\", \"Value\": 29100.11560992308}, {\"Date\": \"2023-05-31T00:00:00-04:00\", \"Stock\": \"AMC\", \"Value\": 23809.18549902797}, {\"Date\": \"2023-06-30T00:00:00-04:00\", \"Stock\": \"AMC\", \"Value\": 23280.092487938462}, {\"Date\": \"2023-07-31T00:00:00-04:00\", \"Stock\": \"AMC\", \"Value\": 26295.923054814604}, {\"Date\": \"2023-08-31T00:00:00-04:00\", \"Stock\": \"AMC\", \"Value\": 6640.117390089841}, {\"Date\": \"2023-09-30T00:00:00-04:00\", \"Stock\": \"AMC\", \"Value\": 4227.453037505409}, {\"Date\": \"2023-10-31T00:00:00-04:00\", \"Stock\": \"AMC\", \"Value\": 5650.713519902345}, {\"Date\": \"2023-11-30T00:00:00-05:00\", \"Stock\": \"AMC\", \"Value\": 3518.4685742034867}, {\"Date\": \"2023-12-31T00:00:00-05:00\", \"Stock\": \"AMC\", \"Value\": 3238.0491673179145}, {\"Date\": \"2024-01-31T00:00:00-05:00\", \"Stock\": \"AMC\", \"Value\": 2142.8267958290007}, {\"Date\": \"2024-02-29T00:00:00-05:00\", \"Stock\": \"AMC\", \"Value\": 2285.6818987315205}, {\"Date\": \"2024-03-31T00:00:00-04:00\", \"Stock\": \"AMC\", \"Value\": 1968.2260163904516}, {\"Date\": \"2024-04-30T00:00:00-04:00\", \"Stock\": \"AMC\", \"Value\": 1550.242557813035}, {\"Date\": \"2024-05-31T00:00:00-04:00\", \"Stock\": \"AMC\", \"Value\": 2290.9726976509874}, {\"Date\": \"2024-06-30T00:00:00-04:00\", \"Stock\": \"AMC\", \"Value\": 2634.883205317411}, {\"Date\": \"2024-07-31T00:00:00-04:00\", \"Stock\": \"AMC\", \"Value\": 2809.483858610356}, {\"Date\": \"2024-08-31T00:00:00-04:00\", \"Stock\": \"AMC\", \"Value\": 2550.2284042762753}, {\"Date\": \"2024-09-30T00:00:00-04:00\", \"Stock\": \"AMC\", \"Value\": 2407.373301373756}, {\"Date\": \"2024-10-31T00:00:00-04:00\", \"Stock\": \"AMC\", \"Value\": 2322.718248041413}, {\"Date\": \"2024-11-30T00:00:00-05:00\", \"Stock\": \"AMC\", \"Value\": 2619.010303976594}, {\"Date\": \"2024-12-31T00:00:00-05:00\", \"Stock\": \"AMC\", \"Value\": 2105.7901942279004}, {\"Date\": \"2025-01-31T00:00:00-05:00\", \"Stock\": \"AMC\", \"Value\": 1645.479208984312}, {\"Date\": \"2025-02-28T00:00:00-05:00\", \"Stock\": \"AMC\", \"Value\": 1746.0069113662641}, {\"Date\": \"2025-03-31T00:00:00-04:00\", \"Stock\": \"AMC\", \"Value\": 1518.4968812770055}, {\"Date\": \"2025-04-30T00:00:00-04:00\", \"Stock\": \"AMC\", \"Value\": 1433.8420802358703}, {\"Date\": \"2015-01-31T00:00:00-05:00\", \"Stock\": \"^GSPC\", \"Value\": 96928.87171134612}, {\"Date\": \"2015-02-28T00:00:00-05:00\", \"Stock\": \"^GSPC\", \"Value\": 102249.54085737701}, {\"Date\": \"2015-03-31T00:00:00-04:00\", \"Stock\": \"^GSPC\", \"Value\": 100470.79689224232}, {\"Date\": \"2015-04-30T00:00:00-04:00\", \"Stock\": \"^GSPC\", \"Value\": 101326.89044998765}, {\"Date\": \"2015-05-31T00:00:00-04:00\", \"Stock\": \"^GSPC\", \"Value\": 102389.94959543375}, {\"Date\": \"2015-06-30T00:00:00-04:00\", \"Stock\": \"^GSPC\", \"Value\": 100238.56556051341}, {\"Date\": \"2015-07-31T00:00:00-04:00\", \"Stock\": \"^GSPC\", \"Value\": 102217.47827234978}, {\"Date\": \"2015-08-31T00:00:00-04:00\", \"Stock\": \"^GSPC\", \"Value\": 95820.62484201498}, {\"Date\": \"2015-09-30T00:00:00-04:00\", \"Stock\": \"^GSPC\", \"Value\": 93286.85622617324}, {\"Date\": \"2015-10-31T00:00:00-04:00\", \"Stock\": \"^GSPC\", \"Value\": 101028.09040676306}, {\"Date\": \"2015-11-30T00:00:00-05:00\", \"Stock\": \"^GSPC\", \"Value\": 101079.09636888556}, {\"Date\": \"2015-12-31T00:00:00-05:00\", \"Stock\": \"^GSPC\", \"Value\": 99307.16110660163}, {\"Date\": \"2016-01-31T00:00:00-05:00\", \"Stock\": \"^GSPC\", \"Value\": 94268.78030628961}, {\"Date\": \"2016-02-29T00:00:00-05:00\", \"Stock\": \"^GSPC\", \"Value\": 93879.60481529497}, {\"Date\": \"2016-03-31T00:00:00-04:00\", \"Stock\": \"^GSPC\", \"Value\": 100074.82456024855}, {\"Date\": \"2016-04-30T00:00:00-04:00\", \"Stock\": \"^GSPC\", \"Value\": 100344.96636987128}, {\"Date\": \"2016-05-31T00:00:00-04:00\", \"Stock\": \"^GSPC\", \"Value\": 101882.713094903}, {\"Date\": \"2016-06-30T00:00:00-04:00\", \"Stock\": \"^GSPC\", \"Value\": 101975.52022226264}, {\"Date\": \"2016-07-31T00:00:00-04:00\", \"Stock\": \"^GSPC\", \"Value\": 105606.84817909311}, {\"Date\": \"2016-08-31T00:00:00-04:00\", \"Stock\": \"^GSPC\", \"Value\": 105478.08777936292}, {\"Date\": \"2016-09-30T00:00:00-04:00\", \"Stock\": \"^GSPC\", \"Value\": 105347.88023373068}, {\"Date\": \"2016-10-31T00:00:00-04:00\", \"Stock\": \"^GSPC\", \"Value\": 103301.4261385628}, {\"Date\": \"2016-11-30T00:00:00-05:00\", \"Stock\": \"^GSPC\", \"Value\": 106831.70298113243}, {\"Date\": \"2016-12-31T00:00:00-05:00\", \"Stock\": \"^GSPC\", \"Value\": 108776.12142835198}, {\"Date\": \"2017-01-31T00:00:00-05:00\", \"Stock\": \"^GSPC\", \"Value\": 110721.51254740736}, {\"Date\": \"2017-02-28T00:00:00-05:00\", \"Stock\": \"^GSPC\", \"Value\": 114840.14909398583}, {\"Date\": \"2017-03-31T00:00:00-04:00\", \"Stock\": \"^GSPC\", \"Value\": 114795.45363694454}, {\"Date\": \"2017-04-30T00:00:00-04:00\", \"Stock\": \"^GSPC\", \"Value\": 115839.08306937748}, {\"Date\": \"2017-05-31T00:00:00-04:00\", \"Stock\": \"^GSPC\", \"Value\": 117180.06539913293}, {\"Date\": \"2017-06-30T00:00:00-04:00\", \"Stock\": \"^GSPC\", \"Value\": 117744.14389280113}, {\"Date\": \"2017-07-31T00:00:00-04:00\", \"Stock\": \"^GSPC\", \"Value\": 120022.35484563165}, {\"Date\": \"2017-08-31T00:00:00-04:00\", \"Stock\": \"^GSPC\", \"Value\": 120087.93902343986}, {\"Date\": \"2017-09-30T00:00:00-04:00\", \"Stock\": \"^GSPC\", \"Value\": 122405.9939359842}, {\"Date\": \"2017-10-31T00:00:00-04:00\", \"Stock\": \"^GSPC\", \"Value\": 125121.9546623423}, {\"Date\": \"2017-11-30T00:00:00-05:00\", \"Stock\": \"^GSPC\", \"Value\": 128635.70794555456}, {\"Date\": \"2017-12-31T00:00:00-05:00\", \"Stock\": \"^GSPC\", \"Value\": 129900.40670730773}, {\"Date\": \"2018-01-31T00:00:00-05:00\", \"Stock\": \"^GSPC\", \"Value\": 137198.04322150335}, {\"Date\": \"2018-02-28T00:00:00-05:00\", \"Stock\": \"^GSPC\", \"Value\": 131854.54001103388}, {\"Date\": \"2018-03-31T00:00:00-04:00\", \"Stock\": \"^GSPC\", \"Value\": 128309.69681463022}, {\"Date\": \"2018-04-30T00:00:00-04:00\", \"Stock\": \"^GSPC\", \"Value\": 128658.54200999314}, {\"Date\": \"2018-05-31T00:00:00-04:00\", \"Stock\": \"^GSPC\", \"Value\": 131438.6397682574}, {\"Date\": \"2018-06-30T00:00:00-04:00\", \"Stock\": \"^GSPC\", \"Value\": 132075.12300443623}, {\"Date\": \"2018-07-31T00:00:00-04:00\", \"Stock\": \"^GSPC\", \"Value\": 136832.6744667831}, {\"Date\": \"2018-08-31T00:00:00-04:00\", \"Stock\": \"^GSPC\", \"Value\": 140973.67060373386}, {\"Date\": \"2018-09-30T00:00:00-04:00\", \"Stock\": \"^GSPC\", \"Value\": 141579.0520648696}, {\"Date\": \"2018-10-31T00:00:00-04:00\", \"Stock\": \"^GSPC\", \"Value\": 131752.9906990035}, {\"Date\": \"2018-11-30T00:00:00-05:00\", \"Stock\": \"^GSPC\", \"Value\": 134106.01435023092}, {\"Date\": \"2018-12-31T00:00:00-05:00\", \"Stock\": \"^GSPC\", \"Value\": 121798.18079525887}, {\"Date\": \"2019-01-31T00:00:00-05:00\", \"Stock\": \"^GSPC\", \"Value\": 131381.79777511992}, {\"Date\": \"2019-02-28T00:00:00-05:00\", \"Stock\": \"^GSPC\", \"Value\": 135287.6327029827}, {\"Date\": \"2019-03-31T00:00:00-04:00\", \"Stock\": \"^GSPC\", \"Value\": 137712.56289895115}, {\"Date\": \"2019-04-30T00:00:00-04:00\", \"Stock\": \"^GSPC\", \"Value\": 143126.5255082596}, {\"Date\": \"2019-05-31T00:00:00-04:00\", \"Stock\": \"^GSPC\", \"Value\": 133711.98736190877}, {\"Date\": \"2019-06-30T00:00:00-04:00\", \"Stock\": \"^GSPC\", \"Value\": 142928.77657929584}, {\"Date\": \"2019-07-31T00:00:00-04:00\", \"Stock\": \"^GSPC\", \"Value\": 144805.16730726598}, {\"Date\": \"2019-08-31T00:00:00-04:00\", \"Stock\": \"^GSPC\", \"Value\": 142185.40619784122}, {\"Date\": \"2019-09-30T00:00:00-04:00\", \"Stock\": \"^GSPC\", \"Value\": 144628.31896092076}, {\"Date\": \"2019-10-31T00:00:00-04:00\", \"Stock\": \"^GSPC\", \"Value\": 147583.33158371024}, {\"Date\": \"2019-11-30T00:00:00-05:00\", \"Stock\": \"^GSPC\", \"Value\": 152608.10684017235}, {\"Date\": \"2019-12-31T00:00:00-05:00\", \"Stock\": \"^GSPC\", \"Value\": 156971.1449782792}, {\"Date\": \"2020-01-31T00:00:00-05:00\", \"Stock\": \"^GSPC\", \"Value\": 156715.58138434216}, {\"Date\": \"2020-02-29T00:00:00-05:00\", \"Stock\": \"^GSPC\", \"Value\": 143534.1580404316}, {\"Date\": \"2020-03-31T00:00:00-04:00\", \"Stock\": \"^GSPC\", \"Value\": 125575.26718524312}, {\"Date\": \"2020-04-30T00:00:00-04:00\", \"Stock\": \"^GSPC\", \"Value\": 141503.74116870319}, {\"Date\": \"2020-05-31T00:00:00-04:00\", \"Stock\": \"^GSPC\", \"Value\": 147911.28805830624}, {\"Date\": \"2020-06-30T00:00:00-04:00\", \"Stock\": \"^GSPC\", \"Value\": 150631.13947200766}, {\"Date\": \"2020-07-31T00:00:00-04:00\", \"Stock\": \"^GSPC\", \"Value\": 158931.11431302028}, {\"Date\": \"2020-08-31T00:00:00-04:00\", \"Stock\": \"^GSPC\", \"Value\": 170066.56989768086}, {\"Date\": \"2020-09-30T00:00:00-04:00\", \"Stock\": \"^GSPC\", \"Value\": 163395.20356538796}, {\"Date\": \"2020-10-31T00:00:00-04:00\", \"Stock\": \"^GSPC\", \"Value\": 158874.74679394907}, {\"Date\": \"2020-11-30T00:00:00-05:00\", \"Stock\": \"^GSPC\", \"Value\": 175961.03239388656}, {\"Date\": \"2020-12-31T00:00:00-05:00\", \"Stock\": \"^GSPC\", \"Value\": 182492.96265995858}, {\"Date\": \"2021-01-31T00:00:00-05:00\", \"Stock\": \"^GSPC\", \"Value\": 180460.60044455848}, {\"Date\": \"2021-02-28T00:00:00-05:00\", \"Stock\": \"^GSPC\", \"Value\": 185169.07942660284}, {\"Date\": \"2021-03-31T00:00:00-04:00\", \"Stock\": \"^GSPC\", \"Value\": 193027.40194489292}, {\"Date\": \"2021-04-30T00:00:00-04:00\", \"Stock\": \"^GSPC\", \"Value\": 203146.9255207383}, {\"Date\": \"2021-05-31T00:00:00-04:00\", \"Stock\": \"^GSPC\", \"Value\": 204261.48882607644}, {\"Date\": \"2021-06-30T00:00:00-04:00\", \"Stock\": \"^GSPC\", \"Value\": 208798.95549279053}, {\"Date\": \"2021-07-31T00:00:00-04:00\", \"Stock\": \"^GSPC\", \"Value\": 213548.72558045082}, {\"Date\": \"2021-08-31T00:00:00-04:00\", \"Stock\": \"^GSPC\", \"Value\": 219739.59202584653}, {\"Date\": \"2021-09-30T00:00:00-04:00\", \"Stock\": \"^GSPC\", \"Value\": 209286.76228030812}, {\"Date\": \"2021-10-31T00:00:00-04:00\", \"Stock\": \"^GSPC\", \"Value\": 223757.6519322304}, {\"Date\": \"2021-11-30T00:00:00-05:00\", \"Stock\": \"^GSPC\", \"Value\": 221892.9214044385}, {\"Date\": \"2021-12-31T00:00:00-05:00\", \"Stock\": \"^GSPC\", \"Value\": 231570.31818349505}, {\"Date\": \"2022-01-31T00:00:00-05:00\", \"Stock\": \"^GSPC\", \"Value\": 219393.15478636985}, {\"Date\": \"2022-02-28T00:00:00-05:00\", \"Stock\": \"^GSPC\", \"Value\": 212512.8775227045}, {\"Date\": \"2022-03-31T00:00:00-04:00\", \"Stock\": \"^GSPC\", \"Value\": 220115.16197299128}, {\"Date\": \"2022-04-30T00:00:00-04:00\", \"Stock\": \"^GSPC\", \"Value\": 200754.5561075666}, {\"Date\": \"2022-05-31T00:00:00-04:00\", \"Stock\": \"^GSPC\", \"Value\": 200765.23177405735}, {\"Date\": \"2022-06-30T00:00:00-04:00\", \"Stock\": \"^GSPC\", \"Value\": 183917.01353686373}, {\"Date\": \"2022-07-31T00:00:00-04:00\", \"Stock\": \"^GSPC\", \"Value\": 200674.86818813893}, {\"Date\": \"2022-08-31T00:00:00-04:00\", \"Stock\": \"^GSPC\", \"Value\": 192158.20104106728}, {\"Date\": \"2022-09-30T00:00:00-04:00\", \"Stock\": \"^GSPC\", \"Value\": 174211.45672197494}, {\"Date\": \"2022-10-31T00:00:00-04:00\", \"Stock\": \"^GSPC\", \"Value\": 188124.5783853102}, {\"Date\": \"2022-11-30T00:00:00-05:00\", \"Stock\": \"^GSPC\", \"Value\": 198236.81878423848}, {\"Date\": \"2022-12-31T00:00:00-05:00\", \"Stock\": \"^GSPC\", \"Value\": 186546.50136464674}, {\"Date\": \"2023-01-31T00:00:00-05:00\", \"Stock\": \"^GSPC\", \"Value\": 198066.28094297452}, {\"Date\": \"2023-02-28T00:00:00-05:00\", \"Stock\": \"^GSPC\", \"Value\": 192894.27638375323}, {\"Date\": \"2023-03-31T00:00:00-04:00\", \"Stock\": \"^GSPC\", \"Value\": 199655.5318278983}, {\"Date\": \"2023-04-30T00:00:00-04:00\", \"Stock\": \"^GSPC\", \"Value\": 202578.95633972678}, {\"Date\": \"2023-05-31T00:00:00-04:00\", \"Stock\": \"^GSPC\", \"Value\": 203081.82767884797}, {\"Date\": \"2023-06-30T00:00:00-04:00\", \"Stock\": \"^GSPC\", \"Value\": 216226.7995526184}, {\"Date\": \"2023-07-31T00:00:00-04:00\", \"Stock\": \"^GSPC\", \"Value\": 222959.87123722793}, {\"Date\": \"2023-08-31T00:00:00-04:00\", \"Stock\": \"^GSPC\", \"Value\": 219009.8271882418}, {\"Date\": \"2023-09-30T00:00:00-04:00\", \"Stock\": \"^GSPC\", \"Value\": 208339.8069388748}, {\"Date\": \"2023-10-31T00:00:00-04:00\", \"Stock\": \"^GSPC\", \"Value\": 203760.5628306269}, {\"Date\": \"2023-11-30T00:00:00-05:00\", \"Stock\": \"^GSPC\", \"Value\": 221931.78083046482}, {\"Date\": \"2023-12-31T00:00:00-05:00\", \"Stock\": \"^GSPC\", \"Value\": 231747.65286575817}, {\"Date\": \"2024-01-31T00:00:00-05:00\", \"Stock\": \"^GSPC\", \"Value\": 235431.4457924648}, {\"Date\": \"2024-02-29T00:00:00-05:00\", \"Stock\": \"^GSPC\", \"Value\": 247608.11099182043}, {\"Date\": \"2024-03-31T00:00:00-04:00\", \"Stock\": \"^GSPC\", \"Value\": 255288.61249192953}, {\"Date\": \"2024-04-30T00:00:00-04:00\", \"Stock\": \"^GSPC\", \"Value\": 244664.75856920923}, {\"Date\": \"2024-05-31T00:00:00-04:00\", \"Stock\": \"^GSPC\", \"Value\": 256413.85146375844}, {\"Date\": \"2024-06-30T00:00:00-04:00\", \"Stock\": \"^GSPC\", \"Value\": 265303.66874023696}, {\"Date\": \"2024-07-31T00:00:00-04:00\", \"Stock\": \"^GSPC\", \"Value\": 268307.25564555934}, {\"Date\": \"2024-08-31T00:00:00-04:00\", \"Stock\": \"^GSPC\", \"Value\": 274433.97319719725}, {\"Date\": \"2024-09-30T00:00:00-04:00\", \"Stock\": \"^GSPC\", \"Value\": 279976.68434438424}, {\"Date\": \"2024-10-31T00:00:00-04:00\", \"Stock\": \"^GSPC\", \"Value\": 277205.8269685603}, {\"Date\": \"2024-11-30T00:00:00-05:00\", \"Stock\": \"^GSPC\", \"Value\": 293090.07996904536}, {\"Date\": \"2024-12-31T00:00:00-05:00\", \"Stock\": \"^GSPC\", \"Value\": 285765.71870306786}, {\"Date\": \"2025-01-31T00:00:00-05:00\", \"Stock\": \"^GSPC\", \"Value\": 293486.05230103916}, {\"Date\": \"2025-02-28T00:00:00-05:00\", \"Stock\": \"^GSPC\", \"Value\": 289306.19673806196}, {\"Date\": \"2025-03-31T00:00:00-04:00\", \"Stock\": \"^GSPC\", \"Value\": 272658.15910942166}, {\"Date\": \"2025-04-30T00:00:00-04:00\", \"Stock\": \"^GSPC\", \"Value\": 266483.828085235}]}}, {\"mode\": \"vega-lite\"});\n",
       "</script>"
      ],
      "text/plain": [
       "alt.LayerChart(...)"
      ]
     },
     "metadata": {},
     "output_type": "display_data"
    }
   ],
   "source": [
    "returns = calculate_returns(1e6, dataframes, allocations)\n",
    "\n",
    "graph_returns(returns, True, True)"
   ]
  },
  {
   "cell_type": "markdown",
   "id": "cdea0ef3",
   "metadata": {},
   "source": [
    "## 🧾 Portfolio Strength Breakdown\n",
    "**How do you know if your portfolio is actually working?**\n",
    "\n",
    "####TODO expected_return,\n",
    "\n",
    "Think of your portfolio like a car — you wouldn’t drive it for miles without checking the engine, right? These metrics are your dashboard. They tell you whether you're cruising efficiently, burning too much fuel (aka risk), or heading toward a cliff. By regularly checking them, you’re not just investing — you’re investing intelligently. It's how you turn guessing into strategy.\n",
    "\n",
    "These metrics help you assess whether your portfolio is efficient, risky, or well-balanced — and give you data to improve it over time. We can write a function to return these values for us."
   ]
  },
  {
   "cell_type": "code",
   "execution_count": 98,
   "id": "a486629e",
   "metadata": {},
   "outputs": [],
   "source": [
    "def portfolio_stats(returns):\n",
    "    # Ensure datetime is clean\n",
    "    returns.set_index('Date', inplace=True)\n",
    "\n",
    "    # Daily returns from portfolio value\n",
    "    daily_returns = returns['Total'].pct_change().dropna()\n",
    "\n",
    "    # Grab specific stats\n",
    "    cagr = stats.cagr(daily_returns)\n",
    "    sharpe = stats.sharpe(daily_returns)\n",
    "    drawdown = stats.max_drawdown(daily_returns)\n",
    "    volatility = stats.volatility(daily_returns)\n",
    "    avg_return = stats.avg_return(daily_returns)\n",
    "\n",
    "    return {\"cagr\":cagr, \"sharpe\":sharpe, \"drawdown\":drawdown, \"volatility\":volatility, \"avg_return\":avg_return}\n"
   ]
  },
  {
   "cell_type": "markdown",
   "id": "eb8c5b3f",
   "metadata": {},
   "source": [
    "Now that we've written a function for this, we can analyze the returns of our portfolio from above."
   ]
  },
  {
   "cell_type": "code",
   "execution_count": 99,
   "id": "3dade3c9",
   "metadata": {},
   "outputs": [],
   "source": [
    "portfolio_info = portfolio_stats(returns)"
   ]
  },
  {
   "cell_type": "markdown",
   "id": "749dfed2",
   "metadata": {},
   "source": [
    "#### Now let's analyze these metrics!"
   ]
  },
  {
   "cell_type": "markdown",
   "id": "aee6875c",
   "metadata": {},
   "source": [
    "**📈 CAGR (Compound Annual Growth Rate)**\n",
    "This shows the average annual growth of your portfolio over time. The higher, the better — it reflects long-term performance. A higher CAGR generally reflects strong long-term performance. For context, a CAGR of 7–10% is typically considered solid, especially when compared to market benchmarks like the S&P 500."
   ]
  },
  {
   "cell_type": "code",
   "execution_count": 100,
   "id": "7191e056",
   "metadata": {},
   "outputs": [
    {
     "name": "stdout",
     "output_type": "stream",
     "text": [
      "📈 CAGR (Annual Return): 25.51%\n"
     ]
    }
   ],
   "source": [
    "print(f\"📈 CAGR (Annual Return): {portfolio_info['cagr']:.2%}\")"
   ]
  },
  {
   "cell_type": "markdown",
   "id": "228c466c",
   "metadata": {},
   "source": [
    "**📊 Sharpe Ratio:**  \n",
    "Measures your return per unit of risk. A Sharpe ratio above 1.0 is generally considered good. It means you're getting rewarded well for the volatility you’re taking on. A value above 1.0 suggests you're earning a good return for the amount of risk taken, while a ratio above 2.0 is considered excellent. Anything below 1.0 may indicate that returns aren’t efficiently compensating for risk."
   ]
  },
  {
   "cell_type": "code",
   "execution_count": 101,
   "id": "a34f9a10",
   "metadata": {},
   "outputs": [
    {
     "name": "stdout",
     "output_type": "stream",
     "text": [
      "📊 Sharpe Ratio: 1.12\n"
     ]
    }
   ],
   "source": [
    "print(f\"📊 Sharpe Ratio: {portfolio_info['sharpe']:.2f}\")"
   ]
  },
  {
   "cell_type": "markdown",
   "id": "6924e2ca",
   "metadata": {},
   "source": [
    "**📉 Max Drawdown:**  \n",
    "The worst loss your portfolio experienced from peak to bottom. Lower drawdowns are better, as they reflect greater stability and less severe losses. A drawdown under 20% is generally seen as moderate, while anything over 30% may signal high risk or poor diversification."
   ]
  },
  {
   "cell_type": "code",
   "execution_count": 102,
   "id": "d581e4a0",
   "metadata": {},
   "outputs": [
    {
     "name": "stdout",
     "output_type": "stream",
     "text": [
      "📉 Max Drawdown: -52.06%\n"
     ]
    }
   ],
   "source": [
    "print(f\"📉 Max Drawdown: {portfolio_info['drawdown']:.2%}\")"
   ]
  },
  {
   "cell_type": "markdown",
   "id": "23049816",
   "metadata": {},
   "source": [
    "**📈 Volatility:**  \n",
    "Reflects how much your portfolio's value fluctuates. High volatility can mean high risk — or high opportunity. Higher volatility can mean bigger gains — but also bigger losses. For comparison, broad market indices tend to have volatility in the 15–20% range; values much higher than that could mean the portfolio is more aggressive or unstable."
   ]
  },
  {
   "cell_type": "code",
   "execution_count": 103,
   "id": "bd0d1f84",
   "metadata": {},
   "outputs": [
    {
     "name": "stdout",
     "output_type": "stream",
     "text": [
      "📈 Volatility: 34.92%\n"
     ]
    }
   ],
   "source": [
    "print(f\"📈 Volatility: {portfolio_info['volatility']:.2%}\")"
   ]
  },
  {
   "cell_type": "markdown",
   "id": "1b5b7384",
   "metadata": {},
   "source": [
    "**📅 Average Daily Return:**  \n",
    "The average return your portfolio gained (or lost) per trading day. Helps you see how it behaves short term. This captures how much the portfolio gains or loses on an average trading day. While daily gains may appear small in percentage terms, even modest positive averages can lead to significant annual growth through compounding."
   ]
  },
  {
   "cell_type": "code",
   "execution_count": 104,
   "id": "48e75996",
   "metadata": {},
   "outputs": [
    {
     "name": "stdout",
     "output_type": "stream",
     "text": [
      "📅 Average Daily Return: 0.16%\n"
     ]
    }
   ],
   "source": [
    "print(f\"📅 Average Daily Return: {portfolio_info['avg_return']:.2%}\")"
   ]
  },
  {
   "cell_type": "markdown",
   "id": "b9d2b93f",
   "metadata": {},
   "source": [
    "### Now we'll run a monte carlo simulation to try to estimate the predicted value of the stocks in future."
   ]
  },
  {
   "cell_type": "code",
   "execution_count": 105,
   "id": "4dab0227",
   "metadata": {},
   "outputs": [],
   "source": [
    "df = pd.DataFrame()\n",
    "ticker = yf.Ticker(\"GOOG\")\n",
    "df['GOOG'] = ticker.history(interval = '1d', start = '2015-01-01')['Close']\n",
    "\n",
    "log_return = np.log(1 + df.pct_change().dropna())\n",
    "\n",
    "# print(log_return)\n",
    "\n",
    "# sns.displot(log_return)\n",
    "# plt.xlabel(\"Daily Return\")\n",
    "# plt.ylabel(\"Frequency\")\n",
    "\n",
    "u = log_return.mean()\n",
    "var = log_return.var()\n",
    "drift = u - (.5*var)\n",
    "\n",
    "stdev = log_return.std()\n",
    "days = 50\n",
    "trials = 10000\n",
    "Z = norm.ppf(np.random.rand(days, trials))\n",
    "daily_return = np.exp(drift.values + stdev.values * Z)\n",
    "\n",
    "price_paths = np.zeros_like(daily_return)\n",
    "price_paths[0] = df.iloc[-1]\n",
    "for t in range(1, days):\n",
    "    price_paths[t] = price_paths[t-1]*daily_return[t]\n",
    "\n",
    "# print(price_paths)"
   ]
  },
  {
   "cell_type": "code",
   "execution_count": 106,
   "id": "aed0e8cb",
   "metadata": {},
   "outputs": [
    {
     "name": "stdout",
     "output_type": "stream",
     "text": [
      "[9, 161.88, 0.25]\n"
     ]
    }
   ],
   "source": [
    "def import_stock_data(tickers, start = \"2015-01-01\"):\n",
    "    data = pd.DataFrame()\n",
    "    if len(tickers) == 1:\n",
    "        stock = yf.Ticker(tickers[0])\n",
    "        data[tickers[0]] = stock.history(interval = '1d', start = start)['Close']\n",
    "    else:\n",
    "        for x in tickers:\n",
    "            stock = yf.Ticker(x)\n",
    "            data[x] = stock.history(interval = '1d', start = start)['Close']\n",
    "    return data\n",
    "\n",
    "def log_returns(data): \n",
    "    return np.log(1 + data.pct_change().dropna())\n",
    "\n",
    "def simple_returns(data):\n",
    "    return (data/(data.shift(1))-1)\n",
    "\n",
    "def market_data_combination(data, mark_ticker='^GSPC', start = '2015-01-01'):\n",
    "    market_data = import_stock_data(mark_ticker, start)\n",
    "    market_rets = log_returns(market_data)\n",
    "    ann_return = np.exp(market_rets.mean() * 252).values-1\n",
    "    data = data.merge(market_data, left_index=True, right_index=True)\n",
    "    return data, ann_return\n",
    "\n",
    "def drift_calc(data, return_type = \"log\"): \n",
    "    if return_type == \"log\":\n",
    "        lr = log_returns(data)\n",
    "    elif return_type == \"simple\":\n",
    "        lr = simple_returns(data)\n",
    "    u = lr.mean()\n",
    "    var = lr.var()\n",
    "    drift = u-(.5*var)\n",
    "    try: \n",
    "        return drift.values\n",
    "    except:\n",
    "        return drift\n",
    "\n",
    "def daily_returns(data, days, iterations):\n",
    "    ft = drift_calc(data)\n",
    "    try: \n",
    "        stv = log_returns(data).std().values\n",
    "    except:\n",
    "        stv = log_returns(data).std()\n",
    "\n",
    "    dr = np.exp(ft + stv * norm.ppf(np.random.rand(days, iterations)))\n",
    "    return dr\n",
    "\n",
    "def simulate_mc(data, days, iterations, return_type='log', plot=True):\n",
    "    returns = daily_returns(data, days, iterations)\n",
    "    price_list = np.zeros_like(returns)\n",
    "    price_list[0] = data.iloc[-1]\n",
    "    for t in range(1, days):\n",
    "        price_list[t] = price_list[t-1] * returns[t]\n",
    "    \n",
    "    # if plot:\n",
    "    #     x = pd.DataFrame(price_list).iloc[-1]\n",
    "    #     fig, ax = plt.subplots(1,2, figsize=(14,4))\n",
    "    #     sns.displot(x, ax=ax[0])\n",
    "    #     sns.displot(x, hist_kws={'cumulative':True},kde_kws={'cumulative':True}, ax=ax[1])\n",
    "    #     plt.xlabel('Stock Price')\n",
    "    #     plt.show()\n",
    "    \n",
    "\n",
    "    total_days = days - 1\n",
    "    expected_value = round(pd.DataFrame(price_list).iloc[-1].mean(), 2)\n",
    "    return_pct = round(100*(expected_value-price_list[0,1])/expected_value, 2)\n",
    "\n",
    "    return [total_days, expected_value, return_pct]\n",
    "\n",
    "def monte_carlo(ticker, days, iterations):\n",
    "    df = import_stock_data([ticker])\n",
    "    return simulate_mc(df, days, iterations)\n",
    "\n",
    "print(monte_carlo('GOOG', 10, 100))"
   ]
  },
  {
   "cell_type": "markdown",
   "id": "154e6fee",
   "metadata": {},
   "source": [
    "The output of this is in the order (total_days, expected value, return percentage)\n",
    "\n",
    "#####TODO rewrite"
   ]
  },
  {
   "cell_type": "markdown",
   "id": "de1c13c9",
   "metadata": {},
   "source": [
    "## Optimizing the stock portfolio\n",
    "\n",
    "It's great that we can create a stock portfolio that we can work with, and we can even analyze how strong it is using quantstats! It would be even better if we could take the portfolio we made and see if we can change our investment amounts to maximize our returns. There are a couple steps to get it set up, but thankfully, scipy has a function that can maximize our returns given an initial investment percentage for each stock, and a history of each stock's percentage change in price.\n",
    "\n",
    "First, we are going to create a sample version of our portfolio that pulls stock history for every ticker that we have selected, adding their opening price at every interval to the function and storing all of this in a dataframe. Then, we use the pct_change function to determine the change between each frame for each stock, allowing us to determine the most efficient investment of stocks."
   ]
  },
  {
   "cell_type": "code",
   "execution_count": 107,
   "id": "4a74b215",
   "metadata": {},
   "outputs": [],
   "source": [
    "testList = portfolio\n",
    "\n",
    "# pull the first stock's data; drop all unnecessary columns\n",
    "ticker = yf.Ticker(testList[0])\n",
    "df = ticker.history(interval = '1d', start = '2015-01-01', end = '2025-04-01')\n",
    "df.drop(columns=['High', 'Low', 'Close', 'Volume', 'Dividends', 'Stock Splits'], inplace=True)\n",
    "df.rename({'Open' : 'AAPL'}, inplace=True)\n",
    "\n",
    "# for every other ticker, add its open value to the existing dataframe\n",
    "for x in testList[1:]:\n",
    "    ticker = yf.Ticker(x)\n",
    "    data = ticker.history(interval = '1d', start = '2015-01-01', end = '2025-04-01')\n",
    "    df.insert(len(df.columns), x, data[\"Open\"]) # for whatever reason, this line wont work\n",
    "\n",
    "#calculate percent returns for each day of each stock\n",
    "returns_df = df.pct_change(1).dropna()"
   ]
  },
  {
   "cell_type": "markdown",
   "id": "b62cd359",
   "metadata": {},
   "source": [
    "Now, we need to determine the value of each portfolio's return. This is simply the return of each stock multipled by its weight in the portfolio. Because it is this way for each stock, we can compute the return as a dot product of returns and weights, then multiply by 250 trading days in a year to annualize our result!"
   ]
  },
  {
   "cell_type": "code",
   "execution_count": 108,
   "id": "bbc11ee0",
   "metadata": {},
   "outputs": [],
   "source": [
    "#operationalize determining portfolio returns\n",
    "def getPfReturn(weights):\n",
    "    \"\"\"\n",
    "    return is annualized expected return of portfolio\n",
    "    \"\"\"\n",
    "    expRetPortfolio = np.dot(np.transpose(weights), returns_df.mean()) * 250\n",
    "    return expRetPortfolio"
   ]
  },
  {
   "cell_type": "markdown",
   "id": "a62679e4",
   "metadata": {},
   "source": [
    "Now, we need to start bounding the function that will maximize our returns given an investment. We will use scipy's minimize function to do this. Despite its name, the minimize function works by minimizing the constraints that you give it, so minimizing the difference between our portfolio return and our target return will enable us to hit our target return, \"maximizing\" the output of our portfolio. If we want to truly maximize, we can continue pushing up this target return incrementally until we reach it!.\n",
    "\n",
    "First, we will start with initial weights of each stock in our portfolio. We can either use the weights we selected previously, or we can simply start with each stock having an equal weight in our portfolio. You can choose this by slightly modifying the code below. ###need to add this modification\n",
    "\n",
    "Now, we need to set our target return value, which we selefcted to arbitrarily be .4, or a 40% return. This can be modified however you wish, but do note that the minimize function will fail if maximizing to the given return percentage is impossible.\n",
    "\n",
    "Another important goal is to bound the weight of each stock in our portfolio between 0 and 1, or 0% and 100%. It doesn't make much sense to be able to buy more than a full portfolio of stocks! We do this by creating a tuple that has the same length as our number of stocks, and each element in the tuple is another tuple storing the values (0,1), bounding our stock weights in that range\n",
    "\n",
    "Finally, we want to create two constraints for the function. This is done using the syntax below. Our first constraint says tat the sum of all weights should not exceed 1, or that our portfolio weights can't exceed 100%. We've done this already for individual stocks, but it's also important that we cant just spend 100% of our money in each stock. Finally, we also need to make sure that we \"minimize\" the difference between the returns for any set of portfolio weights the function generates and the target return we have set. "
   ]
  },
  {
   "cell_type": "code",
   "execution_count": 109,
   "id": "fdf1ec84",
   "metadata": {},
   "outputs": [],
   "source": [
    "# start with stocks at equal weights\n",
    "numStocks = len(returns_df.columns)\n",
    "initialWeight = [1/numStocks] * numStocks\n",
    "\n",
    "# Feel free to pick a different number!\n",
    "targetReturn = .4\n",
    "\n",
    "# bounds the percentage of each stock we can hold (between 0 and 100%)\n",
    "bounds = tuple((0,1) for i in range(numStocks))\n",
    "\n",
    "# ensures the sum of all stock weights is 100% (or 1) in first constraint\n",
    "# sets goal of minimize function to hit targetReturn\n",
    "constraints = ({'type' : 'eq', 'fun' : lambda w : np.sum(w) - 1},\n",
    "               {'type' : 'eq', 'fun' : lambda x : x.dot(returns_df.mean()) * 250 - targetReturn})\n"
   ]
  },
  {
   "cell_type": "markdown",
   "id": "4e8ba7f6",
   "metadata": {},
   "source": [
    "Now that we have set all of our constraints, we need to use the maximize function! We set a variable called \"results\" equal to the minimize function with our function and all of the constraints. Through magic of scipy, it will iterate on our weights, modifying them in an attempt to maximize the return of our portfolio. We can print results to see whether it was successful, as well as the weights of each stock in our portfolio. We can also see our returns by using our returns function on the 'x' field of our minimize output."
   ]
  },
  {
   "cell_type": "code",
   "execution_count": 114,
   "id": "6a75a5ba",
   "metadata": {},
   "outputs": [
    {
     "name": "stdout",
     "output_type": "stream",
     "text": [
      " message: Optimization terminated successfully\n",
      " success: True\n",
      "  status: 0\n",
      "     fun: 0.4000000002833497\n",
      "       x: [ 1.290e-01  1.270e-01  6.719e-02  3.539e-01  6.781e-02\n",
      "            2.100e-01  4.504e-02]\n",
      "     nit: 2\n",
      "     jac: [ 2.536e-01  2.501e-01  1.462e-01  6.443e-01  1.472e-01\n",
      "            3.944e-01  1.077e-01]\n",
      "    nfev: 16\n",
      "    njev: 2\n",
      "              0\n",
      "Open   0.129024\n",
      "MSFT   0.127013\n",
      "^IXIC  0.067194\n",
      "NVDA   0.353889\n",
      "WMT    0.067807\n",
      "AMC    0.210037\n",
      "^GSPC  0.045036\n"
     ]
    }
   ],
   "source": [
    "# can we reach our goal with these stocks??\n",
    "results = minimize(fun=getPfReturn, x0=initialWeight, bounds=bounds, constraints=constraints)\n",
    "\n",
    "#output\n",
    "print(results)\n",
    "\n",
    "optimizedResults = pd.DataFrame(results['x'])\n",
    "\n",
    "# print our optimized results\n",
    "getPfReturn(weights=results[\"x\"])\n",
    "optimizedResults.index = returns_df.columns\n",
    "print(optimizedResults)"
   ]
  },
  {
   "cell_type": "markdown",
   "id": "3555add1",
   "metadata": {},
   "source": [
    "Now, we've successfully used scipy to maximize the results from our function! We can even extract the weights and use them to model a portfolio. Let's use some similar code to graph the returns of a portfolio based on an inital investment above, but using our new optimized weights!"
   ]
  },
  {
   "cell_type": "code",
   "execution_count": 115,
   "id": "9f881de1",
   "metadata": {},
   "outputs": [
    {
     "name": "stdout",
     "output_type": "stream",
     "text": [
      "total value 80942200.52301426\n"
     ]
    },
    {
     "data": {
      "image/png": "[encoded data removed]",
      "text/plain": [
       "<Figure size 1000x800 with 1 Axes>"
      ]
     },
     "metadata": {},
     "output_type": "display_data"
    }
   ],
   "source": [
    "initial_portfolio_val = 1e6\n",
    "\n",
    "optimizedResults.rename(index={optimizedResults.index[0]: portfolio[0]}, inplace=True)\n",
    "optimized_allocations = optimizedResults[0].to_dict()\n",
    "\n",
    "\n",
    "optimized_returns = calculate_returns(initial_portfolio_val, dataframes, optimized_allocations)\n",
    "\n",
    "graph_values(optimized_returns, False, True)"
   ]
  },
  {
   "cell_type": "markdown",
   "id": "c538bb61",
   "metadata": {},
   "source": [
    "### 📉 Rechecking Strength After Optimization\n",
    "\n",
    "After optimizing our portfolio allocations to achieve a target return of 40%, we reevaluate the portfolio using updated historical performance metrics.\n",
    "\n",
    "To review:\n",
    "\n",
    "- **CAGR (Annual Return):** Shows the expected annual growth based on optimized allocations.\n",
    "- **Sharpe Ratio:** Tells us how well we’re balancing risk and reward with the new weights.\n",
    "- **Max Drawdown:** Indicates if the worst-case dip has improved.\n",
    "- **Volatility:** Helps assess whether the portfolio became more stable or more erratic.\n",
    "- **Avg Daily Return:** Confirms whether daily trends look stronger after optimization.\n",
    "\n",
    "This second performance check shows whether our changes actually led to a more efficient investment strategy."
   ]
  },
  {
   "cell_type": "code",
   "execution_count": 116,
   "id": "4c72f527-99d2-4d8d-a6cd-f1cbc4f6f907",
   "metadata": {},
   "outputs": [
    {
     "name": "stdout",
     "output_type": "stream",
     "text": [
      "📈 CAGR (Annual Return): 34.23%\n",
      "📊 Sharpe Ratio: 1.20\n",
      "📉 Max Drawdown: -62.93%\n",
      "📈 Volatility: 43.51%\n",
      "📅 Average Daily Return: 0.21%\n"
     ]
    }
   ],
   "source": [
    "portfolio_info = portfolio_stats(optimized_returns)\n",
    "\n",
    "print(f\"📈 CAGR (Annual Return): {portfolio_info['cagr']:.2%}\")\n",
    "print(f\"📊 Sharpe Ratio: {portfolio_info['sharpe']:.2f}\")\n",
    "print(f\"📉 Max Drawdown: {portfolio_info['drawdown']:.2%}\")\n",
    "print(f\"📈 Volatility: {portfolio_info['volatility']:.2%}\")\n",
    "print(f\"📅 Average Daily Return: {portfolio_info['avg_return']:.2%}\")"
   ]
  },
  {
   "cell_type": "markdown",
   "id": "c3101a9e-b443-428f-ac65-b2f65d837ba2",
   "metadata": {},
   "source": [
    "### Summary\n",
    "\n",
    "After constructing our initial stock portfolio based on user-selected allocations, we evaluated its historical performance using metrics like annual return, Sharpe ratio, and drawdown. This gave us a baseline understanding of how well our portfolio performed under those weights.\n",
    "\n",
    "We then used optimization techniques (via scipy.minimize) to automatically adjust the stock allocations in order to achieve a target return while minimizing risk. This step simulates what a financial algorithm might do to make our portfolio more efficient.\n",
    "\n",
    "Finally, we re-evaluated the optimized portfolio using the same performance metrics. By comparing the before-and-after results, we can see whether the optimization actually improved our portfolio — either by increasing returns, reducing risk, or improving the Sharpe ratio (risk-adjusted performance).\n",
    "\n",
    "This comparison demonstrates the power of computational thinking in making data-driven investment decisions."
   ]
  },
  {
   "cell_type": "markdown",
   "id": "b02e1f38",
   "metadata": {},
   "source": [
    "## Bibliography\n",
    "\n",
    "https://ipywidgets.readthedocs.io/en/7.x/examples/Widget%20List.html#Checkbox\n",
    "https://ipywidgets.readthedocs.io/en/7.x/examples/Widget%20List.html#SelectMultiple\n",
    "https://ipywidgets.readthedocs.io/en/7.x/examples/Widget%20List.html#Tabs\n",
    "\n",
    "\n",
    "pyfolio: https://www.pyquantnews.com/the-pyquant-newsletter/create-beautiful-strategy-tear-sheets-pyfolio-reloaded\n",
    "\n",
    "\n",
    "https://medium.com/@ethan.duong1120/python-powered-portfolio-optimization-achieving-target-returns-through-weight-optimization-fc5163e5c9c6"
   ]
  }
 ],
 "metadata": {
  "kernelspec": {
   "display_name": "cs181",
   "language": "python",
   "name": "python3"
  },
  "language_info": {
   "codemirror_mode": {
    "name": "ipython",
    "version": 3
   },
   "file_extension": ".py",
   "mimetype": "text/x-python",
   "name": "python",
   "nbconvert_exporter": "python",
   "pygments_lexer": "ipython3",
   "version": "3.12.7"
  }
 },
 "nbformat": 4,
 "nbformat_minor": 5
}
