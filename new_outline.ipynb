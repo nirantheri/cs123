{
  "cells": [
    {
      "cell_type": "markdown",
      "id": "a21a0bd5",
      "metadata": {
        "id": "a21a0bd5"
      },
      "source": [
        "### Introduction: Applying Computational Thinking to Personal Finance and Portfolio Analysis\n",
        "In an era where financial independence is closely tied to the ability to make strategic investment decisions, understanding the mechanics of saving and investing has become a critical life skill. Yet, while many individuals understand the importance of saving, few have the tools or knowledge required to evaluate how different financial strategies—and especially investment decisions—impact long-term outcomes. This tutorial addresses that gap by introducing students to essential concepts in personal finance and portfolio analysis through a computational and data-driven approach.\n",
        "\n",
        "This tutorial begins by building a foundation in core savings principles. Learners will explore the functionality of common financial instruments such as high-yield savings accounts, 401(k)s, and Roth IRAs. Through interactive inputs and simulations, students will see how interest rates, compound growth, and tax advantages affect returns over time. These early exercises aim to demonstrate the value of starting early, contributing consistently, and choosing the right savings vehicles for one’s personal financial goals.\n",
        "\n",
        "Building on this foundation, the tutorial then transitions into a more advanced, investment-focused module: constructing and evaluating a personalized stock portfolio. Students will be guided through the process of:\n",
        "- Selecting their own breakdown of stocks to form a diversified portfolio based on individual risk preferences or interests.\n",
        "\n",
        "- Evaluating the strength of their chosen portfolio using historical data and key financial metrics.\n",
        "\n",
        "- Simulating potential future outcomes through Monte Carlo simulations, which model thousands of possible future scenarios to account for uncertainty and market volatility.\n",
        "\n",
        "- Optimizing the stock allocation using algorithmic methods that balance return potential with risk, aiming for the most efficient use of investment capital.\n",
        "\n",
        "- Rechecking the portfolio’s strength after optimization, to reflect the improvements made and demonstrate the impact of computational adjustments on financial performance.\n",
        "\n",
        "\n",
        "Throughout this tutorial, students will employ principles from computer science—such as data modeling, simulations, algorithmic thinking, and data visualization—to analyze financial data and make informed decisions. By the end of the tutorial, students will have developed not only a deeper understanding of financial literacy but also a practical appreciation for how computational tools can empower individuals to manage their personal wealth more effectively.\n",
        "\n",
        "This interdisciplinary exploration is designed to equip learners with a strong foundation in both personal finance and applied computation—skills that are increasingly essential in today’s data-rich, financially complex world."
      ]
    },
    {
      "cell_type": "markdown",
      "id": "1fcde335",
      "metadata": {
        "id": "1fcde335"
      },
      "source": [
        "### Disclaimer\n",
        "\n",
        "**No Guarantee of Accuracy:** While Isabel, Luna, and Nirantheri strive to provide accurate and up-to-date information, they do not guarantee the accuracy, completeness, or reliability of any content. Users should independently verify any information before making financial or investment decisions based on it.\n",
        "\n",
        "\n",
        "**Investment Risks:** Investing involves inherent risks, including but not limited to market fluctuations, economic uncertainty, geopolitical events, and individual asset performance. Past performance is not indicative of future results, and no content provided implies a guarantee of investment success.\n",
        "\n",
        "**Limitation of Liability:** Mentions of specific financial products, services, companies, or securities within the content do not constitute endorsements or recommendations. Users are responsible for conducting their own research and due diligence.\n",
        "\n",
        "**No Liability:** Isabel, Luna, Nirantheri, and their affiliates, partners, or contributors shall not be held liable for any loss, damage, or expense resulting from the use of or reliance on the provided information. All investment decisions made based on this content are the sole responsibility of the user.\n",
        "\n",
        "**Disclaimer Updates:** This disclaimer is subject to change without notice. Users are responsible for reviewing it periodically to stay informed of any updates.\n",
        "\n"
      ]
    },
    {
      "cell_type": "markdown",
      "id": "29064aa1",
      "metadata": {
        "id": "29064aa1"
      },
      "source": [
        "### using old material : Nirantheri\n",
        "\n",
        "\n",
        "The code to show the importance of investing vs savings (just draw out each of the ira, 401k, hysa along with no investment to show)\n",
        "How to use information.md?"
      ]
    },
    {
      "cell_type": "markdown",
      "id": "5b4b991e",
      "metadata": {
        "id": "5b4b991e"
      },
      "source": [
        "### setup\n",
        "\n",
        "include all packages for setting up (pyfolio, package)"
      ]
    },
    {
      "cell_type": "code",
      "execution_count": 45,
      "id": "4102a911",
      "metadata": {
        "id": "4102a911"
      },
      "outputs": [],
      "source": [
        "# all libraries\n",
        "#!pip install quantstats\n",
        "\n",
        "# import pyfolio\n",
        "import yfinance as yf\n",
        "import numpy as np\n",
        "import scipy\n",
        "import ipywidgets as widgets\n",
        "import pandas as pd\n",
        "from scipy.optimize import minimize\n",
        "from IPython.display import display\n",
        "import altair as alt\n",
        "import quantstats.stats as stats\n",
        "\n",
        "import matplotlib.pyplot as plt\n",
        "%matplotlib inline"
      ]
    },
    {
      "cell_type": "markdown",
      "id": "07c04a66",
      "metadata": {
        "id": "07c04a66"
      },
      "source": [
        "### Choosing stocks for a portfolio: Nirantheri\n",
        "\n",
        "We've given you a list of stocks to choose from. Ctrl+Click the ones you want in your portfolio."
      ]
    },
    {
      "cell_type": "code",
      "execution_count": 46,
      "id": "7af31160",
      "metadata": {
        "colab": {
          "base_uri": "https://localhost:8080/",
          "height": 360,
          "referenced_widgets": [
            "c93963c503b844128033f9d63bf18fbf",
            "4e53bbf8c1b342a28f6e4811f26fc3b0",
            "e64bb4c78a9d40e08b570e14bed54954"
          ]
        },
        "id": "7af31160",
        "outputId": "5fb811a4-5c72-48cb-ecfa-9c4de81c7442"
      },
      "outputs": [
        {
          "output_type": "display_data",
          "data": {
            "text/plain": [
              "SelectMultiple(description='Stocks', options=('Apple', 'Costco', 'Microsoft', 'Google', 'Nvidia', 'Walmart', '…"
            ],
            "application/vnd.jupyter.widget-view+json": {
              "version_major": 2,
              "version_minor": 0,
              "model_id": "c93963c503b844128033f9d63bf18fbf"
            }
          },
          "metadata": {}
        }
      ],
      "source": [
        "codes = {\"Apple\": 'AAPL',\n",
        "        \"Costco\": 'COST',\n",
        "        \"Microsoft\": 'MSFT',\n",
        "        \"Google\": 'GOOG',\n",
        "        \"Nvidia\": 'NVDA',\n",
        "        \"Walmart\": 'WMT',\n",
        "        \"Tesla\": \"TSLA\",\n",
        "        \"AMC Entertainment\": 'AMC',\n",
        "        \"S&P 500\": '^GSPC',\n",
        "        \"Dow Jones Industrial\": '^DJI',\n",
        "        \"Nasdaq\": '^IXIC',\n",
        "        \"Vanguard S&P 500 ETF\": 'VOO',\n",
        "        \"Fidelity 500 Index Fund\": 'FXAIX',\n",
        "        \"Gold\":'GLD'}\n",
        "\n",
        "codes.keys()\n",
        "\n",
        "\n",
        "choices = widgets.SelectMultiple(\n",
        "    options=codes.keys(),\n",
        "    value=[],\n",
        "    rows=20,\n",
        "    description='Stocks',\n",
        "    disabled=False\n",
        ")\n",
        "\n",
        "display(choices)\n"
      ]
    },
    {
      "cell_type": "markdown",
      "id": "52f0405d",
      "metadata": {
        "id": "52f0405d"
      },
      "source": [
        "### Picking your own breakdown of stocks : Nirantheri\n",
        "\n",
        "Without rerunning the previous code chunk, run the next one and input your allocation amounts as a decimal ex (0.3 or .5). Make sure they add up to 1!\n",
        "<!--\n",
        "[setup using the above code chunk](https://ipywidgets.readthedocs.io/en/7.x/examples/Widget%20List.html#Tabs) -->"
      ]
    },
    {
      "cell_type": "code",
      "execution_count": 47,
      "id": "35f83dbc",
      "metadata": {
        "colab": {
          "base_uri": "https://localhost:8080/",
          "height": 78,
          "referenced_widgets": [
            "3d98311b4cad4ebf92e9986d78f33340",
            "2a922c5309a04c4aa30be0f8f699ebc7"
          ]
        },
        "id": "35f83dbc",
        "outputId": "dbc320dd-3e17-4062-beda-d5b6e0e501fd"
      },
      "outputs": [
        {
          "output_type": "display_data",
          "data": {
            "text/plain": [
              "Tab()"
            ],
            "application/vnd.jupyter.widget-view+json": {
              "version_major": 2,
              "version_minor": 0,
              "model_id": "3d98311b4cad4ebf92e9986d78f33340"
            }
          },
          "metadata": {}
        }
      ],
      "source": [
        "# get breakdown\n",
        "\n",
        "# get codes for further down\n",
        "portfolio = []\n",
        "\n",
        "for i in range(len(choices.value)):\n",
        "    portfolio.append(codes[choices.value[i]])\n",
        "\n",
        "# pick distribution\n",
        "\n",
        "tab_contents = [\"Value\"] * len(choices.value)\n",
        "children = [widgets.Text(description=name) for name in tab_contents]\n",
        "tab = widgets.Tab()\n",
        "tab.children = children\n",
        "tab.titles = choices.value\n",
        "\n",
        "tab\n"
      ]
    },
    {
      "cell_type": "markdown",
      "id": "d66fb2a2",
      "metadata": {
        "id": "d66fb2a2"
      },
      "source": [
        "The following code is to match the allocation amounts to the stock codes given the inputs from above."
      ]
    },
    {
      "cell_type": "code",
      "execution_count": 48,
      "id": "985e3e8b",
      "metadata": {
        "id": "985e3e8b"
      },
      "outputs": [],
      "source": [
        "allocations = {}\n",
        "\n",
        "for i in range(len(tab.children)):\n",
        "    allocations[portfolio[i]]=tab.children[i].value\n"
      ]
    },
    {
      "cell_type": "markdown",
      "id": "8a231062",
      "metadata": {
        "id": "8a231062"
      },
      "source": [
        "### Interested in testing out your own set of stocks?\n",
        "\n",
        "Feel free to create your own allocation dictionary. Make sure each entry is of the format \"STOCK TICKER\": allocation amount. Fill it in as you desire and click run to make sure that your custom allocations are used, even if you didn't run the above lines. Otherwise our default set of stocks will be used!"
      ]
    },
    {
      "cell_type": "code",
      "execution_count": 49,
      "id": "d63d6b43",
      "metadata": {
        "id": "d63d6b43"
      },
      "outputs": [],
      "source": [
        "# Here's an example of what your dictionary can look like\n",
        "\n",
        "# {'AAPL':'0.4', 'MSFT':'0.3',  '^IXIC':'0.3'}\n",
        "\n",
        "allocations = {}"
      ]
    },
    {
      "cell_type": "markdown",
      "id": "a1f4eed5",
      "metadata": {
        "id": "a1f4eed5"
      },
      "source": [
        "### pulling the yf data: Luna\n",
        "\n",
        "Assume that the list of stocks will come in as a set of stock codes so you can write a loop to get each of them"
      ]
    },
    {
      "cell_type": "code",
      "execution_count": 50,
      "id": "ace55141",
      "metadata": {
        "id": "ace55141"
      },
      "outputs": [],
      "source": [
        "#pulled a dictionary of different stocks, keys are tickers? i cant think of a better way to store them because the list is variable so its a bit of an issue\n",
        "\n",
        "# testList = ['AAPL', 'MSFT', 'GOOG', 'NVDA', '^GSPC', '^DJI', '^IXIC']\n",
        "if len(allocations.keys())==0: # default settings\n",
        "    portfolio = ['AAPL', 'MSFT', 'GOOG', 'NVDA', 'BIRK']\n",
        "    allocations={'AAPL':'0.2', 'MSFT':'0.2', 'GOOG':'0.2', 'NVDA':'0.2', 'BIRK':'0.2'}\n",
        "\n",
        "testList=portfolio\n",
        "\n",
        "# testString = ' '.join(testList)\n",
        "\n",
        "# tickersPull = yf.Tickers(testString)\n",
        "\n",
        "stock_min = [yf.Ticker(x).history(period='max').index.min() for x in testList] # get the earliest date (IPO) of each stock\n",
        "\n",
        "# either the last 10 years or the last x years based on the stock with the most recent IPO\n",
        "later_start_date = max(max(stock_min), pd.Timestamp('2015-01-01', tz='America/New_York'))\n",
        "\n",
        "# Pull data for each stock starting from the latest start date\n",
        "\n",
        "dataframes = {}\n",
        "for x in testList:\n",
        "    ticker = yf.Ticker(x)\n",
        "    dataframes[x] = ticker.history(period='1mo', start=later_start_date, auto_adjust=True) # (auto_adjust accounts for splits and dividends)\n",
        "    # print(dataframes[x])\n"
      ]
    },
    {
      "cell_type": "markdown",
      "id": "6c8434ca",
      "metadata": {
        "id": "6c8434ca"
      },
      "source": [
        "## Checking the returns with this : Nirantheri\n",
        "\n",
        "Using the yf data, we will check what returns looked like over time.\n",
        "\n",
        "#### TODO: should we try to project or work with previous data??\n",
        "\n",
        "https://blog.mlq.ai/python-for-finance-portfolio-optimization/\n"
      ]
    },
    {
      "cell_type": "markdown",
      "id": "441b5a5a",
      "metadata": {
        "id": "441b5a5a"
      },
      "source": [
        "## How do we calculate returns?\n",
        "\n",
        "To calculate the returns, we want to find the adjusted value of each stock amount from the date of the initial investment. We can write a function to do this with a set of inputs-- an initial portfolio value, the set of dataframes for each stock, and the breakdown of allocations  <!-- and perhaps even an initial date of investment.  -->"
      ]
    },
    {
      "cell_type": "code",
      "execution_count": 51,
      "id": "b105647a",
      "metadata": {
        "id": "b105647a"
      },
      "outputs": [],
      "source": [
        "def calculate_returns(initial_portfolio_val, dataframe, allocations):\n",
        "    all_pos_vals = []\n",
        "\n",
        "    for stock_name in dataframe:\n",
        "        # grab the dataframe for a single stock\n",
        "        stock_df = dataframe[stock_name]\n",
        "        # create normed return column\n",
        "        stock_df['Normed Return'] = stock_df['Close'] /stock_df.iloc[0]['Close']\n",
        "\n",
        "        # use normed return to adjust the percentage of portfolio held\n",
        "        allocation = float(allocations[stock_name])  # Convert allocation to float\n",
        "        stock_df['Allocation'] = stock_df['Normed Return']*allocation\n",
        "\n",
        "        # find value of stock at each date\n",
        "        stock_df['Position Value'] = stock_df['Allocation']*initial_portfolio_val\n",
        "\n",
        "        # add to list of all position values\n",
        "        all_pos_vals.append(stock_df['Position Value'])\n",
        "\n",
        "\n",
        "    # concatenate the list of position values\n",
        "    portfolio_val = pd.concat(all_pos_vals, axis=1)\n",
        "\n",
        "    # set the column names\n",
        "    portfolio_val.columns = portfolio\n",
        "\n",
        "    # add a total portfolio column\n",
        "    portfolio_val['Total'] = portfolio_val.sum(axis=1)\n",
        "\n",
        "    # changing date to column not index\n",
        "    portfolio_val = portfolio_val.reset_index()\n",
        "\n",
        "    return portfolio_val"
      ]
    },
    {
      "cell_type": "markdown",
      "id": "11ba91b5",
      "metadata": {
        "id": "11ba91b5"
      },
      "source": [
        "Then we can create a graphical representation of each of the stocks' growths over time as well as the portfolio's overall growth. To get an overall number rather than using every single data point, we can use a resampling function to grab the last day of each month in the data."
      ]
    },
    {
      "cell_type": "code",
      "execution_count": 52,
      "id": "c4a4a2ec",
      "metadata": {
        "id": "c4a4a2ec"
      },
      "outputs": [],
      "source": [
        "def graph_values(portfolio_values, graph_portfolio, graph_stocks):\n",
        "    \"\"\"graph_portfolio is a bool to show only the total portfolio, graph_stocks is to graph all stocks.\"\"\"\n",
        "\n",
        "    # Resample the portfolio_val DataFrame to only include the last date of each month\n",
        "    portfolio_val = portfolio_values.resample('ME', on='Date').last().reset_index()\n",
        "\n",
        "    if graph_portfolio:\n",
        "        portfolio_val['Total'].plot(figsize=(10,8))\n",
        "    if graph_stocks:\n",
        "        portfolio_val.drop('Total', axis=1).set_index('Date').plot(figsize=(10,8))\n",
        "\n",
        "\n",
        "    print(\"total value\", portfolio_val['Total'].iat[-1])\n"
      ]
    },
    {
      "cell_type": "markdown",
      "id": "ff8c807f",
      "metadata": {
        "id": "ff8c807f"
      },
      "source": [
        "Now that we've created a projection of how our data has been growing over time, let's see what to expect!"
      ]
    },
    {
      "cell_type": "code",
      "execution_count": 53,
      "id": "8813431d",
      "metadata": {
        "colab": {
          "base_uri": "https://localhost:8080/"
        },
        "id": "8813431d",
        "outputId": "06f76c80-ce74-4563-b6ba-9ade857273c8"
      },
      "outputs": [
        {
          "output_type": "stream",
          "name": "stdout",
          "text": [
            "total value 1332458.3605513813\n"
          ]
        }
      ],
      "source": [
        "returns = calculate_returns(1e6, dataframes, allocations)\n",
        "\n",
        "graph_values(returns, False, False)"
      ]
    },
    {
      "cell_type": "code",
      "execution_count": 54,
      "id": "1ed5b08b",
      "metadata": {
        "id": "1ed5b08b"
      },
      "outputs": [],
      "source": [
        "# TODO: Implement the altair version which has more interactivity\n",
        "\n",
        "# # need to pivot the data\n",
        "# # print(portfolio_val.head())\n",
        "# print(portfolio_val.info())\n",
        "# portfolio_val.drop(\"^IXIC\", axis=1)\n",
        "# pivoted_data = portfolio_val.melt(id_vars=\"Date\", var_name=\"Stock\", value_name=\"Value\")\n",
        "\n",
        "# pivoted_data.head()\n",
        "\n",
        "\n",
        "# alt.Chart(pivoted_data).mark_line().encode(\n",
        "#     alt.X(\"Date:T\", title=\"Date\"),\n",
        "#     alt.Y(\"Value:Q\", title=\"Portfolio Value\"),\n",
        "#     alt.Color(\"Stock:N\", title=\"Stock\")\n",
        "# )\n",
        "\n",
        "\n",
        "# plot our portfolio"
      ]
    },
    {
      "cell_type": "markdown",
      "id": "cdea0ef3",
      "metadata": {
        "id": "cdea0ef3"
      },
      "source": [
        "### check strength of portfolio : Isabel\n",
        "pyfolio: https://www.pyquantnews.com/the-pyquant-newsletter/create-beautiful-strategy-tear-sheets-pyfolio-reloaded\n",
        "can also use quantstats\n",
        "\n",
        "\n",
        "\n",
        "pyfolio: get the tear sheets--> then use pandas to pull specific metrics (annual return, etc) and then have a md cell which breaks down what each of them means"
      ]
    },
    {
      "cell_type": "markdown",
      "id": "EevvZGLEkFFj",
      "metadata": {
        "id": "EevvZGLEkFFj"
      },
      "source": [
        "## 🧾 Portfolio Strength Breakdown\n",
        "**How do you know if your portfolio is actually working?**\n",
        "\n",
        "Think of your portfolio like a car — you wouldn’t drive it for miles without checking the engine, right? These metrics are your dashboard. They tell you whether you're cruising efficiently, burning too much fuel (aka risk), or heading toward a cliff. By regularly checking them, you’re not just investing — you’re investing intelligently. It's how you turn guessing into strategy.\n",
        "\n",
        "These metrics help you assess whether your portfolio is efficient, risky, or well-balanced — and give you data to improve it over time. We can write a function to return these values for us.\n",
        "\n",
        "---\n",
        "\n",
        "**📈 CAGR (Compound Annual Growth Rate):**  \n",
        "Shows the average annual growth of your portfolio over time. The higher, the better — it reflects long-term performance.\n",
        "\n",
        "**📊 Sharpe Ratio:**  \n",
        "Measures your return per unit of risk. A Sharpe ratio above 1.0 is generally considered good. It means you're getting rewarded well for the volatility you’re taking on.\n",
        "\n",
        "**📉 Max Drawdown:**  \n",
        "The worst loss your portfolio experienced from peak to bottom. A lower number means your portfolio didn’t crash too hard.\n",
        "\n",
        "**📈 Volatility:**  \n",
        "Reflects how much your portfolio's value fluctuates. High volatility can mean high risk — or high opportunity.\n",
        "\n",
        "**📅 Average Daily Return:**  \n",
        "The average return your portfolio gained (or lost) per trading day. Helps you see how it behaves short term.\n",
        "\n",
        "---"
      ]
    },
    {
      "cell_type": "code",
      "execution_count": 62,
      "id": "mm7sQ8pkhp70",
      "metadata": {
        "id": "mm7sQ8pkhp70"
      },
      "outputs": [],
      "source": [
        "def portfolio_stats(returns):\n",
        "    # Ensure datetime is clean\n",
        "    returns.set_index('Date', inplace=True)\n",
        "\n",
        "    # Daily returns from portfolio value\n",
        "    daily_returns = returns['Total'].pct_change().dropna()\n",
        "\n",
        "    # Grab specific stats\n",
        "    cagr = stats.cagr(daily_returns)\n",
        "    sharpe = stats.sharpe(daily_returns)\n",
        "    drawdown = stats.max_drawdown(daily_returns)\n",
        "    volatility = stats.volatility(daily_returns)\n",
        "    avg_return = stats.avg_return(daily_returns)\n",
        "\n",
        "    return {\"cagr\":cagr, \"sharpe\":sharpe, \"drawdown\":drawdown, \"volatility\":volatility, \"avg_return\":avg_return}\n"
      ]
    },
    {
      "cell_type": "markdown",
      "id": "ab1e3b6a",
      "metadata": {
        "id": "ab1e3b6a"
      },
      "source": [
        "Now that we've written a function for this, we can analyze the returns of our portfolio from above."
      ]
    },
    {
      "cell_type": "code",
      "execution_count": 56,
      "id": "baada866",
      "metadata": {
        "id": "baada866",
        "outputId": "6cb891aa-0f90-4fa0-f08b-af4dc65ddae6",
        "colab": {
          "base_uri": "https://localhost:8080/"
        }
      },
      "outputs": [
        {
          "output_type": "stream",
          "name": "stdout",
          "text": [
            "📈 CAGR (Annual Return): 13.97%\n",
            "📊 Sharpe Ratio: 0.79\n",
            "📉 Max Drawdown: -28.86%\n",
            "📈 Volatility: 29.32%\n",
            "📅 Average Daily Return: 0.09%\n"
          ]
        }
      ],
      "source": [
        "portfolio_info = portfolio_stats(returns)\n",
        "\n",
        "print(f\"📈 CAGR (Annual Return): {portfolio_info['cagr']:.2%}\")\n",
        "print(f\"📊 Sharpe Ratio: {portfolio_info['sharpe']:.2f}\")\n",
        "print(f\"📉 Max Drawdown: {portfolio_info['drawdown']:.2%}\")\n",
        "print(f\"📈 Volatility: {portfolio_info['volatility']:.2%}\")\n",
        "print(f\"📅 Average Daily Return: {portfolio_info['avg_return']:.2%}\")"
      ]
    },
    {
      "cell_type": "markdown",
      "source": [
        "You'll see that the portfolio_stats() function calculates five key metrics that help you evaluate how well a portfolio is performing.\n",
        "\n",
        "* **CAGR (Compound Annual Growth Rate):** A higher CAGR generally reflects strong long-term performance. For context, a CAGR of 7–10% is typically considered solid, especially when compared to market benchmarks like the S&P 500.\n",
        "\n",
        "* **Sharpe Ratio:** A value above 1.0 suggests you're earning a good return for the amount of risk taken, while a ratio above 2.0 is considered excellent. Anything below 1.0 may indicate that returns aren’t efficiently compensating for risk.\n",
        "\n",
        "* **Max Drawdown:** Lower drawdowns are better, as they reflect greater stability and less severe losses. A drawdown under 20% is generally seen as moderate, while anything over 30% may signal high risk or poor diversification.\n",
        "\n",
        "* **Volatility:** Higher volatility can mean bigger gains — but also bigger losses. For comparison, broad market indices tend to have volatility in the 15–20% range; values much higher than that could mean the portfolio is more aggressive or unstable.\n",
        "\n",
        "* **Average Daily Return:** Captures how much the portfolio gains or loses on an average trading day. While daily gains may appear small in percentage terms, even modest positive averages can lead to significant annual growth through compounding.\n",
        "\n",
        "Together, these metrics provide a snapshot of both the return potential and the risk behavior of a portfolio. They’re useful for identifying whether a portfolio is high-growth and high-risk, stable and conservative, or somewhere in between — and can guide decisions around rebalancing or adjusting strategy."
      ],
      "metadata": {
        "id": "ZQfnPJ3br9iL"
      },
      "id": "ZQfnPJ3br9iL"
    },
    {
      "cell_type": "markdown",
      "id": "b9d2b93f",
      "metadata": {
        "id": "b9d2b93f"
      },
      "source": [
        "### montecarlo simulations : tbd\n",
        "\n",
        "uses yahoo finance package and others to create montecarlo simulation for modeling\n",
        "\n",
        "montecarlo https://medium.com/analytics-vidhya/monte-carlo-simulations-for-predicting-stock-prices-python-a64f53585662"
      ]
    },
    {
      "cell_type": "markdown",
      "id": "d21089be",
      "metadata": {
        "id": "d21089be"
      },
      "source": [
        "### optimizing the set of stocks : luna\n",
        "\n",
        "use scipy\n",
        "\n",
        "optimizing your investment: https://medium.com/@ethan.duong1120/python-powered-portfolio-optimization-achieving-target-returns-through-weight-optimization-fc5163e5c9c6\n"
      ]
    },
    {
      "cell_type": "code",
      "execution_count": 57,
      "id": "4a74b215",
      "metadata": {
        "colab": {
          "base_uri": "https://localhost:8080/"
        },
        "id": "4a74b215",
        "outputId": "6545a3ec-79ab-48fa-f8fd-3db11b54e841"
      },
      "outputs": [
        {
          "output_type": "stream",
          "name": "stdout",
          "text": [
            " message: Optimization terminated successfully\n",
            " success: True\n",
            "  status: 0\n",
            "     fun: 0.39999999977246187\n",
            "       x: [ 1.534e-01  1.208e-01  1.224e-01  4.572e-01  1.462e-01]\n",
            "     nit: 2\n",
            "     jac: [ 1.702e-01  1.127e-01  1.156e-01  7.067e-01  1.575e-01]\n",
            "    nfev: 12\n",
            "    njev: 2\n",
            "             0\n",
            "AAPL  0.153382\n",
            "MSFT  0.120820\n",
            "GOOG  0.122419\n",
            "NVDA  0.457211\n",
            "BIRK  0.146168\n"
          ]
        }
      ],
      "source": [
        "\n",
        "# testList = ['AAPL', 'MSFT', 'GOOG', 'TSLA', 'NFLX', 'SBUX', '^GSPC', '^DJI', '^IXIC']\n",
        "\n",
        "testList = portfolio\n",
        "\n",
        "# pull the first stock's data; drop all unnecessary columns\n",
        "ticker = yf.Ticker(testList[0])\n",
        "df = ticker.history(interval = '1d', start = '2015-01-01', end = '2025-04-01')\n",
        "df.drop(columns=['High', 'Low', 'Close', 'Volume', 'Dividends', 'Stock Splits'], inplace=True)\n",
        "df.rename({'Open' : 'AAPL'}, inplace=True)\n",
        "\n",
        "# for every other ticker, add its open value to the existing dataframe\n",
        "for x in testList[1:]:\n",
        "    ticker = yf.Ticker(x)\n",
        "    data = ticker.history(interval = '1d', start = '2015-01-01', end = '2025-04-01')\n",
        "    df.insert(len(df.columns), x, data[\"Open\"]) # for whatever reason, this line wont work\n",
        "\n",
        "#calculate percent returns for each day of each stock\n",
        "returns_df = df.pct_change(1).dropna()\n",
        "\n",
        "#operationalize determining portfolio returns\n",
        "def getPfReturn(weights):\n",
        "    \"\"\"\n",
        "    return is annualized expected return of portfolio\n",
        "    \"\"\"\n",
        "    expRetPortfolio = np.dot(np.transpose(weights), returns_df.mean()) * 250\n",
        "    return expRetPortfolio\n",
        "\n",
        "# start with stocks at equal weights\n",
        "numStocks = len(returns_df.columns)\n",
        "initialWeight = [1/numStocks] * numStocks\n",
        "\n",
        "# return goal?\n",
        "\n",
        "#TODO: figure out what we should set this value to\n",
        "\n",
        "targetReturn = .4\n",
        "\n",
        "# bounds the percentage of each stock we can hold (between 0 and 100%)\n",
        "bounds = tuple((0,1) for i in range(numStocks))\n",
        "\n",
        "# ensures the sum of all stock weights is 100% (or 1) in first constraint\n",
        "# sets goal of minimize function to hit targetReturn\n",
        "constraints = ({'type' : 'eq', 'fun' : lambda w : np.sum(w) - 1},\n",
        "               {'type' : 'eq', 'fun' : lambda x : x.dot(returns_df.mean()) * 250 - targetReturn})\n",
        "\n",
        "# can we reach our goal with these stocks??\n",
        "results = minimize(fun=getPfReturn, x0=initialWeight, bounds=bounds, constraints=constraints)\n",
        "\n",
        "#output\n",
        "print(results)\n",
        "\n",
        "optimizedResults = pd.DataFrame(results['x'])\n",
        "\n",
        "# print our optimized results\n",
        "getPfReturn(weights=results[\"x\"])\n",
        "optimizedResults.index = returns_df.columns\n",
        "\n",
        "optimizedResults.rename(index={optimizedResults.index[0]: portfolio[0]}, inplace=True)\n",
        "\n",
        "print(optimizedResults)"
      ]
    },
    {
      "cell_type": "code",
      "execution_count": 58,
      "id": "9f881de1",
      "metadata": {
        "colab": {
          "base_uri": "https://localhost:8080/"
        },
        "id": "9f881de1",
        "outputId": "2030ed36-485c-4600-e1d1-a2f71a34e65b"
      },
      "outputs": [
        {
          "output_type": "stream",
          "name": "stdout",
          "text": [
            "total value 1602333.1756141826\n"
          ]
        }
      ],
      "source": [
        "initial_portfolio_val = 1e6\n",
        "\n",
        "optimized_allocations = optimizedResults[0].to_dict()\n",
        "\n",
        "optimized_returns = calculate_returns(initial_portfolio_val, dataframes, optimized_allocations)\n",
        "\n",
        "graph_values(optimized_returns, False, False)"
      ]
    },
    {
      "cell_type": "markdown",
      "id": "c538bb61",
      "metadata": {
        "id": "c538bb61"
      },
      "source": [
        "*italicized text*### rechecking the strength of your portfolio : isabel's\n",
        "\n",
        "go back to pyfolio--> will integrate after we recheck the working code"
      ]
    },
    {
      "cell_type": "markdown",
      "id": "vEZfOygKm3fG",
      "metadata": {
        "id": "vEZfOygKm3fG"
      },
      "source": [
        "### 📉 Rechecking Strength After Optimization\n",
        "\n",
        "After optimizing our portfolio allocations to achieve a target return of 40%, we reevaluate the portfolio using updated historical performance metrics.\n",
        "\n",
        "The results below reflect the **impact of computational adjustments**:\n",
        "\n",
        "- **CAGR (Annual Return):** Shows the expected annual growth based on optimized allocations.\n",
        "- **Sharpe Ratio:** Tells us how well we’re balancing risk and reward with the new weights.\n",
        "- **Max Drawdown:** Indicates if the worst-case dip has improved.\n",
        "- **Volatility:** Helps assess whether the portfolio became more stable or more erratic.\n",
        "- **Avg Daily Return:** Confirms whether daily trends look stronger after optimization.\n",
        "\n",
        "This second performance check shows whether our changes actually led to a more efficient investment strategy.\n"
      ]
    },
    {
      "cell_type": "code",
      "execution_count": 60,
      "id": "4c72f527-99d2-4d8d-a6cd-f1cbc4f6f907",
      "metadata": {
        "colab": {
          "base_uri": "https://localhost:8080/"
        },
        "id": "4c72f527-99d2-4d8d-a6cd-f1cbc4f6f907",
        "outputId": "906053c9-183f-402d-e27f-d6941242e705"
      },
      "outputs": [
        {
          "output_type": "stream",
          "name": "stdout",
          "text": [
            "📈 CAGR (Annual Return): 23.97%\n",
            "📊 Sharpe Ratio: 0.99\n",
            "📉 Max Drawdown: -32.09%\n",
            "📈 Volatility: 39.32%\n",
            "📅 Average Daily Return: 0.15%\n"
          ]
        }
      ],
      "source": [
        "portfolio_info = portfolio_stats(optimized_returns)\n",
        "\n",
        "print(f\"📈 CAGR (Annual Return): {portfolio_info['cagr']:.2%}\")\n",
        "print(f\"📊 Sharpe Ratio: {portfolio_info['sharpe']:.2f}\")\n",
        "print(f\"📉 Max Drawdown: {portfolio_info['drawdown']:.2%}\")\n",
        "print(f\"📈 Volatility: {portfolio_info['volatility']:.2%}\")\n",
        "print(f\"📅 Average Daily Return: {portfolio_info['avg_return']:.2%}\")"
      ]
    },
    {
      "cell_type": "markdown",
      "id": "MMg7s3_fnSLc",
      "metadata": {
        "id": "MMg7s3_fnSLc"
      },
      "source": [
        "After constructing our initial stock portfolio based on user-selected allocations, we evaluated its historical performance using metrics like annual return, Sharpe ratio, and drawdown. This gave us a baseline understanding of how well our portfolio performed under those weights.\n",
        "\n",
        "We then used optimization techniques (via scipy.minimize) to automatically adjust the stock allocations in order to achieve a target return while minimizing risk. This step simulates what a financial algorithm might do to make our portfolio more efficient.\n",
        "\n",
        "Finally, we re-evaluated the optimized portfolio using the same performance metrics. By comparing the before-and-after results, we can see whether the optimization actually improved our portfolio — either by increasing returns, reducing risk, or improving the Sharpe ratio (risk-adjusted performance).\n",
        "\n",
        "This comparison demonstrates the power of computational thinking in making data-driven investment decisions."
      ]
    }
  ],
  "metadata": {
    "colab": {
      "provenance": []
    },
    "kernelspec": {
      "display_name": "cs181",
      "language": "python",
      "name": "python3"
    },
    "language_info": {
      "codemirror_mode": {
        "name": "ipython",
        "version": 3
      },
      "file_extension": ".py",
      "mimetype": "text/x-python",
      "name": "python",
      "nbconvert_exporter": "python",
      "pygments_lexer": "ipython3",
      "version": "3.12.7"
    },
    "widgets": {
      "application/vnd.jupyter.widget-state+json": {
        "c93963c503b844128033f9d63bf18fbf": {
          "model_module": "@jupyter-widgets/controls",
          "model_name": "SelectMultipleModel",
          "model_module_version": "1.5.0",
          "state": {
            "_dom_classes": [],
            "_model_module": "@jupyter-widgets/controls",
            "_model_module_version": "1.5.0",
            "_model_name": "SelectMultipleModel",
            "_options_labels": [
              "Apple",
              "Costco",
              "Microsoft",
              "Google",
              "Nvidia",
              "Walmart",
              "Tesla",
              "AMC Entertainment",
              "S&P 500",
              "Dow Jones Industrial",
              "Nasdaq",
              "Vanguard S&P 500 ETF",
              "Fidelity 500 Index Fund",
              "Gold"
            ],
            "_view_count": null,
            "_view_module": "@jupyter-widgets/controls",
            "_view_module_version": "1.5.0",
            "_view_name": "SelectMultipleView",
            "description": "Stocks",
            "description_tooltip": null,
            "disabled": false,
            "index": [],
            "layout": "IPY_MODEL_4e53bbf8c1b342a28f6e4811f26fc3b0",
            "rows": 20,
            "style": "IPY_MODEL_e64bb4c78a9d40e08b570e14bed54954"
          }
        },
        "4e53bbf8c1b342a28f6e4811f26fc3b0": {
          "model_module": "@jupyter-widgets/base",
          "model_name": "LayoutModel",
          "model_module_version": "1.2.0",
          "state": {
            "_model_module": "@jupyter-widgets/base",
            "_model_module_version": "1.2.0",
            "_model_name": "LayoutModel",
            "_view_count": null,
            "_view_module": "@jupyter-widgets/base",
            "_view_module_version": "1.2.0",
            "_view_name": "LayoutView",
            "align_content": null,
            "align_items": null,
            "align_self": null,
            "border": null,
            "bottom": null,
            "display": null,
            "flex": null,
            "flex_flow": null,
            "grid_area": null,
            "grid_auto_columns": null,
            "grid_auto_flow": null,
            "grid_auto_rows": null,
            "grid_column": null,
            "grid_gap": null,
            "grid_row": null,
            "grid_template_areas": null,
            "grid_template_columns": null,
            "grid_template_rows": null,
            "height": null,
            "justify_content": null,
            "justify_items": null,
            "left": null,
            "margin": null,
            "max_height": null,
            "max_width": null,
            "min_height": null,
            "min_width": null,
            "object_fit": null,
            "object_position": null,
            "order": null,
            "overflow": null,
            "overflow_x": null,
            "overflow_y": null,
            "padding": null,
            "right": null,
            "top": null,
            "visibility": null,
            "width": null
          }
        },
        "e64bb4c78a9d40e08b570e14bed54954": {
          "model_module": "@jupyter-widgets/controls",
          "model_name": "DescriptionStyleModel",
          "model_module_version": "1.5.0",
          "state": {
            "_model_module": "@jupyter-widgets/controls",
            "_model_module_version": "1.5.0",
            "_model_name": "DescriptionStyleModel",
            "_view_count": null,
            "_view_module": "@jupyter-widgets/base",
            "_view_module_version": "1.2.0",
            "_view_name": "StyleView",
            "description_width": ""
          }
        },
        "3d98311b4cad4ebf92e9986d78f33340": {
          "model_module": "@jupyter-widgets/controls",
          "model_name": "TabModel",
          "model_module_version": "1.5.0",
          "state": {
            "_dom_classes": [],
            "_model_module": "@jupyter-widgets/controls",
            "_model_module_version": "1.5.0",
            "_model_name": "TabModel",
            "_titles": {},
            "_view_count": null,
            "_view_module": "@jupyter-widgets/controls",
            "_view_module_version": "1.5.0",
            "_view_name": "TabView",
            "box_style": "",
            "children": [],
            "layout": "IPY_MODEL_2a922c5309a04c4aa30be0f8f699ebc7",
            "selected_index": 0
          }
        },
        "2a922c5309a04c4aa30be0f8f699ebc7": {
          "model_module": "@jupyter-widgets/base",
          "model_name": "LayoutModel",
          "model_module_version": "1.2.0",
          "state": {
            "_model_module": "@jupyter-widgets/base",
            "_model_module_version": "1.2.0",
            "_model_name": "LayoutModel",
            "_view_count": null,
            "_view_module": "@jupyter-widgets/base",
            "_view_module_version": "1.2.0",
            "_view_name": "LayoutView",
            "align_content": null,
            "align_items": null,
            "align_self": null,
            "border": null,
            "bottom": null,
            "display": null,
            "flex": null,
            "flex_flow": null,
            "grid_area": null,
            "grid_auto_columns": null,
            "grid_auto_flow": null,
            "grid_auto_rows": null,
            "grid_column": null,
            "grid_gap": null,
            "grid_row": null,
            "grid_template_areas": null,
            "grid_template_columns": null,
            "grid_template_rows": null,
            "height": null,
            "justify_content": null,
            "justify_items": null,
            "left": null,
            "margin": null,
            "max_height": null,
            "max_width": null,
            "min_height": null,
            "min_width": null,
            "object_fit": null,
            "object_position": null,
            "order": null,
            "overflow": null,
            "overflow_x": null,
            "overflow_y": null,
            "padding": null,
            "right": null,
            "top": null,
            "visibility": null,
            "width": null
          }
        }
      }
    }
  },
  "nbformat": 4,
  "nbformat_minor": 5
}