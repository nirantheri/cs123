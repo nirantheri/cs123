{
  "cells": [
    {
      "cell_type": "markdown",
      "id": "a21a0bd5",
      "metadata": {
        "id": "a21a0bd5"
      },
      "source": [
        "### Introduction: Applying Computational Thinking to Personal Finance and Portfolio Analysis\n",
        "In an era where financial independence is closely tied to the ability to make strategic investment decisions, understanding the mechanics of saving and investing has become a critical life skill. Yet, while many individuals understand the importance of saving, few have the tools or knowledge required to evaluate how different financial strategies—and especially investment decisions—impact long-term outcomes. This tutorial addresses that gap by introducing students to essential concepts in personal finance and portfolio analysis through a computational and data-driven approach.\n",
        "\n",
        "This tutorial begins by building a foundation in core savings principles. Learners will explore the functionality of common financial instruments such as high-yield savings accounts, 401(k)s, and Roth IRAs. Through interactive inputs and simulations, students will see how interest rates, compound growth, and tax advantages affect returns over time. These early exercises aim to demonstrate the value of starting early, contributing consistently, and choosing the right savings vehicles for one’s personal financial goals.\n",
        "\n",
        "Building on this foundation, the tutorial then transitions into a more advanced, investment-focused module: constructing and evaluating a personalized stock portfolio. Students will be guided through the process of:\n",
        "- Selecting their own breakdown of stocks to form a diversified portfolio based on individual risk preferences or interests.\n",
        "\n",
        "- Evaluating the strength of their chosen portfolio using historical data and key financial metrics.\n",
        "\n",
        "- Simulating potential future outcomes through Monte Carlo simulations, which model thousands of possible future scenarios to account for uncertainty and market volatility.\n",
        "\n",
        "- Optimizing the stock allocation using algorithmic methods that balance return potential with risk, aiming for the most efficient use of investment capital.\n",
        "\n",
        "- Rechecking the portfolio’s strength after optimization, to reflect the improvements made and demonstrate the impact of computational adjustments on financial performance.\n",
        "\n",
        "\n",
        "Throughout this tutorial, students will employ principles from computer science—such as data modeling, simulations, algorithmic thinking, and data visualization—to analyze financial data and make informed decisions. By the end of the tutorial, students will have developed not only a deeper understanding of financial literacy but also a practical appreciation for how computational tools can empower individuals to manage their personal wealth more effectively.\n",
        "\n",
        "This interdisciplinary exploration is designed to equip learners with a strong foundation in both personal finance and applied computation—skills that are increasingly essential in today’s data-rich, financially complex world."
      ]
    },
    {
      "cell_type": "markdown",
      "id": "1fcde335",
      "metadata": {
        "id": "1fcde335"
      },
      "source": [
        "### Disclaimer\n",
        "\n",
        "**No Guarantee of Accuracy:** While Isabel, Luna, and Nirantheri strive to provide accurate and up-to-date information, they do not guarantee the accuracy, completeness, or reliability of any content. Users should independently verify any information before making financial or investment decisions based on it.\n",
        "\n",
        "\n",
        "**Investment Risks:** Investing involves inherent risks, including but not limited to market fluctuations, economic uncertainty, geopolitical events, and individual asset performance. Past performance is not indicative of future results, and no content provided implies a guarantee of investment success.\n",
        "\n",
        "**Limitation of Liability:** Mentions of specific financial products, services, companies, or securities within the content do not constitute endorsements or recommendations. Users are responsible for conducting their own research and due diligence.\n",
        "\n",
        "**No Liability:** Isabel, Luna, Nirantheri, and their affiliates, partners, or contributors shall not be held liable for any loss, damage, or expense resulting from the use of or reliance on the provided information. All investment decisions made based on this content are the sole responsibility of the user.\n",
        "\n",
        "**Disclaimer Updates:** This disclaimer is subject to change without notice. Users are responsible for reviewing it periodically to stay informed of any updates.\n",
        "\n"
      ]
    },
    {
      "cell_type": "markdown",
      "id": "5b4b991e",
      "metadata": {
        "id": "5b4b991e"
      },
      "source": [
        "### Required Packages\n",
        "If the \"Module not found\" error shows up, use the requirements.txt file to download the missing packages.\n",
        "\n",
        "```\n",
        "pip install -r /path/to/requirements.txt\n",
        "```"
      ]
    },
    {
      "cell_type": "code",
      "execution_count": 43,
      "id": "4102a911",
      "metadata": {
        "id": "4102a911"
      },
      "outputs": [],
      "source": [
        "from IPython.display import display\n",
        "\n",
        "import matplotlib.pyplot as plt\n",
        "%matplotlib inline\n",
        "\n",
        "#alphabetical\n",
        "import altair as alt\n",
        "from curl_cffi import requests\n",
        "import ipywidgets as widgets\n",
        "import numpy as np\n",
        "import pandas as pd\n",
        "import quantstats.stats as stats\n",
        "from scipy.optimize import minimize\n",
        "from scipy.stats import norm\n",
        "import yfinance as yf\n",
        "\n"
      ]
    },
    {
      "cell_type": "markdown",
      "id": "07c04a66",
      "metadata": {
        "id": "07c04a66"
      },
      "source": [
        "### Selecting Stocks\n",
        "\n",
        "First, you can select the stocks in your simulated portfolio. Ctrl+ Click the stocks that you want in your portfolio. Remember that a more diverse portfolio is better, so select at least 5 stocks to best model your findings.\n",
        "\n",
        "\n",
        "If you'd like to create a custom allocation of stocks, skip to the section [Custom Allocations](#custom-allocation)\n",
        "\n",
        "We used ipywidget documentation for [Checkboxes](https://ipywidgets.readthedocs.io/en/7.x/examples/Widget%20List.html#Checkbox) and [SelectMultiple](https://ipywidgets.readthedocs.io/en/7.x/examples/Widget%20List.html#SelectMultiple)\n"
      ]
    },
    {
      "cell_type": "code",
      "execution_count": 41,
      "id": "7af31160",
      "metadata": {
        "colab": {
          "referenced_widgets": [
            "67f4e82e58f34261aaa37a1b6c79140a"
          ]
        },
        "id": "7af31160",
        "outputId": "9f7d71e1-0502-41d7-cb80-26c0ed5f76ee"
      },
      "outputs": [
        {
          "data": {
            "application/vnd.jupyter.widget-view+json": {
              "model_id": "1f2c5e1584ed489e80b4a36f688b627d",
              "version_major": 2,
              "version_minor": 0
            },
            "text/plain": [
              "SelectMultiple(description='Stocks', options=('Apple', 'Costco', 'Microsoft', 'Google', 'Starbucks', 'Tyson Fo…"
            ]
          },
          "metadata": {},
          "output_type": "display_data"
        }
      ],
      "source": [
        "codes = {\"Apple\": 'AAPL',\n",
        "        \"Costco\": 'COST',\n",
        "        \"Microsoft\": 'MSFT',\n",
        "        \"Google\": 'GOOG',\n",
        "        \"Starbucks\":'SBUX',\n",
        "        \"Tyson Foods\": 'TSN',\n",
        "        \"Intel Corp\":'INTC',\n",
        "        \"Walmart\": 'WMT',\n",
        "        \"Amazon\":'AMZN',\n",
        "        \"BJ's Wholesale Club\":'BJ',\n",
        "        \"Toyota\":'TM',\n",
        "        \"S&P 500\": '^GSPC',\n",
        "        \"Dow Jones Industrial\": '^DJI',\n",
        "        \"Nasdaq\": '^IXIC',\n",
        "        \"Vanguard S&P 500 ETF\": 'VOO',\n",
        "        \"Fidelity 500 Index Fund\": 'FXAIX',\n",
        "        \"Gold\":'GLD'}\n",
        "\n",
        "codes.keys()\n",
        "\n",
        "\n",
        "choices = widgets.SelectMultiple(\n",
        "    options=codes.keys(),\n",
        "    value=[],\n",
        "    rows=20,\n",
        "    description='Stocks',\n",
        "    disabled=False\n",
        ")\n",
        "\n",
        "display(choices)"
      ]
    },
    {
      "cell_type": "markdown",
      "id": "52f0405d",
      "metadata": {
        "id": "52f0405d"
      },
      "source": [
        "### Picking The Breakdown of Stocks\n",
        "\n",
        "<!-- clarifying what the breakdown of stocks is, why are we doing this -->\n",
        "\n",
        "Without rerunning the previous code chunk, run the next one and input your allocation amounts as a decimal ex (0.3 or .5). Make sure they add up to 1! This step will allow you to invest in each stock proportionally.\n",
        "<!--\n",
        "[setup using the above code chunk](https://ipywidgets.readthedocs.io/en/7.x/examples/Widget%20List.html#Tabs) -->\n",
        "\n",
        "This was setup using documentation for [Tabs](https://ipywidgets.readthedocs.io/en/7.x/examples/Widget%20List.html#Tabs)"
      ]
    },
    {
      "cell_type": "code",
      "execution_count": 34,
      "id": "35f83dbc",
      "metadata": {
        "colab": {
          "referenced_widgets": [
            "fe5c1da1e4594c5bbd2505856a37b8cf"
          ]
        },
        "id": "35f83dbc",
        "outputId": "8143cce5-d5df-4b2c-efdf-68cd73f4e5ea"
      },
      "outputs": [
        {
          "data": {
            "application/vnd.jupyter.widget-view+json": {
              "model_id": "8d5795d5239643d5917832bbe060421e",
              "version_major": 2,
              "version_minor": 0
            },
            "text/plain": [
              "Tab()"
            ]
          },
          "execution_count": 34,
          "metadata": {},
          "output_type": "execute_result"
        }
      ],
      "source": [
        "# get codes for further down\n",
        "portfolio = []\n",
        "\n",
        "for i in range(len(choices.value)):\n",
        "    portfolio.append(codes[choices.value[i]])\n",
        "\n",
        "# pick distribution\n",
        "\n",
        "tab_contents = [\"Value\"] * len(choices.value)\n",
        "children = [widgets.Text(description=name) for name in tab_contents]\n",
        "tab = widgets.Tab()\n",
        "tab.children = children\n",
        "tab.titles = choices.value\n",
        "\n",
        "tab"
      ]
    },
    {
      "cell_type": "markdown",
      "id": "29b9a5e2",
      "metadata": {
        "id": "29b9a5e2"
      },
      "source": [
        "The following code is to match the allocation amounts to the stock codes given the inputs from above. You don't need to do anything here!"
      ]
    },
    {
      "cell_type": "code",
      "execution_count": 35,
      "id": "985e3e8b",
      "metadata": {
        "id": "985e3e8b"
      },
      "outputs": [],
      "source": [
        "# matching allocation amounts to stock codes given inputs from above\n",
        "\n",
        "allocations = {}\n",
        "\n",
        "for i in range(len(tab.children)):\n",
        "    allocations[portfolio[i]]=tab.children[i].value\n"
      ]
    },
    {
      "cell_type": "markdown",
      "id": "ce27bfeb",
      "metadata": {
        "id": "ce27bfeb"
      },
      "source": [
        "### Custom Allocation \n",
        "\n",
        "Feel free to create your own allocation dictionary. Make sure each entry is of the format \"STOCK TICKER\": allocation amount. Fill it in as you desire and click run to make sure that your custom allocations are used, even if you didn't run the above lines. Otherwise our default set of stocks will be used! Do not run this cell unless you're planning on using a custom amount-- otherwise the default values we used will be input instead.\n",
        "\n",
        "NOTE: for index funds, you have to prefix them with \"^\""
      ]
    },
    {
      "cell_type": "code",
      "execution_count": 36,
      "id": "d9363a96",
      "metadata": {
        "id": "d9363a96"
      },
      "outputs": [],
      "source": [
        "# Here's an example of what your dictionary can look like\n",
        "\n",
        "# {'AAPL':'0.4', 'MSFT':'0.3',  '^IXIC':'0.3'}\n",
        "\n",
        "allocations = {}"
      ]
    },
    {
      "cell_type": "markdown",
      "id": "a1f4eed5",
      "metadata": {
        "id": "a1f4eed5"
      },
      "source": [
        "### Pulling Stock Data History Using the YahooFinance API\n",
        "\n",
        "Using the list of stocks in our dictionary, the below code will grab the data for each stock.\n",
        "\n",
        "NOTE: the session line is a temporary fix for a new rate-limiting error that yahoofinance api are running into recently, from [Github](https://github.com/ranaroussi/yfinance/issues/2422#issuecomment-2840774505) "
      ]
    },
    {
      "cell_type": "code",
      "execution_count": 44,
      "id": "ace55141",
      "metadata": {
        "id": "ace55141",
        "outputId": "0e97dab8-be7e-4257-d4ca-6eabbcc87d5b"
      },
      "outputs": [
        {
          "name": "stderr",
          "output_type": "stream",
          "text": [
            "$AAPL: possibly delisted; no price data found  (1d 2015-01-01 -> 2025-05-14)\n",
            "$MSFT: possibly delisted; no price data found  (1d 2015-01-01 -> 2025-05-14)\n",
            "$^IXIC: possibly delisted; no price data found  (1d 2015-01-01 -> 2025-05-14)\n",
            "$COST: possibly delisted; no price data found  (1d 2015-01-01 -> 2025-05-14)\n",
            "$WMT: possibly delisted; no price data found  (1d 2015-01-01 -> 2025-05-14)\n",
            "$AMZN: possibly delisted; no price data found  (1d 2015-01-01 -> 2025-05-14)\n",
            "$^GSPC: possibly delisted; no price data found  (1d 2015-01-01 -> 2025-05-14)\n",
            "$SBUX: possibly delisted; no price data found  (1d 2015-01-01 -> 2025-05-14)\n",
            "$TSN: possibly delisted; no price data found  (1d 2015-01-01 -> 2025-05-14)\n",
            "$INTC: possibly delisted; no price data found  (1d 2015-01-01 -> 2025-05-14)\n"
          ]
        }
      ],
      "source": [
        "if len(portfolio)==0 or len(allocations)==0: # for default values\n",
        "    allocations={'AAPL':'0.1', 'MSFT':'0.1',  '^IXIC':'0.1', 'COST': '0.1', 'WMT': '0.1', 'AMZN':'0.1', '^GSPC':'0.1', 'SBUX':'0.1', 'TSN':'0.1','INTC':'0.1'}\n",
        "    portfolio = list(allocations.keys())\n",
        "\n",
        "# This is so that the rate limiting error will not occur \n",
        "session = requests.Session(impersonate=\"chrome\",timeout=5)\n",
        "\n",
        "testList=list(allocations.keys())\n",
        "testString = ' '.join(testList)\n",
        "\n",
        "tickersPull = yf.Tickers(testString, session=session)\n",
        "\n",
        "#in the dictionary dataframes, each ticker is indexed by its ticker as seen in the testList (auto_adjust accounts for splits and dividends)\n",
        "dataframes = {}\n",
        "for x in testList:\n",
        "    ticker = yf.Ticker(x, session=session)\n",
        "    dataframes[x] = ticker.history(period='1mo', start='2015-01-01', auto_adjust=True)"
      ]
    },
    {
      "cell_type": "markdown",
      "id": "441b5a5a",
      "metadata": {
        "id": "441b5a5a"
      },
      "source": [
        "#### How do we calculate returns?\n",
        "\n",
        "<!-- have we defined returns at this point? -->\n",
        "\n",
        "To calculate the returns, we want to find the adjusted value of each stock amount from the date of the initial investment. We can write a function to do this with a set of inputs-- an initial portfolio value, the set of dataframes for each stock, and the breakdown of allocations  <!-- and perhaps even an initial date of investment.  -->\n",
        "\n",
        "We used [this resource](https://blog.mlq.ai/python-for-finance-portfolio-optimization/) to help with this section."
      ]
    },
    {
      "cell_type": "code",
      "execution_count": 8,
      "id": "b105647a",
      "metadata": {
        "id": "b105647a"
      },
      "outputs": [],
      "source": [
        "def calculate_returns(initial_portfolio_val, dataframe, allocations):\n",
        "    all_pos_vals = []\n",
        "\n",
        "    for stock_name in dataframe:\n",
        "        # grab the dataframe for a single stock\n",
        "        stock_df = dataframe[stock_name]\n",
        "        # create normed return column\n",
        "        stock_df['Normed Return'] = stock_df['Close'] /stock_df.iloc[0]['Close']\n",
        "\n",
        "        # use normed return to adjust the percentage of portfolio held\n",
        "        allocation = float(allocations[stock_name])  # Convert allocation to float\n",
        "        stock_df['Allocation'] = stock_df['Normed Return']*allocation\n",
        "\n",
        "        # find value of stock at each date\n",
        "        stock_df['Position Value'] = stock_df['Allocation']*initial_portfolio_val\n",
        "\n",
        "        # add to list of all position values\n",
        "        all_pos_vals.append(stock_df['Position Value'])\n",
        "\n",
        "    # concatenate the list of position values\n",
        "    portfolio_val = pd.concat(all_pos_vals, axis=1)\n",
        "\n",
        "    # set the column names\n",
        "    portfolio_val.columns = portfolio\n",
        "\n",
        "    # add a total portfolio column\n",
        "    portfolio_val['Total'] = portfolio_val.sum(axis=1)\n",
        "\n",
        "    # changing date to column not index\n",
        "    portfolio_val = portfolio_val.reset_index()\n",
        "\n",
        "    return portfolio_val\n",
        "\n"
      ]
    },
    {
      "cell_type": "markdown",
      "id": "11ba91b5",
      "metadata": {
        "id": "11ba91b5"
      },
      "source": [
        "Then we can write a function which prints the initial and final allocation amounts and creates a graphical representation of each of the stocks' growths over time as well as the portfolio's overall growth. To get an overall number rather than using every single data point, we can use a resampling function to grab the last day of each month in the data. \n",
        "\n",
        "Then we can create a graphing function which can graph both the total value of the portfolio over time as well as the breakdown of each stock's value while showing the value as you hover over it."
      ]
    },
    {
      "cell_type": "code",
      "execution_count": 28,
      "id": "c4a4a2ec",
      "metadata": {
        "id": "c4a4a2ec"
      },
      "outputs": [],
      "source": [
        "def graph_returns(returns, show_total, show_individual):\n",
        "\n",
        "    # resampling values\n",
        "    portfolio_val = returns.resample('ME', on='Date').first().reset_index()\n",
        "\n",
        "    initial_amts = returns.iloc[0][1:]\n",
        "    ending_amts = returns.iloc[-1][1:]\n",
        "    initial_amts = initial_amts.reset_index()\n",
        "    ending_amts = ending_amts.reset_index()\n",
        "\n",
        "    amts = pd.merge(initial_amts, ending_amts)\n",
        "    amts.columns = [\"Date\", \"Initial Amounts\", \"Ending Amounts\"]\n",
        "\n",
        "    amts[\"Change in Value\"] = amts[\"Ending Amounts\"]-amts[\"Initial Amounts\"]\n",
        "    amts[[\"Initial Amounts\", \"Ending Amounts\", \"Change in Value\"]] = amts[[\"Initial Amounts\", \"Ending Amounts\", \"Change in Value\"]].apply(pd.to_numeric).round(2)\n",
        "    print(amts)\n",
        "\n",
        "    if show_total:\n",
        "        # only need the total column\n",
        "        data = portfolio_val.drop(portfolio, axis=1)\n",
        "        pivoted_data_total = data.melt(id_vars=\"Date\", var_name=\"Stock\", value_name=\"Value\")\n",
        "\n",
        "        grapher(pivoted_data_total).display()\n",
        "\n",
        "\n",
        "\n",
        "    if show_individual:\n",
        "        pivoted_data_individual = portfolio_val.melt(id_vars=\"Date\", value_vars = portfolio, var_name=\"Stock\", value_name=\"Value\")\n",
        "\n",
        "        grapher(pivoted_data_individual).display()\n",
        "\n",
        "\n",
        "\n",
        "def grapher(pivoted_data):\n",
        "        # for stock vs total\n",
        "        portfolio = pivoted_data['Stock'].unique()\n",
        "\n",
        "        # set hovering conditions\n",
        "\n",
        "        nearest = alt.selection_point(nearest=True, on=\"mouseover\",fields=[\"Date\"], empty=False)\n",
        "\n",
        "        when_near = alt.when(nearest)\n",
        "\n",
        "        # create basis of the graph\n",
        "        basic_graph = alt.Chart(pivoted_data).mark_line().encode(\n",
        "            alt.X(\"Date:T\", title=\"Date\"),\n",
        "            alt.Y(\"Value:Q\", title=\"Portfolio Value\"),\n",
        "            alt.Color(\"Stock:N\", title=\"Stock\"),\n",
        "        ).interactive()\n",
        "\n",
        "        # Draw points on the line, and if I am \"near\" then make them visible\n",
        "        points = basic_graph.mark_point().encode(\n",
        "            opacity=when_near.then(alt.value(1)).otherwise(alt.value(0))\n",
        "        )\n",
        "\n",
        "        # add rule so that a line shows up where the mouse is, and shows every data point at the mouseover.\n",
        "        rules = alt.Chart(pivoted_data).transform_pivot(\n",
        "            \"Stock\",\n",
        "            value=\"Value\",\n",
        "            groupby=[\"Date\"]\n",
        "        ).mark_rule(color=\"gray\").encode(\n",
        "            x=\"Date:T\",\n",
        "            opacity=when_near.then(alt.value(0.3)).otherwise(alt.value(0)),\n",
        "            tooltip=[\n",
        "            alt.Tooltip(\"Date:T\", title=\"Date\"),\n",
        "            *[alt.Tooltip(stock, type=\"quantitative\", format=\".2f\") for stock in portfolio],\n",
        "            ],\n",
        "        ).add_params(nearest)\n",
        "\n",
        "\n",
        "        # Put the data together\n",
        "        chart = alt.layer(\n",
        "            basic_graph, points, rules\n",
        "        ).properties(\n",
        "            width=600, height=300, # because the auto-size is quite small\n",
        "            title=\"Portfolio Value Over Time\"  \n",
        "        )\n",
        "        return chart\n"
      ]
    },
    {
      "cell_type": "markdown",
      "id": "ff8c807f",
      "metadata": {
        "id": "ff8c807f"
      },
      "source": [
        "Now that we've created a projection of how our data has been growing over time, let's see what to expect!"
      ]
    },
    {
      "cell_type": "markdown",
      "id": "sGyryTm_nQ-6",
      "metadata": {
        "id": "sGyryTm_nQ-6"
      },
      "source": [
        "### Visualizing Your Portfolio"
      ]
    },
    {
      "cell_type": "markdown",
      "id": "Rqr5PpS0nYDU",
      "metadata": {
        "id": "Rqr5PpS0nYDU"
      },
      "source": [
        "The initial and ending values of the portfolio are printed for each stock and for the total amount.\n",
        "\n",
        "The plots can show how your portfolio value evolved over time using your initial stock allocations. Feel free to alter the initial investment amount if you want to get an idea of your own personal finances.\n",
        "\n",
        "- The **\"Total\" line** represents the entire portfolio’s value.\n",
        "- The **colored lines** show how much each individual stock contributed to the total.\n",
        "- **Hover over** the chart to see daily values and compare how stocks performed relative to each other.\n",
        "\n",
        "Questions to Ask Yourself:\n",
        "- Consistency: Do values rise steadily or fluctuate a lot?\n",
        "- Dominance: Are certain stocks pulling most of the weight?\n",
        "- Volatility: Are there sharp dips or spikes in certain assets?\n",
        "- Results: Which stocks end with a higher value and which end with a lower value?"
      ]
    },
    {
      "cell_type": "code",
      "execution_count": 29,
      "id": "8813431d",
      "metadata": {
        "id": "8813431d"
      },
      "outputs": [
        {
          "ename": "IndexError",
          "evalue": "single positional indexer is out-of-bounds",
          "output_type": "error",
          "traceback": [
            "\u001b[1;31m---------------------------------------------------------------------------\u001b[0m",
            "\u001b[1;31mIndexError\u001b[0m                                Traceback (most recent call last)",
            "Cell \u001b[1;32mIn[29], line 3\u001b[0m\n\u001b[0;32m      1\u001b[0m initial_investment_amount \u001b[38;5;241m=\u001b[39m \u001b[38;5;241m1e6\u001b[39m\n\u001b[1;32m----> 3\u001b[0m returns \u001b[38;5;241m=\u001b[39m \u001b[43mcalculate_returns\u001b[49m\u001b[43m(\u001b[49m\u001b[43minitial_investment_amount\u001b[49m\u001b[43m,\u001b[49m\u001b[43m \u001b[49m\u001b[43mdataframes\u001b[49m\u001b[43m,\u001b[49m\u001b[43m \u001b[49m\u001b[43mallocations\u001b[49m\u001b[43m)\u001b[49m\n\u001b[0;32m      5\u001b[0m graph_returns(returns, \u001b[38;5;28;01mTrue\u001b[39;00m, \u001b[38;5;28;01mTrue\u001b[39;00m)\n",
            "Cell \u001b[1;32mIn[8], line 8\u001b[0m, in \u001b[0;36mcalculate_returns\u001b[1;34m(initial_portfolio_val, dataframe, allocations)\u001b[0m\n\u001b[0;32m      6\u001b[0m stock_df \u001b[38;5;241m=\u001b[39m dataframe[stock_name]\n\u001b[0;32m      7\u001b[0m \u001b[38;5;66;03m# create normed return column\u001b[39;00m\n\u001b[1;32m----> 8\u001b[0m stock_df[\u001b[38;5;124m'\u001b[39m\u001b[38;5;124mNormed Return\u001b[39m\u001b[38;5;124m'\u001b[39m] \u001b[38;5;241m=\u001b[39m stock_df[\u001b[38;5;124m'\u001b[39m\u001b[38;5;124mClose\u001b[39m\u001b[38;5;124m'\u001b[39m] \u001b[38;5;241m/\u001b[39m\u001b[43mstock_df\u001b[49m\u001b[38;5;241;43m.\u001b[39;49m\u001b[43miloc\u001b[49m\u001b[43m[\u001b[49m\u001b[38;5;241;43m0\u001b[39;49m\u001b[43m]\u001b[49m[\u001b[38;5;124m'\u001b[39m\u001b[38;5;124mClose\u001b[39m\u001b[38;5;124m'\u001b[39m]\n\u001b[0;32m     10\u001b[0m \u001b[38;5;66;03m# use normed return to adjust the percentage of portfolio held\u001b[39;00m\n\u001b[0;32m     11\u001b[0m allocation \u001b[38;5;241m=\u001b[39m \u001b[38;5;28mfloat\u001b[39m(allocations[stock_name])  \u001b[38;5;66;03m# Convert allocation to float\u001b[39;00m\n",
            "File \u001b[1;32m~\\AppData\\Roaming\\Python\\Python312\\site-packages\\pandas\\core\\indexing.py:1191\u001b[0m, in \u001b[0;36m_LocationIndexer.__getitem__\u001b[1;34m(self, key)\u001b[0m\n\u001b[0;32m   1189\u001b[0m maybe_callable \u001b[38;5;241m=\u001b[39m com\u001b[38;5;241m.\u001b[39mapply_if_callable(key, \u001b[38;5;28mself\u001b[39m\u001b[38;5;241m.\u001b[39mobj)\n\u001b[0;32m   1190\u001b[0m maybe_callable \u001b[38;5;241m=\u001b[39m \u001b[38;5;28mself\u001b[39m\u001b[38;5;241m.\u001b[39m_check_deprecated_callable_usage(key, maybe_callable)\n\u001b[1;32m-> 1191\u001b[0m \u001b[38;5;28;01mreturn\u001b[39;00m \u001b[38;5;28;43mself\u001b[39;49m\u001b[38;5;241;43m.\u001b[39;49m\u001b[43m_getitem_axis\u001b[49m\u001b[43m(\u001b[49m\u001b[43mmaybe_callable\u001b[49m\u001b[43m,\u001b[49m\u001b[43m \u001b[49m\u001b[43maxis\u001b[49m\u001b[38;5;241;43m=\u001b[39;49m\u001b[43maxis\u001b[49m\u001b[43m)\u001b[49m\n",
            "File \u001b[1;32m~\\AppData\\Roaming\\Python\\Python312\\site-packages\\pandas\\core\\indexing.py:1752\u001b[0m, in \u001b[0;36m_iLocIndexer._getitem_axis\u001b[1;34m(self, key, axis)\u001b[0m\n\u001b[0;32m   1749\u001b[0m     \u001b[38;5;28;01mraise\u001b[39;00m \u001b[38;5;167;01mTypeError\u001b[39;00m(\u001b[38;5;124m\"\u001b[39m\u001b[38;5;124mCannot index by location index with a non-integer key\u001b[39m\u001b[38;5;124m\"\u001b[39m)\n\u001b[0;32m   1751\u001b[0m \u001b[38;5;66;03m# validate the location\u001b[39;00m\n\u001b[1;32m-> 1752\u001b[0m \u001b[38;5;28;43mself\u001b[39;49m\u001b[38;5;241;43m.\u001b[39;49m\u001b[43m_validate_integer\u001b[49m\u001b[43m(\u001b[49m\u001b[43mkey\u001b[49m\u001b[43m,\u001b[49m\u001b[43m \u001b[49m\u001b[43maxis\u001b[49m\u001b[43m)\u001b[49m\n\u001b[0;32m   1754\u001b[0m \u001b[38;5;28;01mreturn\u001b[39;00m \u001b[38;5;28mself\u001b[39m\u001b[38;5;241m.\u001b[39mobj\u001b[38;5;241m.\u001b[39m_ixs(key, axis\u001b[38;5;241m=\u001b[39maxis)\n",
            "File \u001b[1;32m~\\AppData\\Roaming\\Python\\Python312\\site-packages\\pandas\\core\\indexing.py:1685\u001b[0m, in \u001b[0;36m_iLocIndexer._validate_integer\u001b[1;34m(self, key, axis)\u001b[0m\n\u001b[0;32m   1683\u001b[0m len_axis \u001b[38;5;241m=\u001b[39m \u001b[38;5;28mlen\u001b[39m(\u001b[38;5;28mself\u001b[39m\u001b[38;5;241m.\u001b[39mobj\u001b[38;5;241m.\u001b[39m_get_axis(axis))\n\u001b[0;32m   1684\u001b[0m \u001b[38;5;28;01mif\u001b[39;00m key \u001b[38;5;241m>\u001b[39m\u001b[38;5;241m=\u001b[39m len_axis \u001b[38;5;129;01mor\u001b[39;00m key \u001b[38;5;241m<\u001b[39m \u001b[38;5;241m-\u001b[39mlen_axis:\n\u001b[1;32m-> 1685\u001b[0m     \u001b[38;5;28;01mraise\u001b[39;00m \u001b[38;5;167;01mIndexError\u001b[39;00m(\u001b[38;5;124m\"\u001b[39m\u001b[38;5;124msingle positional indexer is out-of-bounds\u001b[39m\u001b[38;5;124m\"\u001b[39m)\n",
            "\u001b[1;31mIndexError\u001b[0m: single positional indexer is out-of-bounds"
          ]
        }
      ],
      "source": [
        "initial_investment_amount = 1e6\n",
        "\n",
        "returns = calculate_returns(initial_investment_amount, dataframes, allocations)\n",
        "\n",
        "graph_returns(returns, True, True)"
      ]
    },
    {
      "cell_type": "markdown",
      "id": "cdea0ef3",
      "metadata": {
        "id": "cdea0ef3"
      },
      "source": [
        "### 🧾 Portfolio Strength Breakdown\n",
        "**How do you know if your portfolio is actually working?**\n",
        "\n",
        "Think of your portfolio like a car — you wouldn’t drive it for miles without checking the engine, right? These metrics are your dashboard. They tell you whether you're cruising efficiently, burning too much fuel (aka risk), or heading toward a cliff. By regularly checking them, you’re not just investing — you’re investing intelligently. It's how you turn guessing into strategy.\n",
        "\n",
        "These [metrics from quantstats ](https://cubed.run/blog/quantstats-elevating-portfolio-analysis-for-quants) help you assess whether your portfolio is efficient, risky, or well-balanced — and give you data to improve it over time. We can write a function to return these values for us."
      ]
    },
    {
      "cell_type": "code",
      "execution_count": null,
      "id": "a486629e",
      "metadata": {
        "id": "a486629e"
      },
      "outputs": [],
      "source": [
        "def portfolio_stats(returns):\n",
        "    # Ensure datetime is clean\n",
        "    returns.set_index('Date', inplace=True)\n",
        "\n",
        "    # Daily returns from portfolio value\n",
        "    daily_returns = returns['Total'].pct_change().dropna()\n",
        "\n",
        "    # Grab specific stats\n",
        "    cagr = stats.cagr(daily_returns)\n",
        "    sharpe = stats.sharpe(daily_returns)\n",
        "    drawdown = stats.max_drawdown(daily_returns)\n",
        "    volatility = stats.volatility(daily_returns)\n",
        "    avg_return = stats.avg_return(daily_returns)\n",
        "\n",
        "    return {\"cagr\":cagr, \"sharpe\":sharpe, \"drawdown\":drawdown, \"volatility\":volatility, \"avg_return\":avg_return}\n"
      ]
    },
    {
      "cell_type": "markdown",
      "id": "eb8c5b3f",
      "metadata": {
        "id": "eb8c5b3f"
      },
      "source": [
        "Now that we've written a function for this, we can analyze the returns of our portfolio from above."
      ]
    },
    {
      "cell_type": "code",
      "execution_count": null,
      "id": "3dade3c9",
      "metadata": {
        "id": "3dade3c9"
      },
      "outputs": [],
      "source": [
        "portfolio_info = portfolio_stats(returns)"
      ]
    },
    {
      "cell_type": "markdown",
      "id": "749dfed2",
      "metadata": {
        "id": "749dfed2"
      },
      "source": [
        "#### Now let's analyze these metrics!"
      ]
    },
    {
      "cell_type": "markdown",
      "id": "aee6875c",
      "metadata": {
        "id": "aee6875c"
      },
      "source": [
        "**📈 CAGR (Compound Annual Growth Rate)**\n",
        "This shows the average annual growth of your portfolio over time. The higher, the better — it reflects long-term performance. A higher CAGR generally reflects strong long-term performance. For context, a CAGR of 10–15% is typically considered solid, especially when compared to market benchmarks like the S&P 500. [(Investopedia: CAGR)](https://www.investopedia.com/terms/c/cagr.asp#toc-what-is-a-good-cagr)"
      ]
    },
    {
      "cell_type": "code",
      "execution_count": null,
      "id": "7191e056",
      "metadata": {
        "id": "7191e056"
      },
      "outputs": [
        {
          "name": "stdout",
          "output_type": "stream",
          "text": [
            "📈 CAGR (Annual Return): 12.50%\n"
          ]
        }
      ],
      "source": [
        "print(f\"📈 CAGR (Annual Return): {portfolio_info['cagr']:.2%}\")"
      ]
    },
    {
      "cell_type": "markdown",
      "id": "228c466c",
      "metadata": {
        "id": "228c466c"
      },
      "source": [
        "**📊 Sharpe Ratio:**  \n",
        "Measures your return per unit of risk. A Sharpe ratio above 1.0 is generally considered good. It means you're getting rewarded well for the volatility you’re taking on. A value above 1.0 suggests you're earning a good return for the amount of risk taken, while a ratio above 2.0 is considered excellent. Anything below 1.0 may indicate that returns aren’t efficiently compensating for risk. Sharpe ratios above 1 are generally considered “good,\" offering excess returns relative to volatility. However, investors often compare the Sharpe ratio of a portfolio or fund with those of its peers or market sector. [(Investopedia: Sharpe Ratio)](https://www.investopedia.com/terms/s/sharperatio.asp#toc-what-the-sharpe-ratio-can-tell-you)"
      ]
    },
    {
      "cell_type": "code",
      "execution_count": null,
      "id": "a34f9a10",
      "metadata": {
        "id": "a34f9a10"
      },
      "outputs": [
        {
          "name": "stdout",
          "output_type": "stream",
          "text": [
            "📊 Sharpe Ratio: 0.93\n"
          ]
        }
      ],
      "source": [
        "print(f\"📊 Sharpe Ratio: {portfolio_info['sharpe']:.2f}\")"
      ]
    },
    {
      "cell_type": "markdown",
      "id": "6924e2ca",
      "metadata": {
        "id": "6924e2ca"
      },
      "source": [
        "**📉 Max Drawdown:**  \n",
        "The worst loss your portfolio experienced from peak to bottom. Lower drawdowns are better, as they reflect greater stability and less severe losses. A drawdown under 20% is generally seen as moderate, while anything over 30% may signal high risk or poor diversification. [(Investopedia: Max Drawdown)](https://www.investopedia.com/terms/d/drawdown.asp#toc-example-of-a-drawdown)"
      ]
    },
    {
      "cell_type": "code",
      "execution_count": null,
      "id": "d581e4a0",
      "metadata": {
        "id": "d581e4a0"
      },
      "outputs": [
        {
          "name": "stdout",
          "output_type": "stream",
          "text": [
            "📉 Max Drawdown: -32.34%\n"
          ]
        }
      ],
      "source": [
        "print(f\"📉 Max Drawdown: {portfolio_info['drawdown']:.2%}\")"
      ]
    },
    {
      "cell_type": "markdown",
      "id": "23049816",
      "metadata": {
        "id": "23049816"
      },
      "source": [
        "**📈 Volatility:**  \n",
        "Reflects how much your portfolio's value fluctuates. High volatility can mean high risk — or high opportunity. Higher volatility can mean bigger gains — but also bigger losses. For comparison, broad market indices tend to have volatility in the 15–20% range; values much higher than that could mean the portfolio is more aggressive or unstable. [(Investopedia: Volatility)](https://www.investopedia.com/terms/v/volatility.asp)"
      ]
    },
    {
      "cell_type": "code",
      "execution_count": null,
      "id": "bd0d1f84",
      "metadata": {
        "id": "bd0d1f84"
      },
      "outputs": [
        {
          "name": "stdout",
          "output_type": "stream",
          "text": [
            "📈 Volatility: 20.77%\n"
          ]
        }
      ],
      "source": [
        "print(f\"📈 Volatility: {portfolio_info['volatility']:.2%}\")"
      ]
    },
    {
      "cell_type": "markdown",
      "id": "1b5b7384",
      "metadata": {
        "id": "1b5b7384"
      },
      "source": [
        "**📅 Average Daily Return:**  \n",
        "The average return your portfolio gained (or lost) per trading day. Helps you see how it behaves short term. This captures how much the portfolio gains or loses on an average trading day. While daily gains may appear small in percentage terms, even modest positive averages can lead to significant annual growth through compounding. [(Investopedia: Average Return)](https://www.investopedia.com/terms/a/averagereturn.asp)"
      ]
    },
    {
      "cell_type": "code",
      "execution_count": null,
      "id": "48e75996",
      "metadata": {
        "id": "48e75996"
      },
      "outputs": [
        {
          "name": "stdout",
          "output_type": "stream",
          "text": [
            "📅 Average Daily Return: 0.0764%\n"
          ]
        }
      ],
      "source": [
        "print(f\"📅 Average Daily Return: {portfolio_info['avg_return']:.4%}\")"
      ]
    },
    {
      "cell_type": "markdown",
      "id": "b9d2b93f",
      "metadata": {
        "id": "b9d2b93f"
      },
      "source": [
        "### Monte Carlo Simulation\n",
        "\n",
        "Now we'll run a Monte Carlo simulation to try to estimate the predicted value of the stocks in future."
      ]
    },
    {
      "cell_type": "markdown",
      "id": "079acd29",
      "metadata": {
        "id": "079acd29"
      },
      "source": [
        "Monte Carlo simulations work by determining metrics of how \"random\" the motion of a given thing is, which for us will be stocks. It works by simulating lots, usually thousands, of random trials on randomly generated numbers modified to the distribution of a given stock. These simulations work by finding a daily return, done by determining the change in a stock from day to day and taking a natural logarithm. Then, we calculate the \"drift,\" or upward/downward tendency of a stock, using the equation $Drift = Average(Daily Return) - 0.5 * Variance(Daily Return)$, and a random input by using the equation $Random = StdDev(Daily Return) * random(0, 1)$, which multiplies standard deviation by a random value from 0 to 1. Finally, we sum together these two values we've calculated, and for any given day $S_i$ the price of a stock on that day of simulation is $S_i = S_{i-1} * e ^ {Drift + Random}$. [(Investopedia: Monte Carlo Simulation)](https://www.investopedia.com/terms/m/montecarlosimulation.asp) \n",
        "\n",
        "We will need to build up every piece of the simulation before we can put it all together and create a Monte Carlo simulation. Let's start by getting the data we'll need in a format that helps for this task."
      ]
    },
    {
      "cell_type": "code",
      "execution_count": null,
      "id": "aed0e8cb",
      "metadata": {
        "id": "aed0e8cb"
      },
      "outputs": [],
      "source": [
        "def import_stock_data(tickers, start = \"2015-01-01\"):\n",
        "    data = pd.DataFrame()\n",
        "    if len(tickers) == 1:\n",
        "        stock = yf.Ticker(tickers[0], session = session)\n",
        "        data[tickers[0]] = stock.history(interval = '1d', start = start)['Close']\n",
        "    else:\n",
        "        for x in tickers:\n",
        "            stock = yf.Ticker(x, session=session)\n",
        "            data[x] = stock.history(interval = '1d', start = start)['Close']\n",
        "    return data"
      ]
    },
    {
      "cell_type": "markdown",
      "id": "1e3b5eae",
      "metadata": {
        "id": "1e3b5eae"
      },
      "source": [
        "Next, for the data, we aren't incredibly concerned with the actual values of a stock over time when generating our $r$ factor. Our biggest concern is how the stock changes over time. For this, we will generate two models for change over time: one that is calculated as the logarithm of the percentage change for a given stock, and one that is simply the percentage change. The simple percentage change is an easier to understand model, but the logarithmic analysis of percentage change allows us to smooth the curve of values we get, which in turn helps us minimize divergence in our models."
      ]
    },
    {
      "cell_type": "code",
      "execution_count": null,
      "id": "8398971e",
      "metadata": {
        "id": "8398971e"
      },
      "outputs": [],
      "source": [
        "def log_returns(data):\n",
        "    return np.log(1 + data.pct_change().dropna())\n",
        "\n",
        "def simple_returns(data):\n",
        "    return (data/(data.shift(1))-1)"
      ]
    },
    {
      "cell_type": "markdown",
      "id": "22a1cbd7",
      "metadata": {
        "id": "22a1cbd7"
      },
      "source": [
        "Now that we have normalized returns for our dataset, we can use this normalized set of returns to calculate drift and volatility of a given stock. We can start with drift. Drift in a Monte Carlo simulation is the direction previous models have tended to go in, and it is given by $D = \\mu - \\frac{1}{2} \\sigma^2$, where $\\mu$ is the average value of your dataset, in this case our average daily return, and $\\sigma$ is the variance of our return. This value gives the intensity and direction the overall trend of a dataset should take."
      ]
    },
    {
      "cell_type": "code",
      "execution_count": null,
      "id": "ff20305e",
      "metadata": {
        "id": "ff20305e"
      },
      "outputs": [],
      "source": [
        "def drift_calc(data, return_type = \"log\"):\n",
        "    if return_type == \"log\":\n",
        "        lr = log_returns(data)\n",
        "    elif return_type == \"simple\":\n",
        "        lr = simple_returns(data)\n",
        "    u = lr.mean()\n",
        "    var = lr.var()\n",
        "    drift = u-(.5*var)\n",
        "    try:\n",
        "        return drift.values\n",
        "    except:\n",
        "        return drift"
      ]
    },
    {
      "cell_type": "markdown",
      "id": "4ec15870",
      "metadata": {
        "id": "4ec15870"
      },
      "source": [
        "Now, we are going to combine two steps, as they go very closely together. First, we are going to determine the volatility of our stock, which is given by $V = \\sigma [Rand(0:1)]$, where $\\sigma$ is the standard deviation of our dataset, and it is multipled with a random real number from 0 to 1. We will add this value to our drift, and that will be our $r$ value for a given day. To do this in python, we will create a matrix with a cell for every day and every iteration that initially has just a random number. We will multiply each cell by our standard deviation and then add our drift. After this, we will run an exponential calculation that determines $e^r$ if a cell's value is $r$. This matrix, which we will then return, is the $e^r$ multiplier for any given day in any iteration of a Monte Carlo simulation."
      ]
    },
    {
      "cell_type": "code",
      "execution_count": null,
      "id": "df944d17",
      "metadata": {
        "id": "df944d17"
      },
      "outputs": [],
      "source": [
        "def daily_returns(data, days, iterations):\n",
        "    ft = drift_calc(data)\n",
        "    try:\n",
        "        stv = log_returns(data).std().values\n",
        "    except:\n",
        "        stv = log_returns(data).std()\n",
        "\n",
        "    dr = np.exp(ft + stv * norm.ppf(np.random.rand(days, iterations)))\n",
        "    return dr"
      ]
    },
    {
      "cell_type": "markdown",
      "id": "1b03058e",
      "metadata": {
        "id": "1b03058e"
      },
      "source": [
        "Now, we will finally bring back the actual values from the dataset. For every initial day in the Monte Carlo simulation, we will use the closing value of the stock last day we pulled as our first day of Monte Carlo. From here, we will be able to iterate through the matrix, and in every iteration, we will be able to multiply the previous day with the given value from our daily returns matrix that we already generated. This will give us multiple Monte Carlo iterations that we can analyze to see how we can expect a stock to behave. Some important things for our simulation include expected value, calculated as the average of all iterations of our simulation on their last day, and return percentage, which is the percentage our investment would grow by had we invested in our stock on the first day of our Monte Carlo simulation."
      ]
    },
    {
      "cell_type": "code",
      "execution_count": null,
      "id": "a871fd16",
      "metadata": {
        "id": "a871fd16"
      },
      "outputs": [],
      "source": [
        "def simulate_mc(data, days, iterations):\n",
        "    # generate list of e^r multipliers, initialize the price list, run sim\n",
        "    returns = daily_returns(data, days, iterations)\n",
        "    price_list = np.zeros_like(returns)\n",
        "    price_list[0] = data.iloc[-1]\n",
        "    for t in range(1, days):\n",
        "        price_list[t] = price_list[t-1] * returns[t]\n",
        "\n",
        "    total_days = days - 1\n",
        "\n",
        "    # expected value is average of final value of stock over all simulations\n",
        "    expected_value = round(pd.DataFrame(price_list).iloc[-1].mean(), 2)\n",
        "    #return value is the total change in the stock from day 0 to n divided by the expected value\n",
        "    return_pct = round(100*(expected_value-price_list[0,1])/expected_value, 2)\n",
        "\n",
        "    avg_value = []\n",
        "    for i in range(0, days):\n",
        "        avg_value += [price_list[i].mean()]\n",
        "\n",
        "    return [total_days, expected_value, return_pct, avg_value]\n",
        "\n",
        "def monte_carlo(ticker, days, iterations):\n",
        "    df = import_stock_data([ticker])\n",
        "    return simulate_mc(df, days, iterations)"
      ]
    },
    {
      "cell_type": "markdown",
      "id": "99d90b68",
      "metadata": {
        "id": "99d90b68"
      },
      "source": [
        "Now that we have built our functions that run a Monte Carlo simulation, we will use them on our list of tickers. For every ticker in our portfolio, we will run the Monte Carlo simulation and add it to a DataFrame, allowing us to compile a DataFrame of potential stock futures to go along with the set of stock histories we have already pulled from yfinance. Alongside the dataframe creation, we also will generate a few key pieces of information that tell us about our simulation: total days in the simulation, the expected stock value at the end of simulation, and the return percentage from day 0 to day $n$."
      ]
    },
    {
      "cell_type": "code",
      "execution_count": null,
      "id": "38c6ae5d",
      "metadata": {
        "id": "38c6ae5d"
      },
      "outputs": [],
      "source": [
        "days = 50\n",
        "iters = 100\n",
        "\n",
        "mc_projections = pd.DataFrame()\n",
        "mc_data = []\n",
        "for x in portfolio:\n",
        "    mc = monte_carlo(x, days, iters)\n",
        "    mc_projections[x] = mc[3]\n",
        "    mc_data += [mc[0:2]]\n",
        "\n",
        "mc_projections['Total'] = mc_projections.sum(axis=1)"
      ]
    },
    {
      "cell_type": "markdown",
      "id": "91b9350d",
      "metadata": {},
      "source": [
        "We can then use that data to plot what expected values might look like, and print the average expected value to get an idea of what future values may look like."
      ]
    },
    {
      "cell_type": "code",
      "execution_count": null,
      "id": "71f4b6fb",
      "metadata": {},
      "outputs": [
        {
          "name": "stdout",
          "output_type": "stream",
          "text": [
            "Average Expected Value is 27530.74\n"
          ]
        },
        {
          "data": {
            "text/html": [
              "\n",
              "<style>\n",
              "  #altair-viz-541ca41787f349e7ae12cd58e618ceec.vega-embed {\n",
              "    width: 100%;\n",
              "    display: flex;\n",
              "  }\n",
              "\n",
              "  #altair-viz-541ca41787f349e7ae12cd58e618ceec.vega-embed details,\n",
              "  #altair-viz-541ca41787f349e7ae12cd58e618ceec.vega-embed details summary {\n",
              "    position: relative;\n",
              "  }\n",
              "</style>\n",
              "<div id=\"altair-viz-541ca41787f349e7ae12cd58e618ceec\"></div>\n",
              "<script type=\"text/javascript\">\n",
              "  var VEGA_DEBUG = (typeof VEGA_DEBUG == \"undefined\") ? {} : VEGA_DEBUG;\n",
              "  (function(spec, embedOpt){\n",
              "    let outputDiv = document.currentScript.previousElementSibling;\n",
              "    if (outputDiv.id !== \"altair-viz-541ca41787f349e7ae12cd58e618ceec\") {\n",
              "      outputDiv = document.getElementById(\"altair-viz-541ca41787f349e7ae12cd58e618ceec\");\n",
              "    }\n",
              "\n",
              "    const paths = {\n",
              "      \"vega\": \"https://cdn.jsdelivr.net/npm/vega@5?noext\",\n",
              "      \"vega-lib\": \"https://cdn.jsdelivr.net/npm/vega-lib?noext\",\n",
              "      \"vega-lite\": \"https://cdn.jsdelivr.net/npm/vega-lite@5.20.1?noext\",\n",
              "      \"vega-embed\": \"https://cdn.jsdelivr.net/npm/vega-embed@6?noext\",\n",
              "    };\n",
              "\n",
              "    function maybeLoadScript(lib, version) {\n",
              "      var key = `${lib.replace(\"-\", \"\")}_version`;\n",
              "      return (VEGA_DEBUG[key] == version) ?\n",
              "        Promise.resolve(paths[lib]) :\n",
              "        new Promise(function(resolve, reject) {\n",
              "          var s = document.createElement('script');\n",
              "          document.getElementsByTagName(\"head\")[0].appendChild(s);\n",
              "          s.async = true;\n",
              "          s.onload = () => {\n",
              "            VEGA_DEBUG[key] = version;\n",
              "            return resolve(paths[lib]);\n",
              "          };\n",
              "          s.onerror = () => reject(`Error loading script: ${paths[lib]}`);\n",
              "          s.src = paths[lib];\n",
              "        });\n",
              "    }\n",
              "\n",
              "    function showError(err) {\n",
              "      outputDiv.innerHTML = `<div class=\"error\" style=\"color:red;\">${err}</div>`;\n",
              "      throw err;\n",
              "    }\n",
              "\n",
              "    function displayChart(vegaEmbed) {\n",
              "      vegaEmbed(outputDiv, spec, embedOpt)\n",
              "        .catch(err => showError(`Javascript Error: ${err.message}<br>This usually means there's a typo in your chart specification. See the javascript console for the full traceback.`));\n",
              "    }\n",
              "\n",
              "    if(typeof define === \"function\" && define.amd) {\n",
              "      requirejs.config({paths});\n",
              "      let deps = [\"vega-embed\"];\n",
              "      require(deps, displayChart, err => showError(`Error loading script: ${err.message}`));\n",
              "    } else {\n",
              "      maybeLoadScript(\"vega\", \"5\")\n",
              "        .then(() => maybeLoadScript(\"vega-lite\", \"5.20.1\"))\n",
              "        .then(() => maybeLoadScript(\"vega-embed\", \"6\"))\n",
              "        .catch(showError)\n",
              "        .then(() => displayChart(vegaEmbed));\n",
              "    }\n",
              "  })({\"config\": {\"view\": {\"continuousWidth\": 300, \"continuousHeight\": 300}}, \"data\": {\"name\": \"data-403c3e2a91d7d8218e82c89d982fede2\"}, \"mark\": {\"type\": \"bar\"}, \"encoding\": {\"tooltip\": [{\"aggregate\": \"count\", \"title\": \"Frequency\", \"type\": \"quantitative\"}], \"x\": {\"bin\": {\"maxbins\": 12.5}, \"field\": \"Total\", \"title\": \"Total Value\", \"type\": \"quantitative\"}, \"y\": {\"aggregate\": \"count\", \"type\": \"quantitative\"}}, \"height\": 400, \"title\": \"Frequency of Total Values in Monte Carlo Projections\", \"width\": 600, \"$schema\": \"https://vega.github.io/schema/vega-lite/v5.20.1.json\", \"datasets\": {\"data-403c3e2a91d7d8218e82c89d982fede2\": [{\"index\": 0, \"Total\": 27029.78381538391}, {\"index\": 1, \"Total\": 27061.40443613282}, {\"index\": 2, \"Total\": 27073.708880866976}, {\"index\": 3, \"Total\": 27065.53451194511}, {\"index\": 4, \"Total\": 27066.174419135983}, {\"index\": 5, \"Total\": 27083.50171034506}, {\"index\": 6, \"Total\": 27172.15432908494}, {\"index\": 7, \"Total\": 27184.134978440285}, {\"index\": 8, \"Total\": 27227.963416086248}, {\"index\": 9, \"Total\": 27256.831455401887}, {\"index\": 10, \"Total\": 27280.0983509002}, {\"index\": 11, \"Total\": 27289.031290930765}, {\"index\": 12, \"Total\": 27343.31850135848}, {\"index\": 13, \"Total\": 27376.32563233187}, {\"index\": 14, \"Total\": 27387.59889372592}, {\"index\": 15, \"Total\": 27386.59429890241}, {\"index\": 16, \"Total\": 27392.493764300027}, {\"index\": 17, \"Total\": 27412.958797859374}, {\"index\": 18, \"Total\": 27391.720492674456}, {\"index\": 19, \"Total\": 27467.167409740265}, {\"index\": 20, \"Total\": 27448.82290472931}, {\"index\": 21, \"Total\": 27438.291707459302}, {\"index\": 22, \"Total\": 27432.756402063376}, {\"index\": 23, \"Total\": 27434.10875703435}, {\"index\": 24, \"Total\": 27442.214656726042}, {\"index\": 25, \"Total\": 27505.945143983754}, {\"index\": 26, \"Total\": 27496.92742167567}, {\"index\": 27, \"Total\": 27541.83068793974}, {\"index\": 28, \"Total\": 27603.16674951722}, {\"index\": 29, \"Total\": 27598.169927350365}, {\"index\": 30, \"Total\": 27555.785141412267}, {\"index\": 31, \"Total\": 27579.52975887632}, {\"index\": 32, \"Total\": 27637.18229878854}, {\"index\": 33, \"Total\": 27642.16557697654}, {\"index\": 34, \"Total\": 27650.438936418}, {\"index\": 35, \"Total\": 27673.35891746107}, {\"index\": 36, \"Total\": 27712.83669655184}, {\"index\": 37, \"Total\": 27766.98232881829}, {\"index\": 38, \"Total\": 27776.545736232514}, {\"index\": 39, \"Total\": 27803.212215633903}, {\"index\": 40, \"Total\": 27876.640488914934}, {\"index\": 41, \"Total\": 27952.28847417204}, {\"index\": 42, \"Total\": 27932.69906072209}, {\"index\": 43, \"Total\": 27957.793392313437}, {\"index\": 44, \"Total\": 27946.706870906644}, {\"index\": 45, \"Total\": 27962.05107188023}, {\"index\": 46, \"Total\": 27989.047080082717}, {\"index\": 47, \"Total\": 28024.921676281312}, {\"index\": 48, \"Total\": 28070.898290460394}, {\"index\": 49, \"Total\": 28135.42194395395}]}}, {\"mode\": \"vega-lite\"});\n",
              "</script>"
            ],
            "text/plain": [
              "alt.Chart(...)"
            ]
          },
          "metadata": {},
          "output_type": "display_data"
        }
      ],
      "source": [
        "total_occurrences = mc_projections['Total'].astype(float).reset_index()\n",
        "\n",
        "avg = mc_projections['Total'].mean()\n",
        "\n",
        "bar_plot = alt.Chart(total_occurrences).mark_bar().encode(\n",
        "    x=alt.X('Total:Q', title='Total Value').bin(maxbins=iters/8),\n",
        "    y='count()'\n",
        "    , tooltip=[alt.Tooltip('count()', title='Frequency')]\n",
        ").properties(\n",
        "    title='Frequency of Total Values in Monte Carlo Projections',\n",
        "    width=600, # because the auto-size is quite small\n",
        "    height=400\n",
        ")\n",
        "\n",
        "print(f\"Average Expected Value is {avg:.2f}\")\n",
        "\n",
        "bar_plot.display()"
      ]
    },
    {
      "cell_type": "markdown",
      "id": "de1c13c9",
      "metadata": {
        "id": "de1c13c9"
      },
      "source": [
        "### Optimizing a Stock Portfolio\n",
        "\n",
        "It's great that we can create a stock portfolio that we can work with, and we can even analyze how strong it is using quantstats! It would be even better if we could take the portfolio we made and see if we can change our investment amounts to maximize our returns. There are a couple steps to get it set up, but thankfully, scipy has a function that can maximize our returns given an initial investment percentage for each stock, and a history of each stock's percentage change in price. We utilized [this medium article](https://medium.com/@ethan.duong1120/python-powered-portfolio-optimization-achieving-target-returns-through-weight-optimization-fc5163e5c9c6) as our framework.\n",
        "\n",
        "First, we are going to create a sample version of our portfolio that pulls stock history for every ticker that we have selected, adding their opening price at every interval to the function and storing all of this in a dataframe. Then, we use the pct_change function to determine the change between each frame for each stock, allowing us to determine the most efficient investment of stocks."
      ]
    },
    {
      "cell_type": "code",
      "execution_count": 24,
      "id": "J4Nphx9rlmpv",
      "metadata": {
        "id": "J4Nphx9rlmpv"
      },
      "outputs": [
        {
          "name": "stderr",
          "output_type": "stream",
          "text": [
            "$AAPL: possibly delisted; no price data found  (1d 2015-01-01 -> 2025-04-01)\n",
            "$MSFT: possibly delisted; no price data found  (1d 2015-01-01 -> 2025-04-01)\n",
            "$^IXIC: possibly delisted; no price data found  (1d 2015-01-01 -> 2025-04-01)\n"
          ]
        },
        {
          "name": "stderr",
          "output_type": "stream",
          "text": [
            "$COST: possibly delisted; no price data found  (1d 2015-01-01 -> 2025-04-01)\n",
            "$WMT: possibly delisted; no price data found  (1d 2015-01-01 -> 2025-04-01)\n",
            "$AMZN: possibly delisted; no price data found  (1d 2015-01-01 -> 2025-04-01)\n",
            "$^GSPC: possibly delisted; no price data found  (1d 2015-01-01 -> 2025-04-01)\n",
            "$SBUX: possibly delisted; no price data found  (1d 2015-01-01 -> 2025-04-01)\n",
            "$TSN: possibly delisted; no price data found  (1d 2015-01-01 -> 2025-04-01)\n",
            "$INTC: possibly delisted; no price data found  (1d 2015-01-01 -> 2025-04-01)\n"
          ]
        }
      ],
      "source": [
        "## SOLUTION: Isabel's attempted code to fix the broken data insertion line below\n",
        "## the line below breaking in your portfolio optimization prep section:\n",
        "\n",
        "ticker = yf.Ticker(testList[0], session=session)\n",
        "data = ticker.history(interval='1d', start='2015-01-01', end='2025-04-01')\n",
        "df = data[['Open']].rename(columns={'Open': testList[0]})\n",
        "\n",
        "for x in testList[1:]:\n",
        "    ticker = yf.Ticker(x, session=session)\n",
        "    data = ticker.history(interval='1d', start='2015-01-01', end='2025-04-01')\n",
        "    if not data.empty:\n",
        "        df = df.join(data[['Open']].rename(columns={'Open': x}), how='outer')\n",
        "\n",
        "# drop rows with any missing values for stability\n",
        "returns_df = df.pct_change(1).dropna()\n",
        "\n"
      ]
    },
    {
      "cell_type": "code",
      "execution_count": null,
      "id": "4a74b215",
      "metadata": {
        "id": "4a74b215"
      },
      "outputs": [
        {
          "name": "stderr",
          "output_type": "stream",
          "text": [
            "$AAPL: possibly delisted; no price data found  (1d 2015-01-01 -> 2025-04-01)\n",
            "$MSFT: possibly delisted; no price data found  (1d 2015-01-01 -> 2025-04-01)\n",
            "$^IXIC: possibly delisted; no price data found  (1d 2015-01-01 -> 2025-04-01)\n",
            "$COST: possibly delisted; no price data found  (1d 2015-01-01 -> 2025-04-01)\n",
            "$WMT: possibly delisted; no price data found  (1d 2015-01-01 -> 2025-04-01)\n",
            "$AMZN: possibly delisted; no price data found  (1d 2015-01-01 -> 2025-04-01)\n",
            "$^GSPC: possibly delisted; no price data found  (1d 2015-01-01 -> 2025-04-01)\n",
            "$SBUX: possibly delisted; no price data found  (1d 2015-01-01 -> 2025-04-01)\n",
            "$TSN: possibly delisted; no price data found  (1d 2015-01-01 -> 2025-04-01)\n",
            "$INTC: possibly delisted; no price data found  (1d 2015-01-01 -> 2025-04-01)\n"
          ]
        }
      ],
      "source": [
        "## original code as of 5/8/25 1:30 PM\n",
        "\n",
        "testList = portfolio\n",
        "\n",
        "# pull the first stock's data; drop all unnecessary columns\n",
        "ticker = yf.Ticker(testList[0], session=session)\n",
        "df = ticker.history(interval = '1d', start = '2015-01-01', end = '2025-04-01')\n",
        "df.drop(columns=['High', 'Low', 'Close', 'Volume', 'Dividends', 'Stock Splits'], inplace=True)\n",
        "df.rename({'Open' : testList[0]}, inplace=True)\n",
        "\n",
        "# for every other ticker, add its open value to the existing dataframe\n",
        "for x in testList[1:]:\n",
        "    ticker = yf.Ticker(x, session=session)\n",
        "    data = ticker.history(interval = '1d', start = '2015-01-01', end = '2025-04-01')\n",
        "    df.insert(len(df.columns), x, data[\"Open\"]) # for whatever reason, this line wont work -> ## SEARCH UP \"SOLUTION: Isabel's attempted code to fix the broken data insertion line below\"\n",
        "\n",
        "#calculate percent returns for each day of each stock\n",
        "returns_df = df.pct_change(1).dropna()"
      ]
    },
    {
      "cell_type": "markdown",
      "id": "b62cd359",
      "metadata": {
        "id": "b62cd359"
      },
      "source": [
        "Now, we need to determine the value of each portfolio's return. This is simply the return of each stock multipled by its weight in the portfolio. Because it is this way for each stock, we can compute the return as a dot product of returns and weights, then multiply by 250 trading days in a year to annualize our result!"
      ]
    },
    {
      "cell_type": "code",
      "execution_count": null,
      "id": "bbc11ee0",
      "metadata": {
        "id": "bbc11ee0"
      },
      "outputs": [],
      "source": [
        "#operationalize determining portfolio returns\n",
        "def getPfReturn(weights):\n",
        "    \"\"\"\n",
        "    return is annualized expected return of portfolio\n",
        "    \"\"\"\n",
        "    expRetPortfolio = np.dot(np.transpose(weights), returns_df.mean()) * 250\n",
        "    return expRetPortfolio"
      ]
    },
    {
      "cell_type": "markdown",
      "id": "a62679e4",
      "metadata": {
        "id": "a62679e4"
      },
      "source": [
        "Now, we need to start bounding the function that will maximize our returns given an investment. We will use scipy's minimize function to do this. Despite its name, the minimize function works by minimizing the constraints that you give it, so minimizing the difference between our portfolio return and our target return will enable us to hit our target return, \"maximizing\" the output of our portfolio. If we want to truly maximize, we can continue pushing up this target return incrementally until we reach it!.\n",
        "\n",
        "First, we will start with initial weights of each stock in our portfolio. We can either use the weights we selected previously, or we can simply start with each stock having an equal weight in our portfolio. You can choose this by slightly modifying the code below.\n",
        "\n",
        "Now, we need to set our target return value, which we selected to arbitrarily be .2, or a 20% return. This can be modified however you wish, but do note that the minimize function will fail if maximizing to the given return percentage is impossible.\n",
        "\n",
        "Another important goal is to bound the weight of each stock in our portfolio between 0 and 1, or 0% and 100%. It doesn't make much sense to be able to buy more than a full portfolio of stocks! We do this by creating a tuple that has the same length as our number of stocks, and each element in the tuple is another tuple storing the values (0,1), bounding our stock weights in that range\n",
        "\n",
        "Finally, we want to create two constraints for the function. This is done using the syntax below. Our first constraint says that the sum of all weights should not exceed 1, or that our portfolio weights can't exceed 100%. We've done this already for individual stocks, but it's also important that we cant just spend 100% of our money in each stock. Finally, we also need to make sure that we \"minimize\" the difference between the returns for any set of portfolio weights the function generates and the target return we have set."
      ]
    },
    {
      "cell_type": "code",
      "execution_count": null,
      "id": "sHEcDDWBjKDW",
      "metadata": {
        "id": "sHEcDDWBjKDW"
      },
      "outputs": [],
      "source": [
        "custom_weights = True  # you change to False to use equal weights\n",
        "\n",
        "numStocks = len(returns_df.columns)\n",
        "\n",
        "if custom_weights and allocations:\n",
        "    try:\n",
        "        weight_list = [float(allocations[stock]) for stock in returns_df.columns]\n",
        "        total_weight = sum(weight_list)\n",
        "        initialWeight = [w / total_weight for w in weight_list]\n",
        "    except Exception as e:\n",
        "        print(\"Error with custom weights. Falling back to equal weights.\")\n",
        "        initialWeight = [1 / numStocks] * numStocks\n",
        "else:\n",
        "    initialWeight = [1 / numStocks] * numStocks\n",
        "\n",
        "    ## What I am trying to do is 1. Lets user control whether to use the user’s weights or equal weights.\n",
        "    ## 2. Normalizes the weights so they sum to 1, just in case they don't sum perfectly.\n",
        "    ## 3. Catch errors(like if the user forgets to fill in all weights).\n",
        "\n",
        "# Feel free to pick a different number!\n",
        "targetReturn = .2\n",
        "\n",
        "# bounds the percentage of each stock we can hold (between 0 and 100%)\n",
        "bounds = tuple((0,1) for i in range(numStocks))\n",
        "\n",
        "# ensures the sum of all stock weights is 100% (or 1) in first constraint\n",
        "# sets goal of minimize function to hit targetReturn\n",
        "constraints = ({'type' : 'eq', 'fun' : lambda w : np.sum(w) - 1},\n",
        "               {'type' : 'eq', 'fun' : lambda x : x.dot(returns_df.mean()) * 250 - targetReturn})"
      ]
    },
    {
      "cell_type": "markdown",
      "id": "4e8ba7f6",
      "metadata": {
        "id": "4e8ba7f6"
      },
      "source": [
        "Now that we have set all of our constraints, we need to use the maximize function! We set a variable called \"results\" equal to the minimize function with our function and all of the constraints. Through the magic of scipy, it will iterate on our weights, modifying them in an attempt to maximize the return of our portfolio. We can print results to see whether it was successful, as well as the weights of each stock in our portfolio. We can also see our returns by using our returns function on the 'x' field of our minimize output."
      ]
    },
    {
      "cell_type": "code",
      "execution_count": null,
      "id": "6a75a5ba",
      "metadata": {
        "id": "6a75a5ba"
      },
      "outputs": [
        {
          "name": "stdout",
          "output_type": "stream",
          "text": [
            "              0\n",
            "AAPL   0.139523\n",
            "MSFT   0.137852\n",
            "^IXIC  0.088155\n",
            "COST   0.125094\n",
            "WMT    0.088664\n",
            "AMZN   0.161632\n",
            "^GSPC  0.069746\n",
            "SBUX   0.084374\n",
            "TSN    0.068602\n",
            "INTC   0.036358\n"
          ]
        }
      ],
      "source": [
        "# can we reach our goal with these stocks??\n",
        "results = minimize(fun=getPfReturn, x0=initialWeight, bounds=bounds, constraints=constraints)\n",
        "\n",
        "#output\n",
        "# print(results)\n",
        "\n",
        "optimizedResults = pd.DataFrame(results['x'])\n",
        "\n",
        "# print our optimized results\n",
        "getPfReturn(weights=results[\"x\"])\n",
        "optimizedResults.index = portfolio\n",
        "\n",
        "print(optimizedResults)"
      ]
    },
    {
      "cell_type": "markdown",
      "id": "3555add1",
      "metadata": {
        "id": "3555add1"
      },
      "source": [
        "Now, we've successfully used scipy to maximize the results from our function! We can even extract the weights and use them to model a portfolio. Let's use some similar code to graph the returns of a portfolio based on an inital investment above, but using our new optimized weights!"
      ]
    },
    {
      "cell_type": "markdown",
      "id": "42ynhfBBocx7",
      "metadata": {
        "id": "42ynhfBBocx7"
      },
      "source": [
        "### Optimized Portfolio Visualization\n",
        "\n",
        "This chart shows how your portfolio performs after optimization — where the weights were adjusted to target a better return/risk profile. Each line represents an individual stock’s contribution to portfolio value over time.\n",
        "\n",
        "Compare this plot with the initial version to see if:\n",
        "  - Fewer stocks dominate the performance\n",
        "  - Fluctuations are smaller (less risk)\n",
        "  - The total trend is smoother or steeper\n",
        "\n",
        "Logic Check:\n",
        "A good optimization often leads to fewer volatile movements and better risk-adjusted growth."
      ]
    },
    {
      "cell_type": "code",
      "execution_count": null,
      "id": "9f881de1",
      "metadata": {
        "id": "9f881de1"
      },
      "outputs": [
        {
          "name": "stdout",
          "output_type": "stream",
          "text": [
            "     Date Initial Amounts  Ending Amounts Change in Value\n",
            "0    AAPL   139523.477177  1223156.343966  1083632.866789\n",
            "1    MSFT   137852.067872  1545085.590115  1407233.522243\n",
            "2   ^IXIC    88155.020951   354538.120033   266383.099082\n",
            "3    COST   125093.610761  1091882.299605   966788.688844\n",
            "4     WMT    88663.592015   364525.417141   275861.825125\n",
            "5    AMZN   161631.838181  2214710.335876  2053078.497695\n",
            "6   ^GSPC    69745.914266   199476.633827   129730.719561\n",
            "7    SBUX    84374.055933    219832.61434   135458.558407\n",
            "8     TSN    68602.196925   119121.395959    50519.199034\n",
            "9    INTC    36358.225918    29403.072136    -6955.153781\n",
            "10  Total       1000000.0  7361731.822999  6361731.822999\n"
          ]
        },
        {
          "data": {
            "text/html": [
              "\n",
              "<style>\n",
              "  #altair-viz-ca630196e5b647b28bbaaa85e351a562.vega-embed {\n",
              "    width: 100%;\n",
              "    display: flex;\n",
              "  }\n",
              "\n",
              "  #altair-viz-ca630196e5b647b28bbaaa85e351a562.vega-embed details,\n",
              "  #altair-viz-ca630196e5b647b28bbaaa85e351a562.vega-embed details summary {\n",
              "    position: relative;\n",
              "  }\n",
              "</style>\n",
              "<div id=\"altair-viz-ca630196e5b647b28bbaaa85e351a562\"></div>\n",
              "<script type=\"text/javascript\">\n",
              "  var VEGA_DEBUG = (typeof VEGA_DEBUG == \"undefined\") ? {} : VEGA_DEBUG;\n",
              "  (function(spec, embedOpt){\n",
              "    let outputDiv = document.currentScript.previousElementSibling;\n",
              "    if (outputDiv.id !== \"altair-viz-ca630196e5b647b28bbaaa85e351a562\") {\n",
              "      outputDiv = document.getElementById(\"altair-viz-ca630196e5b647b28bbaaa85e351a562\");\n",
              "    }\n",
              "\n",
              "    const paths = {\n",
              "      \"vega\": \"https://cdn.jsdelivr.net/npm/vega@5?noext\",\n",
              "      \"vega-lib\": \"https://cdn.jsdelivr.net/npm/vega-lib?noext\",\n",
              "      \"vega-lite\": \"https://cdn.jsdelivr.net/npm/vega-lite@5.20.1?noext\",\n",
              "      \"vega-embed\": \"https://cdn.jsdelivr.net/npm/vega-embed@6?noext\",\n",
              "    };\n",
              "\n",
              "    function maybeLoadScript(lib, version) {\n",
              "      var key = `${lib.replace(\"-\", \"\")}_version`;\n",
              "      return (VEGA_DEBUG[key] == version) ?\n",
              "        Promise.resolve(paths[lib]) :\n",
              "        new Promise(function(resolve, reject) {\n",
              "          var s = document.createElement('script');\n",
              "          document.getElementsByTagName(\"head\")[0].appendChild(s);\n",
              "          s.async = true;\n",
              "          s.onload = () => {\n",
              "            VEGA_DEBUG[key] = version;\n",
              "            return resolve(paths[lib]);\n",
              "          };\n",
              "          s.onerror = () => reject(`Error loading script: ${paths[lib]}`);\n",
              "          s.src = paths[lib];\n",
              "        });\n",
              "    }\n",
              "\n",
              "    function showError(err) {\n",
              "      outputDiv.innerHTML = `<div class=\"error\" style=\"color:red;\">${err}</div>`;\n",
              "      throw err;\n",
              "    }\n",
              "\n",
              "    function displayChart(vegaEmbed) {\n",
              "      vegaEmbed(outputDiv, spec, embedOpt)\n",
              "        .catch(err => showError(`Javascript Error: ${err.message}<br>This usually means there's a typo in your chart specification. See the javascript console for the full traceback.`));\n",
              "    }\n",
              "\n",
              "    if(typeof define === \"function\" && define.amd) {\n",
              "      requirejs.config({paths});\n",
              "      let deps = [\"vega-embed\"];\n",
              "      require(deps, displayChart, err => showError(`Error loading script: ${err.message}`));\n",
              "    } else {\n",
              "      maybeLoadScript(\"vega\", \"5\")\n",
              "        .then(() => maybeLoadScript(\"vega-lite\", \"5.20.1\"))\n",
              "        .then(() => maybeLoadScript(\"vega-embed\", \"6\"))\n",
              "        .catch(showError)\n",
              "        .then(() => displayChart(vegaEmbed));\n",
              "    }\n",
              "  })({\"config\": {\"view\": {\"continuousWidth\": 300, \"continuousHeight\": 300}}, \"layer\": [{\"mark\": {\"type\": \"line\"}, \"encoding\": {\"color\": {\"field\": \"Stock\", \"title\": \"Stock\", \"type\": \"nominal\"}, \"x\": {\"field\": \"Date\", \"title\": \"Date\", \"type\": \"temporal\"}, \"y\": {\"field\": \"Value\", \"title\": \"Portfolio Value\", \"type\": \"quantitative\"}}, \"name\": \"view_79\"}, {\"mark\": {\"type\": \"point\"}, \"encoding\": {\"color\": {\"field\": \"Stock\", \"title\": \"Stock\", \"type\": \"nominal\"}, \"opacity\": {\"condition\": [{\"param\": \"param_79\", \"value\": 1, \"empty\": false}], \"value\": 0}, \"x\": {\"field\": \"Date\", \"title\": \"Date\", \"type\": \"temporal\"}, \"y\": {\"field\": \"Value\", \"title\": \"Portfolio Value\", \"type\": \"quantitative\"}}}, {\"mark\": {\"type\": \"rule\", \"color\": \"gray\"}, \"encoding\": {\"opacity\": {\"condition\": [{\"param\": \"param_79\", \"value\": 0.3, \"empty\": false}], \"value\": 0}, \"tooltip\": [{\"field\": \"Date\", \"title\": \"Date\", \"type\": \"temporal\"}, {\"field\": \"AAPL\", \"format\": \".2f\", \"type\": \"quantitative\"}, {\"field\": \"MSFT\", \"format\": \".2f\", \"type\": \"quantitative\"}, {\"field\": \"^IXIC\", \"format\": \".2f\", \"type\": \"quantitative\"}, {\"field\": \"COST\", \"format\": \".2f\", \"type\": \"quantitative\"}, {\"field\": \"WMT\", \"format\": \".2f\", \"type\": \"quantitative\"}, {\"field\": \"AMZN\", \"format\": \".2f\", \"type\": \"quantitative\"}, {\"field\": \"^GSPC\", \"format\": \".2f\", \"type\": \"quantitative\"}, {\"field\": \"SBUX\", \"format\": \".2f\", \"type\": \"quantitative\"}, {\"field\": \"TSN\", \"format\": \".2f\", \"type\": \"quantitative\"}, {\"field\": \"INTC\", \"format\": \".2f\", \"type\": \"quantitative\"}], \"x\": {\"field\": \"Date\", \"type\": \"temporal\"}}, \"name\": \"view_80\", \"transform\": [{\"pivot\": \"Stock\", \"value\": \"Value\", \"groupby\": [\"Date\"]}]}], \"data\": {\"name\": \"data-d89f93630da666a67b897f2545dc2dac\"}, \"height\": 300, \"params\": [{\"name\": \"param_80\", \"select\": {\"type\": \"interval\", \"encodings\": [\"x\", \"y\"]}, \"bind\": \"scales\", \"views\": [\"view_79\"]}, {\"name\": \"param_79\", \"select\": {\"type\": \"point\", \"fields\": [\"Date\"], \"nearest\": true, \"on\": \"mouseover\"}, \"views\": [\"view_80\"]}], \"title\": \"Portfolio Value Over Time\", \"width\": 600, \"$schema\": \"https://vega.github.io/schema/vega-lite/v5.20.1.json\", \"datasets\": {\"data-d89f93630da666a67b897f2545dc2dac\": [{\"Date\": \"2015-01-31T00:00:00-05:00\", \"Stock\": \"AAPL\", \"Value\": 139523.47717746667}, {\"Date\": \"2015-02-28T00:00:00-05:00\", \"Stock\": \"AAPL\", \"Value\": 151391.80352599238}, {\"Date\": \"2015-03-31T00:00:00-04:00\", \"Stock\": \"AAPL\", \"Value\": 165390.69262583274}, {\"Date\": \"2015-04-30T00:00:00-04:00\", \"Stock\": \"AAPL\", \"Value\": 159189.70373516885}, {\"Date\": \"2015-05-31T00:00:00-04:00\", \"Stock\": \"AAPL\", \"Value\": 165211.32237152316}, {\"Date\": \"2015-06-30T00:00:00-04:00\", \"Stock\": \"AAPL\", \"Value\": 167947.07209961323}, {\"Date\": \"2015-07-31T00:00:00-04:00\", \"Stock\": \"AAPL\", \"Value\": 162878.02992651294}, {\"Date\": \"2015-08-31T00:00:00-04:00\", \"Stock\": \"AAPL\", \"Value\": 152379.72593270752}, {\"Date\": \"2015-09-30T00:00:00-04:00\", \"Stock\": \"AAPL\", \"Value\": 139215.19174313103}, {\"Date\": \"2015-10-31T00:00:00-04:00\", \"Stock\": \"AAPL\", \"Value\": 141619.0117262874}, {\"Date\": \"2015-11-30T00:00:00-05:00\", \"Stock\": \"AAPL\", \"Value\": 156610.63317369213}, {\"Date\": \"2015-12-31T00:00:00-05:00\", \"Stock\": \"AAPL\", \"Value\": 152296.99275878462}, {\"Date\": \"2016-01-31T00:00:00-05:00\", \"Stock\": \"AAPL\", \"Value\": 136735.0043619819}, {\"Date\": \"2016-02-29T00:00:00-05:00\", \"Stock\": \"AAPL\", \"Value\": 125157.65204336884}, {\"Date\": \"2016-03-31T00:00:00-04:00\", \"Stock\": \"AAPL\", \"Value\": 131187.10463805383}, {\"Date\": \"2016-04-30T00:00:00-04:00\", \"Stock\": \"AAPL\", \"Value\": 143531.998611126}, {\"Date\": \"2016-05-31T00:00:00-04:00\", \"Stock\": \"AAPL\", \"Value\": 122195.95561780318}, {\"Date\": \"2016-06-30T00:00:00-04:00\", \"Stock\": \"AAPL\", \"Value\": 129268.16832751795}, {\"Date\": \"2016-07-31T00:00:00-04:00\", \"Stock\": \"AAPL\", \"Value\": 125894.01125669638}, {\"Date\": \"2016-08-31T00:00:00-04:00\", \"Stock\": \"AAPL\", \"Value\": 139233.05097680792}, {\"Date\": \"2016-09-30T00:00:00-04:00\", \"Stock\": \"AAPL\", \"Value\": 140884.920526071}, {\"Date\": \"2016-10-31T00:00:00-04:00\", \"Stock\": \"AAPL\", \"Value\": 148527.79601298092}, {\"Date\": \"2016-11-30T00:00:00-05:00\", \"Stock\": \"AAPL\", \"Value\": 147168.14954432932}, {\"Date\": \"2016-12-31T00:00:00-05:00\", \"Stock\": \"AAPL\", \"Value\": 145270.17318104737}, {\"Date\": \"2017-01-31T00:00:00-05:00\", \"Stock\": \"AAPL\", \"Value\": 154106.59330682852}, {\"Date\": \"2017-02-28T00:00:00-05:00\", \"Stock\": \"AAPL\", \"Value\": 170824.1508186226}, {\"Date\": \"2017-03-31T00:00:00-04:00\", \"Stock\": \"AAPL\", \"Value\": 186276.03649197792}, {\"Date\": \"2017-04-30T00:00:00-04:00\", \"Stock\": \"AAPL\", \"Value\": 191486.2871335617}, {\"Date\": \"2017-05-31T00:00:00-04:00\", \"Stock\": \"AAPL\", \"Value\": 195323.9187097617}, {\"Date\": \"2017-06-30T00:00:00-04:00\", \"Stock\": \"AAPL\", \"Value\": 204961.24329156405}, {\"Date\": \"2017-07-31T00:00:00-04:00\", \"Stock\": \"AAPL\", \"Value\": 192009.0477207964}, {\"Date\": \"2017-08-31T00:00:00-04:00\", \"Stock\": \"AAPL\", \"Value\": 200773.1543850637}, {\"Date\": \"2017-09-30T00:00:00-04:00\", \"Stock\": \"AAPL\", \"Value\": 220367.8892251329}, {\"Date\": \"2017-10-31T00:00:00-04:00\", \"Stock\": \"AAPL\", \"Value\": 206612.44448913744}, {\"Date\": \"2017-11-30T00:00:00-05:00\", \"Stock\": \"AAPL\", \"Value\": 224182.7530175411}, {\"Date\": \"2017-12-31T00:00:00-05:00\", \"Stock\": \"AAPL\", \"Value\": 230596.84748796935}, {\"Date\": \"2018-01-31T00:00:00-05:00\", \"Stock\": \"AAPL\", \"Value\": 232228.08578753084}, {\"Date\": \"2018-02-28T00:00:00-05:00\", \"Stock\": \"AAPL\", \"Value\": 226188.48739506377}, {\"Date\": \"2018-03-31T00:00:00-04:00\", \"Stock\": \"AAPL\", \"Value\": 236883.86748466457}, {\"Date\": \"2018-04-30T00:00:00-04:00\", \"Stock\": \"AAPL\", \"Value\": 225621.68133581607}, {\"Date\": \"2018-05-31T00:00:00-04:00\", \"Stock\": \"AAPL\", \"Value\": 228897.48114239375}, {\"Date\": \"2018-06-30T00:00:00-04:00\", \"Stock\": \"AAPL\", \"Value\": 258506.0526538807}, {\"Date\": \"2018-07-31T00:00:00-04:00\", \"Stock\": \"AAPL\", \"Value\": 254348.00670366388}, {\"Date\": \"2018-08-31T00:00:00-04:00\", \"Stock\": \"AAPL\", \"Value\": 273806.6169307257}, {\"Date\": \"2018-09-30T00:00:00-04:00\", \"Stock\": \"AAPL\", \"Value\": 311393.37925884535}, {\"Date\": \"2018-10-31T00:00:00-04:00\", \"Stock\": \"AAPL\", \"Value\": 309893.4227616867}, {\"Date\": \"2018-11-30T00:00:00-05:00\", \"Stock\": \"AAPL\", \"Value\": 303020.79520575015}, {\"Date\": \"2018-12-31T00:00:00-05:00\", \"Stock\": \"AAPL\", \"Value\": 252901.23347047318}, {\"Date\": \"2019-01-31T00:00:00-05:00\", \"Stock\": \"AAPL\", \"Value\": 216092.21337752015}, {\"Date\": \"2019-02-28T00:00:00-05:00\", \"Stock\": \"AAPL\", \"Value\": 227860.1774067327}, {\"Date\": \"2019-03-31T00:00:00-04:00\", \"Stock\": \"AAPL\", \"Value\": 240449.7100114233}, {\"Date\": \"2019-04-30T00:00:00-04:00\", \"Stock\": \"AAPL\", \"Value\": 262808.48448225355}, {\"Date\": \"2019-05-31T00:00:00-04:00\", \"Stock\": \"AAPL\", \"Value\": 289303.7204306974}, {\"Date\": \"2019-06-30T00:00:00-04:00\", \"Stock\": \"AAPL\", \"Value\": 239071.809872032}, {\"Date\": \"2019-07-31T00:00:00-04:00\", \"Stock\": \"AAPL\", \"Value\": 278043.4407276524}, {\"Date\": \"2019-08-31T00:00:00-04:00\", \"Stock\": \"AAPL\", \"Value\": 287534.5387250057}, {\"Date\": \"2019-09-30T00:00:00-04:00\", \"Stock\": \"AAPL\", \"Value\": 284846.64736053563}, {\"Date\": \"2019-10-31T00:00:00-04:00\", \"Stock\": \"AAPL\", \"Value\": 311004.90257832484}, {\"Date\": \"2019-11-30T00:00:00-05:00\", \"Stock\": \"AAPL\", \"Value\": 354251.1793625607}, {\"Date\": \"2019-12-31T00:00:00-05:00\", \"Stock\": \"AAPL\", \"Value\": 366898.32169159065}, {\"Date\": \"2020-01-31T00:00:00-05:00\", \"Stock\": \"AAPL\", \"Value\": 417163.69366108376}, {\"Date\": \"2020-02-29T00:00:00-05:00\", \"Stock\": \"AAPL\", \"Value\": 428705.49186111917}, {\"Date\": \"2020-03-31T00:00:00-04:00\", \"Stock\": \"AAPL\", \"Value\": 416009.5269889823}, {\"Date\": \"2020-04-30T00:00:00-04:00\", \"Stock\": \"AAPL\", \"Value\": 335399.98029904504}, {\"Date\": \"2020-05-31T00:00:00-04:00\", \"Stock\": \"AAPL\", \"Value\": 402449.39433858474}, {\"Date\": \"2020-06-30T00:00:00-04:00\", \"Stock\": \"AAPL\", \"Value\": 449299.2700417575}, {\"Date\": \"2020-07-31T00:00:00-04:00\", \"Stock\": \"AAPL\", \"Value\": 508293.90673497046}, {\"Date\": \"2020-08-31T00:00:00-04:00\", \"Stock\": \"AAPL\", \"Value\": 608302.5474818266}, {\"Date\": \"2020-09-30T00:00:00-04:00\", \"Stock\": \"AAPL\", \"Value\": 750606.6306466922}, {\"Date\": \"2020-10-31T00:00:00-04:00\", \"Stock\": \"AAPL\", \"Value\": 653326.4425422641}, {\"Date\": \"2020-11-30T00:00:00-05:00\", \"Stock\": \"AAPL\", \"Value\": 608462.2944922617}, {\"Date\": \"2020-12-31T00:00:00-05:00\", \"Stock\": \"AAPL\", \"Value\": 687683.400807963}, {\"Date\": \"2021-01-31T00:00:00-05:00\", \"Stock\": \"AAPL\", \"Value\": 725172.1016996356}, {\"Date\": \"2021-02-28T00:00:00-05:00\", \"Stock\": \"AAPL\", \"Value\": 751677.3081405003}, {\"Date\": \"2021-03-31T00:00:00-04:00\", \"Stock\": \"AAPL\", \"Value\": 717164.196624272}, {\"Date\": \"2021-04-30T00:00:00-04:00\", \"Stock\": \"AAPL\", \"Value\": 690282.4342674515}, {\"Date\": \"2021-05-31T00:00:00-04:00\", \"Stock\": \"AAPL\", \"Value\": 743821.5242923576}, {\"Date\": \"2021-06-30T00:00:00-04:00\", \"Stock\": \"AAPL\", \"Value\": 698650.5042074946}, {\"Date\": \"2021-07-31T00:00:00-04:00\", \"Stock\": \"AAPL\", \"Value\": 771675.004266563}, {\"Date\": \"2021-08-31T00:00:00-04:00\", \"Stock\": \"AAPL\", \"Value\": 818053.0017636025}, {\"Date\": \"2021-09-30T00:00:00-04:00\", \"Stock\": \"AAPL\", \"Value\": 858632.2485213566}, {\"Date\": \"2021-10-31T00:00:00-04:00\", \"Stock\": \"AAPL\", \"Value\": 803120.3157873317}, {\"Date\": \"2021-11-30T00:00:00-05:00\", \"Stock\": \"AAPL\", \"Value\": 838645.947243775}, {\"Date\": \"2021-12-31T00:00:00-05:00\", \"Stock\": \"AAPL\", \"Value\": 929010.2511943791}, {\"Date\": \"2022-01-31T00:00:00-05:00\", \"Stock\": \"AAPL\", \"Value\": 1026213.0419818172}, {\"Date\": \"2022-02-28T00:00:00-05:00\", \"Stock\": \"AAPL\", \"Value\": 984490.1906999766}, {\"Date\": \"2022-03-31T00:00:00-04:00\", \"Stock\": \"AAPL\", \"Value\": 921330.4739289271}, {\"Date\": \"2022-04-30T00:00:00-04:00\", \"Stock\": \"AAPL\", \"Value\": 984051.1384227368}, {\"Date\": \"2022-05-31T00:00:00-04:00\", \"Stock\": \"AAPL\", \"Value\": 891748.6583982002}, {\"Date\": \"2022-06-30T00:00:00-04:00\", \"Stock\": \"AAPL\", \"Value\": 840761.9706066913}, {\"Date\": \"2022-07-31T00:00:00-04:00\", \"Stock\": \"AAPL\", \"Value\": 785468.818963501}, {\"Date\": \"2022-08-31T00:00:00-04:00\", \"Stock\": \"AAPL\", \"Value\": 913129.3385191301}, {\"Date\": \"2022-09-30T00:00:00-04:00\", \"Stock\": \"AAPL\", \"Value\": 894299.2637516446}, {\"Date\": \"2022-10-31T00:00:00-04:00\", \"Stock\": \"AAPL\", \"Value\": 806488.5453456262}, {\"Date\": \"2022-11-30T00:00:00-05:00\", \"Stock\": \"AAPL\", \"Value\": 852913.2617214378}, {\"Date\": \"2022-12-31T00:00:00-05:00\", \"Stock\": \"AAPL\", \"Value\": 841058.0613618353}, {\"Date\": \"2023-01-31T00:00:00-05:00\", \"Stock\": \"AAPL\", \"Value\": 709265.3753099432}, {\"Date\": \"2023-02-28T00:00:00-05:00\", \"Stock\": \"AAPL\", \"Value\": 824725.7373813788}, {\"Date\": \"2023-03-31T00:00:00-04:00\", \"Stock\": \"AAPL\", \"Value\": 825303.4561993639}, {\"Date\": \"2023-04-30T00:00:00-04:00\", \"Stock\": \"AAPL\", \"Value\": 943779.990837372}, {\"Date\": \"2023-05-31T00:00:00-04:00\", \"Stock\": \"AAPL\", \"Value\": 963204.2631268001}, {\"Date\": \"2023-06-30T00:00:00-04:00\", \"Stock\": \"AAPL\", \"Value\": 1024255.0564020638}, {\"Date\": \"2023-07-31T00:00:00-04:00\", \"Stock\": \"AAPL\", \"Value\": 1094608.954587915}, {\"Date\": \"2023-08-31T00:00:00-04:00\", \"Stock\": \"AAPL\", \"Value\": 1112524.373633101}, {\"Date\": \"2023-09-30T00:00:00-04:00\", \"Stock\": \"AAPL\", \"Value\": 1079001.5182762095}, {\"Date\": \"2023-10-31T00:00:00-04:00\", \"Stock\": \"AAPL\", \"Value\": 989530.9210572358}, {\"Date\": \"2023-11-30T00:00:00-05:00\", \"Stock\": \"AAPL\", \"Value\": 990783.7408213784}, {\"Date\": \"2023-12-31T00:00:00-05:00\", \"Stock\": \"AAPL\", \"Value\": 1090573.7757827612}, {\"Date\": \"2024-01-31T00:00:00-05:00\", \"Stock\": \"AAPL\", \"Value\": 1058639.0116933943}, {\"Date\": \"2024-02-29T00:00:00-05:00\", \"Stock\": \"AAPL\", \"Value\": 1065596.2679124724}, {\"Date\": \"2024-03-31T00:00:00-04:00\", \"Stock\": \"AAPL\", \"Value\": 1025844.5501124787}, {\"Date\": \"2024-04-30T00:00:00-04:00\", \"Stock\": \"AAPL\", \"Value\": 970858.0075461072}, {\"Date\": \"2024-05-31T00:00:00-04:00\", \"Stock\": \"AAPL\", \"Value\": 966689.6843190872}, {\"Date\": \"2024-06-30T00:00:00-04:00\", \"Stock\": \"AAPL\", \"Value\": 1109398.8543474514}, {\"Date\": \"2024-07-31T00:00:00-04:00\", \"Stock\": \"AAPL\", \"Value\": 1239304.1590538316}, {\"Date\": \"2024-08-31T00:00:00-04:00\", \"Stock\": \"AAPL\", \"Value\": 1248509.5312255246}, {\"Date\": \"2024-09-30T00:00:00-04:00\", \"Stock\": \"AAPL\", \"Value\": 1275198.8959483777}, {\"Date\": \"2024-10-31T00:00:00-04:00\", \"Stock\": \"AAPL\", \"Value\": 1294890.3336083442}, {\"Date\": \"2024-11-30T00:00:00-05:00\", \"Stock\": \"AAPL\", \"Value\": 1276000.3044073125}, {\"Date\": \"2024-12-31T00:00:00-05:00\", \"Stock\": \"AAPL\", \"Value\": 1372990.1868335176}, {\"Date\": \"2025-01-31T00:00:00-05:00\", \"Stock\": \"AAPL\", \"Value\": 1397402.597871831}, {\"Date\": \"2025-02-28T00:00:00-05:00\", \"Stock\": \"AAPL\", \"Value\": 1306630.0953875664}, {\"Date\": \"2025-03-31T00:00:00-04:00\", \"Stock\": \"AAPL\", \"Value\": 1365550.2273022498}, {\"Date\": \"2025-04-30T00:00:00-04:00\", \"Stock\": \"AAPL\", \"Value\": 1280414.9316668827}, {\"Date\": \"2025-05-31T00:00:00-04:00\", \"Stock\": \"AAPL\", \"Value\": 1223791.9135532824}, {\"Date\": \"2015-01-31T00:00:00-05:00\", \"Stock\": \"MSFT\", \"Value\": 137852.06787190135}, {\"Date\": \"2015-02-28T00:00:00-05:00\", \"Stock\": \"MSFT\", \"Value\": 121696.57089918815}, {\"Date\": \"2015-03-31T00:00:00-04:00\", \"Stock\": \"MSFT\", \"Value\": 130282.22277602539}, {\"Date\": \"2015-04-30T00:00:00-04:00\", \"Stock\": \"MSFT\", \"Value\": 120900.00893961928}, {\"Date\": \"2015-05-31T00:00:00-04:00\", \"Stock\": \"MSFT\", \"Value\": 144474.30606332148}, {\"Date\": \"2015-06-30T00:00:00-04:00\", \"Stock\": \"MSFT\", \"Value\": 141139.9134480843}, {\"Date\": \"2015-07-31T00:00:00-04:00\", \"Stock\": \"MSFT\", \"Value\": 132832.28400412068}, {\"Date\": \"2015-08-31T00:00:00-04:00\", \"Stock\": \"MSFT\", \"Value\": 139884.8100059577}, {\"Date\": \"2015-09-30T00:00:00-04:00\", \"Stock\": \"MSFT\", \"Value\": 125797.02778051746}, {\"Date\": \"2015-10-31T00:00:00-04:00\", \"Stock\": \"MSFT\", \"Value\": 134189.54947022165}, {\"Date\": \"2015-11-30T00:00:00-05:00\", \"Stock\": \"MSFT\", \"Value\": 160149.09692168597}, {\"Date\": \"2015-12-31T00:00:00-05:00\", \"Stock\": \"MSFT\", \"Value\": 167224.64054588022}, {\"Date\": \"2016-01-31T00:00:00-05:00\", \"Stock\": \"MSFT\", \"Value\": 165952.67413640523}, {\"Date\": \"2016-02-29T00:00:00-05:00\", \"Stock\": \"MSFT\", \"Value\": 165680.17645781464}, {\"Date\": \"2016-03-31T00:00:00-04:00\", \"Stock\": \"MSFT\", \"Value\": 160373.05287559048}, {\"Date\": \"2016-04-30T00:00:00-04:00\", \"Stock\": \"MSFT\", \"Value\": 169492.74246156533}, {\"Date\": \"2016-05-31T00:00:00-04:00\", \"Stock\": \"MSFT\", \"Value\": 154364.44297460592}, {\"Date\": \"2016-06-30T00:00:00-04:00\", \"Stock\": \"MSFT\", \"Value\": 162324.01289874013}, {\"Date\": \"2016-07-31T00:00:00-04:00\", \"Stock\": \"MSFT\", \"Value\": 157133.3815820035}, {\"Date\": \"2016-08-31T00:00:00-04:00\", \"Stock\": \"MSFT\", \"Value\": 173780.3848419274}, {\"Date\": \"2016-09-30T00:00:00-04:00\", \"Stock\": \"MSFT\", \"Value\": 177984.998432863}, {\"Date\": \"2016-10-31T00:00:00-04:00\", \"Stock\": \"MSFT\", \"Value\": 177459.59561284227}, {\"Date\": \"2016-11-30T00:00:00-05:00\", \"Stock\": \"MSFT\", \"Value\": 184815.11698674658}, {\"Date\": \"2016-12-31T00:00:00-05:00\", \"Stock\": \"MSFT\", \"Value\": 184196.83005552602}, {\"Date\": \"2017-01-31T00:00:00-05:00\", \"Stock\": \"MSFT\", \"Value\": 194713.44260746712}, {\"Date\": \"2017-02-28T00:00:00-05:00\", \"Stock\": \"MSFT\", \"Value\": 197824.9159804111}, {\"Date\": \"2017-03-31T00:00:00-04:00\", \"Stock\": \"MSFT\", \"Value\": 203281.3785263897}, {\"Date\": \"2017-04-30T00:00:00-04:00\", \"Stock\": \"MSFT\", \"Value\": 205190.8438392238}, {\"Date\": \"2017-05-31T00:00:00-04:00\", \"Stock\": \"MSFT\", \"Value\": 217273.82265238563}, {\"Date\": \"2017-06-30T00:00:00-04:00\", \"Stock\": \"MSFT\", \"Value\": 220691.49339275336}, {\"Date\": \"2017-07-31T00:00:00-04:00\", \"Stock\": \"MSFT\", \"Value\": 214615.39225357995}, {\"Date\": \"2017-08-31T00:00:00-04:00\", \"Stock\": \"MSFT\", \"Value\": 228499.06039798004}, {\"Date\": \"2017-09-30T00:00:00-04:00\", \"Stock\": \"MSFT\", \"Value\": 234020.90139012955}, {\"Date\": \"2017-10-31T00:00:00-04:00\", \"Stock\": \"MSFT\", \"Value\": 236141.4359378517}, {\"Date\": \"2017-11-30T00:00:00-05:00\", \"Stock\": \"MSFT\", \"Value\": 263265.5910938284}, {\"Date\": \"2017-12-31T00:00:00-05:00\", \"Stock\": \"MSFT\", \"Value\": 268023.1787844725}, {\"Date\": \"2018-01-31T00:00:00-05:00\", \"Stock\": \"MSFT\", \"Value\": 273398.9090540876}, {\"Date\": \"2018-02-28T00:00:00-05:00\", \"Stock\": \"MSFT\", \"Value\": 299832.22058898443}, {\"Date\": \"2018-03-31T00:00:00-04:00\", \"Stock\": \"MSFT\", \"Value\": 296734.57878614566}, {\"Date\": \"2018-04-30T00:00:00-04:00\", \"Stock\": \"MSFT\", \"Value\": 282896.4734609156}, {\"Date\": \"2018-05-31T00:00:00-04:00\", \"Stock\": \"MSFT\", \"Value\": 303605.562149619}, {\"Date\": \"2018-06-30T00:00:00-04:00\", \"Stock\": \"MSFT\", \"Value\": 323505.6483394179}, {\"Date\": \"2018-07-31T00:00:00-04:00\", \"Stock\": \"MSFT\", \"Value\": 321002.1341503768}, {\"Date\": \"2018-08-31T00:00:00-04:00\", \"Stock\": \"MSFT\", \"Value\": 341126.96366998745}, {\"Date\": \"2018-09-30T00:00:00-04:00\", \"Stock\": \"MSFT\", \"Value\": 359935.4581477458}, {\"Date\": \"2018-10-31T00:00:00-04:00\", \"Stock\": \"MSFT\", \"Value\": 372501.42646538763}, {\"Date\": \"2018-11-30T00:00:00-05:00\", \"Stock\": \"MSFT\", \"Value\": 341279.8195794613}, {\"Date\": \"2018-12-31T00:00:00-05:00\", \"Stock\": \"MSFT\", \"Value\": 362720.0392898355}, {\"Date\": \"2019-01-31T00:00:00-05:00\", \"Stock\": \"MSFT\", \"Value\": 327221.4852129547}, {\"Date\": \"2019-02-28T00:00:00-05:00\", \"Stock\": \"MSFT\", \"Value\": 332593.226111306}, {\"Date\": \"2019-03-31T00:00:00-04:00\", \"Stock\": \"MSFT\", \"Value\": 365699.04978930525}, {\"Date\": \"2019-04-30T00:00:00-04:00\", \"Stock\": \"MSFT\", \"Value\": 386790.22575996583}, {\"Date\": \"2019-05-31T00:00:00-04:00\", \"Stock\": \"MSFT\", \"Value\": 415583.3291349549}, {\"Date\": \"2019-06-30T00:00:00-04:00\", \"Stock\": \"MSFT\", \"Value\": 390896.6535752589}, {\"Date\": \"2019-07-31T00:00:00-04:00\", \"Stock\": \"MSFT\", \"Value\": 442563.89317130053}, {\"Date\": \"2019-08-31T00:00:00-04:00\", \"Stock\": \"MSFT\", \"Value\": 450326.9996836274}, {\"Date\": \"2019-09-30T00:00:00-04:00\", \"Stock\": \"MSFT\", \"Value\": 445215.7227354165}, {\"Date\": \"2019-10-31T00:00:00-04:00\", \"Stock\": \"MSFT\", \"Value\": 448586.68896154856}, {\"Date\": \"2019-11-30T00:00:00-05:00\", \"Stock\": \"MSFT\", \"Value\": 470349.91651496774}, {\"Date\": \"2019-12-31T00:00:00-05:00\", \"Stock\": \"MSFT\", \"Value\": 491095.1720036805}, {\"Date\": \"2020-01-31T00:00:00-05:00\", \"Stock\": \"MSFT\", \"Value\": 527447.0578430477}, {\"Date\": \"2020-02-29T00:00:00-05:00\", \"Stock\": \"MSFT\", \"Value\": 572632.4090031484}, {\"Date\": \"2020-03-31T00:00:00-04:00\", \"Stock\": \"MSFT\", \"Value\": 568960.9276390569}, {\"Date\": \"2020-04-30T00:00:00-04:00\", \"Stock\": \"MSFT\", \"Value\": 500866.0345879382}, {\"Date\": \"2020-05-31T00:00:00-04:00\", \"Stock\": \"MSFT\", \"Value\": 574822.2063848507}, {\"Date\": \"2020-06-30T00:00:00-04:00\", \"Stock\": \"MSFT\", \"Value\": 603697.2231000642}, {\"Date\": \"2020-07-31T00:00:00-04:00\", \"Stock\": \"MSFT\", \"Value\": 675910.9845058118}, {\"Date\": \"2020-08-31T00:00:00-04:00\", \"Stock\": \"MSFT\", \"Value\": 715006.1929897253}, {\"Date\": \"2020-09-30T00:00:00-04:00\", \"Stock\": \"MSFT\", \"Value\": 752250.3856989911}, {\"Date\": \"2020-10-31T00:00:00-04:00\", \"Stock\": \"MSFT\", \"Value\": 703229.9889529858}, {\"Date\": \"2020-11-30T00:00:00-05:00\", \"Stock\": \"MSFT\", \"Value\": 669700.2683323509}, {\"Date\": \"2020-12-31T00:00:00-05:00\", \"Stock\": \"MSFT\", \"Value\": 717515.9274484342}, {\"Date\": \"2021-01-31T00:00:00-05:00\", \"Stock\": \"MSFT\", \"Value\": 722427.368391368}, {\"Date\": \"2021-02-28T00:00:00-05:00\", \"Stock\": \"MSFT\", \"Value\": 795304.1003110765}, {\"Date\": \"2021-03-31T00:00:00-04:00\", \"Stock\": \"MSFT\", \"Value\": 788121.7622679863}, {\"Date\": \"2021-04-30T00:00:00-04:00\", \"Stock\": \"MSFT\", \"Value\": 806116.7662041686}, {\"Date\": \"2021-05-31T00:00:00-04:00\", \"Stock\": \"MSFT\", \"Value\": 837749.4358054415}, {\"Date\": \"2021-06-30T00:00:00-04:00\", \"Stock\": \"MSFT\", \"Value\": 824814.3719083132}, {\"Date\": \"2021-07-31T00:00:00-04:00\", \"Stock\": \"MSFT\", \"Value\": 905495.521329619}, {\"Date\": \"2021-08-31T00:00:00-04:00\", \"Stock\": \"MSFT\", \"Value\": 949570.3050183128}, {\"Date\": \"2021-09-30T00:00:00-04:00\", \"Stock\": \"MSFT\", \"Value\": 1008206.8187369242}, {\"Date\": \"2021-10-31T00:00:00-04:00\", \"Stock\": \"MSFT\", \"Value\": 965684.635354005}, {\"Date\": \"2021-11-30T00:00:00-05:00\", \"Stock\": \"MSFT\", \"Value\": 1100198.7805420181}, {\"Date\": \"2021-12-31T00:00:00-05:00\", \"Stock\": \"MSFT\", \"Value\": 1104587.5088659478}, {\"Date\": \"2022-01-31T00:00:00-05:00\", \"Stock\": \"MSFT\", \"Value\": 1120215.3458743726}, {\"Date\": \"2022-02-28T00:00:00-05:00\", \"Stock\": \"MSFT\", \"Value\": 1033241.908135608}, {\"Date\": \"2022-03-31T00:00:00-04:00\", \"Stock\": \"MSFT\", \"Value\": 989068.6499667723}, {\"Date\": \"2022-04-30T00:00:00-04:00\", \"Stock\": \"MSFT\", \"Value\": 1037591.6875979889}, {\"Date\": \"2022-05-31T00:00:00-04:00\", \"Stock\": \"MSFT\", \"Value\": 953925.7535872266}, {\"Date\": \"2022-06-30T00:00:00-04:00\", \"Stock\": \"MSFT\", \"Value\": 915645.4266756589}, {\"Date\": \"2022-07-31T00:00:00-04:00\", \"Stock\": \"MSFT\", \"Value\": 872488.3033610794}, {\"Date\": \"2022-08-31T00:00:00-04:00\", \"Stock\": \"MSFT\", \"Value\": 934434.4204767793}, {\"Date\": \"2022-09-30T00:00:00-04:00\", \"Stock\": \"MSFT\", \"Value\": 877102.3261779562}, {\"Date\": \"2022-10-31T00:00:00-04:00\", \"Stock\": \"MSFT\", \"Value\": 810881.7552283414}, {\"Date\": \"2022-11-30T00:00:00-05:00\", \"Stock\": \"MSFT\", \"Value\": 768542.4005311013}, {\"Date\": \"2022-12-31T00:00:00-05:00\", \"Stock\": \"MSFT\", \"Value\": 860286.9688261161}, {\"Date\": \"2023-01-31T00:00:00-05:00\", \"Stock\": \"MSFT\", \"Value\": 809248.6851048393}, {\"Date\": \"2023-02-28T00:00:00-05:00\", \"Stock\": \"MSFT\", \"Value\": 853734.0590833351}, {\"Date\": \"2023-03-31T00:00:00-04:00\", \"Stock\": \"MSFT\", \"Value\": 833929.5603286845}, {\"Date\": \"2023-04-30T00:00:00-04:00\", \"Stock\": \"MSFT\", \"Value\": 972629.8157738112}, {\"Date\": \"2023-05-31T00:00:00-04:00\", \"Stock\": \"MSFT\", \"Value\": 1034699.8133655958}, {\"Date\": \"2023-06-30T00:00:00-04:00\", \"Stock\": \"MSFT\", \"Value\": 1128657.9053029867}, {\"Date\": \"2023-07-31T00:00:00-04:00\", \"Stock\": \"MSFT\", \"Value\": 1147017.7267428928}, {\"Date\": \"2023-08-31T00:00:00-04:00\", \"Stock\": \"MSFT\", \"Value\": 1141418.0142735096}, {\"Date\": \"2023-09-30T00:00:00-04:00\", \"Stock\": \"MSFT\", \"Value\": 1117716.3197280033}, {\"Date\": \"2023-10-31T00:00:00-04:00\", \"Stock\": \"MSFT\", \"Value\": 1094386.7915280224}, {\"Date\": \"2023-11-30T00:00:00-05:00\", \"Stock\": \"MSFT\", \"Value\": 1176924.78330569}, {\"Date\": \"2023-12-31T00:00:00-05:00\", \"Stock\": \"MSFT\", \"Value\": 1276229.4726041253}, {\"Date\": \"2024-01-31T00:00:00-05:00\", \"Stock\": \"MSFT\", \"Value\": 1263825.3625271642}, {\"Date\": \"2024-02-29T00:00:00-05:00\", \"Stock\": \"MSFT\", \"Value\": 1375973.727625752}, {\"Date\": \"2024-03-31T00:00:00-04:00\", \"Stock\": \"MSFT\", \"Value\": 1418530.6605320475}, {\"Date\": \"2024-04-30T00:00:00-04:00\", \"Stock\": \"MSFT\", \"Value\": 1449495.9503142787}, {\"Date\": \"2024-05-31T00:00:00-04:00\", \"Stock\": \"MSFT\", \"Value\": 1348338.1980638367}, {\"Date\": \"2024-06-30T00:00:00-04:00\", \"Stock\": \"MSFT\", \"Value\": 1414317.2545768137}, {\"Date\": \"2024-07-31T00:00:00-04:00\", \"Stock\": \"MSFT\", \"Value\": 1562103.8279923766}, {\"Date\": \"2024-08-31T00:00:00-04:00\", \"Stock\": \"MSFT\", \"Value\": 1426595.8044424213}, {\"Date\": \"2024-09-30T00:00:00-04:00\", \"Stock\": \"MSFT\", \"Value\": 1402886.9710220222}, {\"Date\": \"2024-10-31T00:00:00-04:00\", \"Stock\": \"MSFT\", \"Value\": 1441433.5359737172}, {\"Date\": \"2024-11-30T00:00:00-05:00\", \"Stock\": \"MSFT\", \"Value\": 1406073.5338106605}, {\"Date\": \"2024-12-31T00:00:00-05:00\", \"Stock\": \"MSFT\", \"Value\": 1479646.5684910726}, {\"Date\": \"2025-01-31T00:00:00-05:00\", \"Stock\": \"MSFT\", \"Value\": 1437074.6229508112}, {\"Date\": \"2025-02-28T00:00:00-05:00\", \"Stock\": \"MSFT\", \"Value\": 1410776.2676464284}, {\"Date\": \"2025-03-31T00:00:00-04:00\", \"Stock\": \"MSFT\", \"Value\": 1336443.5726906369}, {\"Date\": \"2025-04-30T00:00:00-04:00\", \"Stock\": \"MSFT\", \"Value\": 1314770.9983500135}, {\"Date\": \"2025-05-31T00:00:00-04:00\", \"Stock\": \"MSFT\", \"Value\": 1463417.5962232752}, {\"Date\": \"2015-01-31T00:00:00-05:00\", \"Stock\": \"^IXIC\", \"Value\": 88155.0209512921}, {\"Date\": \"2015-02-28T00:00:00-05:00\", \"Stock\": \"^IXIC\", \"Value\": 87220.2806240999}, {\"Date\": \"2015-03-31T00:00:00-04:00\", \"Stock\": \"^IXIC\", \"Value\": 93401.0809747663}, {\"Date\": \"2015-04-30T00:00:00-04:00\", \"Stock\": \"^IXIC\", \"Value\": 91016.30292784351}, {\"Date\": \"2015-05-31T00:00:00-04:00\", \"Stock\": \"^IXIC\", \"Value\": 93350.54019562327}, {\"Date\": \"2015-06-30T00:00:00-04:00\", \"Stock\": \"^IXIC\", \"Value\": 94796.66214327612}, {\"Date\": \"2015-07-31T00:00:00-04:00\", \"Stock\": \"^IXIC\", \"Value\": 93494.70435321127}, {\"Date\": \"2015-08-31T00:00:00-04:00\", \"Stock\": \"^IXIC\", \"Value\": 95401.84927111561}, {\"Date\": \"2015-09-30T00:00:00-04:00\", \"Stock\": \"^IXIC\", \"Value\": 86463.27992345077}, {\"Date\": \"2015-10-31T00:00:00-04:00\", \"Stock\": \"^IXIC\", \"Value\": 86295.05653370131}, {\"Date\": \"2015-11-30T00:00:00-05:00\", \"Stock\": \"^IXIC\", \"Value\": 95621.36016863686}, {\"Date\": \"2015-12-31T00:00:00-05:00\", \"Stock\": \"^IXIC\", \"Value\": 96165.19716510939}, {\"Date\": \"2016-01-31T00:00:00-05:00\", \"Stock\": \"^IXIC\", \"Value\": 91442.63944264349}, {\"Date\": \"2016-02-29T00:00:00-05:00\", \"Stock\": \"^IXIC\", \"Value\": 86169.91574325379}, {\"Date\": \"2016-03-31T00:00:00-04:00\", \"Stock\": \"^IXIC\", \"Value\": 87461.05507464801}, {\"Date\": \"2016-04-30T00:00:00-04:00\", \"Stock\": \"^IXIC\", \"Value\": 91656.18561758118}, {\"Date\": \"2016-05-31T00:00:00-04:00\", \"Stock\": \"^IXIC\", \"Value\": 89848.06420101046}, {\"Date\": \"2016-06-30T00:00:00-04:00\", \"Stock\": \"^IXIC\", \"Value\": 92359.47649563833}, {\"Date\": \"2016-07-31T00:00:00-04:00\", \"Stock\": \"^IXIC\", \"Value\": 90686.94096387134}, {\"Date\": \"2016-08-31T00:00:00-04:00\", \"Stock\": \"^IXIC\", \"Value\": 96685.34829373487}, {\"Date\": \"2016-09-30T00:00:00-04:00\", \"Stock\": \"^IXIC\", \"Value\": 97487.48054419174}, {\"Date\": \"2016-10-31T00:00:00-04:00\", \"Stock\": \"^IXIC\", \"Value\": 98861.24266642648}, {\"Date\": \"2016-11-30T00:00:00-05:00\", \"Stock\": \"^IXIC\", \"Value\": 96114.28302165195}, {\"Date\": \"2016-12-31T00:00:00-05:00\", \"Stock\": \"^IXIC\", \"Value\": 97933.21379044662}, {\"Date\": \"2017-01-31T00:00:00-05:00\", \"Stock\": \"^IXIC\", \"Value\": 101252.35880024721}, {\"Date\": \"2017-02-28T00:00:00-05:00\", \"Stock\": \"^IXIC\", \"Value\": 105235.43662550022}, {\"Date\": \"2017-03-31T00:00:00-04:00\", \"Stock\": \"^IXIC\", \"Value\": 110110.17217864351}, {\"Date\": \"2017-04-30T00:00:00-04:00\", \"Stock\": \"^IXIC\", \"Value\": 109935.80193737667}, {\"Date\": \"2017-05-31T00:00:00-04:00\", \"Stock\": \"^IXIC\", \"Value\": 113608.35903686417}, {\"Date\": \"2017-06-30T00:00:00-04:00\", \"Stock\": \"^IXIC\", \"Value\": 116503.39861130447}, {\"Date\": \"2017-07-31T00:00:00-04:00\", \"Stock\": \"^IXIC\", \"Value\": 113952.63736051855}, {\"Date\": \"2017-08-31T00:00:00-04:00\", \"Stock\": \"^IXIC\", \"Value\": 118668.84788963984}, {\"Date\": \"2017-09-30T00:00:00-04:00\", \"Stock\": \"^IXIC\", \"Value\": 120018.92414402752}, {\"Date\": \"2017-10-31T00:00:00-04:00\", \"Stock\": \"^IXIC\", \"Value\": 121536.85042385028}, {\"Date\": \"2017-11-30T00:00:00-05:00\", \"Stock\": \"^IXIC\", \"Value\": 125263.29947486364}, {\"Date\": \"2017-12-31T00:00:00-05:00\", \"Stock\": \"^IXIC\", \"Value\": 127707.56993802814}, {\"Date\": \"2018-01-31T00:00:00-05:00\", \"Stock\": \"^IXIC\", \"Value\": 130678.70298103045}, {\"Date\": \"2018-02-28T00:00:00-05:00\", \"Stock\": \"^IXIC\", \"Value\": 137746.30732350005}, {\"Date\": \"2018-03-31T00:00:00-04:00\", \"Stock\": \"^IXIC\", \"Value\": 133917.4653858769}, {\"Date\": \"2018-04-30T00:00:00-04:00\", \"Stock\": \"^IXIC\", \"Value\": 128127.75960131071}, {\"Date\": \"2018-05-31T00:00:00-04:00\", \"Stock\": \"^IXIC\", \"Value\": 132987.57879477178}, {\"Date\": \"2018-06-30T00:00:00-04:00\", \"Stock\": \"^IXIC\", \"Value\": 140888.27730645254}, {\"Date\": \"2018-07-31T00:00:00-04:00\", \"Stock\": \"^IXIC\", \"Value\": 141137.4387944044}, {\"Date\": \"2018-08-31T00:00:00-04:00\", \"Stock\": \"^IXIC\", \"Value\": 143740.98101021966}, {\"Date\": \"2018-09-30T00:00:00-04:00\", \"Stock\": \"^IXIC\", \"Value\": 150901.83536681987}, {\"Date\": \"2018-10-31T00:00:00-04:00\", \"Stock\": \"^IXIC\", \"Value\": 149895.66407177216}, {\"Date\": \"2018-11-30T00:00:00-05:00\", \"Stock\": \"^IXIC\", \"Value\": 138645.24110229756}, {\"Date\": \"2018-12-31T00:00:00-05:00\", \"Stock\": \"^IXIC\", \"Value\": 138784.17815948414}, {\"Date\": \"2019-01-31T00:00:00-05:00\", \"Stock\": \"^IXIC\", \"Value\": 124319.79874595332}, {\"Date\": \"2019-02-28T00:00:00-05:00\", \"Stock\": \"^IXIC\", \"Value\": 135471.1982140943}, {\"Date\": \"2019-03-31T00:00:00-04:00\", \"Stock\": \"^IXIC\", \"Value\": 141653.30078663773}, {\"Date\": \"2019-04-30T00:00:00-04:00\", \"Stock\": \"^IXIC\", \"Value\": 146009.19653947925}, {\"Date\": \"2019-05-31T00:00:00-04:00\", \"Stock\": \"^IXIC\", \"Value\": 150125.8112990302}, {\"Date\": \"2019-06-30T00:00:00-04:00\", \"Stock\": \"^IXIC\", \"Value\": 136760.84408823098}, {\"Date\": \"2019-07-31T00:00:00-04:00\", \"Stock\": \"^IXIC\", \"Value\": 150900.15978062846}, {\"Date\": \"2019-08-31T00:00:00-04:00\", \"Stock\": \"^IXIC\", \"Value\": 151272.413108522}, {\"Date\": \"2019-09-30T00:00:00-04:00\", \"Stock\": \"^IXIC\", \"Value\": 146853.10916736105}, {\"Date\": \"2019-10-31T00:00:00-04:00\", \"Stock\": \"^IXIC\", \"Value\": 147496.90762917648}, {\"Date\": \"2019-11-30T00:00:00-05:00\", \"Stock\": \"^IXIC\", \"Value\": 156406.3909861057}, {\"Date\": \"2019-12-31T00:00:00-05:00\", \"Stock\": \"^IXIC\", \"Value\": 159793.04208523734}, {\"Date\": \"2020-01-31T00:00:00-05:00\", \"Stock\": \"^IXIC\", \"Value\": 169569.37720926656}, {\"Date\": \"2020-02-29T00:00:00-05:00\", \"Stock\": \"^IXIC\", \"Value\": 172948.9434928715}, {\"Date\": \"2020-03-31T00:00:00-04:00\", \"Stock\": \"^IXIC\", \"Value\": 166957.9943428491}, {\"Date\": \"2020-04-30T00:00:00-04:00\", \"Stock\": \"^IXIC\", \"Value\": 137274.83925889237}, {\"Date\": \"2020-05-31T00:00:00-04:00\", \"Stock\": \"^IXIC\", \"Value\": 160482.3454611749}, {\"Date\": \"2020-06-30T00:00:00-04:00\", \"Stock\": \"^IXIC\", \"Value\": 178145.75585263304}, {\"Date\": \"2020-07-31T00:00:00-04:00\", \"Stock\": \"^IXIC\", \"Value\": 189383.87601262613}, {\"Date\": \"2020-08-31T00:00:00-04:00\", \"Stock\": \"^IXIC\", \"Value\": 203337.24717001067}, {\"Date\": \"2020-09-30T00:00:00-04:00\", \"Stock\": \"^IXIC\", \"Value\": 222674.87778587392}, {\"Date\": \"2020-10-31T00:00:00-04:00\", \"Stock\": \"^IXIC\", \"Value\": 211239.43913894903}, {\"Date\": \"2020-11-30T00:00:00-05:00\", \"Stock\": \"^IXIC\", \"Value\": 204359.46402413043}, {\"Date\": \"2020-12-31T00:00:00-05:00\", \"Stock\": \"^IXIC\", \"Value\": 230422.84297362907}, {\"Date\": \"2021-01-31T00:00:00-05:00\", \"Stock\": \"^IXIC\", \"Value\": 236826.13202988516}, {\"Date\": \"2021-02-28T00:00:00-05:00\", \"Stock\": \"^IXIC\", \"Value\": 249973.25482290785}, {\"Date\": \"2021-03-31T00:00:00-04:00\", \"Stock\": \"^IXIC\", \"Value\": 253431.7193606561}, {\"Date\": \"2021-04-30T00:00:00-04:00\", \"Stock\": \"^IXIC\", \"Value\": 251404.0961530108}, {\"Date\": \"2021-05-31T00:00:00-04:00\", \"Stock\": \"^IXIC\", \"Value\": 259144.02945478327}, {\"Date\": \"2021-06-30T00:00:00-04:00\", \"Stock\": \"^IXIC\", \"Value\": 256185.39956308965}, {\"Date\": \"2021-07-31T00:00:00-04:00\", \"Stock\": \"^IXIC\", \"Value\": 270842.425856399}, {\"Date\": \"2021-08-31T00:00:00-04:00\", \"Stock\": \"^IXIC\", \"Value\": 273802.0028185486}, {\"Date\": \"2021-09-30T00:00:00-04:00\", \"Stock\": \"^IXIC\", \"Value\": 285519.9780805532}, {\"Date\": \"2021-10-31T00:00:00-04:00\", \"Stock\": \"^IXIC\", \"Value\": 271668.99980977835}, {\"Date\": \"2021-11-30T00:00:00-05:00\", \"Stock\": \"^IXIC\", \"Value\": 290863.9506188645}, {\"Date\": \"2021-12-31T00:00:00-05:00\", \"Stock\": \"^IXIC\", \"Value\": 284488.07196715265}, {\"Date\": \"2022-01-31T00:00:00-05:00\", \"Stock\": \"^IXIC\", \"Value\": 295281.7611027679}, {\"Date\": \"2022-02-28T00:00:00-05:00\", \"Stock\": \"^IXIC\", \"Value\": 267552.94054347574}, {\"Date\": \"2022-03-31T00:00:00-04:00\", \"Stock\": \"^IXIC\", \"Value\": 252380.41651580067}, {\"Date\": \"2022-04-30T00:00:00-04:00\", \"Stock\": \"^IXIC\", \"Value\": 265977.0153046688}, {\"Date\": \"2022-05-31T00:00:00-04:00\", \"Stock\": \"^IXIC\", \"Value\": 233796.79968607146}, {\"Date\": \"2022-06-30T00:00:00-04:00\", \"Stock\": \"^IXIC\", \"Value\": 223696.71216923263}, {\"Date\": \"2022-07-31T00:00:00-04:00\", \"Stock\": \"^IXIC\", \"Value\": 207534.42666344965}, {\"Date\": \"2022-08-31T00:00:00-04:00\", \"Stock\": \"^IXIC\", \"Value\": 230681.52069837452}, {\"Date\": \"2022-09-30T00:00:00-04:00\", \"Stock\": \"^IXIC\", \"Value\": 219792.70562061004}, {\"Date\": \"2022-10-31T00:00:00-04:00\", \"Stock\": \"^IXIC\", \"Value\": 201707.7942375456}, {\"Date\": \"2022-11-30T00:00:00-05:00\", \"Stock\": \"^IXIC\", \"Value\": 203114.3759936599}, {\"Date\": \"2022-12-31T00:00:00-05:00\", \"Stock\": \"^IXIC\", \"Value\": 214147.7285933268}, {\"Date\": \"2023-01-31T00:00:00-05:00\", \"Stock\": \"^IXIC\", \"Value\": 193717.21509701046}, {\"Date\": \"2023-02-28T00:00:00-05:00\", \"Stock\": \"^IXIC\", \"Value\": 220374.4072224297}, {\"Date\": \"2023-03-31T00:00:00-04:00\", \"Stock\": \"^IXIC\", \"Value\": 212227.34290193167}, {\"Date\": \"2023-04-30T00:00:00-04:00\", \"Stock\": \"^IXIC\", \"Value\": 227333.2805913916}, {\"Date\": \"2023-05-31T00:00:00-04:00\", \"Stock\": \"^IXIC\", \"Value\": 227765.01722908017}, {\"Date\": \"2023-06-30T00:00:00-04:00\", \"Stock\": \"^IXIC\", \"Value\": 244333.32276709224}, {\"Date\": \"2023-07-31T00:00:00-04:00\", \"Stock\": \"^IXIC\", \"Value\": 257682.79080562096}, {\"Date\": \"2023-08-31T00:00:00-04:00\", \"Stock\": \"^IXIC\", \"Value\": 266394.964782065}, {\"Date\": \"2023-09-30T00:00:00-04:00\", \"Stock\": \"^IXIC\", \"Value\": 261693.28814186488}, {\"Date\": \"2023-10-31T00:00:00-04:00\", \"Stock\": \"^IXIC\", \"Value\": 248189.9393671273}, {\"Date\": \"2023-11-30T00:00:00-05:00\", \"Stock\": \"^IXIC\", \"Value\": 243596.4473136334}, {\"Date\": \"2023-12-31T00:00:00-05:00\", \"Stock\": \"^IXIC\", \"Value\": 266788.85502729984}, {\"Date\": \"2024-01-31T00:00:00-05:00\", \"Stock\": \"^IXIC\", \"Value\": 275384.8307439484}, {\"Date\": \"2024-02-29T00:00:00-05:00\", \"Stock\": \"^IXIC\", \"Value\": 286494.62285715167}, {\"Date\": \"2024-03-31T00:00:00-04:00\", \"Stock\": \"^IXIC\", \"Value\": 303527.6850085591}, {\"Date\": \"2024-04-30T00:00:00-04:00\", \"Stock\": \"^IXIC\", \"Value\": 305800.92729639285}, {\"Date\": \"2024-05-31T00:00:00-04:00\", \"Stock\": \"^IXIC\", \"Value\": 291042.2548451025}, {\"Date\": \"2024-06-30T00:00:00-04:00\", \"Stock\": \"^IXIC\", \"Value\": 313854.74160276033}, {\"Date\": \"2024-07-31T00:00:00-04:00\", \"Stock\": \"^IXIC\", \"Value\": 333449.0100993099}, {\"Date\": \"2024-08-31T00:00:00-04:00\", \"Stock\": \"^IXIC\", \"Value\": 320670.9533778384}, {\"Date\": \"2024-09-30T00:00:00-04:00\", \"Stock\": \"^IXIC\", \"Value\": 319592.0579995049}, {\"Date\": \"2024-10-31T00:00:00-04:00\", \"Stock\": \"^IXIC\", \"Value\": 334028.25296052266}, {\"Date\": \"2024-11-30T00:00:00-05:00\", \"Stock\": \"^IXIC\", \"Value\": 340174.55809111806}, {\"Date\": \"2024-12-31T00:00:00-05:00\", \"Stock\": \"^IXIC\", \"Value\": 361883.70776751987}, {\"Date\": \"2025-01-31T00:00:00-05:00\", \"Stock\": \"^IXIC\", \"Value\": 359586.7705053924}, {\"Date\": \"2025-02-28T00:00:00-05:00\", \"Stock\": \"^IXIC\", \"Value\": 361660.1262883271}, {\"Date\": \"2025-03-31T00:00:00-04:00\", \"Stock\": \"^IXIC\", \"Value\": 342231.08516056516}, {\"Date\": \"2025-04-30T00:00:00-04:00\", \"Stock\": \"^IXIC\", \"Value\": 325440.509471684}, {\"Date\": \"2025-05-31T00:00:00-04:00\", \"Stock\": \"^IXIC\", \"Value\": 330305.35542371933}, {\"Date\": \"2015-01-31T00:00:00-05:00\", \"Stock\": \"COST\", \"Value\": 125093.61076065064}, {\"Date\": \"2015-02-28T00:00:00-05:00\", \"Stock\": \"COST\", \"Value\": 128971.64184074744}, {\"Date\": \"2015-03-31T00:00:00-04:00\", \"Stock\": \"COST\", \"Value\": 135339.1621464487}, {\"Date\": \"2015-04-30T00:00:00-04:00\", \"Stock\": \"COST\", \"Value\": 137443.20472101663}, {\"Date\": \"2015-05-31T00:00:00-04:00\", \"Stock\": \"COST\", \"Value\": 133370.21976961134}, {\"Date\": \"2015-06-30T00:00:00-04:00\", \"Stock\": \"COST\", \"Value\": 130618.25992778887}, {\"Date\": \"2015-07-31T00:00:00-04:00\", \"Stock\": \"COST\", \"Value\": 125206.03860696597}, {\"Date\": \"2015-08-31T00:00:00-04:00\", \"Stock\": \"COST\", \"Value\": 133489.49351534256}, {\"Date\": \"2015-09-30T00:00:00-04:00\", \"Stock\": \"COST\", \"Value\": 127215.15582349386}, {\"Date\": \"2015-10-31T00:00:00-04:00\", \"Stock\": \"COST\", \"Value\": 132973.46612757843}, {\"Date\": \"2015-11-30T00:00:00-05:00\", \"Stock\": \"COST\", \"Value\": 146393.99723737824}, {\"Date\": \"2015-12-31T00:00:00-05:00\", \"Stock\": \"COST\", \"Value\": 148745.91807252727}, {\"Date\": \"2016-01-31T00:00:00-05:00\", \"Stock\": \"COST\", \"Value\": 147132.08692397966}, {\"Date\": \"2016-02-29T00:00:00-05:00\", \"Stock\": \"COST\", \"Value\": 139486.85995871472}, {\"Date\": \"2016-03-31T00:00:00-04:00\", \"Stock\": \"COST\", \"Value\": 139189.918029238}, {\"Date\": \"2016-04-30T00:00:00-04:00\", \"Stock\": \"COST\", \"Value\": 146338.07933057778}, {\"Date\": \"2016-05-31T00:00:00-04:00\", \"Stock\": \"COST\", \"Value\": 139981.88269285072}, {\"Date\": \"2016-06-30T00:00:00-04:00\", \"Stock\": \"COST\", \"Value\": 141456.49443013375}, {\"Date\": \"2016-07-31T00:00:00-04:00\", \"Stock\": \"COST\", \"Value\": 144786.13644690832}, {\"Date\": \"2016-08-31T00:00:00-04:00\", \"Stock\": \"COST\", \"Value\": 155405.4856147002}, {\"Date\": \"2016-09-30T00:00:00-04:00\", \"Stock\": \"COST\", \"Value\": 145268.26787715024}, {\"Date\": \"2016-10-31T00:00:00-04:00\", \"Stock\": \"COST\", \"Value\": 140432.47795793915}, {\"Date\": \"2016-11-30T00:00:00-05:00\", \"Stock\": \"COST\", \"Value\": 136387.18512828817}, {\"Date\": \"2016-12-31T00:00:00-05:00\", \"Stock\": \"COST\", \"Value\": 141545.6995847641}, {\"Date\": \"2017-01-31T00:00:00-05:00\", \"Stock\": \"COST\", \"Value\": 148998.89114984794}, {\"Date\": \"2017-02-28T00:00:00-05:00\", \"Stock\": \"COST\", \"Value\": 150985.78629336308}, {\"Date\": \"2017-03-31T00:00:00-04:00\", \"Stock\": \"COST\", \"Value\": 166357.75729172493}, {\"Date\": \"2017-04-30T00:00:00-04:00\", \"Stock\": \"COST\", \"Value\": 155919.4700726752}, {\"Date\": \"2017-05-31T00:00:00-04:00\", \"Stock\": \"COST\", \"Value\": 166357.75729172493}, {\"Date\": \"2017-06-30T00:00:00-04:00\", \"Stock\": \"COST\", \"Value\": 176287.2465929175}, {\"Date\": \"2017-07-31T00:00:00-04:00\", \"Stock\": \"COST\", \"Value\": 155001.61924160548}, {\"Date\": \"2017-08-31T00:00:00-04:00\", \"Stock\": \"COST\", \"Value\": 155879.99566605527}, {\"Date\": \"2017-09-30T00:00:00-04:00\", \"Stock\": \"COST\", \"Value\": 154929.35789649177}, {\"Date\": \"2017-10-31T00:00:00-04:00\", \"Stock\": \"COST\", \"Value\": 162419.2388128911}, {\"Date\": \"2017-11-30T00:00:00-05:00\", \"Stock\": \"COST\", \"Value\": 159286.23504218998}, {\"Date\": \"2017-12-31T00:00:00-05:00\", \"Stock\": \"COST\", \"Value\": 181794.58505702595}, {\"Date\": \"2018-01-31T00:00:00-05:00\", \"Stock\": \"COST\", \"Value\": 184927.1385493246}, {\"Date\": \"2018-02-28T00:00:00-05:00\", \"Stock\": \"COST\", \"Value\": 189984.33202674708}, {\"Date\": \"2018-03-31T00:00:00-04:00\", \"Stock\": \"COST\", \"Value\": 186121.01004113228}, {\"Date\": \"2018-04-30T00:00:00-04:00\", \"Stock\": \"COST\", \"Value\": 179937.68695601285}, {\"Date\": \"2018-05-31T00:00:00-04:00\", \"Stock\": \"COST\", \"Value\": 193525.3047070992}, {\"Date\": \"2018-06-30T00:00:00-04:00\", \"Stock\": \"COST\", \"Value\": 194662.42444321283}, {\"Date\": \"2018-07-31T00:00:00-04:00\", \"Stock\": \"COST\", \"Value\": 205386.45500109915}, {\"Date\": \"2018-08-31T00:00:00-04:00\", \"Stock\": \"COST\", \"Value\": 214412.06877867767}, {\"Date\": \"2018-09-30T00:00:00-04:00\", \"Stock\": \"COST\", \"Value\": 232317.60625515622}, {\"Date\": \"2018-10-31T00:00:00-04:00\", \"Stock\": \"COST\", \"Value\": 232287.93791152423}, {\"Date\": \"2018-11-30T00:00:00-05:00\", \"Stock\": \"COST\", \"Value\": 227288.7636401139}, {\"Date\": \"2018-12-31T00:00:00-05:00\", \"Stock\": \"COST\", \"Value\": 230289.9192237693}, {\"Date\": \"2019-01-31T00:00:00-05:00\", \"Stock\": \"COST\", \"Value\": 203180.59113814172}, {\"Date\": \"2019-02-28T00:00:00-05:00\", \"Stock\": \"COST\", \"Value\": 208648.1716870064}, {\"Date\": \"2019-03-31T00:00:00-04:00\", \"Stock\": \"COST\", \"Value\": 218335.5446234721}, {\"Date\": \"2019-04-30T00:00:00-04:00\", \"Stock\": \"COST\", \"Value\": 242960.9869480598}, {\"Date\": \"2019-05-31T00:00:00-04:00\", \"Stock\": \"COST\", \"Value\": 240374.03746377898}, {\"Date\": \"2019-06-30T00:00:00-04:00\", \"Stock\": \"COST\", \"Value\": 240504.41807677216}, {\"Date\": \"2019-07-31T00:00:00-04:00\", \"Stock\": \"COST\", \"Value\": 262931.7013021786}, {\"Date\": \"2019-08-31T00:00:00-04:00\", \"Stock\": \"COST\", \"Value\": 273925.88222459244}, {\"Date\": \"2019-09-30T00:00:00-04:00\", \"Stock\": \"COST\", \"Value\": 292009.44643984066}, {\"Date\": \"2019-10-31T00:00:00-04:00\", \"Stock\": \"COST\", \"Value\": 283890.4265332692}, {\"Date\": \"2019-11-30T00:00:00-05:00\", \"Stock\": \"COST\", \"Value\": 296691.97493242007}, {\"Date\": \"2019-12-31T00:00:00-05:00\", \"Stock\": \"COST\", \"Value\": 297994.64702785615}, {\"Date\": \"2020-01-31T00:00:00-05:00\", \"Stock\": \"COST\", \"Value\": 292082.5916647816}, {\"Date\": \"2020-02-29T00:00:00-05:00\", \"Stock\": \"COST\", \"Value\": 302613.9697743056}, {\"Date\": \"2020-03-31T00:00:00-04:00\", \"Stock\": \"COST\", \"Value\": 310421.66385798686}, {\"Date\": \"2020-04-30T00:00:00-04:00\", \"Stock\": \"COST\", \"Value\": 287968.98159528326}, {\"Date\": \"2020-05-31T00:00:00-04:00\", \"Stock\": \"COST\", \"Value\": 303864.34286713914}, {\"Date\": \"2020-06-30T00:00:00-04:00\", \"Stock\": \"COST\", \"Value\": 310275.2733462379}, {\"Date\": \"2020-07-31T00:00:00-04:00\", \"Stock\": \"COST\", \"Value\": 306712.53720976453}, {\"Date\": \"2020-08-31T00:00:00-04:00\", \"Stock\": \"COST\", \"Value\": 332153.63384503033}, {\"Date\": \"2020-09-30T00:00:00-04:00\", \"Stock\": \"COST\", \"Value\": 354403.5240568262}, {\"Date\": \"2020-10-31T00:00:00-04:00\", \"Stock\": \"COST\", \"Value\": 361544.4058573254}, {\"Date\": \"2020-11-30T00:00:00-05:00\", \"Stock\": \"COST\", \"Value\": 368231.6738597416}, {\"Date\": \"2020-12-31T00:00:00-05:00\", \"Stock\": \"COST\", \"Value\": 401904.66018780775}, {\"Date\": \"2021-01-31T00:00:00-05:00\", \"Stock\": \"COST\", \"Value\": 394220.3757403696}, {\"Date\": \"2021-02-28T00:00:00-05:00\", \"Stock\": \"COST\", \"Value\": 363493.67773876427}, {\"Date\": \"2021-03-31T00:00:00-04:00\", \"Stock\": \"COST\", \"Value\": 344729.10913216596}, {\"Date\": \"2021-04-30T00:00:00-04:00\", \"Stock\": \"COST\", \"Value\": 368804.06109421974}, {\"Date\": \"2021-05-31T00:00:00-04:00\", \"Stock\": \"COST\", \"Value\": 394980.67916149483}, {\"Date\": \"2021-06-30T00:00:00-04:00\", \"Stock\": \"COST\", \"Value\": 393845.64404761494}, {\"Date\": \"2021-07-31T00:00:00-04:00\", \"Stock\": \"COST\", \"Value\": 410818.57156760833}, {\"Date\": \"2021-08-31T00:00:00-04:00\", \"Stock\": \"COST\", \"Value\": 447465.7301291351}, {\"Date\": \"2021-09-30T00:00:00-04:00\", \"Stock\": \"COST\", \"Value\": 476259.03273223445}, {\"Date\": \"2021-10-31T00:00:00-04:00\", \"Stock\": \"COST\", \"Value\": 467714.8833057831}, {\"Date\": \"2021-11-30T00:00:00-05:00\", \"Stock\": \"COST\", \"Value\": 513967.64758127555}, {\"Date\": \"2021-12-31T00:00:00-05:00\", \"Stock\": \"COST\", \"Value\": 553643.5788018117}, {\"Date\": \"2022-01-31T00:00:00-05:00\", \"Stock\": \"COST\", \"Value\": 592169.9325837645}, {\"Date\": \"2022-02-28T00:00:00-05:00\", \"Stock\": \"COST\", \"Value\": 531250.7668896639}, {\"Date\": \"2022-03-31T00:00:00-04:00\", \"Stock\": \"COST\", \"Value\": 547251.2264760609}, {\"Date\": \"2022-04-30T00:00:00-04:00\", \"Stock\": \"COST\", \"Value\": 602339.4869814059}, {\"Date\": \"2022-05-31T00:00:00-04:00\", \"Stock\": \"COST\", \"Value\": 554451.845211293}, {\"Date\": \"2022-06-30T00:00:00-04:00\", \"Stock\": \"COST\", \"Value\": 479022.4413193652}, {\"Date\": \"2022-07-31T00:00:00-04:00\", \"Stock\": \"COST\", \"Value\": 509179.55381877464}, {\"Date\": \"2022-08-31T00:00:00-04:00\", \"Stock\": \"COST\", \"Value\": 574162.1985868944}, {\"Date\": \"2022-09-30T00:00:00-04:00\", \"Stock\": \"COST\", \"Value\": 555639.8464068901}, {\"Date\": \"2022-10-31T00:00:00-04:00\", \"Stock\": \"COST\", \"Value\": 501626.75066486915}, {\"Date\": \"2022-11-30T00:00:00-05:00\", \"Stock\": \"COST\", \"Value\": 525916.4353939862}, {\"Date\": \"2022-12-31T00:00:00-05:00\", \"Stock\": \"COST\", \"Value\": 530018.8718883111}, {\"Date\": \"2023-01-31T00:00:00-05:00\", \"Stock\": \"COST\", \"Value\": 476812.9418752319}, {\"Date\": \"2023-02-28T00:00:00-05:00\", \"Stock\": \"COST\", \"Value\": 544798.2765089711}, {\"Date\": \"2023-03-31T00:00:00-04:00\", \"Stock\": \"COST\", \"Value\": 504397.63053808594}, {\"Date\": \"2023-04-30T00:00:00-04:00\", \"Stock\": \"COST\", \"Value\": 523744.39244215045}, {\"Date\": \"2023-05-31T00:00:00-04:00\", \"Stock\": \"COST\", \"Value\": 520119.5845940423}, {\"Date\": \"2023-06-30T00:00:00-04:00\", \"Stock\": \"COST\", \"Value\": 541277.8998962893}, {\"Date\": \"2023-07-31T00:00:00-04:00\", \"Stock\": \"COST\", \"Value\": 571308.9677969521}, {\"Date\": \"2023-08-31T00:00:00-04:00\", \"Stock\": \"COST\", \"Value\": 586546.2555220302}, {\"Date\": \"2023-09-30T00:00:00-04:00\", \"Stock\": \"COST\", \"Value\": 575784.4015783332}, {\"Date\": \"2023-10-31T00:00:00-04:00\", \"Stock\": \"COST\", \"Value\": 604412.3686228225}, {\"Date\": \"2023-11-30T00:00:00-05:00\", \"Stock\": \"COST\", \"Value\": 589061.4773244893}, {\"Date\": \"2023-12-31T00:00:00-05:00\", \"Stock\": \"COST\", \"Value\": 631955.1313633096}, {\"Date\": \"2024-01-31T00:00:00-05:00\", \"Stock\": \"COST\", \"Value\": 705294.7431582599}, {\"Date\": \"2024-02-29T00:00:00-05:00\", \"Stock\": \"COST\", \"Value\": 764768.1816407497}, {\"Date\": \"2024-03-31T00:00:00-04:00\", \"Stock\": \"COST\", \"Value\": 813575.8255720777}, {\"Date\": \"2024-04-30T00:00:00-04:00\", \"Stock\": \"COST\", \"Value\": 782962.4976660373}, {\"Date\": \"2024-05-31T00:00:00-04:00\", \"Stock\": \"COST\", \"Value\": 785284.7334805765}, {\"Date\": \"2024-06-30T00:00:00-04:00\", \"Stock\": \"COST\", \"Value\": 886590.4364222839}, {\"Date\": \"2024-07-31T00:00:00-04:00\", \"Stock\": \"COST\", \"Value\": 919514.5263820884}, {\"Date\": \"2024-08-31T00:00:00-04:00\", \"Stock\": \"COST\", \"Value\": 889486.0267360178}, {\"Date\": \"2024-09-30T00:00:00-04:00\", \"Stock\": \"COST\", \"Value\": 956647.4186010773}, {\"Date\": \"2024-10-31T00:00:00-04:00\", \"Stock\": \"COST\", \"Value\": 955351.6841284353}, {\"Date\": \"2024-11-30T00:00:00-05:00\", \"Stock\": \"COST\", \"Value\": 956544.6884173938}, {\"Date\": \"2024-12-31T00:00:00-05:00\", \"Stock\": \"COST\", \"Value\": 1063057.6776373596}, {\"Date\": \"2025-01-31T00:00:00-05:00\", \"Stock\": \"COST\", \"Value\": 991979.9309970568}, {\"Date\": \"2025-02-28T00:00:00-05:00\", \"Stock\": \"COST\", \"Value\": 1096672.0610651884}, {\"Date\": \"2025-03-31T00:00:00-04:00\", \"Stock\": \"COST\", \"Value\": 1142657.960340794}, {\"Date\": \"2025-04-30T00:00:00-04:00\", \"Stock\": \"COST\", \"Value\": 1041746.9681113303}, {\"Date\": \"2025-05-31T00:00:00-04:00\", \"Stock\": \"COST\", \"Value\": 1090472.3611878}, {\"Date\": \"2015-01-31T00:00:00-05:00\", \"Stock\": \"WMT\", \"Value\": 88663.5920153087}, {\"Date\": \"2015-02-28T00:00:00-05:00\", \"Stock\": \"WMT\", \"Value\": 88467.47427940549}, {\"Date\": \"2015-03-31T00:00:00-04:00\", \"Stock\": \"WMT\", \"Value\": 86661.16793112142}, {\"Date\": \"2015-04-30T00:00:00-04:00\", \"Stock\": \"WMT\", \"Value\": 83806.96416511996}, {\"Date\": \"2015-05-31T00:00:00-04:00\", \"Stock\": \"WMT\", \"Value\": 81616.01470108381}, {\"Date\": \"2015-06-30T00:00:00-04:00\", \"Stock\": \"WMT\", \"Value\": 78087.23698860803}, {\"Date\": \"2015-07-31T00:00:00-04:00\", \"Stock\": \"WMT\", \"Value\": 75109.22778333588}, {\"Date\": \"2015-08-31T00:00:00-04:00\", \"Stock\": \"WMT\", \"Value\": 75422.68984175292}, {\"Date\": \"2015-09-30T00:00:00-04:00\", \"Stock\": \"WMT\", \"Value\": 67142.47503068802}, {\"Date\": \"2015-10-31T00:00:00-04:00\", \"Stock\": \"WMT\", \"Value\": 67615.89142515804}, {\"Date\": \"2015-11-30T00:00:00-05:00\", \"Stock\": \"WMT\", \"Value\": 60609.19100785631}, {\"Date\": \"2015-12-31T00:00:00-05:00\", \"Stock\": \"WMT\", \"Value\": 62061.00611858705}, {\"Date\": \"2016-01-31T00:00:00-05:00\", \"Stock\": \"WMT\", \"Value\": 65201.23939004118}, {\"Date\": \"2016-02-29T00:00:00-05:00\", \"Stock\": \"WMT\", \"Value\": 71608.88333551073}, {\"Date\": \"2016-03-31T00:00:00-04:00\", \"Stock\": \"WMT\", \"Value\": 70505.56244374975}, {\"Date\": \"2016-04-30T00:00:00-04:00\", \"Stock\": \"WMT\", \"Value\": 73806.20689789625}, {\"Date\": \"2016-05-31T00:00:00-04:00\", \"Stock\": \"WMT\", \"Value\": 72235.17656889043}, {\"Date\": \"2016-06-30T00:00:00-04:00\", \"Stock\": \"WMT\", \"Value\": 75896.82413808482}, {\"Date\": \"2016-07-31T00:00:00-04:00\", \"Stock\": \"WMT\", \"Value\": 78383.6724452909}, {\"Date\": \"2016-08-31T00:00:00-04:00\", \"Stock\": \"WMT\", \"Value\": 79427.91508989331}, {\"Date\": \"2016-09-30T00:00:00-04:00\", \"Stock\": \"WMT\", \"Value\": 78952.75832727327}, {\"Date\": \"2016-10-31T00:00:00-04:00\", \"Stock\": \"WMT\", \"Value\": 78053.0967667322}, {\"Date\": \"2016-11-30T00:00:00-05:00\", \"Stock\": \"WMT\", \"Value\": 75115.69615162672}, {\"Date\": \"2016-12-31T00:00:00-05:00\", \"Stock\": \"WMT\", \"Value\": 76600.65802408103}, {\"Date\": \"2017-01-31T00:00:00-05:00\", \"Stock\": \"WMT\", \"Value\": 74954.61782781017}, {\"Date\": \"2017-02-28T00:00:00-05:00\", \"Stock\": \"WMT\", \"Value\": 72301.84717210339}, {\"Date\": \"2017-03-31T00:00:00-04:00\", \"Stock\": \"WMT\", \"Value\": 76908.7176896991}, {\"Date\": \"2017-04-30T00:00:00-04:00\", \"Stock\": \"WMT\", \"Value\": 78991.8295922408}, {\"Date\": \"2017-05-31T00:00:00-04:00\", \"Stock\": \"WMT\", \"Value\": 82730.82927416878}, {\"Date\": \"2017-06-30T00:00:00-04:00\", \"Stock\": \"WMT\", \"Value\": 88354.79269322689}, {\"Date\": \"2017-07-31T00:00:00-04:00\", \"Stock\": \"WMT\", \"Value\": 83428.39058329101}, {\"Date\": \"2017-08-31T00:00:00-04:00\", \"Stock\": \"WMT\", \"Value\": 89118.71278960188}, {\"Date\": \"2017-09-30T00:00:00-04:00\", \"Stock\": \"WMT\", \"Value\": 87306.38766813239}, {\"Date\": \"2017-10-31T00:00:00-04:00\", \"Stock\": \"WMT\", \"Value\": 87395.5017689464}, {\"Date\": \"2017-11-30T00:00:00-05:00\", \"Stock\": \"WMT\", \"Value\": 97967.6364028833}, {\"Date\": \"2017-12-31T00:00:00-05:00\", \"Stock\": \"WMT\", \"Value\": 108450.6279298704}, {\"Date\": \"2018-01-31T00:00:00-05:00\", \"Stock\": \"WMT\", \"Value\": 110410.86258948807}, {\"Date\": \"2018-02-28T00:00:00-05:00\", \"Stock\": \"WMT\", \"Value\": 118171.73704152479}, {\"Date\": \"2018-03-31T00:00:00-04:00\", \"Stock\": \"WMT\", \"Value\": 99760.62893481985}, {\"Date\": \"2018-04-30T00:00:00-04:00\", \"Stock\": \"WMT\", \"Value\": 96378.54975432124}, {\"Date\": \"2018-05-31T00:00:00-04:00\", \"Stock\": \"WMT\", \"Value\": 98474.02552226189}, {\"Date\": \"2018-06-30T00:00:00-04:00\", \"Stock\": \"WMT\", \"Value\": 94083.54802951694}, {\"Date\": \"2018-07-31T00:00:00-04:00\", \"Stock\": \"WMT\", \"Value\": 95228.56524153835}, {\"Date\": \"2018-08-31T00:00:00-04:00\", \"Stock\": \"WMT\", \"Value\": 100035.33879576354}, {\"Date\": \"2018-09-30T00:00:00-04:00\", \"Stock\": \"WMT\", \"Value\": 108734.98958251262}, {\"Date\": \"2018-10-31T00:00:00-04:00\", \"Stock\": \"WMT\", \"Value\": 107640.3415253658}, {\"Date\": \"2018-11-30T00:00:00-05:00\", \"Stock\": \"WMT\", \"Value\": 114687.15017699111}, {\"Date\": \"2018-12-31T00:00:00-05:00\", \"Stock\": \"WMT\", \"Value\": 112600.456016674}, {\"Date\": \"2019-01-31T00:00:00-05:00\", \"Stock\": \"WMT\", \"Value\": 107012.4457029813}, {\"Date\": \"2019-02-28T00:00:00-05:00\", \"Stock\": \"WMT\", \"Value\": 107608.630567366}, {\"Date\": \"2019-03-31T00:00:00-04:00\", \"Stock\": \"WMT\", \"Value\": 112274.804129673}, {\"Date\": \"2019-04-30T00:00:00-04:00\", \"Stock\": \"WMT\", \"Value\": 112752.11459787865}, {\"Date\": \"2019-05-31T00:00:00-04:00\", \"Stock\": \"WMT\", \"Value\": 116832.5092470312}, {\"Date\": \"2019-06-30T00:00:00-04:00\", \"Stock\": \"WMT\", \"Value\": 118148.43786291663}, {\"Date\": \"2019-07-31T00:00:00-04:00\", \"Stock\": \"WMT\", \"Value\": 128183.39336428788}, {\"Date\": \"2019-08-31T00:00:00-04:00\", \"Stock\": \"WMT\", \"Value\": 126746.51641351129}, {\"Date\": \"2019-09-30T00:00:00-04:00\", \"Stock\": \"WMT\", \"Value\": 133495.54807467145}, {\"Date\": \"2019-10-31T00:00:00-04:00\", \"Stock\": \"WMT\", \"Value\": 137233.52529031129}, {\"Date\": \"2019-11-30T00:00:00-05:00\", \"Stock\": \"WMT\", \"Value\": 136965.69713509406}, {\"Date\": \"2019-12-31T00:00:00-05:00\", \"Stock\": \"WMT\", \"Value\": 138898.70953623214}, {\"Date\": \"2020-01-31T00:00:00-05:00\", \"Stock\": \"WMT\", \"Value\": 139124.04370245355}, {\"Date\": \"2020-02-29T00:00:00-05:00\", \"Stock\": \"WMT\", \"Value\": 133661.5356869778}, {\"Date\": \"2020-03-31T00:00:00-04:00\", \"Stock\": \"WMT\", \"Value\": 135544.74455289}, {\"Date\": \"2020-04-30T00:00:00-04:00\", \"Stock\": \"WMT\", \"Value\": 134100.20998225344}, {\"Date\": \"2020-05-31T00:00:00-04:00\", \"Stock\": \"WMT\", \"Value\": 144415.64756559915}, {\"Date\": \"2020-06-30T00:00:00-04:00\", \"Stock\": \"WMT\", \"Value\": 146278.1605535943}, {\"Date\": \"2020-07-31T00:00:00-04:00\", \"Stock\": \"WMT\", \"Value\": 141239.38867344003}, {\"Date\": \"2020-08-31T00:00:00-04:00\", \"Stock\": \"WMT\", \"Value\": 152579.56952657423}, {\"Date\": \"2020-09-30T00:00:00-04:00\", \"Stock\": \"WMT\", \"Value\": 174878.6020681095}, {\"Date\": \"2020-10-31T00:00:00-04:00\", \"Stock\": \"WMT\", \"Value\": 169534.67113592048}, {\"Date\": \"2020-11-30T00:00:00-05:00\", \"Stock\": \"WMT\", \"Value\": 166359.18090636094}, {\"Date\": \"2020-12-31T00:00:00-05:00\", \"Stock\": \"WMT\", \"Value\": 180862.27782917095}, {\"Date\": \"2021-01-31T00:00:00-05:00\", \"Stock\": \"WMT\", \"Value\": 174257.2181232196}, {\"Date\": \"2021-02-28T00:00:00-05:00\", \"Stock\": \"WMT\", \"Value\": 165623.44027094805}, {\"Date\": \"2021-03-31T00:00:00-04:00\", \"Stock\": \"WMT\", \"Value\": 156228.58492361318}, {\"Date\": \"2021-04-30T00:00:00-04:00\", \"Stock\": \"WMT\", \"Value\": 161956.1945175378}, {\"Date\": \"2021-05-31T00:00:00-04:00\", \"Stock\": \"WMT\", \"Value\": 169718.38149722098}, {\"Date\": \"2021-06-30T00:00:00-04:00\", \"Stock\": \"WMT\", \"Value\": 169833.43433500399}, {\"Date\": \"2021-07-31T00:00:00-04:00\", \"Stock\": \"WMT\", \"Value\": 167028.04789561}, {\"Date\": \"2021-08-31T00:00:00-04:00\", \"Stock\": \"WMT\", \"Value\": 170504.81035500264}, {\"Date\": \"2021-09-30T00:00:00-04:00\", \"Stock\": \"WMT\", \"Value\": 177822.56532144724}, {\"Date\": \"2021-10-31T00:00:00-04:00\", \"Stock\": \"WMT\", \"Value\": 164911.223611696}, {\"Date\": \"2021-11-30T00:00:00-05:00\", \"Stock\": \"WMT\", \"Value\": 180241.15493950353}, {\"Date\": \"2021-12-31T00:00:00-05:00\", \"Stock\": \"WMT\", \"Value\": 165019.5035167619}, {\"Date\": \"2022-01-31T00:00:00-05:00\", \"Stock\": \"WMT\", \"Value\": 174757.06635896777}, {\"Date\": \"2022-02-28T00:00:00-05:00\", \"Stock\": \"WMT\", \"Value\": 170238.6065433921}, {\"Date\": \"2022-03-31T00:00:00-04:00\", \"Stock\": \"WMT\", \"Value\": 164294.59667308276}, {\"Date\": \"2022-04-30T00:00:00-04:00\", \"Stock\": \"WMT\", \"Value\": 183146.43851070752}, {\"Date\": \"2022-05-31T00:00:00-04:00\", \"Stock\": \"WMT\", \"Value\": 184322.86936783645}, {\"Date\": \"2022-06-30T00:00:00-04:00\", \"Stock\": \"WMT\", \"Value\": 152700.07551789386}, {\"Date\": \"2022-07-31T00:00:00-04:00\", \"Stock\": \"WMT\", \"Value\": 149267.50390644337}, {\"Date\": \"2022-08-31T00:00:00-04:00\", \"Stock\": \"WMT\", \"Value\": 161330.15508784668}, {\"Date\": \"2022-09-30T00:00:00-04:00\", \"Stock\": \"WMT\", \"Value\": 164404.4574125516}, {\"Date\": \"2022-10-31T00:00:00-04:00\", \"Stock\": \"WMT\", \"Value\": 162020.5446298841}, {\"Date\": \"2022-11-30T00:00:00-05:00\", \"Stock\": \"WMT\", \"Value\": 173218.84196958947}, {\"Date\": \"2022-12-31T00:00:00-05:00\", \"Stock\": \"WMT\", \"Value\": 187497.86649308685}, {\"Date\": \"2023-01-31T00:00:00-05:00\", \"Stock\": \"WMT\", \"Value\": 176215.6544024156}, {\"Date\": \"2023-02-28T00:00:00-05:00\", \"Stock\": \"WMT\", \"Value\": 177528.67515318378}, {\"Date\": \"2023-03-31T00:00:00-04:00\", \"Stock\": \"WMT\", \"Value\": 171982.06384685924}, {\"Date\": \"2023-04-30T00:00:00-04:00\", \"Stock\": \"WMT\", \"Value\": 183209.5848684167}, {\"Date\": \"2023-05-31T00:00:00-04:00\", \"Stock\": \"WMT\", \"Value\": 186782.82173559105}, {\"Date\": \"2023-06-30T00:00:00-04:00\", \"Stock\": \"WMT\", \"Value\": 182322.38869474997}, {\"Date\": \"2023-07-31T00:00:00-04:00\", \"Stock\": \"WMT\", \"Value\": 195667.8942456548}, {\"Date\": \"2023-08-31T00:00:00-04:00\", \"Stock\": \"WMT\", \"Value\": 196793.4048313283}, {\"Date\": \"2023-09-30T00:00:00-04:00\", \"Stock\": \"WMT\", \"Value\": 200546.42172839772}, {\"Date\": \"2023-10-31T00:00:00-04:00\", \"Stock\": \"WMT\", \"Value\": 198721.81975993683}, {\"Date\": \"2023-11-30T00:00:00-05:00\", \"Stock\": \"WMT\", \"Value\": 204642.53770317193}, {\"Date\": \"2023-12-31T00:00:00-05:00\", \"Stock\": \"WMT\", \"Value\": 191572.30038132562}, {\"Date\": \"2024-01-31T00:00:00-05:00\", \"Stock\": \"WMT\", \"Value\": 198450.75742057417}, {\"Date\": \"2024-02-29T00:00:00-05:00\", \"Stock\": \"WMT\", \"Value\": 209688.25655285828}, {\"Date\": \"2024-03-31T00:00:00-04:00\", \"Stock\": \"WMT\", \"Value\": 219617.651474398}, {\"Date\": \"2024-04-30T00:00:00-04:00\", \"Stock\": \"WMT\", \"Value\": 225015.96891127457}, {\"Date\": \"2024-05-31T00:00:00-04:00\", \"Stock\": \"WMT\", \"Value\": 220703.16259875734}, {\"Date\": \"2024-06-30T00:00:00-04:00\", \"Stock\": \"WMT\", \"Value\": 247696.93974639545}, {\"Date\": \"2024-07-31T00:00:00-04:00\", \"Stock\": \"WMT\", \"Value\": 253943.93320855196}, {\"Date\": \"2024-08-31T00:00:00-04:00\", \"Stock\": \"WMT\", \"Value\": 262637.0141055348}, {\"Date\": \"2024-09-30T00:00:00-04:00\", \"Stock\": \"WMT\", \"Value\": 291237.5281353896}, {\"Date\": \"2024-10-31T00:00:00-04:00\", \"Stock\": \"WMT\", \"Value\": 306710.85129568924}, {\"Date\": \"2024-11-30T00:00:00-05:00\", \"Stock\": \"WMT\", \"Value\": 310182.94376721274}, {\"Date\": \"2024-12-31T00:00:00-05:00\", \"Stock\": \"WMT\", \"Value\": 349620.9333100739}, {\"Date\": \"2025-01-31T00:00:00-05:00\", \"Stock\": \"WMT\", \"Value\": 340410.1799068733}, {\"Date\": \"2025-02-28T00:00:00-05:00\", \"Stock\": \"WMT\", \"Value\": 376493.66785287944}, {\"Date\": \"2025-03-31T00:00:00-04:00\", \"Stock\": \"WMT\", \"Value\": 369118.103657719}, {\"Date\": \"2025-04-30T00:00:00-04:00\", \"Stock\": \"WMT\", \"Value\": 336907.51496818155}, {\"Date\": \"2025-05-31T00:00:00-04:00\", \"Stock\": \"WMT\", \"Value\": 369449.09267371334}, {\"Date\": \"2015-01-31T00:00:00-05:00\", \"Stock\": \"AMZN\", \"Value\": 161631.83818085774}, {\"Date\": \"2015-02-28T00:00:00-05:00\", \"Stock\": \"AMZN\", \"Value\": 190943.71568181456}, {\"Date\": \"2015-03-31T00:00:00-04:00\", \"Stock\": \"AMZN\", \"Value\": 202045.05127719993}, {\"Date\": \"2015-04-30T00:00:00-04:00\", \"Stock\": \"AMZN\", \"Value\": 193977.07563338615}, {\"Date\": \"2015-05-31T00:00:00-04:00\", \"Stock\": \"AMZN\", \"Value\": 221539.13839610145}, {\"Date\": \"2015-06-30T00:00:00-04:00\", \"Stock\": \"AMZN\", \"Value\": 225756.48839241418}, {\"Date\": \"2015-07-31T00:00:00-04:00\", \"Stock\": \"AMZN\", \"Value\": 229146.0805792756}, {\"Date\": \"2015-08-31T00:00:00-04:00\", \"Stock\": \"AMZN\", \"Value\": 280299.111008996}, {\"Date\": \"2015-09-30T00:00:00-04:00\", \"Stock\": \"AMZN\", \"Value\": 260134.42794871161}, {\"Date\": \"2015-10-31T00:00:00-04:00\", \"Stock\": \"AMZN\", \"Value\": 272802.1861304654}, {\"Date\": \"2015-11-30T00:00:00-05:00\", \"Stock\": \"AMZN\", \"Value\": 329188.9226046277}, {\"Date\": \"2015-12-31T00:00:00-05:00\", \"Stock\": \"AMZN\", \"Value\": 355755.5935612795}, {\"Date\": \"2016-01-31T00:00:00-05:00\", \"Stock\": \"AMZN\", \"Value\": 333715.38025778346}, {\"Date\": \"2016-02-29T00:00:00-05:00\", \"Stock\": \"AMZN\", \"Value\": 301139.62607493525}, {\"Date\": \"2016-03-31T00:00:00-04:00\", \"Stock\": \"AMZN\", \"Value\": 303355.7003455992}, {\"Date\": \"2016-04-30T00:00:00-04:00\", \"Stock\": \"AMZN\", \"Value\": 313550.67721252097}, {\"Date\": \"2016-05-31T00:00:00-04:00\", \"Stock\": \"AMZN\", \"Value\": 358265.0672959709}, {\"Date\": \"2016-06-30T00:00:00-04:00\", \"Stock\": \"AMZN\", \"Value\": 376910.4523483337}, {\"Date\": \"2016-07-31T00:00:00-04:00\", \"Stock\": \"AMZN\", \"Value\": 380179.5551020079}, {\"Date\": \"2016-08-31T00:00:00-04:00\", \"Stock\": \"AMZN\", \"Value\": 402214.55232621013}, {\"Date\": \"2016-09-30T00:00:00-04:00\", \"Stock\": \"AMZN\", \"Value\": 403723.3382356319}, {\"Date\": \"2016-10-31T00:00:00-04:00\", \"Stock\": \"AMZN\", \"Value\": 438363.26087032555}, {\"Date\": \"2016-11-30T00:00:00-05:00\", \"Stock\": \"AMZN\", \"Value\": 411471.75407903694}, {\"Date\": \"2016-12-31T00:00:00-05:00\", \"Stock\": \"AMZN\", \"Value\": 389593.91872290306}, {\"Date\": \"2017-01-31T00:00:00-05:00\", \"Stock\": \"AMZN\", \"Value\": 394843.33296016045}, {\"Date\": \"2017-02-28T00:00:00-05:00\", \"Stock\": \"AMZN\", \"Value\": 436063.34961637744}, {\"Date\": \"2017-03-31T00:00:00-04:00\", \"Stock\": \"AMZN\", \"Value\": 446923.66637543205}, {\"Date\": \"2017-04-30T00:00:00-04:00\", \"Stock\": \"AMZN\", \"Value\": 467056.93305008527}, {\"Date\": \"2017-05-31T00:00:00-04:00\", \"Stock\": \"AMZN\", \"Value\": 496772.1973422459}, {\"Date\": \"2017-06-30T00:00:00-04:00\", \"Stock\": \"AMZN\", \"Value\": 521772.44571252936}, {\"Date\": \"2017-07-31T00:00:00-04:00\", \"Stock\": \"AMZN\", \"Value\": 499616.93907016166}, {\"Date\": \"2017-08-31T00:00:00-04:00\", \"Stock\": \"AMZN\", \"Value\": 521898.1911949666}, {\"Date\": \"2017-09-30T00:00:00-04:00\", \"Stock\": \"AMZN\", \"Value\": 512499.4957969307}, {\"Date\": \"2017-10-31T00:00:00-04:00\", \"Stock\": \"AMZN\", \"Value\": 502514.08141075226}, {\"Date\": \"2017-11-30T00:00:00-05:00\", \"Stock\": \"AMZN\", \"Value\": 578211.5428294102}, {\"Date\": \"2017-12-31T00:00:00-05:00\", \"Stock\": \"AMZN\", \"Value\": 608948.439203928}, {\"Date\": \"2018-01-31T00:00:00-05:00\", \"Stock\": \"AMZN\", \"Value\": 622915.4607843165}, {\"Date\": \"2018-02-28T00:00:00-05:00\", \"Stock\": \"AMZN\", \"Value\": 728212.9531111978}, {\"Date\": \"2018-03-31T00:00:00-04:00\", \"Stock\": \"AMZN\", \"Value\": 782409.8156210337}, {\"Date\": \"2018-04-30T00:00:00-04:00\", \"Stock\": \"AMZN\", \"Value\": 718777.6452332151}, {\"Date\": \"2018-05-31T00:00:00-04:00\", \"Stock\": \"AMZN\", \"Value\": 828936.8432214984}, {\"Date\": \"2018-06-30T00:00:00-04:00\", \"Stock\": \"AMZN\", \"Value\": 859993.3393663812}, {\"Date\": \"2018-07-31T00:00:00-04:00\", \"Stock\": \"AMZN\", \"Value\": 897839.4520435743}, {\"Date\": \"2018-08-31T00:00:00-04:00\", \"Stock\": \"AMZN\", \"Value\": 941526.9340104389}, {\"Date\": \"2018-09-30T00:00:00-04:00\", \"Stock\": \"AMZN\", \"Value\": 1068487.503118395}, {\"Date\": \"2018-10-31T00:00:00-04:00\", \"Stock\": \"AMZN\", \"Value\": 1050072.6248038632}, {\"Date\": \"2018-11-30T00:00:00-05:00\", \"Stock\": \"AMZN\", \"Value\": 872561.4924171008}, {\"Date\": \"2018-12-31T00:00:00-05:00\", \"Stock\": \"AMZN\", \"Value\": 928529.1039297765}, {\"Date\": \"2019-01-31T00:00:00-05:00\", \"Stock\": \"AMZN\", \"Value\": 806341.2673605566}, {\"Date\": \"2019-02-28T00:00:00-05:00\", \"Stock\": \"AMZN\", \"Value\": 851972.4883010142}, {\"Date\": \"2019-03-31T00:00:00-04:00\", \"Stock\": \"AMZN\", \"Value\": 875809.6908836438}, {\"Date\": \"2019-04-30T00:00:00-04:00\", \"Stock\": \"AMZN\", \"Value\": 950443.6716757258}, {\"Date\": \"2019-05-31T00:00:00-04:00\", \"Stock\": \"AMZN\", \"Value\": 1001434.2242331936}, {\"Date\": \"2019-06-30T00:00:00-04:00\", \"Stock\": \"AMZN\", \"Value\": 886790.4770909075}, {\"Date\": \"2019-07-31T00:00:00-04:00\", \"Stock\": \"AMZN\", \"Value\": 1007024.1824979034}, {\"Date\": \"2019-08-31T00:00:00-04:00\", \"Stock\": \"AMZN\", \"Value\": 971991.3951629949}, {\"Date\": \"2019-09-30T00:00:00-04:00\", \"Stock\": \"AMZN\", \"Value\": 937686.7804914815}, {\"Date\": \"2019-10-31T00:00:00-04:00\", \"Stock\": \"AMZN\", \"Value\": 909296.9998892712}, {\"Date\": \"2019-11-30T00:00:00-05:00\", \"Stock\": \"AMZN\", \"Value\": 938525.0304144548}, {\"Date\": \"2019-12-31T00:00:00-05:00\", \"Stock\": \"AMZN\", \"Value\": 933369.9452740035}, {\"Date\": \"2020-01-31T00:00:00-05:00\", \"Stock\": \"AMZN\", \"Value\": 994356.4243161496}, {\"Date\": \"2020-02-29T00:00:00-05:00\", \"Stock\": \"AMZN\", \"Value\": 1049988.767835601}, {\"Date\": \"2020-03-31T00:00:00-04:00\", \"Stock\": \"AMZN\", \"Value\": 1023663.1157152798}, {\"Date\": \"2020-04-30T00:00:00-04:00\", \"Stock\": \"AMZN\", \"Value\": 999433.0084624792}, {\"Date\": \"2020-05-31T00:00:00-04:00\", \"Stock\": \"AMZN\", \"Value\": 1197643.1422849935}, {\"Date\": \"2020-06-30T00:00:00-04:00\", \"Stock\": \"AMZN\", \"Value\": 1294563.5712961962}, {\"Date\": \"2020-07-31T00:00:00-04:00\", \"Stock\": \"AMZN\", \"Value\": 1508134.2392546276}, {\"Date\": \"2020-08-31T00:00:00-04:00\", \"Stock\": \"AMZN\", \"Value\": 1630301.1315667597}, {\"Date\": \"2020-09-30T00:00:00-04:00\", \"Stock\": \"AMZN\", \"Value\": 1833168.6446342047}, {\"Date\": \"2020-10-31T00:00:00-04:00\", \"Stock\": \"AMZN\", \"Value\": 1687599.5028036137}, {\"Date\": \"2020-11-30T00:00:00-05:00\", \"Stock\": \"AMZN\", \"Value\": 1574029.668446491}, {\"Date\": \"2020-12-31T00:00:00-05:00\", \"Stock\": \"AMZN\", \"Value\": 1686981.2475199713}, {\"Date\": \"2021-01-31T00:00:00-05:00\", \"Stock\": \"AMZN\", \"Value\": 1669456.9797711312}, {\"Date\": \"2021-02-28T00:00:00-05:00\", \"Stock\": \"AMZN\", \"Value\": 1751315.450219782}, {\"Date\": \"2021-03-31T00:00:00-04:00\", \"Stock\": \"AMZN\", \"Value\": 1648244.604216999}, {\"Date\": \"2021-04-30T00:00:00-04:00\", \"Stock\": \"AMZN\", \"Value\": 1656029.6325403508}, {\"Date\": \"2021-05-31T00:00:00-04:00\", \"Stock\": \"AMZN\", \"Value\": 1774162.4371056855}, {\"Date\": \"2021-06-30T00:00:00-04:00\", \"Stock\": \"AMZN\", \"Value\": 1686232.050659576}, {\"Date\": \"2021-07-31T00:00:00-04:00\", \"Stock\": \"AMZN\", \"Value\": 1798513.0937466081}, {\"Date\": \"2021-08-31T00:00:00-04:00\", \"Stock\": \"AMZN\", \"Value\": 1745343.1393533577}, {\"Date\": \"2021-09-30T00:00:00-04:00\", \"Stock\": \"AMZN\", \"Value\": 1822627.927645515}, {\"Date\": \"2021-10-31T00:00:00-04:00\", \"Stock\": \"AMZN\", \"Value\": 1720080.847949743}, {\"Date\": \"2021-11-30T00:00:00-05:00\", \"Stock\": \"AMZN\", \"Value\": 1738338.6443361195}, {\"Date\": \"2021-12-31T00:00:00-05:00\", \"Stock\": \"AMZN\", \"Value\": 1804145.020465405}, {\"Date\": \"2022-01-31T00:00:00-05:00\", \"Stock\": \"AMZN\", \"Value\": 1785478.5712460862}, {\"Date\": \"2022-02-28T00:00:00-05:00\", \"Stock\": \"AMZN\", \"Value\": 1584187.9528935533}, {\"Date\": \"2022-03-31T00:00:00-04:00\", \"Stock\": \"AMZN\", \"Value\": 1583648.3584838575}, {\"Date\": \"2022-04-30T00:00:00-04:00\", \"Stock\": \"AMZN\", \"Value\": 1713762.7170216383}, {\"Date\": \"2022-05-31T00:00:00-04:00\", \"Stock\": \"AMZN\", \"Value\": 1304496.5850697}, {\"Date\": \"2022-06-30T00:00:00-04:00\", \"Stock\": \"AMZN\", \"Value\": 1274990.8432883262}, {\"Date\": \"2022-07-31T00:00:00-04:00\", \"Stock\": \"AMZN\", \"Value\": 1147956.9692805635}, {\"Date\": \"2022-08-31T00:00:00-04:00\", \"Stock\": \"AMZN\", \"Value\": 1418600.7378022901}, {\"Date\": \"2022-09-30T00:00:00-04:00\", \"Stock\": \"AMZN\", \"Value\": 1339283.1574739618}, {\"Date\": \"2022-10-31T00:00:00-04:00\", \"Stock\": \"AMZN\", \"Value\": 1214177.1943371077}, {\"Date\": \"2022-11-30T00:00:00-05:00\", \"Stock\": \"AMZN\", \"Value\": 1014154.4229975785}, {\"Date\": \"2022-12-31T00:00:00-05:00\", \"Stock\": \"AMZN\", \"Value\": 1000637.942764308}, {\"Date\": \"2023-01-31T00:00:00-05:00\", \"Stock\": \"AMZN\", \"Value\": 899212.020342015}, {\"Date\": \"2023-02-28T00:00:00-05:00\", \"Stock\": \"AMZN\", \"Value\": 1101749.541450464}, {\"Date\": \"2023-03-31T00:00:00-04:00\", \"Stock\": \"AMZN\", \"Value\": 965746.5691346959}, {\"Date\": \"2023-04-30T00:00:00-04:00\", \"Stock\": \"AMZN\", \"Value\": 1073040.1610778887}, {\"Date\": \"2023-05-31T00:00:00-04:00\", \"Stock\": \"AMZN\", \"Value\": 1069268.1163644218}, {\"Date\": \"2023-06-30T00:00:00-04:00\", \"Stock\": \"AMZN\", \"Value\": 1286369.810199989}, {\"Date\": \"2023-07-31T00:00:00-04:00\", \"Stock\": \"AMZN\", \"Value\": 1364430.09558377}, {\"Date\": \"2023-08-31T00:00:00-04:00\", \"Stock\": \"AMZN\", \"Value\": 1379832.598173774}, {\"Date\": \"2023-09-30T00:00:00-04:00\", \"Stock\": \"AMZN\", \"Value\": 1447205.3169495156}, {\"Date\": \"2023-10-31T00:00:00-04:00\", \"Stock\": \"AMZN\", \"Value\": 1356466.9611352622}, {\"Date\": \"2023-11-30T00:00:00-05:00\", \"Stock\": \"AMZN\", \"Value\": 1435470.137787541}, {\"Date\": \"2023-12-31T00:00:00-05:00\", \"Stock\": \"AMZN\", \"Value\": 1540563.303697951}, {\"Date\": \"2024-01-31T00:00:00-05:00\", \"Stock\": \"AMZN\", \"Value\": 1570949.10397656}, {\"Date\": \"2024-02-29T00:00:00-05:00\", \"Stock\": \"AMZN\", \"Value\": 1668917.3853614354}, {\"Date\": \"2024-03-31T00:00:00-04:00\", \"Stock\": \"AMZN\", \"Value\": 1867368.5380202804}, {\"Date\": \"2024-04-30T00:00:00-04:00\", \"Stock\": \"AMZN\", \"Value\": 1896182.7196182054}, {\"Date\": \"2024-05-31T00:00:00-04:00\", \"Stock\": \"AMZN\", \"Value\": 1875541.274919488}, {\"Date\": \"2024-06-30T00:00:00-04:00\", \"Stock\": \"AMZN\", \"Value\": 1868625.832964828}, {\"Date\": \"2024-07-31T00:00:00-04:00\", \"Stock\": \"AMZN\", \"Value\": 2066238.7357007002}, {\"Date\": \"2024-08-31T00:00:00-04:00\", \"Stock\": \"AMZN\", \"Value\": 1928664.2246441604}, {\"Date\": \"2024-09-30T00:00:00-04:00\", \"Stock\": \"AMZN\", \"Value\": 1846727.093321563}, {\"Date\": \"2024-10-31T00:00:00-04:00\", \"Stock\": \"AMZN\", \"Value\": 1939770.7563338615}, {\"Date\": \"2024-11-30T00:00:00-05:00\", \"Stock\": \"AMZN\", \"Value\": 2073887.5464130708}, {\"Date\": \"2024-12-31T00:00:00-05:00\", \"Stock\": \"AMZN\", \"Value\": 2207795.053801231}, {\"Date\": \"2025-01-31T00:00:00-05:00\", \"Stock\": \"AMZN\", \"Value\": 2307439.6751522273}, {\"Date\": \"2025-02-28T00:00:00-05:00\", \"Stock\": \"AMZN\", \"Value\": 2487659.2517160117}, {\"Date\": \"2025-03-31T00:00:00-04:00\", \"Stock\": \"AMZN\", \"Value\": 2148175.867023297}, {\"Date\": \"2025-04-30T00:00:00-04:00\", \"Stock\": \"AMZN\", \"Value\": 2013534.9908774267}, {\"Date\": \"2025-05-31T00:00:00-04:00\", \"Stock\": \"AMZN\", \"Value\": 1992893.5461787088}, {\"Date\": \"2015-01-31T00:00:00-05:00\", \"Stock\": \"^GSPC\", \"Value\": 69745.9142664294}, {\"Date\": \"2015-02-28T00:00:00-05:00\", \"Stock\": \"^GSPC\", \"Value\": 68480.24122354218}, {\"Date\": \"2015-03-31T00:00:00-04:00\", \"Stock\": \"^GSPC\", \"Value\": 71751.67496834994}, {\"Date\": \"2015-04-30T00:00:00-04:00\", \"Stock\": \"^GSPC\", \"Value\": 69796.40534290882}, {\"Date\": \"2015-05-31T00:00:00-04:00\", \"Stock\": \"^GSPC\", \"Value\": 71443.30959171269}, {\"Date\": \"2015-06-30T00:00:00-04:00\", \"Stock\": \"^GSPC\", \"Value\": 71559.87837224602}, {\"Date\": \"2015-07-31T00:00:00-04:00\", \"Stock\": \"^GSPC\", \"Value\": 70397.2185423333}, {\"Date\": \"2015-08-31T00:00:00-04:00\", \"Stock\": \"^GSPC\", \"Value\": 71095.9693729823}, {\"Date\": \"2015-09-30T00:00:00-04:00\", \"Stock\": \"^GSPC\", \"Value\": 64854.34820850307}, {\"Date\": \"2015-10-31T00:00:00-04:00\", \"Stock\": \"^GSPC\", \"Value\": 65192.199116284435}, {\"Date\": \"2015-11-30T00:00:00-05:00\", \"Stock\": \"^GSPC\", \"Value\": 71299.62967606171}, {\"Date\": \"2015-12-31T00:00:00-05:00\", \"Stock\": \"^GSPC\", \"Value\": 71251.5047224519}, {\"Date\": \"2016-01-31T00:00:00-05:00\", \"Stock\": \"^GSPC\", \"Value\": 68202.7099026216}, {\"Date\": \"2016-02-29T00:00:00-05:00\", \"Stock\": \"^GSPC\", \"Value\": 65719.4804973001}, {\"Date\": \"2016-03-31T00:00:00-04:00\", \"Stock\": \"^GSPC\", \"Value\": 67040.05007270888}, {\"Date\": \"2016-04-30T00:00:00-04:00\", \"Stock\": \"^GSPC\", \"Value\": 70239.98719570193}, {\"Date\": \"2016-05-31T00:00:00-04:00\", \"Stock\": \"^GSPC\", \"Value\": 70533.10514419702}, {\"Date\": \"2016-06-30T00:00:00-04:00\", \"Stock\": \"^GSPC\", \"Value\": 71139.68473397153}, {\"Date\": \"2016-07-31T00:00:00-04:00\", \"Stock\": \"^GSPC\", \"Value\": 71262.35083113033}, {\"Date\": \"2016-08-31T00:00:00-04:00\", \"Stock\": \"^GSPC\", \"Value\": 73562.9337518646}, {\"Date\": \"2016-09-30T00:00:00-04:00\", \"Stock\": \"^GSPC\", \"Value\": 73563.6121507293}, {\"Date\": \"2016-10-31T00:00:00-04:00\", \"Stock\": \"^GSPC\", \"Value\": 73236.25987903714}, {\"Date\": \"2016-11-30T00:00:00-05:00\", \"Stock\": \"^GSPC\", \"Value\": 71559.53917281367}, {\"Date\": \"2016-12-31T00:00:00-05:00\", \"Stock\": \"^GSPC\", \"Value\": 74248.80327724105}, {\"Date\": \"2017-01-31T00:00:00-05:00\", \"Stock\": \"^GSPC\", \"Value\": 76510.75055531452}, {\"Date\": \"2017-02-28T00:00:00-05:00\", \"Stock\": \"^GSPC\", \"Value\": 77246.77195773802}, {\"Date\": \"2017-03-31T00:00:00-04:00\", \"Stock\": \"^GSPC\", \"Value\": 81191.53725866045}, {\"Date\": \"2017-04-30T00:00:00-04:00\", \"Stock\": \"^GSPC\", \"Value\": 79933.66166613893}, {\"Date\": \"2017-05-31T00:00:00-04:00\", \"Stock\": \"^GSPC\", \"Value\": 80932.98455963792}, {\"Date\": \"2017-06-30T00:00:00-04:00\", \"Stock\": \"^GSPC\", \"Value\": 82347.08217365062}, {\"Date\": \"2017-07-31T00:00:00-04:00\", \"Stock\": \"^GSPC\", \"Value\": 82311.49932588101}, {\"Date\": \"2017-08-31T00:00:00-04:00\", \"Stock\": \"^GSPC\", \"Value\": 83915.70581199274}, {\"Date\": \"2017-09-30T00:00:00-04:00\", \"Stock\": \"^GSPC\", \"Value\": 83922.48152748293}, {\"Date\": \"2017-10-31T00:00:00-04:00\", \"Stock\": \"^GSPC\", \"Value\": 85703.91558042112}, {\"Date\": \"2017-11-30T00:00:00-05:00\", \"Stock\": \"^GSPC\", \"Value\": 87406.39062403284}, {\"Date\": \"2017-12-31T00:00:00-05:00\", \"Stock\": \"^GSPC\", \"Value\": 89536.51342027394}, {\"Date\": \"2018-01-31T00:00:00-05:00\", \"Stock\": \"^GSPC\", \"Value\": 91352.51272268468}, {\"Date\": \"2018-02-28T00:00:00-05:00\", \"Stock\": \"^GSPC\", \"Value\": 95628.01401646592}, {\"Date\": \"2018-03-31T00:00:00-04:00\", \"Stock\": \"^GSPC\", \"Value\": 90737.80061969056}, {\"Date\": \"2018-04-30T00:00:00-04:00\", \"Stock\": \"^GSPC\", \"Value\": 87491.77787626027}, {\"Date\": \"2018-05-31T00:00:00-04:00\", \"Stock\": \"^GSPC\", \"Value\": 89962.8126483308}, {\"Date\": \"2018-06-30T00:00:00-04:00\", \"Stock\": \"^GSPC\", \"Value\": 92667.6633803327}, {\"Date\": \"2018-07-31T00:00:00-04:00\", \"Stock\": \"^GSPC\", \"Value\": 92399.61309720424}, {\"Date\": \"2018-08-31T00:00:00-04:00\", \"Stock\": \"^GSPC\", \"Value\": 95335.91366626791}, {\"Date\": \"2018-09-30T00:00:00-04:00\", \"Stock\": \"^GSPC\", \"Value\": 98160.71689996978}, {\"Date\": \"2018-10-31T00:00:00-04:00\", \"Stock\": \"^GSPC\", \"Value\": 99105.14739752564}, {\"Date\": \"2018-11-30T00:00:00-05:00\", \"Stock\": \"^GSPC\", \"Value\": 92862.51277132779}, {\"Date\": \"2018-12-31T00:00:00-05:00\", \"Stock\": \"^GSPC\", \"Value\": 94556.8553017199}, {\"Date\": \"2019-01-31T00:00:00-05:00\", \"Stock\": \"^GSPC\", \"Value\": 85057.01262398093}, {\"Date\": \"2019-02-28T00:00:00-05:00\", \"Stock\": \"^GSPC\", \"Value\": 91715.77876842192}, {\"Date\": \"2019-03-31T00:00:00-04:00\", \"Stock\": \"^GSPC\", \"Value\": 95008.22219514339}, {\"Date\": \"2019-04-30T00:00:00-04:00\", \"Stock\": \"^GSPC\", \"Value\": 97160.03720874136}, {\"Date\": \"2019-05-31T00:00:00-04:00\", \"Stock\": \"^GSPC\", \"Value\": 99076.00106581388}, {\"Date\": \"2019-06-30T00:00:00-04:00\", \"Stock\": \"^GSPC\", \"Value\": 93000.7654960611}, {\"Date\": \"2019-07-31T00:00:00-04:00\", \"Stock\": \"^GSPC\", \"Value\": 100451.81050975501}, {\"Date\": \"2019-08-31T00:00:00-04:00\", \"Stock\": \"^GSPC\", \"Value\": 100086.848466856}, {\"Date\": \"2019-09-30T00:00:00-04:00\", \"Stock\": \"^GSPC\", \"Value\": 98484.33797790605}, {\"Date\": \"2019-10-31T00:00:00-04:00\", \"Stock\": \"^GSPC\", \"Value\": 99635.81249970796}, {\"Date\": \"2019-11-30T00:00:00-05:00\", \"Stock\": \"^GSPC\", \"Value\": 103927.91801936079}, {\"Date\": \"2019-12-31T00:00:00-05:00\", \"Stock\": \"^GSPC\", \"Value\": 105519.25147335684}, {\"Date\": \"2020-01-31T00:00:00-05:00\", \"Stock\": \"^GSPC\", \"Value\": 110398.27956202139}, {\"Date\": \"2020-02-29T00:00:00-05:00\", \"Stock\": \"^GSPC\", \"Value\": 110095.66402942041}, {\"Date\": \"2020-03-31T00:00:00-04:00\", \"Stock\": \"^GSPC\", \"Value\": 104718.16169201958}, {\"Date\": \"2020-04-30T00:00:00-04:00\", \"Stock\": \"^GSPC\", \"Value\": 83717.46442667411}, {\"Date\": \"2020-05-31T00:00:00-04:00\", \"Stock\": \"^GSPC\", \"Value\": 95923.84556041982}, {\"Date\": \"2020-06-30T00:00:00-04:00\", \"Stock\": \"^GSPC\", \"Value\": 103549.06534604903}, {\"Date\": \"2020-07-31T00:00:00-04:00\", \"Stock\": \"^GSPC\", \"Value\": 105586.68597514018}, {\"Date\": \"2020-08-31T00:00:00-04:00\", \"Stock\": \"^GSPC\", \"Value\": 111643.96052129196}, {\"Date\": \"2020-09-30T00:00:00-04:00\", \"Stock\": \"^GSPC\", \"Value\": 119507.05838688387}, {\"Date\": \"2020-10-31T00:00:00-04:00\", \"Stock\": \"^GSPC\", \"Value\": 114564.66618962421}, {\"Date\": \"2020-11-30T00:00:00-05:00\", \"Stock\": \"^GSPC\", \"Value\": 112173.60802517724}, {\"Date\": \"2020-12-31T00:00:00-05:00\", \"Stock\": \"^GSPC\", \"Value\": 124108.89435406022}, {\"Date\": \"2021-01-31T00:00:00-05:00\", \"Stock\": \"^GSPC\", \"Value\": 125403.3703926484}, {\"Date\": \"2021-02-28T00:00:00-05:00\", \"Stock\": \"^GSPC\", \"Value\": 127884.23367510032}, {\"Date\": \"2021-03-31T00:00:00-04:00\", \"Stock\": \"^GSPC\", \"Value\": 132220.3937551747}, {\"Date\": \"2021-04-30T00:00:00-04:00\", \"Stock\": \"^GSPC\", \"Value\": 136220.73812406184}, {\"Date\": \"2021-05-31T00:00:00-04:00\", \"Stock\": \"^GSPC\", \"Value\": 142076.048364296}, {\"Date\": \"2021-06-30T00:00:00-04:00\", \"Stock\": \"^GSPC\", \"Value\": 142393.90305188225}, {\"Date\": \"2021-07-31T00:00:00-04:00\", \"Stock\": \"^GSPC\", \"Value\": 146389.1594292841}, {\"Date\": \"2021-08-31T00:00:00-04:00\", \"Stock\": \"^GSPC\", \"Value\": 148667.04080752132}, {\"Date\": \"2021-09-30T00:00:00-04:00\", \"Stock\": \"^GSPC\", \"Value\": 153307.15667161232}, {\"Date\": \"2021-10-31T00:00:00-04:00\", \"Stock\": \"^GSPC\", \"Value\": 147646.3648960978}, {\"Date\": \"2021-11-30T00:00:00-05:00\", \"Stock\": \"^GSPC\", \"Value\": 156342.74339647303}, {\"Date\": \"2021-12-31T00:00:00-05:00\", \"Stock\": \"^GSPC\", \"Value\": 152932.71359092116}, {\"Date\": \"2022-01-31T00:00:00-05:00\", \"Stock\": \"^GSPC\", \"Value\": 162540.31413710915}, {\"Date\": \"2022-02-28T00:00:00-05:00\", \"Stock\": \"^GSPC\", \"Value\": 154067.92308628387}, {\"Date\": \"2022-03-31T00:00:00-04:00\", \"Stock\": \"^GSPC\", \"Value\": 145925.58135629585}, {\"Date\": \"2022-04-30T00:00:00-04:00\", \"Stock\": \"^GSPC\", \"Value\": 154044.8740711976}, {\"Date\": \"2022-05-31T00:00:00-04:00\", \"Stock\": \"^GSPC\", \"Value\": 140812.73730769995}, {\"Date\": \"2022-06-30T00:00:00-04:00\", \"Stock\": \"^GSPC\", \"Value\": 138977.76765654804}, {\"Date\": \"2022-07-31T00:00:00-04:00\", \"Stock\": \"^GSPC\", \"Value\": 129628.38888310712}, {\"Date\": \"2022-08-31T00:00:00-04:00\", \"Stock\": \"^GSPC\", \"Value\": 139567.39554786173}, {\"Date\": \"2022-09-30T00:00:00-04:00\", \"Stock\": \"^GSPC\", \"Value\": 134424.0566429815}, {\"Date\": \"2022-10-31T00:00:00-04:00\", \"Stock\": \"^GSPC\", \"Value\": 124650.40556492099}, {\"Date\": \"2022-11-30T00:00:00-05:00\", \"Stock\": \"^GSPC\", \"Value\": 130671.08793816298}, {\"Date\": \"2022-12-31T00:00:00-05:00\", \"Stock\": \"^GSPC\", \"Value\": 138142.12089889514}, {\"Date\": \"2023-01-31T00:00:00-05:00\", \"Stock\": \"^GSPC\", \"Value\": 129588.05724328457}, {\"Date\": \"2023-02-28T00:00:00-05:00\", \"Stock\": \"^GSPC\", \"Value\": 139587.0525686245}, {\"Date\": \"2023-03-31T00:00:00-04:00\", \"Stock\": \"^GSPC\", \"Value\": 133900.15898313248}, {\"Date\": \"2023-04-30T00:00:00-04:00\", \"Stock\": \"^GSPC\", \"Value\": 139766.6462583205}, {\"Date\": \"2023-05-31T00:00:00-04:00\", \"Stock\": \"^GSPC\", \"Value\": 141235.9920140225}, {\"Date\": \"2023-06-30T00:00:00-04:00\", \"Stock\": \"^GSPC\", \"Value\": 143037.07481456653}, {\"Date\": \"2023-07-31T00:00:00-04:00\", \"Stock\": \"^GSPC\", \"Value\": 150985.90740497515}, {\"Date\": \"2023-08-31T00:00:00-04:00\", \"Stock\": \"^GSPC\", \"Value\": 155090.965120577}, {\"Date\": \"2023-09-30T00:00:00-04:00\", \"Stock\": \"^GSPC\", \"Value\": 153025.22403122805}, {\"Date\": \"2023-10-31T00:00:00-04:00\", \"Stock\": \"^GSPC\", \"Value\": 145320.03591113217}, {\"Date\": \"2023-11-30T00:00:00-05:00\", \"Stock\": \"^GSPC\", \"Value\": 143607.72408398223}, {\"Date\": \"2023-12-31T00:00:00-05:00\", \"Stock\": \"^GSPC\", \"Value\": 155697.53643719462}, {\"Date\": \"2024-01-31T00:00:00-05:00\", \"Stock\": \"^GSPC\", \"Value\": 160719.57431580234}, {\"Date\": \"2024-02-29T00:00:00-05:00\", \"Stock\": \"^GSPC\", \"Value\": 166255.32559813157}, {\"Date\": \"2024-03-31T00:00:00-04:00\", \"Stock\": \"^GSPC\", \"Value\": 174079.46516794412}, {\"Date\": \"2024-04-30T00:00:00-04:00\", \"Stock\": \"^GSPC\", \"Value\": 177694.85127373715}, {\"Date\": \"2024-05-31T00:00:00-04:00\", \"Stock\": \"^GSPC\", \"Value\": 170057.43685485696}, {\"Date\": \"2024-06-30T00:00:00-04:00\", \"Stock\": \"^GSPC\", \"Value\": 179037.78319221063}, {\"Date\": \"2024-07-31T00:00:00-04:00\", \"Stock\": \"^GSPC\", \"Value\": 185533.55159967026}, {\"Date\": \"2024-08-31T00:00:00-04:00\", \"Stock\": \"^GSPC\", \"Value\": 184570.8374253948}, {\"Date\": \"2024-09-30T00:00:00-04:00\", \"Stock\": \"^GSPC\", \"Value\": 187358.0308878898}, {\"Date\": \"2024-10-31T00:00:00-04:00\", \"Stock\": \"^GSPC\", \"Value\": 193451.55840751907}, {\"Date\": \"2024-11-30T00:00:00-05:00\", \"Stock\": \"^GSPC\", \"Value\": 194130.98314368076}, {\"Date\": \"2024-12-31T00:00:00-05:00\", \"Stock\": \"^GSPC\", \"Value\": 204918.8653439501}, {\"Date\": \"2025-01-31T00:00:00-05:00\", \"Stock\": \"^GSPC\", \"Value\": 198866.67051612673}, {\"Date\": \"2025-02-28T00:00:00-05:00\", \"Stock\": \"^GSPC\", \"Value\": 203137.09209157954}, {\"Date\": \"2025-03-31T00:00:00-04:00\", \"Stock\": \"^GSPC\", \"Value\": 198228.59501808463}, {\"Date\": \"2025-04-30T00:00:00-04:00\", \"Stock\": \"^GSPC\", \"Value\": 190886.9955968446}, {\"Date\": \"2025-05-31T00:00:00-04:00\", \"Stock\": \"^GSPC\", \"Value\": 189906.65959840053}, {\"Date\": \"2015-01-31T00:00:00-05:00\", \"Stock\": \"SBUX\", \"Value\": 84374.05593311283}, {\"Date\": \"2015-02-28T00:00:00-05:00\", \"Stock\": \"SBUX\", \"Value\": 91160.03381093842}, {\"Date\": \"2015-03-31T00:00:00-04:00\", \"Stock\": \"SBUX\", \"Value\": 97981.14618961075}, {\"Date\": \"2015-04-30T00:00:00-04:00\", \"Stock\": \"SBUX\", \"Value\": 96722.9642705527}, {\"Date\": \"2015-05-31T00:00:00-04:00\", \"Stock\": \"SBUX\", \"Value\": 104583.94204626346}, {\"Date\": \"2015-06-30T00:00:00-04:00\", \"Stock\": \"SBUX\", \"Value\": 108943.12975846135}, {\"Date\": \"2015-07-31T00:00:00-04:00\", \"Stock\": \"SBUX\", \"Value\": 112427.14022017212}, {\"Date\": \"2015-08-31T00:00:00-04:00\", \"Stock\": \"SBUX\", \"Value\": 121397.94351988207}, {\"Date\": \"2015-09-30T00:00:00-04:00\", \"Stock\": \"SBUX\", \"Value\": 111921.24201732081}, {\"Date\": \"2015-10-31T00:00:00-04:00\", \"Stock\": \"SBUX\", \"Value\": 120247.34653116405}, {\"Date\": \"2015-11-30T00:00:00-05:00\", \"Stock\": \"SBUX\", \"Value\": 130205.1976486176}, {\"Date\": \"2015-12-31T00:00:00-05:00\", \"Stock\": \"SBUX\", \"Value\": 128800.86971930668}, {\"Date\": \"2016-01-31T00:00:00-05:00\", \"Stock\": \"SBUX\", \"Value\": 122273.7095628284}, {\"Date\": \"2016-02-29T00:00:00-05:00\", \"Stock\": \"SBUX\", \"Value\": 128863.7836414273}, {\"Date\": \"2016-03-31T00:00:00-04:00\", \"Stock\": \"SBUX\", \"Value\": 126421.29877844332}, {\"Date\": \"2016-04-30T00:00:00-04:00\", \"Stock\": \"SBUX\", \"Value\": 128484.81364905248}, {\"Date\": \"2016-05-31T00:00:00-04:00\", \"Stock\": \"SBUX\", \"Value\": 120778.2153256886}, {\"Date\": \"2016-06-30T00:00:00-04:00\", \"Stock\": \"SBUX\", \"Value\": 115833.86443235549}, {\"Date\": \"2016-07-31T00:00:00-04:00\", \"Stock\": \"SBUX\", \"Value\": 120419.07123022016}, {\"Date\": \"2016-08-31T00:00:00-04:00\", \"Stock\": \"SBUX\", \"Value\": 121771.38272407415}, {\"Date\": \"2016-09-30T00:00:00-04:00\", \"Stock\": \"SBUX\", \"Value\": 119396.58003689712}, {\"Date\": \"2016-10-31T00:00:00-04:00\", \"Stock\": \"SBUX\", \"Value\": 114159.30006892212}, {\"Date\": \"2016-11-30T00:00:00-05:00\", \"Stock\": \"SBUX\", \"Value\": 111318.07723066933}, {\"Date\": \"2016-12-31T00:00:00-05:00\", \"Stock\": \"SBUX\", \"Value\": 124635.98351865956}, {\"Date\": \"2017-01-31T00:00:00-05:00\", \"Stock\": \"SBUX\", \"Value\": 117904.69577319594}, {\"Date\": \"2017-02-28T00:00:00-05:00\", \"Stock\": \"SBUX\", \"Value\": 114815.95809834625}, {\"Date\": \"2017-03-31T00:00:00-04:00\", \"Stock\": \"SBUX\", \"Value\": 122266.14213187683}, {\"Date\": \"2017-04-30T00:00:00-04:00\", \"Stock\": \"SBUX\", \"Value\": 125047.8197130627}, {\"Date\": \"2017-05-31T00:00:00-04:00\", \"Stock\": \"SBUX\", \"Value\": 128771.03435059317}, {\"Date\": \"2017-06-30T00:00:00-04:00\", \"Stock\": \"SBUX\", \"Value\": 136971.86120331287}, {\"Date\": \"2017-07-31T00:00:00-04:00\", \"Stock\": \"SBUX\", \"Value\": 125154.7000229187}, {\"Date\": \"2017-08-31T00:00:00-04:00\", \"Stock\": \"SBUX\", \"Value\": 117591.71879793351}, {\"Date\": \"2017-09-30T00:00:00-04:00\", \"Stock\": \"SBUX\", \"Value\": 118554.21107442597}, {\"Date\": \"2017-10-31T00:00:00-04:00\", \"Stock\": \"SBUX\", \"Value\": 116136.92845916473}, {\"Date\": \"2017-11-30T00:00:00-05:00\", \"Stock\": \"SBUX\", \"Value\": 118985.89247040628}, {\"Date\": \"2017-12-31T00:00:00-05:00\", \"Stock\": \"SBUX\", \"Value\": 124367.88990299529}, {\"Date\": \"2018-01-31T00:00:00-05:00\", \"Stock\": \"SBUX\", \"Value\": 125040.51289516682}, {\"Date\": \"2018-02-28T00:00:00-05:00\", \"Stock\": \"SBUX\", \"Value\": 121503.85859619833}, {\"Date\": \"2018-03-31T00:00:00-04:00\", \"Stock\": \"SBUX\", \"Value\": 122533.73382610042}, {\"Date\": \"2018-04-30T00:00:00-04:00\", \"Stock\": \"SBUX\", \"Value\": 122686.42411975274}, {\"Date\": \"2018-05-31T00:00:00-04:00\", \"Stock\": \"SBUX\", \"Value\": 126809.4577941165}, {\"Date\": \"2018-06-30T00:00:00-04:00\", \"Stock\": \"SBUX\", \"Value\": 124797.22578147402}, {\"Date\": \"2018-07-31T00:00:00-04:00\", \"Stock\": \"SBUX\", \"Value\": 107583.05778694779}, {\"Date\": \"2018-08-31T00:00:00-04:00\", \"Stock\": \"SBUX\", \"Value\": 113876.66038381388}, {\"Date\": \"2018-09-30T00:00:00-04:00\", \"Stock\": \"SBUX\", \"Value\": 118202.47997254276}, {\"Date\": \"2018-10-31T00:00:00-04:00\", \"Stock\": \"SBUX\", \"Value\": 122729.20327023423}, {\"Date\": \"2018-11-30T00:00:00-05:00\", \"Stock\": \"SBUX\", \"Value\": 129464.08168446571}, {\"Date\": \"2018-12-31T00:00:00-05:00\", \"Stock\": \"SBUX\", \"Value\": 149850.6537970667}, {\"Date\": \"2019-01-31T00:00:00-05:00\", \"Stock\": \"SBUX\", \"Value\": 142791.05151539415}, {\"Date\": \"2019-02-28T00:00:00-05:00\", \"Stock\": \"SBUX\", \"Value\": 151204.87645332946}, {\"Date\": \"2019-03-31T00:00:00-04:00\", \"Stock\": \"SBUX\", \"Value\": 158108.564561327}, {\"Date\": \"2019-04-30T00:00:00-04:00\", \"Stock\": \"SBUX\", \"Value\": 165048.85432515165}, {\"Date\": \"2019-05-31T00:00:00-04:00\", \"Stock\": \"SBUX\", \"Value\": 172993.34410672117}, {\"Date\": \"2019-06-30T00:00:00-04:00\", \"Stock\": \"SBUX\", \"Value\": 170881.35520774603}, {\"Date\": \"2019-07-31T00:00:00-04:00\", \"Stock\": \"SBUX\", \"Value\": 189556.75164875115}, {\"Date\": \"2019-08-31T00:00:00-04:00\", \"Stock\": \"SBUX\", \"Value\": 213837.08551302023}, {\"Date\": \"2019-09-30T00:00:00-04:00\", \"Stock\": \"SBUX\", \"Value\": 217775.70166728026}, {\"Date\": \"2019-10-31T00:00:00-04:00\", \"Stock\": \"SBUX\", \"Value\": 194686.1185069826}, {\"Date\": \"2019-11-30T00:00:00-05:00\", \"Stock\": \"SBUX\", \"Value\": 187259.6502615236}, {\"Date\": \"2019-12-31T00:00:00-05:00\", \"Stock\": \"SBUX\", \"Value\": 191271.64346947506}, {\"Date\": \"2020-01-31T00:00:00-05:00\", \"Stock\": \"SBUX\", \"Value\": 202082.52938001393}, {\"Date\": \"2020-02-29T00:00:00-05:00\", \"Stock\": \"SBUX\", \"Value\": 194528.47656527135}, {\"Date\": \"2020-03-31T00:00:00-04:00\", \"Stock\": \"SBUX\", \"Value\": 187186.83304328518}, {\"Date\": \"2020-04-30T00:00:00-04:00\", \"Stock\": \"SBUX\", \"Value\": 142287.4602207028}, {\"Date\": \"2020-05-31T00:00:00-04:00\", \"Stock\": \"SBUX\", \"Value\": 167668.34371465413}, {\"Date\": \"2020-06-30T00:00:00-04:00\", \"Stock\": \"SBUX\", \"Value\": 178967.3096169006}, {\"Date\": \"2020-07-31T00:00:00-04:00\", \"Stock\": \"SBUX\", \"Value\": 169164.28195922225}, {\"Date\": \"2020-08-31T00:00:00-04:00\", \"Stock\": \"SBUX\", \"Value\": 172523.37189621918}, {\"Date\": \"2020-09-30T00:00:00-04:00\", \"Stock\": \"SBUX\", \"Value\": 197700.60076561966}, {\"Date\": \"2020-10-31T00:00:00-04:00\", \"Stock\": \"SBUX\", \"Value\": 199285.91963596817}, {\"Date\": \"2020-11-30T00:00:00-05:00\", \"Stock\": \"SBUX\", \"Value\": 197516.76238563974}, {\"Date\": \"2020-12-31T00:00:00-05:00\", \"Stock\": \"SBUX\", \"Value\": 228110.36065397956}, {\"Date\": \"2021-01-31T00:00:00-05:00\", \"Stock\": \"SBUX\", \"Value\": 237990.04715938453}, {\"Date\": \"2021-02-28T00:00:00-05:00\", \"Stock\": \"SBUX\", \"Value\": 227556.35521150733}, {\"Date\": \"2021-03-31T00:00:00-04:00\", \"Stock\": \"SBUX\", \"Value\": 247742.7475403006}, {\"Date\": \"2021-04-30T00:00:00-04:00\", \"Stock\": \"SBUX\", \"Value\": 253561.32975525182}, {\"Date\": \"2021-05-31T00:00:00-04:00\", \"Stock\": \"SBUX\", \"Value\": 268258.5933808797}, {\"Date\": \"2021-06-30T00:00:00-04:00\", \"Stock\": \"SBUX\", \"Value\": 263786.70500058116}, {\"Date\": \"2021-07-31T00:00:00-04:00\", \"Stock\": \"SBUX\", \"Value\": 263949.6171174194}, {\"Date\": \"2021-08-31T00:00:00-04:00\", \"Stock\": \"SBUX\", \"Value\": 280148.2822094504}, {\"Date\": \"2021-09-30T00:00:00-04:00\", \"Stock\": \"SBUX\", \"Value\": 274413.25060969946}, {\"Date\": \"2021-10-31T00:00:00-04:00\", \"Stock\": \"SBUX\", \"Value\": 263829.2331903424}, {\"Date\": \"2021-11-30T00:00:00-05:00\", \"Stock\": \"SBUX\", \"Value\": 256539.5964514776}, {\"Date\": \"2021-12-31T00:00:00-05:00\", \"Stock\": \"SBUX\", \"Value\": 254970.74446531714}, {\"Date\": \"2022-01-31T00:00:00-05:00\", \"Stock\": \"SBUX\", \"Value\": 273789.69043835317}, {\"Date\": \"2022-02-28T00:00:00-05:00\", \"Stock\": \"SBUX\", \"Value\": 231740.39164558303}, {\"Date\": \"2022-03-31T00:00:00-04:00\", \"Stock\": \"SBUX\", \"Value\": 212585.98840814392}, {\"Date\": \"2022-04-30T00:00:00-04:00\", \"Stock\": \"SBUX\", \"Value\": 215769.81123899392}, {\"Date\": \"2022-05-31T00:00:00-04:00\", \"Stock\": \"SBUX\", \"Value\": 177752.46668377714}, {\"Date\": \"2022-06-30T00:00:00-04:00\", \"Stock\": \"SBUX\", \"Value\": 181165.6676130122}, {\"Date\": \"2022-07-31T00:00:00-04:00\", \"Stock\": \"SBUX\", \"Value\": 188243.2039338533}, {\"Date\": \"2022-08-31T00:00:00-04:00\", \"Stock\": \"SBUX\", \"Value\": 201661.97712674688}, {\"Date\": \"2022-09-30T00:00:00-04:00\", \"Stock\": \"SBUX\", \"Value\": 203981.41401808412}, {\"Date\": \"2022-10-31T00:00:00-04:00\", \"Stock\": \"SBUX\", \"Value\": 204506.88715712147}, {\"Date\": \"2022-11-30T00:00:00-05:00\", \"Stock\": \"SBUX\", \"Value\": 208041.939168414}, {\"Date\": \"2022-12-31T00:00:00-05:00\", \"Stock\": \"SBUX\", \"Value\": 248322.44749960082}, {\"Date\": \"2023-01-31T00:00:00-05:00\", \"Stock\": \"SBUX\", \"Value\": 242220.7043734299}, {\"Date\": \"2023-02-28T00:00:00-05:00\", \"Stock\": \"SBUX\", \"Value\": 264225.48086307856}, {\"Date\": \"2023-03-31T00:00:00-04:00\", \"Stock\": \"SBUX\", \"Value\": 244883.0308274263}, {\"Date\": \"2023-04-30T00:00:00-04:00\", \"Stock\": \"SBUX\", \"Value\": 253139.98601048221}, {\"Date\": \"2023-05-31T00:00:00-04:00\", \"Stock\": \"SBUX\", \"Value\": 276582.8446463267}, {\"Date\": \"2023-06-30T00:00:00-04:00\", \"Stock\": \"SBUX\", \"Value\": 236615.43877076238}, {\"Date\": \"2023-07-31T00:00:00-04:00\", \"Stock\": \"SBUX\", \"Value\": 240570.36737184416}, {\"Date\": \"2023-08-31T00:00:00-04:00\", \"Stock\": \"SBUX\", \"Value\": 245689.88884797023}, {\"Date\": \"2023-09-30T00:00:00-04:00\", \"Stock\": \"SBUX\", \"Value\": 239048.02033762855}, {\"Date\": \"2023-10-31T00:00:00-04:00\", \"Stock\": \"SBUX\", \"Value\": 222290.27267470633}, {\"Date\": \"2023-11-30T00:00:00-05:00\", \"Stock\": \"SBUX\", \"Value\": 222826.90391346315}, {\"Date\": \"2023-12-31T00:00:00-05:00\", \"Stock\": \"SBUX\", \"Value\": 243304.81607593028}, {\"Date\": \"2024-01-31T00:00:00-05:00\", \"Stock\": \"SBUX\", \"Value\": 229741.54742213682}, {\"Date\": \"2024-02-29T00:00:00-05:00\", \"Stock\": \"SBUX\", \"Value\": 229005.76919945973}, {\"Date\": \"2024-03-31T00:00:00-04:00\", \"Stock\": \"SBUX\", \"Value\": 229865.4254946277}, {\"Date\": \"2024-04-30T00:00:00-04:00\", \"Stock\": \"SBUX\", \"Value\": 225843.49038121686}, {\"Date\": \"2024-05-31T00:00:00-04:00\", \"Stock\": \"SBUX\", \"Value\": 183675.1782929961}, {\"Date\": \"2024-06-30T00:00:00-04:00\", \"Stock\": \"SBUX\", \"Value\": 204062.87972883863}, {\"Date\": \"2024-07-31T00:00:00-04:00\", \"Stock\": \"SBUX\", \"Value\": 191756.42236247676}, {\"Date\": \"2024-08-31T00:00:00-04:00\", \"Stock\": \"SBUX\", \"Value\": 186734.42808320656}, {\"Date\": \"2024-09-30T00:00:00-04:00\", \"Stock\": \"SBUX\", \"Value\": 233059.2095356079}, {\"Date\": \"2024-10-31T00:00:00-04:00\", \"Stock\": \"SBUX\", \"Value\": 243689.19137612765}, {\"Date\": \"2024-11-30T00:00:00-05:00\", \"Stock\": \"SBUX\", \"Value\": 247290.8831110042}, {\"Date\": \"2024-12-31T00:00:00-05:00\", \"Stock\": \"SBUX\", \"Value\": 255464.4035068845}, {\"Date\": \"2025-01-31T00:00:00-05:00\", \"Stock\": \"SBUX\", \"Value\": 231958.95912832295}, {\"Date\": \"2025-02-28T00:00:00-05:00\", \"Stock\": \"SBUX\", \"Value\": 272200.0859310882}, {\"Date\": \"2025-03-31T00:00:00-04:00\", \"Stock\": \"SBUX\", \"Value\": 292022.14120796917}, {\"Date\": \"2025-04-30T00:00:00-04:00\", \"Stock\": \"SBUX\", \"Value\": 248551.55533259478}, {\"Date\": \"2025-05-31T00:00:00-04:00\", \"Stock\": \"SBUX\", \"Value\": 207510.05687867274}, {\"Date\": \"2015-01-31T00:00:00-05:00\", \"Stock\": \"TSN\", \"Value\": 68602.19692531996}, {\"Date\": \"2015-02-28T00:00:00-05:00\", \"Stock\": \"TSN\", \"Value\": 67949.6772976975}, {\"Date\": \"2015-03-31T00:00:00-04:00\", \"Stock\": \"TSN\", \"Value\": 72589.31388488693}, {\"Date\": \"2015-04-30T00:00:00-04:00\", \"Stock\": \"TSN\", \"Value\": 66099.80734186443}, {\"Date\": \"2015-05-31T00:00:00-04:00\", \"Stock\": \"TSN\", \"Value\": 69697.46870658909}, {\"Date\": \"2015-06-30T00:00:00-04:00\", \"Stock\": \"TSN\", \"Value\": 72845.83999850988}, {\"Date\": \"2015-07-31T00:00:00-04:00\", \"Stock\": \"TSN\", \"Value\": 74122.65087461911}, {\"Date\": \"2015-08-31T00:00:00-04:00\", \"Stock\": \"TSN\", \"Value\": 68946.48218855895}, {\"Date\": \"2015-09-30T00:00:00-04:00\", \"Stock\": \"TSN\", \"Value\": 71600.13861845313}, {\"Date\": \"2015-10-31T00:00:00-04:00\", \"Stock\": \"TSN\", \"Value\": 75526.04210392747}, {\"Date\": \"2015-11-30T00:00:00-05:00\", \"Stock\": \"TSN\", \"Value\": 77445.72784305183}, {\"Date\": \"2015-12-31T00:00:00-05:00\", \"Stock\": \"TSN\", \"Value\": 87862.14749371607}, {\"Date\": \"2016-01-31T00:00:00-05:00\", \"Stock\": \"TSN\", \"Value\": 91869.28041795953}, {\"Date\": \"2016-02-29T00:00:00-05:00\", \"Stock\": \"TSN\", \"Value\": 94211.09493109157}, {\"Date\": \"2016-03-31T00:00:00-04:00\", \"Stock\": \"TSN\", \"Value\": 114018.28944330523}, {\"Date\": \"2016-04-30T00:00:00-04:00\", \"Stock\": \"TSN\", \"Value\": 118382.21299153593}, {\"Date\": \"2016-05-31T00:00:00-04:00\", \"Stock\": \"TSN\", \"Value\": 115913.3995013792}, {\"Date\": \"2016-06-30T00:00:00-04:00\", \"Stock\": \"TSN\", \"Value\": 112068.2986225382}, {\"Date\": \"2016-07-31T00:00:00-04:00\", \"Stock\": \"TSN\", \"Value\": 115048.19434546785}, {\"Date\": \"2016-08-31T00:00:00-04:00\", \"Stock\": \"TSN\", \"Value\": 129442.30371131482}, {\"Date\": \"2016-09-30T00:00:00-04:00\", \"Stock\": \"TSN\", \"Value\": 131793.4510732626}, {\"Date\": \"2016-10-31T00:00:00-04:00\", \"Stock\": \"TSN\", \"Value\": 131129.97335138422}, {\"Date\": \"2016-11-30T00:00:00-05:00\", \"Stock\": \"TSN\", \"Value\": 124128.2272038359}, {\"Date\": \"2016-12-31T00:00:00-05:00\", \"Stock\": \"TSN\", \"Value\": 98456.55614501386}, {\"Date\": \"2017-01-31T00:00:00-05:00\", \"Stock\": \"TSN\", \"Value\": 109692.21441388661}, {\"Date\": \"2017-02-28T00:00:00-05:00\", \"Stock\": \"TSN\", \"Value\": 112707.06933040134}, {\"Date\": \"2017-03-31T00:00:00-04:00\", \"Stock\": \"TSN\", \"Value\": 112937.20572639669}, {\"Date\": \"2017-04-30T00:00:00-04:00\", \"Stock\": \"TSN\", \"Value\": 109031.89689147529}, {\"Date\": \"2017-05-31T00:00:00-04:00\", \"Stock\": \"TSN\", \"Value\": 112356.67298014097}, {\"Date\": \"2017-06-30T00:00:00-04:00\", \"Stock\": \"TSN\", \"Value\": 103273.1680065143}, {\"Date\": \"2017-07-31T00:00:00-04:00\", \"Stock\": \"TSN\", \"Value\": 110513.62002601543}, {\"Date\": \"2017-08-31T00:00:00-04:00\", \"Stock\": \"TSN\", \"Value\": 111078.70473227889}, {\"Date\": \"2017-09-30T00:00:00-04:00\", \"Stock\": \"TSN\", \"Value\": 114371.0908284847}, {\"Date\": \"2017-10-31T00:00:00-04:00\", \"Stock\": \"TSN\", \"Value\": 125820.62483064043}, {\"Date\": \"2017-11-30T00:00:00-05:00\", \"Stock\": \"TSN\", \"Value\": 129932.52041929479}, {\"Date\": \"2017-12-31T00:00:00-05:00\", \"Stock\": \"TSN\", \"Value\": 146561.6952227693}, {\"Date\": \"2018-01-31T00:00:00-05:00\", \"Stock\": \"TSN\", \"Value\": 143413.0694732291}, {\"Date\": \"2018-02-28T00:00:00-05:00\", \"Stock\": \"TSN\", \"Value\": 134767.69947870306}, {\"Date\": \"2018-03-31T00:00:00-04:00\", \"Stock\": \"TSN\", \"Value\": 131132.81342674943}, {\"Date\": \"2018-04-30T00:00:00-04:00\", \"Stock\": \"TSN\", \"Value\": 122595.41554596317}, {\"Date\": \"2018-05-31T00:00:00-04:00\", \"Stock\": \"TSN\", \"Value\": 124238.60435249479}, {\"Date\": \"2018-06-30T00:00:00-04:00\", \"Stock\": \"TSN\", \"Value\": 122132.63101101943}, {\"Date\": \"2018-07-31T00:00:00-04:00\", \"Stock\": \"TSN\", \"Value\": 119137.16412344294}, {\"Date\": \"2018-08-31T00:00:00-04:00\", \"Stock\": \"TSN\", \"Value\": 103316.77055084954}, {\"Date\": \"2018-09-30T00:00:00-04:00\", \"Stock\": \"TSN\", \"Value\": 113092.23608310975}, {\"Date\": \"2018-10-31T00:00:00-04:00\", \"Stock\": \"TSN\", \"Value\": 106063.38609493739}, {\"Date\": \"2018-11-30T00:00:00-05:00\", \"Stock\": \"TSN\", \"Value\": 112389.3584717718}, {\"Date\": \"2018-12-31T00:00:00-05:00\", \"Stock\": \"TSN\", \"Value\": 109342.1135627972}, {\"Date\": \"2019-01-31T00:00:00-05:00\", \"Stock\": \"TSN\", \"Value\": 96787.79845188507}, {\"Date\": \"2019-02-28T00:00:00-05:00\", \"Stock\": \"TSN\", \"Value\": 112335.54478941827}, {\"Date\": \"2019-03-31T00:00:00-04:00\", \"Stock\": \"TSN\", \"Value\": 113515.85056128248}, {\"Date\": \"2019-04-30T00:00:00-04:00\", \"Stock\": \"TSN\", \"Value\": 127223.90114360454}, {\"Date\": \"2019-05-31T00:00:00-04:00\", \"Stock\": \"TSN\", \"Value\": 136532.9951093181}, {\"Date\": \"2019-06-30T00:00:00-04:00\", \"Stock\": \"TSN\", \"Value\": 143187.40660634945}, {\"Date\": \"2019-07-31T00:00:00-04:00\", \"Stock\": \"TSN\", \"Value\": 148506.94984849088}, {\"Date\": \"2019-08-31T00:00:00-04:00\", \"Stock\": \"TSN\", \"Value\": 147461.3752819578}, {\"Date\": \"2019-09-30T00:00:00-04:00\", \"Stock\": \"TSN\", \"Value\": 171835.57514763525}, {\"Date\": \"2019-10-31T00:00:00-04:00\", \"Stock\": \"TSN\", \"Value\": 153471.36875363684}, {\"Date\": \"2019-11-30T00:00:00-05:00\", \"Stock\": \"TSN\", \"Value\": 154171.2421234035}, {\"Date\": \"2019-12-31T00:00:00-05:00\", \"Stock\": \"TSN\", \"Value\": 165778.1704756399}, {\"Date\": \"2020-01-31T00:00:00-05:00\", \"Stock\": \"TSN\", \"Value\": 166499.8779508154}, {\"Date\": \"2020-02-29T00:00:00-05:00\", \"Stock\": \"TSN\", \"Value\": 154100.78198775332}, {\"Date\": \"2020-03-31T00:00:00-04:00\", \"Stock\": \"TSN\", \"Value\": 131318.2719897597}, {\"Date\": \"2020-04-30T00:00:00-04:00\", \"Stock\": \"TSN\", \"Value\": 103021.73925359017}, {\"Date\": \"2020-05-31T00:00:00-04:00\", \"Stock\": \"TSN\", \"Value\": 111715.46440411752}, {\"Date\": \"2020-06-30T00:00:00-04:00\", \"Stock\": \"TSN\", \"Value\": 117342.19545107867}, {\"Date\": \"2020-07-31T00:00:00-04:00\", \"Stock\": \"TSN\", \"Value\": 109770.53811080812}, {\"Date\": \"2020-08-31T00:00:00-04:00\", \"Stock\": \"TSN\", \"Value\": 117004.84210589148}, {\"Date\": \"2020-09-30T00:00:00-04:00\", \"Stock\": \"TSN\", \"Value\": 118175.05165608166}, {\"Date\": \"2020-10-31T00:00:00-04:00\", \"Stock\": \"TSN\", \"Value\": 111722.95859142514}, {\"Date\": \"2020-11-30T00:00:00-05:00\", \"Stock\": \"TSN\", \"Value\": 108723.29725728328}, {\"Date\": \"2020-12-31T00:00:00-05:00\", \"Stock\": \"TSN\", \"Value\": 126815.92349656107}, {\"Date\": \"2021-01-31T00:00:00-05:00\", \"Stock\": \"TSN\", \"Value\": 120623.29512061637}, {\"Date\": \"2021-02-28T00:00:00-05:00\", \"Stock\": \"TSN\", \"Value\": 121934.02273490201}, {\"Date\": \"2021-03-31T00:00:00-04:00\", \"Stock\": \"TSN\", \"Value\": 131050.89448991475}, {\"Date\": \"2021-04-30T00:00:00-04:00\", \"Stock\": \"TSN\", \"Value\": 143154.04803327372}, {\"Date\": \"2021-05-31T00:00:00-04:00\", \"Stock\": \"TSN\", \"Value\": 150094.7653937112}, {\"Date\": \"2021-06-30T00:00:00-04:00\", \"Stock\": \"TSN\", \"Value\": 154016.03939217405}, {\"Date\": \"2021-07-31T00:00:00-04:00\", \"Stock\": \"TSN\", \"Value\": 141979.30749579566}, {\"Date\": \"2021-08-31T00:00:00-04:00\", \"Stock\": \"TSN\", \"Value\": 137960.6829371265}, {\"Date\": \"2021-09-30T00:00:00-04:00\", \"Stock\": \"TSN\", \"Value\": 151513.50616328817}, {\"Date\": \"2021-10-31T00:00:00-04:00\", \"Stock\": \"TSN\", \"Value\": 151436.16746360323}, {\"Date\": \"2021-11-30T00:00:00-05:00\", \"Stock\": \"TSN\", \"Value\": 156309.34279140903}, {\"Date\": \"2021-12-31T00:00:00-05:00\", \"Stock\": \"TSN\", \"Value\": 152194.5168359761}, {\"Date\": \"2022-01-31T00:00:00-05:00\", \"Stock\": \"TSN\", \"Value\": 170747.21886779735}, {\"Date\": \"2022-02-28T00:00:00-05:00\", \"Stock\": \"TSN\", \"Value\": 177087.0550807353}, {\"Date\": \"2022-03-31T00:00:00-04:00\", \"Stock\": \"TSN\", \"Value\": 183377.3787659191}, {\"Date\": \"2022-04-30T00:00:00-04:00\", \"Stock\": \"TSN\", \"Value\": 177924.7131472662}, {\"Date\": \"2022-05-31T00:00:00-04:00\", \"Stock\": \"TSN\", \"Value\": 181559.84544852897}, {\"Date\": \"2022-06-30T00:00:00-04:00\", \"Stock\": \"TSN\", \"Value\": 173131.91359395784}, {\"Date\": \"2022-07-31T00:00:00-04:00\", \"Stock\": \"TSN\", \"Value\": 167455.12827076245}, {\"Date\": \"2022-08-31T00:00:00-04:00\", \"Stock\": \"TSN\", \"Value\": 173190.8000120793}, {\"Date\": \"2022-09-30T00:00:00-04:00\", \"Stock\": \"TSN\", \"Value\": 147853.89668069867}, {\"Date\": \"2022-10-31T00:00:00-04:00\", \"Stock\": \"TSN\", \"Value\": 131847.26475561614}, {\"Date\": \"2022-11-30T00:00:00-05:00\", \"Stock\": \"TSN\", \"Value\": 134376.73765891997}, {\"Date\": \"2022-12-31T00:00:00-05:00\", \"Stock\": \"TSN\", \"Value\": 130338.38032227979}, {\"Date\": \"2023-01-31T00:00:00-05:00\", \"Stock\": \"TSN\", \"Value\": 126596.2116546519}, {\"Date\": \"2023-02-28T00:00:00-05:00\", \"Stock\": \"TSN\", \"Value\": 129641.68356860081}, {\"Date\": \"2023-03-31T00:00:00-04:00\", \"Stock\": \"TSN\", \"Value\": 118962.38457213825}, {\"Date\": \"2023-04-30T00:00:00-04:00\", \"Stock\": \"TSN\", \"Value\": 119203.1507299774}, {\"Date\": \"2023-05-31T00:00:00-04:00\", \"Stock\": \"TSN\", \"Value\": 125061.98816740687}, {\"Date\": \"2023-06-30T00:00:00-04:00\", \"Stock\": \"TSN\", \"Value\": 102485.55600790736}, {\"Date\": \"2023-07-31T00:00:00-04:00\", \"Stock\": \"TSN\", \"Value\": 104915.56881525673}, {\"Date\": \"2023-08-31T00:00:00-04:00\", \"Stock\": \"TSN\", \"Value\": 112023.32529038217}, {\"Date\": \"2023-09-30T00:00:00-04:00\", \"Stock\": \"TSN\", \"Value\": 107443.62988918823}, {\"Date\": \"2023-10-31T00:00:00-04:00\", \"Stock\": \"TSN\", \"Value\": 100599.43404961635}, {\"Date\": \"2023-11-30T00:00:00-05:00\", \"Stock\": \"TSN\", \"Value\": 94940.19809385107}, {\"Date\": \"2023-12-31T00:00:00-05:00\", \"Stock\": \"TSN\", \"Value\": 99510.12560578313}, {\"Date\": \"2024-01-31T00:00:00-05:00\", \"Stock\": \"TSN\", \"Value\": 114643.08960703084}, {\"Date\": \"2024-02-29T00:00:00-05:00\", \"Stock\": \"TSN\", \"Value\": 116914.08281885933}, {\"Date\": \"2024-03-31T00:00:00-04:00\", \"Stock\": \"TSN\", \"Value\": 110840.58165035766}, {\"Date\": \"2024-04-30T00:00:00-04:00\", \"Stock\": \"TSN\", \"Value\": 120528.7025526722}, {\"Date\": \"2024-05-31T00:00:00-04:00\", \"Stock\": \"TSN\", \"Value\": 125612.37999822602}, {\"Date\": \"2024-06-30T00:00:00-04:00\", \"Stock\": \"TSN\", \"Value\": 119828.27101780486}, {\"Date\": \"2024-07-31T00:00:00-04:00\", \"Stock\": \"TSN\", \"Value\": 120542.788013154}, {\"Date\": \"2024-08-31T00:00:00-04:00\", \"Stock\": \"TSN\", \"Value\": 127687.9251334042}, {\"Date\": \"2024-09-30T00:00:00-04:00\", \"Stock\": \"TSN\", \"Value\": 137239.22991957044}, {\"Date\": \"2024-10-31T00:00:00-04:00\", \"Stock\": \"TSN\", \"Value\": 126545.53354683454}, {\"Date\": \"2024-11-30T00:00:00-05:00\", \"Stock\": \"TSN\", \"Value\": 123580.95453093227}, {\"Date\": \"2024-12-31T00:00:00-05:00\", \"Stock\": \"TSN\", \"Value\": 137309.20576491265}, {\"Date\": \"2025-01-31T00:00:00-05:00\", \"Stock\": \"TSN\", \"Value\": 124099.022035774}, {\"Date\": \"2025-02-28T00:00:00-05:00\", \"Stock\": \"TSN\", \"Value\": 123224.03257398018}, {\"Date\": \"2025-03-31T00:00:00-04:00\", \"Stock\": \"TSN\", \"Value\": 133043.28123340235}, {\"Date\": \"2025-04-30T00:00:00-04:00\", \"Stock\": \"TSN\", \"Value\": 135797.53050607297}, {\"Date\": \"2025-05-31T00:00:00-04:00\", \"Stock\": \"TSN\", \"Value\": 130418.13226519419}, {\"Date\": \"2015-01-31T00:00:00-05:00\", \"Stock\": \"INTC\", \"Value\": 36358.22591766064}, {\"Date\": \"2015-02-28T00:00:00-05:00\", \"Stock\": \"INTC\", \"Value\": 33648.36588785337}, {\"Date\": \"2015-03-31T00:00:00-04:00\", \"Stock\": \"INTC\", \"Value\": 34302.63247370576}, {\"Date\": \"2015-04-30T00:00:00-04:00\", \"Stock\": \"INTC\", \"Value\": 31029.477379523916}, {\"Date\": \"2015-05-31T00:00:00-04:00\", \"Stock\": \"INTC\", \"Value\": 33658.068356724194}, {\"Date\": \"2015-06-30T00:00:00-04:00\", \"Stock\": \"INTC\", \"Value\": 34398.513648276035}, {\"Date\": \"2015-07-31T00:00:00-04:00\", \"Stock\": \"INTC\", \"Value\": 30614.786949181922}, {\"Date\": \"2015-08-31T00:00:00-04:00\", \"Stock\": \"INTC\", \"Value\": 29468.498546455725}, {\"Date\": \"2015-09-30T00:00:00-04:00\", \"Stock\": \"INTC\", \"Value\": 28455.220725180327}, {\"Date\": \"2015-10-31T00:00:00-04:00\", \"Stock\": \"INTC\", \"Value\": 30685.001203154898}, {\"Date\": \"2015-11-30T00:00:00-05:00\", \"Stock\": \"INTC\", \"Value\": 34888.85002474646}, {\"Date\": \"2015-12-31T00:00:00-05:00\", \"Stock\": \"INTC\", \"Value\": 36144.05317731575}, {\"Date\": \"2016-01-31T00:00:00-05:00\", \"Stock\": \"INTC\", \"Value\": 35011.009651387845}, {\"Date\": \"2016-02-29T00:00:00-05:00\", \"Stock\": \"INTC\", \"Value\": 31745.782093262642}, {\"Date\": \"2016-03-31T00:00:00-04:00\", \"Stock\": \"INTC\", \"Value\": 31557.59944055405}, {\"Date\": \"2016-04-30T00:00:00-04:00\", \"Stock\": \"INTC\", \"Value\": 33718.938111469535}, {\"Date\": \"2016-05-31T00:00:00-04:00\", \"Stock\": \"INTC\", \"Value\": 31806.98495864818}, {\"Date\": \"2016-06-30T00:00:00-04:00\", \"Stock\": \"INTC\", \"Value\": 33182.21234950117}, {\"Date\": \"2016-07-31T00:00:00-04:00\", \"Stock\": \"INTC\", \"Value\": 34324.62274775939}, {\"Date\": \"2016-08-31T00:00:00-04:00\", \"Stock\": \"INTC\", \"Value\": 36525.59661305778}, {\"Date\": \"2016-09-30T00:00:00-04:00\", \"Stock\": \"INTC\", \"Value\": 38038.013383765836}, {\"Date\": \"2016-10-31T00:00:00-04:00\", \"Stock\": \"INTC\", \"Value\": 39769.89040475684}, {\"Date\": \"2016-11-30T00:00:00-05:00\", \"Stock\": \"INTC\", \"Value\": 36453.95545231262}, {\"Date\": \"2016-12-31T00:00:00-05:00\", \"Stock\": \"INTC\", \"Value\": 35921.32396813831}, {\"Date\": \"2017-01-31T00:00:00-05:00\", \"Stock\": \"INTC\", \"Value\": 38943.12968298905}, {\"Date\": \"2017-02-28T00:00:00-05:00\", \"Stock\": \"INTC\", \"Value\": 38858.01494261798}, {\"Date\": \"2017-03-31T00:00:00-04:00\", \"Stock\": \"INTC\", \"Value\": 38503.17256199805}, {\"Date\": \"2017-04-30T00:00:00-04:00\", \"Stock\": \"INTC\", \"Value\": 38749.64709084089}, {\"Date\": \"2017-05-31T00:00:00-04:00\", \"Stock\": \"INTC\", \"Value\": 38910.38291833739}, {\"Date\": \"2017-06-30T00:00:00-04:00\", \"Stock\": \"INTC\", \"Value\": 38994.72454371516}, {\"Date\": \"2017-07-31T00:00:00-04:00\", \"Stock\": \"INTC\", \"Value\": 36123.024946678204}, {\"Date\": \"2017-08-31T00:00:00-04:00\", \"Stock\": \"INTC\", \"Value\": 39243.03366697939}, {\"Date\": \"2017-09-30T00:00:00-04:00\", \"Stock\": \"INTC\", \"Value\": 38167.133531247164}, {\"Date\": \"2017-10-31T00:00:00-04:00\", \"Stock\": \"INTC\", \"Value\": 42463.512533804635}, {\"Date\": \"2017-11-30T00:00:00-05:00\", \"Stock\": \"INTC\", \"Value\": 50806.10444813125}, {\"Date\": \"2017-12-31T00:00:00-05:00\", \"Stock\": \"INTC\", \"Value\": 48886.10443603885}, {\"Date\": \"2018-01-31T00:00:00-05:00\", \"Stock\": \"INTC\", \"Value\": 51260.392784351636}, {\"Date\": \"2018-02-28T00:00:00-05:00\", \"Stock\": \"INTC\", \"Value\": 52135.67827997507}, {\"Date\": \"2018-03-31T00:00:00-04:00\", \"Stock\": \"INTC\", \"Value\": 52698.68000811425}, {\"Date\": \"2018-04-30T00:00:00-04:00\", \"Stock\": \"INTC\", \"Value\": 53888.37223007812}, {\"Date\": \"2018-05-31T00:00:00-04:00\", \"Stock\": \"INTC\", \"Value\": 58746.26390649508}, {\"Date\": \"2018-06-30T00:00:00-04:00\", \"Stock\": \"INTC\", \"Value\": 63240.00599156897}, {\"Date\": \"2018-07-31T00:00:00-04:00\", \"Stock\": \"INTC\", \"Value\": 55617.54459154275}, {\"Date\": \"2018-08-31T00:00:00-04:00\", \"Stock\": \"INTC\", \"Value\": 54077.5194121031}, {\"Date\": \"2018-09-30T00:00:00-04:00\", \"Stock\": \"INTC\", \"Value\": 53458.93792505695}, {\"Date\": \"2018-10-31T00:00:00-04:00\", \"Stock\": \"INTC\", \"Value\": 51775.809408948575}, {\"Date\": \"2018-11-30T00:00:00-05:00\", \"Stock\": \"INTC\", \"Value\": 53748.754125629974}, {\"Date\": \"2018-12-31T00:00:00-05:00\", \"Stock\": \"INTC\", \"Value\": 56229.38928877596}, {\"Date\": \"2019-01-31T00:00:00-05:00\", \"Stock\": \"INTC\", \"Value\": 52808.298267742226}, {\"Date\": \"2019-02-28T00:00:00-05:00\", \"Stock\": \"INTC\", \"Value\": 54659.04606927774}, {\"Date\": \"2019-03-31T00:00:00-04:00\", \"Stock\": \"INTC\", \"Value\": 60164.05239638404}, {\"Date\": \"2019-04-30T00:00:00-04:00\", \"Stock\": \"INTC\", \"Value\": 61529.8557391998}, {\"Date\": \"2019-05-31T00:00:00-04:00\", \"Stock\": \"INTC\", \"Value\": 57296.92934179935}, {\"Date\": \"2019-06-30T00:00:00-04:00\", \"Stock\": \"INTC\", \"Value\": 49357.27203529611}, {\"Date\": \"2019-07-31T00:00:00-04:00\", \"Stock\": \"INTC\", \"Value\": 54570.11547194621}, {\"Date\": \"2019-08-31T00:00:00-04:00\", \"Stock\": \"INTC\", \"Value\": 56216.86532306466}, {\"Date\": \"2019-09-30T00:00:00-04:00\", \"Stock\": \"INTC\", \"Value\": 53715.149725374824}, {\"Date\": \"2019-10-31T00:00:00-04:00\", \"Stock\": \"INTC\", \"Value\": 58037.0564381128}, {\"Date\": \"2019-11-30T00:00:00-05:00\", \"Stock\": \"INTC\", \"Value\": 64611.39266645847}, {\"Date\": \"2019-12-31T00:00:00-05:00\", \"Stock\": \"INTC\", \"Value\": 66289.0919763117}, {\"Date\": \"2020-01-31T00:00:00-05:00\", \"Stock\": \"INTC\", \"Value\": 69945.00113968166}, {\"Date\": \"2020-02-29T00:00:00-05:00\", \"Stock\": \"INTC\", \"Value\": 74060.7521405422}, {\"Date\": \"2020-03-31T00:00:00-04:00\", \"Stock\": \"INTC\", \"Value\": 67216.31290100233}, {\"Date\": \"2020-04-30T00:00:00-04:00\", \"Stock\": \"INTC\", \"Value\": 59937.81558188334}, {\"Date\": \"2020-05-31T00:00:00-04:00\", \"Stock\": \"INTC\", \"Value\": 66396.03540721688}, {\"Date\": \"2020-06-30T00:00:00-04:00\", \"Stock\": \"INTC\", \"Value\": 71871.5788439678}, {\"Date\": \"2020-07-31T00:00:00-04:00\", \"Stock\": \"INTC\", \"Value\": 68327.95282534738}, {\"Date\": \"2020-08-31T00:00:00-04:00\", \"Stock\": \"INTC\", \"Value\": 56116.986820812}, {\"Date\": \"2020-09-30T00:00:00-04:00\", \"Stock\": \"INTC\", \"Value\": 59410.75500028129}, {\"Date\": \"2020-10-31T00:00:00-04:00\", \"Stock\": \"INTC\", \"Value\": 61106.864887756165}, {\"Date\": \"2020-11-30T00:00:00-05:00\", \"Stock\": \"INTC\", \"Value\": 52006.34185916764}, {\"Date\": \"2020-12-31T00:00:00-05:00\", \"Stock\": \"INTC\", \"Value\": 58393.62900534152}, {\"Date\": \"2021-01-31T00:00:00-05:00\", \"Stock\": \"INTC\", \"Value\": 58523.238875181945}, {\"Date\": \"2021-02-28T00:00:00-05:00\", \"Stock\": \"INTC\", \"Value\": 66794.4953945003}, {\"Date\": \"2021-03-31T00:00:00-04:00\", \"Stock\": \"INTC\", \"Value\": 74537.51301547441}, {\"Date\": \"2021-04-30T00:00:00-04:00\", \"Stock\": \"INTC\", \"Value\": 76517.11497315916}, {\"Date\": \"2021-05-31T00:00:00-04:00\", \"Stock\": \"INTC\", \"Value\": 67875.60349136099}, {\"Date\": \"2021-06-30T00:00:00-04:00\", \"Stock\": \"INTC\", \"Value\": 67852.35535175556}, {\"Date\": \"2021-07-31T00:00:00-04:00\", \"Stock\": \"INTC\", \"Value\": 66802.79332970164}, {\"Date\": \"2021-08-31T00:00:00-04:00\", \"Stock\": \"INTC\", \"Value\": 64023.81035615308}, {\"Date\": \"2021-09-30T00:00:00-04:00\", \"Stock\": \"INTC\", \"Value\": 64427.85864731085}, {\"Date\": \"2021-10-31T00:00:00-04:00\", \"Stock\": \"INTC\", \"Value\": 64655.93502803354}, {\"Date\": \"2021-11-30T00:00:00-05:00\", \"Stock\": \"INTC\", \"Value\": 59482.02576188176}, {\"Date\": \"2021-12-31T00:00:00-05:00\", \"Stock\": \"INTC\", \"Value\": 58747.32290002287}, {\"Date\": \"2022-01-31T00:00:00-05:00\", \"Stock\": \"INTC\", \"Value\": 64319.84627927666}, {\"Date\": \"2022-02-28T00:00:00-05:00\", \"Stock\": \"INTC\", \"Value\": 59170.398272076694}, {\"Date\": \"2022-03-31T00:00:00-04:00\", \"Stock\": \"INTC\", \"Value\": 57026.79649980158}, {\"Date\": \"2022-04-30T00:00:00-04:00\", \"Stock\": \"INTC\", \"Value\": 58598.024699806585}, {\"Date\": \"2022-05-31T00:00:00-04:00\", \"Stock\": \"INTC\", \"Value\": 54761.30606401777}, {\"Date\": \"2022-06-30T00:00:00-04:00\", \"Stock\": \"INTC\", \"Value\": 54150.704316934556}, {\"Date\": \"2022-07-31T00:00:00-04:00\", \"Stock\": \"INTC\", \"Value\": 44612.02147327192}, {\"Date\": \"2022-08-31T00:00:00-04:00\", \"Stock\": \"INTC\", \"Value\": 45373.1643707214}, {\"Date\": \"2022-09-30T00:00:00-04:00\", \"Stock\": \"INTC\", \"Value\": 39383.10420528215}, {\"Date\": \"2022-10-31T00:00:00-04:00\", \"Stock\": \"INTC\", \"Value\": 33443.39843631931}, {\"Date\": \"2022-11-30T00:00:00-05:00\", \"Stock\": \"INTC\", \"Value\": 35092.62921593713}, {\"Date\": \"2022-12-31T00:00:00-05:00\", \"Stock\": \"INTC\", \"Value\": 37489.44976456895}, {\"Date\": \"2023-01-31T00:00:00-05:00\", \"Stock\": \"INTC\", \"Value\": 33593.45980792768}, {\"Date\": \"2023-02-28T00:00:00-05:00\", \"Stock\": \"INTC\", \"Value\": 36534.30223590832}, {\"Date\": \"2023-03-31T00:00:00-04:00\", \"Stock\": \"INTC\", \"Value\": 32221.87674691447}, {\"Date\": \"2023-04-30T00:00:00-04:00\", \"Stock\": \"INTC\", \"Value\": 41838.82567562172}, {\"Date\": \"2023-05-31T00:00:00-04:00\", \"Stock\": \"INTC\", \"Value\": 38544.132741240835}, {\"Date\": \"2023-06-30T00:00:00-04:00\", \"Stock\": \"INTC\", \"Value\": 39762.121966319406}, {\"Date\": \"2023-07-31T00:00:00-04:00\", \"Stock\": \"INTC\", \"Value\": 42942.58032421525}, {\"Date\": \"2023-08-31T00:00:00-04:00\", \"Stock\": \"INTC\", \"Value\": 45727.07702462915}, {\"Date\": \"2023-09-30T00:00:00-04:00\", \"Stock\": \"INTC\", \"Value\": 46929.91965917993}, {\"Date\": \"2023-10-31T00:00:00-04:00\", \"Stock\": \"INTC\", \"Value\": 45455.745978686784}, {\"Date\": \"2023-11-30T00:00:00-05:00\", \"Stock\": \"INTC\", \"Value\": 47801.60557116899}, {\"Date\": \"2023-12-31T00:00:00-05:00\", \"Stock\": \"INTC\", \"Value\": 56254.15382756437}, {\"Date\": \"2024-01-31T00:00:00-05:00\", \"Stock\": \"INTC\", \"Value\": 61475.732717868596}, {\"Date\": \"2024-02-29T00:00:00-05:00\", \"Stock\": \"INTC\", \"Value\": 55765.435772189245}, {\"Date\": \"2024-03-31T00:00:00-04:00\", \"Stock\": \"INTC\", \"Value\": 56522.23331591436}, {\"Date\": \"2024-04-30T00:00:00-04:00\", \"Stock\": \"INTC\", \"Value\": 57425.14213567119}, {\"Date\": \"2024-05-31T00:00:00-04:00\", \"Stock\": \"INTC\", \"Value\": 39173.44088808141}, {\"Date\": \"2024-06-30T00:00:00-04:00\", \"Stock\": \"INTC\", \"Value\": 39228.94358407909}, {\"Date\": \"2024-07-31T00:00:00-04:00\", \"Stock\": \"INTC\", \"Value\": 39941.25594193606}, {\"Date\": \"2024-08-31T00:00:00-04:00\", \"Stock\": \"INTC\", \"Value\": 37623.00227228515}, {\"Date\": \"2024-09-30T00:00:00-04:00\", \"Stock\": \"INTC\", \"Value\": 26196.88719636017}, {\"Date\": \"2024-10-31T00:00:00-04:00\", \"Stock\": \"INTC\", \"Value\": 29572.506129106645}, {\"Date\": \"2024-11-30T00:00:00-05:00\", \"Stock\": \"INTC\", \"Value\": 30237.203552617757}, {\"Date\": \"2024-12-31T00:00:00-05:00\", \"Stock\": \"INTC\", \"Value\": 31188.63217442962}, {\"Date\": \"2025-01-31T00:00:00-05:00\", \"Stock\": \"INTC\", \"Value\": 26353.285127833195}, {\"Date\": \"2025-02-28T00:00:00-05:00\", \"Stock\": \"INTC\", \"Value\": 25258.489663920805}, {\"Date\": \"2025-03-31T00:00:00-04:00\", \"Stock\": \"INTC\", \"Value\": 29637.671519570355}, {\"Date\": \"2025-04-30T00:00:00-04:00\", \"Stock\": \"INTC\", \"Value\": 28738.374712949397}, {\"Date\": \"2025-05-31T00:00:00-04:00\", \"Stock\": \"INTC\", \"Value\": 26040.486778986837}]}}, {\"mode\": \"vega-lite\"});\n",
              "</script>"
            ],
            "text/plain": [
              "alt.LayerChart(...)"
            ]
          },
          "metadata": {},
          "output_type": "display_data"
        }
      ],
      "source": [
        "initial_portfolio_val = 1e6\n",
        "\n",
        "optimized_allocations = optimizedResults[0].to_dict()\n",
        "\n",
        "\n",
        "optimized_returns = calculate_returns(initial_portfolio_val, dataframes, optimized_allocations)\n",
        "\n",
        "graph_returns(optimized_returns, False, True)"
      ]
    },
    {
      "cell_type": "markdown",
      "id": "c538bb61",
      "metadata": {
        "id": "c538bb61"
      },
      "source": [
        "#### 📉 Rechecking Strength After Optimization\n",
        "\n",
        "After optimizing our portfolio allocations to achieve a target return of 40%, we reevaluate the portfolio using updated historical performance metrics.\n",
        "\n",
        "To review:\n",
        "\n",
        "- **CAGR (Annual Return):** Shows the expected annual growth based on optimized allocations.\n",
        "- **Sharpe Ratio:** Tells us how well we’re balancing risk and reward with the new weights.\n",
        "- **Max Drawdown:** Indicates if the worst-case dip has improved.\n",
        "- **Volatility:** Helps assess whether the portfolio became more stable or more erratic.\n",
        "- **Avg Daily Return:** Confirms whether daily trends look stronger after optimization.\n",
        "\n",
        "This second performance check shows whether our changes actually led to a more efficient investment strategy."
      ]
    },
    {
      "cell_type": "code",
      "execution_count": null,
      "id": "4c72f527-99d2-4d8d-a6cd-f1cbc4f6f907",
      "metadata": {
        "id": "4c72f527-99d2-4d8d-a6cd-f1cbc4f6f907"
      },
      "outputs": [
        {
          "name": "stdout",
          "output_type": "stream",
          "text": [
            "📈 CAGR (Annual Return): 14.21%\n",
            "📊 Sharpe Ratio: 0.98\n",
            "📉 Max Drawdown: -34.44%\n",
            "📈 Volatility: 22.08%\n",
            "📅 Average Daily Return: 0.0862%\n"
          ]
        }
      ],
      "source": [
        "optimized_portfolio_info = portfolio_stats(optimized_returns)\n",
        "\n",
        "print(f\"📈 CAGR (Annual Return): {optimized_portfolio_info['cagr']:.2%}\")\n",
        "print(f\"📊 Sharpe Ratio: {optimized_portfolio_info['sharpe']:.2f}\")\n",
        "print(f\"📉 Max Drawdown: {optimized_portfolio_info['drawdown']:.2%}\")\n",
        "print(f\"📈 Volatility: {optimized_portfolio_info['volatility']:.2%}\")\n",
        "print(f\"📅 Average Daily Return: {optimized_portfolio_info['avg_return']:.4%}\")"
      ]
    },
    {
      "cell_type": "markdown",
      "id": "c3101a9e-b443-428f-ac65-b2f65d837ba2",
      "metadata": {
        "id": "c3101a9e-b443-428f-ac65-b2f65d837ba2"
      },
      "source": [
        "### Summary\n",
        "\n",
        "After constructing our initial stock portfolio based on user-selected allocations, we evaluated its historical performance using metrics like annual return, Sharpe ratio, and drawdown. This gave us a baseline understanding of how well our portfolio performed under those weights.\n",
        "\n",
        "We then used optimization techniques (via scipy.minimize) to automatically adjust the stock allocations in order to achieve a target return while minimizing risk. This step simulates what a financial algorithm might do to make our portfolio more efficient.\n",
        "\n",
        "Finally, we re-evaluated the optimized portfolio using the same performance metrics. By comparing the before-and-after results, we can see whether the optimization actually improved our portfolio — either by increasing returns, reducing risk, or improving the Sharpe ratio (risk-adjusted performance).\n",
        "\n",
        "This comparison demonstrates the power of computational thinking in making data-driven investment decisions."
      ]
    }
  ],
  "metadata": {
    "colab": {
      "provenance": []
    },
    "kernelspec": {
      "display_name": "cs181",
      "language": "python",
      "name": "python3"
    },
    "language_info": {
      "codemirror_mode": {
        "name": "ipython",
        "version": 3
      },
      "file_extension": ".py",
      "mimetype": "text/x-python",
      "name": "python",
      "nbconvert_exporter": "python",
      "pygments_lexer": "ipython3",
      "version": "3.12.7"
    }
  },
  "nbformat": 4,
  "nbformat_minor": 5
}
